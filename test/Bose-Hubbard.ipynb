{
 "cells": [
  {
   "cell_type": "markdown",
   "metadata": {},
   "source": [
    "# Bose-Hubbard Model"
   ]
  },
  {
   "cell_type": "code",
   "execution_count": null,
   "metadata": {},
   "outputs": [],
   "source": [
    "using KadanoffBaym\n",
    "using LinearAlgebra\n",
    "using NumericalIntegration\n",
    "using Parameters\n",
    "# using Plots\n",
    "\n",
    "using PyPlot\n",
    "using PyCall\n",
    "using ProgressMeter\n",
    "qt = pyimport(\"qutip\")\n",
    "\n",
    "PyPlot.matplotlib.rc(\"text\", usetex=true)\n",
    "PyPlot.matplotlib.rc(\"font\", family=\"serif\", size=16)"
   ]
  },
  {
   "cell_type": "markdown",
   "metadata": {},
   "source": [
    "## KadanoffBaym.jl"
   ]
  },
  {
   "cell_type": "code",
   "execution_count": null,
   "metadata": {},
   "outputs": [],
   "source": [
    "# NOTE: not type-stable\n",
    "NumericalIntegration._zero(x, y::Vector{<:AbstractMatrix}) = zero(first(y))\n",
    "\n",
    "# Container for problem data\n",
    "struct ProblemData\n",
    "  GL::GreenFunction{ComplexF64, Array{ComplexF64,4}, Lesser}\n",
    "  GG::GreenFunction{ComplexF64, Array{ComplexF64,4}, Greater}\n",
    "  ΣL::GreenFunction{ComplexF64, Array{ComplexF64,4}, Lesser}\n",
    "  ΣG::GreenFunction{ComplexF64, Array{ComplexF64,4}, Greater}\n",
    "  ΣH::GreenFunction{ComplexF64, Array{ComplexF64,4}, Greater}\n",
    "  h::Matrix{ComplexF64}\n",
    "  U::Float64\n",
    "  \n",
    "  # Initialize problem\n",
    "  function ProblemData(GL0::Matrix{ComplexF64}, h::Matrix{ComplexF64}, U::Float64, t0::Float64)\n",
    "    @assert h == h' \"A complex Hamiltonian requires revision of the equations\"\n",
    "    \n",
    "    data = new(\n",
    "      GreenFunction(reshape(GL0, size(GL0)...,1,1), Lesser),\n",
    "      GreenFunction(reshape(GL0 - 1.0im * I, size(GL0)...,1,1), Greater),\n",
    "      GreenFunction(zeros(ComplexF64, size(GL0)...,1,1), Lesser),\n",
    "      GreenFunction(zeros(ComplexF64, size(GL0)...,1,1), Greater),\n",
    "      GreenFunction(zeros(ComplexF64, size(GL0)...,1,1), Greater),\n",
    "      h,\n",
    "      U\n",
    "    )\n",
    "    \n",
    "    return data\n",
    "  end\n",
    "end\n",
    "\n",
    "# Vertical rhs\n",
    "function rhs_vert(data, times, t1, t2)\n",
    "  @unpack GL,GG,ΣL,ΣG,ΣH,h = data\n",
    "  \n",
    "  # real-time collision integral\n",
    "  ∫dt(i,j,A,B) = sign(j-i) * integrate(times[min(i,j):max(i,j)], \n",
    "    [A[t1,t] * B[t,t2] for t=min(i,j):max(i,j)], TrapezoidalFast())\n",
    "  \n",
    "  dGL = -1.0im * ((h - ΣH[t1,t1]) * GL[t1,t2] + ∫dt(1,t1,ΣG,GL) - ∫dt(1,t1,ΣL,GL) + ∫dt(1,t2,ΣL,GL) - ∫dt(1,t2,ΣL,GG))\n",
    "  dGG = -1.0im * ((h - ΣH[t1,t1]) * GG[t1,t2] + ∫dt(1,t1,ΣG,GG) - ∫dt(1,t1,ΣL,GG) + ∫dt(1,t2,ΣG,GL) - ∫dt(1,t2,ΣG,GG))\n",
    "  return [dGL, dGG]\n",
    "end\n",
    "\n",
    "# Diagonal rhs\n",
    "function rhs_diag(data, times, t1)\n",
    "  @unpack GL,GG,h,ΣL,ΣG,ΣH = data\n",
    "  \n",
    "  # commutator\n",
    "  ⋊(a,b) = a * b - b * a\n",
    "  \n",
    "  # real-time collision integral\n",
    "  ∫dt(A,B) = integrate(times, [A[t1,t] * B[t,t1] for t=1:t1], TrapezoidalFast())\n",
    "  I = ∫dt(ΣG,GL) - ∫dt(ΣL,GG) + ∫dt(GL,ΣG) - ∫dt(GG,ΣL)\n",
    "  \n",
    "  dGL = -1.0im * ((h - ΣH[t1,t1]) ⋊ GL[t1,t1] + I)\n",
    "  dGG = -1.0im * ((h - ΣH[t1,t1]) ⋊ GG[t1,t1] + I)\n",
    "  return [dGL, dGG]\n",
    "end\n",
    "\n",
    "# Self-energy\n",
    "function calculate_Σ!(data, times, t1, t2)\n",
    "  @unpack GL,GG,ΣL,ΣG,ΣH,h,U = data\n",
    "  \n",
    "  if (n = size(GL,3)) > size(ΣL,3)\n",
    "    resize!(ΣL, n)\n",
    "    resize!(ΣG, n)\n",
    "    resize!(ΣH, n)\n",
    "  end\n",
    "  \n",
    "  ∫dt(i,j,A) = sign(j-i) * integrate(times[min(i,j):max(i,j)], A, TrapezoidalFast())\n",
    "\n",
    "  ΣL[t1,t2] = -(U/2)^2 * (16GL[t1,t2] .* GL[t1,t2] .* transpose(GG[t2,t1]))\n",
    "  ΣG[t1,t2] = -(U/2)^2 * (16GG[t1,t2] .* GG[t1,t2] .* transpose(GL[t2,t1]))\n",
    "#   ΣH[t1,t2] = (diagm ∘ diag)(\n",
    "#     -(U/2) * (3GL[t1,t1] + GG[t1,t1])\n",
    "#     -(U/2)^2 * 2 * (\n",
    "#       ∫dt(1,t1,[(\n",
    "#         + GG[t1,t] .* (12GL[t,t] + 4GG[t,t]) .* GL[t,t1]\n",
    "#         - GL[t1,t] .* (12GL[t,t] + 4GG[t,t]) .* GG[t,t1]\n",
    "#         + GG[t1,t] * (12GL[t,t] + 4GG[t,t]) * GL[t,t1] \n",
    "#         - GL[t1,t] * (12GL[t,t] + 4GG[t,t]) * GG[t,t1]) for t=1:t1])))\n",
    "end\n",
    "\n",
    "# Integration boundaries\n",
    "tspan = (0.0, 4.0)\n",
    "\n",
    "# Problem data\n",
    "data = begin\n",
    "\n",
    "  # Parameters\n",
    "  h = ComplexF64[2.0 π * 0.1; π * 0.1 0.0];\n",
    "  U = 0.2\n",
    "\n",
    "  # Initial condition\n",
    "  GL0 = -1.0im * [1e-5 0; 0 0]\n",
    "  \n",
    "  ProblemData(GL0, h, U, tspan[1])\n",
    "end\n",
    "\n",
    "# Integration\n",
    "state, _ = kbsolve(\n",
    "  (u, x...) -> rhs_vert(data, x...), \n",
    "  (u, x...) -> (println(\" t: $(x[1][x[2]])\"); rhs_diag(data, x...)), \n",
    "  [data.GL, data.GG], \n",
    "  tspan[1], \n",
    "  tspan[2]; \n",
    "  update_time! = (x...) -> calculate_Σ!(data, x...), \n",
    "  atol=1e-8, \n",
    "  rtol=1e-6, \n",
    "  init_dt=1e-4,\n",
    "  max_dt=1e0)"
   ]
  },
  {
   "cell_type": "code",
   "execution_count": null,
   "metadata": {},
   "outputs": [],
   "source": [
    "length(state.t)"
   ]
  },
  {
   "cell_type": "markdown",
   "metadata": {
    "heading_collapsed": true
   },
   "source": [
    "## QuTiP benchmark"
   ]
  },
  {
   "cell_type": "code",
   "execution_count": null,
   "metadata": {
    "hidden": true
   },
   "outputs": [],
   "source": [
    "J = data.h[2,1]\n",
    "ω₁ = data.h[1,1]\n",
    "ω₂ = data.h[2,2]\n",
    "λ = 0.0\n",
    "\n",
    "times = range(state.t[1], stop=state.t[end], length=length(state.t))\n",
    "n = length(times) - 1\n",
    "stop = Int(n/2) + 1\n",
    "\n",
    "times_tau = 2 .* vcat([-times[stop - (k - 1)] for k in 1:stop - 1], times[1:stop]);"
   ]
  },
  {
   "cell_type": "code",
   "execution_count": null,
   "metadata": {
    "hidden": true
   },
   "outputs": [],
   "source": [
    "# maximal number of photons\n",
    "# Fock-space dimension will be n_max + 1\n",
    "n_max = 7\n",
    "\n",
    "# initial state\n",
    "p = 1e-5\n",
    "psi0_list = [sqrt(p)qt.basis(n_max + 1, 1) + sqrt(1 - p)qt.basis(n_max + 1, 0), qt.basis(n_max + 1, 0)]\n",
    "# psi0_list = [qt.basis(n_max + 1, 1), qt.basis(n_max + 1, 0)]\n",
    "psi0 = qt.tensor(psi0_list)\n",
    "\n",
    "# define annihilation operators\n",
    "a_1_list = [qt.destroy(n_max + 1), qt.qeye(n_max + 1)]\n",
    "a_1  = qt.tensor(a_1_list)    \n",
    "a_2_list = [qt.qeye(n_max + 1), qt.destroy(n_max + 1)]\n",
    "a_2  = qt.tensor(a_2_list)    \n",
    "\n",
    "# Hamiltonian\n",
    "H  = J * a_1.dag() * a_2\n",
    "H += H.dag();\n",
    "H += ω₁ * a_1.dag() * a_1 + ω₂ * a_2.dag() * a_2; # do not give qutip a non-Hermitian Hamiltonian\n",
    "# H += 0.5 * U * a_1.dag() * a_1 * a_1.dag() * a_1\n",
    "# H += 0.5 * U * a_2.dag() * a_2 * a_2.dag() * a_2\n",
    "H += 0.5 * U * a_1.dag() * a_1.dag() * a_1 * a_1\n",
    "H += 0.5 * U * a_2.dag() * a_2.dag() * a_2 * a_2\n",
    "\n",
    "observables = [a_1.dag()*a_1, a_2.dag()*a_2];"
   ]
  },
  {
   "cell_type": "code",
   "execution_count": null,
   "metadata": {
    "hidden": true
   },
   "outputs": [],
   "source": [
    "# quickly solve once for observables\n",
    "me = qt.mesolve(H, psi0, times, [sqrt(λ)a_1, sqrt(λ)a_2], observables)\n",
    "\n",
    "# solve for the time-dependent density matrix\n",
    "t_sols = qt.mesolve(H, psi0, times, [sqrt(λ)a_1, sqrt(λ)a_2]); # t_sols.states returns state vectors"
   ]
  },
  {
   "cell_type": "code",
   "execution_count": null,
   "metadata": {
    "hidden": true
   },
   "outputs": [],
   "source": [
    "@assert n + 1 == length(t_sols.states)\n",
    "\n",
    "tau_t_sols_11 = Dict()\n",
    "tau_t_sols_22 = Dict()\n",
    "@showprogress 1 for k in 1:(n + 1)\n",
    "#     tau_t_sols_11[k] = qt.mesolve(H, a_1 * t_sols.states[k] * t_sols.states[k].dag(), times).states\n",
    "#     tau_t_sols_22[k] = qt.mesolve(H, a_2 * t_sols.states[k] * t_sols.states[k].dag(), times).states\n",
    "    tau_t_sols_11[k] = qt.mesolve(H, a_1 * t_sols.states[k], times).states\n",
    "    tau_t_sols_22[k] = qt.mesolve(H, a_2 * t_sols.states[k], times).states    \n",
    "end\n",
    "\n",
    "a_1_dag_a_1 = zeros(ComplexF64, n + 1, n + 1)\n",
    "a_2_dag_a_2 = zeros(ComplexF64, n + 1, n + 1)\n",
    "@showprogress 1 for k in 1:(n + 1)\n",
    "    for l in 1:(n + 1)\n",
    "        a_1_dag_a_1[k, l] = (a_1.dag() * tau_t_sols_11[k][l]).tr()    \n",
    "        a_2_dag_a_2[k, l] = (a_2.dag() * tau_t_sols_22[k][l]).tr()   \n",
    "    end\n",
    "end"
   ]
  },
  {
   "cell_type": "code",
   "execution_count": null,
   "metadata": {
    "hidden": true
   },
   "outputs": [],
   "source": [
    "# reshape the above array to fit into our two-time \"matrix\" structure \n",
    "# see the plot below for illustration\n",
    "unskewed_a_1_dag_a_1 = zeros(ComplexF64, n + 1, 2*(n + 1) - 1)\n",
    "unskewed_a_2_dag_a_2 = zeros(ComplexF64, n + 1, 2*(n + 1) - 1)\n",
    "for (k, x) in enumerate([a_1_dag_a_1[k, :] for k in 1:(n + 1)])\n",
    "    for (l, y) in enumerate(x)\n",
    "        ind = k + l - 1 # verify the -1 relative to the original python code\n",
    "        unskewed_a_1_dag_a_1[k, ind] = y \n",
    "    end\n",
    "end\n",
    "\n",
    "for (k, x) in enumerate([a_2_dag_a_2[k, :] for k in 1:(n + 1)])\n",
    "    for (l, y) in enumerate(x)\n",
    "        ind = k + l - 1 # verify the -1 relative to the original python code\n",
    "        unskewed_a_2_dag_a_2[k, ind] = y  \n",
    "    end\n",
    "end"
   ]
  },
  {
   "cell_type": "code",
   "execution_count": null,
   "metadata": {
    "hidden": true
   },
   "outputs": [],
   "source": [
    "figure(figsize=(6, 2))\n",
    "\n",
    "subplot(121)\n",
    "imshow(real(a_1_dag_a_1), cmap=\"plasma\")\n",
    "\n",
    "subplot(122)\n",
    "imshow(real(unskewed_a_1_dag_a_1), cmap=\"plasma\")\n",
    "\n",
    "tight_layout()"
   ]
  },
  {
   "cell_type": "markdown",
   "metadata": {},
   "source": [
    "## Plotting"
   ]
  },
  {
   "cell_type": "code",
   "execution_count": null,
   "metadata": {},
   "outputs": [],
   "source": [
    "function equal_time_values(GX::Array{ComplexF64, 4})::Array{Array{ComplexF64, 1}, 2}\n",
    "    \n",
    "    dim = size(GX)[1]\n",
    "    Y = [zeros(ComplexF64, n + 1) for _ in 1:dim, _ in 1:dim]\n",
    "    for b in 1:dim, a in 1:dim\n",
    "        Y[a, b] = [GX[a, b, k, k] for k in 1:n+1]\n",
    "    end\n",
    "    \n",
    "    return Y\n",
    "end \n",
    "\n",
    "GL_tt = equal_time_values(data.GL.data)\n",
    "GG_tt = equal_time_values(data.GG.data);"
   ]
  },
  {
   "cell_type": "code",
   "execution_count": null,
   "metadata": {},
   "outputs": [],
   "source": [
    "function full_tau_array(X::Array{ComplexF64, 2})::Array{ComplexF64, 1}\n",
    "    Y = [X[stop - (k - 1), stop + (k - 1)] for k in 1:stop]\n",
    "    Y_reversed = [Y[stop - (k - 1)] for k in 1:stop]\n",
    "    return vcat(-conj(Y_reversed[1:end-1]), Y)    \n",
    "end\n",
    "\n",
    "function difference_time_values(GX::Array{Array{ComplexF64, 2}, 2})::Array{Array{ComplexF64, 1}, 2}\n",
    "    dim = size(GX)[1]\n",
    "    Y_full = [zeros(ComplexF64, n + 1) for _ in 1:dim, _ in 1:dim]\n",
    "    for b in 1:dim, a in 1:dim\n",
    "        Y_full[a, b] = full_tau_array(GX[a, b])\n",
    "    end \n",
    "    \n",
    "    return Y_full\n",
    "end"
   ]
  },
  {
   "cell_type": "code",
   "execution_count": null,
   "metadata": {},
   "outputs": [],
   "source": [
    "using Interpolations\n",
    "\n",
    "GL_itp = interpolate((state.t, state.t), data.GL.data[1,1,:,:], Gridded(Linear()))\n",
    "GG_itp = interpolate((state.t, state.t), data.GG.data[1,1,:,:], Gridded(Linear()));"
   ]
  },
  {
   "cell_type": "code",
   "execution_count": null,
   "metadata": {},
   "outputs": [],
   "source": [
    "# # Interpolation\n",
    "# pyinterpolate = pyimport(\"scipy.interpolate\")\n",
    "\n",
    "# const interp2d = pyinterpolate.interp2d\n",
    "# # const rectSpline = interpolate.RectBivariateSpline\n",
    "\n",
    "# # Data\n",
    "# GL11 = [data.GL[1,1,t1,t2] for t1 ∈ eachindex(state.t), t2 ∈ eachindex(state.t)]\n",
    "\n",
    "# # Grid\n",
    "# time_grid = hcat([state.t for _ in eachindex(state.t)]...)\n",
    "# tX = vcat([eachcol(time_grid)...]...)\n",
    "# tY = vcat([eachrow(time_grid)...]...)\n",
    "\n",
    "# GL_re_itp = interp2d(tX, tY, vcat([eachrow(real(GL11))...]...))\n",
    "# GL_im_itp = interp2d(tX, tY, vcat([eachrow(imag(GL11))...]...))\n",
    "# GL_itp_(t1,t2) = GL_re_itp(t1,t2) + 1.0im * GL_im_itp(t1,t2)"
   ]
  },
  {
   "cell_type": "code",
   "execution_count": null,
   "metadata": {},
   "outputs": [],
   "source": [
    "# GL = hcat([GL_itp_(t2, times) for t2 in times]...)\n",
    "\n",
    "GL = [GL_itp(t1, t2) for t1 in times, t2 in times]\n",
    "# GG = [GG_itp(t1, t2) for t1 in times, t2 in times]\n",
    "\n",
    "# GL_tau = full_tau_array(GL)\n",
    "# GG_tau = full_tau_array(GG)\n",
    "\n",
    "# a_1_dag_a_1_tau = imag(full_tau_array(1.0im .* unskewed_a_1_dag_a_1))\n",
    "# a_2_dag_a_2_tau = imag(full_tau_array(1.0im .* unskewed_a_2_dag_a_2));"
   ]
  },
  {
   "cell_type": "code",
   "execution_count": null,
   "metadata": {},
   "outputs": [],
   "source": [
    "plot(state.t, data.GL[1,1,:,:] |> imag |> diag)\n",
    "plot!(times, GL[:,:] |> imag |> diag)"
   ]
  },
  {
   "cell_type": "code",
   "execution_count": null,
   "metadata": {},
   "outputs": [],
   "source": [
    "T = state.t[end]"
   ]
  },
  {
   "cell_type": "code",
   "execution_count": null,
   "metadata": {},
   "outputs": [],
   "source": [
    "figure(figsize=(12, 6))\n",
    "subplot(221)\n",
    "plot(times, me.expect[1], c=\"r\", ls=\"--\")\n",
    "plot(times, me.expect[2], c=\"r\", ls=\"--\")\n",
    "plot(state.t, -imag(GL_tt[1, 1]), c=\"b\", alpha=0.5)\n",
    "plot(state.t, -imag(GL_tt[2, 2]), c=\"g\", alpha=0.5)\n",
    "plot(state.t, -imag(GG_tt[1, 1]) .- 1, c=\"k\", alpha=0.5)\n",
    "plot(state.t, -imag(GG_tt[2, 2]) .- 1, c=\"k\", alpha=0.5)\n",
    "xlim(0, T)\n",
    "# ylim(0, N_0)\n",
    "xlabel(\"\\$t\\$\")\n",
    "plt.ticklabel_format(axis=\"y\", style=\"sci\", scilimits=(-2,2))\n",
    "\n",
    "# subplot(222)\n",
    "# plot(times_tau, a_1_dag_a_1_tau, c=\"r\", ls=\"--\")\n",
    "# plot(times_tau, a_2_dag_a_2_tau, c=\"r\", ls=\"--\")\n",
    "# plot(times_tau, -imag(GL_tau[1, 1]) + 0imag(GG_tau[1, 1]), c=\"b\", alpha=0.5)\n",
    "# plot(times_tau, -imag(GL_tau[2, 2]) + 0imag(GG_tau[2, 2]), c=\"g\", alpha=0.5)\n",
    "# xlim(-T, T)\n",
    "# xlabel(\"\\$\\\\tau\\$\")\n",
    "# plt.ticklabel_format(axis=\"y\", style=\"sci\", scilimits=(-2,2))\n",
    "\n",
    "tight_layout()"
   ]
  },
  {
   "cell_type": "code",
   "execution_count": null,
   "metadata": {},
   "outputs": [],
   "source": [
    "plot(times_tau, -imag(GL_tau) - a_1_dag_a_1_tau)\n",
    "plot(times_tau, -imag(GL_tau) - a_2_dag_a_2_tau)"
   ]
  },
  {
   "cell_type": "code",
   "execution_count": null,
   "metadata": {},
   "outputs": [],
   "source": [
    "figure(figsize=(12, 3))\n",
    "subplot(121)\n",
    "plot(times, -imag(GL_tt[1, 1]) - me.expect[1], c=\"k\", ls=\"--\")\n",
    "plot(times, -imag(GG_tt[2, 2]) .- 1 - me.expect[2], c=\"g\", ls=\"-\")\n",
    "xlim(0, T)\n",
    "xlabel(\"\\$t\\$\")\n",
    "\n",
    "subplot(122)\n",
    "# plot(times_tau, -imag(GL_tau[1, 1]) - a_1_dag_a_1_tau, c=\"k\", ls=\"--\")\n",
    "# plot(times_tau, -imag(GL_tau[2, 2]) - a_2_dag_a_2_tau, c=\"k\", ls=\"--\")\n",
    "# axhline(0.0, c=\"r\", ls=\":\")\n",
    "xlim(-T, T)\n",
    "xlabel(\"\\$\\\\tau\\$\")\n",
    " \n",
    "tight_layout()"
   ]
  },
  {
   "cell_type": "code",
   "execution_count": null,
   "metadata": {},
   "outputs": [],
   "source": [
    "plot(times, [GL[1, 1][1, k] for k in 1:n+1])\n",
    "plot(times, [a_1_dag_a_1[1, k] for k in 1:n+1])"
   ]
  },
  {
   "cell_type": "code",
   "execution_count": null,
   "metadata": {},
   "outputs": [],
   "source": []
  }
 ],
 "metadata": {
  "kernelspec": {
   "display_name": "Julia 1.4.2",
   "language": "julia",
   "name": "julia-1.4"
  },
  "language_info": {
   "file_extension": ".jl",
   "mimetype": "application/julia",
   "name": "julia",
   "version": "1.4.2"
  }
 },
 "nbformat": 4,
 "nbformat_minor": 4
}
