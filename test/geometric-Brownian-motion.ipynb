{
 "cells": [
  {
   "cell_type": "markdown",
   "metadata": {},
   "source": [
    "# Geometric Brownian Motion"
   ]
  },
  {
   "cell_type": "code",
   "execution_count": null,
   "metadata": {},
   "outputs": [],
   "source": [
    "using KadanoffBaym\n",
    "# using LinearAlgebra\n",
    "using PyPlot\n",
    "using PyCall\n",
    "qt = pyimport(\"qutip\")\n",
    "np = pyimport(\"numpy\")\n",
    "\n",
    "font_size = 16\n",
    "# font_size = 20\n",
    "\n",
    "PyPlot.matplotlib.rc(\"text\", usetex=true)\n",
    "PyPlot.matplotlib.rc(\"font\", family=\"serif\", size=font_size)\n",
    "PyPlot.matplotlib.rc(\"axes\", labelsize=font_size)\n",
    "PyPlot.matplotlib.rc(\"xtick.major\", size=8)\n",
    "PyPlot.matplotlib.rc(\"ytick.major\", size=8)\n",
    "PyPlot.matplotlib.rc(\"xtick.minor\", visible=true, size=4)\n",
    "PyPlot.matplotlib.rc(\"ytick.minor\", visible=true, size=4)\n",
    "PyPlot.matplotlib.rc(\"xtick\", top=true, direction=\"inout\")\n",
    "PyPlot.matplotlib.rc(\"ytick\", right=true, direction=\"inout\")"
   ]
  },
  {
   "cell_type": "markdown",
   "metadata": {},
   "source": [
    "## KadanoffBaym.jl"
   ]
  },
  {
   "cell_type": "code",
   "execution_count": null,
   "metadata": {},
   "outputs": [],
   "source": [
    "S_bar = [zeros(Float64, 1) for _ in 1:3];\n",
    "Fs = [zeros(Float64, 1) for _ in 1:3];\n",
    "F_anas = [zeros(Float64, 1) for _ in 1:3];\n",
    "solts = [zeros(Float64, 1) for _ in 1:3];"
   ]
  },
  {
   "cell_type": "code",
   "execution_count": null,
   "metadata": {},
   "outputs": [],
   "source": [
    "idx = 1;"
   ]
  },
  {
   "cell_type": "code",
   "execution_count": null,
   "metadata": {},
   "outputs": [],
   "source": [
    "idx = 2;"
   ]
  },
  {
   "cell_type": "code",
   "execution_count": null,
   "metadata": {},
   "outputs": [],
   "source": [
    "idx = 3;"
   ]
  },
  {
   "cell_type": "code",
   "execution_count": null,
   "metadata": {},
   "outputs": [],
   "source": [
    "T = 1.0\n",
    "mu = 1.\n",
    "\n",
    "sigmas = [1., .5, .1];\n",
    "sigma = sigmas[idx]\n",
    "\n",
    "S_0s = [1., 2., 5.]\n",
    "S_0 = S_0s[idx]\n",
    "\n",
    "S = GreenFunction(reshape(Float64[S_0], 1, 1), KadanoffBaym.Classical)\n",
    "F = GreenFunction(reshape(Float64[0.], 1, 1), KadanoffBaym.Classical)\n",
    "\n",
    "f_vert(_, _, t1, t2) = [0., mu * F[t1, t2]]\n",
    "f_diag(_, times, t)  = [mu * S[t, t], 2mu * F[t, t] + sigma^2 * (S[t, t]^2 + F[t, t])]\n",
    "\n",
    "F_ana = (t, t′) -> S_0^2 * exp(mu * (t + t′)) * (exp(sigma^2 * min(t, t′)) - 1);"
   ]
  },
  {
   "cell_type": "code",
   "execution_count": null,
   "metadata": {},
   "outputs": [],
   "source": [
    "sol, _ = kbsolve(f_vert, f_diag, [S, F], (0.0, T), dtini=1e-15, atol=1e-8, rtol=1e-6)#, dtmax=2^-8);"
   ]
  },
  {
   "cell_type": "code",
   "execution_count": null,
   "metadata": {},
   "outputs": [],
   "source": [
    "t_scale = abs(mu)\n",
    "n = length(sol.t) - 1"
   ]
  },
  {
   "cell_type": "markdown",
   "metadata": {},
   "source": [
    "## Plotting"
   ]
  },
  {
   "cell_type": "code",
   "execution_count": null,
   "metadata": {},
   "outputs": [],
   "source": [
    "cmap = \"gist_heat\";\n",
    "colors = [\"C0\", \"C1\", \"C2\"];\n",
    "lss = [\"-\", \"--\", \"-.\"];"
   ]
  },
  {
   "cell_type": "code",
   "execution_count": null,
   "metadata": {},
   "outputs": [],
   "source": [
    "S_bar[idx] = [S.data[k, k] for k in 1:n+1]\n",
    "Fs[idx] = [F.data[k, k] for k in 1:n+1]\n",
    "F_anas[idx] = F_ana.(sol.t, sol.t);\n",
    "solts[idx] = sol.t;"
   ]
  },
  {
   "cell_type": "code",
   "execution_count": null,
   "metadata": {
    "scrolled": false
   },
   "outputs": [],
   "source": [
    "figure(figsize=(7, 3))\n",
    "\n",
    "ax = subplot(121)\n",
    "for (k, F) in enumerate(Fs)\n",
    "    if k == 1\n",
    "        plot(solts[k], S_bar[k], label=\"\\$\\\\bar{S}(t)\\$\", lw=3.5, c=colors[k], ls=lss[k])\n",
    "        plot(solts[k], F, \"-\", label=\"\\$F(t, t)\\$\", lw=1.5, c=colors[k], ls=lss[k])\n",
    "    else\n",
    "        plot(solts[k], F, lw=1.5, c=colors[k], ls=lss[k])\n",
    "        plot(solts[k], S_bar[k], lw=3.5, c=colors[k], ls=lss[k])\n",
    "    end\n",
    "end\n",
    "xlim(0, lambda * T)\n",
    "ylim(0, 15)\n",
    "# yticks([0, 1, 2, 3, 4, 5])\n",
    "xlabel(\"\\$\\\\mu t\\$\")\n",
    "# ylabel(\"\\$F(t, t)\\$\")\n",
    "ax.legend(loc=\"best\", handlelength=1.5, frameon=false, borderpad=0, labelspacing=0.25)\n",
    "leg = ax.get_legend()\n",
    "leg.legendHandles[1].set_color(\"k\")\n",
    "leg.legendHandles[2].set_color(\"k\")\n",
    "\n",
    "ax = subplot(122)\n",
    "plot([], [], label=\"\\$\\\\sigma/\\\\mu\\$\", c=\"w\")\n",
    "for (k, F) in enumerate(Fs)\n",
    "    semilogy(solts[k], abs.(F  .- F_anas[k]), lw=1.5, c=colors[k], label=\"\\$\"*string(sigmas[k]/(mu))*\"\\$\", ls=lss[k])\n",
    "end\n",
    "\n",
    "xlim(0, t_scale * T)\n",
    "ylim(1e-9, 1e-5)\n",
    "# yticks([0, 1, 2, 3, 4, 5])\n",
    "xlabel(\"\\$\\\\mu t\\$\")\n",
    "ylabel(\"\\$\\\\left|F(t, t) - \\\\mathcal{F}(t, t)\\\\right|\\$\", labelpad=16)\n",
    "ax.yaxis.set_label_position(\"right\")\n",
    "ax.legend(loc=\"best\", handlelength=1.9, frameon=false, borderpad=0, labelspacing=0.25)\n",
    "# ticklabel_format(axis=\"y\", style=\"sci\", scilimits=(-0, 0))\n",
    "\n",
    "tight_layout(pad=0.25, w_pad=1, h_pad=0)\n",
    "\n",
    "# savefig(\"geometric_brownian_motion_example_T.pdf\")"
   ]
  },
  {
   "cell_type": "markdown",
   "metadata": {},
   "source": [
    "## Testing"
   ]
  },
  {
   "cell_type": "code",
   "execution_count": null,
   "metadata": {},
   "outputs": [],
   "source": [
    "Y, X = np.meshgrid(sol.t[1:end], sol.t[1:end]);"
   ]
  },
  {
   "cell_type": "code",
   "execution_count": null,
   "metadata": {},
   "outputs": [],
   "source": [
    "figure(figsize=(7, 3))\n",
    "\n",
    "vmin = 0\n",
    "vmax = D/(2lambda)\n",
    "ax = subplot(121) # plt.gca()\n",
    "heatmap = ax.pcolormesh(t_scale * X, t_scale * Y, (F.data), cmap=cmap, rasterized=true)#, vmin=vmin, vmax=vmax)\n",
    "heatmap.set_edgecolor(\"face\")\n",
    "ax.set_aspect(\"equal\")\n",
    "cbar = colorbar(mappable=heatmap)\n",
    "cbar.formatter.set_powerlimits((0, 0))\n",
    "ax.set_xlabel(\"\\$\\\\lambda t\\$\")\n",
    "ax.set_ylabel(\"\\$\\\\lambda t'\\$\")\n",
    "ax.set_xlim(0, t_scale * T)\n",
    "ax.set_ylim(0, t_scale * T)\n",
    "ax.set_xticks(t_scale .* [0, T/2, T])\n",
    "ax.set_yticks(t_scale .* [0, T/2, T])\n",
    "\n",
    "ax = subplot(122)\n",
    "heatmap = ax.pcolormesh(t_scale * X, t_scale * Y, (abs.(F.data .- F_ana.(X, Y))), cmap=\"gist_gray\", rasterized=true)#, vmin=1e-9, vmax=1e-6)\n",
    "# heatmap.set_edgecolor(\"face\")\n",
    "ax.set_aspect(\"equal\")\n",
    "cbar = colorbar(mappable=heatmap)\n",
    "cbar.formatter.set_powerlimits((0, 0))\n",
    "ax.set_xlabel(\"\\$\\\\lambda t\\$\")\n",
    "# ax.set_ylabel(\"\\$\\\\lambda t'\\$\")\n",
    "ax.set_xlim(0, t_scale * T)\n",
    "ax.set_ylim(0, t_scale * T)\n",
    "ax.set_xticks(t_scale .* [0, T/2, T])\n",
    "ax.set_yticks(t_scale .* [0, T/2, T])\n",
    "ax.set_yticklabels([])\n",
    "\n",
    "tight_layout(pad=0.75, w_pad=0.25, h_pad=0)\n",
    "# savefig(\"brownian_motion_example_t_tp.pdf\")"
   ]
  },
  {
   "cell_type": "code",
   "execution_count": null,
   "metadata": {},
   "outputs": [],
   "source": []
  }
 ],
 "metadata": {
  "kernelspec": {
   "display_name": "Julia 1.6.0",
   "language": "julia",
   "name": "julia-1.6"
  },
  "language_info": {
   "file_extension": ".jl",
   "mimetype": "application/julia",
   "name": "julia",
   "version": "1.6.0"
  }
 },
 "nbformat": 4,
 "nbformat_minor": 4
}
