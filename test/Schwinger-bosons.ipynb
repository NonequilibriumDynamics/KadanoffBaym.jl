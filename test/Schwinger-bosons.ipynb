{
 "cells": [
  {
   "cell_type": "markdown",
   "metadata": {},
   "source": [
    "# Schwinger bosons for two coupled spins"
   ]
  },
  {
   "cell_type": "code",
   "execution_count": null,
   "metadata": {},
   "outputs": [],
   "source": [
    "using FFTW, Interpolations\n",
    "using KadanoffBaym\n",
    "using LinearAlgebra\n",
    "using UnPack\n",
    "using ProgressMeter\n",
    "\n",
    "using PyPlot\n",
    "using PyCall\n",
    "qt = pyimport(\"qutip\")\n",
    "np = pyimport(\"numpy\")\n",
    "\n",
    "font_size = 16\n",
    "# font_size = 20\n",
    "\n",
    "PyPlot.matplotlib.rc(\"text\", usetex=true)\n",
    "PyPlot.matplotlib.rc(\"font\", family=\"serif\", size=font_size)\n",
    "PyPlot.matplotlib.rc(\"axes\", labelsize=font_size)\n",
    "PyPlot.matplotlib.rc(\"xtick.major\", size=8)\n",
    "PyPlot.matplotlib.rc(\"ytick.major\", size=8)\n",
    "PyPlot.matplotlib.rc(\"xtick.minor\", visible=true, size=4)\n",
    "PyPlot.matplotlib.rc(\"ytick.minor\", visible=true, size=4)\n",
    "PyPlot.matplotlib.rc(\"xtick\", top=true, direction=\"inout\")\n",
    "PyPlot.matplotlib.rc(\"ytick\", right=true, direction=\"inout\")"
   ]
  },
  {
   "cell_type": "markdown",
   "metadata": {},
   "source": [
    "### Hamiltonian\n",
    "\n",
    "\\begin{align}\n",
    "    H &=  h \\sum_{i=1, 2} \\left(a^\\dagger_{i} a^{\\phantom{\\dagger}}_{i} - b^\\dagger_{i} b^{\\phantom{\\dagger}}_{i} \\right) + J \\left( a^\\dagger_{1}b^{\\phantom{\\dagger}}_{1} b^\\dagger_{2} a^{\\phantom{\\dagger}}_{2} + \\mathrm{h.c.}\\right) \n",
    "\\end{align}\n",
    "\n",
    "https://journals.aps.org/prb/abstract/10.1103/PhysRevB.98.224304"
   ]
  },
  {
   "cell_type": "markdown",
   "metadata": {},
   "source": [
    "## KadanoffBaym.jl"
   ]
  },
  {
   "cell_type": "code",
   "execution_count": null,
   "metadata": {},
   "outputs": [],
   "source": [
    "function integrate(x::AbstractVector, y::AbstractVector)\n",
    "    if isone(length(x))\n",
    "        return zero(first(y))\n",
    "    end\n",
    "\n",
    "    @inbounds retval = (x[2] - x[1]) * (y[1] + y[2])\n",
    "    @inbounds @fastmath @simd for i in 2:(length(y) - 1)\n",
    "        retval += (x[i+1] - x[i]) * (y[i] + y[i+1])\n",
    "    end\n",
    "    return 1//2 * retval\n",
    "end;"
   ]
  },
  {
   "cell_type": "code",
   "execution_count": null,
   "metadata": {},
   "outputs": [],
   "source": [
    "# NOTE: not type-stable\n",
    "\n",
    "# Container for problem data\n",
    "struct Problem\n",
    "    GL::GreenFunction{ComplexF64, Array{ComplexF64, 4}, Lesser}\n",
    "    GG::GreenFunction{ComplexF64, Array{ComplexF64, 4}, Greater}\n",
    "    ΣL::GreenFunction{ComplexF64, Array{ComplexF64, 4}, Lesser}\n",
    "    ΣG::GreenFunction{ComplexF64, Array{ComplexF64, 4}, Greater}\n",
    "    L::Int64\n",
    "    H::Matrix{ComplexF64}\n",
    "    J::Float64\n",
    "  \n",
    "    # Initialize problem\n",
    "    function Problem(GL0::Matrix{ComplexF64}, L::Int64, H::Matrix{ComplexF64}, J::Float64)\n",
    "        @assert H == H' \"A complex Hamiltonian requires revision of the equations\"\n",
    "\n",
    "        problem = new(\n",
    "          GreenFunction(reshape(GL0, size(GL0)..., 1, 1), Lesser),\n",
    "          GreenFunction(reshape(GL0 - 1.0im * I, size(GL0)..., 1, 1), Greater),\n",
    "          GreenFunction(zeros(ComplexF64, size(GL0)..., 1, 1), Lesser),\n",
    "          GreenFunction(zeros(ComplexF64, size(GL0)..., 1, 1), Greater),\n",
    "          L,\n",
    "          H,\n",
    "          J\n",
    "        )\n",
    "\n",
    "        # Initialize self-energies\n",
    "        self_energies!(problem, 1, 1)\n",
    "\n",
    "        return problem\n",
    "    end\n",
    "end"
   ]
  },
  {
   "cell_type": "code",
   "execution_count": null,
   "metadata": {
    "scrolled": true
   },
   "outputs": [],
   "source": [
    "# Vertical rhs\n",
    "function f_vert(problem, times, t1, t2)\n",
    "  @unpack GL, GG, ΣL, ΣG, L, H = problem\n",
    "  \n",
    "  # real-time collision integral\n",
    "  ∫dt(i, j, A, B) = sign(j-i) * integrate(times[min(i, j):max(i, j)], \n",
    "    [A[t1, t] .* B[t, t2] for t=min(i, j):max(i, j)])\n",
    "\n",
    "  dGL = -1.0im * (H * GL[t1, t2] + ∫dt(1, t1, ΣG, GL) - ∫dt(1, t1, ΣL, GL) + ∫dt(1, t2, ΣL, GL) - ∫dt(1, t2, ΣL, GG))\n",
    "  dGG = -1.0im * (H * GG[t1, t2] + ∫dt(1, t1, ΣG, GG) - ∫dt(1, t1, ΣL, GG) + ∫dt(1, t2, ΣG, GL) - ∫dt(1, t2, ΣG, GG))\n",
    "  return [dGL, dGG] .|> (diagm ∘ diag)\n",
    "end\n",
    "\n",
    "# Diagonal rhs\n",
    "function f_diag(problem, times, t1)\n",
    "  @unpack GL, GG, ΣL, ΣG, L, H = problem\n",
    "  \n",
    "  # commutator\n",
    "  ⋊(a, b) = a * b - b * a\n",
    "  \n",
    "  # real-time collision integral\n",
    "  ∫dt(A, B) = integrate(times, [A[t1, t] .* B[t, t1] for t=1:t1])\n",
    "\n",
    "  I = ∫dt(ΣG, GL) - ∫dt(ΣL, GG) + ∫dt(GL, ΣG) - ∫dt(GG, ΣL)\n",
    "  \n",
    "  dGL = -1.0im * (H ⋊ GL[t1, t1] + I)\n",
    "  dGG = -1.0im * (H ⋊ GG[t1, t1] + I)\n",
    "  return [dGL, dGG] .|> (diagm ∘ diag)\n",
    "end\n",
    "\n",
    "# Self-energy\n",
    "function self_energies!(problem, t1, t2)\n",
    "    @unpack GL, GG, ΣL, ΣG, L, H, J = problem\n",
    "\n",
    "    if (n = size(GL, 3)) > size(ΣL, 3)\n",
    "    resize!(ΣL, n)\n",
    "    resize!(ΣG, n)\n",
    "    end\n",
    "  \n",
    "    NNs = [1, 0] # nearest neighbours\n",
    "    N_mu = mu -> NNs[mu % L + 1] + mu - mu % L\n",
    "    idxs = [[(mu + L) % 2L, N_mu(mu), (N_mu(mu) + L) % 2L] .+ 1 for mu in 0:2L-1]\n",
    "    idxs = hcat(idxs...)\n",
    "    \n",
    "    ΣL[t1, t2] = -J^2 * GL[t1, t2][idxs[1, :], idxs[1, :]] .* GL[t1, t2][idxs[2, :], idxs[2, :]] .* GG[t2, t1][idxs[3, :], idxs[3, :]] |> (diagm ∘ diag)\n",
    "    ΣG[t1, t2] = -J^2 * GG[t1, t2][idxs[1, :], idxs[1, :]] .* GG[t1, t2][idxs[2, :], idxs[2, :]] .* GL[t2, t1][idxs[3, :], idxs[3, :]] |> (diagm ∘ diag)\n",
    "    \n",
    "end\n",
    "\n",
    "# Integration boundaries\n",
    "tspan = (0.0, 5.0)\n",
    "\n",
    "# Problem data\n",
    "problem = begin\n",
    "\n",
    "    # Parameters\n",
    "    L = 2\n",
    "    h = 5.0\n",
    "    H = ComplexF64[-h 0 0 0; 0 -h 0 0; 0 0 h 0; 0 0 0 h];\n",
    "    J = 0*1.\n",
    "\n",
    "    # Initial condition\n",
    "    delta_n = 0.1\n",
    "#     GL0 = -1.0im * [0.5 + delta_n 0 0 0; 0 0.5 0 0; 0 0 0.5 - delta_n 0; 0 0 0 0.5]\n",
    "    GL0 = -1.0im .* 2e-1 .* [2 0 0 0; 0 1 0 0; 0 0 2 0; 0 0 0 0.5]\n",
    "\n",
    "    Problem(GL0, L, H, J)\n",
    "end\n",
    "\n",
    "# Integration\n",
    "sol = kbsolve(\n",
    "  (u, x...) -> f_vert(problem, x...), \n",
    "  (u, x...) -> (println(\" t: $(x[1][x[2]])\"); f_diag(problem, x...)), \n",
    "  [problem.GL, problem.GG], \n",
    "  (tspan[1], \n",
    "  tspan[2]); \n",
    "  update_time = (_, x...) -> self_energies!(problem, x...), \n",
    "  atol=1e-5, \n",
    "  rtol=1e-3, \n",
    "  dtini=1e-5,\n",
    "  dtmax=5e-2);"
   ]
  },
  {
   "cell_type": "code",
   "execution_count": null,
   "metadata": {},
   "outputs": [],
   "source": [
    "state = sol;"
   ]
  },
  {
   "cell_type": "markdown",
   "metadata": {},
   "source": [
    "## QuTiP benchmark"
   ]
  },
  {
   "cell_type": "code",
   "execution_count": null,
   "metadata": {},
   "outputs": [],
   "source": [
    "# time parameters\n",
    "times = range(first(sol.t), stop=last(sol.t), length=length(sol.t)) # range(tspan[1]; stop=tspan[2], length=length(state.t));\n",
    "n = length(state.t) - 1"
   ]
  },
  {
   "cell_type": "markdown",
   "metadata": {},
   "source": [
    "### Schwinger-Boson Hamiltonian"
   ]
  },
  {
   "cell_type": "code",
   "execution_count": null,
   "metadata": {},
   "outputs": [],
   "source": [
    "n_max = 2; # Fock-space truncation\n",
    "\n",
    "# psi0_list = [qt.basis(n_max + 1, 1),\n",
    "#              qt.basis(n_max + 1, 0),\n",
    "#              qt.basis(n_max + 1, 0),\n",
    "#              qt.basis(n_max + 1, 1)]\n",
    "\n",
    "psi0_list = [(sqrt(1 - 1.0im * problem.GL[1, 1][k, k]) * qt.basis(n_max + 1, 0) \n",
    "        + sqrt(1.0im * problem.GL[1, 1][k, k]) * qt.basis(n_max + 1, 1)).unit() for k in 1:2*L]\n",
    "\n",
    "psi0 = qt.tensor(psi0_list);\n",
    "\n",
    "# operators\n",
    "\n",
    "id_list = [qt.qeye(n_max + 1), qt.qeye(n_max + 1), qt.qeye(n_max + 1), qt.qeye(n_max + 1)]\n",
    "\n",
    "b1_list = [qt.qeye(n_max + 1), qt.qeye(n_max + 1), qt.qeye(n_max + 1), qt.qeye(n_max + 1)] # cp.aepcopy(id_list)\n",
    "b1_list[1] = qt.destroy(n_max + 1)\n",
    "b1 = qt.tensor(b1_list)\n",
    "\n",
    "b2_list = [qt.qeye(n_max + 1), qt.qeye(n_max + 1), qt.qeye(n_max + 1), qt.qeye(n_max + 1)] # cp.aepcopy(id_list)\n",
    "b2_list[2] = qt.destroy(n_max + 1)\n",
    "b2 = qt.tensor(b2_list)\n",
    "\n",
    "a1_list = [qt.qeye(n_max + 1), qt.qeye(n_max + 1), qt.qeye(n_max + 1), qt.qeye(n_max + 1)] # cp.aepcopy(id_list)\n",
    "a1_list[3] = qt.destroy(n_max + 1)\n",
    "a1 = qt.tensor(a1_list)\n",
    "\n",
    "a2_list = [qt.qeye(n_max + 1), qt.qeye(n_max + 1), qt.qeye(n_max + 1), qt.qeye(n_max + 1)] # cp.aepcopy(id_list)\n",
    "a2_list[4] = qt.destroy(n_max + 1)\n",
    "a2 = qt.tensor(a2_list);"
   ]
  },
  {
   "cell_type": "code",
   "execution_count": null,
   "metadata": {},
   "outputs": [],
   "source": [
    "# stupid hack because this\n",
    "# rho0 = qt.Qobj((psi0 * psi0.dag()).diag() |> diagm |> PyObject, type=\"oper\", dims=b1.dims)\n",
    "# does not work...\n",
    "rho0 = psi0 * psi0.dag();\n",
    "for i in 1:rho0.shape[1], j in 1:rho0.shape[2] \n",
    "    if i != j\n",
    "        rho0.data[i, j] = 0.0\n",
    "    end\n",
    "end"
   ]
  },
  {
   "cell_type": "code",
   "execution_count": null,
   "metadata": {},
   "outputs": [],
   "source": [
    "H  = -h * b1.dag() * b1\n",
    "H += -h * b2.dag() * b2\n",
    "H += +h * a1.dag() * a1\n",
    "H += +h * a2.dag() * a2\n",
    "H += J * (a1.dag() * b1 * b2.dag() * a2 + b1.dag() * a1 * a2.dag() * b2)\n",
    "\n",
    "# observables\n",
    "obs = [b1.dag() * b1, b2.dag() * b2, a1.dag() * a1, a2.dag() * a2,\n",
    "       b1.dag() * a1, b2.dag() * a2, b2.dag() * a1, a2.dag() * b1,\n",
    "       b1 * b1.dag()];"
   ]
  },
  {
   "cell_type": "markdown",
   "metadata": {},
   "source": [
    "### Simulation"
   ]
  },
  {
   "cell_type": "code",
   "execution_count": null,
   "metadata": {},
   "outputs": [],
   "source": [
    "# quickly solve once for observables\n",
    "# me = qt.mesolve(H, psi0, times, [], obs)\n",
    "me = qt.mesolve(H, rho0, times, [], obs)\n",
    "\n",
    "# solve for the time-apenant ansity matrix\n",
    "# t_sols = qt.mesolve(H, psi0, times); # t_sols.states returns state vectors\n",
    "t_sols = qt.mesolve(H, rho0, times); # t_sols.states returns density matrices"
   ]
  },
  {
   "cell_type": "markdown",
   "metadata": {},
   "source": [
    "#### Two times"
   ]
  },
  {
   "cell_type": "code",
   "execution_count": null,
   "metadata": {},
   "outputs": [],
   "source": [
    "# -i<X(t2)Y(t1)>\n",
    "function two_time_average(X, Y, rho_t1)\n",
    "    X_t2_Y_t1 = zeros(ComplexF64, n + 1, n + 1)\n",
    "    @showprogress 1 for k in 1:(n + 1)\n",
    "        Y_rho_t1 = qt.mesolve(H, Y * rho_t1.states[k], times).states\n",
    "        for l in 1:(n + 1)\n",
    "            X_t2_Y_t1[k, l] = -1.0im * (X * Y_rho_t1[l]).tr()    \n",
    "        end\n",
    "    end\n",
    "    \n",
    "    unskewed_X_t2_Y_t1 = zeros(ComplexF64, n + 1, 2*(n + 1) - 1)\n",
    "    for (k, x) in enumerate([X_t2_Y_t1[k, :] for k in 1:(n + 1)])\n",
    "        for (l, y) in enumerate(x)\n",
    "            ind = k + l - 1\n",
    "            unskewed_X_t2_Y_t1[k, ind] = y \n",
    "        end\n",
    "    end    \n",
    "    return unskewed_X_t2_Y_t1[:, 1:n+1]\n",
    "end;"
   ]
  },
  {
   "cell_type": "code",
   "execution_count": null,
   "metadata": {},
   "outputs": [],
   "source": [
    "figure(figsize=(6, 2))\n",
    "subplot(121)\n",
    "# imshow(real(b1_dag_b1_minus_b1_b1_dag), cmap=\"plasma\")\n",
    "imshow(real(full_square(unskewed_b1_dag_b1) |> transpose), cmap=\"plasma\")\n",
    "\n",
    "subplot(122)\n",
    "imshow(real(full_square(unskewed_b1_dag_b1)), cmap=\"plasma\")\n",
    "\n",
    "tight_layout()"
   ]
  },
  {
   "cell_type": "code",
   "execution_count": null,
   "metadata": {},
   "outputs": [],
   "source": [
    "create_destroy = [zeros(ComplexF64, n + 1, n + 1) for _ in 1:2L]\n",
    "destroy_create = [zeros(ComplexF64, n + 1, n + 1) for _ in 1:2L];"
   ]
  },
  {
   "cell_type": "code",
   "execution_count": null,
   "metadata": {},
   "outputs": [],
   "source": [
    "conj(1.0im)"
   ]
  },
  {
   "cell_type": "code",
   "execution_count": null,
   "metadata": {},
   "outputs": [],
   "source": [
    "destroyers = [b1, b2, a1, a2]\n",
    "for k in 1:1#2L\n",
    "    create_destroy[k] = two_time_average(destroyers[k].dag(), destroyers[k], t_sols)\n",
    "    destroy_create[k] = two_time_average(destroyers[k], destroyers[k].dag(), t_sols)\n",
    "    # flip real part when creation operator is to the right \n",
    "    # (equivalent to flipping the sign of tau)\n",
    "    destroy_create[k] = -conj(destroy_create[k]) #-1.0 * real(destroy_create[k]) + 1.0im * imag(destroy_create[k])\n",
    "end"
   ]
  },
  {
   "cell_type": "code",
   "execution_count": null,
   "metadata": {},
   "outputs": [],
   "source": [
    "unskewed_b1_dag_b1 = create_destroy[1]\n",
    "unskewed_b1_b1_dag = destroy_create[1]\n",
    "# unskewed_b1_dag_b1_minus_b1_b1_dag = (unskewed_b1_dag_b1 .- unskewed_b1_b1_dag) #unskewed_b1_dag_b1_minus_b1_b1_dag[:, 1:n+1];"
   ]
  },
  {
   "cell_type": "code",
   "execution_count": null,
   "metadata": {},
   "outputs": [],
   "source": [
    "full_square = A -> (A - adjoint(A) - (A |> diag |> diagm)) \n",
    "\n",
    "# unskewed_b1_dag_b1 = full_square(unskewed_b1_dag_b1)\n",
    "# unskewed_b1_b1_dag = full_square(unskewed_b1_b1_dag)\n",
    "# unskewed_b1_dag_b1_minus_b1_b1_dag = full_square(unskewed_b1_dag_b1_minus_b1_b1_dag);"
   ]
  },
  {
   "cell_type": "markdown",
   "metadata": {},
   "source": [
    "## Plotting"
   ]
  },
  {
   "cell_type": "code",
   "execution_count": null,
   "metadata": {},
   "outputs": [],
   "source": [
    "T = sol.t[end]\n",
    "t_scale = 1#J\n",
    "ω_scale = 1#1/J;"
   ]
  },
  {
   "cell_type": "markdown",
   "metadata": {
    "heading_collapsed": true
   },
   "source": [
    "### Equal-time"
   ]
  },
  {
   "cell_type": "code",
   "execution_count": null,
   "metadata": {
    "hidden": true,
    "scrolled": true
   },
   "outputs": [],
   "source": [
    "xpad = 8\n",
    "ypad = 5\n",
    "\n",
    "figure(figsize=(7, 3))\n",
    "\n",
    "ax = subplot(121)\n",
    "idx = 1\n",
    "ax.plot(state.t, problem.GL.data[idx, idx ,:,:] |> ((-) ∘ imag ∘ diag), ls=\"-\", label=\"\\$\\\\mu=\"*string(idx - 1)*\"\\$\", c=\"C0\")\n",
    "ax.plot(times, me.expect[idx], \"--\", c=\"C0\", lw=3, alpha=0.5)\n",
    "idx = 2\n",
    "ax.plot(state.t, problem.GL.data[idx, idx ,:,:] |> ((-) ∘ imag ∘ diag), ls=\":\", label=\"\\$\\\\mu=\"*string(idx - 1)*\"\\$\", c=\"C1\")\n",
    "ax.plot(times, me.expect[idx], \"-.\", c=\"C1\", lw=3, alpha=0.5)\n",
    "ax.set_xlabel(\"\\$Jt\\$\") \n",
    "ylabel(\"\\$-\\\\mathrm{Im}\\\\; G^<_{\\\\mu,\\\\, \\\\mu}(t, t)\\$\", labelpad=10)\n",
    "ax.set_xticks([0, 2.5, 5])\n",
    "ax.set_xlim(0, state.t[end]) \n",
    "ax.set_ylim(0, 0.5)\n",
    "ax.legend(loc=\"best\", handlelength=1.4, frameon=false, borderpad=0, labelspacing=0.25)\n",
    "\n",
    "ax = subplot(122)\n",
    "idx = 3\n",
    "ax.plot(state.t, problem.GL.data[idx, idx ,:,:] |> ((-) ∘ imag ∘ diag), ls=\"-\", label=\"\\$\\\\mu=\"*string(idx - 1)*\"\\$\", c=\"C2\")\n",
    "ax.plot(times, me.expect[idx], \"--\", c=\"C2\", lw=3, alpha=0.5)\n",
    "idx = 4\n",
    "ax.plot(state.t, problem.GL.data[idx, idx ,:,:] |> ((-) ∘ imag ∘ diag), ls=\":\", label=\"\\$\\\\mu=\"*string(idx - 1)*\"\\$\", c=\"C3\")\n",
    "ax.plot(times, me.expect[idx], \"-.\", c=\"C3\", lw=3, alpha=0.5)\n",
    "ax.set_xlabel(\"\\$Jt\\$\") \n",
    "# ylabel(\"\\$-\\\\mathrm{Im}\\\\; G^<_{ii}(t, t)\\$\")\n",
    "ax.set_xticks([0, 2.5, 5])\n",
    "ax.set_yticklabels([])\n",
    "ax.set_xlim(0, state.t[end]) \n",
    "ax.set_ylim(0, 0.5)\n",
    "# ax.ticklabel_format(style=\"sci\", axis=\"y\", scilimits=(0, 0))\n",
    "ax.legend(loc=\"best\", handlelength=1.4, frameon=false, borderpad=0, labelspacing=0.25)\n",
    "tight_layout(pad=0.25, w_pad=1, h_pad=0)\n",
    "# savefig(\"interacting_bosons_example_T.pdf\")"
   ]
  },
  {
   "cell_type": "markdown",
   "metadata": {},
   "source": [
    "### Relative-time"
   ]
  },
  {
   "cell_type": "code",
   "execution_count": null,
   "metadata": {},
   "outputs": [],
   "source": [
    "idx = 1;"
   ]
  },
  {
   "cell_type": "code",
   "execution_count": null,
   "metadata": {
    "scrolled": true
   },
   "outputs": [],
   "source": [
    "ρ_11_kb = interpolate((sol.t, sol.t), view(problem.GL.data .- 0*problem.GG.data, idx, idx, :, : ), Gridded(Linear()));\n",
    "# ρ_11_qt = interpolate((times, times), view(unskewed_b1_dag_b1 - unskewed_b1_b1_dag, :, : ), Gridded(Linear()));\n",
    "# interpolate((times, times), view(full_square(unskewed_b1_dag_b1_minus_b1_b1_dag), :, : ), Gridded(Linear()));\n",
    "ρ_11_qt = full_square(create_destroy[idx]); # unskewed_b1_dag_b1_minus_b1_b1_dag"
   ]
  },
  {
   "cell_type": "code",
   "execution_count": null,
   "metadata": {},
   "outputs": [],
   "source": [
    "ρ_11_kb = interpolate((sol.t, sol.t), view(problem.GG.data, idx, idx, :, : ), Gridded(Linear()));\n",
    "ρ_11_qt = full_square(destroy_create[idx]);"
   ]
  },
  {
   "cell_type": "code",
   "execution_count": null,
   "metadata": {},
   "outputs": [],
   "source": [
    "ρ_11_kb_wigner, _ = wigner_transform([ρ_11_kb(t1, t2) for t1 in times, t2 in times]; ts=times, fourier=false);\n",
    "ρ_11_kb_wigner = ρ_11_kb_wigner\n",
    "\n",
    "ρ_11_qt_wigner, (taus, ts) = wigner_transform([ρ_11_qt[t1, t2] for t1 in 1:n+1, t2 in 1:n+1]; ts=times, fourier=false);\n",
    "ρ_11_qt_wigner = ρ_11_qt_wigner;\n",
    "\n",
    "ρ_11_kb_FFT, _ = wigner_transform([ρ_11_kb(t1, t2) for t1 in times, t2 in times]; ts=times, fourier=true);\n",
    "ρ_11_kb_FFT = -ρ_11_kb_FFT\n",
    "\n",
    "ρ_11_qt_FFT, (ωs, ts) = wigner_transform([ρ_11_qt[t1, t2] for t1 in 1:n+1, t2 in 1:n+1]; ts=times, fourier=true);\n",
    "ρ_11_qt_FFT = -ρ_11_qt_FFT;"
   ]
  },
  {
   "cell_type": "code",
   "execution_count": null,
   "metadata": {},
   "outputs": [],
   "source": [
    "xpad = 8\n",
    "ypad = 5\n",
    "\n",
    "figure(figsize=(7, 3))\n",
    "\n",
    "ax = subplot(121)\n",
    "plot(t_scale * taus, ρ_11_kb_wigner[:, Int(floor(n/2))] |> real, ls=\"-\", c=\"C0\", lw=1.5)\n",
    "plot(t_scale * taus, ρ_11_qt_wigner[:, Int(floor(n/2))] |> real, ls=\"--\", c=\"C0\", lw=2.5)\n",
    "plot(t_scale * taus, ρ_11_kb_wigner[:, Int(floor(n/2))] |> imag, ls=\"-\", c=\"C3\", lw=1.5)\n",
    "plot(t_scale * taus, ρ_11_qt_wigner[:, Int(floor(n/2))] |> imag, ls=\"--\", c=\"C3\", lw=2.5)\n",
    "ax.set_xlabel(\"\\$J \\\\tau\\$\")\n",
    "# ax.set_xlim(-t_scale * T, t_scale * T)\n",
    "# ax.set_ylim(-1.0, 1.0)\n",
    "# ax.set_xticks(t_scale .* [-T/2, -T/4, 0, T/4, T/2])\n",
    "ax.xaxis.set_tick_params(pad=xpad)\n",
    "ax.yaxis.set_tick_params(pad=ypad)\n",
    "ax.set_ylabel(\"\\$A_{0,\\\\, 0}(\\\\tau, T)\\$\")\n",
    "\n",
    "ax = subplot(122)\n",
    "plot(ω_scale * ωs, ρ_11_kb_FFT[:, Int(floor(n/2))] |> real, ls=\"-\", c=\"C0\", lw=1.5)\n",
    "plot(ω_scale * ωs, ρ_11_qt_FFT[:, Int(floor(n/2))] |> real, ls=\"--\", c=\"C0\", lw=2.5)\n",
    "plot(ω_scale * ωs, ρ_11_kb_FFT[:, Int(floor(n/2))] |> imag, ls=\"-\", c=\"C3\", lw=1.5)\n",
    "plot(ω_scale * ωs, ρ_11_qt_FFT[:, Int(floor(n/2))] |> imag, ls=\"--\", c=\"C3\", lw=2.5)\n",
    "ax.set_xlabel(\"\\$\\\\omega/J\\$\")\n",
    "ax.set_xlim(10 .* (-1, 1))\n",
    "# ax.set_ylim(0, 6.0)\n",
    "ax.set_xticks([x for x in -10:5:10])\n",
    "ax.xaxis.set_tick_params(pad=xpad)\n",
    "ax.yaxis.set_tick_params(pad=ypad)\n",
    "ax.set_ylabel(\"\\$A_{0,\\\\, 0}(\\\\omega, T)\\$\", labelpad=16)\n",
    "ax.yaxis.set_label_position(\"right\")\n",
    "# ax.legend(loc=\"best\", handlelength=1.4, frameon=false, borderpad=0, labelspacing=0.25)\n",
    "\n",
    "tight_layout(pad=0.1, w_pad=0.5, h_pad=0)\n",
    "\n",
    "# savefig(\"interacting_bosons_example_tau_omega.pdf\")"
   ]
  },
  {
   "cell_type": "code",
   "execution_count": null,
   "metadata": {},
   "outputs": [],
   "source": [
    "xpad = 8\n",
    "ypad = 5\n",
    "\n",
    "figure(figsize=(7, 3))\n",
    "\n",
    "ax = subplot(121)\n",
    "plot(t_scale * taus, ρ_11_kb_wigner[:, Int(floor(n/2))] |> imag, ls=\"-\", c=\"C0\", lw=1.5)\n",
    "plot(t_scale * taus, ρ_11_qt_wigner[:, Int(floor(n/2))] |> imag, ls=\"--\", c=\"C0\", lw=1.5)\n",
    "ax.set_xlabel(\"\\$J \\\\tau\\$\")\n",
    "# ax.set_xlim(-t_scale * T, t_scale * T)\n",
    "# ax.set_ylim(-1.0, 1.0)\n",
    "# ax.set_xticks(t_scale .* [-T/2, -T/4, 0, T/4, T/2])\n",
    "ax.xaxis.set_tick_params(pad=xpad)\n",
    "ax.yaxis.set_tick_params(pad=ypad)\n",
    "ax.set_ylabel(\"\\$A_{0,\\\\, 0}(\\\\tau, T)\\$\")\n",
    "\n",
    "ax = subplot(122)\n",
    "plot(ω_scale * ωs, ρ_11_kb_FFT[:, Int(floor(n/2))] |> imag, ls=\"-\", c=\"C0\", lw=1.5)\n",
    "plot(ω_scale * ωs, ρ_11_qt_FFT[:, Int(floor(n/2))] |> imag, ls=\"--\", c=\"C0\", lw=1.5)\n",
    "ax.set_xlabel(\"\\$\\\\omega/J\\$\")\n",
    "ax.set_xlim(10 .* (-1, 1))\n",
    "# ax.set_ylim(0, 6.0)\n",
    "# ax.set_xticks([x for x in -10:5:10])\n",
    "ax.xaxis.set_tick_params(pad=xpad)\n",
    "ax.yaxis.set_tick_params(pad=ypad)\n",
    "axvline.([-5, 5])\n",
    "ax.set_ylabel(\"\\$A_{0,\\\\, 0}(\\\\omega, T)\\$\", labelpad=16)\n",
    "ax.yaxis.set_label_position(\"right\")\n",
    "# ax.legend(loc=\"best\", handlelength=1.4, frameon=false, borderpad=0, labelspacing=0.25)\n",
    "\n",
    "tight_layout(pad=0.1, w_pad=0.5, h_pad=0)\n",
    "\n",
    "# savefig(\"interacting_bosons_example_tau_omega.pdf\")"
   ]
  },
  {
   "cell_type": "markdown",
   "metadata": {},
   "source": [
    "## Testing"
   ]
  },
  {
   "cell_type": "code",
   "execution_count": null,
   "metadata": {},
   "outputs": [],
   "source": []
  },
  {
   "cell_type": "code",
   "execution_count": null,
   "metadata": {},
   "outputs": [],
   "source": [
    "cmap = \"gist_heat\"\n",
    "Y, X = np.meshgrid(sol.t[1:end], sol.t[1:end]);"
   ]
  },
  {
   "cell_type": "code",
   "execution_count": null,
   "metadata": {},
   "outputs": [],
   "source": [
    "figure(figsize=(7, 3))\n",
    "\n",
    "ax = subplot(121)\n",
    "plot(t_scale .* times, full_square(unskewed_b1_dag_b1) |> diag |> (-) |> imag, \"-C0\", lw=1.5)\n",
    "plot(t_scale .* times, (unskewed_b1_b1_dag - unskewed_b1_dag_b1) |> diag |> (-) |> imag, \":C0\", lw=1.5)\n",
    "plot(t_scale .* times, me.expect[1], \"--C3\", lw=1.5)\n",
    "# plot(t_scale .* times, me.expect[end] - me.expect[1], \":C7\", lw=1.5)\n",
    "\n",
    "ax = subplot(122)\n",
    "plot(t_scale .* times, full_square(unskewed_b1_b1_dag) |> diag |> (-) |> imag, \"-C0\", lw=1.5)\n",
    "\n",
    "plot(t_scale .* times, me.expect[1], \"--C3\", lw=1.5)\n",
    "plot(t_scale .* times, me.expect[end], \"--C3\", lw=1.5)\n",
    "\n",
    "tight_layout()"
   ]
  },
  {
   "cell_type": "code",
   "execution_count": null,
   "metadata": {},
   "outputs": [],
   "source": [
    "plot(state.t, sum([problem.GL.data[k, k ,:,:] - problem.GG.data[k, k ,:,:] |> ((-) ∘ imag ∘ diag) for k in 1:4]))"
   ]
  },
  {
   "cell_type": "code",
   "execution_count": null,
   "metadata": {},
   "outputs": [],
   "source": [
    "xpad = 8\n",
    "ypad = 5\n",
    "\n",
    "figure(figsize=(7, 3))\n",
    "\n",
    "ax = subplot(121)\n",
    "vmin = -0.5 # minimum(ρ_11)\n",
    "vmax = 1.0 # maximum(ρ_11)\n",
    "# ax = plt.gca()\n",
    "heatmap = ax.pcolormesh(t_scale * X, t_scale * Y, -problem.GL.data[2, 2, :, :] .* problem.GG.data[1, 1, :, :] |> imag, cmap=cmap, rasterized=true)#, vmin=vmin, vmax=vmax)\n",
    "heatmap.set_edgecolor(\"face\")\n",
    "ax.set_aspect(\"equal\")\n",
    "colorbar(mappable=heatmap)\n",
    "ax.set_xlabel(\"\\$\\\\lambda t\\$\")\n",
    "ax.set_ylabel(\"\\$\\\\lambda t'\\$\")\n",
    "ax.set_xlim(0, t_scale * T)\n",
    "ax.set_ylim(0, t_scale * T)\n",
    "ax.set_xticks(t_scale .* [0, T/2, T])\n",
    "ax.set_yticks(t_scale .* [0, T/2, T])\n",
    "\n",
    "\n",
    "ax = subplot(122)\n",
    "vmin = -0.5 # minimum(ρ_11)\n",
    "vmax = 1.0 # maximum(ρ_11)\n",
    "# ax = plt.gca()\n",
    "heatmap = ax.pcolormesh(t_scale * X, t_scale * Y, (problem.GL.data[1, 1, :, :] - problem.GG.data[1, 1, :, :]) |> imag, cmap=cmap, rasterized=true)#, vmin=vmin, vmax=vmax)\n",
    "heatmap.set_edgecolor(\"face\")\n",
    "ax.set_aspect(\"equal\")\n",
    "colorbar(mappable=heatmap)\n",
    "ax.set_xlabel(\"\\$\\\\lambda t\\$\")\n",
    "ax.set_ylabel(\"\\$\\\\lambda t'\\$\")\n",
    "ax.set_xlim(0, t_scale * T)\n",
    "ax.set_ylim(0, t_scale * T)\n",
    "ax.set_xticks(t_scale .* [0, T/2, T])\n",
    "ax.set_yticks(t_scale .* [0, T/2, T])\n",
    "\n",
    "tight_layout()"
   ]
  },
  {
   "cell_type": "code",
   "execution_count": null,
   "metadata": {},
   "outputs": [],
   "source": [
    "test_kb = interpolate((sol.t, sol.t), view(-problem.GL.data[3, 3, :, :] .* problem.GG.data[1, 1, :, :], :, :), Gridded(Linear()));\n",
    "# test_kb = interpolate((sol.t, sol.t), view(-problem.GL.data, 2, 2, :, :), Gridded(Linear()));\n",
    "test_kb_wigner, (test_taus, test_ts) = wigner_transform([test_kb(t1, t2) for t1 in times, t2 in times]; ts=times, fourier=false);\n",
    "test_kb_wigner = test_kb_wigner |> imag;"
   ]
  },
  {
   "cell_type": "code",
   "execution_count": null,
   "metadata": {},
   "outputs": [],
   "source": []
  },
  {
   "cell_type": "code",
   "execution_count": null,
   "metadata": {},
   "outputs": [],
   "source": [
    "figure(figsize=(7, 3))\n",
    "\n",
    "ax = subplot(121)\n",
    "vmin = -0.5 # minimum(ρ_11)\n",
    "vmax = 1.0 # maximum(ρ_11)\n",
    "# ax = plt.gca()\n",
    "heatmap = ax.pcolormesh(t_scale * X, t_scale * Y, test_kb(times, times) |> real, cmap=cmap, rasterized=true)#, vmin=vmin, vmax=vmax)\n",
    "heatmap.set_edgecolor(\"face\")\n",
    "ax.set_aspect(\"equal\")\n",
    "colorbar(mappable=heatmap)"
   ]
  },
  {
   "cell_type": "code",
   "execution_count": null,
   "metadata": {},
   "outputs": [],
   "source": []
  }
 ],
 "metadata": {
  "kernelspec": {
   "display_name": "Julia 1.6.0",
   "language": "julia",
   "name": "julia-1.6"
  },
  "language_info": {
   "file_extension": ".jl",
   "mimetype": "application/julia",
   "name": "julia",
   "version": "1.6.0"
  }
 },
 "nbformat": 4,
 "nbformat_minor": 4
}
