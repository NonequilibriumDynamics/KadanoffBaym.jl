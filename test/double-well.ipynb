{
 "cells": [
  {
   "cell_type": "markdown",
   "metadata": {},
   "source": [
    "# Testing KadanoffBaym.jl"
   ]
  },
  {
   "cell_type": "code",
   "execution_count": null,
   "metadata": {
    "ExecuteTime": {
     "end_time": "2019-11-27T18:10:25.709000+01:00",
     "start_time": "2019-11-27T17:10:25.499Z"
    }
   },
   "outputs": [],
   "source": [
    "include(\"../src/KadanoffBaym.jl\")\n",
    "using OrdinaryDiffEq # for ODEProblem and solve\n",
    "using RecursiveArrayTools # For ArrayPartition\n",
    "using PyCall\n",
    "qt = pyimport(\"qutip\")\n",
    "np = pyimport(\"numpy\")\n",
    "using PyPlot\n",
    "\n",
    "PyPlot.matplotlib.rc(\"text\", usetex=true)\n",
    "PyPlot.matplotlib.rc(\"font\", family=\"serif\", size=16)"
   ]
  },
  {
   "cell_type": "markdown",
   "metadata": {},
   "source": [
    "## Model\n",
    "\n",
    "$$\n",
    "    H = J \\left( a_1^\\dagger a_2^\\phantom{\\dagger} + \\mathrm{h.c.} \\right)\n",
    "$$"
   ]
  },
  {
   "cell_type": "markdown",
   "metadata": {},
   "source": [
    "## Solving"
   ]
  },
  {
   "cell_type": "code",
   "execution_count": null,
   "metadata": {
    "ExecuteTime": {
     "end_time": "2019-11-27T18:10:28.244000+01:00",
     "start_time": "2019-11-27T17:10:26.712Z"
    }
   },
   "outputs": [],
   "source": [
    "# time parameters\n",
    "T = 1.0\n",
    "dt = 0.01 # this algorithm requires a fixed time\n",
    "n = Int(1/dt) \n",
    "\n",
    "# quantum numbers\n",
    "dim = 2\n",
    "\n",
    "# Define your Green functions at (t0, t0), time-arguments at the beginning\n",
    "Lesser0 = KadanoffBaym.LesserGF(zeros(ComplexF64, 1, 1, dim, dim))\n",
    "Greater0 = KadanoffBaym.GreaterGF(zeros(ComplexF64, 1, 1, dim, dim))\n",
    "\n",
    "# Hamiltonian\n",
    "J = 2*pi*1.0/2\n",
    "h = ComplexF64[0.0 J; J 0.0]\n",
    "\n",
    "# initial condition\n",
    "N_0 = 1\n",
    "\n",
    "Lesser0[1,1,1,1] = -1.0im * N_0\n",
    "Greater0[1,1,1,1] = -1.0im * (N_0 + 1)\n",
    "Greater0[1,1,2,2] = -1.0im\n",
    "\n",
    "# Pack them in an ArrayPartition\n",
    "u0 = ArrayPartition(Lesser0, Greater0);\n",
    "\n",
    "# Remember that `u` here is also an ArrayPartition-like element\n",
    "function f(u, p, t, t′)\n",
    "    u1, u2 = u.x[1], u.x[2]\n",
    "    rhs1 = -1.0im * (h * u1[t,t′])\n",
    "    rhs2 = -1.0im * (h * u2[t,t′])\n",
    "  return ArrayPartition(rhs1, rhs2)\n",
    "end\n",
    "\n",
    "# ODE problem is defined by the rhs, initial condition and time span\n",
    "prob = ODEProblem(f, u0, (0.0, T))\n",
    "\n",
    "# Algorithm to timestep is the (Kadanoff-Baym) ABM43 (only really this one exists)\n",
    "alg = KadanoffBaym.KB{ABM43}()\n",
    "\n",
    "sol = solve(prob, alg, dt);"
   ]
  },
  {
   "cell_type": "code",
   "execution_count": null,
   "metadata": {
    "ExecuteTime": {
     "end_time": "2019-11-27T18:10:28.319000+01:00",
     "start_time": "2019-11-27T17:10:27.437Z"
    }
   },
   "outputs": [],
   "source": [
    "stop = Int(n/2) + 1\n",
    "\n",
    "times = range(0, length=n + 1, stop=T) |> collect;\n",
    "\n",
    "# defining the tau times\n",
    "times_tau = 2 .* vcat([-times[stop - (k - 1)] for k in 1:stop - 1], times[1:stop]);"
   ]
  },
  {
   "cell_type": "markdown",
   "metadata": {},
   "source": [
    "## QuTiP benchmark"
   ]
  },
  {
   "cell_type": "code",
   "execution_count": null,
   "metadata": {
    "ExecuteTime": {
     "end_time": "2019-11-27T18:10:28.330000+01:00",
     "start_time": "2019-11-27T17:10:28.285Z"
    }
   },
   "outputs": [],
   "source": [
    "n_max = 2\n",
    "\n",
    "psi0_list = [qt.basis(n_max + 1, N_0), qt.basis(n_max + 1, 0)]\n",
    "psi0 = qt.tensor(psi0_list)\n",
    "\n",
    "a_1_list = [qt.destroy(n_max + 1), qt.qeye(n_max + 1)]\n",
    "a_1  = qt.tensor(a_1_list)    \n",
    "a_2_list = [qt.qeye(n_max + 1), qt.destroy(n_max + 1)]\n",
    "a_2  = qt.tensor(a_2_list)    \n",
    "\n",
    "H  = J * a_1.dag() * a_2\n",
    "H += H.dag();"
   ]
  },
  {
   "cell_type": "code",
   "execution_count": null,
   "metadata": {
    "ExecuteTime": {
     "end_time": "2019-11-27T18:10:29.101000+01:00",
     "start_time": "2019-11-27T17:10:29.022Z"
    }
   },
   "outputs": [],
   "source": [
    "observables = [a_1.dag()*a_1, a_2.dag()*a_2];"
   ]
  },
  {
   "cell_type": "code",
   "execution_count": null,
   "metadata": {
    "ExecuteTime": {
     "end_time": "2019-11-27T18:10:29.416000+01:00",
     "start_time": "2019-11-27T17:10:29.329Z"
    }
   },
   "outputs": [],
   "source": [
    "me = qt.mesolve(H, psi0, times, [], observables)\n",
    "t_sols = qt.mesolve(H, psi0, times, []); # t_sols.states returns state vectors"
   ]
  },
  {
   "cell_type": "markdown",
   "metadata": {},
   "source": [
    "#### Two times"
   ]
  },
  {
   "cell_type": "code",
   "execution_count": null,
   "metadata": {
    "ExecuteTime": {
     "end_time": "2019-11-27T18:10:48.686000+01:00",
     "start_time": "2019-11-27T17:10:45.275Z"
    }
   },
   "outputs": [],
   "source": [
    "tau_t_sols = Dict()\n",
    "for k in 1:length(t_sols.states)\n",
    "    tau_t_sols[k] = qt.mesolve(H, a_1 * t_sols.states[k] * t_sols.states[k].dag(), times).states\n",
    "end\n",
    "\n",
    "a_1_dag_a_1 = zeros(ComplexF64, length(t_sols.states), length(t_sols.states))\n",
    "for k in 1:length(t_sols.states)\n",
    "    for l in 1:length(t_sols.states)\n",
    "        a_1_dag_a_1[k, l] = (a_1.dag() * tau_t_sols[k][l]).tr()    \n",
    "    end\n",
    "end"
   ]
  },
  {
   "cell_type": "code",
   "execution_count": null,
   "metadata": {
    "ExecuteTime": {
     "end_time": "2019-11-27T18:11:45.057000+01:00",
     "start_time": "2019-11-27T17:11:44.942Z"
    }
   },
   "outputs": [],
   "source": [
    "unskewed_a_1_dag_a_1 = zeros(ComplexF64, length(t_sols.states), 2*length(t_sols.states) - 1)\n",
    "for (k, x) in enumerate([a_1_dag_a_1[k, :] for k in 1:length(t_sols.states)])\n",
    "    for (l, y) in enumerate(x)\n",
    "        ind = k + l - 1 # verify the -1 relative to the original python code\n",
    "        unskewed_a_1_dag_a_1[k, ind] = y  \n",
    "    end\n",
    "end"
   ]
  },
  {
   "cell_type": "markdown",
   "metadata": {},
   "source": [
    "## Plotting"
   ]
  },
  {
   "cell_type": "code",
   "execution_count": null,
   "metadata": {
    "ExecuteTime": {
     "end_time": "2019-11-27T18:11:48.623000+01:00",
     "start_time": "2019-11-27T17:11:48.463Z"
    }
   },
   "outputs": [],
   "source": [
    "GL_11 = [-imag(sol.u.x[1][k, k, 1, 1]) for k in 1:n+1]\n",
    "GL_22 = [-imag(sol.u.x[1][k, k, 2, 2]) for k in 1:n+1];"
   ]
  },
  {
   "cell_type": "code",
   "execution_count": null,
   "metadata": {
    "ExecuteTime": {
     "end_time": "2019-11-27T18:18:42.528000+01:00",
     "start_time": "2019-11-27T17:18:42.247Z"
    }
   },
   "outputs": [],
   "source": [
    "# building the tau Green functions\n",
    "GL_11_tau = [sol.u.x[1][stop - (k - 1), stop + (k - 1), 1, 1] for k in 1:stop]\n",
    "GL_11_tau_reversed = [GL_11_tau[stop - (k - 1)] for k in 1:stop];\n",
    "GL_11_tau_full = vcat(-conj(GL_11_tau_reversed[1:end-1]), GL_11_tau);\n",
    "\n",
    "a_1_dag_a_1_tau = [unskewed_a_1_dag_a_1[stop - (k - 1), stop + (k - 1)] for k in 1:stop]\n",
    "a_1_dag_a_1_tau_reversed = [a_1_dag_a_1_tau[stop - (k - 1)] for k in 1:stop]\n",
    "a_1_dag_a_1_tau_full = vcat(conj(a_1_dag_a_1_tau_reversed[1:end-1]), a_1_dag_a_1_tau);"
   ]
  },
  {
   "cell_type": "code",
   "execution_count": null,
   "metadata": {
    "ExecuteTime": {
     "end_time": "2019-11-27T18:24:14.350000+01:00",
     "start_time": "2019-11-27T17:24:13.814Z"
    }
   },
   "outputs": [],
   "source": [
    "figure(figsize=(12, 3))\n",
    "subplot(121)\n",
    "plot(times, GL_11)\n",
    "plot(times, me.expect[1], c=\"k\", ls=\"--\")\n",
    "plot(times, [real(unskewed_a_1_dag_a_1[k, k]) for k in 1:n+1], c=\"r\", ls=\":\", alpha=0.5)\n",
    "plot(times, GL_22)\n",
    "plot(times, me.expect[2], c=\"k\", ls=\"--\")\n",
    "xlim(0, T)\n",
    "ylim(0, N_0)\n",
    "xlabel(\"\\$t\\$\")\n",
    "\n",
    "subplot(122)\n",
    "plot(times_tau, -imag(GL_11_tau_full))\n",
    "plot(times_tau, a_1_dag_a_1_tau_full, c=\"k\", ls=\"--\")\n",
    "xlim(-T, T)\n",
    "xlabel(\"\\$\\\\tau\\$\")\n",
    "# ylim(0, 1.0)\n",
    "\n",
    "tight_layout()\n",
    "# savefig(\"test.pdf\")"
   ]
  },
  {
   "cell_type": "code",
   "execution_count": null,
   "metadata": {
    "ExecuteTime": {
     "end_time": "2019-11-27T18:24:11.908000+01:00",
     "start_time": "2019-11-27T17:24:11.538Z"
    }
   },
   "outputs": [],
   "source": [
    "figure(figsize=(12, 3))\n",
    "subplot(121)\n",
    "plot(times, GL_11 - me.expect[1], c=\"k\", ls=\"--\")\n",
    "plot(times, GL_22 - me.expect[2], c=\"k\", ls=\"--\")\n",
    "xlim(0, T)\n",
    "# ylim(0, N_0)\n",
    "xlabel(\"\\$t\\$\")\n",
    "\n",
    "subplot(122)\n",
    "plot(times_tau, -imag(GL_11_tau_full) - a_1_dag_a_1_tau_full, c=\"k\", ls=\"--\")\n",
    "xlim(-T, T)\n",
    "xlabel(\"\\$\\\\tau\\$\")\n",
    "# ylim(0, 1.0)\n",
    "\n",
    "tight_layout()"
   ]
  },
  {
   "cell_type": "code",
   "execution_count": null,
   "metadata": {},
   "outputs": [],
   "source": []
  }
 ],
 "metadata": {
  "kernelspec": {
   "display_name": "Julia 1.0.0",
   "language": "julia",
   "name": "julia-1.0"
  },
  "language_info": {
   "file_extension": ".jl",
   "mimetype": "application/julia",
   "name": "julia",
   "version": "1.0.0"
  }
 },
 "nbformat": 4,
 "nbformat_minor": 2
}
