{
 "cells": [
  {
   "cell_type": "markdown",
   "metadata": {},
   "source": [
    "# Bosonic Double-well"
   ]
  },
  {
   "cell_type": "code",
   "execution_count": null,
   "metadata": {
    "ExecuteTime": {
     "end_time": "2019-12-09T14:41:15.628000+01:00",
     "start_time": "2019-12-09T13:41:08.419Z"
    }
   },
   "outputs": [],
   "source": [
    "include(\"../src/KadanoffBaym.jl\")\n",
    "using OrdinaryDiffEq # for ODEProblem and solve\n",
    "using RecursiveArrayTools # For ArrayPartition\n",
    "using PyPlot\n",
    "using PyCall\n",
    "qt = pyimport(\"qutip\")\n",
    "np = pyimport(\"numpy\")\n",
    "\n",
    "PyPlot.matplotlib.rc(\"text\", usetex=true)\n",
    "PyPlot.matplotlib.rc(\"font\", family=\"serif\", size=16)"
   ]
  },
  {
   "cell_type": "markdown",
   "metadata": {},
   "source": [
    "## Model"
   ]
  },
  {
   "cell_type": "markdown",
   "metadata": {},
   "source": [
    "### Non-Hermitian Hamiltonian:\n",
    "\n",
    "$$\n",
    "    \\hat{H} = \\left(\\omega_1 -i\\lambda/2\\right) a^{\\dagger}_1 a^\\phantom{\\dagger}_1 + \\omega_2 a^{\\dagger}_2 a^\\phantom{\\dagger}_2 + J \\left(a^{\\dagger}_1 a^\\phantom{\\dagger}_2 + a^{\\dagger}_2 a^\\phantom{\\dagger}_1\\right)\n",
    "$$\n",
    "\n",
    "### Master equation:\n",
    "\n",
    "$$\n",
    "    \\partial_{t} \\hat{\\rho}=-i\\left[\\hat{H} \\hat{\\rho}-\\hat{\\rho} \\hat{H}^{\n",
    "    \\dagger}\\right]+\\lambda a^\\phantom{\\dagger}_1 \\hat{\\rho}  a^{\\dagger}_1\n",
    "$$\n",
    "\n",
    "### Equations of motion\n",
    "\n",
    "#### Vertical Time.\n",
    "\n",
    "\\begin{align}\\begin{split}\n",
    "    0 &= \\begin{pmatrix}\n",
    "    i \\partial_t - \\omega_1 + i\\lambda/2 & -J \\\\\n",
    "    -J & i \\partial_t - \\omega_2\n",
    "    \\end{pmatrix} \n",
    "    \\begin{pmatrix}\n",
    "    G^<_{11} & G^<_{12} \\\\\n",
    "    G^<_{21} & G^<_{22}\n",
    "    \\end{pmatrix}(t, t')    \\\\\n",
    "    0 &= \\begin{pmatrix}\n",
    "    i \\partial_t - \\omega_1 - i\\lambda/2 & -J \\\\\n",
    "    -J & i \\partial_t - \\omega_2\n",
    "    \\end{pmatrix} \n",
    "    \\begin{pmatrix}\n",
    "    G^>_{11} & G^>_{12} \\\\\n",
    "    G^>_{21} & G^>_{22}\n",
    "    \\end{pmatrix}(t, t')  \n",
    "    + i\\lambda\n",
    "    \\begin{pmatrix}\n",
    "    G^T_{11} & G^T_{12} \\\\\n",
    "    0 & 0\n",
    "    \\end{pmatrix}(t, t')   \n",
    "\\end{split}\\end{align}\n",
    "\n",
    "#### Horizontal Time.\n",
    "\n",
    "\\begin{align}\\begin{split}\n",
    "    0 &= \\begin{pmatrix}\n",
    "    G^<_{11} & G^<_{12} \\\\\n",
    "    G^<_{21} & G^<_{22}\n",
    "    \\end{pmatrix}(t, t') \n",
    "    \\begin{pmatrix}\n",
    "    i \\partial_{t'} + \\omega_1 + i\\lambda/2 & J \\\\\n",
    "    J & i \\partial_{t'} + \\omega_2\n",
    "    \\end{pmatrix} \\\\\n",
    "    0 &= \\begin{pmatrix}\n",
    "    G^>_{11} & G^>_{12} \\\\\n",
    "    G^>_{21} & G^>_{22}\n",
    "    \\end{pmatrix}(t, t') \n",
    "    \\begin{pmatrix}\n",
    "    i \\partial_{t'} + \\omega_1 - i\\lambda/2 & J \\\\\n",
    "    J & i \\partial_{t'} + \\omega_2\n",
    "    \\end{pmatrix}  \n",
    "    + i\\lambda\n",
    "    \\begin{pmatrix}\n",
    "    G^{\\tilde{T}}_{11} & 0 \\\\\n",
    "    G^{\\tilde{T}}_{21} & 0\n",
    "    \\end{pmatrix}(t, t')   \n",
    "\\end{split}\\end{align}\n",
    "\n",
    "#### Equal-Time.\n",
    "\n",
    "\\begin{align}\\begin{split}\n",
    "    0 &= \\begin{pmatrix}\n",
    "    i \\partial_T + i\\lambda & 0 \\\\\n",
    "    0 & i \\partial_T\n",
    "    \\end{pmatrix} \n",
    "    \\begin{pmatrix}\n",
    "    G^<_{11} & G^<_{12} \\\\\n",
    "    G^<_{21} & G^<_{22}\n",
    "    \\end{pmatrix}(T, 0)\n",
    "    - \\left[\\begin{pmatrix}\n",
    "    0 & J \\\\\n",
    "    J & 0\n",
    "    \\end{pmatrix}, \n",
    "    \\begin{pmatrix}\n",
    "    G^<_{11} & G^<_{12} \\\\\n",
    "    G^<_{21} & G^<_{22}\n",
    "    \\end{pmatrix}(T, 0)\\right] \\\\\n",
    "    0 &= \\begin{pmatrix}\n",
    "    i \\partial_T - i\\lambda & 0 \\\\\n",
    "    0 & i \\partial_T\n",
    "    \\end{pmatrix} \n",
    "    \\begin{pmatrix}\n",
    "    G^>_{11} & G^>_{12} \\\\\n",
    "    G^>_{21} & G^>_{22}\n",
    "    \\end{pmatrix}(T, 0)  \n",
    "    - \\left[\\begin{pmatrix}\n",
    "    0 & J \\\\\n",
    "    J & 0\n",
    "    \\end{pmatrix}, \n",
    "    \\begin{pmatrix}\n",
    "    G^>_{11} & G^>_{12} \\\\\n",
    "    G^>_{21} & G^>_{22}\n",
    "    \\end{pmatrix}(T, 0)\\right]\n",
    "    + i\\lambda\n",
    "    \\begin{pmatrix}\n",
    "    G^T_{11} + G^{\\tilde{T}}_{11} & G^T_{12} \\\\\n",
    "    G^{\\tilde{T}}_{21} & 0\n",
    "    \\end{pmatrix}(T, 0)   \n",
    "\\end{split}\\end{align}"
   ]
  },
  {
   "cell_type": "markdown",
   "metadata": {},
   "source": [
    "## Solving"
   ]
  },
  {
   "cell_type": "code",
   "execution_count": null,
   "metadata": {
    "ExecuteTime": {
     "end_time": "2019-12-09T14:43:21.414000+01:00",
     "start_time": "2019-12-09T13:43:14.461Z"
    }
   },
   "outputs": [],
   "source": [
    "# time parameters\n",
    "T = 1.0\n",
    "dt = 2^-8 # this algorithm requires a fixed time\n",
    "n = Int(1/dt) \n",
    "\n",
    "# Non-Hermitian Hamiltonian and jump operator\n",
    "ω₁ = 0.0\n",
    "ω₂ = 0.0\n",
    "J = 2*pi*1.0/2\n",
    "λ = 1.0\n",
    "h = ComplexF64[ω₁ - 0.5im * λ J; J ω₂]"
   ]
  },
  {
   "cell_type": "code",
   "execution_count": null,
   "metadata": {
    "ExecuteTime": {
     "end_time": "2019-12-09T14:43:21.414000+01:00",
     "start_time": "2019-12-09T13:43:14.461Z"
    }
   },
   "outputs": [],
   "source": [
    "# quantum numbers\n",
    "dim = 2\n",
    "\n",
    "# Define your Green functions at (t0, t0), time-arguments at the beginning\n",
    "Lesser0 = KadanoffBaym.LesserGF(zeros(ComplexF64, 1, 1, dim, dim))\n",
    "Greater0 = KadanoffBaym.GreaterGF(zeros(ComplexF64, 1, 1, dim, dim))\n",
    "\n",
    "# initial condition\n",
    "N_0 = 1\n",
    "\n",
    "Lesser0[1,1,1,1] = -1.0im * N_0\n",
    "Greater0[1,1,1,1] = -1.0im * (N_0 + 1)\n",
    "Greater0[1,1,2,2] = -1.0im\n",
    "\n",
    "# Pack them in an ArrayPartition\n",
    "u0 = ArrayPartition(Lesser0, Greater0);\n",
    "\n",
    "# Remember that `u` here is also an ArrayPartition-like element\n",
    "function f(u, p, t, t′)\n",
    "    u1, u2 = u.x[1], u.x[2]\n",
    "    rhs1 = -1.0im * h * u1[t,t′]\n",
    "    rhs2 = -1.0im * (h * u2[t,t′] - [[1.0im * λ, 0] [0, 0]] * u2[t,t′])\n",
    "  return ArrayPartition(rhs1, rhs2)\n",
    "end\n",
    "\n",
    "function f_diag(u, p, t, t′)\n",
    "    u1, u2 = u.x[1], u.x[2]\n",
    "    rhs1 = -1.0im * (h * u1[t,t′] - u1[t,t′] * adjoint(h))\n",
    "    rhs2 = -1.0im * (adjoint(h) * u2[t,t′] - u2[t,t′] * h\n",
    "        - 1.0im * λ * [[u1[t,t′, 1, 1] + u2[t,t′, 1, 1], u2[t,t′, 2, 1]] [u2[t,t′, 1, 2], 0]])\n",
    "  return ArrayPartition(rhs1, rhs2)\n",
    "end\n",
    "\n",
    "# ODE problem is defined by the rhs, initial condition and time span\n",
    "prob = ODEProblem(f, u0, (0.0, T), f_diag=nothing)\n",
    "\n",
    "# Algorithm to timestep is the (Kadanoff-Baym) ABM43 (only really this one exists)\n",
    "alg = KadanoffBaym.KB{ABM43}()\n",
    "\n",
    "sol = solve(prob, alg, dt);"
   ]
  },
  {
   "cell_type": "code",
   "execution_count": null,
   "metadata": {
    "ExecuteTime": {
     "end_time": "2019-12-09T14:43:21.509000+01:00",
     "start_time": "2019-12-09T13:43:15.029Z"
    }
   },
   "outputs": [],
   "source": [
    "stop = Int(n/2) + 1\n",
    "\n",
    "times = range(0, length=n + 1, stop=T) |> collect;\n",
    "\n",
    "# defining the tau times\n",
    "times_tau = 2 .* vcat([-times[stop - (k - 1)] for k in 1:stop - 1], times[1:stop]);"
   ]
  },
  {
   "cell_type": "markdown",
   "metadata": {},
   "source": [
    "## QuTiP benchmark"
   ]
  },
  {
   "cell_type": "code",
   "execution_count": null,
   "metadata": {
    "ExecuteTime": {
     "end_time": "2019-12-09T14:43:21.785000+01:00",
     "start_time": "2019-12-09T13:43:15.495Z"
    }
   },
   "outputs": [],
   "source": [
    "# maximal number of photons\n",
    "# Fock-space dimension will be n_max + 1\n",
    "n_max = 3\n",
    "\n",
    "# initial state\n",
    "psi0_list = [qt.basis(n_max + 1, N_0), qt.basis(n_max + 1, 0)]\n",
    "psi0 = qt.tensor(psi0_list)\n",
    "\n",
    "# define annihilation operators\n",
    "a_1_list = [qt.destroy(n_max + 1), qt.qeye(n_max + 1)]\n",
    "a_1  = qt.tensor(a_1_list)    \n",
    "a_2_list = [qt.qeye(n_max + 1), qt.destroy(n_max + 1)]\n",
    "a_2  = qt.tensor(a_2_list)    \n",
    "\n",
    "# Hamiltonian\n",
    "H  = J * a_1.dag() * a_2\n",
    "H += H.dag();\n",
    "H += ω₁ * a_1.dag() * a_1 + ω₂ * a_2.dag() * a_2; # do not give qutip a non-Hermitian Hamiltonian\n",
    "\n",
    "observables = [a_1.dag()*a_1, a_2.dag()*a_2];"
   ]
  },
  {
   "cell_type": "code",
   "execution_count": null,
   "metadata": {
    "ExecuteTime": {
     "end_time": "2019-12-09T14:43:22.261000+01:00",
     "start_time": "2019-12-09T13:43:15.663Z"
    }
   },
   "outputs": [],
   "source": [
    "j_ops = [sqrt(λ) * a_1] # qutip only needs the jump operator\n",
    "\n",
    "# quickly solve once for observables\n",
    "me = qt.mesolve(H, psi0, times, j_ops, observables)\n",
    "\n",
    "# solve for the time-dependent density matrix\n",
    "t_sols = qt.mesolve(H, psi0, times, j_ops); # t_sols.states returns density matrices"
   ]
  },
  {
   "cell_type": "markdown",
   "metadata": {},
   "source": [
    "#### Two times"
   ]
  },
  {
   "cell_type": "markdown",
   "metadata": {},
   "source": [
    "Calculate $\\langle a^\\dagger_1(t') a^\\phantom{\\dagger}_1(t)\\rangle$, where $t' = t + \\tau$."
   ]
  },
  {
   "cell_type": "code",
   "execution_count": null,
   "metadata": {
    "ExecuteTime": {
     "end_time": "2019-12-09T14:43:41.466000+01:00",
     "start_time": "2019-12-09T13:43:16.166Z"
    }
   },
   "outputs": [],
   "source": [
    "tau_t_sols = Dict()\n",
    "for k in 1:length(t_sols.states)\n",
    "    tau_t_sols[k] = qt.mesolve(H, a_1 * t_sols.states[k], times, j_ops).states\n",
    "end\n",
    "\n",
    "a_1_dag_a_1 = zeros(ComplexF64, length(t_sols.states), length(t_sols.states))\n",
    "for k in 1:length(t_sols.states)\n",
    "    for l in 1:length(t_sols.states)\n",
    "        a_1_dag_a_1[k, l] = (a_1.dag() * tau_t_sols[k][l]).tr()    \n",
    "    end\n",
    "end"
   ]
  },
  {
   "cell_type": "code",
   "execution_count": null,
   "metadata": {
    "ExecuteTime": {
     "end_time": "2019-12-09T14:43:42.046000+01:00",
     "start_time": "2019-12-09T13:43:16.349Z"
    }
   },
   "outputs": [],
   "source": [
    "# reshape the above array to fit into our two-time \"matrix\" structure \n",
    "# see the plot below for illustration\n",
    "unskewed_a_1_dag_a_1 = zeros(ComplexF64, length(t_sols.states), 2*length(t_sols.states) - 1)\n",
    "for (k, x) in enumerate([a_1_dag_a_1[k, :] for k in 1:length(t_sols.states)])\n",
    "    for (l, y) in enumerate(x)\n",
    "        ind = k + l - 1 # verify the -1 relative to the original python code\n",
    "        unskewed_a_1_dag_a_1[k, ind] = y  \n",
    "    end\n",
    "end"
   ]
  },
  {
   "cell_type": "code",
   "execution_count": null,
   "metadata": {
    "ExecuteTime": {
     "end_time": "2019-12-09T14:43:45.153000+01:00",
     "start_time": "2019-12-09T13:43:16.545Z"
    }
   },
   "outputs": [],
   "source": [
    "figure(figsize=(6, 2))\n",
    "subplot(121)\n",
    "imshow(real(a_1_dag_a_1), cmap=\"plasma\")\n",
    "\n",
    "subplot(122)\n",
    "imshow(real(unskewed_a_1_dag_a_1), cmap=\"plasma\")\n",
    "\n",
    "tight_layout()"
   ]
  },
  {
   "cell_type": "markdown",
   "metadata": {},
   "source": [
    "## Plotting"
   ]
  },
  {
   "cell_type": "code",
   "execution_count": null,
   "metadata": {
    "ExecuteTime": {
     "end_time": "2019-12-09T14:43:45.276000+01:00",
     "start_time": "2019-12-09T13:43:18.082Z"
    }
   },
   "outputs": [],
   "source": [
    "# time diagonal\n",
    "GL_11 = [-imag(sol.u.x[1][k, k, 1, 1]) for k in 1:n+1]\n",
    "GL_22 = [-imag(sol.u.x[1][k, k, 2, 2]) for k in 1:n+1];"
   ]
  },
  {
   "cell_type": "code",
   "execution_count": null,
   "metadata": {
    "ExecuteTime": {
     "end_time": "2019-12-09T14:43:45.601000+01:00",
     "start_time": "2019-12-09T13:43:18.240Z"
    }
   },
   "outputs": [],
   "source": [
    "# building the tau Green functions\n",
    "GL_11_tau = [sol.u.x[1][stop - (k - 1), stop + (k - 1), 1, 1] for k in 1:stop]\n",
    "GL_11_tau_reversed = [GL_11_tau[stop - (k - 1)] for k in 1:stop];\n",
    "GL_11_tau_full = vcat(-conj(GL_11_tau_reversed[1:end-1]), GL_11_tau);"
   ]
  },
  {
   "cell_type": "code",
   "execution_count": null,
   "metadata": {
    "ExecuteTime": {
     "end_time": "2019-12-09T14:43:45.601000+01:00",
     "start_time": "2019-12-09T13:43:18.240Z"
    }
   },
   "outputs": [],
   "source": [
    "a_1_dag_a_1_tau = [unskewed_a_1_dag_a_1[stop - (k - 1), stop + (k - 1)] for k in 1:stop]\n",
    "a_1_dag_a_1_tau_reversed = [a_1_dag_a_1_tau[stop - (k - 1)] for k in 1:stop]\n",
    "a_1_dag_a_1_tau_full = vcat(conj(a_1_dag_a_1_tau_reversed[1:end-1]), a_1_dag_a_1_tau);"
   ]
  },
  {
   "cell_type": "code",
   "execution_count": null,
   "metadata": {
    "ExecuteTime": {
     "end_time": "2019-12-09T14:43:47.424000+01:00",
     "start_time": "2019-12-09T13:43:18.413Z"
    }
   },
   "outputs": [],
   "source": [
    "figure(figsize=(12, 3))\n",
    "subplot(121)\n",
    "plot(times, GL_11)\n",
    "plot(times, me.expect[1], c=\"k\", ls=\"--\")\n",
    "plot(times, [real(unskewed_a_1_dag_a_1[k, k]) for k in 1:n+1], c=\"r\", ls=\":\", lw=3.0, alpha=0.5)\n",
    "plot(times, GL_22)\n",
    "plot(times, me.expect[2], c=\"k\", ls=\"--\")\n",
    "xlim(0, T)\n",
    "ylim(0, N_0)\n",
    "xlabel(\"\\$t\\$\")\n",
    "\n",
    "subplot(122)\n",
    "plot(times_tau, -imag(GL_11_tau_full))\n",
    "plot(times_tau, a_1_dag_a_1_tau_full, c=\"k\", ls=\"--\")\n",
    "xlim(-T, T)\n",
    "xlabel(\"\\$\\\\tau\\$\")\n",
    "# ylim(0, 1.0)\n",
    "\n",
    "tight_layout()\n",
    "# savefig(\"test.pdf\")"
   ]
  },
  {
   "cell_type": "code",
   "execution_count": null,
   "metadata": {
    "ExecuteTime": {
     "end_time": "2019-12-09T14:43:47.897000+01:00",
     "start_time": "2019-12-09T13:43:18.627Z"
    }
   },
   "outputs": [],
   "source": [
    "figure(figsize=(12, 3))\n",
    "subplot(121)\n",
    "plot(times, GL_11 - me.expect[1], c=\"k\", ls=\"--\")\n",
    "plot(times, GL_22 - me.expect[2], c=\"k\", ls=\"--\")\n",
    "xlim(0, T)\n",
    "# ylim(0, N_0)\n",
    "xlabel(\"\\$t\\$\")\n",
    "\n",
    "subplot(122)\n",
    "plot(times_tau, -imag(GL_11_tau_full) - a_1_dag_a_1_tau_full, c=\"k\", ls=\"--\")\n",
    "xlim(-T, T)\n",
    "xlabel(\"\\$\\\\tau\\$\")\n",
    "# ylim(0, 1.0)\n",
    "\n",
    "tight_layout()"
   ]
  },
  {
   "cell_type": "code",
   "execution_count": null,
   "metadata": {},
   "outputs": [],
   "source": []
  }
 ],
 "metadata": {
  "kernelspec": {
   "display_name": "Julia 1.0.0",
   "language": "julia",
   "name": "julia-1.0"
  },
  "language_info": {
   "file_extension": ".jl",
   "mimetype": "application/julia",
   "name": "julia",
   "version": "1.0.0"
  }
 },
 "nbformat": 4,
 "nbformat_minor": 2
}
