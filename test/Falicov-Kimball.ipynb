{
 "cells": [
  {
   "cell_type": "markdown",
   "metadata": {},
   "source": [
    "# Falicov-Kimball Model"
   ]
  },
  {
   "cell_type": "code",
   "execution_count": null,
   "metadata": {},
   "outputs": [],
   "source": [
    "using KadanoffBaym\n",
    "using LinearAlgebra\n",
    "using LsqFit\n",
    "using JLD\n",
    "using UnPack\n",
    "\n",
    "using PyPlot\n",
    "using PyCall\n",
    "qt = pyimport(\"qutip\")\n",
    "np = pyimport(\"numpy\")\n",
    "\n",
    "font_size = 16\n",
    "# font_size = 20\n",
    "\n",
    "PyPlot.matplotlib.rc(\"text\", usetex=true)\n",
    "PyPlot.matplotlib.rc(\"font\", family=\"serif\", size=font_size)\n",
    "PyPlot.matplotlib.rc(\"axes\", labelsize=font_size)\n",
    "PyPlot.matplotlib.rc(\"xtick.major\", size=8)\n",
    "PyPlot.matplotlib.rc(\"ytick.major\", size=8)\n",
    "PyPlot.matplotlib.rc(\"xtick.minor\", visible=true, size=4)\n",
    "PyPlot.matplotlib.rc(\"ytick.minor\", visible=true, size=4)\n",
    "PyPlot.matplotlib.rc(\"xtick\", top=true, direction=\"inout\")\n",
    "PyPlot.matplotlib.rc(\"ytick\", right=true, direction=\"inout\")"
   ]
  },
  {
   "cell_type": "markdown",
   "metadata": {},
   "source": [
    "## Model"
   ]
  },
  {
   "cell_type": "markdown",
   "metadata": {},
   "source": [
    "### Non-Hermitian Hamiltonian:\n",
    "\n",
    "$$\n",
    "\\begin{align}\\begin{split}\n",
    "    \\hat{H} &= \\varepsilon \\left( f^{\\dagger}_1 f^\\phantom{\\dagger}_1  +  f^{\\dagger}_2 f^\\phantom{\\dagger}_2 \\right) - J \\left(c^{\\dagger}_1 c^\\phantom{\\dagger}_2 + c^{\\dagger}_2 c^\\phantom{\\dagger}_1\\right) + U \\left( f^{\\dagger}_1 f^\\phantom{\\dagger}_1 c^{\\dagger}_1 c^\\phantom{\\dagger}_1  +  f^{\\dagger}_2 f^\\phantom{\\dagger}_2 c^{\\dagger}_2 c^\\phantom{\\dagger}_2 \\right)\n",
    "\\end{split}\\end{align}\n",
    "$$\n",
    "\n",
    "$$\n",
    "    G^>_{ij}(t, t') = -i \\langle c^\\phantom{\\dagger}_i(t) c^{\\dagger}_j(t') \\rangle\\\\\n",
    "    F^>_{ij}(t, t') = -i \\langle f^\\phantom{\\dagger}_i(t) f^{\\dagger}_j(t') \\rangle\n",
    "$$\n",
    "\n",
    "$$\n",
    "    \\Sigma^{\\mathrm{HF}}_{c,\\,ij}(t, t') = {\\mathrm{i}}\\delta_{ij}\\delta(t - t') F^<_{ii}(t, t)\\\\\n",
    "    \\Sigma^{\\mathrm{HF}}_{f,\\,ij}(t, t') = {\\mathrm{i}}\\delta_{ij}\\delta(t - t') G^<_{ii}(t, t)\n",
    "$$\n",
    "\n",
    "Not yet any guarantee for the prefactors!\n",
    "$$\n",
    "    \\Sigma^{\\mathrm{NCA}}_{c,\\,ij}(t, t') = {\\mathrm{i}\\cdot (-\\mathrm{i}) \\cdot 2 U^2} G_{ij}(t, t') F_{ij}(t, t') F_{ji}(t', t)\\\\\n",
    "    \\Sigma^{\\mathrm{NCA}}_{f,\\,ij}(t, t') = {\\mathrm{i}\\cdot (-\\mathrm{i}) \\cdot 2 U^2} F_{ij}(t, t') G_{ij}(t, t') G_{ji}(t', t)\n",
    "$$"
   ]
  },
  {
   "cell_type": "markdown",
   "metadata": {
    "heading_collapsed": true
   },
   "source": [
    "### Equations of motion"
   ]
  },
  {
   "cell_type": "markdown",
   "metadata": {
    "heading_collapsed": true,
    "hidden": true
   },
   "source": [
    "#### Vertical Time.\n",
    "\n",
    "\\begin{align}\\begin{split}\n",
    "    0 &= \\begin{pmatrix}\n",
    "    i \\partial_t - \\varepsilon_1  & -J \\\\\n",
    "    -J & i \\partial_t - \\varepsilon_2\n",
    "    \\end{pmatrix} \n",
    "    \\begin{pmatrix}\n",
    "    G^<_{11} & G^<_{12} \\\\\n",
    "    G^<_{21} & G^<_{22}\n",
    "    \\end{pmatrix}(t, t')  \\\\\n",
    "    0 &= \\begin{pmatrix}\n",
    "    i \\partial_t - \\varepsilon_1  & -J \\\\\n",
    "    -J & i \\partial_t - \\varepsilon_2\n",
    "    \\end{pmatrix} \n",
    "    \\begin{pmatrix}\n",
    "    G^>_{11} & G^>_{12} \\\\\n",
    "    G^>_{21} & G^>_{22}\n",
    "    \\end{pmatrix}(t, t')   \n",
    "\\end{split}\\end{align}\n",
    "\n",
    "#### Horizontal Time.\n",
    "\n",
    "\\begin{align}\\begin{split}\n",
    "    0 &= \\begin{pmatrix}\n",
    "    G^<_{11} & G^<_{12} \\\\\n",
    "    G^<_{21} & G^<_{22}\n",
    "    \\end{pmatrix}(t, t') \n",
    "    \\begin{pmatrix}\n",
    "    i \\partial_{t'} + \\varepsilon_1  & J \\\\\n",
    "    J & i \\partial_{t'} + \\varepsilon_2\n",
    "    \\end{pmatrix}  \\\\\n",
    "    0 &= \\begin{pmatrix}\n",
    "    G^>_{11} & G^>_{12} \\\\\n",
    "    G^>_{21} & G^>_{22}\n",
    "    \\end{pmatrix}(t, t') \n",
    "    \\begin{pmatrix}\n",
    "    i \\partial_{t'} + \\varepsilon_1  & J \\\\\n",
    "    J & i \\partial_{t'} + \\varepsilon_2\n",
    "    \\end{pmatrix}  \n",
    "\\end{split}\\end{align}\n",
    "\n",
    "#### Equal-Time.\n",
    "\n",
    "\\begin{align}\\begin{split}\n",
    "    0 &= i \\partial_T\n",
    "    \\begin{pmatrix}\n",
    "    G^<_{11} & G^<_{12} \\\\\n",
    "    G^<_{21} & G^<_{22}\n",
    "    \\end{pmatrix}(T, 0)\n",
    "    - \\left[\\begin{pmatrix}\n",
    "    \\varepsilon_1 & J \\\\\n",
    "    J & \\varepsilon_2\n",
    "    \\end{pmatrix}, \n",
    "    \\begin{pmatrix}\n",
    "    G^<_{11} & G^<_{12} \\\\\n",
    "    G^<_{21} & G^<_{22}\n",
    "    \\end{pmatrix}(T, 0)\\right]    \\\\\n",
    "    0 &= i \\partial_T\n",
    "    \\begin{pmatrix}\n",
    "    G^>_{11} & G^>_{12} \\\\\n",
    "    G^>_{21} & G^>_{22}\n",
    "    \\end{pmatrix}(T, 0)  \n",
    "    - \\left[\\begin{pmatrix}\n",
    "    \\varepsilon_1 & J \\\\\n",
    "    J & \\varepsilon_2\n",
    "    \\end{pmatrix}, \n",
    "    \\begin{pmatrix}\n",
    "    G^>_{11} & G^>_{12} \\\\\n",
    "    G^>_{21} & G^>_{22}\n",
    "    \\end{pmatrix}(T, 0)\\right]\n",
    "\\end{split}\\end{align}"
   ]
  },
  {
   "cell_type": "markdown",
   "metadata": {},
   "source": [
    "## Solving"
   ]
  },
  {
   "cell_type": "code",
   "execution_count": null,
   "metadata": {},
   "outputs": [],
   "source": [
    "function integrate(x::AbstractVector, y::AbstractVector)\n",
    "    if isone(length(x))\n",
    "        return zero(first(y))\n",
    "    end\n",
    "\n",
    "    @inbounds retval = (x[2] - x[1]) * (y[1] + y[2])\n",
    "    @inbounds @fastmath @simd for i in 2:(length(y) - 1)\n",
    "        retval += (x[i+1] - x[i]) * (y[i] + y[i+1])\n",
    "    end\n",
    "    return 1//2 * retval\n",
    "end;"
   ]
  },
  {
   "cell_type": "code",
   "execution_count": null,
   "metadata": {},
   "outputs": [],
   "source": [
    "# Self-energy\n",
    "function self_energies!(nca, t, t′)\n",
    "    @unpack GL, GG, FL, FG, ΣNCA_c_L, ΣNCA_c_G, ΣNCA_f_L, ΣNCA_f_G, U = nca\n",
    "    \n",
    "    if (n = size(GL, 3)) > size(ΣNCA_c_L, 3)\n",
    "        resize!(ΣNCA_c_L, n)\n",
    "        resize!(ΣNCA_c_G, n)\n",
    "        resize!(ΣNCA_f_L, n)\n",
    "        resize!(ΣNCA_f_G, n)        \n",
    "    end\n",
    "        \n",
    "    ΣNCA_c_L[t, t′] = 1.0im .* (-1.0im .* U^2) .* GL[t, t′] .* FL[t, t′] .* transpose(FG[t′, t])\n",
    "    ΣNCA_c_G[t, t′] = 1.0im .* (-1.0im .* U^2) .* GG[t, t′] .* FG[t, t′] .* transpose(FL[t′, t])\n",
    "    \n",
    "    ΣNCA_f_L[t, t′] = 1.0im .* (-1.0im .* U^2) .* FL[t, t′] .* GL[t, t′] .* transpose(GG[t′, t])\n",
    "    ΣNCA_f_G[t, t′] = 1.0im .* (-1.0im .* U^2) .* FG[t, t′] .* GG[t, t′] .* transpose(GL[t′, t])\n",
    "    \n",
    "#     println(ΣNCA_f_L[t, t′])\n",
    "end\n",
    "\n",
    "# Container for non-crossing approximation\n",
    "struct NCA\n",
    "    GL::GreenFunction{ComplexF64, 4, Array{ComplexF64, 4}, Lesser}\n",
    "    GG::GreenFunction{ComplexF64, 4, Array{ComplexF64, 4}, Greater}\n",
    "    FL::GreenFunction{ComplexF64, 4, Array{ComplexF64, 4}, Lesser}\n",
    "    FG::GreenFunction{ComplexF64, 4, Array{ComplexF64, 4}, Greater}\n",
    "    ΣNCA_c_L::GreenFunction{ComplexF64, 4, Array{ComplexF64, 4}, Lesser}\n",
    "    ΣNCA_c_G::GreenFunction{ComplexF64, 4, Array{ComplexF64, 4}, Greater}\n",
    "    ΣNCA_f_L::GreenFunction{ComplexF64, 4, Array{ComplexF64, 4}, Lesser}\n",
    "    ΣNCA_f_G::GreenFunction{ComplexF64, 4, Array{ComplexF64, 4}, Greater}\n",
    "    \n",
    "    U::Float64\n",
    "  \n",
    "    # Initialize problem\n",
    "    function NCA(GL0::Matrix{ComplexF64}, FL0::Matrix{ComplexF64}, U::Float64)\n",
    "        nca = new(\n",
    "          GreenFunction(reshape(GL0, size(GL0)..., 1, 1), Lesser),\n",
    "          GreenFunction(reshape(GL0 - 1.0im * I, size(GL0)..., 1, 1), Greater),\n",
    "          GreenFunction(reshape(FL0, size(FL0)..., 1, 1), Lesser),\n",
    "          GreenFunction(reshape(FL0 - 1.0im * I, size(FL0)..., 1, 1), Greater),            \n",
    "          GreenFunction(zeros(ComplexF64, size(GL0)..., 1, 1), Lesser),\n",
    "          GreenFunction(zeros(ComplexF64, size(GL0)..., 1, 1), Greater),\n",
    "          GreenFunction(zeros(ComplexF64, size(FL0)..., 1, 1), Lesser),\n",
    "          GreenFunction(zeros(ComplexF64, size(FL0)..., 1, 1), Greater),            \n",
    "          U\n",
    "        )\n",
    "\n",
    "        # Initialize self-energies\n",
    "        self_energies!(nca, 1, 1)\n",
    "\n",
    "        return nca\n",
    "    end\n",
    "end"
   ]
  },
  {
   "cell_type": "code",
   "execution_count": null,
   "metadata": {
    "ExecuteTime": {
     "end_time": "2019-12-09T15:16:31.897000+01:00",
     "start_time": "2019-12-09T14:16:31.871Z"
    }
   },
   "outputs": [],
   "source": [
    "# final time\n",
    "T = 5.0\n",
    "\n",
    "# Hamiltonian\n",
    "ε = 1.0\n",
    "J = 1.0\n",
    "H = ComplexF64[0 -J 0 0; -J 0 0 0; 0 0 ε 0; 0 0 0 ε]\n",
    "U = 5.0;"
   ]
  },
  {
   "cell_type": "code",
   "execution_count": null,
   "metadata": {},
   "outputs": [],
   "source": [
    "t_scale = J;"
   ]
  },
  {
   "cell_type": "code",
   "execution_count": null,
   "metadata": {},
   "outputs": [],
   "source": [
    "# quantum numbers\n",
    "dim = 2\n",
    "\n",
    "# Define your Green functions at (t0, t0), time-arguments at the end!\n",
    "GL0 = zeros(ComplexF64, dim, dim)\n",
    "FL0 = zeros(ComplexF64, dim, dim)\n",
    "\n",
    "# initial condition\n",
    "N_c = 0.5\n",
    "N_f = 1.0\n",
    "\n",
    "GL0[1, 1] = 1.0im * N_c\n",
    "GL0[2, 2] = 1.0im * 0.2\n",
    "FL0[1, 1] = 1.0im * N_f\n",
    "FL0[1, 1] = 1.0im * 0.5\n",
    "# GG[:, :, 1, 1] = -1.0im .* diagm([1.0, 1.0]) .+ GL[:, :, 1, 1]\n",
    "# FG[:, :, 1, 1] = -1.0im .* diagm([1.0, 1.0]) .+ FL[:, :, 1, 1]\n",
    "\n",
    "# NCA data\n",
    "nca = NCA(GL0, FL0, U);\n",
    "\n",
    "u0 = [nca.GL, nca.GG, nca.FL, nca.FG] # [GL, GG, FL, FG]\n",
    "\n",
    "function f_vert(nca, u, times, t, t′)\n",
    "    \n",
    "#     = u[1], u[2], u[3], u[4]\n",
    "    @unpack GL, GG, FL, FG, ΣNCA_c_L, ΣNCA_c_G, ΣNCA_f_L, ΣNCA_f_G, U = nca\n",
    "    \n",
    "    # real-time collision integral\n",
    "    ∫dt(i, j, A, B) = sign(j-i) * integrate(times[min(i, j):max(i, j)], \n",
    "                                          [A[t, s] .* B[s, t′] for s=min(i, j):max(i, j)])    \n",
    "        \n",
    "    # normal operator ordering\n",
    "    ΣHF_c(t, t′) = 1.0im * U * [FL[1, 1, t, t] 0; 0 FL[2, 2, t, t]]\n",
    "    ΣHF_f(t, t′) = 1.0im * U * [GL[1, 1, t, t] 0; 0 GL[2, 2, t, t]]\n",
    "        \n",
    "    f_GL = (- 1.0im * (H[1:2, 1:2] + ΣHF_c(t, t′)) * GL[t, t′] \n",
    "            - 1.0im * (∫dt(1, t, ΣNCA_c_G, GL) - ∫dt(1, t, ΣNCA_c_L, GL) + ∫dt(1, t′, ΣNCA_c_L, GL) - ∫dt(1, t′, ΣNCA_c_L, GG)))\n",
    "    \n",
    "    f_GG = (- 1.0im * (H[1:2, 1:2] + ΣHF_c(t, t′)) * GG[t, t′]\n",
    "            - 1.0im * (∫dt(1, t, ΣNCA_c_G, GG) - ∫dt(1, t, ΣNCA_c_L, GG) + ∫dt(1, t′, ΣNCA_c_G, GL) - ∫dt(1, t′, ΣNCA_c_G, GG)))\n",
    "    \n",
    "    f_FL = (- 1.0im * (H[3:4, 3:4] + ΣHF_f(t, t′)) * FL[t, t′]\n",
    "            - 1.0im * (∫dt(1, t, ΣNCA_f_G, FL) - ∫dt(1, t, ΣNCA_f_L, FL) + ∫dt(1, t′, ΣNCA_f_L, FL) - ∫dt(1, t′, ΣNCA_f_L, FG)))\n",
    "    \n",
    "    f_FG = (- 1.0im * (H[3:4, 3:4] + ΣHF_f(t, t′)) * FG[t, t′]\n",
    "            - 1.0im * (∫dt(1, t, ΣNCA_f_G, FG) - ∫dt(1, t, ΣNCA_f_L, FG) + ∫dt(1, t′, ΣNCA_f_G, FL) - ∫dt(1, t′, ΣNCA_f_G, FG)))   \n",
    "\n",
    "    \n",
    "    return [f_GL, f_GG, f_FL, f_FG]\n",
    "end\n",
    "\n",
    "# f_diag = (u, times, t) -> f_vert(nca, u, times, t, t) - adjoint.(f_vert(nca, u, times, t, t));\n",
    "\n",
    "function f_diag(u, times, t)\n",
    "    println(\" t: $(times[t])\")\n",
    "    result = f_vert(nca, u, times, t, t)\n",
    "    return  result - adjoint.(result)\n",
    "end;"
   ]
  },
  {
   "cell_type": "code",
   "execution_count": null,
   "metadata": {
    "scrolled": true
   },
   "outputs": [],
   "source": [
    "# Basically this will mutate Lesser and Greater in place\n",
    "rtol = 1e-6\n",
    "atol = 1e-2rtol\n",
    "sol = kbsolve((u, args...) -> f_vert(nca, u, args...), f_diag, u0, (0.0, T); \n",
    "              update_time = (_, args...) -> self_energies!(nca, args...), atol=atol, rtol=rtol);"
   ]
  },
  {
   "cell_type": "code",
   "execution_count": null,
   "metadata": {
    "ExecuteTime": {
     "end_time": "2019-12-09T15:19:00.264000+01:00",
     "start_time": "2019-12-09T14:19:00.183Z"
    }
   },
   "outputs": [],
   "source": [
    "# stop = Int(n/2) + 1 \n",
    "\n",
    "times = sol.t # range(0, length=n + 1, stop=T) |> collect;\n",
    "\n",
    "n = length(sol.t) - 1\n",
    "\n",
    "horizontal_times = k -> vcat(times[k:end] .- times[k], times[end] .+ (1:(k - 1) |> collect) .* (times[end] - times[end-1]));"
   ]
  },
  {
   "cell_type": "code",
   "execution_count": null,
   "metadata": {},
   "outputs": [],
   "source": [
    "n"
   ]
  },
  {
   "cell_type": "markdown",
   "metadata": {},
   "source": [
    "## Example plots"
   ]
  },
  {
   "cell_type": "code",
   "execution_count": null,
   "metadata": {},
   "outputs": [],
   "source": [
    "GL, FL, GG, FG = nca.GL, nca.FL, nca.GG, nca.FG;"
   ]
  },
  {
   "cell_type": "code",
   "execution_count": null,
   "metadata": {},
   "outputs": [],
   "source": [
    "idx1 = 1\n",
    "idx2 = 1;"
   ]
  },
  {
   "cell_type": "code",
   "execution_count": null,
   "metadata": {
    "scrolled": true
   },
   "outputs": [],
   "source": [
    "xpad = 8\n",
    "ypad = 5\n",
    "\n",
    "figure(figsize=(7, 3))\n",
    "\n",
    "ax = subplot(121)\n",
    "plot(J .* sol.t, [imag(GL.data[1, 1, k, k]) for k in 1:length(sol.t)], marker=\"\", ms=3.0, ls=\"-\", c=\"C0\")\n",
    "plot(J .* sol.t, [imag(FL.data[1, 1, k, k]) for k in 1:length(sol.t)], marker=\"\", ms=3.0, ls=\"-\", c=\"C1\")\n",
    "plot(J .* sol.t, [imag(GL.data[2, 2, k, k]) for k in 1:length(sol.t)], marker=\"\", ms=3.0, ls=\"-\", c=\"C0\")\n",
    "plot(J .* sol.t, [imag(FL.data[2, 2, k, k]) for k in 1:length(sol.t)], marker=\"\", ms=3.0, ls=\"-\", c=\"C1\")\n",
    "\n",
    "\n",
    "# plot(sol.t, [imag(gfL.data[2, 2, k, k]) for k in 1:length(sol.t)], marker=\"\", ms=3.0, ls=\"-\", c=\"r\")\n",
    "xlim(0, J * 5)\n",
    "# ylim(0, 1)\n",
    "xticks(J .* [0, 1, 2, 3, 4, 5])\n",
    "# yticks([0, 0.5, 1])\n",
    "xlabel(\"\\$J t\\$\")\n",
    "# ylabel(\"\\$\\\\mathrm{Im}\\\\; G^<_{11}(t, t)\\$\")\n",
    "ax.xaxis.set_tick_params(pad=xpad)\n",
    "ax.yaxis.set_tick_params(pad=ypad)\n",
    "ax.set_axisbelow(false)\n",
    "ticklabel_format(axis=\"y\", style=\"sci\", scilimits=(-0, 0))\n",
    "\n",
    "ax = subplot(122)\n",
    "plot(J .* sol.t, [imag(GL.data[1, 1, k, k]) + imag(GL.data[2, 2, k, k]) for k in 1:length(sol.t)], marker=\"\", ms=3.0, ls=\"--\", c=\"C0\")\n",
    "# plot(J .* sol.t, [imag(FL.data[1, 1, k, k]) + imag(FL.data[2, 2, k, k]) for k in 1:length(sol.t)], marker=\"\", ms=3.0, ls=\"--\", c=\"C1\")\n",
    "xlim(0, J * 5)\n",
    "# ylim(0, 1)\n",
    "# xticks(J .* [0, 1, 2, 3, 4, 5])\n",
    "# yticks([0, 0.5, 1])\n",
    "xlabel(\"\\$J t\\$\")\n",
    "# ylabel(\"\\$\\\\mathrm{Im}\\\\left[ G^<_{11}(t, t) - \\\\mathcal{G}^<_{11}(t, t) \\\\right]\\$\", labelpad=16)\n",
    "ax.xaxis.set_tick_params(pad=xpad)\n",
    "ax.yaxis.set_tick_params(pad=ypad)\n",
    "ax.yaxis.set_label_position(\"right\")\n",
    "ax.set_axisbelow(false)\n",
    "# ax.yaxis.tick_right()\n",
    "ticklabel_format(axis=\"y\", style=\"sci\", scilimits=(-0, 0))\n",
    "\n",
    "tight_layout(pad=0.2, w_pad=0, h_pad=0)\n",
    "# savefig(\"fermion_example_T.pdf\")"
   ]
  },
  {
   "cell_type": "markdown",
   "metadata": {},
   "source": [
    "## Testing"
   ]
  },
  {
   "cell_type": "code",
   "execution_count": null,
   "metadata": {},
   "outputs": [],
   "source": [
    "cmap = \"gist_heat\";"
   ]
  },
  {
   "cell_type": "code",
   "execution_count": null,
   "metadata": {},
   "outputs": [],
   "source": [
    "Y, X = np.meshgrid(sol.t, sol.t);\n",
    "figure(figsize=(5, 3))\n",
    "ax = plt.gca()\n",
    "heatmap = ax.pcolormesh(t_scale * X, Y, imag(FL.data[1, 1, :, :]) .- imag(FG.data[1, 1, :, :]), cmap=cmap, rasterized=true) # vmin=vmin, vmax=vmax,\n",
    "heatmap.set_edgecolor(\"face\")\n",
    "ax.set_aspect(\"equal\")\n",
    "# ax.set_xlabel(\"\\$\\\\lambda T\\$\")\n",
    "# ax.set_ylabel(\"\\$\\\\omega\\$\")\n",
    "# ax.set_xlim(0, t_scale * T)\n",
    "# ax.set_xticks([0, t_scale * T/2, t_scale * T])\n",
    "# ax.set_yticks([-20, -10, 0, 10, 20])\n",
    "# ax.set_ylim(-20, 20)\n",
    "colorbar(mappable=heatmap)\n",
    "tight_layout(pad=0.0, w_pad=0, h_pad=0)"
   ]
  },
  {
   "cell_type": "code",
   "execution_count": null,
   "metadata": {},
   "outputs": [],
   "source": []
  }
 ],
 "metadata": {
  "kernelspec": {
   "display_name": "Julia 1.6.0",
   "language": "julia",
   "name": "julia-1.6"
  },
  "language_info": {
   "file_extension": ".jl",
   "mimetype": "application/julia",
   "name": "julia",
   "version": "1.6.0"
  }
 },
 "nbformat": 4,
 "nbformat_minor": 2
}
