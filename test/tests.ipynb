{
 "cells": [
  {
   "cell_type": "code",
   "execution_count": null,
   "metadata": {},
   "outputs": [],
   "source": [
    "using LinearAlgebra\n",
    "include(\"../src/gf.jl\")"
   ]
  },
  {
   "cell_type": "code",
   "execution_count": null,
   "metadata": {},
   "outputs": [],
   "source": [
    "using OrdinaryDiffEq, Parameters, MuladdMacro\n",
    "include(\"../src/common.jl\")"
   ]
  },
  {
   "cell_type": "markdown",
   "metadata": {},
   "source": [
    "### Define problem"
   ]
  },
  {
   "cell_type": "code",
   "execution_count": null,
   "metadata": {},
   "outputs": [],
   "source": [
    "tspan = (0.0, 1.0)\n",
    "dt = 0.1\n",
    "\n",
    "steps = ceil(Int, (tspan[2] - tspan[1])/dt) + 1;"
   ]
  },
  {
   "cell_type": "code",
   "execution_count": null,
   "metadata": {},
   "outputs": [],
   "source": [
    "# gf = LesserGF(zeros(Float64, 1, 1));\n",
    "data = reshape([ones(2,2),zeros(2,2),zeros(2,2),zeros(2,2)], 2, 2)\n",
    "gf = LesserGF(data);"
   ]
  },
  {
   "cell_type": "code",
   "execution_count": null,
   "metadata": {},
   "outputs": [],
   "source": [
    "function f(u, p, t, t′)\n",
    "    [u[1][t,t′]]\n",
    "end"
   ]
  },
  {
   "cell_type": "code",
   "execution_count": null,
   "metadata": {},
   "outputs": [],
   "source": [
    "u = [data, ];"
   ]
  },
  {
   "cell_type": "code",
   "execution_count": null,
   "metadata": {},
   "outputs": [],
   "source": [
    "prob = ODEProblem(f, u, tspan);"
   ]
  },
  {
   "cell_type": "markdown",
   "metadata": {},
   "source": [
    "### Kadanoff-Baym timestepper tests"
   ]
  },
  {
   "cell_type": "code",
   "execution_count": null,
   "metadata": {
    "scrolled": false
   },
   "outputs": [],
   "source": [
    "alg = KB{ABM43}()\n",
    "\n",
    "@show OrdinaryDiffEq.alg_order(alg)\n",
    "@show OrdinaryDiffEq.isfsal(alg);"
   ]
  },
  {
   "cell_type": "code",
   "execution_count": null,
   "metadata": {},
   "outputs": [],
   "source": [
    "# DiffEqBase.__init(prob, alg, dt)"
   ]
  },
  {
   "cell_type": "code",
   "execution_count": null,
   "metadata": {},
   "outputs": [],
   "source": [
    "integrator = KBIntegrator((1,1), (0,1), 1, prob.u0, prob.f, prob.f(u,nothing,1,1), nothing, nothing, nothing, false)"
   ]
  },
  {
   "cell_type": "code",
   "execution_count": null,
   "metadata": {},
   "outputs": [],
   "source": [
    "cache = OrdinaryDiffEq.HeunConstantCache()\n",
    "eulerHeun!(integrator, cache)\n",
    "prob.u0"
   ]
  },
  {
   "cell_type": "code",
   "execution_count": null,
   "metadata": {
    "scrolled": true
   },
   "outputs": [],
   "source": [
    "cache = OrdinaryDiffEq.ABM43ConstantCache(zero.(integrator.fsalfirst),zero.(integrator.fsalfirst),zero.(integrator.fsalfirst),1)\n",
    "abm43!(integrator, cache)\n",
    "prob.u0"
   ]
  },
  {
   "cell_type": "code",
   "execution_count": null,
   "metadata": {
    "scrolled": true
   },
   "outputs": [],
   "source": [
    "function test_callback_outofplace(alg; kwargs...)\n",
    "    f = (u, p, t) -> copy(u)\n",
    "    cb = ContinuousCallback((u,t,int) -> u[1] - exp(1), terminate!)\n",
    "    prob = ODEProblem(f, [1.0], (0.0, 2.0), callback=cb)\n",
    "    sol = solve(prob, alg; kwargs...)\n",
    "    sol.u[end][1] ≈ exp(1)\n",
    "end\n",
    "\n",
    "@test test_callback_outofplace(KadanoffBaym(); dt=0.1)"
   ]
  },
  {
   "cell_type": "code",
   "execution_count": null,
   "metadata": {},
   "outputs": [],
   "source": []
  }
 ],
 "metadata": {
  "kernelspec": {
   "display_name": "Julia 1.1.1",
   "language": "julia",
   "name": "julia-1.1"
  },
  "language_info": {
   "file_extension": ".jl",
   "mimetype": "application/julia",
   "name": "julia",
   "version": "1.1.1"
  }
 },
 "nbformat": 4,
 "nbformat_minor": 2
}
