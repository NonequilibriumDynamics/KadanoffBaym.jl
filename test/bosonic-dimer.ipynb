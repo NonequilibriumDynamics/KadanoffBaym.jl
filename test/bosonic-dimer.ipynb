{
 "cells": [
  {
   "cell_type": "markdown",
   "metadata": {},
   "source": [
    "# Bosonic Double-well"
   ]
  },
  {
   "cell_type": "code",
   "execution_count": null,
   "metadata": {
    "ExecuteTime": {
     "end_time": "2019-12-09T14:41:15.628000+01:00",
     "start_time": "2019-12-09T13:41:08.419Z"
    }
   },
   "outputs": [],
   "source": [
    "using KadanoffBaym\n",
    "\n",
    "using PyPlot\n",
    "using PyCall\n",
    "qt = pyimport(\"qutip\")\n",
    "np = pyimport(\"numpy\")\n",
    "\n",
    "PyPlot.matplotlib.rc(\"text\", usetex=true)\n",
    "PyPlot.matplotlib.rc(\"font\", family=\"serif\", size=16)"
   ]
  },
  {
   "cell_type": "markdown",
   "metadata": {
    "heading_collapsed": true
   },
   "source": [
    "## Model"
   ]
  },
  {
   "cell_type": "markdown",
   "metadata": {
    "hidden": true
   },
   "source": [
    "### Non-Hermitian Hamiltonian:\n",
    "\n",
    "$$\n",
    "    \\hat{H} = \\left(\\omega_1 -i\\frac{\\lambda}{2}\\right) a^{\\dagger}_1 a^\\phantom{\\dagger}_1 -i\\frac{\\gamma}{2} a^\\phantom{\\dagger}_1 a^{\\dagger}_1  + \\omega_2 a^{\\dagger}_2 a^\\phantom{\\dagger}_2 + J \\left(a^{\\dagger}_1 a^\\phantom{\\dagger}_2 + a^{\\dagger}_2 a^\\phantom{\\dagger}_1\\right)\n",
    "$$\n",
    "\n",
    "### Master equation:\n",
    "\n",
    "$$\n",
    "    \\partial_{t} \\hat{\\rho}=-i\\left[\\hat{H} \\hat{\\rho}-\\hat{\\rho} \\hat{H}^{\n",
    "    \\dagger}\\right]+\\lambda a^\\phantom{\\dagger}_1 \\hat{\\rho}  a^{\\dagger}_1 +\\gamma  a^{\\dagger}_1 \\hat{\\rho} a^\\phantom{\\dagger}_1\n",
    "$$\n",
    "\n",
    "### Equations of motion\n",
    "\n",
    "#### Vertical Time.\n",
    "\n",
    "\\begin{align}\\begin{split}\n",
    "    0 &= \\begin{pmatrix}\n",
    "    i \\partial_t - \\omega_1 + i(\\lambda + \\gamma)/2 & -J \\\\\n",
    "    -J & i \\partial_t - \\omega_2\n",
    "    \\end{pmatrix} \n",
    "    \\begin{pmatrix}\n",
    "    G^<_{11} & G^<_{12} \\\\\n",
    "    G^<_{21} & G^<_{22}\n",
    "    \\end{pmatrix}(t, t') \n",
    "    - i\\gamma\n",
    "    \\begin{pmatrix}\n",
    "    G^{\\tilde{T}}_{11} & G^{\\tilde{T}}_{12} \\\\\n",
    "    0 & 0\n",
    "    \\end{pmatrix}(t, t')  \\\\\n",
    "    0 &= \\begin{pmatrix}\n",
    "    i \\partial_t - \\omega_1 - i(\\lambda + \\gamma)/2 & -J \\\\\n",
    "    -J & i \\partial_t - \\omega_2\n",
    "    \\end{pmatrix} \n",
    "    \\begin{pmatrix}\n",
    "    G^>_{11} & G^>_{12} \\\\\n",
    "    G^>_{21} & G^>_{22}\n",
    "    \\end{pmatrix}(t, t')  \n",
    "    + i\\lambda\n",
    "    \\begin{pmatrix}\n",
    "    G^T_{11} & G^T_{12} \\\\\n",
    "    0 & 0\n",
    "    \\end{pmatrix}(t, t')   \n",
    "\\end{split}\\end{align}\n",
    "\n",
    "#### Horizontal Time.\n",
    "\n",
    "\\begin{align}\\begin{split}\n",
    "    0 &= \\begin{pmatrix}\n",
    "    G^<_{11} & G^<_{12} \\\\\n",
    "    G^<_{21} & G^<_{22}\n",
    "    \\end{pmatrix}(t, t') \n",
    "    \\begin{pmatrix}\n",
    "    i \\partial_{t'} + \\omega_1 + i(\\lambda + \\gamma)/2 & J \\\\\n",
    "    J & i \\partial_{t'} + \\omega_2\n",
    "    \\end{pmatrix} \n",
    "    - i\\gamma\n",
    "    \\begin{pmatrix}\n",
    "    G^{{T}}_{11} & 0 \\\\\n",
    "    G^{{T}}_{21} & 0\n",
    "    \\end{pmatrix}(t, t')     \\\\\n",
    "    0 &= \\begin{pmatrix}\n",
    "    G^>_{11} & G^>_{12} \\\\\n",
    "    G^>_{21} & G^>_{22}\n",
    "    \\end{pmatrix}(t, t') \n",
    "    \\begin{pmatrix}\n",
    "    i \\partial_{t'} + \\omega_1 - i(\\lambda + \\gamma)/2 & J \\\\\n",
    "    J & i \\partial_{t'} + \\omega_2\n",
    "    \\end{pmatrix}  \n",
    "    + i\\lambda\n",
    "    \\begin{pmatrix}\n",
    "    G^{\\tilde{T}}_{11} & 0 \\\\\n",
    "    G^{\\tilde{T}}_{21} & 0\n",
    "    \\end{pmatrix}(t, t')   \n",
    "\\end{split}\\end{align}\n",
    "\n",
    "#### Equal-Time.\n",
    "\n",
    "\\begin{align}\\begin{split}\n",
    "    0 &= \\begin{pmatrix}\n",
    "    i \\partial_T + i(\\lambda + \\gamma) & 0 \\\\\n",
    "    0 & i \\partial_T\n",
    "    \\end{pmatrix} \n",
    "    \\begin{pmatrix}\n",
    "    G^<_{11} & G^<_{12} \\\\\n",
    "    G^<_{21} & G^<_{22}\n",
    "    \\end{pmatrix}(T, 0)\n",
    "    - \\left[\\begin{pmatrix}\n",
    "    \\omega_1 & J \\\\\n",
    "    J & \\omega_2\n",
    "    \\end{pmatrix}, \n",
    "    \\begin{pmatrix}\n",
    "    G^<_{11} & G^<_{12} \\\\\n",
    "    G^<_{21} & G^<_{22}\n",
    "    \\end{pmatrix}(T, 0)\\right] \n",
    "    - i\\gamma\n",
    "    \\begin{pmatrix}\n",
    "    G^T_{11} + G^{\\tilde{T}}_{11} & G^\\tilde{T}_{12} \\\\\n",
    "    G^{{T}}_{21} & 0\n",
    "    \\end{pmatrix}(T, 0)       \\\\\n",
    "    0 &= \\begin{pmatrix}\n",
    "    i \\partial_T - i(\\lambda + \\gamma) & 0 \\\\\n",
    "    0 & i \\partial_T\n",
    "    \\end{pmatrix} \n",
    "    \\begin{pmatrix}\n",
    "    G^>_{11} & G^>_{12} \\\\\n",
    "    G^>_{21} & G^>_{22}\n",
    "    \\end{pmatrix}(T, 0)  \n",
    "    - \\left[\\begin{pmatrix}\n",
    "    \\omega_1 & J \\\\\n",
    "    J & \\omega_2\n",
    "    \\end{pmatrix}, \n",
    "    \\begin{pmatrix}\n",
    "    G^>_{11} & G^>_{12} \\\\\n",
    "    G^>_{21} & G^>_{22}\n",
    "    \\end{pmatrix}(T, 0)\\right]\n",
    "    + i\\lambda\n",
    "    \\begin{pmatrix}\n",
    "    G^T_{11} + G^{\\tilde{T}}_{11} & G^T_{12} \\\\\n",
    "    G^{\\tilde{T}}_{21} & 0\n",
    "    \\end{pmatrix}(T, 0)   \n",
    "\\end{split}\\end{align}"
   ]
  },
  {
   "cell_type": "markdown",
   "metadata": {},
   "source": [
    "## Solving"
   ]
  },
  {
   "cell_type": "code",
   "execution_count": null,
   "metadata": {
    "ExecuteTime": {
     "end_time": "2019-12-09T14:43:21.414000+01:00",
     "start_time": "2019-12-09T13:43:14.461Z"
    }
   },
   "outputs": [],
   "source": [
    "# time parameters\n",
    "T = 5.0\n",
    "\n",
    "# Non-Hermitian Hamiltonian and jump operator\n",
    "ω₁ = 0.1 * 5.0\n",
    "ω₂ = 0.0\n",
    "J = 0.5*2*pi*1.0/2 \n",
    "U = 0*1.0\n",
    "λ = 1.0/10.\n",
    "γ = 0*1.0\n",
    "h = ComplexF64[ω₁ - 0.5im * (λ + γ) J; J ω₂];"
   ]
  },
  {
   "cell_type": "code",
   "execution_count": null,
   "metadata": {
    "ExecuteTime": {
     "end_time": "2019-12-09T14:43:21.414000+01:00",
     "start_time": "2019-12-09T13:43:14.461Z"
    }
   },
   "outputs": [],
   "source": [
    "# quantum numbers\n",
    "dim = 2\n",
    "\n",
    "# Define your Green functions at (t0, t0), time-arguments at the end!\n",
    "gfL = GreenFunction(zeros(ComplexF64, dim, dim, 1, 1), Lesser)\n",
    "gfG = GreenFunction(zeros(ComplexF64, dim, dim, 1, 1), Greater)\n",
    "\n",
    "# Note to Tim: Accessing a gf with 2 indices gives you the gf at those time points\n",
    "# Lesser[1,1] <=> Lesser[:,:,1,1]\n",
    "\n",
    "# initial condition\n",
    "N_0 = 5\n",
    "\n",
    "gfL[1,1,1,1] = -1.0im * N_0\n",
    "gfG[1,1,1,1] = -1.0im * (N_0 + 1)\n",
    "gfG[2,2,1,1] = -1.0im\n",
    "\n",
    "u0 = [gfL, gfG];\n",
    "\n",
    "function f_vert(u, times, t, t′)\n",
    "    u1, u2 = u[1], u[2]\n",
    "    rhs1 = -1.0im * (h * u1[t,t′] + [[1.0im * γ, 0] [0, 0]] * u1[t,t′])\n",
    "    rhs2 = -1.0im * (h * u2[t,t′] - [[1.0im * λ, 0] [0, 0]] * u2[t,t′])\n",
    "  return [rhs1, rhs2]\n",
    "end\n",
    "\n",
    "function f_diag(u, times, t)\n",
    "    println(\"t: $(times[t])\")\n",
    "    u1, u2 = u[1], u[2]\n",
    "    rhs1 = -1.0im * (h * u1[t,t] - u1[t,t] * adjoint(h)\n",
    "        + 1.0im * γ * [[u1[1,1,t,t] + u2[1,1,t,t], u2[2,1,t,t]] [u2[1,2,t,t], 0]])\n",
    "    rhs2 = -1.0im * (adjoint(h) * u2[t,t] - u2[t,t] * h\n",
    "        - 1.0im * λ * [[u1[1,1,t,t] + u2[1,1,t,t], 0.5 * (u1[2,1,t,t] + u2[2,1,t,t])] [0.5 * (u1[1,2,t,t] + u2[1,2,t,t]), 0]])\n",
    "  return [rhs1, rhs2]\n",
    "end\n",
    "\n",
    "# Basically this will mutate Lesser and Greater in place\n",
    "sol, _ = kbsolve(f_vert, f_diag, u0, 0.0, T; init_dt=1e-3, atol=1e-5, rtol=1e-3);"
   ]
  },
  {
   "cell_type": "code",
   "execution_count": null,
   "metadata": {},
   "outputs": [],
   "source": [
    "# [(t, tp) for t in sol.t, tp in sol.t]"
   ]
  },
  {
   "cell_type": "code",
   "execution_count": null,
   "metadata": {},
   "outputs": [],
   "source": [
    "# println(map(x -> round(x[2] - x[1], sigdigits=4), zip(sol.t[1:end-1], sol.t[2:end])))"
   ]
  },
  {
   "cell_type": "code",
   "execution_count": null,
   "metadata": {},
   "outputs": [],
   "source": [
    "length(sol.t)"
   ]
  },
  {
   "cell_type": "code",
   "execution_count": null,
   "metadata": {},
   "outputs": [],
   "source": [
    "# n = 128;\n",
    "n = length(sol.t) - 1;"
   ]
  },
  {
   "cell_type": "code",
   "execution_count": null,
   "metadata": {},
   "outputs": [],
   "source": [
    "# If you want to compare with qutip\n",
    "# maybe it's best to interpolate the results into an equidistant time-domain\n",
    "\n",
    "new_time = range(first(sol.t), stop=last(sol.t), length=n + 1)\n",
    "\n",
    "using Interpolations\n",
    "\n",
    "gfL_11_itp = interpolate((sol.t, sol.t), gfL.data[1,1,:,:], Gridded(Linear()))\n",
    "gfL_22_itp = interpolate((sol.t, sol.t), gfL.data[2,2,:,:], Gridded(Linear()))\n",
    "gfG_11_itp = interpolate((sol.t, sol.t), gfG.data[1,1,:,:], Gridded(Linear()))\n",
    "gfG_22_itp = interpolate((sol.t, sol.t), gfG.data[2,2,:,:], Gridded(Linear()))\n",
    "\n",
    "gfL_11_equi = [gfL_11_itp(t1, t2) for t1=new_time, t2=new_time];\n",
    "gfL_22_equi = [gfL_22_itp(t1, t2) for t1=new_time, t2=new_time];\n",
    "gfG_11_equi = [gfG_11_itp(t1, t2) for t1=new_time, t2=new_time];\n",
    "gfG_22_equi = [gfG_22_itp(t1, t2) for t1=new_time, t2=new_time];"
   ]
  },
  {
   "cell_type": "code",
   "execution_count": null,
   "metadata": {
    "ExecuteTime": {
     "end_time": "2019-12-09T14:43:21.509000+01:00",
     "start_time": "2019-12-09T13:43:15.029Z"
    }
   },
   "outputs": [],
   "source": [
    "stop = Int(round(n/2)) + 1 \n",
    "\n",
    "times = sol.t # range(first(sol.t), stop=last(sol.t), length=n + 1) |> collect\n",
    "\n",
    "# defining the tau times\n",
    "times_tau = 2 .* vcat([-times[stop - (k - 1)] for k in 1:stop - 1], times[1:stop]);"
   ]
  },
  {
   "cell_type": "code",
   "execution_count": null,
   "metadata": {},
   "outputs": [],
   "source": [
    "stop"
   ]
  },
  {
   "cell_type": "markdown",
   "metadata": {
    "heading_collapsed": true
   },
   "source": [
    "## QuTiP benchmark"
   ]
  },
  {
   "cell_type": "code",
   "execution_count": null,
   "metadata": {
    "hidden": true
   },
   "outputs": [],
   "source": [
    "print(qt.Options().method)"
   ]
  },
  {
   "cell_type": "code",
   "execution_count": null,
   "metadata": {
    "ExecuteTime": {
     "end_time": "2019-12-09T14:43:21.785000+01:00",
     "start_time": "2019-12-09T13:43:15.495Z"
    },
    "hidden": true
   },
   "outputs": [],
   "source": [
    "# maximal number of photons\n",
    "# Fock-space dimension will be n_max + 1\n",
    "n_max = 10\n",
    "\n",
    "# initial state\n",
    "psi0_list = [qt.basis(n_max + 1, N_0), qt.basis(n_max + 1, 0)]\n",
    "psi0 = qt.tensor(psi0_list)\n",
    "\n",
    "# define annihilation operators\n",
    "a_1_list = [qt.destroy(n_max + 1), qt.qeye(n_max + 1)]\n",
    "a_1  = qt.tensor(a_1_list)    \n",
    "a_2_list = [qt.qeye(n_max + 1), qt.destroy(n_max + 1)]\n",
    "a_2  = qt.tensor(a_2_list)    \n",
    "\n",
    "# Hamiltonian\n",
    "H  = J * a_1.dag() * a_2\n",
    "H += H.dag()\n",
    "H += ω₁ * a_1.dag() * a_1 + ω₂ * a_2.dag() * a_2\n",
    "H += 0.5 * U *(a_1.dag() * a_1 * a_1.dag() * a_1 + a_2.dag() * a_2 * a_2.dag() * a_2)\n",
    "\n",
    "observables = [a_1.dag()*a_1, a_2.dag()*a_2, a_1*a_1.dag(), a_2*a_2.dag()];"
   ]
  },
  {
   "cell_type": "code",
   "execution_count": null,
   "metadata": {
    "ExecuteTime": {
     "end_time": "2019-12-09T14:43:22.261000+01:00",
     "start_time": "2019-12-09T13:43:15.663Z"
    },
    "hidden": true
   },
   "outputs": [],
   "source": [
    "j_ops = [sqrt(λ) * a_1, sqrt(γ) * a_1.dag()] # qutip only needs the jump operator\n",
    "\n",
    "# quickly solve once for observables\n",
    "me = qt.mesolve(H, psi0, times, j_ops, observables)\n",
    "\n",
    "# solve for the time-dependent density matrix\n",
    "t_sols = qt.mesolve(H, psi0, times, j_ops); # t_sols.states returns density matrices"
   ]
  },
  {
   "cell_type": "markdown",
   "metadata": {
    "hidden": true
   },
   "source": [
    "#### Two times"
   ]
  },
  {
   "cell_type": "markdown",
   "metadata": {
    "hidden": true
   },
   "source": [
    "Calculate $\\langle a^\\dagger_1(t') a^\\phantom{\\dagger}_1(t)\\rangle$, where $t' = t + \\tau$."
   ]
  },
  {
   "cell_type": "code",
   "execution_count": null,
   "metadata": {
    "ExecuteTime": {
     "end_time": "2019-12-09T14:43:41.466000+01:00",
     "start_time": "2019-12-09T13:43:16.166Z"
    },
    "hidden": true
   },
   "outputs": [],
   "source": [
    "tau_t_sols = Dict()\n",
    "for k in 1:length(t_sols.states)\n",
    "    tau_t_sols[k] = qt.mesolve(H, a_1 * t_sols.states[k], vcat(times[k:end] .- times[k], \n",
    "            times[end] .+ (1:(k - 1) |> collect) .* (times[end] - times[end-1])), j_ops).states\n",
    "end\n",
    "\n",
    "a_1_dag_a_1 = zeros(ComplexF64, length(t_sols.states), length(t_sols.states))\n",
    "for k in 1:length(t_sols.states)\n",
    "    for l in 1:length(t_sols.states)\n",
    "        a_1_dag_a_1[k, l] = (a_1.dag() * tau_t_sols[k][l]).tr()    \n",
    "    end\n",
    "end"
   ]
  },
  {
   "cell_type": "code",
   "execution_count": null,
   "metadata": {
    "hidden": true
   },
   "outputs": [],
   "source": [
    "tau_t_sols = Dict()\n",
    "for k in 1:length(t_sols.states)\n",
    "    tau_t_sols[k] = qt.mesolve(H, a_2 * t_sols.states[k], times, j_ops).states\n",
    "end\n",
    "\n",
    "a_2_dag_a_2 = zeros(ComplexF64, length(t_sols.states), length(t_sols.states))\n",
    "for k in 1:length(t_sols.states)\n",
    "    for l in 1:length(t_sols.states)\n",
    "        a_2_dag_a_2[k, l] = (a_2.dag() * tau_t_sols[k][l]).tr()    \n",
    "    end\n",
    "end"
   ]
  },
  {
   "cell_type": "code",
   "execution_count": null,
   "metadata": {
    "ExecuteTime": {
     "end_time": "2019-12-09T14:43:42.046000+01:00",
     "start_time": "2019-12-09T13:43:16.349Z"
    },
    "hidden": true
   },
   "outputs": [],
   "source": [
    "# reshape the above array to fit into our two-time \"matrix\" structure \n",
    "# see the plot below for illustration\n",
    "unskewed_a_1_dag_a_1 = zeros(ComplexF64, length(t_sols.states), 2*length(t_sols.states) - 1)\n",
    "for (k, x) in enumerate([a_1_dag_a_1[k, :] for k in 1:length(t_sols.states)])\n",
    "    for (l, y) in enumerate(x)\n",
    "        ind = k + l - 1 # verify the -1 relative to the original python code\n",
    "        unskewed_a_1_dag_a_1[k, ind] = y  \n",
    "    end\n",
    "end"
   ]
  },
  {
   "cell_type": "code",
   "execution_count": null,
   "metadata": {
    "hidden": true
   },
   "outputs": [],
   "source": [
    "# reshape the above array to fit into our two-time \"matrix\" structure \n",
    "# see the plot below for illustration\n",
    "unskewed_a_2_dag_a_2 = zeros(ComplexF64, length(t_sols.states), 2*length(t_sols.states) - 1)\n",
    "for (k, x) in enumerate([a_2_dag_a_2[k, :] for k in 1:length(t_sols.states)])\n",
    "    for (l, y) in enumerate(x)\n",
    "        ind = k + l - 1 # verify the -1 relative to the original python code\n",
    "        unskewed_a_2_dag_a_2[k, ind] = y  \n",
    "    end\n",
    "end"
   ]
  },
  {
   "cell_type": "code",
   "execution_count": null,
   "metadata": {
    "ExecuteTime": {
     "end_time": "2019-12-09T14:43:45.153000+01:00",
     "start_time": "2019-12-09T13:43:16.545Z"
    },
    "hidden": true
   },
   "outputs": [],
   "source": [
    "figure(figsize=(6, 2))\n",
    "subplot(121)\n",
    "imshow(real(a_1_dag_a_1), cmap=\"plasma\")\n",
    "\n",
    "subplot(122)\n",
    "imshow(real(unskewed_a_1_dag_a_1), cmap=\"plasma\")\n",
    "colorbar()\n",
    "\n",
    "tight_layout()"
   ]
  },
  {
   "cell_type": "markdown",
   "metadata": {},
   "source": [
    "## Plotting"
   ]
  },
  {
   "cell_type": "code",
   "execution_count": null,
   "metadata": {},
   "outputs": [],
   "source": [
    "imshow(-imag(gfL.data[1, 1, :, :]))"
   ]
  },
  {
   "cell_type": "code",
   "execution_count": null,
   "metadata": {
    "ExecuteTime": {
     "end_time": "2019-12-09T14:43:45.276000+01:00",
     "start_time": "2019-12-09T13:43:18.082Z"
    }
   },
   "outputs": [],
   "source": [
    "# time diagonal\n",
    "GL_11 = [-imag(gfL_11_equi[k, k]) for k in 1:n+1]\n",
    "GL_22 = [-imag(gfL_22_equi[k, k]) for k in 1:n+1];\n",
    "\n",
    "GG_11 = [-imag(gfG_11_equi[k, k]) for k in 1:n+1]\n",
    "GG_22 = [-imag(gfG_22_equi[k, k]) for k in 1:n+1];"
   ]
  },
  {
   "cell_type": "code",
   "execution_count": null,
   "metadata": {
    "ExecuteTime": {
     "end_time": "2019-12-09T14:43:45.601000+01:00",
     "start_time": "2019-12-09T13:43:18.240Z"
    }
   },
   "outputs": [],
   "source": [
    "# building the tau Green functions\n",
    "GL_11_tau = [gfL.data[1, 1, stop - (k - 1), stop + (k - 1)] for k in 1:stop]\n",
    "GL_11_tau_reversed = [GL_11_tau[stop - (k - 1)] for k in 1:stop];\n",
    "GL_11_tau_full = vcat(-conj(GL_11_tau_reversed[1:end-1]), GL_11_tau);\n",
    "\n",
    "GL_22_tau = [gfL.data[2, 2, stop - (k - 1), stop + (k - 1)] for k in 1:stop]\n",
    "GL_22_tau_reversed = [GL_22_tau[stop - (k - 1)] for k in 1:stop];\n",
    "GL_22_tau_full = vcat(-conj(GL_22_tau_reversed[1:end-1]), GL_22_tau);"
   ]
  },
  {
   "cell_type": "code",
   "execution_count": null,
   "metadata": {
    "ExecuteTime": {
     "end_time": "2019-12-09T14:43:45.601000+01:00",
     "start_time": "2019-12-09T13:43:18.240Z"
    }
   },
   "outputs": [],
   "source": [
    "a_1_dag_a_1_tau = [unskewed_a_1_dag_a_1[stop - (k - 1), stop + (k - 1)] for k in 1:stop]\n",
    "a_1_dag_a_1_tau_reversed = [a_1_dag_a_1_tau[stop - (k - 1)] for k in 1:stop]\n",
    "a_1_dag_a_1_tau_full = vcat(conj(a_1_dag_a_1_tau_reversed[1:end-1]), a_1_dag_a_1_tau);\n",
    "\n",
    "a_2_dag_a_2_tau = [unskewed_a_2_dag_a_2[stop - (k - 1), stop + (k - 1)] for k in 1:stop]\n",
    "a_2_dag_a_2_tau_reversed = [a_2_dag_a_2_tau[stop - (k - 1)] for k in 1:stop]\n",
    "a_2_dag_a_2_tau_full = vcat(conj(a_2_dag_a_2_tau_reversed[1:end-1]), a_2_dag_a_2_tau);"
   ]
  },
  {
   "cell_type": "code",
   "execution_count": null,
   "metadata": {
    "ExecuteTime": {
     "end_time": "2019-12-09T14:43:47.424000+01:00",
     "start_time": "2019-12-09T13:43:18.413Z"
    }
   },
   "outputs": [],
   "source": [
    "figure(figsize=(12, 6))\n",
    "subplot(221)\n",
    "plot(sol.t, [-imag(gfL.data[1, 1, k, k]) for k in 1:length(sol.t)], marker=\"\", ms=3.0, ls=\"-\", c=\"r\")\n",
    "plot(sol.t, [-imag(gfL.data[2, 2, k, k]) for k in 1:length(sol.t)], marker=\"\", ms=3.0, ls=\"-\", c=\"r\")\n",
    "plot(times, me.expect[1], c=\"k\", ls=\"--\", lw=3.0, alpha=0.5)\n",
    "plot(times, [real(unskewed_a_2_dag_a_2[k, k]) for k in 1:n+1], c=\"k\", ls=\"--\", lw=3.0, alpha=0.5)\n",
    "# plot(times, me.expect[2], c=\"k\", ls=\"--\")\n",
    "xlim(0, T)\n",
    "# ylim(0, N_0)\n",
    "xlabel(\"\\$t\\$\")\n",
    "\n",
    "subplot(222)\n",
    "idx = 50\n",
    "plot(sol.t[idx:end - 1], [-imag(gfL.data[1, 1, idx, k + idx - 1]) for k in 1:length(sol.t) - idx], \"o\", ms=1, c=\"r\")\n",
    "# plot(sol.t[idx:end - 1], [real(unskewed_a_1_dag_a_1[idx, k + idx - 1]) for k in 1:length(sol.t) - idx], c=\"k\", ls=\"--\", lw=3.0, alpha=0.5)\n",
    "plot(sol.t[idx:end - 1], [real(unskewed_a_1_dag_a_1[idx, k + idx - 1]) for k in 1:length(sol.t) - idx], \"o\", c=\"k\", lw=3.0, alpha=0.5, ms=1)\n",
    "\n",
    "# plot(times_tau, -imag(GL_11_tau_full), \"o\", ms=2)\n",
    "# plot(times_tau, a_1_dag_a_1_tau_full, c=\"k\", \"s\", lw=3.0, alpha=0.5, ms=2)\n",
    "# plot(times_tau, -imag(GL_22_tau_full), \"o\", ms=2)\n",
    "# plot(times_tau, a_2_dag_a_2_tau_full, c=\"k\", \"s\", lw=3.0, alpha=0.5, ms=2)\n",
    "\n",
    "# xlim(-T, T)\n",
    "xlabel(\"\\$\\\\tau\\$\")\n",
    "# ylim(-5.0, 5.0)\n",
    "\n",
    "subplot(223)\n",
    "plot(sol.t, [-imag(gfG.data[1, 1, k, k]) for k in 1:length(sol.t)] .- 1, marker=\"\", ms=3.0, ls=\"-\", c=\"r\")\n",
    "plot(sol.t, [-imag(gfG.data[2, 2, k, k]) for k in 1:length(sol.t)] .- 1, marker=\"\", ms=3.0, ls=\"-\", c=\"r\")\n",
    "plot(times, me.expect[3] .- 1, c=\"k\", ls=\"--\", lw=3.0, alpha=0.5)\n",
    "plot(times, me.expect[4] .- 1, c=\"k\", ls=\"--\", lw=3.0, alpha=0.5)\n",
    "xlim(0, T)\n",
    "# ylim(0, N_0)\n",
    "xlabel(\"\\$t\\$\")\n",
    "\n",
    "tight_layout()\n",
    "# savefig(\"test.pdf\")"
   ]
  },
  {
   "cell_type": "code",
   "execution_count": null,
   "metadata": {
    "ExecuteTime": {
     "end_time": "2019-12-09T14:43:47.897000+01:00",
     "start_time": "2019-12-09T13:43:18.627Z"
    }
   },
   "outputs": [],
   "source": [
    "figure(figsize=(12, 3))\n",
    "subplot(121)\n",
    "plot(sol.t, [-imag(gfL.data[1, 1, k, k]) for k in 1:length(sol.t)] .- me.expect[1], marker=\"\", ms=3.0, ls=\"-\", c=\"r\")\n",
    "# plot(times, GL_11 - me.expect[1], c=\"k\", ls=\"--\")\n",
    "# plot(times, GL_22 - me.expect[2], c=\"k\", ls=\"--\")\n",
    "# plot(times, GG_11 - me.expect[3], c=\"k\", ls=\":\")\n",
    "# plot(times, GG_22 - me.expect[4], c=\"k\", ls=\":\")\n",
    "xlim(0, T)\n",
    "# ylim(0, N_0)\n",
    "xlabel(\"\\$t\\$\")\n",
    "\n",
    "subplot(122)\n",
    "idx = 20\n",
    "plot(sol.t[idx:end - 1], [-imag(gfL.data[1, 1, idx, k + idx - 1]) for k in 1:length(sol.t) - idx] \n",
    "    .- [real(unskewed_a_1_dag_a_1[idx, k + idx - 1]) for k in 1:length(sol.t) - idx], \"o\", ms=1, c=\"r\")\n",
    "# plot(times_tau, -imag(GL_11_tau_full) - a_1_dag_a_1_tau_full, c=\"k\", ls=\"--\")\n",
    "# plot(times_tau, -imag(GL_22_tau_full) - a_2_dag_a_2_tau_full, c=\"k\", ls=\"--\")\n",
    "xlim(-T, T)\n",
    "xlabel(\"\\$\\\\tau\\$\")\n",
    "# ylim(0, 1.0)\n",
    "\n",
    "tight_layout()"
   ]
  },
  {
   "cell_type": "markdown",
   "metadata": {},
   "source": [
    "## Testing"
   ]
  },
  {
   "cell_type": "code",
   "execution_count": null,
   "metadata": {},
   "outputs": [],
   "source": [
    "idx_1 = 20\n",
    "plot(sol.t, [-imag(gfL.data[1, 1, idx_1, k]) for k in 1:n+1], \"o\", ms=3.0, c=\"r\")\n",
    "plot(sol.t, [a_1_dag_a_1[idx_1, k] for k in 1:n+1], c=\"k\", \"s\", lw=3.0, alpha=0.5, ms=2)"
   ]
  },
  {
   "cell_type": "code",
   "execution_count": null,
   "metadata": {
    "scrolled": true
   },
   "outputs": [],
   "source": [
    "[wigner_transform(gfL.data[1, 1, :, :]; fourier=false)[1] for k in length(sol.t)]"
   ]
  },
  {
   "cell_type": "code",
   "execution_count": null,
   "metadata": {},
   "outputs": [],
   "source": [
    "figure(figsize=(12, 3))\n",
    "subplot(121)\n",
    "xlim(0, T)\n",
    "plot(sol.t, [-imag(gfL.data[1, 1, k, k]) for k in 1:length(sol.t)], marker=\"o\", ms=3.0, ls=\"\")\n",
    "plot(sol.t, [-imag(gfG.data[1, 1, k, k]) for k in 1:length(sol.t)] .- 1, marker=\"x\", ms=4.0, ls=\"\")\n",
    "tight_layout()"
   ]
  },
  {
   "cell_type": "code",
   "execution_count": null,
   "metadata": {},
   "outputs": [],
   "source": [
    "figure(figsize=(12, 3))\n",
    "subplot(121)\n",
    "xlim(0, T/2)\n",
    "plot(sol.t, [-imag(gfL.data[1, 1, k, k]) for k in 1:length(sol.t)] .- ([-imag(gfG.data[1, 1, k, k]) for k in 1:length(sol.t)] .- 1), marker=\"o\", ms=3.0, ls=\"\")\n",
    "tight_layout()"
   ]
  },
  {
   "cell_type": "code",
   "execution_count": null,
   "metadata": {},
   "outputs": [],
   "source": []
  }
 ],
 "metadata": {
  "kernelspec": {
   "display_name": "Julia 1.4.2",
   "language": "julia",
   "name": "julia-1.4"
  },
  "language_info": {
   "file_extension": ".jl",
   "mimetype": "application/julia",
   "name": "julia",
   "version": "1.4.2"
  }
 },
 "nbformat": 4,
 "nbformat_minor": 2
}
