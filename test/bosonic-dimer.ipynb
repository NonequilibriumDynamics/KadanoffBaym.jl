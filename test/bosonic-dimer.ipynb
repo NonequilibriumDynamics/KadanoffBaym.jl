{
 "cells": [
  {
   "cell_type": "markdown",
   "metadata": {},
   "source": [
    "# Bosonic Double-well"
   ]
  },
  {
   "cell_type": "code",
   "execution_count": null,
   "metadata": {
    "ExecuteTime": {
     "end_time": "2019-12-09T14:41:15.628000+01:00",
     "start_time": "2019-12-09T13:41:08.419Z"
    }
   },
   "outputs": [],
   "source": [
    "using KadanoffBaym\n",
    "using LinearAlgebra\n",
    "\n",
    "using PyPlot\n",
    "using PyCall\n",
    "qt = pyimport(\"qutip\")\n",
    "np = pyimport(\"numpy\")\n",
    "sp = pyimport(\"scipy\")\n",
    "\n",
    "PyPlot.matplotlib.rc(\"text\", usetex=true)\n",
    "PyPlot.matplotlib.rc(\"font\", family=\"serif\", size=16)"
   ]
  },
  {
   "cell_type": "markdown",
   "metadata": {
    "heading_collapsed": true
   },
   "source": [
    "## Model"
   ]
  },
  {
   "cell_type": "markdown",
   "metadata": {
    "hidden": true
   },
   "source": [
    "### Non-Hermitian Hamiltonian:\n",
    "\n",
    "$$\n",
    "    \\hat{H} = \\left(\\omega_1 -i\\frac{\\lambda}{2}\\right) a^{\\dagger}_1 a^\\phantom{\\dagger}_1 -i\\frac{\\gamma}{2} a^\\phantom{\\dagger}_1 a^{\\dagger}_1  + \\omega_2 a^{\\dagger}_2 a^\\phantom{\\dagger}_2 + J \\left(a^{\\dagger}_1 a^\\phantom{\\dagger}_2 + a^{\\dagger}_2 a^\\phantom{\\dagger}_1\\right)\n",
    "$$\n",
    "\n",
    "### Master equation:\n",
    "\n",
    "$$\n",
    "    \\partial_{t} \\hat{\\rho}=-i\\left[\\hat{H} \\hat{\\rho}-\\hat{\\rho} \\hat{H}^{\n",
    "    \\dagger}\\right]+\\lambda a^\\phantom{\\dagger}_1 \\hat{\\rho}  a^{\\dagger}_1 +\\gamma  a^{\\dagger}_1 \\hat{\\rho} a^\\phantom{\\dagger}_1\n",
    "$$\n",
    "\n",
    "### Equations of motion\n",
    "\n",
    "#### Vertical Time.\n",
    "\n",
    "\\begin{align}\\begin{split}\n",
    "    0 &= \\begin{pmatrix}\n",
    "    i \\partial_t - \\omega_1 + i(\\lambda + \\gamma)/2 & -J \\\\\n",
    "    -J & i \\partial_t - \\omega_2\n",
    "    \\end{pmatrix} \n",
    "    \\begin{pmatrix}\n",
    "    G^<_{11} & G^<_{12} \\\\\n",
    "    G^<_{21} & G^<_{22}\n",
    "    \\end{pmatrix}(t, t') \n",
    "    - i\\gamma\n",
    "    \\begin{pmatrix}\n",
    "    G^{\\tilde{T}}_{11} & G^{\\tilde{T}}_{12} \\\\\n",
    "    0 & 0\n",
    "    \\end{pmatrix}(t, t')  \\\\\n",
    "    0 &= \\begin{pmatrix}\n",
    "    i \\partial_t - \\omega_1 - i(\\lambda + \\gamma)/2 & -J \\\\\n",
    "    -J & i \\partial_t - \\omega_2\n",
    "    \\end{pmatrix} \n",
    "    \\begin{pmatrix}\n",
    "    G^>_{11} & G^>_{12} \\\\\n",
    "    G^>_{21} & G^>_{22}\n",
    "    \\end{pmatrix}(t, t')  \n",
    "    + i\\lambda\n",
    "    \\begin{pmatrix}\n",
    "    G^T_{11} & G^T_{12} \\\\\n",
    "    0 & 0\n",
    "    \\end{pmatrix}(t, t')   \n",
    "\\end{split}\\end{align}\n",
    "\n",
    "#### Horizontal Time.\n",
    "\n",
    "\\begin{align}\\begin{split}\n",
    "    0 &= \\begin{pmatrix}\n",
    "    G^<_{11} & G^<_{12} \\\\\n",
    "    G^<_{21} & G^<_{22}\n",
    "    \\end{pmatrix}(t, t') \n",
    "    \\begin{pmatrix}\n",
    "    i \\partial_{t'} + \\omega_1 + i(\\lambda + \\gamma)/2 & J \\\\\n",
    "    J & i \\partial_{t'} + \\omega_2\n",
    "    \\end{pmatrix} \n",
    "    - i\\gamma\n",
    "    \\begin{pmatrix}\n",
    "    G^{{T}}_{11} & 0 \\\\\n",
    "    G^{{T}}_{21} & 0\n",
    "    \\end{pmatrix}(t, t')     \\\\\n",
    "    0 &= \\begin{pmatrix}\n",
    "    G^>_{11} & G^>_{12} \\\\\n",
    "    G^>_{21} & G^>_{22}\n",
    "    \\end{pmatrix}(t, t') \n",
    "    \\begin{pmatrix}\n",
    "    i \\partial_{t'} + \\omega_1 - i(\\lambda + \\gamma)/2 & J \\\\\n",
    "    J & i \\partial_{t'} + \\omega_2\n",
    "    \\end{pmatrix}  \n",
    "    + i\\lambda\n",
    "    \\begin{pmatrix}\n",
    "    G^{\\tilde{T}}_{11} & 0 \\\\\n",
    "    G^{\\tilde{T}}_{21} & 0\n",
    "    \\end{pmatrix}(t, t')   \n",
    "\\end{split}\\end{align}\n",
    "\n",
    "#### Equal-Time.\n",
    "\n",
    "\\begin{align}\\begin{split}\n",
    "    0 &= \\begin{pmatrix}\n",
    "    i \\partial_T + i(\\lambda + \\gamma) & 0 \\\\\n",
    "    0 & i \\partial_T\n",
    "    \\end{pmatrix} \n",
    "    \\begin{pmatrix}\n",
    "    G^<_{11} & G^<_{12} \\\\\n",
    "    G^<_{21} & G^<_{22}\n",
    "    \\end{pmatrix}(T, 0)\n",
    "    - \\left[\\begin{pmatrix}\n",
    "    \\omega_1 & J \\\\\n",
    "    J & \\omega_2\n",
    "    \\end{pmatrix}, \n",
    "    \\begin{pmatrix}\n",
    "    G^<_{11} & G^<_{12} \\\\\n",
    "    G^<_{21} & G^<_{22}\n",
    "    \\end{pmatrix}(T, 0)\\right] \n",
    "    - i\\gamma\n",
    "    \\begin{pmatrix}\n",
    "    G^T_{11} + G^{\\tilde{T}}_{11} & G^\\tilde{T}_{12} \\\\\n",
    "    G^{{T}}_{21} & 0\n",
    "    \\end{pmatrix}(T, 0)       \\\\\n",
    "    0 &= \\begin{pmatrix}\n",
    "    i \\partial_T - i(\\lambda + \\gamma) & 0 \\\\\n",
    "    0 & i \\partial_T\n",
    "    \\end{pmatrix} \n",
    "    \\begin{pmatrix}\n",
    "    G^>_{11} & G^>_{12} \\\\\n",
    "    G^>_{21} & G^>_{22}\n",
    "    \\end{pmatrix}(T, 0)  \n",
    "    - \\left[\\begin{pmatrix}\n",
    "    \\omega_1 & J \\\\\n",
    "    J & \\omega_2\n",
    "    \\end{pmatrix}, \n",
    "    \\begin{pmatrix}\n",
    "    G^>_{11} & G^>_{12} \\\\\n",
    "    G^>_{21} & G^>_{22}\n",
    "    \\end{pmatrix}(T, 0)\\right]\n",
    "    + i\\lambda\n",
    "    \\begin{pmatrix}\n",
    "    G^T_{11} + G^{\\tilde{T}}_{11} & G^T_{12} \\\\\n",
    "    G^{\\tilde{T}}_{21} & 0\n",
    "    \\end{pmatrix}(T, 0)   \n",
    "\\end{split}\\end{align}"
   ]
  },
  {
   "cell_type": "markdown",
   "metadata": {},
   "source": [
    "## Solving"
   ]
  },
  {
   "cell_type": "code",
   "execution_count": null,
   "metadata": {
    "ExecuteTime": {
     "end_time": "2019-12-09T14:43:21.414000+01:00",
     "start_time": "2019-12-09T13:43:14.461Z"
    }
   },
   "outputs": [],
   "source": [
    "# time parameters\n",
    "T = 1.0\n",
    "\n",
    "# Non-Hermitian Hamiltonian and jump operator\n",
    "ω₁ = 0.1 * 5.0\n",
    "ω₂ = 0.0\n",
    "J = 0*0.5*2*pi*1.0/2 \n",
    "U = 0*1.0\n",
    "λ = 1.0\n",
    "γ = 0*1.0\n",
    "h = ComplexF64[ω₁ - 0.5im * (λ + γ) J; J ω₂];"
   ]
  },
  {
   "cell_type": "code",
   "execution_count": null,
   "metadata": {
    "ExecuteTime": {
     "end_time": "2019-12-09T14:43:21.414000+01:00",
     "start_time": "2019-12-09T13:43:14.461Z"
    },
    "scrolled": true
   },
   "outputs": [],
   "source": [
    "# quantum numbers\n",
    "dim = 2\n",
    "\n",
    "# Define your Green functions at (t0, t0), time-arguments at the end!\n",
    "gfL = GreenFunction(zeros(ComplexF64, dim, dim, 1, 1), Lesser)\n",
    "gfG = GreenFunction(zeros(ComplexF64, dim, dim, 1, 1), Greater)\n",
    "\n",
    "# Note to Tim: Accessing a gf with 2 indices gives you the gf at those time points\n",
    "# Lesser[1,1] <=> Lesser[:,:,1,1]\n",
    "\n",
    "# initial condition\n",
    "N_0 = 2\n",
    "\n",
    "gfL[1,1,1,1] = -1.0im * N_0\n",
    "gfG[1,1,1,1] = -1.0im * (N_0 + 1)\n",
    "gfG[2,2,1,1] = -1.0im\n",
    "\n",
    "u0 = [gfL, gfG];\n",
    "\n",
    "function rhs_vert(u, times, t, t′)\n",
    "    Gᴸ, Gᴳ = u[1], u[2]\n",
    "    rhs_L = -1.0im * (h * Gᴸ[t,t′] + [[1.0im * γ, 0] [0, 0]] * Gᴸ[t,t′])\n",
    "    rhs_G = -1.0im * (adjoint(h) * Gᴳ[t,t′] - [[1.0im * λ, 0] [0, 0]] * Gᴳ[t,t′])\n",
    "  return [rhs_L, rhs_G]\n",
    "end\n",
    "\n",
    "function rhs_diag(u, times, t)\n",
    "    println(\"t: $(times[t])\")\n",
    "    Gᴸ, Gᴳ = u[1], u[2]\n",
    "    rhs_L = -1.0im * (h * Gᴸ[t,t] - Gᴸ[t,t] * adjoint(h)\n",
    "        + 1.0im * γ * [[Gᴸ[1,1,t,t] + Gᴳ[1,1,t,t], 0.5 * (Gᴸ[2,1,t,t] + Gᴳ[2,1,t,t])] [0.5 * (Gᴸ[1,2,t,t] + Gᴳ[1,2,t,t]), 0]])\n",
    "    rhs_G = -1.0im * (adjoint(h) * Gᴳ[t,t] - Gᴳ[t,t] * h\n",
    "        - 1.0im * λ * [[Gᴸ[1,1,t,t] + Gᴳ[1,1,t,t], 0.5 * (Gᴸ[2,1,t,t] + Gᴳ[2,1,t,t])] [0.5 * (Gᴸ[1,2,t,t] + Gᴳ[1,2,t,t]), 0]])\n",
    "  return [rhs_L, rhs_G]\n",
    "end\n",
    "\n",
    "# Basically this will mutate Lesser and Greater in place\n",
    "sol, _ = kbsolve(rhs_vert, rhs_diag, u0, (0.0, T); dtini=1e-6, atol=1e-4, rtol=1e-4);"
   ]
  },
  {
   "cell_type": "code",
   "execution_count": null,
   "metadata": {},
   "outputs": [],
   "source": [
    "# [(t, tp) for t in sol.t, tp in sol.t]"
   ]
  },
  {
   "cell_type": "code",
   "execution_count": null,
   "metadata": {},
   "outputs": [],
   "source": [
    "# println(map(x -> round(x[2] - x[1], sigdigits=4), zip(sol.t[1:end-1], sol.t[2:end])))"
   ]
  },
  {
   "cell_type": "code",
   "execution_count": null,
   "metadata": {},
   "outputs": [],
   "source": [
    "length(sol.t)"
   ]
  },
  {
   "cell_type": "code",
   "execution_count": null,
   "metadata": {},
   "outputs": [],
   "source": [
    "# n = 128;\n",
    "n = length(sol.t) - 1;"
   ]
  },
  {
   "cell_type": "code",
   "execution_count": null,
   "metadata": {
    "ExecuteTime": {
     "end_time": "2019-12-09T14:43:21.509000+01:00",
     "start_time": "2019-12-09T13:43:15.029Z"
    }
   },
   "outputs": [],
   "source": [
    "stop = Int(round(n/2)) + 1 \n",
    "\n",
    "times = sol.t # range(first(sol.t), stop=last(sol.t), length=n + 1) |> collect\n",
    "\n",
    "horizontal_times = k -> vcat(times[k:end] .- times[k], times[end] .+ (1:(k - 1) |> collect) .* (times[end] - times[end-1]));"
   ]
  },
  {
   "cell_type": "code",
   "execution_count": null,
   "metadata": {},
   "outputs": [],
   "source": [
    "stop"
   ]
  },
  {
   "cell_type": "markdown",
   "metadata": {},
   "source": [
    "## QuTiP benchmark"
   ]
  },
  {
   "cell_type": "code",
   "execution_count": null,
   "metadata": {
    "ExecuteTime": {
     "end_time": "2019-12-09T14:43:21.785000+01:00",
     "start_time": "2019-12-09T13:43:15.495Z"
    }
   },
   "outputs": [],
   "source": [
    "# maximal number of photons\n",
    "# Fock-space dimension will be n_max + 1\n",
    "n_max = 10\n",
    "\n",
    "# initial state\n",
    "psi0_list = [qt.basis(n_max + 1, N_0), qt.basis(n_max + 1, 0)]\n",
    "psi0 = qt.tensor(psi0_list)\n",
    "\n",
    "# define annihilation operators\n",
    "a_1_list = [qt.destroy(n_max + 1), qt.qeye(n_max + 1)]\n",
    "a_1  = qt.tensor(a_1_list)    \n",
    "a_2_list = [qt.qeye(n_max + 1), qt.destroy(n_max + 1)]\n",
    "a_2  = qt.tensor(a_2_list)    \n",
    "\n",
    "# Hamiltonian\n",
    "H  = J * a_1.dag() * a_2\n",
    "H += H.dag()\n",
    "H += ω₁ * a_1.dag() * a_1 + ω₂ * a_2.dag() * a_2\n",
    "# H += 0.5 * U *(a_1.dag() * a_1 * a_1.dag() * a_1 + a_2.dag() * a_2 * a_2.dag() * a_2)\n",
    "\n",
    "observables = [a_1.dag()*a_1, a_2.dag()*a_2, a_1*a_1.dag(), a_2*a_2.dag()];"
   ]
  },
  {
   "cell_type": "code",
   "execution_count": null,
   "metadata": {
    "ExecuteTime": {
     "end_time": "2019-12-09T14:43:22.261000+01:00",
     "start_time": "2019-12-09T13:43:15.663Z"
    }
   },
   "outputs": [],
   "source": [
    "j_ops = [sqrt(λ) * a_1, sqrt(γ) * a_1.dag()] # qutip only needs the jump operator\n",
    "\n",
    "# quickly solve once for observables\n",
    "me = qt.mesolve(H, psi0, times, j_ops, observables)\n",
    "\n",
    "# solve for the time-dependent density matrix\n",
    "t_sols = qt.mesolve(H, psi0, times, j_ops); # t_sols.states returns density matrices"
   ]
  },
  {
   "cell_type": "markdown",
   "metadata": {},
   "source": [
    "#### Two times"
   ]
  },
  {
   "cell_type": "markdown",
   "metadata": {},
   "source": [
    "Calculate $\\langle a^\\dagger_1(t') a^\\phantom{\\dagger}_1(t)\\rangle$, where $t' = t + \\tau$."
   ]
  },
  {
   "cell_type": "code",
   "execution_count": null,
   "metadata": {
    "ExecuteTime": {
     "end_time": "2019-12-09T14:43:41.466000+01:00",
     "start_time": "2019-12-09T13:43:16.166Z"
    }
   },
   "outputs": [],
   "source": [
    "tau_t_sols = Dict()\n",
    "for k in 1:length(t_sols.states)\n",
    "    tau_t_sols[k] = qt.mesolve(H, a_1 * t_sols.states[k], horizontal_times(k), j_ops).states\n",
    "end\n",
    "\n",
    "a_1_dag_a_1 = zeros(ComplexF64, length(t_sols.states), length(t_sols.states))\n",
    "for k in 1:length(t_sols.states)\n",
    "    for l in 1:length(t_sols.states)\n",
    "        a_1_dag_a_1[k, l] = (a_1.dag() * tau_t_sols[k][l]).tr()    \n",
    "    end\n",
    "end"
   ]
  },
  {
   "cell_type": "code",
   "execution_count": null,
   "metadata": {},
   "outputs": [],
   "source": [
    "tau_t_sols = Dict()\n",
    "for k in 1:length(t_sols.states)\n",
    "    tau_t_sols[k] = qt.mesolve(H, a_1.dag() * t_sols.states[k], horizontal_times(k), j_ops).states\n",
    "end\n",
    "\n",
    "a_1_a_1_dag = zeros(ComplexF64, length(t_sols.states), length(t_sols.states))\n",
    "for k in 1:length(t_sols.states)\n",
    "    for l in 1:length(t_sols.states)\n",
    "        a_1_a_1_dag[k, l] = (a_1 * tau_t_sols[k][l]).tr()    \n",
    "    end\n",
    "end"
   ]
  },
  {
   "cell_type": "code",
   "execution_count": null,
   "metadata": {
    "ExecuteTime": {
     "end_time": "2019-12-09T14:43:42.046000+01:00",
     "start_time": "2019-12-09T13:43:16.349Z"
    }
   },
   "outputs": [],
   "source": [
    "# reshape the above array to fit into our two-time \"matrix\" structure \n",
    "# see the plot below for illustration\n",
    "unskewed_a_1_dag_a_1 = zeros(ComplexF64, length(t_sols.states), 2*length(t_sols.states) - 1)\n",
    "for (k, x) in enumerate([a_1_dag_a_1[k, :] for k in 1:length(t_sols.states)])\n",
    "    for (l, y) in enumerate(x)\n",
    "        ind = k + l - 1 # verify the -1 relative to the original python code\n",
    "        unskewed_a_1_dag_a_1[k, ind] = y  \n",
    "    end\n",
    "end"
   ]
  },
  {
   "cell_type": "code",
   "execution_count": null,
   "metadata": {},
   "outputs": [],
   "source": [
    "# reshape the above array to fit into our two-time \"matrix\" structure \n",
    "# see the plot below for illustration\n",
    "unskewed_a_1_a_1_dag = zeros(ComplexF64, length(t_sols.states), 2*length(t_sols.states) - 1)\n",
    "for (k, x) in enumerate([a_1_a_1_dag[k, :] for k in 1:length(t_sols.states)])\n",
    "    for (l, y) in enumerate(x)\n",
    "        ind = k + l - 1 # verify the -1 relative to the original python code\n",
    "        unskewed_a_1_a_1_dag[k, ind] = y  \n",
    "    end\n",
    "end"
   ]
  },
  {
   "cell_type": "code",
   "execution_count": null,
   "metadata": {},
   "outputs": [],
   "source": [
    "cmap = \"gist_heat\""
   ]
  },
  {
   "cell_type": "code",
   "execution_count": null,
   "metadata": {
    "ExecuteTime": {
     "end_time": "2019-12-09T14:43:45.153000+01:00",
     "start_time": "2019-12-09T13:43:16.545Z"
    }
   },
   "outputs": [],
   "source": [
    "figure(figsize=(6, 2))\n",
    "subplot(121)\n",
    "imshow(real(a_1_dag_a_1), cmap=cmap)\n",
    "\n",
    "subplot(122)\n",
    "imshow(real(unskewed_a_1_a_1_dag), cmap=cmap)\n",
    "colorbar()\n",
    "\n",
    "tight_layout()"
   ]
  },
  {
   "cell_type": "code",
   "execution_count": null,
   "metadata": {},
   "outputs": [],
   "source": [
    "# figure(figsize=(8, 5))\n",
    "\n",
    "# subplot(121)\n",
    "# imshow(real(a_1_a_1_dag), cmap=cmap)\n",
    "\n",
    "# subplot(122)\n",
    "# imshow(, cmap=cmap)\n",
    "# # colorbar()\n",
    "\n",
    "Y, X = np.meshgrid(sol.t, sol.t);\n",
    "rho_11 = imag(unskewed_a_1_a_1_dag - unskewed_a_1_dag_a_1)[:, 1:n+1]\n",
    "\n",
    "figure(figsize=(5, 3))\n",
    "ax = plt.gca()\n",
    "heatmap = ax.pcolormesh(X, Y, (rho_11 |> transpose) .+ rho_11, cmap=\"gist_heat\", vmin=minimum(rho_11), vmax=maximum(rho_11))\n",
    "ax.set_aspect(\"equal\")\n",
    "colorbar(mappable=heatmap)\n",
    "ax.set_xlabel(\"\\$t\\$\")\n",
    "ax.set_xlabel(\"\\$t'\\$\")\n",
    "# ax.legend()\n",
    "tight_layout()"
   ]
  },
  {
   "cell_type": "markdown",
   "metadata": {},
   "source": [
    "## Plotting"
   ]
  },
  {
   "cell_type": "code",
   "execution_count": null,
   "metadata": {
    "ExecuteTime": {
     "end_time": "2019-12-09T14:43:45.601000+01:00",
     "start_time": "2019-12-09T13:43:18.240Z"
    }
   },
   "outputs": [],
   "source": [
    "a_1_dag_a_1_tau = [unskewed_a_1_dag_a_1[stop - (k - 1), stop + (k - 1)] for k in 1:stop]\n",
    "a_1_dag_a_1_tau_reversed = [a_1_dag_a_1_tau[stop - (k - 1)] for k in 1:stop]\n",
    "a_1_dag_a_1_tau_full = vcat(conj(a_1_dag_a_1_tau_reversed[1:end-1]), a_1_dag_a_1_tau);\n",
    "\n",
    "a_2_dag_a_2_tau = [unskewed_a_2_dag_a_2[stop - (k - 1), stop + (k - 1)] for k in 1:stop]\n",
    "a_2_dag_a_2_tau_reversed = [a_2_dag_a_2_tau[stop - (k - 1)] for k in 1:stop]\n",
    "a_2_dag_a_2_tau_full = vcat(conj(a_2_dag_a_2_tau_reversed[1:end-1]), a_2_dag_a_2_tau);"
   ]
  },
  {
   "cell_type": "code",
   "execution_count": null,
   "metadata": {
    "ExecuteTime": {
     "end_time": "2019-12-09T14:43:47.424000+01:00",
     "start_time": "2019-12-09T13:43:18.413Z"
    },
    "scrolled": false
   },
   "outputs": [],
   "source": [
    "figure(figsize=(12, 6))\n",
    "subplot(221)\n",
    "# plot(sol.t, [-imag(gfL.data[1, 1, k, k]) for k in 1:length(sol.t)], ls=\"-\", c=\"r\")\n",
    "# plot(sol.t, [-imag(gfL.data[2, 2, k, k]) for k in 1:length(sol.t)], ls=\"-\", c=\"r\")\n",
    "# plot(times, me.expect[1], c=\"k\", ls=\"--\", lw=3.0, alpha=0.5)\n",
    "plot(sol.t, [-imag(gfG.data[1, 1, k, k]) for k in 1:length(sol.t)], ls=\"-\", c=\"r\")\n",
    "plot(times, [real(unskewed_a_1_a_1_dag[k, k]) for k in 1:n+1], c=\"k\", ls=\"--\", lw=3.0, alpha=0.5)\n",
    "# plot(times, me.expect[2], c=\"k\", ls=\"--\")\n",
    "xlim(0, T)\n",
    "# ylim(0, N_0)\n",
    "xlabel(\"\\$T\\$\")\n",
    "\n",
    "subplot(222)\n",
    "idx = 1\n",
    "# plot(sol.t[idx:end - 1], [-imag((gfL.data - gfG.data)[1, 1, idx, k + idx - 1]) for k in 1:length(sol.t) - idx], ls=\"-\", c=\"r\")\n",
    "# plot(sol.t[idx:end - 1], [imag((unskewed_a_1_dag_a_1 - unskewed_a_1_a_1_dag)[idx, k + idx - 1]) .- 1 for k in 1:length(sol.t) - idx], c=\"k\", ls=\"--\", lw=3.0, alpha=0.5)\n",
    "\n",
    "plot(sol.t[idx:end - 1], [-imag(gfL.data[1, 1, idx, k + idx - 1]) for k in 1:length(sol.t) - idx], ls=\"-\", c=\"r\")\n",
    "plot(sol.t[idx:end - 1], [real(unskewed_a_1_dag_a_1[idx, k + idx - 1]) for k in 1:length(sol.t) - idx], c=\"k\", ls=\"--\", lw=3.0, alpha=0.5)\n",
    "\n",
    "\n",
    "# xlim(-T, T)\n",
    "xlabel(\"\\$t\\$\")\n",
    "# ylim(-5.0, 5.0)\n",
    "\n",
    "subplot(223)\n",
    "plot(sol.t[idx:end - 1], [-imag(gfG.data[1, 1, idx, k + idx - 1]) for k in 1:length(sol.t) - idx], ls=\"-\", c=\"r\")\n",
    "plot(sol.t[idx:end - 1], [real(unskewed_a_1_a_1_dag[idx, k + idx - 1]) for k in 1:length(sol.t) - idx], c=\"k\", ls=\"--\", lw=3.0, alpha=0.5)\n",
    "\n",
    "# xlim(0, T)\n",
    "# # ylim(0, N_0)\n",
    "# xlabel(\"\\$t\\$\")\n",
    "\n",
    "tight_layout()\n",
    "# savefig(\"test.pdf\")"
   ]
  },
  {
   "cell_type": "code",
   "execution_count": null,
   "metadata": {},
   "outputs": [],
   "source": [
    "Y, X = np.meshgrid(sol.t, sol.t);\n",
    "ρ_11 = imag.(gfL.data[1, 1, :, :] - gfG.data[1, 1, :, :]);"
   ]
  },
  {
   "cell_type": "code",
   "execution_count": null,
   "metadata": {},
   "outputs": [],
   "source": [
    "figure(figsize=(5, 3))\n",
    "ax = plt.gca()\n",
    "heatmap = ax.pcolormesh(X, Y, ρ_11, cmap=\"gist_heat\", vmin=minimum(ρ_11), vmax=maximum(ρ_11))\n",
    "ax.set_aspect(\"equal\")\n",
    "colorbar(mappable=heatmap)\n",
    "ax.set_xlabel(\"\\$t\\$\")\n",
    "ax.set_xlabel(\"\\$t'\\$\")\n",
    "# ax.legend()\n",
    "tight_layout()"
   ]
  },
  {
   "cell_type": "code",
   "execution_count": null,
   "metadata": {
    "ExecuteTime": {
     "end_time": "2019-12-09T14:43:47.897000+01:00",
     "start_time": "2019-12-09T13:43:18.627Z"
    },
    "scrolled": false
   },
   "outputs": [],
   "source": [
    "figure(figsize=(12, 3))\n",
    "subplot(121)\n",
    "plot(sol.t, [-imag(gfL.data[1, 1, k, k]) for k in 1:length(sol.t)] .- me.expect[1], marker=\"\", ms=3.0, ls=\"-\", c=\"r\")\n",
    "# plot(times, GL_11 - me.expect[1], c=\"k\", ls=\"--\")\n",
    "# plot(times, GL_22 - me.expect[2], c=\"k\", ls=\"--\")\n",
    "# plot(times, GG_11 - me.expect[3], c=\"k\", ls=\":\")\n",
    "# plot(times, GG_22 - me.expect[4], c=\"k\", ls=\":\")\n",
    "xlim(0, T)\n",
    "# ylim(0, N_0)\n",
    "xlabel(\"\\$t\\$\")\n",
    "\n",
    "subplot(122)\n",
    "idx = 20\n",
    "plot(sol.t[idx:end - 1], [-imag(gfL.data[1, 1, idx, k + idx - 1]) for k in 1:length(sol.t) - idx] \n",
    "    .- [real(unskewed_a_1_dag_a_1[idx, k + idx - 1]) for k in 1:length(sol.t) - idx], \"o\", ms=1, c=\"r\")\n",
    "# plot(times_tau, -imag(GL_11_tau_full) - a_1_dag_a_1_tau_full, c=\"k\", ls=\"--\")\n",
    "# plot(times_tau, -imag(GL_22_tau_full) - a_2_dag_a_2_tau_full, c=\"k\", ls=\"--\")\n",
    "xlim(-T, T)\n",
    "xlabel(\"\\$\\\\tau\\$\")\n",
    "# ylim(0, 1.0)\n",
    "\n",
    "tight_layout()"
   ]
  },
  {
   "cell_type": "markdown",
   "metadata": {
    "heading_collapsed": true
   },
   "source": [
    "### Analytical only works for closed system"
   ]
  },
  {
   "cell_type": "code",
   "execution_count": null,
   "metadata": {
    "hidden": true,
    "scrolled": true
   },
   "outputs": [],
   "source": [
    "# Analytic result\n",
    "horizontal_times = x -> vcat(sol.t[x:end] .- sol.t[x], sol.t[end] .+ (1:(x - 1) |> collect) .* (sol.t[end] - sol.t[end-1]));\n",
    "f(T, tp) = exp(-1.0im * h * horizontal_times(T)[tp]) * exp(-1.0im * h * sol.t[T]) * gfL[:, :, 1, 1] * exp(1.0im * h * sol.t[T])\n",
    "f_diag(T) = exp(-1.0im * h * sol.t[T]) * gfL[:, :, 1, 1] * exp(1.0im * h * sol.t[T])"
   ]
  },
  {
   "cell_type": "code",
   "execution_count": null,
   "metadata": {
    "hidden": true
   },
   "outputs": [],
   "source": [
    "figure(figsize=(12, 6))\n",
    "subplot(221)\n",
    "plot(sol.t, [imag(gfL.data[1, 1, k, k]) for k in 1:length(sol.t)], marker=\"\", ms=3.0, ls=\"-\", c=\"r\")\n",
    "plot(sol.t, me.expect[1], c=\"k\", ls=\"--\", lw=3.0, alpha=0.5)\n",
    "plot(sol.t, [real(unskewed_a_1_dag_a_1[k, k]) for k in 1:n+1], c=\"k\", ls=\"--\", lw=3.0, alpha=0.5)\n",
    "plot(sol.t, [imag(f_diag(k)[1, 1]) for k in 1:n+1], c=\"C0\", ls=\"--\", lw=5.0, alpha=0.5)\n",
    "xlim(0, T)\n",
    "# ylim(0, N_0)\n",
    "xlabel(\"\\$t\\$\")\n",
    "\n",
    "subplot(222)\n",
    "idx = 18\n",
    "# plot(sol.t[idx:end - 1], [real(unskewed_a_1_dag_a_1[idx, k + idx - 1]) for k in 1:length(sol.t) - idx], \"o\", c=\"k\", lw=3.0, alpha=0.5, ms=3)\n",
    "plot(sol.t[idx:end - 1], [imag(gfL.data[1, 1, idx, k + idx - 1]) for k in 1:length(sol.t) - idx], \"o\", ms=3, c=\"r\")\n",
    "plot(sol.t[idx:end - 1], [imag(f(idx, k))[1, 1] for k in 1:length(sol.t) - idx], \"x\", c=\"C0\", lw=5.0, alpha=0.5, ms=5)\n",
    "\n",
    "tight_layout()"
   ]
  },
  {
   "cell_type": "code",
   "execution_count": null,
   "metadata": {
    "hidden": true
   },
   "outputs": [],
   "source": [
    "figure(figsize=(12, 6))\n",
    "subplot(221)\n",
    "plot(sol.t, [imag(gfL.data[1, 1, k, k]) for k in 1:length(sol.t)] \n",
    "    .- [imag(f_diag(k)[1, 1]) for k in 1:n+1], marker=\"\", ms=3.0, ls=\"-\", c=\"r\")\n",
    "# plot(sol.t, me.expect[1] .- [imag(f_diag(k)[1, 1]) for k in 1:n+1], c=\"k\", ls=\"--\", lw=3.0, alpha=0.5)\n",
    "xlim(0, T)\n",
    "# ylim(0, N_0)\n",
    "xlabel(\"\\$t\\$\")\n",
    "\n",
    "subplot(222)\n",
    "idx = 10\n",
    "plot(sol.t[idx:end - 1], [imag(gfL.data[1, 1, idx, k + idx - 1]) for k in 1:length(sol.t) - idx]\n",
    "    .- [imag(f(idx, k))[1, 1] for k in 1:length(sol.t) - idx], \"o\", ms=1, c=\"r\")\n",
    "# semilogy(sol.t[idx:end - 1], [real(unskewed_c_1_dag_c_1[idx, k + idx - 1]) for k in 1:length(sol.t) - idx] .- [imag(f(idx, k))[1, 1] for k in 1:length(sol.t) - idx], \"o\", c=\"k\", lw=3.0, alpha=0.5, ms=1)\n",
    "\n",
    "tight_layout()\n",
    "# savefig(\"test.pdf\")"
   ]
  },
  {
   "cell_type": "markdown",
   "metadata": {},
   "source": [
    "## Testing"
   ]
  },
  {
   "cell_type": "code",
   "execution_count": null,
   "metadata": {},
   "outputs": [],
   "source": [
    "epsilons = [2.0^(-k) for k in 10:55]\n",
    "init_dt = 1e-16 # epsilons[end]\n",
    "err_data = [(0.0, 0.0) for _ in 1:length(epsilons)]\n",
    "for (k, eps) in enumerate(epsilons)\n",
    "    print(k, \", \")\n",
    "    \n",
    "    sol, _ = kbsolve(rhs_vert, rhs_diag, u0, (0.0, T); dtini=init_dt, atol=eps, rtol=eps);\n",
    "    n = length(sol.t) - 1;\n",
    "    \n",
    "    # Analytic result\n",
    "    horizontal_times = x -> vcat(sol.t[x:end] .- sol.t[x], sol.t[end] .+ (1:(x - 1) |> collect) .* (sol.t[end] - sol.t[end-1]));\n",
    "    f(T, tp) = exp(-1.0im * h * horizontal_times(T)[tp]) * exp(-1.0im * h * sol.t[T]) * gfL[:, :, 1, 1] * exp(1.0im * h * sol.t[T])\n",
    "    f_diag(T) = exp(-1.0im * h * sol.t[T]) * gfL[:, :, 1, 1] * exp(1.0im * h * sol.t[T])\n",
    "    \n",
    "    horizontal_err = 0.0\n",
    "    for idx in 1:n\n",
    "        horizontal_err += norm([imag(gfL.data[1, 1, idx, k + idx]) for k in 1:length(sol.t) - idx] \n",
    "            .- [imag(f(idx, k))[1, 1] for k in 1:length(sol.t) - idx + 1][2:end]) # not counting the diagonal\n",
    "    end    \n",
    "\n",
    "    err = norm([imag(gfL.data[1, 1, k, k]) for k in 1:length(sol.t)] .- [imag(f_diag(k)[1, 1]) for k in 1:n+1])\n",
    "    err += 2 * horizontal_err\n",
    "    err_data[k] = (n, (1.0/(n)^2) * err)    \n",
    "end"
   ]
  },
  {
   "cell_type": "code",
   "execution_count": null,
   "metadata": {},
   "outputs": [],
   "source": [
    "figure(figsize=(8, 5))\n",
    "\n",
    "subplot(221)\n",
    "loglog([x[1] for x in err_data], [x[2] for x in err_data], \"s\", lw=0, ms=3)\n",
    "axhline(init_dt, c=\"grey\", ls=\"--\", label=\"\\$\\\\Delta t_{\\\\mathrm{init}}\\$\")\n",
    "xlim(1e1, 1e3)\n",
    "ylim(1e-17, 1e-0)\n",
    "xlabel(\"\\$n\\$\")\n",
    "ylabel(\"\\$\\\\varepsilon_{\\\\mathrm{abs}}\\$\")\n",
    "legend()\n",
    "\n",
    "subplot(222)\n",
    "plot(epsilons, epsilons)\n",
    "loglog(epsilons, [x[2] for x in err_data], \"s\", lw=0, ms=3, alpha=0.5)\n",
    "axhline(init_dt, c=\"grey\", ls=\"--\", label=\"\\$\\\\Delta t_{\\\\mathrm{init}}\\$\")\n",
    "xlim(1e-18, 1e-1)\n",
    "ylim(1e-17, 1e-0)\n",
    "yticks([])\n",
    "xlabel(\"\\$\\\\mathrm{atol}=\\\\mathrm{rtol}\\$\")\n",
    "# ylabel(\"\\$\\\\varepsilon_{\\\\mathrm{abs}}\\$\")\n",
    "\n",
    "tight_layout()"
   ]
  },
  {
   "cell_type": "code",
   "execution_count": null,
   "metadata": {},
   "outputs": [],
   "source": [
    "idx_1 = 20\n",
    "plot(sol.t, [-imag(gfL.data[1, 1, idx_1, k]) for k in 1:n+1], \"o\", ms=3.0, c=\"r\")\n",
    "plot(sol.t, [a_1_dag_a_1[idx_1, k] for k in 1:n+1], c=\"k\", \"s\", lw=3.0, alpha=0.5, ms=2)"
   ]
  },
  {
   "cell_type": "code",
   "execution_count": null,
   "metadata": {
    "scrolled": true
   },
   "outputs": [],
   "source": [
    "[wigner_transform(gfL.data[1, 1, :, :]; fourier=false)[1] for k in length(sol.t)]"
   ]
  },
  {
   "cell_type": "code",
   "execution_count": null,
   "metadata": {},
   "outputs": [],
   "source": [
    "figure(figsize=(12, 3))\n",
    "subplot(121)\n",
    "xlim(0, T)\n",
    "plot(sol.t, [-imag(gfL.data[1, 1, k, k]) for k in 1:length(sol.t)], marker=\"o\", ms=3.0, ls=\"\")\n",
    "plot(sol.t, [-imag(gfG.data[1, 1, k, k]) for k in 1:length(sol.t)] .- 1, marker=\"x\", ms=4.0, ls=\"\")\n",
    "tight_layout()"
   ]
  },
  {
   "cell_type": "code",
   "execution_count": null,
   "metadata": {},
   "outputs": [],
   "source": [
    "figure(figsize=(12, 3))\n",
    "subplot(121)\n",
    "xlim(0, T/2)\n",
    "plot(sol.t, [-imag(gfL.data[1, 1, k, k]) for k in 1:length(sol.t)] .- ([-imag(gfG.data[1, 1, k, k]) for k in 1:length(sol.t)] .- 1), marker=\"o\", ms=3.0, ls=\"\")\n",
    "tight_layout()"
   ]
  },
  {
   "cell_type": "code",
   "execution_count": null,
   "metadata": {},
   "outputs": [],
   "source": []
  }
 ],
 "metadata": {
  "kernelspec": {
   "display_name": "Julia 1.4.2",
   "language": "julia",
   "name": "julia-1.4"
  },
  "language_info": {
   "file_extension": ".jl",
   "mimetype": "application/julia",
   "name": "julia",
   "version": "1.4.2"
  }
 },
 "nbformat": 4,
 "nbformat_minor": 2
}
