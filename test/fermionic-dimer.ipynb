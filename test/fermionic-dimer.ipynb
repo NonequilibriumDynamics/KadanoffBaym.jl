{
 "cells": [
  {
   "cell_type": "markdown",
   "metadata": {},
   "source": [
    "# Fermionic Dimer"
   ]
  },
  {
   "cell_type": "code",
   "execution_count": null,
   "metadata": {},
   "outputs": [],
   "source": [
    "using KadanoffBaym\n",
    "using LinearAlgebra\n",
    "using LsqFit\n",
    "using JLD\n",
    "\n",
    "using PyPlot\n",
    "using PyCall\n",
    "qt = pyimport(\"qutip\")\n",
    "np = pyimport(\"numpy\")\n",
    "\n",
    "PyPlot.matplotlib.rc(\"text\", usetex=true)\n",
    "PyPlot.matplotlib.rc(\"font\", family=\"serif\", size=16)"
   ]
  },
  {
   "cell_type": "markdown",
   "metadata": {},
   "source": [
    "## Model"
   ]
  },
  {
   "cell_type": "markdown",
   "metadata": {},
   "source": [
    "### Non-Hermitian Hamiltonian:\n",
    "\n",
    "$$\n",
    "\\begin{align}\\begin{split}\n",
    "    \\hat{H} &= \\varepsilon_1 c^{\\dagger}_1 c^\\phantom{\\dagger}_1  + \\varepsilon_2 c^{\\dagger}_2 c^\\phantom{\\dagger}_2 + J \\left(c^{\\dagger}_1 c^\\phantom{\\dagger}_2 + c^{\\dagger}_2 c^\\phantom{\\dagger}_1\\right)\n",
    "\\end{split}\\end{align}\n",
    "$$\n",
    "\n",
    "\n",
    "### Equations of motion\n",
    "\n",
    "#### Vertical Time.\n",
    "\n",
    "\\begin{align}\\begin{split}\n",
    "    0 &= \\begin{pmatrix}\n",
    "    i \\partial_t - \\varepsilon_1  & -J \\\\\n",
    "    -J & i \\partial_t - \\varepsilon_2\n",
    "    \\end{pmatrix} \n",
    "    \\begin{pmatrix}\n",
    "    G^<_{11} & G^<_{12} \\\\\n",
    "    G^<_{21} & G^<_{22}\n",
    "    \\end{pmatrix}(t, t')  \\\\\n",
    "    0 &= \\begin{pmatrix}\n",
    "    i \\partial_t - \\varepsilon_1  & -J \\\\\n",
    "    -J & i \\partial_t - \\varepsilon_2\n",
    "    \\end{pmatrix} \n",
    "    \\begin{pmatrix}\n",
    "    G^>_{11} & G^>_{12} \\\\\n",
    "    G^>_{21} & G^>_{22}\n",
    "    \\end{pmatrix}(t, t')   \n",
    "\\end{split}\\end{align}\n",
    "\n",
    "#### Horizontal Time.\n",
    "\n",
    "\\begin{align}\\begin{split}\n",
    "    0 &= \\begin{pmatrix}\n",
    "    G^<_{11} & G^<_{12} \\\\\n",
    "    G^<_{21} & G^<_{22}\n",
    "    \\end{pmatrix}(t, t') \n",
    "    \\begin{pmatrix}\n",
    "    i \\partial_{t'} + \\varepsilon_1  & J \\\\\n",
    "    J & i \\partial_{t'} + \\varepsilon_2\n",
    "    \\end{pmatrix}  \\\\\n",
    "    0 &= \\begin{pmatrix}\n",
    "    G^>_{11} & G^>_{12} \\\\\n",
    "    G^>_{21} & G^>_{22}\n",
    "    \\end{pmatrix}(t, t') \n",
    "    \\begin{pmatrix}\n",
    "    i \\partial_{t'} + \\varepsilon_1  & J \\\\\n",
    "    J & i \\partial_{t'} + \\varepsilon_2\n",
    "    \\end{pmatrix}  \n",
    "\\end{split}\\end{align}\n",
    "\n",
    "#### Equal-Time.\n",
    "\n",
    "\\begin{align}\\begin{split}\n",
    "    0 &= i \\partial_T\n",
    "    \\begin{pmatrix}\n",
    "    G^<_{11} & G^<_{12} \\\\\n",
    "    G^<_{21} & G^<_{22}\n",
    "    \\end{pmatrix}(T, 0)\n",
    "    - \\left[\\begin{pmatrix}\n",
    "    \\varepsilon_1 & J \\\\\n",
    "    J & \\varepsilon_2\n",
    "    \\end{pmatrix}, \n",
    "    \\begin{pmatrix}\n",
    "    G^<_{11} & G^<_{12} \\\\\n",
    "    G^<_{21} & G^<_{22}\n",
    "    \\end{pmatrix}(T, 0)\\right]    \\\\\n",
    "    0 &= i \\partial_T\n",
    "    \\begin{pmatrix}\n",
    "    G^>_{11} & G^>_{12} \\\\\n",
    "    G^>_{21} & G^>_{22}\n",
    "    \\end{pmatrix}(T, 0)  \n",
    "    - \\left[\\begin{pmatrix}\n",
    "    \\varepsilon_1 & J \\\\\n",
    "    J & \\varepsilon_2\n",
    "    \\end{pmatrix}, \n",
    "    \\begin{pmatrix}\n",
    "    G^>_{11} & G^>_{12} \\\\\n",
    "    G^>_{21} & G^>_{22}\n",
    "    \\end{pmatrix}(T, 0)\\right]\n",
    "\\end{split}\\end{align}"
   ]
  },
  {
   "cell_type": "markdown",
   "metadata": {},
   "source": [
    "## Solving"
   ]
  },
  {
   "cell_type": "code",
   "execution_count": null,
   "metadata": {
    "ExecuteTime": {
     "end_time": "2019-12-09T15:16:31.897000+01:00",
     "start_time": "2019-12-09T14:16:31.871Z"
    }
   },
   "outputs": [],
   "source": [
    "# final time\n",
    "T = 5.0\n",
    "\n",
    "# Hamiltonian\n",
    "ε₁ = 1.0\n",
    "ε₂ = -1.0\n",
    "J = 20.0\n",
    "h = ComplexF64[ε₁ J; J ε₂];"
   ]
  },
  {
   "cell_type": "code",
   "execution_count": null,
   "metadata": {},
   "outputs": [],
   "source": [
    "# quantum numbers\n",
    "dim = 2\n",
    "\n",
    "# Define your Green functions at (t0, t0), time-arguments at the end!\n",
    "gfL = GreenFunction(zeros(ComplexF64, dim, dim, 1, 1), Lesser)\n",
    "gfG = GreenFunction(zeros(ComplexF64, dim, dim, 1, 1), Greater)\n",
    "\n",
    "# Note to Tim: Accessing a gf with 2 indices gives you the gf at those time points\n",
    "# Lesser[1,1] <=> Lesser[:,:,1,1]\n",
    "\n",
    "# initial condition\n",
    "N_0 = 0.1\n",
    "\n",
    "gfL[1,1,1,1] = 1.0im * N_0\n",
    "# gfL[1,2,1,1] = 1.0im * N_0\n",
    "# gfL[2,1,1,1] = 1.0im * N_0\n",
    "gfG[:, :, 1, 1] = -1.0im .* diagm([1.0, 1.0]) .+ gfL[:, :, 1, 1]\n",
    "# gfG[1,1,1,1] = -1.0im * (1 - N_0)\n",
    "# gfG[2,2,1,1] = -1.0im\n",
    "\n",
    "u0 = [gfL, gfG];\n",
    "\n",
    "function rhs_vert(u, times, t, t′)\n",
    "    u1, u2 = u[1], u[2]\n",
    "    rhs1 = -1.0im * h * u1[t,t′]\n",
    "    rhs2 = -1.0im * h * u2[t,t′]\n",
    "  return [rhs1, rhs2]\n",
    "end\n",
    "\n",
    "function rhs_diag(u, times, t)\n",
    "    u1, u2 = u[1], u[2]\n",
    "    rhs1 = -1.0im * (h * u1[t,t] - u1[t,t] * adjoint(h))\n",
    "    rhs2 = -1.0im * (adjoint(h) * u2[t,t] - u2[t,t] * h)\n",
    "  return [rhs1, rhs2]\n",
    "end"
   ]
  },
  {
   "cell_type": "code",
   "execution_count": null,
   "metadata": {},
   "outputs": [],
   "source": [
    "gfL[:, :, 1, 1]"
   ]
  },
  {
   "cell_type": "code",
   "execution_count": null,
   "metadata": {},
   "outputs": [],
   "source": [
    "# Basically this will mutate Lesser and Greater in place\n",
    "sol, _ = kbsolve(rhs_vert, rhs_diag, u0, (0.0, T); dtini=1e-8, atol=1e-9, rtol=1e-10);"
   ]
  },
  {
   "cell_type": "code",
   "execution_count": null,
   "metadata": {
    "ExecuteTime": {
     "end_time": "2019-12-09T15:19:00.264000+01:00",
     "start_time": "2019-12-09T14:19:00.183Z"
    }
   },
   "outputs": [],
   "source": [
    "# stop = Int(n/2) + 1 \n",
    "\n",
    "times = sol.t #range(0, length=n + 1, stop=T) |> collect;\n",
    "\n",
    "n = length(sol.t) - 1\n",
    "\n",
    "horizontal_times = k -> vcat(times[k:end] .- times[k], times[end] .+ (1:(k - 1) |> collect) .* (times[end] - times[end-1]));"
   ]
  },
  {
   "cell_type": "code",
   "execution_count": null,
   "metadata": {},
   "outputs": [],
   "source": [
    "n"
   ]
  },
  {
   "cell_type": "markdown",
   "metadata": {
    "heading_collapsed": true
   },
   "source": [
    "## QuTiP benchmark"
   ]
  },
  {
   "cell_type": "markdown",
   "metadata": {
    "heading_collapsed": true,
    "hidden": true
   },
   "source": [
    "### Jordan-Wigner transformation"
   ]
  },
  {
   "cell_type": "markdown",
   "metadata": {
    "hidden": true
   },
   "source": [
    "$$\n",
    "\\begin{align*}\n",
    "    c^\\phantom{\\dagger}_1 &\\to \\sigma^-_1,\\\\\n",
    "    c^{\\dagger}_1 &\\to \\sigma^+_1.\\\\\n",
    "\\end{align*}\n",
    "$$\n",
    "\n",
    "$$\n",
    "\\begin{align*}\n",
    "    c^\\phantom{\\dagger}_2 &\\to (-\\sigma^z_1)\\otimes\\sigma^-_2,\\\\\n",
    "    c^{\\dagger}_2 &\\to (-\\sigma^z_1)\\otimes\\sigma^+_2.\\\\\n",
    "\\end{align*}\n",
    "$$"
   ]
  },
  {
   "cell_type": "markdown",
   "metadata": {
    "hidden": true
   },
   "source": [
    "### Simulation"
   ]
  },
  {
   "cell_type": "code",
   "execution_count": null,
   "metadata": {
    "hidden": true
   },
   "outputs": [],
   "source": [
    "U = 0*10.0 "
   ]
  },
  {
   "cell_type": "code",
   "execution_count": null,
   "metadata": {
    "ExecuteTime": {
     "end_time": "2019-12-09T15:16:42.488000+01:00",
     "start_time": "2019-12-09T14:16:42.453Z"
    },
    "hidden": true
   },
   "outputs": [],
   "source": [
    "# initial state\n",
    "psi0_list = [(1/sqrt(2.0)) * (qt.basis(2, 1) + qt.basis(2, 0)), qt.basis(2, 0)]\n",
    "psi0 = qt.tensor(psi0_list)\n",
    "\n",
    "# define annihilation operators\n",
    "c_1_list = [qt.destroy(2), qt.qeye(2)]\n",
    "c_1  = qt.tensor(c_1_list)    \n",
    "c_2_list = [qt.destroy(2) * qt.destroy(2).dag() - qt.destroy(2).dag() * qt.destroy(2), qt.destroy(2)]\n",
    "# c_2_list = [qt.qeye(2), qt.destroy(2)]\n",
    "c_2  = qt.tensor(c_2_list)    \n",
    "\n",
    "# Hamiltonian\n",
    "H  = J * (c_1.dag() * c_2 + c_2.dag() * c_1)\n",
    "H += ε₁ * c_1.dag() * c_1 + ε₂ * c_2.dag() * c_2; # do not give qutip a non-Hermitian Hamiltonian\n",
    "H += U * (c_1.dag() * c_1 * c_1.dag() * c_1 + c_2.dag() * c_2 * c_2.dag() * c_2)\n",
    "\n",
    "observables = [c_1.dag()*c_1, c_2.dag()*c_2];"
   ]
  },
  {
   "cell_type": "code",
   "execution_count": null,
   "metadata": {
    "hidden": true
   },
   "outputs": [],
   "source": [
    "c_2.dag() * c_1"
   ]
  },
  {
   "cell_type": "code",
   "execution_count": null,
   "metadata": {
    "hidden": true
   },
   "outputs": [],
   "source": [
    "c_1 * c_2.dag()"
   ]
  },
  {
   "cell_type": "code",
   "execution_count": null,
   "metadata": {
    "hidden": true
   },
   "outputs": [],
   "source": [
    "c_1.dag() * c_1"
   ]
  },
  {
   "cell_type": "code",
   "execution_count": null,
   "metadata": {
    "hidden": true,
    "scrolled": true
   },
   "outputs": [],
   "source": [
    "c_1 * c_1.dag()"
   ]
  },
  {
   "cell_type": "code",
   "execution_count": null,
   "metadata": {
    "hidden": true,
    "scrolled": true
   },
   "outputs": [],
   "source": [
    "c_1 * c_2.dag() == - c_2.dag() * c_1"
   ]
  },
  {
   "cell_type": "code",
   "execution_count": null,
   "metadata": {
    "ExecuteTime": {
     "end_time": "2019-12-09T15:16:42.729000+01:00",
     "start_time": "2019-12-09T14:16:42.642Z"
    },
    "hidden": true
   },
   "outputs": [],
   "source": [
    "# quickly solve once for observables\n",
    "me = qt.mesolve(H, psi0, times, [], observables)\n",
    "\n",
    "# solve for the time-dependent density matrix\n",
    "t_sols = qt.mesolve(H, psi0, times); # t_sols.states returns state vectors!"
   ]
  },
  {
   "cell_type": "markdown",
   "metadata": {
    "hidden": true
   },
   "source": [
    "#### Two times"
   ]
  },
  {
   "cell_type": "markdown",
   "metadata": {
    "hidden": true
   },
   "source": [
    "Calculate $\\langle c^\\dagger_1(t') c^\\phantom{\\dagger}_1(t)\\rangle$ and $\\langle c^\\phantom{\\dagger}_1(t')c^\\dagger_1(t) \\rangle$, where $t' = t + \\tau$."
   ]
  },
  {
   "cell_type": "code",
   "execution_count": null,
   "metadata": {
    "ExecuteTime": {
     "end_time": "2019-12-09T15:17:18.432000+01:00",
     "start_time": "2019-12-09T14:16:43.350Z"
    },
    "hidden": true
   },
   "outputs": [],
   "source": [
    "# tau_t_sols = Dict()\n",
    "# for k in 1:length(t_sols.states)\n",
    "#     tau_t_sols[k] = qt.mesolve(H, c_1 * t_sols.states[k] * t_sols.states[k].dag(), horizontal_times(k)).states\n",
    "# end\n",
    "\n",
    "# c_1_dag_c_1 = zeros(ComplexF64, length(t_sols.states), length(t_sols.states))\n",
    "# for k in 1:length(t_sols.states)\n",
    "#     for l in 1:length(t_sols.states)\n",
    "#         c_1_dag_c_1[k, l] = (c_1.dag() * tau_t_sols[k][l]).tr()    \n",
    "#     end\n",
    "# end\n",
    "\n",
    "# # tau_t_sols = Dict()\n",
    "# # for k in 1:length(t_sols.states)\n",
    "# #     tau_t_sols[k] = qt.mesolve(H, c_1.dag() * t_sols.states[k] * t_sols.states[k].dag(), horizontal_times(k)).states\n",
    "# # end\n",
    "\n",
    "# # c_1_c_1_dag = zeros(ComplexF64, length(t_sols.states), length(t_sols.states))\n",
    "# # for k in 1:length(t_sols.states)\n",
    "# #     for l in 1:length(t_sols.states)\n",
    "# #         c_1_c_1_dag[k, l] = (c_1 * tau_t_sols[k][l]).tr()    \n",
    "# #     end\n",
    "# # end"
   ]
  },
  {
   "cell_type": "code",
   "execution_count": null,
   "metadata": {
    "ExecuteTime": {
     "end_time": "2019-12-09T15:17:55.131000+01:00",
     "start_time": "2019-12-09T14:16:43.535Z"
    },
    "hidden": true
   },
   "outputs": [],
   "source": [
    "# tau_t_sols = Dict()\n",
    "# for k in 1:length(t_sols.states)\n",
    "#     tau_t_sols[k] = qt.mesolve(H, c_2 * t_sols.states[k] * t_sols.states[k].dag(), times).states\n",
    "# end\n",
    "\n",
    "# c_2_dag_c_2 = zeros(ComplexF64, length(t_sols.states), length(t_sols.states))\n",
    "# for k in 1:length(t_sols.states)\n",
    "#     for l in 1:length(t_sols.states)\n",
    "#         c_2_dag_c_2[k, l] = (c_2.dag() * tau_t_sols[k][l]).tr()    \n",
    "#     end\n",
    "# end\n",
    "\n",
    "# tau_t_sols = Dict()\n",
    "# for k in 1:length(t_sols.states)\n",
    "#     tau_t_sols[k] = qt.mesolve(H, c_2.dag() * t_sols.states[k] * t_sols.states[k].dag(), times).states\n",
    "# end\n",
    "\n",
    "# c_2_c_2_dag = zeros(ComplexF64, length(t_sols.states), length(t_sols.states))\n",
    "# for k in 1:length(t_sols.states)\n",
    "#     for l in 1:length(t_sols.states)\n",
    "#         c_2_c_2_dag[k, l] = (c_2 * tau_t_sols[k][l]).tr()    \n",
    "#     end\n",
    "# end"
   ]
  },
  {
   "cell_type": "code",
   "execution_count": null,
   "metadata": {
    "ExecuteTime": {
     "end_time": "2019-12-09T15:17:55.676000+01:00",
     "start_time": "2019-12-09T14:16:43.765Z"
    },
    "hidden": true
   },
   "outputs": [],
   "source": [
    "# # reshape the above array to fit into our two-time \"matrix\" structure \n",
    "# # see the plot below for illustration\n",
    "# unskewed_c_1_dag_c_1 = zeros(ComplexF64, length(t_sols.states), 2*length(t_sols.states) - 1)\n",
    "# for (k, x) in enumerate([c_1_dag_c_1[k, :] for k in 1:length(t_sols.states)])\n",
    "#     for (l, y) in enumerate(x)\n",
    "#         ind = k + l - 1 # verify the -1 relative to the original python code\n",
    "#         unskewed_c_1_dag_c_1[k, ind] = y  \n",
    "#     end\n",
    "# end\n",
    "\n",
    "# # unskewed_c_1_c_1_dag = zeros(ComplexF64, length(t_sols.states), 2*length(t_sols.states) - 1)\n",
    "# # for (k, x) in enumerate([c_1_c_1_dag[k, :] for k in 1:length(t_sols.states)])\n",
    "# #     for (l, y) in enumerate(x)\n",
    "# #         ind = k + l - 1 # verify the -1 relative to the original python code\n",
    "# #         unskewed_c_1_c_1_dag[k, ind] = y  \n",
    "# #     end\n",
    "# # end"
   ]
  },
  {
   "cell_type": "code",
   "execution_count": null,
   "metadata": {
    "ExecuteTime": {
     "end_time": "2019-12-09T15:17:56.137000+01:00",
     "start_time": "2019-12-09T14:16:43.954Z"
    },
    "hidden": true
   },
   "outputs": [],
   "source": [
    "# # reshape the above array to fit into our two-time \"matrix\" structure \n",
    "# # see the plot below for illustration\n",
    "# unskewed_c_2_dag_c_2 = zeros(ComplexF64, length(t_sols.states), 2*length(t_sols.states) - 1)\n",
    "# for (k, x) in enumerate([c_2_dag_c_2[k, :] for k in 1:length(t_sols.states)])\n",
    "#     for (l, y) in enumerate(x)\n",
    "#         ind = k + l - 1 # verify the -1 relative to the original python code\n",
    "#         unskewed_c_2_dag_c_2[k, ind] = y  \n",
    "#     end\n",
    "# end\n",
    "\n",
    "# unskewed_c_2_c_2_dag = zeros(ComplexF64, length(t_sols.states), 2*length(t_sols.states) - 1)\n",
    "# for (k, x) in enumerate([c_2_c_2_dag[k, :] for k in 1:length(t_sols.states)])\n",
    "#     for (l, y) in enumerate(x)\n",
    "#         ind = k + l - 1 # verify the -1 relative to the original python code\n",
    "#         unskewed_c_2_c_2_dag[k, ind] = y  \n",
    "#     end\n",
    "# end"
   ]
  },
  {
   "cell_type": "code",
   "execution_count": null,
   "metadata": {
    "ExecuteTime": {
     "end_time": "2019-12-09T15:17:56.409000+01:00",
     "start_time": "2019-12-09T14:16:44.168Z"
    },
    "hidden": true
   },
   "outputs": [],
   "source": [
    "# figure(figsize=(6, 2))\n",
    "# subplot(121)\n",
    "# imshow(real(c_1_dag_c_1), cmap=\"plasma\")\n",
    "\n",
    "# subplot(122)\n",
    "# imshow(real(unskewed_c_1_dag_c_1), cmap=\"plasma\")\n",
    "\n",
    "# tight_layout()"
   ]
  },
  {
   "cell_type": "markdown",
   "metadata": {},
   "source": [
    "## Plotting"
   ]
  },
  {
   "cell_type": "code",
   "execution_count": null,
   "metadata": {},
   "outputs": [],
   "source": [
    "idx1 = 1\n",
    "idx2 = 1;"
   ]
  },
  {
   "cell_type": "code",
   "execution_count": null,
   "metadata": {},
   "outputs": [],
   "source": [
    "# Analytic result\n",
    "f_2(T, tp) = exp(-1.0im * h * horizontal_times(T)[tp]) * exp(-1.0im * h * sol.t[T]) * gfL[:, :, 1, 1] * exp(1.0im * h * sol.t[T])\n",
    "f(T, tp) = exp(-1.0im * h * sol.t[T]) * gfL[:, :, 1, 1] * exp(1.0im * h * horizontal_times(T)[tp]) * exp(1.0im * h * sol.t[T])\n",
    "f_diag(T) = exp(-1.0im * h * sol.t[T]) * gfL[:, :, 1, 1] * exp(1.0im * h * sol.t[T])"
   ]
  },
  {
   "cell_type": "code",
   "execution_count": null,
   "metadata": {
    "scrolled": true
   },
   "outputs": [],
   "source": [
    "figure(figsize=(12, 6))\n",
    "subplot(221)\n",
    "plot(sol.t, [imag(gfL.data[idx1, idx2, k, k]) for k in 1:length(sol.t)], marker=\"\", ms=3.0, ls=\"-\", c=\"r\")\n",
    "# plot(sol.t, [imag(gfL.data[2, 2, k, k]) for k in 1:length(sol.t)], marker=\"\", ms=3.0, ls=\"-\", c=\"r\")\n",
    "# plot(sol.t, me.expect[1], c=\"k\", ls=\"--\", lw=3.0, alpha=0.5)\n",
    "# plot(sol.t, me.expect[2], c=\"k\", ls=\"--\", lw=3.0, alpha=0.5)\n",
    "# plot(sol.t, [real(unskewed_c_1_dag_c_1[k, k]) for k in 1:n+1], c=\"k\", ls=\"--\", lw=3.0, alpha=0.5)\n",
    "plot(sol.t, [imag(f_diag(k)[idx1, idx2]) for k in 1:n+1], c=\"C0\", ls=\"--\", lw=3.0, alpha=0.5)\n",
    "xlim(0, T)\n",
    "# ylim(0, N_0)\n",
    "xlabel(\"\\$t\\$\")\n",
    "\n",
    "subplot(222)\n",
    "idx = 1\n",
    "# plot(sol.t[idx:end - 1], [real(unskewed_c_1_dag_c_1[idx, k + idx - 1]) for k in 1:length(sol.t) - idx], \"o\", c=\"k\", lw=3.0, alpha=0.5, ms=3)\n",
    "plot(sol.t[idx:end - 1], [imag(gfL.data[idx1, idx2, idx, k + idx - 1]) for k in 1:length(sol.t) - idx], \"o\", ms=1, c=\"r\")\n",
    "plot(sol.t[idx:end - 1], [imag(f(idx, k))[idx1, idx2] for k in 1:length(sol.t) - idx], \"x\", c=\"C0\", lw=5.0, alpha=0.5, ms=5)\n",
    "\n",
    "tight_layout()\n",
    "# savefig(\"test.pdf\")"
   ]
  },
  {
   "cell_type": "code",
   "execution_count": null,
   "metadata": {},
   "outputs": [],
   "source": [
    "figure(figsize=(12, 6))\n",
    "subplot(221)\n",
    "plot(sol.t, [abs.(gfL.data[idx1, idx2, k, k]) for k in 1:length(sol.t)] \n",
    "    .- [abs.(f_diag(k)[idx1, idx2]) for k in 1:n+1], marker=\"\", ms=3.0, ls=\"-\", c=\"r\")\n",
    "# plot(sol.t, me.expect[1] .- [imag(f_diag(k)[1, 1]) for k in 1:n+1], c=\"k\", ls=\"--\", lw=3.0, alpha=0.5)\n",
    "xlim(0, T)\n",
    "# ylim(0, N_0)\n",
    "xlabel(\"\\$t\\$\")\n",
    "\n",
    "subplot(222)\n",
    "idx = 30\n",
    "plot(sol.t[idx:end - 1], [abs.(gfL.data[idx1, idx2, idx, k + idx - 1]) for k in 1:length(sol.t) - idx]\n",
    "    .- [abs.(f(idx, k))[idx1, idx2] for k in 1:length(sol.t) - idx], \"o\", ms=1, c=\"r\")\n",
    "# semilogy(sol.t[idx:end - 1], [real(unskewed_c_1_dag_c_1[idx, k + idx - 1]) for k in 1:length(sol.t) - idx] .- [imag(f(idx, k))[1, 1] for k in 1:length(sol.t) - idx], \"o\", c=\"k\", lw=3.0, alpha=0.5, ms=1)\n",
    "\n",
    "tight_layout()\n",
    "# savefig(\"test.pdf\")"
   ]
  },
  {
   "cell_type": "markdown",
   "metadata": {},
   "source": [
    "## Error scaling"
   ]
  },
  {
   "cell_type": "code",
   "execution_count": null,
   "metadata": {},
   "outputs": [],
   "source": [
    "epsilons = [2.0^(-k) for k in 10:42]\n",
    "init_dt = 1e-16; # epsilons[end]\n",
    "err_data = [(0.0, 0.0, 0.0) for _ in 1:length(epsilons)]\n",
    "for (k, eps) in enumerate(epsilons)\n",
    "    print(k, \", \")\n",
    "    \n",
    "    sol, _ = kbsolve(rhs_vert, rhs_diag, u0, (0.0, T); dtini=init_dt, atol=eps, rtol=eps);\n",
    "    n = length(sol.t) - 1;\n",
    "    \n",
    "    # Analytic result\n",
    "    horizontal_times = x -> vcat(sol.t[x:end] .- sol.t[x], sol.t[end] .+ (1:(x - 1) |> collect) .* (sol.t[end] - sol.t[end-1]));\n",
    "    f(T, tp) = exp(-1.0im * h * sol.t[T]) * gfL[:, :, 1, 1] * exp(1.0im * h * horizontal_times(T)[tp]) * exp(1.0im * h * sol.t[T])\n",
    "    f_diag(T) = exp(-1.0im * h * sol.t[T]) * gfL[:, :, 1, 1] * exp(1.0im * h * sol.t[T])\n",
    "    \n",
    "    horizontal_err = 0.0\n",
    "    for idx in 1:n\n",
    "        horizontal_err += norm([(gfL.data[1, 1, idx, k + idx]) for k in 1:length(sol.t) - idx] \n",
    "            .- [(f(idx, k))[1, 1] for k in 1:length(sol.t) - idx + 1][2:end]) # not counting the diagonal\n",
    "    end    \n",
    "\n",
    "    err = norm([(gfL.data[1, 1, k, k]) for k in 1:length(sol.t)] .- [(f_diag(k)[1, 1]) for k in 1:n+1])\n",
    "    err += 2 * horizontal_err\n",
    "    err_data[k] = (n, (1.0/(n)^2) * err, eps)    \n",
    "end\n",
    "\n",
    "save(\"error_data.jld\", \"params\", [T, h, N_0], \"err_data\", err_data)"
   ]
  },
  {
   "cell_type": "code",
   "execution_count": null,
   "metadata": {},
   "outputs": [],
   "source": [
    "err_data = load(\"error_data.jld\")[\"err_data\"]\n",
    "err_data = err_data[3:end];"
   ]
  },
  {
   "cell_type": "code",
   "execution_count": null,
   "metadata": {},
   "outputs": [],
   "source": [
    "xdata = log10.([x[1] for x in err_data])\n",
    "ydata = log10.([x[2] for x in err_data]);"
   ]
  },
  {
   "cell_type": "code",
   "execution_count": null,
   "metadata": {},
   "outputs": [],
   "source": [
    "func_power = (n, p) -> 10^(p[2]) * n^(-p[1]);\n",
    "fit_func = (n, p) -> -p[1] .* n .+ p[2];\n",
    "fit_result = curve_fit(fit_func, xdata, ydata, [2.0, 1]);\n",
    "coef(fit_result)"
   ]
  },
  {
   "cell_type": "code",
   "execution_count": null,
   "metadata": {},
   "outputs": [],
   "source": [
    "floor(1.003, sigdigits=4)"
   ]
  },
  {
   "cell_type": "code",
   "execution_count": null,
   "metadata": {
    "scrolled": true
   },
   "outputs": [],
   "source": [
    "figure(figsize=(8, 5))\n",
    "\n",
    "# func_1 = x -> 8e6x^-6\n",
    "# func_2 = x -> 2e23x^-13\n",
    "# func_3 = x -> 6e22x^-16\n",
    "\n",
    "ax = subplot(221)\n",
    "plot(xdata, ydata, \"s\", lw=0, ms=3)\n",
    "plot(xdata, map(x -> fit_func(x, coef(fit_result)), xdata), \"-\", lw=2, \n",
    "    label=\"\\$\\\\mathcal{O}(h^{\"*string(coef(fit_result)[1] |> x -> floor(x, sigdigits=3))*\"})\\$\")\n",
    "# xlim(25, 75)\n",
    "# ylim(-17, 0)\n",
    "# ax.set_yticks([0, -5, -10, -15])\n",
    "xlabel(\"\\$\\\\log(n)\\$\")\n",
    "ylabel(\"\\$\\\\log(\\\\varepsilon_{\\\\mathrm{abs}})\\$\")\n",
    "legend(frameon=false)\n",
    "\n",
    "ax = subplot(222)\n",
    "plot(([x[1] for x in err_data]), ([x[2] for x in err_data]), \"s\", lw=0, ms=3)\n",
    "plot(([x[1] for x in err_data]), (map(x -> func_power(x, coef(fit_result)), [x[1] for x in err_data])), \"-\", lw=2, alpha=0.8)\n",
    "# xlim(25, 75)\n",
    "# ylim(-17, 0)\n",
    "# ax.set_yticks([0, -5, -10, -15])\n",
    "xlabel(\"\\$n\\$\")\n",
    "ylabel(\"\\$\\\\varepsilon_{\\\\mathrm{abs}}\\$\")\n",
    "\n",
    "tight_layout()"
   ]
  },
  {
   "cell_type": "code",
   "execution_count": null,
   "metadata": {},
   "outputs": [],
   "source": [
    "# figure(figsize=(8, 5))\n",
    "\n",
    "ax = subplot(221)\n",
    "semilogx(([x[1] for x in err_data]), log10.([x[2] for x in err_data]), \"s\", lw=0, ms=3)\n",
    "# axhline(log10(init_dt), c=\"grey\", ls=\"--\", label=\"\\$\\\\Delta t_{\\\\mathrm{init}}\\$\")\n",
    "# xlim(1e1, 1e3)\n",
    "# ylim(-17, 0)\n",
    "# ax.set_yticks([0, -5, -10, -15])\n",
    "xlabel(\"\\$n\\$\")\n",
    "ylabel(\"\\$\\\\log(\\\\varepsilon_{\\\\mathrm{abs}})\\$\")\n",
    "# legend()\n",
    "tight_layout()"
   ]
  },
  {
   "cell_type": "code",
   "execution_count": null,
   "metadata": {},
   "outputs": [],
   "source": [
    "figure(figsize=(8, 5))\n",
    "\n",
    "ax = subplot(221)\n",
    "plot(log10.([x[3] for x in err_data]), log10.([x[1] for x in err_data]), \"s\")\n",
    "xlim(-3, -13)\n",
    "# ylim(-17, 0)\n",
    "# ax.set_yticks([0, -5, -10, -15])\n",
    "# ax.set_yticklabels([])\n",
    "xlabel(\"\\$\\\\log(\\\\mathrm{tol})\\$\")\n",
    "ylabel(\"\\$\\\\log(n)\\$\")\n",
    "\n",
    "tight_layout()"
   ]
  },
  {
   "cell_type": "markdown",
   "metadata": {},
   "source": [
    "## Testing"
   ]
  },
  {
   "cell_type": "code",
   "execution_count": null,
   "metadata": {},
   "outputs": [],
   "source": []
  }
 ],
 "metadata": {
  "kernelspec": {
   "display_name": "Julia 1.4.2",
   "language": "julia",
   "name": "julia-1.4"
  },
  "language_info": {
   "file_extension": ".jl",
   "mimetype": "application/julia",
   "name": "julia",
   "version": "1.4.2"
  }
 },
 "nbformat": 4,
 "nbformat_minor": 2
}
