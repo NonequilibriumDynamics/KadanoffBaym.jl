{
 "cells": [
  {
   "cell_type": "markdown",
   "metadata": {},
   "source": [
    "# Fermionic Dimer"
   ]
  },
  {
   "cell_type": "code",
   "execution_count": null,
   "metadata": {
    "ExecuteTime": {
     "end_time": "2019-12-09T14:46:41.400000+01:00",
     "start_time": "2019-12-09T13:46:41.136Z"
    }
   },
   "outputs": [],
   "source": [
    "include(\"../src/KadanoffBaym.jl\")\n",
    "using OrdinaryDiffEq # for ODEProblem and solve\n",
    "using RecursiveArrayTools # For ArrayPartition\n",
    "using PyPlot\n",
    "using PyCall\n",
    "qt = pyimport(\"qutip\")\n",
    "np = pyimport(\"numpy\")\n",
    "\n",
    "PyPlot.matplotlib.rc(\"text\", usetex=true)\n",
    "PyPlot.matplotlib.rc(\"font\", family=\"serif\", size=16)"
   ]
  },
  {
   "cell_type": "markdown",
   "metadata": {},
   "source": [
    "## Model"
   ]
  },
  {
   "cell_type": "markdown",
   "metadata": {},
   "source": [
    "### Non-Hermitian Hamiltonian:\n",
    "\n",
    "$$\n",
    "    \\hat{H} = \\left(\\varepsilon_1 -i\\gamma/2\\right) c^\\phantom{\\dagger}_1 c^{\\dagger}_1 + \\varepsilon_2 c^{\\dagger}_2 c^\\phantom{\\dagger}_2 + J \\left(c^{\\dagger}_1 c^\\phantom{\\dagger}_2 + c^{\\dagger}_2 c^\\phantom{\\dagger}_1\\right)\n",
    "$$\n",
    "\n",
    "### Master equation:\n",
    "\n",
    "$$\n",
    "    \\partial_{t} \\hat{\\rho}=-i\\left[\\hat{H} \\hat{\\rho}-\\hat{\\rho} \\hat{H}^{\n",
    "    \\dagger}\\right]+\\gamma c^{\\dagger}_1 \\hat{\\rho} c^\\phantom{\\dagger}_1\n",
    "$$\n",
    "\n",
    "### Equations of motion\n",
    "\n",
    "#### Vertical Time.\n",
    "\n",
    "\\begin{align}\\begin{split}\n",
    "     ...\n",
    "\\end{split}\\end{align}\n",
    "\n",
    "#### Horizontal Time.\n",
    "\n",
    "\\begin{align}\\begin{split}\n",
    "    ...\n",
    "\\end{split}\\end{align}\n",
    "\n",
    "#### Equal-Time.\n",
    "\n",
    "\\begin{align}\\begin{split}\n",
    "    ...\n",
    "\\end{split}\\end{align}"
   ]
  },
  {
   "cell_type": "markdown",
   "metadata": {},
   "source": [
    "## Solving"
   ]
  },
  {
   "cell_type": "code",
   "execution_count": null,
   "metadata": {
    "ExecuteTime": {
     "end_time": "2019-12-09T15:16:31.897000+01:00",
     "start_time": "2019-12-09T14:16:31.871Z"
    }
   },
   "outputs": [],
   "source": [
    "# time parameters\n",
    "T = 1.0\n",
    "dt = 2^-8 # this algorithm requires a fixed time\n",
    "n = Int(1/dt) \n",
    "\n",
    "# Non-Hermitian Hamiltonian and jump operator\n",
    "ε₁ = 0.0\n",
    "ε₂ = 0.0\n",
    "J = 2*pi*1.0\n",
    "γ = 10.0\n",
    "h = ComplexF64[ε₁ - 0.5im * γ J; J ε₂];"
   ]
  },
  {
   "cell_type": "code",
   "execution_count": null,
   "metadata": {
    "ExecuteTime": {
     "end_time": "2019-12-09T15:19:00.264000+01:00",
     "start_time": "2019-12-09T14:19:00.183Z"
    }
   },
   "outputs": [],
   "source": [
    "stop = Int(n/2) + 1 \n",
    "\n",
    "times = range(0, length=n + 1, stop=T) |> collect;\n",
    "\n",
    "# defining the tau times\n",
    "times_tau = 2 .* vcat([-times[stop - (k - 1)] for k in 1:stop - 1], times[1:stop]);"
   ]
  },
  {
   "cell_type": "markdown",
   "metadata": {},
   "source": [
    "## QuTiP benchmark"
   ]
  },
  {
   "cell_type": "markdown",
   "metadata": {},
   "source": [
    "### Jordan-Wigner transformation\n",
    "\n",
    "$$\n",
    "\\begin{align*}\n",
    "    c^\\phantom{\\dagger}_1 &\\to \\sigma^-_1,\\\\\n",
    "    c^{\\dagger}_1 &\\to \\sigma^+_1.\\\\\n",
    "\\end{align*}\n",
    "$$\n",
    "\n",
    "$$\n",
    "\\begin{align*}\n",
    "    c^\\phantom{\\dagger}_2 &\\to (-\\sigma^z_1)\\otimes\\sigma^-_2,\\\\\n",
    "    c^{\\dagger}_2 &\\to (-\\sigma^z_1)\\otimes\\sigma^+_2.\\\\\n",
    "\\end{align*}\n",
    "$$"
   ]
  },
  {
   "cell_type": "code",
   "execution_count": null,
   "metadata": {
    "ExecuteTime": {
     "end_time": "2019-12-09T15:16:42.488000+01:00",
     "start_time": "2019-12-09T14:16:42.453Z"
    }
   },
   "outputs": [],
   "source": [
    "# initial state\n",
    "psi0_list = [qt.basis(2, 1), qt.basis(2, 0)]\n",
    "psi0 = qt.tensor(psi0_list)\n",
    "\n",
    "# define annihilation operators\n",
    "c_1_list = [qt.destroy(2), qt.qeye(2)]\n",
    "c_1  = qt.tensor(c_1_list)    \n",
    "c_2_list = [qt.destroy(2) * qt.destroy(2).dag() - qt.destroy(2).dag() * qt.destroy(2), qt.destroy(2)]\n",
    "# c_2_list = [qt.qeye(2), qt.destroy(2)]\n",
    "c_2  = qt.tensor(c_2_list)    \n",
    "\n",
    "# Hamiltonian\n",
    "H  = J * c_1.dag() * c_2\n",
    "H += H.dag();\n",
    "H += ε₁ * c_1.dag() * c_1 + ε₂ * c_2.dag() * c_2; # do not give qutip a non-Hermitian Hamiltonian\n",
    "\n",
    "observables = [c_1.dag()*c_1, c_2.dag()*c_2];"
   ]
  },
  {
   "cell_type": "code",
   "execution_count": null,
   "metadata": {
    "ExecuteTime": {
     "end_time": "2019-12-09T15:16:42.729000+01:00",
     "start_time": "2019-12-09T14:16:42.642Z"
    }
   },
   "outputs": [],
   "source": [
    "j_ops = [sqrt(γ) * c_1.dag()] # qutip only needs the jump operator\n",
    "\n",
    "# quickly solve once for observables\n",
    "me = qt.mesolve(H, psi0, times, j_ops, observables)\n",
    "\n",
    "# solve for the time-dependent density matrix\n",
    "t_sols = qt.mesolve(H, psi0, times, j_ops); # t_sols.states returns density matrices"
   ]
  },
  {
   "cell_type": "markdown",
   "metadata": {
    "heading_collapsed": true
   },
   "source": [
    "#### Two times"
   ]
  },
  {
   "cell_type": "markdown",
   "metadata": {
    "hidden": true
   },
   "source": [
    "Calculate $\\langle c^\\dagger_1(t') c^\\phantom{\\dagger}_1(t)\\rangle$ and $\\langle c^\\phantom{\\dagger}_1(t')c^\\dagger_1(t) \\rangle$, where $t' = t + \\tau$."
   ]
  },
  {
   "cell_type": "code",
   "execution_count": null,
   "metadata": {
    "ExecuteTime": {
     "end_time": "2019-12-09T15:17:18.432000+01:00",
     "start_time": "2019-12-09T14:16:43.350Z"
    },
    "hidden": true
   },
   "outputs": [],
   "source": [
    "tau_t_sols = Dict()\n",
    "for k in 1:length(t_sols.states)\n",
    "    tau_t_sols[k] = qt.mesolve(H, c_1 * t_sols.states[k], times, j_ops).states\n",
    "end\n",
    "\n",
    "c_1_dag_c_1 = zeros(ComplexF64, length(t_sols.states), length(t_sols.states))\n",
    "for k in 1:length(t_sols.states)\n",
    "    for l in 1:length(t_sols.states)\n",
    "        c_1_dag_c_1[k, l] = (c_1.dag() * tau_t_sols[k][l]).tr()    \n",
    "    end\n",
    "end\n",
    "\n",
    "tau_t_sols = Dict()\n",
    "for k in 1:length(t_sols.states)\n",
    "    tau_t_sols[k] = qt.mesolve(H, c_1.dag() * t_sols.states[k], times, j_ops).states\n",
    "end\n",
    "\n",
    "c_1_c_1_dag = zeros(ComplexF64, length(t_sols.states), length(t_sols.states))\n",
    "for k in 1:length(t_sols.states)\n",
    "    for l in 1:length(t_sols.states)\n",
    "        c_1_c_1_dag[k, l] = (c_1 * tau_t_sols[k][l]).tr()    \n",
    "    end\n",
    "end"
   ]
  },
  {
   "cell_type": "code",
   "execution_count": null,
   "metadata": {
    "ExecuteTime": {
     "end_time": "2019-12-09T15:17:55.131000+01:00",
     "start_time": "2019-12-09T14:16:43.535Z"
    },
    "hidden": true
   },
   "outputs": [],
   "source": [
    "tau_t_sols = Dict()\n",
    "for k in 1:length(t_sols.states)\n",
    "    tau_t_sols[k] = qt.mesolve(H, c_2 * t_sols.states[k], times, j_ops).states\n",
    "end\n",
    "\n",
    "c_2_dag_c_2 = zeros(ComplexF64, length(t_sols.states), length(t_sols.states))\n",
    "for k in 1:length(t_sols.states)\n",
    "    for l in 1:length(t_sols.states)\n",
    "        c_2_dag_c_2[k, l] = (c_2.dag() * tau_t_sols[k][l]).tr()    \n",
    "    end\n",
    "end\n",
    "\n",
    "tau_t_sols = Dict()\n",
    "for k in 1:length(t_sols.states)\n",
    "    tau_t_sols[k] = qt.mesolve(H, c_2.dag() * t_sols.states[k], times, j_ops).states\n",
    "end\n",
    "\n",
    "c_2_c_2_dag = zeros(ComplexF64, length(t_sols.states), length(t_sols.states))\n",
    "for k in 1:length(t_sols.states)\n",
    "    for l in 1:length(t_sols.states)\n",
    "        c_2_c_2_dag[k, l] = (c_2 * tau_t_sols[k][l]).tr()    \n",
    "    end\n",
    "end"
   ]
  },
  {
   "cell_type": "code",
   "execution_count": null,
   "metadata": {
    "ExecuteTime": {
     "end_time": "2019-12-09T15:17:55.676000+01:00",
     "start_time": "2019-12-09T14:16:43.765Z"
    },
    "hidden": true
   },
   "outputs": [],
   "source": [
    "# reshape the above array to fit into our two-time \"matrix\" structure \n",
    "# see the plot below for illustration\n",
    "unskewed_c_1_dag_c_1 = zeros(ComplexF64, length(t_sols.states), 2*length(t_sols.states) - 1)\n",
    "for (k, x) in enumerate([c_1_dag_c_1[k, :] for k in 1:length(t_sols.states)])\n",
    "    for (l, y) in enumerate(x)\n",
    "        ind = k + l - 1 # verify the -1 relative to the original python code\n",
    "        unskewed_c_1_dag_c_1[k, ind] = y  \n",
    "    end\n",
    "end\n",
    "\n",
    "unskewed_c_1_c_1_dag = zeros(ComplexF64, length(t_sols.states), 2*length(t_sols.states) - 1)\n",
    "for (k, x) in enumerate([c_1_c_1_dag[k, :] for k in 1:length(t_sols.states)])\n",
    "    for (l, y) in enumerate(x)\n",
    "        ind = k + l - 1 # verify the -1 relative to the original python code\n",
    "        unskewed_c_1_c_1_dag[k, ind] = y  \n",
    "    end\n",
    "end"
   ]
  },
  {
   "cell_type": "code",
   "execution_count": null,
   "metadata": {
    "ExecuteTime": {
     "end_time": "2019-12-09T15:17:56.137000+01:00",
     "start_time": "2019-12-09T14:16:43.954Z"
    },
    "hidden": true
   },
   "outputs": [],
   "source": [
    "# reshape the above array to fit into our two-time \"matrix\" structure \n",
    "# see the plot below for illustration\n",
    "unskewed_c_2_dag_c_2 = zeros(ComplexF64, length(t_sols.states), 2*length(t_sols.states) - 1)\n",
    "for (k, x) in enumerate([c_2_dag_c_2[k, :] for k in 1:length(t_sols.states)])\n",
    "    for (l, y) in enumerate(x)\n",
    "        ind = k + l - 1 # verify the -1 relative to the original python code\n",
    "        unskewed_c_2_dag_c_2[k, ind] = y  \n",
    "    end\n",
    "end\n",
    "\n",
    "unskewed_c_2_c_2_dag = zeros(ComplexF64, length(t_sols.states), 2*length(t_sols.states) - 1)\n",
    "for (k, x) in enumerate([c_2_c_2_dag[k, :] for k in 1:length(t_sols.states)])\n",
    "    for (l, y) in enumerate(x)\n",
    "        ind = k + l - 1 # verify the -1 relative to the original python code\n",
    "        unskewed_c_2_c_2_dag[k, ind] = y  \n",
    "    end\n",
    "end"
   ]
  },
  {
   "cell_type": "code",
   "execution_count": null,
   "metadata": {
    "ExecuteTime": {
     "end_time": "2019-12-09T15:17:56.409000+01:00",
     "start_time": "2019-12-09T14:16:44.168Z"
    },
    "hidden": true
   },
   "outputs": [],
   "source": [
    "figure(figsize=(6, 2))\n",
    "subplot(121)\n",
    "imshow(real(c_1_dag_c_1), cmap=\"plasma\")\n",
    "\n",
    "subplot(122)\n",
    "imshow(real(unskewed_c_1_dag_c_1), cmap=\"plasma\")\n",
    "\n",
    "tight_layout()"
   ]
  },
  {
   "cell_type": "markdown",
   "metadata": {},
   "source": [
    "## Plotting"
   ]
  },
  {
   "cell_type": "code",
   "execution_count": null,
   "metadata": {
    "ExecuteTime": {
     "end_time": "2019-12-09T15:19:08.816000+01:00",
     "start_time": "2019-12-09T14:19:08.549Z"
    }
   },
   "outputs": [],
   "source": [
    "c_1_dag_c_1_tau = [unskewed_c_1_dag_c_1[stop - (k - 1), stop + (k - 1)] for k in 1:stop]\n",
    "c_1_dag_c_1_tau_reversed = [c_1_dag_c_1_tau[stop - (k - 1)] for k in 1:stop]\n",
    "c_1_dag_c_1_tau_full = vcat(conj(c_1_dag_c_1_tau_reversed[1:end-1]), c_1_dag_c_1_tau);\n",
    "\n",
    "c_1_c_1_dag_tau = [unskewed_c_1_c_1_dag[stop - (k - 1), stop + (k - 1)] for k in 1:stop]\n",
    "c_1_c_1_dag_tau_reversed = [c_1_c_1_dag_tau[stop - (k - 1)] for k in 1:stop]\n",
    "c_1_c_1_dag_tau_full = vcat(conj(c_1_c_1_dag_tau_reversed[1:end-1]), c_1_c_1_dag_tau);"
   ]
  },
  {
   "cell_type": "code",
   "execution_count": null,
   "metadata": {
    "ExecuteTime": {
     "end_time": "2019-12-09T15:19:09.665000+01:00",
     "start_time": "2019-12-09T14:19:09.327Z"
    }
   },
   "outputs": [],
   "source": [
    "c_2_dag_c_2_tau = [unskewed_c_2_dag_c_2[stop - (k - 1), stop + (k - 1)] for k in 1:stop]\n",
    "c_2_dag_c_2_tau_reversed = [c_2_dag_c_2_tau[stop - (k - 1)] for k in 1:stop]\n",
    "c_2_dag_c_2_tau_full = vcat(conj(c_2_dag_c_2_tau_reversed[1:end-1]), c_2_dag_c_2_tau);\n",
    "\n",
    "c_2_c_2_dag_tau = [unskewed_c_2_c_2_dag[stop - (k - 1), stop + (k - 1)] for k in 1:stop]\n",
    "c_2_c_2_dag_tau_reversed = [c_2_c_2_dag_tau[stop - (k - 1)] for k in 1:stop]\n",
    "c_2_c_2_dag_tau_full = vcat(conj(c_2_c_2_dag_tau_reversed[1:end-1]), c_2_c_2_dag_tau);"
   ]
  },
  {
   "cell_type": "code",
   "execution_count": null,
   "metadata": {
    "ExecuteTime": {
     "end_time": "2019-12-09T15:23:26.240000+01:00",
     "start_time": "2019-12-09T14:23:25.841Z"
    }
   },
   "outputs": [],
   "source": [
    "figure(figsize=(12, 3))\n",
    "subplot(121)\n",
    "plot(times, me.expect[1], c=\"k\", ls=\"--\")\n",
    "plot(times, me.expect[2], c=\"k\", ls=\"--\")\n",
    "plot(times, [real(unskewed_c_1_dag_c_1[k, k]) for k in 1:n+1], c=\"r\", ls=\":\", lw=3.0, alpha=0.5)\n",
    "xlim(0, T)\n",
    "ylim(0, 1)\n",
    "xlabel(\"\\$t\\$\")\n",
    "\n",
    "subplot(122)\n",
    "plot(times_tau, c_1_c_1_dag_tau_full - c_1_dag_c_1_tau_full, c=\"k\", ls=\"--\")\n",
    "plot(times_tau, c_2_c_2_dag_tau_full - c_2_dag_c_2_tau_full, c=\"k\", ls=\"--\")\n",
    "xlim(-T, T)\n",
    "xlabel(\"\\$\\\\tau\\$\")\n",
    "\n",
    "tight_layout()\n",
    "# savefig(\"test.pdf\")"
   ]
  },
  {
   "cell_type": "code",
   "execution_count": null,
   "metadata": {},
   "outputs": [],
   "source": []
  }
 ],
 "metadata": {
  "kernelspec": {
   "display_name": "Julia 1.0.0",
   "language": "julia",
   "name": "julia-1.0"
  },
  "language_info": {
   "file_extension": ".jl",
   "mimetype": "application/julia",
   "name": "julia",
   "version": "1.0.0"
  }
 },
 "nbformat": 4,
 "nbformat_minor": 2
}
