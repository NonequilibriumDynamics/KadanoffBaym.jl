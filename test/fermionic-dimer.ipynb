{
 "cells": [
  {
   "cell_type": "markdown",
   "metadata": {},
   "source": [
    "# Fermionic Dimer"
   ]
  },
  {
   "cell_type": "code",
   "execution_count": null,
   "metadata": {},
   "outputs": [],
   "source": [
    "using KadanoffBaym\n",
    "using LinearAlgebra\n",
    "using LsqFit\n",
    "using JLD\n",
    "\n",
    "using PyPlot\n",
    "using PyCall\n",
    "qt = pyimport(\"qutip\")\n",
    "np = pyimport(\"numpy\")\n",
    "\n",
    "font_size = 16\n",
    "# font_size = 20\n",
    "\n",
    "PyPlot.matplotlib.rc(\"text\", usetex=true)\n",
    "PyPlot.matplotlib.rc(\"font\", family=\"serif\", size=font_size)\n",
    "PyPlot.matplotlib.rc(\"axes\", labelsize=font_size)\n",
    "PyPlot.matplotlib.rc(\"xtick.major\", size=8)\n",
    "PyPlot.matplotlib.rc(\"ytick.major\", size=8)\n",
    "PyPlot.matplotlib.rc(\"xtick.minor\", visible=true, size=4)\n",
    "PyPlot.matplotlib.rc(\"ytick.minor\", visible=true, size=4)\n",
    "PyPlot.matplotlib.rc(\"xtick\", top=true, direction=\"inout\")\n",
    "PyPlot.matplotlib.rc(\"ytick\", right=true, direction=\"inout\")"
   ]
  },
  {
   "cell_type": "markdown",
   "metadata": {
    "heading_collapsed": true
   },
   "source": [
    "## Model"
   ]
  },
  {
   "cell_type": "markdown",
   "metadata": {
    "hidden": true
   },
   "source": [
    "### Non-Hermitian Hamiltonian:\n",
    "\n",
    "$$\n",
    "\\begin{align}\\begin{split}\n",
    "    \\hat{H} &= \\varepsilon_1 c^{\\dagger}_1 c^\\phantom{\\dagger}_1  + \\varepsilon_2 c^{\\dagger}_2 c^\\phantom{\\dagger}_2 + J \\left(c^{\\dagger}_1 c^\\phantom{\\dagger}_2 + c^{\\dagger}_2 c^\\phantom{\\dagger}_1\\right)\n",
    "\\end{split}\\end{align}\n",
    "$$\n",
    "\n",
    "\n",
    "### Equations of motion\n",
    "\n",
    "#### Vertical Time.\n",
    "\n",
    "\\begin{align}\\begin{split}\n",
    "    0 &= \\begin{pmatrix}\n",
    "    i \\partial_t - \\varepsilon_1  & -J \\\\\n",
    "    -J & i \\partial_t - \\varepsilon_2\n",
    "    \\end{pmatrix} \n",
    "    \\begin{pmatrix}\n",
    "    G^<_{11} & G^<_{12} \\\\\n",
    "    G^<_{21} & G^<_{22}\n",
    "    \\end{pmatrix}(t, t')  \\\\\n",
    "    0 &= \\begin{pmatrix}\n",
    "    i \\partial_t - \\varepsilon_1  & -J \\\\\n",
    "    -J & i \\partial_t - \\varepsilon_2\n",
    "    \\end{pmatrix} \n",
    "    \\begin{pmatrix}\n",
    "    G^>_{11} & G^>_{12} \\\\\n",
    "    G^>_{21} & G^>_{22}\n",
    "    \\end{pmatrix}(t, t')   \n",
    "\\end{split}\\end{align}\n",
    "\n",
    "#### Horizontal Time.\n",
    "\n",
    "\\begin{align}\\begin{split}\n",
    "    0 &= \\begin{pmatrix}\n",
    "    G^<_{11} & G^<_{12} \\\\\n",
    "    G^<_{21} & G^<_{22}\n",
    "    \\end{pmatrix}(t, t') \n",
    "    \\begin{pmatrix}\n",
    "    i \\partial_{t'} + \\varepsilon_1  & J \\\\\n",
    "    J & i \\partial_{t'} + \\varepsilon_2\n",
    "    \\end{pmatrix}  \\\\\n",
    "    0 &= \\begin{pmatrix}\n",
    "    G^>_{11} & G^>_{12} \\\\\n",
    "    G^>_{21} & G^>_{22}\n",
    "    \\end{pmatrix}(t, t') \n",
    "    \\begin{pmatrix}\n",
    "    i \\partial_{t'} + \\varepsilon_1  & J \\\\\n",
    "    J & i \\partial_{t'} + \\varepsilon_2\n",
    "    \\end{pmatrix}  \n",
    "\\end{split}\\end{align}\n",
    "\n",
    "#### Equal-Time.\n",
    "\n",
    "\\begin{align}\\begin{split}\n",
    "    0 &= i \\partial_T\n",
    "    \\begin{pmatrix}\n",
    "    G^<_{11} & G^<_{12} \\\\\n",
    "    G^<_{21} & G^<_{22}\n",
    "    \\end{pmatrix}(T, 0)\n",
    "    - \\left[\\begin{pmatrix}\n",
    "    \\varepsilon_1 & J \\\\\n",
    "    J & \\varepsilon_2\n",
    "    \\end{pmatrix}, \n",
    "    \\begin{pmatrix}\n",
    "    G^<_{11} & G^<_{12} \\\\\n",
    "    G^<_{21} & G^<_{22}\n",
    "    \\end{pmatrix}(T, 0)\\right]    \\\\\n",
    "    0 &= i \\partial_T\n",
    "    \\begin{pmatrix}\n",
    "    G^>_{11} & G^>_{12} \\\\\n",
    "    G^>_{21} & G^>_{22}\n",
    "    \\end{pmatrix}(T, 0)  \n",
    "    - \\left[\\begin{pmatrix}\n",
    "    \\varepsilon_1 & J \\\\\n",
    "    J & \\varepsilon_2\n",
    "    \\end{pmatrix}, \n",
    "    \\begin{pmatrix}\n",
    "    G^>_{11} & G^>_{12} \\\\\n",
    "    G^>_{21} & G^>_{22}\n",
    "    \\end{pmatrix}(T, 0)\\right]\n",
    "\\end{split}\\end{align}"
   ]
  },
  {
   "cell_type": "markdown",
   "metadata": {},
   "source": [
    "## Solving"
   ]
  },
  {
   "cell_type": "code",
   "execution_count": null,
   "metadata": {
    "ExecuteTime": {
     "end_time": "2019-12-09T15:16:31.897000+01:00",
     "start_time": "2019-12-09T14:16:31.871Z"
    }
   },
   "outputs": [],
   "source": [
    "# final time\n",
    "T = 5.0\n",
    "\n",
    "# Hamiltonian\n",
    "ε₁ = 1.0\n",
    "ε₂ = -1.0\n",
    "J = 20.0\n",
    "H = ComplexF64[ε₁ J; J ε₂];"
   ]
  },
  {
   "cell_type": "code",
   "execution_count": null,
   "metadata": {},
   "outputs": [],
   "source": [
    "# quantum numbers\n",
    "dim = 2\n",
    "\n",
    "# Define your Green functions at (t0, t0), time-arguments at the end!\n",
    "GL = GreenFunction(zeros(ComplexF64, dim, dim, 1, 1), Lesser)\n",
    "GG = GreenFunction(zeros(ComplexF64, dim, dim, 1, 1), Greater)\n",
    "\n",
    "# initial condition\n",
    "N_0 = 1.0\n",
    "\n",
    "GL[1,1,1,1] = 1.0im * N_0\n",
    "# gfL[1,2,1,1] = 1.0im * N_0\n",
    "# gfL[2,1,1,1] = 1.0im * N_0\n",
    "GG[:, :, 1, 1] = -1.0im .* diagm([1.0, 1.0]) .+ GL[:, :, 1, 1]\n",
    "\n",
    "u0 = [GL, GG]\n",
    "\n",
    "function f(u, times, t, t′)\n",
    "    GL, GG = u[1], u[2]\n",
    "    f_GL = -1.0im * H * GL[t, t′]\n",
    "    f_GG = -1.0im * H * GG[t, t′]\n",
    "    return [f_GL, f_GG]\n",
    "end\n",
    "\n",
    "f_diag = (u, times, t) -> f(u, times, t, t) - adjoint.(f(u, times, t, t))\n",
    "\n",
    "# function f_diag(u, times, t)\n",
    "#     GL, GG = u[1], u[2]\n",
    "#     f_GL = -1.0im * (H * GL[t, t] - GL[t, t] * adjoint(H))\n",
    "#     f_GG = -1.0im * (adjoint(H) * GG[t, t] - GG[t, t] * H)\n",
    "#     return [f_GL, f_GG]\n",
    "# end"
   ]
  },
  {
   "cell_type": "code",
   "execution_count": null,
   "metadata": {},
   "outputs": [],
   "source": [
    "# Basically this will mutate Lesser and Greater in place\n",
    "sol = kbsolve(f, f_diag, u0, (0.0, T); atol=1e-8, rtol=1e-6);"
   ]
  },
  {
   "cell_type": "code",
   "execution_count": null,
   "metadata": {
    "ExecuteTime": {
     "end_time": "2019-12-09T15:19:00.264000+01:00",
     "start_time": "2019-12-09T14:19:00.183Z"
    }
   },
   "outputs": [],
   "source": [
    "# stop = Int(n/2) + 1 \n",
    "\n",
    "times = sol.t #range(0, length=n + 1, stop=T) |> collect;\n",
    "\n",
    "n = length(sol.t) - 1\n",
    "\n",
    "horizontal_times = k -> vcat(times[k:end] .- times[k], times[end] .+ (1:(k - 1) |> collect) .* (times[end] - times[end-1]));"
   ]
  },
  {
   "cell_type": "code",
   "execution_count": null,
   "metadata": {},
   "outputs": [],
   "source": [
    "n"
   ]
  },
  {
   "cell_type": "markdown",
   "metadata": {},
   "source": [
    "## Example plots"
   ]
  },
  {
   "cell_type": "code",
   "execution_count": null,
   "metadata": {},
   "outputs": [],
   "source": [
    "idx1 = 1\n",
    "idx2 = 1;"
   ]
  },
  {
   "cell_type": "code",
   "execution_count": null,
   "metadata": {},
   "outputs": [],
   "source": [
    "# Analytic result\n",
    "f_2(T, tp) = exp(-1.0im * H * horizontal_times(T)[tp]) * exp(-1.0im * H * sol.t[T]) * GL[:, :, 1, 1] * exp(1.0im * H * sol.t[T])\n",
    "ana(T, tp) = exp(-1.0im * H * sol.t[T]) * GL[:, :, 1, 1] * exp(1.0im * H * horizontal_times(T)[tp]) * exp(1.0im * H * sol.t[T])\n",
    "ana_diag(T) = exp(-1.0im * H * sol.t[T]) * GL[:, :, 1, 1] * exp(1.0im * H * sol.t[T])"
   ]
  },
  {
   "cell_type": "code",
   "execution_count": null,
   "metadata": {
    "scrolled": true
   },
   "outputs": [],
   "source": [
    "xpad = 8\n",
    "ypad = 5\n",
    "\n",
    "figure(figsize=(7, 3))\n",
    "\n",
    "ax = subplot(121)\n",
    "plot(J .* sol.t, [imag(ana_diag(k)[idx1, idx2]) for k in 1:n+1], c=\"C0\", ls=\"--\", lw=3.0, alpha=0.25)\n",
    "plot(J .* sol.t, [imag(GL.data[idx1, idx2, k, k]) for k in 1:length(sol.t)], marker=\"\", ms=3.0, ls=\"-\", c=\"C0\")\n",
    "# plot(sol.t, [imag(gfL.data[2, 2, k, k]) for k in 1:length(sol.t)], marker=\"\", ms=3.0, ls=\"-\", c=\"r\")\n",
    "xlim(0, J * 1)\n",
    "ylim(0, N_0)\n",
    "xticks(J .* [0, 0.5, 1])\n",
    "yticks([0, 0.5, 1])\n",
    "xlabel(\"\\$J t\\$\")\n",
    "ylabel(\"\\$\\\\mathrm{Im}\\\\; G^<_{11}(t, t)\\$\")\n",
    "ax.xaxis.set_tick_params(pad=xpad)\n",
    "ax.yaxis.set_tick_params(pad=ypad)\n",
    "ax.set_axisbelow(false)\n",
    "ticklabel_format(axis=\"y\", style=\"sci\", scilimits=(-0, 0))\n",
    "\n",
    "ax = subplot(122)\n",
    "plot(J .* sol.t, [imag.(GL.data[idx1, idx2, k, k]) for k in 1:length(sol.t)] \n",
    "    .- [imag.(ana_diag(k)[idx1, idx2]) for k in 1:n+1], marker=\"\", ms=3.0, ls=\"-\", c=\"r\")\n",
    "xlim(0, J * 5)\n",
    "# ylim(-0.1, 0.1)\n",
    "xticks(J .* [0, 1, 2, 3, 4, 5])\n",
    "xlabel(\"\\$J t\\$\")\n",
    "ylabel(\"\\$\\\\mathrm{Im}\\\\left[ G^<_{11}(t, t) - \\\\mathcal{G}^<_{11}(t, t) \\\\right]\\$\", labelpad=16)\n",
    "ax.xaxis.set_tick_params(pad=xpad)\n",
    "ax.yaxis.set_tick_params(pad=ypad)\n",
    "ax.yaxis.set_label_position(\"right\")\n",
    "ax.set_axisbelow(false)\n",
    "# ax.yaxis.tick_right()\n",
    "ticklabel_format(axis=\"y\", style=\"sci\", scilimits=(-0, 0))\n",
    "\n",
    "tight_layout(pad=0.2, w_pad=0, h_pad=0)\n",
    "savefig(\"fermion_example_T.pdf\")"
   ]
  },
  {
   "cell_type": "code",
   "execution_count": null,
   "metadata": {},
   "outputs": [],
   "source": [
    "xpad = 8\n",
    "ypad = 5\n",
    "\n",
    "figure(figsize=(7, 3))\n",
    "\n",
    "ax = subplot(121)\n",
    "idx = 1\n",
    "plot(sol.t[idx:end - 1], [imag(GL.data[idx1, idx2, idx, k + idx - 1]) for k in 1:length(sol.t) - idx], \"o\", ms=2, c=\"C0\")\n",
    "plot(sol.t[idx:end - 1], [imag(ana(idx, k))[idx1, idx2] for k in 1:length(sol.t) - idx], \"x\", c=\"C0\", lw=5.0, alpha=0.5, ms=5)\n",
    "xlim(0, 1)\n",
    "ylim(0, N_0)\n",
    "xticks([0, 0.5, 1])\n",
    "yticks([-1, -0.5, 0, 0.5, 1])\n",
    "xlabel(\"\\$t'\\$\")\n",
    "ylabel(\"\\$\\\\mathrm{Im}\\\\; G^<_{11}(t, t)\\$\")\n",
    "ax.xaxis.set_tick_params(pad=xpad)\n",
    "ax.yaxis.set_tick_params(pad=ypad)\n",
    "ticklabel_format(axis=\"y\", style=\"sci\", scilimits=(-0, 0))\n",
    "\n",
    "ax = subplot(122)\n",
    "idx = 1\n",
    "plot(sol.t[idx:end - 1], [abs.(GL.data[idx1, idx2, idx, k + idx - 1]) for k in 1:length(sol.t) - idx]\n",
    "    .- [abs.(ana(idx, k))[idx1, idx2] for k in 1:length(sol.t) - idx], \"-\", ms=1, c=\"r\")\n",
    "# xlim(0, 1)\n",
    "# ylim(-0.1, 0.1)\n",
    "# xticks([0, 0.5, 1])\n",
    "# yticks([-0.1, -0.05, 0, 0.05, 0.1])\n",
    "xlabel(\"\\$t'\\$\")\n",
    "ax.xaxis.set_tick_params(pad=xpad)\n",
    "ax.yaxis.set_tick_params(pad=ypad)\n",
    "ticklabel_format(axis=\"y\", style=\"sci\", scilimits=(-0, 0))\n",
    "\n",
    "tight_layout(pad=0.25, w_pad=0, h_pad=0)\n",
    "# savefig(\"fermion_example_tp.pdf\")"
   ]
  },
  {
   "cell_type": "markdown",
   "metadata": {},
   "source": [
    "## Error scaling"
   ]
  },
  {
   "cell_type": "code",
   "execution_count": null,
   "metadata": {
    "scrolled": true
   },
   "outputs": [],
   "source": [
    "epsilons = [2.0^(-k) for k in 10:45]\n",
    "init_dt = 1e-16; # epsilons[end]\n",
    "err_data = [(0.0, 0.0, 0.0) for _ in 1:length(epsilons)]\n",
    "p_norm = 1\n",
    "for (k, eps) in enumerate(epsilons)\n",
    "    print(k, \", \")\n",
    "    \n",
    "    sol = kbsolve(f, f_diag, u0, (0.0, T); dtini=init_dt, atol=eps*2.0^(-4), rtol=eps);\n",
    "    n = length(sol.t) - 1;\n",
    "    \n",
    "    # Analytic result\n",
    "    horizontal_times = x -> vcat(sol.t[x:end] .- sol.t[x], sol.t[end] .+ (1:(x - 1) |> collect) .* (sol.t[end] - sol.t[end-1]));\n",
    "    ana(T, tp) = exp(-1.0im * H * sol.t[T]) * GL[:, :, 1, 1] * exp(1.0im * H * horizontal_times(T)[tp]) * exp(1.0im * H * sol.t[T])\n",
    "    ana_diag(T) = exp(-1.0im * H * sol.t[T]) * GL[:, :, 1, 1] * exp(1.0im * H * sol.t[T])\n",
    "    \n",
    "    horizontal_err = 0.0\n",
    "    for idx in 1:n\n",
    "        horizontal_err += norm([(GL.data[1, 1, idx, k + idx]) for k in 1:length(sol.t) - idx] \n",
    "            .- [(ana(idx, k))[1, 1] for k in 1:length(sol.t) - idx + 1][2:end], p_norm) # not counting the diagonal\n",
    "    end    \n",
    "\n",
    "    err = norm([(GL.data[1, 1, k, k]) for k in 1:length(sol.t)] .- [(ana_diag(k)[1, 1]) for k in 1:n+1], p_norm)\n",
    "    err += 2 * horizontal_err\n",
    "    err_data[k] = (n, (1.0/n)^2 * err, eps)\n",
    "#     err_data[k] = (n, (1.0/n) * err, eps)\n",
    "end\n",
    "\n",
    "save(\"error_data.jld\", \"params\", [T, H, N_0], \"err_data\", err_data)"
   ]
  },
  {
   "cell_type": "code",
   "execution_count": null,
   "metadata": {},
   "outputs": [],
   "source": [
    "# h5open(\"error_data.h5\", \"w\") do file\n",
    "#     params = create_group(file, \"params\") # create a group\n",
    "#     params[\"T\"] = T \n",
    "#     params[\"H\"] = H\n",
    "#     params[\"N_0\"] = N_0\n",
    "#     write.(file, \"err_data\", err_data)\n",
    "# end;\n",
    "\n",
    "# params = h5open(\"error_data.h5\", \"r\") do file\n",
    "#     read(file, \"params\")\n",
    "# end"
   ]
  },
  {
   "cell_type": "code",
   "execution_count": null,
   "metadata": {},
   "outputs": [],
   "source": [
    "err_data = load(\"error_data.jld\")[\"err_data\"]\n",
    "err_data = err_data[3:end - 2];"
   ]
  },
  {
   "cell_type": "code",
   "execution_count": null,
   "metadata": {},
   "outputs": [],
   "source": [
    "xdata = log10.([x[1] for x in err_data])\n",
    "ydata = log10.([x[2] for x in err_data]);"
   ]
  },
  {
   "cell_type": "code",
   "execution_count": null,
   "metadata": {},
   "outputs": [],
   "source": [
    "func_power = (n, p) -> 10^(p[2]) * n^(-p[1]);\n",
    "fit_func = (n, p) -> -p[1] .* n .+ p[2];\n",
    "fit_result = curve_fit(fit_func, xdata, ydata, [2.0, 1]);\n",
    "coef(fit_result)"
   ]
  },
  {
   "cell_type": "code",
   "execution_count": null,
   "metadata": {
    "scrolled": false
   },
   "outputs": [],
   "source": [
    "figure(figsize=(7, 3))\n",
    "\n",
    "ax = subplot(121)\n",
    "plot(xdata, map(x -> fit_func(x, coef(fit_result)), xdata), \"--k\", lw=2,\n",
    "     label=\"\\$\\\\mathcal{O}(h^{\"*string(coef(fit_result)[1] |> x -> floor(x, sigdigits=4))*\"})\\$\")\n",
    "plot(xdata, ydata, \"o\", lw=0, ms=6,\n",
    "     markerfacecolor=\"C0\", markeredgewidth=0.25, markeredgecolor=\"#2D5FAA\")\n",
    "xlim(2.5, 3.25)\n",
    "ylim(-10, -0)\n",
    "# ax.set_xticks([2.5, 2.75, 3.0, 3.25])\n",
    "# ax.set_yticks([0, -5, -10, -15])\n",
    "xlabel(\"\\$\\\\log(n)\\$\")\n",
    "ylabel(\"\\$\\\\log(\\\\epsilon_{\\\\mathrm{abs}})\\$\")\n",
    "legend(loc=\"best\", handlelength=1.8, frameon=false, borderpad=0, labelspacing=0)\n",
    "\n",
    "ax = subplot(122)\n",
    "# plot(log10.([x[3] for x in err_data]), log10.([x[1] for x in err_data]), \"s\")\n",
    "plot(log10.([x[3] for x in err_data]), log10.([x[1] for x in err_data]), \"o\", ms=5,\n",
    "     markerfacecolor=\"C0\", markeredgewidth=0.25, markeredgecolor=\"#2D5FAA\")\n",
    "xlim(-2, -14)\n",
    "# ylim(-13, -3)\n",
    "ax.set_xticks([-2, -6, -10, -14])\n",
    "# ax.set_yticklabels([])\n",
    "ax.yaxis.set_label_position(\"right\")\n",
    "xlabel(\"\\$\\\\log(\\\\texttt{rtol})\\$\")\n",
    "ylabel(\"\\$\\\\log(n)\\$\", labelpad=16)\n",
    "\n",
    "tight_layout(pad=0.1, w_pad=0.75, h_pad=0)\n",
    "savefig(\"error_scaling_fermions.pdf\")"
   ]
  },
  {
   "cell_type": "markdown",
   "metadata": {},
   "source": [
    "## Testing"
   ]
  },
  {
   "cell_type": "code",
   "execution_count": null,
   "metadata": {},
   "outputs": [],
   "source": []
  }
 ],
 "metadata": {
  "kernelspec": {
   "display_name": "Julia 1.6.0",
   "language": "julia",
   "name": "julia-1.6"
  },
  "language_info": {
   "file_extension": ".jl",
   "mimetype": "application/julia",
   "name": "julia",
   "version": "1.6.0"
  }
 },
 "nbformat": 4,
 "nbformat_minor": 2
}
