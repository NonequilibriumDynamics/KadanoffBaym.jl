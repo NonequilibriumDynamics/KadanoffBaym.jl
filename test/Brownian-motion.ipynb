{
 "cells": [
  {
   "cell_type": "markdown",
   "metadata": {},
   "source": [
    "# Brownian Motion"
   ]
  },
  {
   "cell_type": "code",
   "execution_count": null,
   "metadata": {},
   "outputs": [],
   "source": [
    "using KadanoffBaym\n",
    "using LinearAlgebra\n",
    "using PyPlot\n",
    "using PyCall\n",
    "qt = pyimport(\"qutip\")\n",
    "np = pyimport(\"numpy\")\n",
    "\n",
    "font_size = 16\n",
    "# font_size = 20\n",
    "\n",
    "PyPlot.matplotlib.rc(\"text\", usetex=true)\n",
    "PyPlot.matplotlib.rc(\"font\", family=\"serif\", size=font_size)\n",
    "PyPlot.matplotlib.rc(\"axes\", labelsize=font_size)\n",
    "PyPlot.matplotlib.rc(\"xtick.major\", size=8)\n",
    "PyPlot.matplotlib.rc(\"ytick.major\", size=8)\n",
    "PyPlot.matplotlib.rc(\"xtick.minor\", visible=true, size=4)\n",
    "PyPlot.matplotlib.rc(\"ytick.minor\", visible=true, size=4)\n",
    "PyPlot.matplotlib.rc(\"xtick\", top=true, direction=\"inout\")\n",
    "PyPlot.matplotlib.rc(\"ytick\", right=true, direction=\"inout\")"
   ]
  },
  {
   "cell_type": "markdown",
   "metadata": {},
   "source": [
    "## KadanoffBaym.jl"
   ]
  },
  {
   "cell_type": "code",
   "execution_count": null,
   "metadata": {},
   "outputs": [],
   "source": [
    "# F = GreenFunction(reshape(ComplexF64[1.0 + 1.0im], 1, 1), KadanoffBaym.Classical)\n",
    "\n",
    "# f_vert(_, _, t1, t2) = [-0.5im * (10 - 1.0im * 2.0) * F[t1, t2]]\n",
    "# f_diag(_, times, t)  = [-1.0im * (10 - 1.0im * 2.0) * F[t, t]]\n",
    "\n",
    "# F_ana = (t, t′) -> F[1, 1] * exp(-1.0im * (10 - 1.0im * 2.0) * (t + t′)/2);"
   ]
  },
  {
   "cell_type": "code",
   "execution_count": null,
   "metadata": {},
   "outputs": [],
   "source": [
    "T = 4.0\n",
    "lambda = 1.\n",
    "t_scale = (iszero(lambda) ? one(lambda) : abs(lambda))\n",
    "\n",
    "N_0 = [1., 3., 5.]\n",
    "Ds = [8., 4., 1.]\n",
    "\n",
    "Fs = [zeros(Float64, 1) for _ in 1:length(N_0)];\n",
    "F_anas = [zeros(Float64, 1) for _ in 1:length(N_0)];\n",
    "solts = [zeros(Float64, 1) for _ in 1:length(N_0)];\n",
    "\n",
    "function solution!(idx::Int64, N_0::Float64, D::Float64)\n",
    "    \n",
    "    F = GreenFunction(reshape(Float64[N_0], 1, 1), KadanoffBaym.Classical)\n",
    "\n",
    "    f_vert(_, _, t1, t2) = [-lambda * F[t1, t2]]\n",
    "    f_diag(_, times, t)  = [-2lambda * F[t, t] + D] # (println(times[t]); [-2lambda * F[t, t] + D])\n",
    "\n",
    "    F_ana = (t, t′) -> (F[1, 1] - D/(2 * lambda)) * exp(-lambda * (t + t′)) + D/(2 * lambda) * exp(-lambda * abs(t - t′))\n",
    "    \n",
    "    sol = kbsolve(f_vert, f_diag, [F], (0.0, T), dtini=1e-15, atol=1e-9, rtol=1e-7)\n",
    "    \n",
    "    n = length(sol.t) - 1\n",
    "    \n",
    "    Fs[idx] = [F.data[k, k] for k in 1:n+1]\n",
    "    F_anas[idx] = F_ana.(sol.t, sol.t);\n",
    "    solts[idx] = sol.t\n",
    "    return F\n",
    "end;"
   ]
  },
  {
   "cell_type": "code",
   "execution_count": null,
   "metadata": {},
   "outputs": [],
   "source": [
    "map(i -> solution!(i, N_0[i], Ds[i]), 1:length(N_0))"
   ]
  },
  {
   "cell_type": "markdown",
   "metadata": {},
   "source": [
    "## Plotting"
   ]
  },
  {
   "cell_type": "code",
   "execution_count": null,
   "metadata": {},
   "outputs": [],
   "source": [
    "cmap = \"gist_heat\";\n",
    "colors = [\"C0\", \"C1\", \"C2\"];\n",
    "lss = [\"-\", \"--\", \"-.\"];"
   ]
  },
  {
   "cell_type": "code",
   "execution_count": null,
   "metadata": {},
   "outputs": [],
   "source": [
    "figure(figsize=(7, 3))\n",
    "\n",
    "ax = subplot(121)\n",
    "for (k, F) in enumerate(Fs)\n",
    "    plot(solts[k], F, \"-\", label=\"\\$xxx\\$\", lw=1.5, c=colors[k], ls=lss[k])\n",
    "#     plot(solts[k], F_anas[k], ls=\"--\", lw=4.0, alpha=0.4, c=colors[k])\n",
    "end\n",
    "xlim(0, lambda * T)\n",
    "ylim(0, 1.1 * Ds[1]/(2lambda))\n",
    "yticks([0, 1, 2, 3, 4, 5])\n",
    "xlabel(\"\\$\\\\lambda t\\$\")\n",
    "ylabel(\"\\$F(t, t)\\$\")\n",
    "\n",
    "ax = subplot(122)\n",
    "plot([], [], label=\"\\$D/\\\\lambda\\$\", c=\"w\")\n",
    "for (k, F) in enumerate(Fs)\n",
    "    semilogy(solts[k], abs.(F  .- F_anas[k]), lw=1.5, c=colors[k], label=\"\\$\"*string(Ds[k]/(lambda))*\"\\$\", ls=lss[k])\n",
    "end\n",
    "\n",
    "xlim(0, lambda * T)\n",
    "ylim(1e-9, 1e-6)\n",
    "# yticks([0, 1, 2, 3, 4, 5])\n",
    "xlabel(\"\\$\\\\lambda t\\$\")\n",
    "ylabel(\"\\$\\\\left|F(t, t) - \\\\mathcal{F}(t, t)\\\\right|\\$\", labelpad=16)\n",
    "ax.yaxis.set_label_position(\"right\")\n",
    "ax.legend(loc=\"best\", handlelength=1.9, frameon=false, borderpad=0, labelspacing=0.25)\n",
    "# ticklabel_format(axis=\"y\", style=\"sci\", scilimits=(-0, 0))\n",
    "\n",
    "tight_layout(pad=0.25, w_pad=1, h_pad=0)\n",
    "\n",
    "savefig(\"brownian_motion_example_T.pdf\")"
   ]
  },
  {
   "cell_type": "code",
   "execution_count": null,
   "metadata": {},
   "outputs": [],
   "source": [
    "Y, X = np.meshgrid(solts[1][1:end], solts[1][1:end])\n",
    "F = solution!(1, N_0[1], Ds[1]);\n",
    "F_ana = (t, t′) -> (F[1, 1] - Ds[1]/(2 * lambda)) * exp(-lambda * (t + t′)) + Ds[1]/(2 * lambda) * exp(-lambda * abs(t - t′))"
   ]
  },
  {
   "cell_type": "code",
   "execution_count": null,
   "metadata": {},
   "outputs": [],
   "source": [
    "figure(figsize=(7, 3))\n",
    "\n",
    "vmin = 0\n",
    "vmax = Ds[1]/(2lambda)\n",
    "ax = subplot(121) # plt.gca()\n",
    "heatmap = ax.pcolormesh(t_scale * X, t_scale * Y, F.data, cmap=cmap, rasterized=true, vmin=vmin, vmax=vmax)\n",
    "heatmap.set_edgecolor(\"face\")\n",
    "ax.set_aspect(\"equal\")\n",
    "cbar = colorbar(mappable=heatmap)\n",
    "cbar.formatter.set_powerlimits((0, 0))\n",
    "ax.set_xlabel(\"\\$\\\\lambda t\\$\")\n",
    "ax.set_ylabel(\"\\$\\\\lambda t'\\$\")\n",
    "ax.set_xlim(0, t_scale * T)\n",
    "ax.set_ylim(0, t_scale * T)\n",
    "ax.set_xticks(t_scale .* [0, T/2, T])\n",
    "ax.set_yticks(t_scale .* [0, T/2, T])\n",
    "\n",
    "ax = subplot(122)\n",
    "heatmap = ax.pcolormesh(t_scale * X, t_scale * Y, (abs.(F.data .- F_ana.(X, Y))), cmap=\"gist_gray\", rasterized=true)#, vmin=1e-9, vmax=1e-6)\n",
    "heatmap.set_edgecolor(\"face\")\n",
    "ax.set_aspect(\"equal\")\n",
    "cbar = colorbar(mappable=heatmap)\n",
    "cbar.formatter.set_powerlimits((0, 0))\n",
    "ax.set_xlabel(\"\\$\\\\lambda t\\$\")\n",
    "# ax.set_ylabel(\"\\$\\\\lambda t'\\$\")\n",
    "ax.set_xlim(0, t_scale * T)\n",
    "ax.set_ylim(0, t_scale * T)\n",
    "ax.set_xticks(t_scale .* [0, T/2, T])\n",
    "ax.set_yticks(t_scale .* [0, T/2, T])\n",
    "ax.set_yticklabels([])\n",
    "\n",
    "tight_layout(pad=0.75, w_pad=0.25, h_pad=0)\n",
    "# savefig(\"brownian_motion_example_t_tp.pdf\")"
   ]
  },
  {
   "cell_type": "markdown",
   "metadata": {
    "heading_collapsed": true
   },
   "source": [
    "## Error scaling"
   ]
  },
  {
   "cell_type": "code",
   "execution_count": null,
   "metadata": {
    "hidden": true
   },
   "outputs": [],
   "source": [
    "# epsilons = [2.0^(-k) for k in 6:19]\n",
    "# err_data = [(0.0, 0.0, 0.0) for _ in 1:length(epsilons)]\n",
    "# for (k, eps) in enumerate(epsilons)\n",
    "#     print(k, \": \")\n",
    "    \n",
    "#     sol, _ = kbsolve(f_vert, f_diag, [F], tspan, dtini=1e-16, atol=eps*1e-2, rtol=eps)#, dtmax=eps)\n",
    "# #     sol, _ = kbsolve(f_vert, f_diag, [F], tspan, dtini=1e-15, atol=1e-0, rtol=1e-0, dtmax=eps)\n",
    "    \n",
    "#     n = length(sol.t) - 1\n",
    "#     print(n, \", \")\n",
    "    \n",
    "#     Y, X = np.meshgrid(sol.t[1:end], sol.t[1:end])\n",
    "#     err_data[k] = (n, (1.0/n)^2 * norm(F_ana.(X, Y) - F.data, 1), eps)\n",
    "# end"
   ]
  },
  {
   "cell_type": "code",
   "execution_count": null,
   "metadata": {
    "hidden": true
   },
   "outputs": [],
   "source": [
    "# xdata = log10.([x[1] for x in err_data])\n",
    "# ydata = log10.([x[2] for x in err_data]);"
   ]
  },
  {
   "cell_type": "code",
   "execution_count": null,
   "metadata": {
    "hidden": true
   },
   "outputs": [],
   "source": [
    "# using LsqFit\n",
    "# func_power = (n, p) -> 10^(p[2]) * n^(-p[1]);\n",
    "# fit_func = (n, p) -> -p[1] .* n .+ p[2];\n",
    "# fit_result = curve_fit(fit_func, xdata, ydata, [2.0, 1]);\n",
    "# coef(fit_result)"
   ]
  },
  {
   "cell_type": "code",
   "execution_count": null,
   "metadata": {
    "hidden": true,
    "scrolled": false
   },
   "outputs": [],
   "source": [
    "# figure(figsize=(7, 3))\n",
    "\n",
    "# ax = subplot(121)\n",
    "# plot(xdata, map(x -> fit_func(x, coef(fit_result)), xdata), \"--k\", lw=2,\n",
    "#      label=\"\\$\\\\mathcal{O}(h^{\"*string(coef(fit_result)[1] |> x -> floor(x, sigdigits=4))*\"})\\$\")\n",
    "# plot(xdata, ydata, \"s\", lw=0, ms=5,\n",
    "#      markerfacecolor=\"C0\", markeredgewidth=0.25, markeredgecolor=\"k\")\n",
    "# xlim(0, 5)\n",
    "# # ax.set_xticks([2.5, 2.75, 3.0, 3.25])\n",
    "# xlabel(\"\\$\\\\log(n)\\$\")\n",
    "# ylabel(\"\\$\\\\log(\\\\epsilon_{\\\\mathrm{abs}})\\$\")\n",
    "# legend(loc=\"best\", handlelength=1.8, frameon=false, borderpad=0, labelspacing=0)\n",
    "\n",
    "# ax = subplot(122)\n",
    "# plot(log10.([x[3] for x in err_data]), log10.([x[1] for x in err_data]), \"s\", ms=5,\n",
    "#      markerfacecolor=\"C0\", markeredgewidth=0.25, markeredgecolor=\"k\")\n",
    "# ax.yaxis.set_label_position(\"right\")\n",
    "# # xlabel(\"\\$\\\\log(\\\\mathrm{dtmax})\\$\")\n",
    "# xlabel(\"\\$\\\\log(\\\\mathrm{rtol})\\$\")\n",
    "# ylabel(\"\\$\\\\log(n)\\$\", labelpad=16)\n",
    "\n",
    "# tight_layout(pad=0.1, w_pad=0.75, h_pad=0)\n",
    "# # savefig(\"error_scaling_brownian.pdf\")"
   ]
  },
  {
   "cell_type": "markdown",
   "metadata": {},
   "source": [
    "## Testing"
   ]
  },
  {
   "cell_type": "code",
   "execution_count": null,
   "metadata": {},
   "outputs": [],
   "source": [
    "figure(figsize=(7, 3))\n",
    "\n",
    "ax = subplot(121)\n",
    "plot(sol.t, [F.data[k, k] for k in 1:n+1], \"-\", c=\"C0\", label=\"\\$xxx\\$\", lw=1.5)\n",
    "plot(sol.t, F_ana.(sol.t, sol.t), c=\"C0\", ls=\"--\", lw=4.0, alpha=0.4)\n",
    "xlim(0, lambda * T)\n",
    "ylim(0, 1.1 * D/(2lambda))\n",
    "yticks([0, 1, 2, 3, 4, 5])\n",
    "xlabel(\"\\$\\\\lambda t\\$\")\n",
    "ylabel(\"\\$F(t, t)\\$\")\n",
    "\n",
    "ax = subplot(122)\n",
    "plot(sol.t, abs.([F.data[k, k] for k in 1:n+1]  .- F_ana.(sol.t, sol.t)), ls=\"-\", c=\"r\", lw=1.5)\n",
    "xlim(0, lambda * T)\n",
    "ylim(0, )\n",
    "# yticks([0, 1, 2, 3, 4, 5])\n",
    "xlabel(\"\\$\\\\lambda t\\$\")\n",
    "ylabel(\"\\$\\\\left|F(t, t) - \\\\mathcal{F}(t, t)\\\\right|\\$\", labelpad=16)\n",
    "ax.yaxis.set_label_position(\"right\")\n",
    "# ax.legend(loc=\"best\", handlelength=1.9, frameon=false, borderpad=0, labelspacing=0.25)\n",
    "ticklabel_format(axis=\"y\", style=\"sci\", scilimits=(-0, 0))\n",
    "\n",
    "tight_layout(pad=0.1, w_pad=1, h_pad=0)\n",
    "\n",
    "# savefig(\"brownian_motion_example.pdf\")"
   ]
  },
  {
   "cell_type": "code",
   "execution_count": null,
   "metadata": {},
   "outputs": [],
   "source": [
    "figure(figsize=(7, 3))\n",
    "\n",
    "ax = subplot(121)\n",
    "plot(sol.t, [F.data[1, k] for k in 1:n+1], \"-\", c=\"C0\", label=\"\\$xxx\\$\", lw=1.5)\n",
    "plot(sol.t, F_ana.(1, sol.t), c=\"C0\", ls=\"--\", lw=3.0, alpha=0.5)\n",
    "xlim(0, lambda * T)\n",
    "ylim(0, D/(2lambda))\n",
    "# yticks([0, 1, 2, 3, 4, 5])\n",
    "xlabel(\"\\$\\\\lambda T\\$\")\n",
    "ylabel(\"\\$F(t, t)\\$\")\n",
    "\n",
    "ax = subplot(122)\n",
    "plot(sol.t, [F.data[k, k] for k in 1:n+1]  .- (F_ana.(sol.t, sol.t)), ls=\"-\", c=\"r\", lw=1.5)\n",
    "xlim(0, lambda * T)\n",
    "# ylim(0, 5.1)\n",
    "# yticks([0, 1, 2, 3, 4, 5])\n",
    "xlabel(\"\\$\\\\lambda T\\$\")\n",
    "ylabel(\"\\$F(t, t) - \\\\mathcal{F}(t, t)\\$\", labelpad=16)\n",
    "ax.yaxis.set_label_position(\"right\")\n",
    "# ax.legend(loc=\"best\", handlelength=1.9, frameon=false, borderpad=0, labelspacing=0.25)\n",
    "ticklabel_format(axis=\"y\", style=\"sci\", scilimits=(-0, 0))\n",
    "\n",
    "tight_layout(pad=0.1, w_pad=1, h_pad=0)\n",
    "\n",
    "# savefig(\"brownian_motion_example.pdf\")"
   ]
  },
  {
   "cell_type": "code",
   "execution_count": null,
   "metadata": {
    "scrolled": true
   },
   "outputs": [],
   "source": [
    "figure(figsize=(7, 3))\n",
    "\n",
    "vmin = 0\n",
    "vmax = 1e-3\n",
    "ax = plt.gca()\n",
    "heatmap = ax.pcolormesh(t_scale * X, t_scale * Y, F_ana.(X, Y) - F.data, cmap=cmap, rasterized=true) # vmin=vmin, vmax=vmax\n",
    "heatmap.set_edgecolor(\"face\")\n",
    "ax.set_aspect(\"equal\")\n",
    "cbar = colorbar(mappable=heatmap)\n",
    "cbar.formatter.set_powerlimits((0, 0))\n",
    "ax.set_xlabel(\"\\$\\\\lambda t\\$\")\n",
    "ax.set_ylabel(\"\\$\\\\lambda t'\\$\")\n",
    "ax.set_xlim(0, t_scale * T)\n",
    "ax.set_ylim(0, t_scale * T)\n",
    "ax.set_xticks(t_scale .* [0, T/2, T])\n",
    "ax.set_yticks(t_scale .* [0, T/2, T])\n",
    "tight_layout()"
   ]
  },
  {
   "cell_type": "code",
   "execution_count": null,
   "metadata": {},
   "outputs": [],
   "source": [
    "figure(figsize=(5, 3))\n",
    "\n",
    "imshow(F.data |> imag, ColorMap(cmap))\n",
    "colorbar(orientation=\"vertical\")\n",
    "ax = gca()\n",
    "# ax.set_xticks([0, n/2 + 1, n + 1])\n",
    "# ax.set_xticklabels([0, lambda .*  T/2, abs(lambda) .* T])\n",
    "ax.xaxis.set_ticks_position(\"top\")\n",
    "ax.xaxis.set_label_position(\"top\")\n",
    "# ax.set_yticks([0, n/2 + 1, n + 1])\n",
    "# ax.set_yticklabels([0, lambda .* T/2, abs(lambda) .*  T])\n",
    "xlabel(\"\\$\\\\lambda t'\\$\")\n",
    "ylabel(\"\\$\\\\lambda t\\$\")\n",
    "# clim((0, 5))\n",
    "tight_layout()"
   ]
  },
  {
   "cell_type": "code",
   "execution_count": null,
   "metadata": {},
   "outputs": [],
   "source": []
  }
 ],
 "metadata": {
  "kernelspec": {
   "display_name": "Julia 1.6.0",
   "language": "julia",
   "name": "julia-1.6"
  },
  "language_info": {
   "file_extension": ".jl",
   "mimetype": "application/julia",
   "name": "julia",
   "version": "1.6.0"
  }
 },
 "nbformat": 4,
 "nbformat_minor": 4
}
