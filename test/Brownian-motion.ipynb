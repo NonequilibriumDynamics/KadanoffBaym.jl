{
 "cells": [
  {
   "cell_type": "markdown",
   "metadata": {},
   "source": [
    "# Brownian Motion"
   ]
  },
  {
   "cell_type": "code",
   "execution_count": null,
   "metadata": {},
   "outputs": [],
   "source": [
    "using KadanoffBaym\n",
    "using PyPlot\n",
    "using PyCall\n",
    "qt = pyimport(\"qutip\")\n",
    "np = pyimport(\"numpy\")\n",
    "\n",
    "PyPlot.matplotlib.rc(\"text\", usetex=true)\n",
    "PyPlot.matplotlib.rc(\"font\", family=\"serif\", size=16)"
   ]
  },
  {
   "cell_type": "markdown",
   "metadata": {},
   "source": [
    "## KadanoffBaym.jl"
   ]
  },
  {
   "cell_type": "code",
   "execution_count": null,
   "metadata": {},
   "outputs": [],
   "source": [
    "# struct Classical <: KadanoffBaym.GreenFunctionType end\n",
    "# const Classical_{T,S} = GreenFunction{T,S,Classical}\n",
    "\n",
    "# Base.@propagate_inbounds function Base.getindex(A::Classical_, I...)\n",
    "#   Base.getindex(A.data, I...)\n",
    "# end\n",
    "# Base.@propagate_inbounds function Base.setindex!(A::Classical_, v, F::Vararg{Union{Int64,Colon}, 2})\n",
    "#   __setindex!(A, v, (..,), F)\n",
    "# end\n",
    "# Base.@propagate_inbounds function Base.setindex!(A::Classical_, v, I...)\n",
    "#   __setindex!(A, v, front_last2(I)...)\n",
    "# end\n",
    "# Base.@propagate_inbounds function __setindex!(A::Classical_, v, F, L::Tuple{F1,F2}) where {F1,F2}\n",
    "#   if ==(L...)\n",
    "#     setindex!(A.data, v, F..., L...)\n",
    "#   else \n",
    "#     setindex!(A.data, v, F..., L...)\n",
    "#     setindex!(A.data, v, F..., reverse(L)...)\n",
    "#   end\n",
    "# end\n",
    "# Base.resize!(A::Classical_, t::Int) = Base.resize!(A, t, t)\n",
    "# function Base.resize!(A::Classical_, t::Vararg{Int,2})\n",
    "#   newdata = typeof(A)(zeros(eltype(A),KadanoffBaym.front2(size(A))...,t...))\n",
    "\n",
    "#   T = min(last(size(A)), last(t))\n",
    "\n",
    "#   for t=1:T, t′=t:T\n",
    "#     @views newdata[t,t′] = A[t,t′]\n",
    "#   end\n",
    "\n",
    "#   A.data = newdata.data\n",
    "#   return A\n",
    "# end"
   ]
  },
  {
   "cell_type": "code",
   "execution_count": null,
   "metadata": {},
   "outputs": [],
   "source": [
    "α = -1\n",
    "D = 10\n",
    "\n",
    "GK = GreenFunction(reshape(ComplexF64[-1.0im], 1, 1), Classical)\n",
    "\n",
    "f_vert(t1,t2) = [+α * GK[t1,t2]]\n",
    "f_diag(times,t1) = (println(times[t1]); [+2α * GK[t1,t1] - 1.0im * D])\n",
    "\n",
    "tspan = (0.0, 4.0)\n",
    "sol, _ = kbsolve(\n",
    "  (_, _, t1, t2) -> f_vert(t1,t2),\n",
    "  (_, times, t1) -> f_diag(times, t1), [GK], tspan[1], tspan[2],\n",
    "  init_dt=1e-4, atol=1e-4, rtol=1e-4)"
   ]
  },
  {
   "cell_type": "code",
   "execution_count": null,
   "metadata": {},
   "outputs": [],
   "source": [
    "α = -1\n",
    "D = 10\n",
    "GK = GreenFunction(reshape(ComplexF64[-1.0im], 1, 1), KadanoffBaym.Classical)\n",
    "\n",
    "f_vert(t1,t2) = [+α * GK[t1,t2]]\n",
    "f_diag(times,t1) = (println(times[t1]); [+2α * GK[t1,t1] - 1.0im * D])\n",
    "\n",
    "tspan = (0.0, 4.0)\n",
    "sol, _ = kbsolve(\n",
    "  (_, _, t1, t2) -> f_vert(t1,t2),\n",
    "  (_, times, t1) -> f_diag(times, t1), [GK], tspan,\n",
    "  dtini=1e-4, atol=1e-4, rtol=1e-4)"
   ]
  },
  {
   "cell_type": "code",
   "execution_count": null,
   "metadata": {},
   "outputs": [],
   "source": [
    "n = length(sol.t) - 1\n",
    "T = sol.t[end]"
   ]
  },
  {
   "cell_type": "markdown",
   "metadata": {},
   "source": [
    "## Plotting"
   ]
  },
  {
   "cell_type": "code",
   "execution_count": null,
   "metadata": {},
   "outputs": [],
   "source": [
    "figure(figsize=(11, 3.5))\n",
    "subplot(121)\n",
    "plot(sol.t, [-GK.data[k, k] |> imag for k in 1:n+1])\n",
    "xlim(0, abs(α) * T)\n",
    "ylim(0, 5.1)\n",
    "yticks([0, 1, 2, 3, 4, 5])\n",
    "xlabel(\"\\$|\\\\alpha|T\\$\")\n",
    "ylabel(\"\\$G^K(T, 0)\\$\")"
   ]
  },
  {
   "cell_type": "code",
   "execution_count": null,
   "metadata": {},
   "outputs": [],
   "source": [
    "cmap = \"gist_heat\"\n",
    "figure(figsize=(5, 4))\n",
    "\n",
    "imshow(-GK.data |> imag, ColorMap(cmap))\n",
    "colorbar(orientation=\"vertical\")\n",
    "ax = gca()\n",
    "ax.set_xticks([0, n/2 +\n",
    "        1, n + 1])\n",
    "ax.set_xticklabels([0, abs(α) .*  T/2, abs(α) .* T])\n",
    "ax.xaxis.set_ticks_position(\"top\")\n",
    "ax.xaxis.set_label_position(\"top\")\n",
    "ax.set_yticks([0, n/2 + 1, n + 1])\n",
    "ax.set_yticklabels([0, abs(α) .* T/2, abs(α) .*  T])\n",
    "xlabel(\"\\$|\\\\alpha|t'\\$\")\n",
    "ylabel(\"\\$|\\\\alpha|t\\$\")\n",
    "clim((0, 5))\n",
    "tight_layout()"
   ]
  },
  {
   "cell_type": "code",
   "execution_count": null,
   "metadata": {},
   "outputs": [],
   "source": []
  }
 ],
 "metadata": {
  "kernelspec": {
   "display_name": "Julia 1.4.2",
   "language": "julia",
   "name": "julia-1.4"
  },
  "language_info": {
   "file_extension": ".jl",
   "mimetype": "application/julia",
   "name": "julia",
   "version": "1.4.2"
  }
 },
 "nbformat": 4,
 "nbformat_minor": 4
}
