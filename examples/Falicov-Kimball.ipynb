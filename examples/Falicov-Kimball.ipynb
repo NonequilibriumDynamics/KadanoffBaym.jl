{
 "cells": [
  {
   "cell_type": "markdown",
   "metadata": {},
   "source": [
    "# Falicov-Kimball Model"
   ]
  },
  {
   "cell_type": "code",
   "execution_count": null,
   "metadata": {},
   "outputs": [],
   "source": [
    "using KadanoffBaym\n",
    "using LinearAlgebra\n",
    "using LsqFit\n",
    "using JLD\n",
    "using UnPack\n",
    "\n",
    "using PyPlot\n",
    "using PyCall\n",
    "qt = pyimport(\"qutip\")\n",
    "np = pyimport(\"numpy\")\n",
    "\n",
    "font_size = 16\n",
    "# font_size = 20\n",
    "\n",
    "PyPlot.matplotlib.rc(\"text\", usetex=true)\n",
    "PyPlot.matplotlib.rc(\"font\", family=\"serif\", size=font_size)\n",
    "PyPlot.matplotlib.rc(\"axes\", labelsize=font_size)\n",
    "PyPlot.matplotlib.rc(\"xtick.major\", size=8)\n",
    "PyPlot.matplotlib.rc(\"ytick.major\", size=8)\n",
    "PyPlot.matplotlib.rc(\"xtick.minor\", visible=true, size=4)\n",
    "PyPlot.matplotlib.rc(\"ytick.minor\", visible=true, size=4)\n",
    "PyPlot.matplotlib.rc(\"xtick\", top=true, direction=\"inout\")\n",
    "PyPlot.matplotlib.rc(\"ytick\", right=true, direction=\"inout\")"
   ]
  },
  {
   "cell_type": "markdown",
   "metadata": {},
   "source": [
    "## Model"
   ]
  },
  {
   "cell_type": "markdown",
   "metadata": {},
   "source": [
    "### Non-Hermitian Hamiltonian:\n",
    "\n",
    "$$\n",
    "\\begin{align}\\begin{split}\n",
    "    \\hat{H} &= \\varepsilon \\left( f^{\\dagger}_1 f^\\phantom{\\dagger}_1  +  f^{\\dagger}_2 f^\\phantom{\\dagger}_2 \\right) - J \\left(c^{\\dagger}_1 c^\\phantom{\\dagger}_2 + c^{\\dagger}_2 c^\\phantom{\\dagger}_1\\right) + U \\left( f^{\\dagger}_1 f^\\phantom{\\dagger}_1 c^{\\dagger}_1 c^\\phantom{\\dagger}_1  +  f^{\\dagger}_2 f^\\phantom{\\dagger}_2 c^{\\dagger}_2 c^\\phantom{\\dagger}_2 \\right)\n",
    "\\end{split}\\end{align}\n",
    "$$\n",
    "\n",
    "$$\n",
    "    G^>_{ij}(t, t') = -i \\langle c^\\phantom{\\dagger}_i(t) c^{\\dagger}_j(t') \\rangle\\\\\n",
    "    F^>_{ij}(t, t') = -i \\langle f^\\phantom{\\dagger}_i(t) f^{\\dagger}_j(t') \\rangle\n",
    "$$\n",
    "\n",
    "$$\n",
    "    \\Sigma^{\\mathrm{HF}}_{c,\\,ij}(t, t') = {\\mathrm{i}}\\delta_{ij}\\delta(t - t') F^<_{ii}(t, t)\\\\\n",
    "    \\Sigma^{\\mathrm{HF}}_{f,\\,ij}(t, t') = {\\mathrm{i}}\\delta_{ij}\\delta(t - t') G^<_{ii}(t, t)\n",
    "$$\n",
    "\n",
    "Not yet any guarantee for the prefactors!\n",
    "$$\n",
    "    \\Sigma^{\\mathrm{NCA}}_{c,\\,ij}(t, t') = {\\mathrm{i}\\cdot (-\\mathrm{i}) \\cdot 2 U^2} G_{ij}(t, t') F_{ij}(t, t') F_{ji}(t', t)\\\\\n",
    "    \\Sigma^{\\mathrm{NCA}}_{f,\\,ij}(t, t') = {\\mathrm{i}\\cdot (-\\mathrm{i}) \\cdot 2 U^2} F_{ij}(t, t') G_{ij}(t, t') G_{ji}(t', t)\n",
    "$$"
   ]
  },
  {
   "cell_type": "markdown",
   "metadata": {
    "heading_collapsed": true
   },
   "source": [
    "### Equations of motion"
   ]
  },
  {
   "cell_type": "markdown",
   "metadata": {
    "heading_collapsed": true,
    "hidden": true
   },
   "source": [
    "#### Vertical Time.\n",
    "\n",
    "\\begin{align}\\begin{split}\n",
    "    0 &= \\begin{pmatrix}\n",
    "    i \\partial_t - \\varepsilon_1  & -J \\\\\n",
    "    -J & i \\partial_t - \\varepsilon_2\n",
    "    \\end{pmatrix} \n",
    "    \\begin{pmatrix}\n",
    "    G^<_{11} & G^<_{12} \\\\\n",
    "    G^<_{21} & G^<_{22}\n",
    "    \\end{pmatrix}(t, t')  \\\\\n",
    "    0 &= \\begin{pmatrix}\n",
    "    i \\partial_t - \\varepsilon_1  & -J \\\\\n",
    "    -J & i \\partial_t - \\varepsilon_2\n",
    "    \\end{pmatrix} \n",
    "    \\begin{pmatrix}\n",
    "    G^>_{11} & G^>_{12} \\\\\n",
    "    G^>_{21} & G^>_{22}\n",
    "    \\end{pmatrix}(t, t')   \n",
    "\\end{split}\\end{align}\n",
    "\n",
    "#### Horizontal Time.\n",
    "\n",
    "\\begin{align}\\begin{split}\n",
    "    0 &= \\begin{pmatrix}\n",
    "    G^<_{11} & G^<_{12} \\\\\n",
    "    G^<_{21} & G^<_{22}\n",
    "    \\end{pmatrix}(t, t') \n",
    "    \\begin{pmatrix}\n",
    "    i \\partial_{t'} + \\varepsilon_1  & J \\\\\n",
    "    J & i \\partial_{t'} + \\varepsilon_2\n",
    "    \\end{pmatrix}  \\\\\n",
    "    0 &= \\begin{pmatrix}\n",
    "    G^>_{11} & G^>_{12} \\\\\n",
    "    G^>_{21} & G^>_{22}\n",
    "    \\end{pmatrix}(t, t') \n",
    "    \\begin{pmatrix}\n",
    "    i \\partial_{t'} + \\varepsilon_1  & J \\\\\n",
    "    J & i \\partial_{t'} + \\varepsilon_2\n",
    "    \\end{pmatrix}  \n",
    "\\end{split}\\end{align}\n",
    "\n",
    "#### Equal-Time.\n",
    "\n",
    "\\begin{align}\\begin{split}\n",
    "    0 &= i \\partial_T\n",
    "    \\begin{pmatrix}\n",
    "    G^<_{11} & G^<_{12} \\\\\n",
    "    G^<_{21} & G^<_{22}\n",
    "    \\end{pmatrix}(T, 0)\n",
    "    - \\left[\\begin{pmatrix}\n",
    "    \\varepsilon_1 & J \\\\\n",
    "    J & \\varepsilon_2\n",
    "    \\end{pmatrix}, \n",
    "    \\begin{pmatrix}\n",
    "    G^<_{11} & G^<_{12} \\\\\n",
    "    G^<_{21} & G^<_{22}\n",
    "    \\end{pmatrix}(T, 0)\\right]    \\\\\n",
    "    0 &= i \\partial_T\n",
    "    \\begin{pmatrix}\n",
    "    G^>_{11} & G^>_{12} \\\\\n",
    "    G^>_{21} & G^>_{22}\n",
    "    \\end{pmatrix}(T, 0)  \n",
    "    - \\left[\\begin{pmatrix}\n",
    "    \\varepsilon_1 & J \\\\\n",
    "    J & \\varepsilon_2\n",
    "    \\end{pmatrix}, \n",
    "    \\begin{pmatrix}\n",
    "    G^>_{11} & G^>_{12} \\\\\n",
    "    G^>_{21} & G^>_{22}\n",
    "    \\end{pmatrix}(T, 0)\\right]\n",
    "\\end{split}\\end{align}"
   ]
  },
  {
   "cell_type": "markdown",
   "metadata": {},
   "source": [
    "## Solving"
   ]
  },
  {
   "cell_type": "code",
   "execution_count": null,
   "metadata": {},
   "outputs": [],
   "source": [
    "function integrate(x::AbstractVector, y::AbstractVector)\n",
    "    if isone(length(x))\n",
    "        return zero(first(y))\n",
    "    end\n",
    "\n",
    "    @inbounds retval = (x[2] - x[1]) * (y[1] + y[2])\n",
    "    @inbounds @fastmath @simd for i in 2:(length(y) - 1)\n",
    "        retval += (x[i+1] - x[i]) * (y[i] + y[i+1])\n",
    "    end\n",
    "    return 1//2 * retval\n",
    "end;"
   ]
  },
  {
   "cell_type": "code",
   "execution_count": null,
   "metadata": {},
   "outputs": [],
   "source": [
    "# Self-energy\n",
    "function self_energies!(nca, t, t′)\n",
    "    @unpack GL, GG, FL, FG, ΣNCA_c_L, ΣNCA_c_G, ΣNCA_f_L, ΣNCA_f_G, U = nca\n",
    "    \n",
    "    if (n = size(GL, 3)) > size(ΣNCA_c_L, 3)\n",
    "        resize!(ΣNCA_c_L, n)\n",
    "        resize!(ΣNCA_c_G, n)\n",
    "        resize!(ΣNCA_f_L, n)\n",
    "        resize!(ΣNCA_f_G, n)        \n",
    "    end\n",
    "        \n",
    "    ΣNCA_c_L[t, t′] = 1.0im .* (-1.0im .* U^2) .* GL[t, t′] .* FL[t, t′] .* transpose(FG[t′, t])\n",
    "    ΣNCA_c_G[t, t′] = 1.0im .* (-1.0im .* U^2) .* GG[t, t′] .* FG[t, t′] .* transpose(FL[t′, t])\n",
    "    \n",
    "    ΣNCA_f_L[t, t′] = 1.0im .* (-1.0im .* U^2) .* FL[t, t′] .* GL[t, t′] .* transpose(GG[t′, t])\n",
    "    ΣNCA_f_G[t, t′] = 1.0im .* (-1.0im .* U^2) .* FG[t, t′] .* GG[t, t′] .* transpose(GL[t′, t])\n",
    "    \n",
    "#     println(ΣNCA_f_L[t, t′])\n",
    "end\n",
    "\n",
    "# Container for non-crossing approximation\n",
    "struct NCA\n",
    "    GL::GreenFunction{ComplexF64, 4, Array{ComplexF64, 4}, SkewHermitian}\n",
    "    GG::GreenFunction{ComplexF64, 4, Array{ComplexF64, 4}, SkewHermitian}\n",
    "    FL::GreenFunction{ComplexF64, 4, Array{ComplexF64, 4}, SkewHermitian}\n",
    "    FG::GreenFunction{ComplexF64, 4, Array{ComplexF64, 4}, SkewHermitian}\n",
    "    ΣNCA_c_L::GreenFunction{ComplexF64, 4, Array{ComplexF64, 4}, SkewHermitian}\n",
    "    ΣNCA_c_G::GreenFunction{ComplexF64, 4, Array{ComplexF64, 4}, SkewHermitian}\n",
    "    ΣNCA_f_L::GreenFunction{ComplexF64, 4, Array{ComplexF64, 4}, SkewHermitian}\n",
    "    ΣNCA_f_G::GreenFunction{ComplexF64, 4, Array{ComplexF64, 4}, SkewHermitian}\n",
    "    \n",
    "    U::Float64\n",
    "  \n",
    "    # Initialize problem\n",
    "    function NCA(GL0::Matrix{ComplexF64}, FL0::Matrix{ComplexF64}, U::Float64)\n",
    "        nca = new(\n",
    "          GreenFunction(reshape(GL0, size(GL0)..., 1, 1), SkewHermitian),\n",
    "          GreenFunction(reshape(GL0 - 1.0im * I, size(GL0)..., 1, 1), SkewHermitian),\n",
    "          GreenFunction(reshape(FL0, size(FL0)..., 1, 1), SkewHermitian),\n",
    "          GreenFunction(reshape(FL0 - 1.0im * I, size(FL0)..., 1, 1), SkewHermitian),            \n",
    "          GreenFunction(zeros(ComplexF64, size(GL0)..., 1, 1), SkewHermitian),\n",
    "          GreenFunction(zeros(ComplexF64, size(GL0)..., 1, 1), SkewHermitian),\n",
    "          GreenFunction(zeros(ComplexF64, size(FL0)..., 1, 1), SkewHermitian),\n",
    "          GreenFunction(zeros(ComplexF64, size(FL0)..., 1, 1), SkewHermitian),            \n",
    "          U\n",
    "        )\n",
    "\n",
    "        # Initialize self-energies\n",
    "        self_energies!(nca, 1, 1)\n",
    "\n",
    "        return nca\n",
    "    end\n",
    "end"
   ]
  },
  {
   "cell_type": "code",
   "execution_count": null,
   "metadata": {
    "ExecuteTime": {
     "end_time": "2019-12-09T15:16:31.897000+01:00",
     "start_time": "2019-12-09T14:16:31.871Z"
    }
   },
   "outputs": [],
   "source": [
    "# final time\n",
    "T = 10.0\n",
    "\n",
    "# Hamiltonian\n",
    "ε = 1.0\n",
    "J = 1.0\n",
    "H = ComplexF64[0 -J 0 0; -J 0 0 0; 0 0 ε 0; 0 0 0 ε]\n",
    "U = 5.0;"
   ]
  },
  {
   "cell_type": "code",
   "execution_count": null,
   "metadata": {},
   "outputs": [],
   "source": [
    "t_scale = J;"
   ]
  },
  {
   "cell_type": "code",
   "execution_count": null,
   "metadata": {},
   "outputs": [],
   "source": [
    "# quantum numbers\n",
    "dim = 2\n",
    "\n",
    "# Define your Green functions at (t0, t0), time-arguments at the end!\n",
    "GL0 = zeros(ComplexF64, dim, dim)\n",
    "FL0 = zeros(ComplexF64, dim, dim)\n",
    "\n",
    "# initial condition\n",
    "N_c = [0.5, 0.1]\n",
    "N_f = [0.3, 0.7]\n",
    "\n",
    "GL0[1, 1] = 1.0im * N_c[1]\n",
    "GL0[2, 2] = 1.0im * N_c[2]\n",
    "FL0[1, 1] = 1.0im * N_f[1]\n",
    "FL0[2, 2] = 1.0im * N_f[2]\n",
    "\n",
    "# NCA data\n",
    "nca = NCA(GL0, FL0, U);\n",
    "\n",
    "u0 = [nca.GL, nca.GG, nca.FL, nca.FG]\n",
    "\n",
    "function f_vert(nca, u, times, t, t′)\n",
    "    @unpack GL, GG, FL, FG, ΣNCA_c_L, ΣNCA_c_G, ΣNCA_f_L, ΣNCA_f_G, U = nca\n",
    "    \n",
    "    # real-time collision integral\n",
    "    ∫dt(i, j, A, B) = sign(j-i) * integrate(times[min(i, j):max(i, j)], \n",
    "                                          [A[t, s] .* B[s, t′] for s=min(i, j):max(i, j)])    \n",
    "        \n",
    "    # normal operator ordering\n",
    "    ΣHF_c(t, t′) = 1.0im * U * [FL[1, 1, t, t] 0; 0 FL[2, 2, t, t]]\n",
    "    ΣHF_f(t, t′) = 1.0im * U * [GL[1, 1, t, t] 0; 0 GL[2, 2, t, t]]\n",
    "        \n",
    "    f_GL = (- 1.0im * (H[1:2, 1:2] + ΣHF_c(t, t′)) * GL[t, t′] \n",
    "            - 1.0im * (∫dt(1, t, ΣNCA_c_G, GL) - ∫dt(1, t, ΣNCA_c_L, GL) + ∫dt(1, t′, ΣNCA_c_L, GL) - ∫dt(1, t′, ΣNCA_c_L, GG)))\n",
    "    \n",
    "    f_GG = (- 1.0im * (H[1:2, 1:2] + ΣHF_c(t, t′)) * GG[t, t′]\n",
    "            - 1.0im * (∫dt(1, t, ΣNCA_c_G, GG) - ∫dt(1, t, ΣNCA_c_L, GG) + ∫dt(1, t′, ΣNCA_c_G, GL) - ∫dt(1, t′, ΣNCA_c_G, GG)))\n",
    "    \n",
    "    f_FL = (- 1.0im * (H[3:4, 3:4] + ΣHF_f(t, t′)) * FL[t, t′]\n",
    "            - 1.0im * (∫dt(1, t, ΣNCA_f_G, FL) - ∫dt(1, t, ΣNCA_f_L, FL) + ∫dt(1, t′, ΣNCA_f_L, FL) - ∫dt(1, t′, ΣNCA_f_L, FG)))\n",
    "    \n",
    "    f_FG = (- 1.0im * (H[3:4, 3:4] + ΣHF_f(t, t′)) * FG[t, t′]\n",
    "            - 1.0im * (∫dt(1, t, ΣNCA_f_G, FG) - ∫dt(1, t, ΣNCA_f_L, FG) + ∫dt(1, t′, ΣNCA_f_G, FL) - ∫dt(1, t′, ΣNCA_f_G, FG)))   \n",
    "\n",
    "    \n",
    "    return [f_GL, f_GG, f_FL, f_FG]\n",
    "end\n",
    "\n",
    "# f_diag = (u, times, t) -> f_vert(nca, u, times, t, t) - adjoint.(f_vert(nca, u, times, t, t));\n",
    "\n",
    "function f_diag(u, times, t)\n",
    "    println(\" t: $(times[t])\")\n",
    "    result = f_vert(nca, u, times, t, t)\n",
    "    return  result - adjoint.(result)\n",
    "end;"
   ]
  },
  {
   "cell_type": "code",
   "execution_count": null,
   "metadata": {
    "scrolled": true
   },
   "outputs": [],
   "source": [
    "# Basically this will mutate Lesser and Greater in place\n",
    "rtol = 1e-5\n",
    "atol = 1e-2rtol\n",
    "sol = kbsolve((u, args...) -> f_vert(nca, u, args...), f_diag, u0, (0.0, T); \n",
    "              callback = (_, args...) -> self_energies!(nca, args...), atol=atol, rtol=rtol);"
   ]
  },
  {
   "cell_type": "code",
   "execution_count": null,
   "metadata": {
    "ExecuteTime": {
     "end_time": "2019-12-09T15:19:00.264000+01:00",
     "start_time": "2019-12-09T14:19:00.183Z"
    }
   },
   "outputs": [],
   "source": [
    "# stop = Int(n/2) + 1 \n",
    "\n",
    "times = sol.t # range(0, length=n + 1, stop=T) |> collect;\n",
    "\n",
    "n = length(sol.t) - 1\n",
    "\n",
    "horizontal_times = k -> vcat(times[k:end] .- times[k], times[end] .+ (1:(k - 1) |> collect) .* (times[end] - times[end-1]));"
   ]
  },
  {
   "cell_type": "code",
   "execution_count": null,
   "metadata": {},
   "outputs": [],
   "source": [
    "n"
   ]
  },
  {
   "cell_type": "markdown",
   "metadata": {},
   "source": [
    "## Example plots"
   ]
  },
  {
   "cell_type": "code",
   "execution_count": null,
   "metadata": {},
   "outputs": [],
   "source": [
    "T = sol.t[end]\n",
    "t_scale = (J == 0. ? 1. : J)\n",
    "ω_scale = (J == 0. ? 1. : 1/J);"
   ]
  },
  {
   "cell_type": "code",
   "execution_count": null,
   "metadata": {},
   "outputs": [],
   "source": [
    "GL, FL, GG, FG = nca.GL, nca.FL, nca.GG, nca.FG;"
   ]
  },
  {
   "cell_type": "code",
   "execution_count": null,
   "metadata": {},
   "outputs": [],
   "source": [
    "idx1 = 1\n",
    "idx2 = 1;"
   ]
  },
  {
   "cell_type": "code",
   "execution_count": null,
   "metadata": {
    "scrolled": true
   },
   "outputs": [],
   "source": [
    "xpad = 8\n",
    "ypad = 5\n",
    "\n",
    "figure(figsize=(7, 3))\n",
    "\n",
    "ax = subplot(121)\n",
    "plot(J .* sol.t, [imag(GL.data[1, 1, k, k]) for k in 1:length(sol.t)], label=\"\\$ i=1\\$\", ls=\"-\", c=\"C0\")\n",
    "plot(J .* sol.t, [imag(GL.data[2, 2, k, k]) for k in 1:length(sol.t)], label=\"\\$ i=2\\$\", ls=\"--\", c=\"C0\")\n",
    "xlim(0, T)\n",
    "ylim(0, 0.5)\n",
    "xticks(J .* [2t for t in 0:T/2])\n",
    "yticks([0, 0.25 ,0.5, 0.75])\n",
    "xlabel(\"\\$J t\\$\")\n",
    "ylabel(\"\\$\\\\mathrm{Im}\\\\; G^<_{ii}(t, t)\\$\")\n",
    "ax.xaxis.set_tick_params(pad=xpad)\n",
    "ax.yaxis.set_tick_params(pad=ypad)\n",
    "ax.set_axisbelow(false)\n",
    "ticklabel_format(axis=\"y\", style=\"sci\", scilimits=(-0, 0))\n",
    "ax.legend(loc=\"best\", handlelength=1.9, frameon=false, borderpad=0, labelspacing=0.25)\n",
    "\n",
    "ax = subplot(122)\n",
    "plot(J .* sol.t, [(sum(GL.data[i, i, k, k] for i in 1:2) |> imag) for k in 1:length(sol.t)] .- (N_c[1] + N_c[2]) .|> abs, label=\"\\$ c \\$\", ls=\"--\", c=\"C0\")\n",
    "plot(J .* sol.t, [(sum(FL.data[i, i, k, k] for i in 1:2) |> imag) for k in 1:length(sol.t)] .- (N_f[1] + N_f[2]) .|> abs, label=\"\\$ f \\$\", ls=\"--\", c=\"C1\")\n",
    "xlim(0, T)\n",
    "xticks(J .* [2t for t in 0:T/2])\n",
    "yticks([0., 0.5e-15, 1e-15])\n",
    "xlabel(\"\\$J t\\$\")\n",
    "# ylabel(\"\\$\\\\mathrm{Tr} \\\\left|G^<(t, t) - G^<(0, 0) \\\\right|\\$\", labelpad=16)\n",
    "ylabel(\"Number conservation\", labelpad=16)\n",
    "ax.xaxis.set_tick_params(pad=xpad)\n",
    "ax.yaxis.set_tick_params(pad=ypad)\n",
    "ax.yaxis.set_label_position(\"right\")\n",
    "# ax.set_axisbelow(false)\n",
    "# ax.yaxis.tick_right()\n",
    "ticklabel_format(axis=\"y\", style=\"sci\", scilimits=(-0, 0))\n",
    "ax.legend(loc=\"upper left\", handlelength=1.9, frameon=false, borderpad=0, labelspacing=0.25)\n",
    "\n",
    "tight_layout(pad=0.1, w_pad=0.5, h_pad=0)\n",
    "# savefig(\"falicov_kimball_example_T.pdf\")"
   ]
  },
  {
   "cell_type": "code",
   "execution_count": null,
   "metadata": {},
   "outputs": [],
   "source": [
    "using FFTW, Interpolations"
   ]
  },
  {
   "cell_type": "code",
   "execution_count": null,
   "metadata": {},
   "outputs": [],
   "source": [
    "idx = 1;\n",
    "new_times = range(first(sol.t), stop=last(sol.t), length=2049);"
   ]
  },
  {
   "cell_type": "code",
   "execution_count": null,
   "metadata": {},
   "outputs": [],
   "source": [
    "ρ_kb = interpolate((sol.t, sol.t), view(FG.data .- FL.data, idx, idx, :, : ), Gridded(Linear()));"
   ]
  },
  {
   "cell_type": "code",
   "execution_count": null,
   "metadata": {},
   "outputs": [],
   "source": [
    "ρ_kb_wigner, (taus, ts) = wigner_transform([ρ_kb(t1, t2) for t1 in new_times, t2 in new_times]; ts=new_times, fourier=false);\n",
    "ρ_kb_FFT, (ωs, ts) = wigner_transform([ρ_kb(t1, t2) for t1 in new_times, t2 in new_times]; ts=new_times, fourier=true);"
   ]
  },
  {
   "cell_type": "code",
   "execution_count": null,
   "metadata": {},
   "outputs": [],
   "source": [
    "xpad = 8\n",
    "ypad = 5\n",
    "\n",
    "center = floor(length(new_times) / 2) |> Int\n",
    "\n",
    "figure(figsize=(7, 3))\n",
    "\n",
    "ax = subplot(121)\n",
    "plot(t_scale * taus, -ρ_kb_wigner[:, center] |> imag, ls=\"-\", c=\"C0\", lw=1.5)\n",
    "ax.set_xlabel(\"\\$J \\\\tau\\$\")\n",
    "ax.set_xlim(-t_scale * T, t_scale * T)\n",
    "ax.set_ylim(0, 1.0)\n",
    "ax.set_xticks(t_scale .* [-T, -T/2, 0, T/2, T])\n",
    "ax.xaxis.set_tick_params(pad=xpad)\n",
    "ax.yaxis.set_tick_params(pad=ypad)\n",
    "ax.set_ylabel(\"\\$ \\\\left| A^F_{11}(\\\\tau, T)\\\\right|\\$\")\n",
    "\n",
    "plot_kb = ρ_kb_FFT[:, center] |> real\n",
    "\n",
    "ax = subplot(122)\n",
    "plot(ω_scale * ωs, plot_kb, \"-\", c=\"C0\", lw=1.5)\n",
    "\n",
    "ax.xaxis.set_tick_params(pad=xpad)\n",
    "ax.yaxis.set_tick_params(pad=ypad)\n",
    "ax.set_xlabel(\"\\$\\\\omega/J\\$\")\n",
    "ax.set_ylabel(\"\\$ A^F_{11}(\\\\omega, T)\\$\", labelpad=16)\n",
    "ax.set_xlim(10 .* (-1, 1))\n",
    "ax.set_ylim(0, )\n",
    "ax.yaxis.set_label_position(\"right\")\n",
    "# ax.legend(loc=\"best\", handlelength=1.4, frameon=false, borderpad=0, labelspacing=0.25)\n",
    "\n",
    "tight_layout(pad=0.1, w_pad=0.5, h_pad=0)\n",
    "\n",
    "\n",
    "# savefig(\"falicov_kimball_example_tau_omega.pdf\")"
   ]
  },
  {
   "cell_type": "code",
   "execution_count": null,
   "metadata": {},
   "outputs": [],
   "source": [
    "Y, X = np.meshgrid(sol.t, sol.t);"
   ]
  },
  {
   "cell_type": "code",
   "execution_count": null,
   "metadata": {},
   "outputs": [],
   "source": [
    "# X_gauss = X\n",
    "# Y_gauss = Y\n",
    "# FL_gauss = FL\n",
    "# FG_gauss = FG;"
   ]
  },
  {
   "cell_type": "code",
   "execution_count": null,
   "metadata": {},
   "outputs": [],
   "source": [
    "figure(figsize=(7, 3))\n",
    "\n",
    "ax = subplot(121) # plt.gca()\n",
    "heatmap = ax.pcolormesh(t_scale * X_gauss, Y_gauss, imag(FL_gauss.data[1, 1, :, :]) .- imag(FG_gauss.data[1, 1, :, :]), cmap=cmap, rasterized=true) # vmin=vmin, vmax=vmax,\n",
    "heatmap.set_edgecolor(\"face\")\n",
    "ax.set_aspect(\"equal\")\n",
    "cbar = colorbar(mappable=heatmap)\n",
    "cbar.formatter.set_powerlimits((0, 0))\n",
    "ax.set_xlabel(\"\\$J t\\$\")\n",
    "ax.set_ylabel(\"\\$J t'\\$\")\n",
    "ax.set_xlim(0, t_scale * T)\n",
    "ax.set_ylim(0, t_scale * T)\n",
    "ax.set_xticks(t_scale .* [0, T/2, T])\n",
    "ax.set_yticks(t_scale .* [0, T/2, T])\n",
    "\n",
    "ax = subplot(122)\n",
    "heatmap = ax.pcolormesh(t_scale * X, Y, imag(FL.data[1, 1, :, :]) .- imag(FG.data[1, 1, :, :]), cmap=cmap, rasterized=true) # vmin=vmin, vmax=vmax,\n",
    "heatmap.set_edgecolor(\"face\")\n",
    "ax.set_aspect(\"equal\")\n",
    "cbar = colorbar(mappable=heatmap)\n",
    "cbar.formatter.set_powerlimits((0, 0))\n",
    "ax.set_xlabel(\"\\$J t\\$\")\n",
    "# ax.set_ylabel(\"\\$\\\\lambda t'\\$\")\n",
    "ax.set_xlim(0, t_scale * T)\n",
    "ax.set_ylim(0, t_scale * T)\n",
    "ax.set_xticks(t_scale .* [0, T/2, T])\n",
    "ax.set_yticks(t_scale .* [0, T/2, T])\n",
    "ax.set_yticklabels([])\n",
    "\n",
    "tight_layout(pad=0.75, w_pad=0.25, h_pad=0)\n",
    "\n",
    "# savefig(\"falicov_kimball_example_two_times.pdf\")"
   ]
  },
  {
   "cell_type": "markdown",
   "metadata": {},
   "source": [
    "## Testing"
   ]
  },
  {
   "cell_type": "code",
   "execution_count": null,
   "metadata": {},
   "outputs": [],
   "source": [
    "cmap = \"gist_heat\";"
   ]
  },
  {
   "cell_type": "code",
   "execution_count": null,
   "metadata": {},
   "outputs": [],
   "source": [
    "figure(figsize=(5, 3))\n",
    "ax = plt.gca()\n",
    "heatmap = ax.pcolormesh(t_scale * X, Y, imag(GL.data[1, 1, :, :]) .- imag(GG.data[1, 1, :, :]), cmap=cmap, rasterized=true) # vmin=vmin, vmax=vmax,\n",
    "heatmap.set_edgecolor(\"face\")\n",
    "ax.set_aspect(\"equal\")\n",
    "# ax.set_xlabel(\"\\$\\\\lambda T\\$\")\n",
    "# ax.set_ylabel(\"\\$\\\\omega\\$\")\n",
    "# ax.set_xlim(0, t_scale * T)\n",
    "# ax.set_xticks([0, t_scale * T/2, t_scale * T])\n",
    "# ax.set_yticks([-20, -10, 0, 10, 20])\n",
    "# ax.set_ylim(-20, 20)\n",
    "colorbar(mappable=heatmap)\n",
    "tight_layout(pad=0.0, w_pad=0, h_pad=0)"
   ]
  },
  {
   "cell_type": "code",
   "execution_count": null,
   "metadata": {},
   "outputs": [],
   "source": []
  }
 ],
 "metadata": {
  "kernelspec": {
   "display_name": "Julia 1.6.0",
   "language": "julia",
   "name": "julia-1.6"
  },
  "language_info": {
   "file_extension": ".jl",
   "mimetype": "application/julia",
   "name": "julia",
   "version": "1.6.0"
  }
 },
 "nbformat": 4,
 "nbformat_minor": 2
}
