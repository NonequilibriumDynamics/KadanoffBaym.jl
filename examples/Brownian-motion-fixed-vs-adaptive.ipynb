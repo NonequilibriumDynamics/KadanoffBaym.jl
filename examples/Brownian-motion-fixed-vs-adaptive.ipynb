{
 "cells": [
  {
   "cell_type": "markdown",
   "metadata": {},
   "source": [
    "# Brownian Motion (fixed step vs. adaptive)"
   ]
  },
  {
   "cell_type": "code",
   "execution_count": null,
   "metadata": {},
   "outputs": [],
   "source": [
    "using KadanoffBaym\n",
    "using LinearAlgebra"
   ]
  },
  {
   "cell_type": "code",
   "execution_count": null,
   "metadata": {},
   "outputs": [],
   "source": [
    "using PyPlot\n",
    "PyPlot.plt.style.use(\"./paper.mplstyle\")"
   ]
  },
  {
   "cell_type": "code",
   "execution_count": null,
   "metadata": {},
   "outputs": [],
   "source": [
    "T = 0.5\n",
    "theta = 1.\n",
    "t_scale = (iszero(theta) ? one(theta) : abs(theta))\n",
    "\n",
    "N_0 = [1.]\n",
    "Ds = [8.];"
   ]
  },
  {
   "cell_type": "markdown",
   "metadata": {},
   "source": [
    "## Adaptive"
   ]
  },
  {
   "cell_type": "code",
   "execution_count": null,
   "metadata": {},
   "outputs": [],
   "source": [
    "function solution(N_0::Float64, D::Float64)\n",
    "    F_ana(t1, t2) =(F[1, 1] - D/(2 * theta)) * exp(-theta * (t1 + t2)) + D/(2 * theta) * exp(-theta * abs(t1 - t2))\n",
    "\n",
    "    f_vert(_, _, t1, t2) = [-theta * F[t1, t2]]\n",
    "    f_diag(_, times, t)  = (println(times[t]); [-2theta * F[t, t] + D])\n",
    "\n",
    "    F = GreenFunction(N_0 * ones(1,1), Symmetrical)\n",
    "    \n",
    "    sol = kbsolve(f_vert, f_diag, [F], (0.0, T), atol=0, rtol=1e-4, dtini=0.5/2^8, kmax=4)\n",
    "\n",
    "    return [sol.t, F.data, [F_ana(t1, t2) for t1 in sol.t, t2 in sol.t]]\n",
    "end;"
   ]
  },
  {
   "cell_type": "code",
   "execution_count": null,
   "metadata": {},
   "outputs": [],
   "source": [
    "s = mapreduce(solution, hcat, N_0, Ds);"
   ]
  },
  {
   "cell_type": "code",
   "execution_count": null,
   "metadata": {},
   "outputs": [],
   "source": [
    "idx = 1\n",
    "dts = s[1, idx][2:end] .- s[1, idx][1:end-1];"
   ]
  },
  {
   "cell_type": "markdown",
   "metadata": {
    "heading_collapsed": true
   },
   "source": [
    "### Plotting"
   ]
  },
  {
   "cell_type": "code",
   "execution_count": null,
   "metadata": {
    "hidden": true,
    "scrolled": true
   },
   "outputs": [],
   "source": [
    "figure(figsize=(5, 3))\n",
    "semilogy(s[1, idx][2:end], dts, \"o-\")\n",
    "xlim(0, theta * T)\n",
    "ylim(1e-3, 1e-1)\n",
    "xlabel(\"\\$\\\\theta t\\$\")\n",
    "ylabel(\"\\$\\\\mathrm{d} t\\$\")\n",
    "tight_layout(pad=0.25, w_pad=1, h_pad=0)\n",
    "# savefig(\"brownian_motion_adaptive_dt.pdf\")"
   ]
  },
  {
   "cell_type": "code",
   "execution_count": null,
   "metadata": {
    "hidden": true
   },
   "outputs": [],
   "source": [
    "cmap = \"gist_heat\";\n",
    "colors = [\"C0\", \"C1\", \"C2\"];\n",
    "lss = [\"-\", \"--\", \"-.\"];"
   ]
  },
  {
   "cell_type": "code",
   "execution_count": null,
   "metadata": {
    "hidden": true
   },
   "outputs": [],
   "source": [
    "figure(figsize=(7, 3))\n",
    "\n",
    "ax = subplot(121)\n",
    "for k in eachindex(N_0)\n",
    "    plot(s[1,k], diag(s[2,k]), label=\"\\$xxx\\$\", lw=1.5, c=colors[k], ls=lss[k])\n",
    "end\n",
    "xlim(0, theta * T)\n",
    "ylim(0, 1.1 * Ds[1]/(2theta))\n",
    "yticks([0, 1, 2, 3, 4, 5])\n",
    "xlabel(\"\\$\\\\theta t\\$\")\n",
    "ylabel(\"\\$F(t, t)\\$\")\n",
    "\n",
    "ax = subplot(122)\n",
    "plot([], [], label=\"\\$D/\\\\theta\\$\", c=\"w\")\n",
    "for k in eachindex(N_0)\n",
    "    semilogy(s[1,k], abs.(diag(s[2,k])  .- diag(s[3,k])), lw=1.5, c=colors[k], label=\"\\$\"*string(Ds[k]/(theta))*\"\\$\", ls=lss[k])\n",
    "end\n",
    "\n",
    "xlim(0, theta * T)\n",
    "# ylim(1e-6, 1e-2)\n",
    "# yticks([0, 1, 2, 3, 4, 5])\n",
    "xlabel(\"\\$\\\\theta t\\$\")\n",
    "ylabel(\"\\$\\\\left|F(t, t) - \\\\mathcal{F}(t, t)\\\\right|\\$\", labelpad=16)\n",
    "ax.yaxis.set_label_position(\"right\")\n",
    "ax.legend(loc=\"best\", handlelength=1.9, frameon=false, borderpad=0, labelspacing=0.25)\n",
    "# # ticklabel_format(axis=\"y\", style=\"sci\", scilimits=(-0, 0))\n",
    "\n",
    "tight_layout(pad=0.25, w_pad=1, h_pad=0)"
   ]
  },
  {
   "cell_type": "markdown",
   "metadata": {},
   "source": [
    "## Fixed"
   ]
  },
  {
   "cell_type": "code",
   "execution_count": null,
   "metadata": {},
   "outputs": [],
   "source": [
    "function solution(N_0::Float64, D::Float64)\n",
    "    F_ana(t1, t2) =(F[1, 1] - D/(2 * theta)) * exp(-theta * (t1 + t2)) + D/(2 * theta) * exp(-theta * abs(t1 - t2))\n",
    "\n",
    "    f_vert(_, _, t1, t2) = [-theta * F[t1, t2]]\n",
    "    f_diag(_, times, t)  = (println(times[t]); [-2theta * F[t, t] + D])\n",
    "\n",
    "    F = GreenFunction(N_0 * ones(1,1), Symmetrical)\n",
    "    \n",
    "    sol = kbsolve(f_vert, f_diag, [F], (0.0, T), atol=0, rtol=1e0, dtmax=0.5/2^8, dtini=0.5/2^8, kmax=4, γ=1)\n",
    "\n",
    "    return [sol.t, F.data, [F_ana(t1, t2) for t1 in sol.t, t2 in sol.t]]\n",
    "end;"
   ]
  },
  {
   "cell_type": "code",
   "execution_count": null,
   "metadata": {
    "scrolled": true
   },
   "outputs": [],
   "source": [
    "s = mapreduce(solution, hcat, N_0, Ds);"
   ]
  },
  {
   "cell_type": "code",
   "execution_count": null,
   "metadata": {},
   "outputs": [],
   "source": [
    "idx = 1\n",
    "dts = s[1, idx][2:end] .- s[1, idx][1:end-1];"
   ]
  },
  {
   "cell_type": "code",
   "execution_count": null,
   "metadata": {},
   "outputs": [],
   "source": [
    "figure(figsize=(5, 3))\n",
    "semilogy(s[1, idx][2:end], dts, \"o-\")\n",
    "xlim(0, theta * T)\n",
    "ylim(1e-3, 1e-1)\n",
    "xlabel(\"\\$\\\\theta t\\$\")\n",
    "ylabel(\"\\$\\\\mathrm{d} t\\$\")\n",
    "tight_layout(pad=0.25, w_pad=1, h_pad=0)\n",
    "# savefig(\"brownian_motion_fixed_dt.pdf\")"
   ]
  },
  {
   "cell_type": "markdown",
   "metadata": {},
   "source": [
    "### Plotting"
   ]
  },
  {
   "cell_type": "code",
   "execution_count": null,
   "metadata": {},
   "outputs": [],
   "source": [
    "figure(figsize=(7, 3))\n",
    "\n",
    "ax = subplot(121)\n",
    "for k in eachindex(N_0)\n",
    "    plot(s[1,k], diag(s[2,k]), label=\"\\$xxx\\$\", lw=1.5, c=colors[k], ls=lss[k])\n",
    "#     plot(s[1,k], s[3,k], ls=\"--\", lw=4.0, alpha=0.4, c=colors[k])\n",
    "end\n",
    "xlim(0, theta * T)\n",
    "ylim(0, 1.1 * Ds[1]/(2theta))\n",
    "yticks([0, 1, 2, 3, 4, 5])\n",
    "xlabel(\"\\$\\\\theta t\\$\")\n",
    "ylabel(\"\\$F(t, t)\\$\")\n",
    "\n",
    "ax = subplot(122)\n",
    "plot([], [], label=\"\\$D/\\\\theta\\$\", c=\"w\")\n",
    "for k in eachindex(N_0)\n",
    "    semilogy(s[1,k], abs.(diag(s[2,k])  .- diag(s[3,k])), lw=1.5, c=colors[k], label=\"\\$\"*string(Ds[k]/(theta))*\"\\$\", ls=lss[k])\n",
    "end\n",
    "\n",
    "xlim(0, theta * T)\n",
    "# ylim(1e-6, 1e-2)\n",
    "# yticks([0, 1, 2, 3, 4, 5])\n",
    "xlabel(\"\\$\\\\theta t\\$\")\n",
    "ylabel(\"\\$\\\\left|F(t, t) - \\\\mathcal{F}(t, t)\\\\right|\\$\", labelpad=16)\n",
    "ax.yaxis.set_label_position(\"right\")\n",
    "ax.legend(loc=\"best\", handlelength=1.9, frameon=false, borderpad=0, labelspacing=0.25)\n",
    "# # ticklabel_format(axis=\"y\", style=\"sci\", scilimits=(-0, 0))\n",
    "\n",
    "tight_layout(pad=0.25, w_pad=1, h_pad=0)"
   ]
  },
  {
   "cell_type": "code",
   "execution_count": null,
   "metadata": {},
   "outputs": [],
   "source": []
  }
 ],
 "metadata": {
  "kernelspec": {
   "display_name": "Julia 1.6.0",
   "language": "julia",
   "name": "julia-1.6"
  },
  "language_info": {
   "file_extension": ".jl",
   "mimetype": "application/julia",
   "name": "julia",
   "version": "1.6.0"
  }
 },
 "nbformat": 4,
 "nbformat_minor": 4
}
