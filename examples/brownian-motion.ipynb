{
 "cells": [
  {
   "cell_type": "markdown",
   "metadata": {},
   "source": [
    "# Brownian Motion"
   ]
  },
  {
   "cell_type": "code",
   "execution_count": null,
   "metadata": {},
   "outputs": [],
   "source": [
    "using Pkg; Pkg.activate()\n",
    "using KadanoffBaym\n",
    "using LinearAlgebra"
   ]
  },
  {
   "cell_type": "code",
   "execution_count": null,
   "metadata": {},
   "outputs": [],
   "source": [
    "using PyPlot\n",
    "PyPlot.plt.style.use(\"./paper.mplstyle\")\n",
    "using LaTeXStrings"
   ]
  },
  {
   "cell_type": "code",
   "execution_count": null,
   "metadata": {},
   "outputs": [],
   "source": [
    "function solution(N_0::Float64, D::Float64; args...)\n",
    "    function F_ana(t1, t2)\n",
    "        return (F[1, 1] - D/(2 * theta)) * exp(-theta * (t1 + t2)) + D/(2 * theta) * exp(-theta * abs(t1 - t2))\n",
    "    end\n",
    "    \n",
    "    function fv!(out, times, t1, t2)\n",
    "        out[1] = -theta * F[t1, t2]\n",
    "    end\n",
    "    \n",
    "    function fd!(out, times, t1, t2)\n",
    "        out[1] = -theta * 2F[t1, t2] + D\n",
    "    end\n",
    "    \n",
    "    F = GreenFunction(N_0 * ones(1,1), Symmetrical)\n",
    "    \n",
    "    sol = kbsolve!(fv!, fd!, [F], (0.0, T); args...)\n",
    "\n",
    "    return [sol.t, F.data, [F_ana(t1, t2) for t1 in sol.t, t2 in sol.t]]\n",
    "end;"
   ]
  },
  {
   "cell_type": "code",
   "execution_count": null,
   "metadata": {},
   "outputs": [],
   "source": [
    "T = 4.0\n",
    "theta = 1.\n",
    "t_scale = (iszero(theta) ? one(theta) : abs(theta))\n",
    "\n",
    "N_0 = [1., 3., 5.]\n",
    "Ds = [8., 4., 1.]\n",
    "\n",
    "s = mapreduce((x...) -> solution(x...; atol=1e-9, rtol=1e-7, dtini=1e-10), hcat, N_0, Ds);"
   ]
  },
  {
   "cell_type": "markdown",
   "metadata": {},
   "source": [
    "## Plotting"
   ]
  },
  {
   "cell_type": "code",
   "execution_count": null,
   "metadata": {},
   "outputs": [],
   "source": [
    "cmap = \"gist_heat\";\n",
    "colors = [\"C0\", \"C1\", \"C2\"];\n",
    "lss = [\"-\", \"--\", \"-.\"];"
   ]
  },
  {
   "cell_type": "code",
   "execution_count": null,
   "metadata": {},
   "outputs": [],
   "source": [
    "fig = figure(figsize=(7, 3))\n",
    "\n",
    "ax = subplot(121)\n",
    "for k in eachindex(N_0)\n",
    "    plot(s[1,k], diag(s[2,k]), label=\"\\$xxx\\$\", lw=1.5, c=colors[k], ls=lss[k])\n",
    "end\n",
    "ax.set_xlim(0, theta * T)\n",
    "ax.set_ylim(0, 1.1 * Ds[1]/(2theta))\n",
    "ax.set_yticks([0, 1, 2, 3, 4, 5])\n",
    "ax.set_xlabel(L\"\\theta t\")\n",
    "ax.set_title(L\"F(t, t)\")\n",
    "\n",
    "ax = subplot(122)\n",
    "plot([], [], label=L\"D/\\theta\", c=\"w\")\n",
    "for k in eachindex(N_0)\n",
    "    semilogy(s[1,k], abs.((diag(s[2,k])  .- diag(s[3,k])) ./ diag(s[3,k])), lw=1.5, c=colors[k], label=L\"%$(string(Ds[k]/(theta)))\", ls=lss[k])\n",
    "end\n",
    "\n",
    "ax.set_xlim(0, theta * T)\n",
    "ax.set_ylim(1e-9, 1e-6)\n",
    "ax.set_xlabel(L\"\\theta t\")\n",
    "ax.set_title(L\"\\left|\\frac{F(t,t) - \\mathcal{F}(t,t)}{\\mathcal{F}(t,t)}\\right|\")\n",
    "ax.yaxis.set_ticks_position(\"right\")\n",
    "ax.yaxis.set_label_position(\"right\")\n",
    "\n",
    "ax.legend(loc=\"best\", frameon=false, labelspacing=0.0, borderpad=0, handlelength=1.5, fontsize=\"small\")\n",
    "tight_layout(pad=0.25, w_pad=1, h_pad=0)\n",
    "\n",
    "# savefig(\"brownian_motion_example_1.pdf\")"
   ]
  },
  {
   "cell_type": "code",
   "execution_count": null,
   "metadata": {},
   "outputs": [],
   "source": [
    "function meshgrid(xin,yin)\n",
    "  nx=length(xin)\n",
    "  ny=length(yin)\n",
    "  xout=zeros(ny,nx)\n",
    "  yout=zeros(ny,nx)\n",
    "  for jx=1:nx\n",
    "      for ix=1:ny\n",
    "          xout[ix,jx]=xin[jx]\n",
    "          yout[ix,jx]=yin[ix]\n",
    "      end\n",
    "  end\n",
    "  return (x=xout, y=yout)\n",
    "end"
   ]
  },
  {
   "cell_type": "code",
   "execution_count": null,
   "metadata": {},
   "outputs": [],
   "source": [
    "Y, X = meshgrid(s[1,1], s[1,1]);"
   ]
  },
  {
   "cell_type": "code",
   "execution_count": null,
   "metadata": {},
   "outputs": [],
   "source": [
    "figure(figsize=(7, 3))\n",
    "\n",
    "vmin = 0\n",
    "vmax = Ds[1]/(2theta)\n",
    "ax = subplot(121) # plt.gca()\n",
    "heatmap = ax.pcolormesh(t_scale * X, t_scale * Y, s[2,1], cmap=cmap, rasterized=true, vmin=vmin, vmax=vmax)\n",
    "heatmap.set_edgecolor(\"face\")\n",
    "ax.set_aspect(\"equal\")\n",
    "cbar = colorbar(mappable=heatmap)\n",
    "cbar.formatter.set_powerlimits((0, 0))\n",
    "ax.set_xlabel(L\"\\theta t\")\n",
    "ax.set_ylabel(L\"\\theta t^\\prime\")\n",
    "ax.set_xlim(0, t_scale * T)\n",
    "ax.set_ylim(0, t_scale * T)\n",
    "ax.set_xticks(t_scale .* [0, T/2, T])\n",
    "ax.set_yticks(t_scale .* [0, T/2, T])\n",
    "ax.set_title(L\"F(t, t)\")\n",
    "\n",
    "ax = subplot(122)\n",
    "heatmap = ax.pcolormesh(t_scale * X, t_scale * Y, abs.((s[2,1] - s[3,1]) ./ s[3,1]), cmap=\"gist_gray\", rasterized=true, vmin=0e-6, vmax=3e-6)\n",
    "heatmap.set_edgecolor(\"face\")\n",
    "ax.set_aspect(\"equal\")\n",
    "cbar = colorbar(mappable=heatmap)\n",
    "cbar.formatter.set_powerlimits((0, 0))\n",
    "ax.set_xlabel(L\"\\theta t\")\n",
    "# ax.set_ylabel(\"\\$\\\\theta t'\\$\")\n",
    "ax.set_xlim(0, t_scale * T)\n",
    "ax.set_ylim(0, t_scale * T)\n",
    "ax.set_xticks(t_scale .* [0, T/2, T])\n",
    "ax.set_yticks(t_scale .* [0, T/2, T])\n",
    "ax.set_yticklabels([])\n",
    "ax.set_title(L\"\\left|\\frac{F(t,t) - \\mathcal{F}(t,t)}{\\mathcal{F}(t,t)}\\right|\")\n",
    "\n",
    "tight_layout(pad=0.75, w_pad=0.25, h_pad=0)\n",
    "# savefig(\"brownian_motion_example_2.pdf\")"
   ]
  },
  {
   "cell_type": "markdown",
   "metadata": {},
   "source": [
    "## Adaptive vs Fixed dt"
   ]
  },
  {
   "cell_type": "code",
   "execution_count": null,
   "metadata": {},
   "outputs": [],
   "source": [
    "T = 0.5"
   ]
  },
  {
   "cell_type": "code",
   "execution_count": null,
   "metadata": {},
   "outputs": [],
   "source": [
    "s = mapreduce((x...) -> solution(x...; atol=0, rtol=1e-4, dtini=2^(-7), kmax=4), hcat, N_0, Ds);\n",
    "idx = 1\n",
    "dts = s[1, idx][2:end] .- s[1, idx][1:end-1];"
   ]
  },
  {
   "cell_type": "code",
   "execution_count": null,
   "metadata": {},
   "outputs": [],
   "source": [
    "@show error = let\n",
    "  e = abs.((s[2, idx] - s[3, idx]) ./ s[3, idx])\n",
    "  e = diag(e)\n",
    "  sum(e) / *(size(e)...)\n",
    "end"
   ]
  },
  {
   "cell_type": "code",
   "execution_count": null,
   "metadata": {},
   "outputs": [],
   "source": [
    "figure(figsize=(5, 3))\n",
    "semilogy(s[1, idx][2:end], dts, \"o-\")\n",
    "xlim(0, theta * T)\n",
    "ylim(1e-3, 1e-1)\n",
    "xlabel(L\"\\theta t\")\n",
    "ylabel(L\"\\mathrm{d} t\")\n",
    "tight_layout(pad=0.25, w_pad=1, h_pad=0)\n",
    "# savefig(\"brownian_motion_adaptive_dt.pdf\")"
   ]
  },
  {
   "cell_type": "code",
   "execution_count": null,
   "metadata": {},
   "outputs": [],
   "source": [
    "s = mapreduce((x...) -> solution(x..., rtol=1e0, dtmax=2^(-7), dtini=2^(-7), kmax=4, γ=1), hcat, N_0, Ds);\n",
    "idx = 1\n",
    "dts = s[1, idx][2:end] .- s[1, idx][1:end-1];"
   ]
  },
  {
   "cell_type": "code",
   "execution_count": null,
   "metadata": {},
   "outputs": [],
   "source": [
    "figure(figsize=(5, 3))\n",
    "semilogy(s[1, idx][2:end], dts, \"o-\")\n",
    "xlim(0, theta * T)\n",
    "ylim(1e-3, 1e-1)\n",
    "xlabel(L\"\\theta t\")\n",
    "ylabel(L\"\\mathrm{d} t\")\n",
    "tight_layout(pad=0.25, w_pad=1, h_pad=0)\n",
    "# savefig(\"brownian_motion_fixed_dt.pdf\")"
   ]
  },
  {
   "cell_type": "code",
   "execution_count": null,
   "metadata": {},
   "outputs": [],
   "source": [
    "@show error = let\n",
    "  e = abs.((s[2, idx] - s[3, idx]) ./ s[3, idx])\n",
    "  e = diag(e)\n",
    "  sum(e) / *(size(e)...)\n",
    "end"
   ]
  },
  {
   "cell_type": "code",
   "execution_count": null,
   "metadata": {},
   "outputs": [],
   "source": []
  }
 ],
 "metadata": {
  "kernelspec": {
   "display_name": "Julia 1.6.0",
   "language": "julia",
   "name": "julia-1.6"
  },
  "language_info": {
   "file_extension": ".jl",
   "mimetype": "application/julia",
   "name": "julia",
   "version": "1.6.0"
  }
 },
 "nbformat": 4,
 "nbformat_minor": 4
}
