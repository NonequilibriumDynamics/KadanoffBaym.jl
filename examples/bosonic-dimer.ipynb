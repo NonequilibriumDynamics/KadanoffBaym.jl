{
 "cells": [
  {
   "cell_type": "markdown",
   "metadata": {},
   "source": [
    "# Bosonic Double-well"
   ]
  },
  {
   "cell_type": "code",
   "execution_count": null,
   "metadata": {
    "ExecuteTime": {
     "end_time": "2019-12-09T14:41:15.628000+01:00",
     "start_time": "2019-12-09T13:41:08.419Z"
    }
   },
   "outputs": [],
   "source": [
    "using KadanoffBaym\n",
    "using FFTW, Interpolations\n",
    "using LinearAlgebra\n",
    "\n",
    "using PyPlot\n",
    "using PyCall\n",
    "qt = pyimport(\"qutip\")\n",
    "np = pyimport(\"numpy\")\n",
    "sp = pyimport(\"scipy\")\n",
    "\n",
    "font_size = 16\n",
    "# font_size = 20\n",
    "\n",
    "PyPlot.matplotlib.rc(\"text\", usetex=true)\n",
    "PyPlot.matplotlib.rc(\"font\", family=\"serif\", size=font_size)\n",
    "PyPlot.matplotlib.rc(\"axes\", labelsize=font_size)\n",
    "PyPlot.matplotlib.rc(\"xtick.major\", size=8)\n",
    "PyPlot.matplotlib.rc(\"ytick.major\", size=8)\n",
    "PyPlot.matplotlib.rc(\"xtick.minor\", visible=true, size=4)\n",
    "PyPlot.matplotlib.rc(\"ytick.minor\", visible=true, size=4)\n",
    "PyPlot.matplotlib.rc(\"xtick\", top=true, direction=\"inout\")\n",
    "PyPlot.matplotlib.rc(\"ytick\", right=true, direction=\"inout\")"
   ]
  },
  {
   "cell_type": "code",
   "execution_count": null,
   "metadata": {},
   "outputs": [],
   "source": [
    "# include(\"../src_T/SlaveMolecule.jl\")"
   ]
  },
  {
   "cell_type": "markdown",
   "metadata": {},
   "source": [
    "## Model"
   ]
  },
  {
   "cell_type": "markdown",
   "metadata": {},
   "source": [
    "### Non-Hermitian Hamiltonian:\n",
    "\n",
    "$$\n",
    "    \\hat{H} = \\left(\\omega_1 -i\\frac{\\lambda}{2}\\right) a^{\\dagger}_1 a^\\phantom{\\dagger}_1 -i\\frac{\\gamma}{2} a^\\phantom{\\dagger}_1 a^{\\dagger}_1  + \\omega_2 a^{\\dagger}_2 a^\\phantom{\\dagger}_2 + J \\left(a^{\\dagger}_1 a^\\phantom{\\dagger}_2 + a^{\\dagger}_2 a^\\phantom{\\dagger}_1\\right)\n",
    "$$\n",
    "\n",
    "### Master equation:\n",
    "\n",
    "$$\n",
    "    \\partial_{t} \\hat{\\rho}=-i\\left[\\hat{H} \\hat{\\rho}-\\hat{\\rho} \\hat{H}^{\n",
    "    \\dagger}\\right]+\\lambda a^\\phantom{\\dagger}_1 \\hat{\\rho}  a^{\\dagger}_1 +\\gamma  a^{\\dagger}_1 \\hat{\\rho} a^\\phantom{\\dagger}_1\n",
    "$$\n",
    "\n",
    "### Equations of motion\n",
    "\n",
    "#### Vertical Time.\n",
    "\n",
    "\\begin{align}\\begin{split}\n",
    "    0 &= \\begin{pmatrix}\n",
    "    i \\partial_t - \\omega_1 + i(\\lambda + \\gamma)/2 & -J \\\\\n",
    "    -J & i \\partial_t - \\omega_2\n",
    "    \\end{pmatrix} \n",
    "    \\begin{pmatrix}\n",
    "    G^<_{11} & G^<_{12} \\\\\n",
    "    G^<_{21} & G^<_{22}\n",
    "    \\end{pmatrix}(t, t') \n",
    "    - i\\gamma\n",
    "    \\begin{pmatrix}\n",
    "    G^{\\tilde{T}}_{11} & G^{\\tilde{T}}_{12} \\\\\n",
    "    0 & 0\n",
    "    \\end{pmatrix}(t, t')  \\\\\n",
    "    0 &= \\begin{pmatrix}\n",
    "    i \\partial_t - \\omega_1 - i(\\lambda + \\gamma)/2 & -J \\\\\n",
    "    -J & i \\partial_t - \\omega_2\n",
    "    \\end{pmatrix} \n",
    "    \\begin{pmatrix}\n",
    "    G^>_{11} & G^>_{12} \\\\\n",
    "    G^>_{21} & G^>_{22}\n",
    "    \\end{pmatrix}(t, t')  \n",
    "    + i\\lambda\n",
    "    \\begin{pmatrix}\n",
    "    G^T_{11} & G^T_{12} \\\\\n",
    "    0 & 0\n",
    "    \\end{pmatrix}(t, t')   \n",
    "\\end{split}\\end{align}\n",
    "\n",
    "#### Horizontal Time.\n",
    "\n",
    "\\begin{align}\\begin{split}\n",
    "    0 &= \\begin{pmatrix}\n",
    "    G^<_{11} & G^<_{12} \\\\\n",
    "    G^<_{21} & G^<_{22}\n",
    "    \\end{pmatrix}(t, t') \n",
    "    \\begin{pmatrix}\n",
    "    i \\partial_{t'} + \\omega_1 + i(\\lambda + \\gamma)/2 & J \\\\\n",
    "    J & i \\partial_{t'} + \\omega_2\n",
    "    \\end{pmatrix} \n",
    "    - i\\gamma\n",
    "    \\begin{pmatrix}\n",
    "    G^{{T}}_{11} & 0 \\\\\n",
    "    G^{{T}}_{21} & 0\n",
    "    \\end{pmatrix}(t, t')     \\\\\n",
    "    0 &= \\begin{pmatrix}\n",
    "    G^>_{11} & G^>_{12} \\\\\n",
    "    G^>_{21} & G^>_{22}\n",
    "    \\end{pmatrix}(t, t') \n",
    "    \\begin{pmatrix}\n",
    "    i \\partial_{t'} + \\omega_1 - i(\\lambda + \\gamma)/2 & J \\\\\n",
    "    J & i \\partial_{t'} + \\omega_2\n",
    "    \\end{pmatrix}  \n",
    "    + i\\lambda\n",
    "    \\begin{pmatrix}\n",
    "    G^{\\tilde{T}}_{11} & 0 \\\\\n",
    "    G^{\\tilde{T}}_{21} & 0\n",
    "    \\end{pmatrix}(t, t')   \n",
    "\\end{split}\\end{align}\n",
    "\n",
    "#### Equal-Time.\n",
    "\n",
    "\\begin{align}\\begin{split}\n",
    "    0 &= \\begin{pmatrix}\n",
    "    i \\partial_T + i(\\lambda + \\gamma) & 0 \\\\\n",
    "    0 & i \\partial_T\n",
    "    \\end{pmatrix} \n",
    "    \\begin{pmatrix}\n",
    "    G^<_{11} & G^<_{12} \\\\\n",
    "    G^<_{21} & G^<_{22}\n",
    "    \\end{pmatrix}(T, 0)\n",
    "    - \\left[\\begin{pmatrix}\n",
    "    \\omega_1 & J \\\\\n",
    "    J & \\omega_2\n",
    "    \\end{pmatrix}, \n",
    "    \\begin{pmatrix}\n",
    "    G^<_{11} & G^<_{12} \\\\\n",
    "    G^<_{21} & G^<_{22}\n",
    "    \\end{pmatrix}(T, 0)\\right] \n",
    "    - i\\gamma\n",
    "    \\begin{pmatrix}\n",
    "    G^T_{11} + G^{\\tilde{T}}_{11} & G^\\tilde{T}_{12} \\\\\n",
    "    G^{{T}}_{21} & 0\n",
    "    \\end{pmatrix}(T, 0)       \\\\\n",
    "    0 &= \\begin{pmatrix}\n",
    "    i \\partial_T - i(\\lambda + \\gamma) & 0 \\\\\n",
    "    0 & i \\partial_T\n",
    "    \\end{pmatrix} \n",
    "    \\begin{pmatrix}\n",
    "    G^>_{11} & G^>_{12} \\\\\n",
    "    G^>_{21} & G^>_{22}\n",
    "    \\end{pmatrix}(T, 0)  \n",
    "    - \\left[\\begin{pmatrix}\n",
    "    \\omega_1 & J \\\\\n",
    "    J & \\omega_2\n",
    "    \\end{pmatrix}, \n",
    "    \\begin{pmatrix}\n",
    "    G^>_{11} & G^>_{12} \\\\\n",
    "    G^>_{21} & G^>_{22}\n",
    "    \\end{pmatrix}(T, 0)\\right]\n",
    "    + i\\lambda\n",
    "    \\begin{pmatrix}\n",
    "    G^T_{11} + G^{\\tilde{T}}_{11} & G^T_{12} \\\\\n",
    "    G^{\\tilde{T}}_{21} & 0\n",
    "    \\end{pmatrix}(T, 0)   \n",
    "\\end{split}\\end{align}"
   ]
  },
  {
   "cell_type": "markdown",
   "metadata": {},
   "source": [
    "## Solving"
   ]
  },
  {
   "cell_type": "code",
   "execution_count": null,
   "metadata": {
    "ExecuteTime": {
     "end_time": "2019-12-09T14:43:21.414000+01:00",
     "start_time": "2019-12-09T13:43:14.461Z"
    }
   },
   "outputs": [],
   "source": [
    "# time parameters\n",
    "T = 16.0\n",
    "\n",
    "# Non-Hermitian Hamiltonian and jump operator\n",
    "omega_1 = 5.0\n",
    "omega_2 = 0.0\n",
    "J = 0.5*2*pi*1.0/2 \n",
    "# U = 0*1.0\n",
    "lambda = 2.0\n",
    "gamma = lambda\n",
    "\n",
    "N_1 = 1.\n",
    "N_2 = 0.1\n",
    "\n",
    "H = ComplexF64[omega_1 - 0.5im * ((N_1 + 1) * lambda + N_1 * gamma) J; J omega_2 - 0.5im * ((N_2 + 1) * lambda + N_2 * gamma)]\n",
    "h = H;"
   ]
  },
  {
   "cell_type": "code",
   "execution_count": null,
   "metadata": {
    "ExecuteTime": {
     "end_time": "2019-12-09T14:43:21.414000+01:00",
     "start_time": "2019-12-09T13:43:14.461Z"
    }
   },
   "outputs": [],
   "source": [
    "# quantum numbers\n",
    "L = 2\n",
    "\n",
    "# Define your Green functions at (t0, t0), time-arguments at the end!\n",
    "GL = GreenFunction(zeros(ComplexF64, L, L, 1, 1), SkewHermitian)\n",
    "GG = GreenFunction(zeros(ComplexF64, L, L, 1, 1), SkewHermitian)\n",
    "\n",
    "# initial condition\n",
    "N_0 = 2\n",
    "\n",
    "GL[2, 2, 1, 1] = -1.0im * N_0\n",
    "GG[2, 2, 1, 1] = -1.0im * (N_0 + 1)\n",
    "GG[1, 1, 1, 1] = -1.0im\n",
    "\n",
    "u0 = [GL, GG];"
   ]
  },
  {
   "cell_type": "code",
   "execution_count": null,
   "metadata": {},
   "outputs": [],
   "source": [
    "function θ(t)\n",
    "   0.5 * (sign(t) + 1)\n",
    "end"
   ]
  },
  {
   "cell_type": "code",
   "execution_count": null,
   "metadata": {},
   "outputs": [],
   "source": [
    "GT = (t, t′, reg) -> θ(t - t′ + reg) * GG[t, t′] + θ(t′ - t - reg) * GL[t, t′]\n",
    "GA = (t, t′, reg) -> θ(t - t′ + reg) * GL[t, t′] + θ(t′ - t - reg) * GG[t, t′];"
   ]
  },
  {
   "cell_type": "code",
   "execution_count": null,
   "metadata": {},
   "outputs": [],
   "source": [
    "GT(1, 1, 0) + GA(1, 1, 0) == GG[1, 1] + GL[1, 1]"
   ]
  },
  {
   "cell_type": "code",
   "execution_count": null,
   "metadata": {},
   "outputs": [],
   "source": [
    "GT(1, 1, 1e-15) == GG[1, 1]"
   ]
  },
  {
   "cell_type": "code",
   "execution_count": null,
   "metadata": {},
   "outputs": [],
   "source": [
    "GA(1, 1, 1e-15) == GL[1, 1]"
   ]
  },
  {
   "cell_type": "code",
   "execution_count": null,
   "metadata": {},
   "outputs": [],
   "source": [
    "function ff_vert(u, times, t, t′, reg=1e-15)\n",
    "    GL, GG = u[1], u[2]\n",
    "    f_L = -1.0im * (H * GL[t, t′] + [[1.0im * N_1 * gamma, 0] [0, 1.0im * N_2 * gamma]] * GA(t, t′, reg))\n",
    "    f_G = -1.0im * (adjoint(H) * GG[t, t′] - 1.0im * lambda * [[(N_1 + 1), 0] [0, (N_2 + 1)]] * GT(t, t′, reg))\n",
    "  return [f_L, f_G]\n",
    "end"
   ]
  },
  {
   "cell_type": "code",
   "execution_count": null,
   "metadata": {},
   "outputs": [],
   "source": [
    "f_vert(u0, [], 1, 1)"
   ]
  },
  {
   "cell_type": "code",
   "execution_count": null,
   "metadata": {},
   "outputs": [],
   "source": [
    "ff_vert(u0, [], 1, 1)"
   ]
  },
  {
   "cell_type": "code",
   "execution_count": null,
   "metadata": {
    "scrolled": true
   },
   "outputs": [],
   "source": [
    "ff_vert(u0, [], 1, 1, 0) - adjoint.(ff_vert(u0, [], 1, 1, 0))"
   ]
  },
  {
   "cell_type": "code",
   "execution_count": null,
   "metadata": {},
   "outputs": [],
   "source": [
    "f_diag(u0, [1], 1)"
   ]
  },
  {
   "cell_type": "code",
   "execution_count": null,
   "metadata": {
    "ExecuteTime": {
     "end_time": "2019-12-09T14:43:21.414000+01:00",
     "start_time": "2019-12-09T13:43:14.461Z"
    }
   },
   "outputs": [],
   "source": [
    "function f_vert(u, times, t, t′)\n",
    "    GL, GG = u[1], u[2]\n",
    "    f_L = -1.0im * (H * GL[t, t′] + [[1.0im * N_1 * gamma, 0] [0, 1.0im * N_2 * gamma]] * GL[t, t′])\n",
    "    f_G = -1.0im * (adjoint(H) * GG[t, t′] - 1.0im * lambda * [[(N_1 + 1), 0] [0, (N_2 + 1)]] * GG[t, t′])\n",
    "  return [f_L, f_G]\n",
    "end\n",
    "\n",
    "function f_diag(u, times, t)\n",
    "    println(\"t: $(times[t])\")\n",
    "    GL, GG = u[1], u[2]\n",
    "    f_L = -1.0im * (H * GL[t, t] - GL[t, t] * adjoint(H)\n",
    "        + 1.0im * gamma  * [[N_1 * (GL[1, 1, t, t] + GG[1, 1, t, t]), (N_1 + N_2) * (GL[2, 1, t, t] + GG[2, 1, t, t]) / 2] [(N_1 + N_2) * (GL[1, 2, t, t] + GG[1, 2, t, t]) / 2, N_2 * (GL[2, 2, t, t] + GG[2, 2, t, t])]])\n",
    "    f_G = -1.0im * (adjoint(H) * GG[t, t] - GG[t, t] * H\n",
    "        - 1.0im * lambda * [[(N_1 + 1) * (GL[1, 1, t, t] + GG[1, 1, t, t]), (N_1 + N_2 + 2) * (GG[2, 1, t, t] + GL[2, 1, t, t]) / 2] [(N_1 + N_2 + 2) * (GG[1, 2, t, t] + GL[1, 2, t, t]) / 2, (N_2 + 1) * (GL[2, 2, t, t] + GG[2, 2, t, t])]])\n",
    "  return [f_L, f_G]\n",
    "end"
   ]
  },
  {
   "cell_type": "code",
   "execution_count": null,
   "metadata": {
    "ExecuteTime": {
     "end_time": "2019-12-09T14:43:21.414000+01:00",
     "start_time": "2019-12-09T13:43:14.461Z"
    },
    "scrolled": true
   },
   "outputs": [],
   "source": [
    "# Basically this will mutate Lesser and Greater in place\n",
    "sol = kbsolve(f_vert, f_diag, u0, (0.0, T); dtini=1e-14, atol=1e-6, rtol=1e-4);#, dtmax=2^-6);"
   ]
  },
  {
   "cell_type": "code",
   "execution_count": null,
   "metadata": {},
   "outputs": [],
   "source": []
  },
  {
   "cell_type": "code",
   "execution_count": null,
   "metadata": {},
   "outputs": [],
   "source": [
    "n = length(sol.t) - 1"
   ]
  },
  {
   "cell_type": "code",
   "execution_count": null,
   "metadata": {
    "ExecuteTime": {
     "end_time": "2019-12-09T14:43:21.509000+01:00",
     "start_time": "2019-12-09T13:43:15.029Z"
    }
   },
   "outputs": [],
   "source": [
    "times = sol.t\n",
    "horizontal_times = k -> vcat(times[k:end] .- times[k], times[end] .+ (1:(k - 1) |> collect) .* (times[end] - times[end-1]));"
   ]
  },
  {
   "cell_type": "markdown",
   "metadata": {},
   "source": [
    "### Tim"
   ]
  },
  {
   "cell_type": "code",
   "execution_count": null,
   "metadata": {},
   "outputs": [],
   "source": [
    "# n = 2^9\n",
    "# initial_GL = -1.0im * [0 0; 0 N_0];\n",
    "\n",
    "# times = range(0, length=n+1, stop=T) |> collect;\n",
    "\n",
    "# GL_T, GG_T = SlaveMolecule.simulation(n, T/n, lambda, gamma, 0., h, initial_GL);"
   ]
  },
  {
   "cell_type": "markdown",
   "metadata": {},
   "source": [
    "## QuTiP benchmark"
   ]
  },
  {
   "cell_type": "code",
   "execution_count": null,
   "metadata": {
    "ExecuteTime": {
     "end_time": "2019-12-09T14:43:21.785000+01:00",
     "start_time": "2019-12-09T13:43:15.495Z"
    }
   },
   "outputs": [],
   "source": [
    "# maximal number of photons\n",
    "# Fock-space dimension will be n_max + 1\n",
    "n_max = 15\n",
    "\n",
    "# initial state\n",
    "psi0_list = [qt.basis(n_max + 1, 0), qt.basis(n_max + 1, N_0)]\n",
    "psi0 = qt.tensor(psi0_list)\n",
    "\n",
    "# define annihilation operators\n",
    "a_1_list = [qt.destroy(n_max + 1), qt.qeye(n_max + 1)]\n",
    "a_1  = qt.tensor(a_1_list)    \n",
    "a_2_list = [qt.qeye(n_max + 1), qt.destroy(n_max + 1)]\n",
    "a_2  = qt.tensor(a_2_list)    \n",
    "\n",
    "# Hamiltonian\n",
    "H  = J * a_1.dag() * a_2\n",
    "H += H.dag()\n",
    "H += omega_1 * a_1.dag() * a_1 + omega_2 * a_2.dag() * a_2\n",
    "# H += 0.5 * U *(a_1.dag() * a_1 * a_1.dag() * a_1 + a_2.dag() * a_2 * a_2.dag() * a_2)\n",
    "\n",
    "observables = [a_1.dag()*a_1, a_2.dag()*a_2, a_1*a_1.dag(), a_2*a_2.dag()];"
   ]
  },
  {
   "cell_type": "code",
   "execution_count": null,
   "metadata": {
    "ExecuteTime": {
     "end_time": "2019-12-09T14:43:22.261000+01:00",
     "start_time": "2019-12-09T13:43:15.663Z"
    }
   },
   "outputs": [],
   "source": [
    "j_ops = [sqrt((N_1 + 1) * lambda) * a_1, sqrt((N_2 + 1) * lambda) * a_2, \n",
    "         sqrt(N_1 * gamma) * a_1.dag(), sqrt(N_2 * gamma) * a_2.dag()] # qutip only needs the jump operator\n",
    "\n",
    "# quickly solve once for observables\n",
    "me = qt.mesolve(H, psi0, times, j_ops, observables);"
   ]
  },
  {
   "cell_type": "markdown",
   "metadata": {
    "heading_collapsed": true
   },
   "source": [
    "#### Two times"
   ]
  },
  {
   "cell_type": "code",
   "execution_count": null,
   "metadata": {
    "hidden": true
   },
   "outputs": [],
   "source": [
    "# # solve for the time-dependent density matrix\n",
    "# t_sols = qt.mesolve(H, psi0, times, j_ops); # t_sols.states returns density matrices"
   ]
  },
  {
   "cell_type": "markdown",
   "metadata": {
    "hidden": true
   },
   "source": [
    "Calculate $\\langle a^\\dagger_1(t') a^\\phantom{\\dagger}_1(t)\\rangle$, where $t' = t + \\tau$."
   ]
  },
  {
   "cell_type": "code",
   "execution_count": null,
   "metadata": {
    "ExecuteTime": {
     "end_time": "2019-12-09T14:43:41.466000+01:00",
     "start_time": "2019-12-09T13:43:16.166Z"
    },
    "hidden": true
   },
   "outputs": [],
   "source": [
    "# tau_t_sols = Dict()\n",
    "# for k in 1:length(t_sols.states)\n",
    "#     tau_t_sols[k] = qt.mesolve(H, a_1 * t_sols.states[k], horizontal_times(k), j_ops).states\n",
    "# end\n",
    "\n",
    "# a_1_dag_a_1 = zeros(ComplexF64, length(t_sols.states), length(t_sols.states))\n",
    "# for k in 1:length(t_sols.states)\n",
    "#     for l in 1:length(t_sols.states)\n",
    "#         a_1_dag_a_1[k, l] = (a_1.dag() * tau_t_sols[k][l]).tr()    \n",
    "#     end\n",
    "# end"
   ]
  },
  {
   "cell_type": "code",
   "execution_count": null,
   "metadata": {
    "hidden": true
   },
   "outputs": [],
   "source": [
    "# tau_t_sols = Dict()\n",
    "# for k in 1:length(t_sols.states)\n",
    "#     tau_t_sols[k] = qt.mesolve(H, a_1.dag() * t_sols.states[k], horizontal_times(k), j_ops).states\n",
    "# end\n",
    "\n",
    "# a_1_a_1_dag = zeros(ComplexF64, length(t_sols.states), length(t_sols.states))\n",
    "# for k in 1:length(t_sols.states)\n",
    "#     for l in 1:length(t_sols.states)\n",
    "#         a_1_a_1_dag[k, l] = (a_1 * tau_t_sols[k][l]).tr()    \n",
    "#     end\n",
    "# end"
   ]
  },
  {
   "cell_type": "code",
   "execution_count": null,
   "metadata": {
    "ExecuteTime": {
     "end_time": "2019-12-09T14:43:42.046000+01:00",
     "start_time": "2019-12-09T13:43:16.349Z"
    },
    "hidden": true
   },
   "outputs": [],
   "source": [
    "# # reshape the above array to fit into our two-time \"matrix\" structure \n",
    "# # see the plot below for illustration\n",
    "# unskewed_a_1_dag_a_1 = zeros(ComplexF64, length(t_sols.states), 2*length(t_sols.states) - 1)\n",
    "# for (k, x) in enumerate([a_1_dag_a_1[k, :] for k in 1:length(t_sols.states)])\n",
    "#     for (l, y) in enumerate(x)\n",
    "#         ind = k + l - 1 # verify the -1 relative to the original python code\n",
    "#         unskewed_a_1_dag_a_1[k, ind] = y  \n",
    "#     end\n",
    "# end"
   ]
  },
  {
   "cell_type": "code",
   "execution_count": null,
   "metadata": {
    "hidden": true
   },
   "outputs": [],
   "source": [
    "# # reshape the above array to fit into our two-time \"matrix\" structure \n",
    "# # see the plot below for illustration\n",
    "# unskewed_a_1_a_1_dag = zeros(ComplexF64, length(t_sols.states), 2*length(t_sols.states) - 1)\n",
    "# for (k, x) in enumerate([a_1_a_1_dag[k, :] for k in 1:length(t_sols.states)])\n",
    "#     for (l, y) in enumerate(x)\n",
    "#         ind = k + l - 1 # verify the -1 relative to the original python code\n",
    "#         unskewed_a_1_a_1_dag[k, ind] = y  \n",
    "#     end\n",
    "# end"
   ]
  },
  {
   "cell_type": "code",
   "execution_count": null,
   "metadata": {
    "hidden": true
   },
   "outputs": [],
   "source": [
    "cmap = \"gist_heat\""
   ]
  },
  {
   "cell_type": "code",
   "execution_count": null,
   "metadata": {
    "ExecuteTime": {
     "end_time": "2019-12-09T14:43:45.153000+01:00",
     "start_time": "2019-12-09T13:43:16.545Z"
    },
    "hidden": true
   },
   "outputs": [],
   "source": [
    "figure(figsize=(6, 2))\n",
    "subplot(121)\n",
    "imshow(real(a_1_dag_a_1), cmap=cmap)\n",
    "\n",
    "subplot(122)\n",
    "imshow(real(unskewed_a_1_a_1_dag), cmap=cmap)\n",
    "colorbar()\n",
    "\n",
    "tight_layout()"
   ]
  },
  {
   "cell_type": "code",
   "execution_count": null,
   "metadata": {
    "hidden": true
   },
   "outputs": [],
   "source": [
    "Y, X = np.meshgrid(sol.t, sol.t);\n",
    "rho_11 = real(unskewed_a_1_a_1_dag - unskewed_a_1_dag_a_1)[:, 1:n+1]\n",
    "# vmin = -1.0 \n",
    "# vmax =  1.0\n",
    "vmin = minimum(rho_11)\n",
    "vmax = maximum(rho_11)\n",
    "\n",
    "figure(figsize=(5, 3))\n",
    "ax = plt.gca()\n",
    "heatmap = ax.pcolormesh(X, Y, (rho_11 |> transpose) .+ rho_11, cmap=cmap, vmin=vmin, vmax=vmax)\n",
    "ax.set_aspect(\"equal\")\n",
    "colorbar(mappable=heatmap)\n",
    "ax.set_xlabel(\"\\$t\\$\")\n",
    "ax.set_ylabel(\"\\$t'\\$\")\n",
    "ax.set_xlim(0, T)\n",
    "ax.set_ylim(0, T)\n",
    "ax.set_xticks([0, T])\n",
    "ax.set_yticks([0, T])\n",
    "# ax.legend()\n",
    "tight_layout()"
   ]
  },
  {
   "cell_type": "markdown",
   "metadata": {},
   "source": [
    "## Plotting"
   ]
  },
  {
   "cell_type": "code",
   "execution_count": null,
   "metadata": {},
   "outputs": [],
   "source": [
    "t_scale = lambda\n",
    "ω_scale = 1/lambda\n",
    "steps = 1\n",
    "cmap = \"gist_heat\";"
   ]
  },
  {
   "cell_type": "code",
   "execution_count": null,
   "metadata": {},
   "outputs": [],
   "source": [
    "Y, X = np.meshgrid(sol.t[1:steps:end], sol.t[1:steps:end]);\n",
    "ρ_11 = imag.(GL.data[1, 1, 1:steps:end, 1:steps:end] - GG.data[1, 1, 1:steps:end, 1:steps:end]);"
   ]
  },
  {
   "cell_type": "code",
   "execution_count": null,
   "metadata": {
    "scrolled": true
   },
   "outputs": [],
   "source": [
    "length(sol.t)"
   ]
  },
  {
   "cell_type": "code",
   "execution_count": null,
   "metadata": {},
   "outputs": [],
   "source": [
    "xpad = 8\n",
    "ypad = 5\n",
    "\n",
    "figure(figsize=(7, 3))\n",
    "\n",
    "ax = subplot(121)\n",
    "plot(t_scale * sol.t, [-imag(GL.data[1, 1, k, k]) for k in 1:length(sol.t)], ls=\"--\", c=\"C3\", label=\"\\$i=\"*string(1)*\"\\$\", lw=1.5)\n",
    "# plot(t_scale * times, [-imag(GL_T[1, 1][k, k]) for k in 1:n+1], ls=\":\", c=\"C1\")\n",
    "# plot(t_scale * times, me.expect[1], c=\"C0\", ls=\"--\", lw=3.0, alpha=0.5)\n",
    "\n",
    "plot(t_scale * sol.t, [-imag(GL.data[2, 2, k, k]) for k in 1:length(sol.t)], ls=\"-\", c=\"C0\", label=\"\\$i=\"*string(2)*\"\\$\", lw=1.5)\n",
    "# plot(t_scale * times, [-imag(GL_T[2, 2][k, k]) for k in 1:n+1], ls=\":\", c=\"C1\")\n",
    "# plot(t_scale * times, me.expect[2], c=\"C2\", ls=\"--\", lw=3.0, alpha=0.5)\n",
    "\n",
    "# plot(times, [real(unskewed_a_1_dag_a_1[k, k]) for k in 1:n+1], c=\"C0\", ls=\"--\", lw=3.0, alpha=0.5)\n",
    "xlim(0, t_scale * T/2)\n",
    "xticks(t_scale .* [0, T/4, T/2])\n",
    "ylim(0, N_0)\n",
    "xlabel(\"\\$\\\\lambda t\\$\")\n",
    "ylabel(\"\\$-\\\\mathrm{Im}\\\\; G^<_{ii}(t, t)\\$\")\n",
    "ax.xaxis.set_tick_params(pad=xpad)\n",
    "ax.yaxis.set_tick_params(pad=ypad)\n",
    "# ax.set_axisbelow(false)\n",
    "ax.legend(loc=\"best\", handlelength=1.9, frameon=false, borderpad=0, labelspacing=0.25)\n",
    "# ticklabel_format(axis=\"y\", style=\"sci\", scilimits=(-0, 0))\n",
    "\n",
    "ax = subplot(122)\n",
    "vmin = -0.5 # minimum(ρ_11)\n",
    "vmax = 1.0 # maximum(ρ_11)\n",
    "# ax = plt.gca()\n",
    "heatmap = ax.pcolormesh(t_scale * X, t_scale * Y, ρ_11, cmap=cmap, vmin=vmin, vmax=vmax, rasterized=true)\n",
    "heatmap.set_edgecolor(\"face\")\n",
    "ax.set_aspect(\"equal\")\n",
    "colorbar(mappable=heatmap)\n",
    "ax.set_xlabel(\"\\$\\\\lambda t\\$\")\n",
    "ax.set_ylabel(\"\\$\\\\lambda t'\\$\")\n",
    "ax.set_xlim(0, t_scale * T)\n",
    "ax.set_ylim(0, t_scale * T)\n",
    "ax.set_xticks(t_scale .* [0, T/2, T])\n",
    "ax.set_yticks(t_scale .* [0, T/2, T])\n",
    "\n",
    "tight_layout()\n",
    "savefig(\"boson_example_T.pdf\")#, dpi=256)"
   ]
  },
  {
   "cell_type": "markdown",
   "metadata": {},
   "source": [
    "### Fourier transform"
   ]
  },
  {
   "cell_type": "code",
   "execution_count": null,
   "metadata": {},
   "outputs": [],
   "source": [
    "using Interpolations\n",
    "t_lin = range(first(sol.t), stop=last(sol.t), length=length(sol.t))\n",
    "ρ_11_itp = interpolate((sol.t, sol.t), view(GL.data .- GG.data, 1, 1, :, : ), Gridded(Linear()));\n",
    "ρ_22_itp = interpolate((sol.t, sol.t), view(GL.data .- GG.data, 2, 2, :, : ), Gridded(Linear()));"
   ]
  },
  {
   "cell_type": "code",
   "execution_count": null,
   "metadata": {},
   "outputs": [],
   "source": [
    "ρ_11_wigner, (taus, ts) = wigner_transform([ρ_11_itp(t1, t2) for t1 in t_lin, t2 in t_lin]; ts=t_lin, fourier=false);\n",
    "ρ_11_wigner = ρ_11_wigner |> imag;\n",
    "\n",
    "ρ_22_wigner, (taus, ts) = wigner_transform([ρ_22_itp(t1, t2) for t1 in t_lin, t2 in t_lin]; ts=t_lin, fourier=false);\n",
    "ρ_22_wigner = ρ_22_wigner |> imag;"
   ]
  },
  {
   "cell_type": "code",
   "execution_count": null,
   "metadata": {},
   "outputs": [],
   "source": [
    "ρ_11_FFT, (ωs, ts) = wigner_transform([ρ_11_itp(t1, t2) for t1 in t_lin, t2 in t_lin]; ts=t_lin, fourier=true);\n",
    "ρ_11_FFT = -ρ_11_FFT |> real;\n",
    "\n",
    "ρ_22_FFT, (ωs, ts) = wigner_transform([ρ_22_itp(t1, t2) for t1 in t_lin, t2 in t_lin]; ts=t_lin, fourier=true);\n",
    "ρ_22_FFT = -ρ_22_FFT |> real;"
   ]
  },
  {
   "cell_type": "code",
   "execution_count": null,
   "metadata": {},
   "outputs": [],
   "source": [
    "xpad = 8\n",
    "ypad = 5\n",
    "\n",
    "figure(figsize=(7, 3))\n",
    "\n",
    "ax = subplot(121)\n",
    "plot(t_scale * taus, ρ_22_wigner[:, Int(floor(n/2))], ls=\"-\", c=\"C0\", label=\"\\$i=2\\$\", lw=1.5)\n",
    "plot(t_scale * taus, ρ_11_wigner[:, Int(floor(n/2))], ls=\"--\", c=\"C3\", label=\"\\$i=1\\$\", lw=1.5) # fixed T\n",
    "ax.set_xlabel(\"\\$\\\\lambda \\\\tau\\$\")\n",
    "ax.set_xlim(-t_scale * T/2, t_scale * T/2)\n",
    "ax.set_ylim(-0.5, 1.0)\n",
    "ax.set_xticks(t_scale .* [-T/2, -T/4, 0, T/4, T/2])\n",
    "ax.xaxis.set_tick_params(pad=xpad)\n",
    "ax.yaxis.set_tick_params(pad=ypad)\n",
    "ax.set_ylabel(\"\\$A_{ii}(\\\\tau, T)\\$\")\n",
    "\n",
    "ax = subplot(122)\n",
    "plot(ω_scale * ωs, ρ_11_FFT[:, Int(floor(n/2))], ls=\"--\", c=\"C3\", label=\"\\$i=1\\$\", lw=1.5)\n",
    "plot(ω_scale * ωs, ρ_22_FFT[:, Int(floor(n/2))], ls=\"-\", c=\"C0\", label=\"\\$i=2\\$\", lw=1.5)\n",
    "ax.set_xlabel(\"\\$\\\\omega/\\\\lambda\\$\")\n",
    "ax.set_xlim(10 .* (-1, 1))\n",
    "ax.set_ylim(0, 2.0)\n",
    "# ax.set_xticks([-16, -8, 0, 8, 16])\n",
    "ax.set_xticks([-10, -5, 0, 5, 10])\n",
    "ax.xaxis.set_tick_params(pad=xpad)\n",
    "ax.yaxis.set_tick_params(pad=ypad)\n",
    "ax.set_ylabel(\"\\$A_{ii}(\\\\omega, T)\\$\", labelpad=16)\n",
    "ax.yaxis.set_label_position(\"right\")\n",
    "ax.legend(loc=\"best\", handlelength=1.4, frameon=false, borderpad=0, labelspacing=0.25)\n",
    "\n",
    "tight_layout(pad=0.1, w_pad=0.5, h_pad=0)\n",
    "\n",
    "savefig(\"boson_example_tau_omega.pdf\")"
   ]
  },
  {
   "cell_type": "code",
   "execution_count": null,
   "metadata": {},
   "outputs": [],
   "source": [
    "X, Y = np.meshgrid(ts[1:steps:end], taus[1:steps:end]);\n",
    "\n",
    "vmin = 1.0 # minimum(ρ_11_wigner)\n",
    "vmax = -0.5 # maximum(ρ_11_wigner)\n",
    "\n",
    "figure(figsize=(4, 3))\n",
    "ax = plt.gca()\n",
    "heatmap = ax.pcolormesh(t_scale * X, t_scale * Y, ρ_11_wigner[1:steps:end, 1:steps:end], cmap=cmap, vmin=vmin, vmax=vmax, rasterized=true)\n",
    "heatmap.set_edgecolor(\"face\")\n",
    "ax.set_xlabel(\"\\$\\\\lambda T\\$\")\n",
    "ax.set_ylabel(\"\\$\\\\lambda \\\\tau\\$\")\n",
    "ax.set_xlim(0, t_scale * T)\n",
    "ax.set_xticks([0, t_scale * T/2, t_scale * T])\n",
    "ax.set_ylim(-t_scale * T/2, t_scale * T/2)\n",
    "ax.set_yticks([-t_scale * T/2, 0, t_scale * T/2])\n",
    "colorbar(mappable=heatmap)\n",
    "ax.set_aspect(\"equal\")\n",
    "tight_layout(pad=0.0, w_pad=0, h_pad=0)\n",
    "savefig(\"boson_example_T_tau.pdf\")"
   ]
  },
  {
   "cell_type": "code",
   "execution_count": null,
   "metadata": {},
   "outputs": [],
   "source": [
    "X, Y = np.meshgrid(ts, ωs);\n",
    "\n",
    "vmin = minimum(ρ_11_FFT)\n",
    "vmax = maximum(ρ_11_FFT)\n",
    "\n",
    "figure(figsize=(5, 3))\n",
    "ax = plt.gca()\n",
    "heatmap = ax.pcolormesh(t_scale * X, Y, ρ_11_FFT, cmap=cmap, vmin=vmin, vmax=vmax, rasterized=true)\n",
    "heatmap.set_edgecolor(\"face\")\n",
    "ax.set_xlabel(\"\\$\\\\lambda T\\$\")\n",
    "ax.set_ylabel(\"\\$\\\\omega\\$\")\n",
    "ax.set_xlim(0, t_scale * T)\n",
    "ax.set_xticks([0, t_scale * T/2, t_scale * T])\n",
    "ax.set_yticks([-20, -10, 0, 10, 20])\n",
    "ax.set_ylim(-20, 20)\n",
    "colorbar(mappable=heatmap)\n",
    "tight_layout(pad=0.0, w_pad=0, h_pad=0)"
   ]
  },
  {
   "cell_type": "markdown",
   "metadata": {},
   "source": [
    "## Testing"
   ]
  },
  {
   "cell_type": "code",
   "execution_count": null,
   "metadata": {
    "scrolled": true
   },
   "outputs": [],
   "source": [
    "xpad = 8\n",
    "ypad = 5\n",
    "\n",
    "figure(figsize=(7, 3))\n",
    "\n",
    "ax = subplot(121)\n",
    "plot(t_scale * sol.t, [-imag(GL.data[1, 1, k, k]) for k in 1:length(sol.t)], ls=\"-\", c=\"C0\", label=\"\\$i=\"*string(1)*\"\\$\")\n",
    "# plot(t_scale * times, [-imag(GL_T[1, 1][k, k]) for k in 1:n+1], ls=\":\", c=\"C1\")\n",
    "plot(t_scale * times, me.expect[1], c=\"C0\", ls=\"--\", lw=3.0, alpha=0.5)\n",
    "\n",
    "plot(t_scale * sol.t, [-imag(GL.data[2, 2, k, k]) for k in 1:length(sol.t)], ls=\"-\", c=\"C2\", label=\"\\$i=\"*string(2)*\"\\$\")\n",
    "# plot(t_scale * times, [-imag(GL_T[2, 2][k, k]) for k in 1:n+1], ls=\":\", c=\"C1\")\n",
    "plot(t_scale * times, me.expect[2], c=\"C2\", ls=\"--\", lw=3.0, alpha=0.5)\n",
    "\n",
    "# plot(times, [real(unskewed_a_1_dag_a_1[k, k]) for k in 1:n+1], c=\"C0\", ls=\"--\", lw=3.0, alpha=0.5)\n",
    "xlim(0, t_scale * T)\n",
    "ylim(0, N_0)\n",
    "xlabel(\"\\$\\\\lambda t\\$\")\n",
    "ylabel(\"\\$-\\\\mathrm{Im}\\\\; G^<_{ii}(t, t)\\$\")\n",
    "ax.xaxis.set_tick_params(pad=xpad)\n",
    "ax.yaxis.set_tick_params(pad=ypad)\n",
    "ax.set_axisbelow(false)\n",
    "ax.legend(frameon=false)\n",
    "ticklabel_format(axis=\"y\", style=\"sci\", scilimits=(-0, 0))\n",
    "\n",
    "ax = subplot(122)\n",
    "idx = 1\n",
    "plot(lambda * sol.t, [-imag(GL.data[1, 1, k, k]) for k in 1:length(sol.t)] \n",
    "    .- me.expect[1], marker=\"\", ms=3.0, ls=\"-\", c=\"r\")\n",
    "# xlim(0, 1)\n",
    "# ylim(-1e-5, 1e-5)\n",
    "# xticks(J .* [0, 1, 2, 3, 4, 5])\n",
    "xlabel(\"\\$\\\\lambda t\\$\")\n",
    "ylabel(\"\\$\\\\mathrm{Im}\\\\left[ G^<_{11}(t, t) - \\\\mathcal{G}^<_{11}(t, t) \\\\right]\\$\", labelpad=16)\n",
    "ax.xaxis.set_tick_params(pad=xpad)\n",
    "ax.yaxis.set_tick_params(pad=ypad)\n",
    "ax.yaxis.set_label_position(\"right\")\n",
    "ax.set_axisbelow(false)\n",
    "# ax.yaxis.tick_right()\n",
    "ticklabel_format(axis=\"y\", style=\"sci\", scilimits=(-0, 0))\n",
    "\n",
    "tight_layout(pad=0.2, w_pad=0, h_pad=0)"
   ]
  },
  {
   "cell_type": "code",
   "execution_count": null,
   "metadata": {},
   "outputs": [],
   "source": [
    "figure(figsize=(7, 3))\n",
    "\n",
    "Y, X = np.meshgrid(sol.t, sol.t);\n",
    "\n",
    "vmin = -0.5 # minimum(ρ_11)\n",
    "vmax = 1.0 # maximum(ρ_11)\n",
    "# ax = plt.gca()\n",
    "heatmap = imshow(ρ_11, cmap=cmap, vmin=vmin, vmax=vmax, \n",
    "    extent=[minimum(X), maximum(X), minimum(Y), maximum(Y)], interpolation=\"nearest\")\n",
    "# ax.set_aspect(\"equal\")\n",
    "colorbar(mappable=heatmap)\n",
    "ax.set_xlabel(\"\\$\\\\lambda t\\$\")\n",
    "ax.set_ylabel(\"\\$\\\\lambda t'\\$\")\n",
    "ax.set_xlim(0, t_scale * T)\n",
    "ax.set_ylim(0, t_scale * T)\n",
    "ax.set_xticks([0, t_scale * T])\n",
    "ax.set_yticks([0, t_scale * T])\n",
    "\n",
    "tight_layout(pad=0.25, w_pad=0, h_pad=0)"
   ]
  },
  {
   "cell_type": "code",
   "execution_count": null,
   "metadata": {},
   "outputs": [],
   "source": [
    "xpad = 8\n",
    "ypad = 5\n",
    "\n",
    "figure(figsize=(7, 3))\n",
    "\n",
    "ax = subplot(121)\n",
    "plot(t_scale * sol.t, [-imag(GL.data[1, 1, k, k]) for k in 1:length(sol.t)], ls=\"--\", c=\"C3\", label=\"\\$i=\"*string(1)*\"\\$\", lw=1.5)\n",
    "# plot(t_scale * times, [-imag(GL_T[1, 1][k, k]) for k in 1:n+1], ls=\":\", c=\"C1\")\n",
    "# plot(t_scale * times, me.expect[1], c=\"C0\", ls=\"--\", lw=3.0, alpha=0.5)\n",
    "\n",
    "plot(t_scale * sol.t, [-imag(GL.data[2, 2, k, k]) for k in 1:length(sol.t)], ls=\"-\", c=\"C0\", label=\"\\$i=\"*string(2)*\"\\$\", lw=1.5)\n",
    "# plot(t_scale * times, [-imag(GL_T[2, 2][k, k]) for k in 1:n+1], ls=\":\", c=\"C1\")\n",
    "# plot(t_scale * times, me.expect[2], c=\"C2\", ls=\"--\", lw=3.0, alpha=0.5)\n",
    "\n",
    "# plot(times, [real(unskewed_a_1_dag_a_1[k, k]) for k in 1:n+1], c=\"C0\", ls=\"--\", lw=3.0, alpha=0.5)\n",
    "xlim(0, t_scale * T)\n",
    "ylim(0, N_0)\n",
    "xlabel(\"\\$\\\\lambda t\\$\")\n",
    "ylabel(\"\\$-\\\\mathrm{Im}\\\\; G^<_{ii}(t, t)\\$\")\n",
    "ax.xaxis.set_tick_params(pad=xpad)\n",
    "ax.yaxis.set_tick_params(pad=ypad)\n",
    "# ax.set_axisbelow(false)\n",
    "ax.legend(loc=\"best\", handlelength=1.9, frameon=false, borderpad=0, labelspacing=0.25)\n",
    "# ticklabel_format(axis=\"y\", style=\"sci\", scilimits=(-0, 0))\n",
    "\n",
    "ax = subplot(122)\n",
    "idx = 1\n",
    "plot(t_scale * sol.t, [imag(GL.data[1, 2, k, k]) for k in 1:length(sol.t)], ls=\"-\", c=\"k\", label=\"\\$\\\\mathrm{Re}\\$\", lw=1.5)\n",
    "plot(t_scale * sol.t, [real(GL.data[1, 2, k, k]) for k in 1:length(sol.t)], ls=\"-.\", c=\"k\", label=\"\\$\\\\mathrm{Im}\\$\", lw=1.5)\n",
    "# plot(t_scale * times, [-imag(GL_T[1, 1][k, k]) for k in 1:n+1] \n",
    "#     .- me.expect[1], marker=\"\", ms=3.0, ls=\":\", c=\"r\")\n",
    "xlim(0, t_scale * T)\n",
    "# ylim(-0.1, 0.1)\n",
    "xlabel(\"\\$\\\\lambda t\\$\")\n",
    "ylabel(\"\\$G^>_{12}(t, t)\\$\", labelpad=16)\n",
    "ax.xaxis.set_tick_params(pad=xpad)\n",
    "ax.yaxis.set_tick_params(pad=ypad)\n",
    "ax.yaxis.set_label_position(\"right\")\n",
    "# ax.set_axisbelow(false)\n",
    "# ax.yaxis.tick_right()\n",
    "ax.legend(loc=\"best\", handlelength=1.9, frameon=false, borderpad=0, labelspacing=0.25)\n",
    "# ticklabel_format(axis=\"y\", style=\"sci\", scilimits=(-0, 0))\n",
    "\n",
    "tight_layout(pad=0.2, w_pad=0.5, h_pad=0)"
   ]
  },
  {
   "cell_type": "code",
   "execution_count": null,
   "metadata": {},
   "outputs": [],
   "source": []
  }
 ],
 "metadata": {
  "kernelspec": {
   "display_name": "Julia 1.6.0",
   "language": "julia",
   "name": "julia-1.6"
  },
  "language_info": {
   "file_extension": ".jl",
   "mimetype": "application/julia",
   "name": "julia",
   "version": "1.6.0"
  }
 },
 "nbformat": 4,
 "nbformat_minor": 2
}
