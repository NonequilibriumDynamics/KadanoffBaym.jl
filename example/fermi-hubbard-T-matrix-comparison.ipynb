{
 "cells": [
  {
   "cell_type": "markdown",
   "metadata": {},
   "source": [
    "# Fermi-Hubbard Model"
   ]
  },
  {
   "cell_type": "markdown",
   "metadata": {},
   "source": [
    "### Hamiltonian\n",
    "\n",
    "$$\n",
    "\\begin{align}\\begin{split}\n",
    "    \\hat{H} &= - J \\sum_{\\langle{i,\\,j}\\rangle}\\sum_\\sigma \\hat{c}^{\\dagger}_{i,\\sigma} \\hat{c}^{\\phantom{\\dagger}}_{i+1,\\sigma} + U\\sum_{i=1}^L  \\hat{c}^{\\dagger}_{i,\\uparrow} \\hat{c}^{\\phantom{\\dagger}}_{i,\\uparrow}   \\hat{c}^{\\dagger}_{i,\\downarrow} \\hat{c}^{\\phantom{\\dagger}}_{i,\\downarrow}, \n",
    "\\end{split}\\end{align}\n",
    "$$\n",
    "\n",
    "### Green functions\n",
    "\n",
    "$$\n",
    "    G^>_{ij}(t, t') = -i \\left\\langle \\hat{c}^{\\phantom{\\dagger}}_{i,\\uparrow}(t) \\hat{c}^{{\\dagger}}_{i,\\uparrow}(t') \\right\\rangle\\\\\n",
    "    F^>_{ij}(t, t') = -i \\left\\langle \\hat{c}^{\\phantom{\\dagger}}_{i,\\downarrow}(t) \\hat{c}^{{\\dagger}}_{i,\\downarrow}(t') \\right\\rangle\\\\\n",
    "$$\n",
    "\n",
    "### Self-energies\n",
    "\n",
    "Second-order Born approximation:\n",
    "$$\n",
    "    \\Sigma_{ij, \\uparrow}  (t, t') = U^2 G_{ij, \\uparrow}(t, t') G_{ij, \\downarrow}(t, t') G_{ji, \\downarrow}(t', t),\\\\\n",
    "    \\Sigma_{ij, \\downarrow}(t, t') = U^2 G_{ij, \\downarrow}(t, t') G_{ij, \\uparrow}(t, t') G_{ji, \\uparrow}(t', t)\n",
    "$$\n",
    "\n",
    "\n",
    "$T$-matrix approximation:\n",
    "$$\n",
    "    \\Sigma_{ij, \\uparrow}  (t, t') = i U^2 T_{ij}(t, t') G_{ji, \\downarrow}(t', t),\\\\\n",
    "    \\Sigma_{ij, \\downarrow}(t, t') = i U^2 T_{ij}(t, t') G_{ji, \\uparrow}(t', t)\n",
    "$$\n",
    "\n",
    "$$\n",
    "   T_{ij}(t, t') =  \\Phi_{ij}(t, t') - U \\int_{\\mathcal{C}}\\mathrm{d}s\\; \\boldsymbol{\\Phi}(t, s) \\boldsymbol{T}(s, t')\n",
    "$$\n",
    "\n",
    "$$\n",
    "    \\Phi_{ij}(t, t') = -i G_{ij, \\uparrow}(t, t') G_{ij, \\downarrow}(t, t')\n",
    "$$\n",
    "\n",
    "$$\n",
    "   T^\\lessgtr_{ij}(t, t') =  \\Phi^\\lessgtr_{ij}(t, t') - U \\int_{0}^{t}\\mathrm{d}s\\; [\\boldsymbol{\\Phi}^>(t, s) - \\boldsymbol{\\Phi}^<(t, s)] \\boldsymbol{T}^\\lessgtr(s, t') - U \\int_{0}^{t'}\\mathrm{d}s\\; \\boldsymbol{\\Phi}^\\lessgtr(t, s)[\\boldsymbol{T}^<(s, t') - \\boldsymbol{T}^>(s, t')]\n",
    "$$"
   ]
  },
  {
   "cell_type": "code",
   "execution_count": null,
   "metadata": {
    "scrolled": true
   },
   "outputs": [],
   "source": [
    "using Pkg; Pkg.activate()\n",
    "\n",
    "using KadanoffBaym, Interpolations, FFTW\n",
    "using LinearAlgebra, BlockArrays\n",
    "\n",
    "\n",
    "using JLD\n",
    "\n",
    "using PyPlot\n",
    "PyPlot.plt.style.use(\"./paper.mplstyle\")\n",
    "using LaTeXStrings"
   ]
  },
  {
   "cell_type": "markdown",
   "metadata": {},
   "source": [
    "## Helpers"
   ]
  },
  {
   "cell_type": "code",
   "execution_count": null,
   "metadata": {},
   "outputs": [],
   "source": [
    "function fixed_point(F::Function, x0::AbstractArray; \n",
    "        mixing::Float64=0.5, \n",
    "        abstol::Float64=1e-12, \n",
    "        maxiter::Int=1000, \n",
    "        verbose::Bool=true, \n",
    "        norm=x -> LinearAlgebra.norm(x, Inf)\n",
    "    )\n",
    "    \n",
    "    x_old = copy(x0)\n",
    "\n",
    "    step = 0\n",
    "    while step < maxiter\n",
    "        x = F(x_old)\n",
    "        res = norm(x - x_old)\n",
    "        if verbose\n",
    "            @info \"step: $step // res: $res\"\n",
    "        end\n",
    "        if res < abstol\n",
    "            break\n",
    "        end\n",
    "        @. x_old = mixing * x + (1.0 - mixing) * x_old\n",
    "        step += 1\n",
    "    end\n",
    "\n",
    "    if step == maxiter\n",
    "        @warn \"No convergence reached.\"\n",
    "    end\n",
    "\n",
    "    return x_old\n",
    "end"
   ]
  },
  {
   "cell_type": "markdown",
   "metadata": {},
   "source": [
    "## Solving"
   ]
  },
  {
   "cell_type": "code",
   "execution_count": null,
   "metadata": {
    "scrolled": false
   },
   "outputs": [],
   "source": [
    "Base.@kwdef struct FermiHubbardModel\n",
    "    U::Float64\n",
    "    \n",
    "    # 8-site 3D cubic lattice\n",
    "    H = begin\n",
    "        h = BlockArray{ComplexF64}(undef_blocks, [4, 4], [4, 4])\n",
    "        diag_block = [0 -1 0 -1; -1 0 -1 0; 0 -1 0 -1; -1 0 -1 0]\n",
    "        setblock!(h, diag_block, 1, 1)\n",
    "        setblock!(h, diag_block, 2, 2)\n",
    "        setblock!(h, Diagonal(-1 .* ones(4)), 1, 2)\n",
    "        setblock!(h, Diagonal(-1 .* ones(4)), 2, 1)\n",
    "\n",
    "        full_h = BlockArray{ComplexF64}(undef_blocks, [8, 8], [8, 8])\n",
    "        setblock!(full_h, h |> Array, 1, 1)\n",
    "        setblock!(full_h, h |> Array, 2, 2)\n",
    "        setblock!(full_h, zeros(ComplexF64, 8, 8), 1, 2)\n",
    "        setblock!(full_h, zeros(ComplexF64, 8, 8), 2, 1)\n",
    "        \n",
    "        full_h |> Array\n",
    "    end\n",
    "    \n",
    "    H1 = H[1:8, 1:8]\n",
    "    H2 = H[1 + 8:2 * 8, 1 + 8:2 * 8]\n",
    "end"
   ]
  },
  {
   "cell_type": "code",
   "execution_count": null,
   "metadata": {},
   "outputs": [],
   "source": [
    "struct FermiHubbardData{T}\n",
    "    GL::T\n",
    "    GG::T\n",
    "    FL::T\n",
    "    FG::T\n",
    "    \n",
    "    TL::T\n",
    "    TG::T    \n",
    "    \n",
    "    ΣNCA_c_L::T\n",
    "    ΣNCA_c_G::T\n",
    "    ΣNCA_f_L::T\n",
    "    ΣNCA_f_G::T\n",
    "    \n",
    "    ΦL::T\n",
    "    ΦG::T\n",
    "    \n",
    "    # Initialize problem\n",
    "    function FermiHubbardData(GL::T, GG::T, FL::T, FG::T, TL::T, TG::T) where T\n",
    "        new{T}(GL, GG, FL, FG, TL, TG, zero(GL), zero(GG), zero(FL), zero(FG), zero(FL), zero(FG))\n",
    "    end\n",
    "end"
   ]
  },
  {
   "cell_type": "code",
   "execution_count": null,
   "metadata": {},
   "outputs": [],
   "source": [
    "begin\n",
    "    function integrate1(hs::Vector, t1, t2, A::GreenFunction, B::GreenFunction, C::GreenFunction; tmax=t1)\n",
    "        retval = zero(A[t1,t1])\n",
    "\n",
    "        @inbounds for k in 1:tmax\n",
    "            @views LinearAlgebra.mul!(retval, A[t1, k] - B[t1, k], C[k, t2], hs[k], 1.0)\n",
    "        end\n",
    "        return retval\n",
    "    end\n",
    "\n",
    "    function integrate2(hs::Vector, t1, t2, A::GreenFunction, B::GreenFunction, C::GreenFunction; tmax=t2)\n",
    "        retval = zero(A[t1,t1])\n",
    "\n",
    "        @inbounds for k in 1:tmax\n",
    "            @views LinearAlgebra.mul!(retval, A[t1, k], B[k, t2] - C[k, t2], hs[k], 1.0)\n",
    "        end\n",
    "        return retval\n",
    "    end\n",
    "end;"
   ]
  },
  {
   "cell_type": "code",
   "execution_count": null,
   "metadata": {},
   "outputs": [],
   "source": [
    "function fv!(model, data, out, times, h1, h2, t, t′)\n",
    "    (; GL, GG, FL, FG, TL, TG, ΣNCA_c_L, ΣNCA_c_G, ΣNCA_f_L, ΣNCA_f_G) = data\n",
    "    (; H1, H2, U) = model \n",
    "    \n",
    "    # real-time collision integral\n",
    "    ∫dt1(A,B,C) = integrate1(h1, t, t′, A, B, C)\n",
    "    ∫dt2(A,B,C) = integrate2(h2, t, t′, A, B, C)\n",
    "    \n",
    "    ΣHF_c(t, t′) = 1.0im * U * Diagonal(FL[t, t])\n",
    "    ΣHF_f(t, t′) = 1.0im * U * Diagonal(GL[t, t])\n",
    "    \n",
    "    out[1] = -1.0im * ((H1 + ΣHF_c(t, t′)) * GL[t, t′] + \n",
    "            ∫dt1(ΣNCA_c_G, ΣNCA_c_L, GL) + ∫dt2(ΣNCA_c_L, GL, GG)\n",
    "        )\n",
    "\n",
    "    out[2] = -1.0im * ((H1 + ΣHF_c(t, t′)) * GG[t, t′] + \n",
    "            ∫dt1(ΣNCA_c_G, ΣNCA_c_L, GG) + ∫dt2(ΣNCA_c_G, GL, GG)\n",
    "        )\n",
    "\n",
    "    out[3] = -1.0im * ((H2 + ΣHF_f(t, t′)) * FL[t, t′] + \n",
    "            ∫dt1(ΣNCA_f_G, ΣNCA_f_L, FL) + ∫dt2(ΣNCA_f_L, FL, FG)\n",
    "        )\n",
    "\n",
    "    out[4] = -1.0im * ((H2 + ΣHF_f(t, t′)) * FG[t, t′] +\n",
    "            ∫dt1(ΣNCA_f_G, ΣNCA_f_L, FG) + ∫dt2(ΣNCA_f_G, FL, FG)\n",
    "        )    \n",
    "end\n",
    "\n",
    "function fd!(model, data, out, times, h1, h2, t, t′)\n",
    "    fv!(model, data, out, times, h1, h2, t, t)\n",
    "    out[1:4] .-= adjoint.(out[1:4])\n",
    "end"
   ]
  },
  {
   "cell_type": "code",
   "execution_count": null,
   "metadata": {},
   "outputs": [],
   "source": [
    "function second_Born!(model, data, times, h1, h2, t, t′)\n",
    "    (; GL, GG, FL, FG, TL, TG, ΣNCA_c_L, ΣNCA_c_G, ΣNCA_f_L, ΣNCA_f_G) = data\n",
    "    (; U) = model\n",
    "        \n",
    "    if (n = size(GL, 3)) > size(ΣNCA_c_L, 3)\n",
    "        resize!(ΣNCA_c_L, n)\n",
    "        resize!(ΣNCA_c_G, n)\n",
    "        resize!(ΣNCA_f_L, n)\n",
    "        resize!(ΣNCA_f_G, n)\n",
    "        \n",
    "        resize!(TL, n)\n",
    "        resize!(TG, n)\n",
    "        resize!(data.ΦL, n)\n",
    "        resize!(data.ΦG, n)\n",
    "    end\n",
    "    \n",
    "    TL[t, t′] = -1.0im .* GL[t, t′] .* FL[t, t′]\n",
    "    TG[t, t′] = -1.0im .* GG[t, t′] .* FG[t, t′]        \n",
    "    \n",
    "    ΣNCA_c_L[t, t′] = 1.0im .* U^2 .* TL[t, t′] .* transpose(FG[t′, t])\n",
    "    ΣNCA_f_L[t, t′] = 1.0im .* U^2 .* TL[t, t′] .* transpose(GG[t′, t])\n",
    "    \n",
    "    ΣNCA_c_G[t, t′] = 1.0im .* U^2 .* TG[t, t′] .* transpose(FL[t′, t])\n",
    "    ΣNCA_f_G[t, t′] = 1.0im .* U^2 .* TG[t, t′] .* transpose(GL[t′, t])\n",
    "end"
   ]
  },
  {
   "cell_type": "code",
   "execution_count": null,
   "metadata": {},
   "outputs": [],
   "source": [
    "function T_matrix!(model, data, times, h1, h2, t, t′)\n",
    "    (; GL, GG, FL, FG, TL, TG, ΣNCA_c_L, ΣNCA_c_G, ΣNCA_f_L, ΣNCA_f_G, ΦL, ΦG) = data\n",
    "    (; U) = model\n",
    "        \n",
    "    # real-time collision integral\n",
    "    ∫dt1(A,B,C) = integrate1(h1, t, t′, A, B, C)\n",
    "    ∫dt2(A,B,C) = integrate2(h2, t, t′, A, B, C)\n",
    "    \n",
    "    if (n = size(GL, 3)) > size(ΣNCA_c_L, 3)\n",
    "        resize!(ΣNCA_c_L, n)\n",
    "        resize!(ΣNCA_c_G, n)\n",
    "        resize!(ΣNCA_f_L, n)\n",
    "        resize!(ΣNCA_f_G, n)\n",
    "        \n",
    "        resize!(TL, n)\n",
    "        resize!(TG, n)\n",
    "        resize!(ΦL, n)\n",
    "        resize!(ΦG, n)\n",
    "    end\n",
    "    \n",
    "    # need to set all Φs at the very first t′ since they are _all_ known by then\n",
    "    if t′ == 1\n",
    "        for t′ in 1:t\n",
    "            ΦL[t, t′] = -1.0im .* GL[t, t′] .* FL[t, t′]\n",
    "            ΦG[t, t′] = -1.0im .* GG[t, t′] .* FG[t, t′]\n",
    "        end\n",
    "    end\n",
    "    \n",
    "    # cached version\n",
    "    TL[t, t′], TG[t, t′] = let\n",
    "        ∫dt_(x...) = (x[1] < 1 || x[2] < 1) ? zero(x[3][1,1]) : ∫dt(x...)\n",
    "        \n",
    "        ΦL_ = ΦL[t, t′]\n",
    "        ΦG_ = ΦG[t, t′]\n",
    "        \n",
    "        I1 = integrate1(h1, t, t′, ΦG, ΦL, TL; tmax=t-1)\n",
    "        I2 = integrate2(h2, t, t′, ΦL, TL, TG; tmax=t′-1)\n",
    "        I3 = integrate1(h1, t, t′, ΦG, ΦL, TG; tmax=t-1)\n",
    "        I4 = integrate2(h2, t, t′, ΦG, TL, TG; tmax=t′-1)\n",
    "        \n",
    "        L_ = ΦL[t, t′] - U * (I1 + I2)\n",
    "        G_ = ΦG[t, t′] - U * (I3 + I4)\n",
    "        \n",
    "        fixed_point([L_, G_]; mixing=0.5, verbose=false) do x\n",
    "            TL[t, t′], TG[t, t′] = x[1], x[2]\n",
    "\n",
    "            [\n",
    "                L_ - U * (h1[t] * (ΦG[t,t] - ΦL[t,t]) * TL[t,t′] + h2[t′] * ΦL[t,t′] * (TL[t′,t′] - TG[t′,t′])),\n",
    "                G_ - U * (h1[t] * (ΦG[t,t] - ΦL[t,t]) * TG[t,t′] + h2[t′] * ΦG[t,t′] * (TL[t′,t′] - TG[t′,t′]))\n",
    "            ]\n",
    "        end\n",
    "    end\n",
    "    \n",
    "    # uncached version\n",
    "#     TL[t, t′], TG[t, t′] = fixed_point([ΦL[t, t′], ΦG[t, t′]]; mixing=0.5, verbose=false) do x\n",
    "#         TL[t, t′], TG[t, t′] = x[1], x[2]\n",
    "        \n",
    "#         [\n",
    "#             ΦL[t, t′] - U * (∫dt1(ΦG, ΦL, TL) + ∫dt2(ΦL, TL, TG)),\n",
    "#             ΦG[t, t′] - U * (∫dt1(ΦG, ΦL, TG) + ∫dt2(ΦG, TL, TG))\n",
    "#         ]\n",
    "#     end\n",
    "    \n",
    "    ΣNCA_c_L[t, t′] = 1.0im .* U^2 .* TL[t, t′] .* transpose(FG[t′, t])\n",
    "    ΣNCA_f_L[t, t′] = 1.0im .* U^2 .* TL[t, t′] .* transpose(GG[t′, t])\n",
    "    \n",
    "    ΣNCA_c_G[t, t′] = 1.0im .* U^2 .* TG[t, t′] .* transpose(FL[t′, t])\n",
    "    ΣNCA_f_G[t, t′] = 1.0im .* U^2 .* TG[t, t′] .* transpose(GL[t′, t])\n",
    "end"
   ]
  },
  {
   "cell_type": "code",
   "execution_count": null,
   "metadata": {},
   "outputs": [],
   "source": [
    "# quantum numbers\n",
    "dim = 8\n",
    "\n",
    "# Define your Green functions at (t0, t0) – time arguments at the end\n",
    "GL = GreenFunction(zeros(ComplexF64, dim, dim, 1, 1), SkewHermitian)\n",
    "GG = GreenFunction(zeros(ComplexF64, dim, dim, 1, 1), SkewHermitian)\n",
    "FL = GreenFunction(zeros(ComplexF64, dim, dim, 1, 1), SkewHermitian)\n",
    "FG = GreenFunction(zeros(ComplexF64, dim, dim, 1, 1), SkewHermitian)\n",
    "\n",
    "TL = GreenFunction(zeros(ComplexF64, dim, dim, 1, 1), SkewHermitian)\n",
    "TG = GreenFunction(zeros(ComplexF64, dim, dim, 1, 1), SkewHermitian)\n",
    "\n",
    "# Initial condition\n",
    "N_c = zeros(dim)\n",
    "N_f = zeros(dim)\n",
    "\n",
    "N_c[1:4] = 0.1 .* [1, 1, 1, 1]\n",
    "N_f[1:4] = 0.1 .* [1, 1, 1, 1]\n",
    "\n",
    "N_c[5:8] = 0.0 .* [1, 1, 1, 1]\n",
    "N_f[5:8] = 0.0 .* [1, 1, 1, 1]\n",
    "\n",
    "GL[1, 1] = 1.0im * diagm(N_c)\n",
    "GG[1, 1] = -1.0im * (I - diagm(N_c))\n",
    "FL[1, 1] = 1.0im * diagm(N_f)\n",
    "FG[1, 1] = -1.0im * (I - diagm(N_f))\n",
    "\n",
    "TL[1, 1] = -1.0im .* GL[1, 1] .* FL[1, 1]\n",
    "TG[1, 1] = -1.0im .* GG[1, 1] .* FG[1, 1]\n",
    "\n",
    "data = FermiHubbardData(GL, GG, FL, FG, TL, TG)\n",
    "data.ΦL[1, 1] = data.TL[1, 1]\n",
    "data.ΦG[1, 1] = data.TG[1, 1]\n",
    "\n",
    "data_2B = deepcopy(data)\n",
    "\n",
    "model = FermiHubbardModel(U = 2.)"
   ]
  },
  {
   "cell_type": "code",
   "execution_count": null,
   "metadata": {},
   "outputs": [],
   "source": [
    "tmax = 32.0;\n",
    "\n",
    "# atol = 1e-10\n",
    "# rtol = 1e-8;\n",
    "atol = 1e-8\n",
    "rtol = 1e-6;\n",
    "# atol = 1e-6\n",
    "# rtol = 1e-4;"
   ]
  },
  {
   "cell_type": "code",
   "execution_count": null,
   "metadata": {
    "scrolled": true
   },
   "outputs": [],
   "source": [
    "@time sol = kbsolve!(\n",
    "    (x...) -> fv!(model, data, x...),\n",
    "    (x...) -> fd!(model, data, x...),\n",
    "    [data.GL, data.GG, data.FL, data.FG],\n",
    "    (0.0, tmax);\n",
    "    callback = (x...) -> T_matrix!(model, data, x...),\n",
    "    atol = atol,\n",
    "    rtol = rtol,\n",
    "    dtini=1e-10,\n",
    "#     qmax=4,\n",
    "#     γ=19/20,\n",
    "    stop = x -> (println(\"t: $(x[end])\"); flush(stdout); false)\n",
    ");"
   ]
  },
  {
   "cell_type": "code",
   "execution_count": null,
   "metadata": {},
   "outputs": [],
   "source": [
    "save(\"FH_3D_T_matrix_sol_U_$(model.U)_tmax_$(tmax)_atol_$(atol)_rtol_$(rtol).jld\", \"solution\", sol)"
   ]
  },
  {
   "cell_type": "markdown",
   "metadata": {},
   "source": [
    "### Second Born approximation"
   ]
  },
  {
   "cell_type": "code",
   "execution_count": null,
   "metadata": {
    "scrolled": true
   },
   "outputs": [],
   "source": [
    "@time sol_2B = kbsolve!(\n",
    "    (x...) -> fv!(model, data_2B, x...),\n",
    "    (x...) -> fd!(model, data_2B, x...),\n",
    "    [data_2B.GL, data_2B.GG, data_2B.FL, data_2B.FG],\n",
    "    (0.0, tmax);\n",
    "    callback = (x...) -> second_Born!(model, data_2B, x...),\n",
    "    atol = atol,\n",
    "    rtol = rtol,\n",
    "    dtini=1e-10,\n",
    "#     γ=19/20,\n",
    "    stop = x -> (println(\"t: $(x[end])\"); flush(stdout); false)\n",
    ");"
   ]
  },
  {
   "cell_type": "code",
   "execution_count": null,
   "metadata": {},
   "outputs": [],
   "source": [
    "save(\"FH_3D_second_Born_sol_U_$(model.U)_tmax_$(tmax)_atol_$(atol)_rtol_$(rtol).jld\", \"solution\", sol_2B)"
   ]
  },
  {
   "cell_type": "markdown",
   "metadata": {},
   "source": [
    "### Convergence"
   ]
  },
  {
   "cell_type": "code",
   "execution_count": null,
   "metadata": {},
   "outputs": [],
   "source": [
    "U = 2.\n",
    "tmax = 32.0;"
   ]
  },
  {
   "cell_type": "code",
   "execution_count": null,
   "metadata": {},
   "outputs": [],
   "source": [
    "atol = 1e-6\n",
    "rtol = 1e-4;"
   ]
  },
  {
   "cell_type": "code",
   "execution_count": null,
   "metadata": {},
   "outputs": [],
   "source": [
    "loaded_sol_1 = load(\"FH_3D_T_matrix_sol_U_$(U)_tmax_$(tmax)_atol_$(atol)_rtol_$(rtol).jld\")\n",
    "GFs_1 = loaded_sol_1[\"solution\"].u\n",
    "num_points_1 = (loaded_sol_1[\"solution\"].t |> size)[1]"
   ]
  },
  {
   "cell_type": "code",
   "execution_count": null,
   "metadata": {},
   "outputs": [],
   "source": [
    "atol = 1e-8\n",
    "rtol = 1e-6;"
   ]
  },
  {
   "cell_type": "code",
   "execution_count": null,
   "metadata": {},
   "outputs": [],
   "source": [
    "loaded_sol_2 = load(\"FH_3D_T_matrix_sol_U_$(U)_tmax_$(tmax)_atol_$(atol)_rtol_$(rtol).jld\")\n",
    "GFs_2 = loaded_sol_2[\"solution\"].u\n",
    "num_points_2 = (loaded_sol_2[\"solution\"].t |> size)[1]"
   ]
  },
  {
   "cell_type": "code",
   "execution_count": null,
   "metadata": {},
   "outputs": [],
   "source": [
    "atol = 1e-10\n",
    "rtol = 1e-8;"
   ]
  },
  {
   "cell_type": "code",
   "execution_count": null,
   "metadata": {},
   "outputs": [],
   "source": [
    "loaded_sol_3 = load(\"FH_3D_T_matrix_sol_U_$(U)_tmax_$(tmax)_atol_$(atol)_rtol_$(rtol).jld\")\n",
    "GFs_3 = loaded_sol_3[\"solution\"].u\n",
    "num_points_3 = (loaded_sol_3[\"solution\"].t |> size)[1]"
   ]
  },
  {
   "cell_type": "code",
   "execution_count": null,
   "metadata": {},
   "outputs": [],
   "source": [
    "figure(figsize = (8, 3))\n",
    "\n",
    "ax = subplot(121)\n",
    "idx_1 = 1\n",
    "ms = 4\n",
    "\n",
    "plot([], [], label=\"\\$\\\\texttt{rtol}\\$\", c=\"w\")\n",
    "plot(loaded_sol_3[\"solution\"].t, [imag(GFs_3[1][idx_1, idx_1, k, k] .+ GFs_3[3][idx_1, idx_1, k, k]) for k = 1:num_points_3], \n",
    "    label = \"\\$ \\\\texttt{1e-8}\\$\", lw=1.5, \"s\", ms=ms, c = \"C2\")\n",
    "plot(loaded_sol_2[\"solution\"].t, [imag(GFs_2[1][idx_1, idx_1, k, k] .+ GFs_2[3][idx_1, idx_1, k, k]) for k = 1:num_points_2], \n",
    "    label = \"\\$ \\\\texttt{1e-6}\\$\", lw=1.5, \"D\", ms=ms, c = \"C0\")\n",
    "plot(loaded_sol_1[\"solution\"].t, [imag(GFs_1[1][idx_1, idx_1, k, k] .+ GFs_1[3][idx_1, idx_1, k, k]) for k = 1:num_points_1], \n",
    "    label = \"\\$ \\\\texttt{1e-4}\\$\", lw=1.5, \"o\", ms=ms, c = \"C3\")\n",
    "\n",
    "plot(sol_2B.t, [imag(sol_2B.u[1][idx_1, idx_1, k, k] .+ sol_2B.u[3][idx_1, idx_1, k, k]) for k = 1:size(sol_2B.t)[1]], \n",
    "    lw=3, ls = \"--\", c = \"k\", alpha=0.75)\n",
    "\n",
    "xlim(0, tmax)\n",
    "ax.set_xticks(0:tmax / 4:tmax)\n",
    "ylim(0, 0.3)\n",
    "xlabel(\"\\$J t\\$\")\n",
    "ylabel(\"Charge on site 1\", labelpad = 8)\n",
    "ax.xaxis.set_tick_params(pad = xpad)\n",
    "ax.yaxis.set_tick_params(pad = ypad)\n",
    "ticklabel_format(axis = \"y\", style = \"sci\", scilimits = (-0, 0))\n",
    "ax.legend(loc = \"best\", handlelength = 1, frameon = false, borderpad = 0, labelspacing = 0.25, ncol=2)\n",
    "\n",
    "ax = subplot(122)\n",
    "semilogy(loaded_sol_3[\"solution\"].t, \n",
    "    [(sum(GFs_3[1][i, i, k, k] for i = 1:dim) |> imag) .+ (sum(GFs_3[3][i, i, k, k] for i = 1:dim) |> imag) for k = 1:num_points_3] \n",
    "    .- sum(N_c .+ N_f)  .|> abs, ls = \"-\", c = \"C2\")\n",
    "semilogy(loaded_sol_2[\"solution\"].t, \n",
    "    [(sum(GFs_2[1][i, i, k, k] for i = 1:dim) |> imag) .+ (sum(GFs_2[3][i, i, k, k] for i = 1:dim) |> imag) for k = 1:num_points_2] \n",
    "    .- sum(N_c .+ N_f)  .|> abs, ls = \"-.\", c = \"C0\")\n",
    "semilogy(loaded_sol_1[\"solution\"].t, \n",
    "    [(sum(GFs_1[1][i, i, k, k] for i = 1:dim) |> imag) .+ (sum(GFs_1[3][i, i, k, k] for i = 1:dim) |> imag) for k = 1:num_points_1] \n",
    "    .- sum(N_c .+ N_f)  .|> abs, ls = \"--\", c = \"C3\")\n",
    "xlim(0, tmax)\n",
    "ylim(1e-10, 2e-4)\n",
    "ax.set_xticks(0:tmax / 4:tmax)\n",
    "ylabel(\"\\$Q(t) - Q_0\\$\", labelpad = 16)\n",
    "xlabel(\"\\$J t\\$\")\n",
    "ax.xaxis.set_tick_params(pad = xpad)\n",
    "ax.yaxis.set_tick_params(pad = ypad)\n",
    "# ticklabel_format(axis = \"y\", style = \"sci\", scilimits = (-0, 0))\n",
    "ax.yaxis.set_label_position(\"right\")\n",
    "\n",
    "tight_layout(pad = 0.1, w_pad = 0.5, h_pad = 0)\n",
    "savefig(\"fermi_hubbard_T_matrix_convergence.pdf\")"
   ]
  }
 ],
 "metadata": {
  "kernelspec": {
   "display_name": "Julia 1.7.0",
   "language": "julia",
   "name": "julia-1.7"
  },
  "language_info": {
   "file_extension": ".jl",
   "mimetype": "application/julia",
   "name": "julia",
   "version": "1.7.0"
  }
 },
 "nbformat": 4,
 "nbformat_minor": 2
}
