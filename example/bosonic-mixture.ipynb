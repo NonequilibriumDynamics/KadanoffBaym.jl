{
 "cells": [
  {
   "cell_type": "markdown",
   "metadata": {},
   "source": [
    "# Bosonic Mixture with Non-Local Interaction"
   ]
  },
  {
   "cell_type": "code",
   "execution_count": null,
   "metadata": {},
   "outputs": [],
   "source": [
    "using Pkg; Pkg.activate()\n",
    "using KadanoffBaym\n",
    "using LinearAlgebra\n",
    "\n",
    "using FFTW, Interpolations\n",
    "\n",
    "using UnPack"
   ]
  },
  {
   "cell_type": "code",
   "execution_count": null,
   "metadata": {},
   "outputs": [],
   "source": [
    "using PyPlot\n",
    "PyPlot.plt.style.use(\"./paper.mplstyle\")\n",
    "using LaTeXStrings"
   ]
  },
  {
   "cell_type": "markdown",
   "metadata": {},
   "source": [
    "### Hamiltonian\n",
    "\n",
    "\\begin{align}\n",
    "    H &=  h \\sum_{i=1, 2} \\left(a^\\dagger_{i} a^{\\phantom{\\dagger}}_{i} - b^\\dagger_{i} b^{\\phantom{\\dagger}}_{i} \\right) + J \\left( a^\\dagger_{1}b^{\\phantom{\\dagger}}_{1} b^\\dagger_{2} a^{\\phantom{\\dagger}}_{2} + \\mathrm{h.c.}\\right) \n",
    "\\end{align}"
   ]
  },
  {
   "cell_type": "code",
   "execution_count": null,
   "metadata": {},
   "outputs": [],
   "source": [
    "# Container for problem data\n",
    "struct ProblemData\n",
    "    GL::GreenFunction{ComplexF64, 4, Array{ComplexF64, 4}, SkewHermitian}\n",
    "    GG::GreenFunction{ComplexF64, 4, Array{ComplexF64, 4}, SkewHermitian}\n",
    "    ΣL::GreenFunction{ComplexF64, 4, Array{ComplexF64, 4}, SkewHermitian}\n",
    "    ΣG::GreenFunction{ComplexF64, 4, Array{ComplexF64, 4}, SkewHermitian}\n",
    "    L::Int64\n",
    "    H::Matrix{ComplexF64}\n",
    "    J::Float64\n",
    "  \n",
    "    # Initialize problem\n",
    "    function ProblemData(GL0::Matrix{ComplexF64}, L::Int64, H::Matrix{ComplexF64}, J::Float64)\n",
    "        @assert H == H' \"Non-hermitian Hamiltonian\"\n",
    "\n",
    "        data = new(\n",
    "          GreenFunction(reshape(GL0, size(GL0)..., 1, 1), SkewHermitian),\n",
    "          GreenFunction(reshape(GL0 - 1.0im * I, size(GL0)..., 1, 1), SkewHermitian),\n",
    "          GreenFunction(zeros(ComplexF64, size(GL0)..., 1, 1), SkewHermitian),\n",
    "          GreenFunction(zeros(ComplexF64, size(GL0)..., 1, 1), SkewHermitian),\n",
    "          L,\n",
    "          H,\n",
    "          J\n",
    "        )\n",
    "\n",
    "        # Initialize self-energies\n",
    "        self_energies!(data, 1, 1)\n",
    "\n",
    "        return data\n",
    "    end\n",
    "end\n",
    "\n",
    "# Self-energy\n",
    "function self_energies!(data, t1, t2)\n",
    "    @unpack GL, GG, ΣL, ΣG, L, H, J = data\n",
    "\n",
    "    if (n = size(GL, 3)) > size(ΣL, 3)\n",
    "        resize!(ΣL, n)\n",
    "        resize!(ΣG, n)\n",
    "    end\n",
    "  \n",
    "    NNs = [1, 0] # nearest neighbours\n",
    "    N_mu = mu -> NNs[mu % L + 1] + mu - mu % L\n",
    "    idxs = [[(mu + L) % 2L, N_mu(mu), (N_mu(mu) + L) % 2L] .+ 1 for mu in 0:2L-1]\n",
    "    idxs = hcat(idxs...)\n",
    "    \n",
    "#     ΣL[t1, t2] = -J^2 * GL[t1, t2][idxs[1, :], idxs[1, :]] .* GL[t1, t2][idxs[2, :], idxs[2, :]] .* GG[t2, t1][idxs[3, :], idxs[3, :]] |> (diagm ∘ diag)\n",
    "#     ΣG[t1, t2] = -J^2 * GG[t1, t2][idxs[1, :], idxs[1, :]] .* GG[t1, t2][idxs[2, :], idxs[2, :]] .* GL[t2, t1][idxs[3, :], idxs[3, :]] |> (diagm ∘ diag)\n",
    "    \n",
    "    ΣL[t1, t2] = -J^2 * diag(GL[t1, t2])[idxs[1, :]] .* diag(GL[t1, t2])[idxs[2, :]] .* diag(GG[t2, t1])[idxs[3, :]] |> diagm\n",
    "    ΣG[t1, t2] = -J^2 * diag(GG[t1, t2])[idxs[1, :]] .* diag(GG[t1, t2])[idxs[2, :]] .* diag(GL[t2, t1])[idxs[3, :]] |> diagm\n",
    "end"
   ]
  },
  {
   "cell_type": "code",
   "execution_count": null,
   "metadata": {},
   "outputs": [],
   "source": [
    "    NNs = [1, 0] # nearest neighbours\n",
    "    N_mu = mu -> NNs[mu % L + 1] + mu - mu % L\n",
    "    idxs = [[(mu + L) % 2L, N_mu(mu), (N_mu(mu) + L) % 2L] .+ 1 for mu in 0:2L-1]"
   ]
  },
  {
   "cell_type": "code",
   "execution_count": null,
   "metadata": {},
   "outputs": [],
   "source": [
    "hcat(idxs...)"
   ]
  },
  {
   "cell_type": "code",
   "execution_count": null,
   "metadata": {},
   "outputs": [],
   "source": [
    "# Integration boundaries\n",
    "tspan = (0.0, 5.0)\n",
    "\n",
    "# Problem data\n",
    "data = begin\n",
    "\n",
    "    # Parameters\n",
    "    L = 2\n",
    "    h = 5.0\n",
    "    H = ComplexF64[-h 0 0 0; 0 -h 0 0; 0 0 h 0; 0 0 0 h];\n",
    "    J = 1.\n",
    "\n",
    "    # Initial condition\n",
    "    delta_n = 0.1\n",
    "#     GL0 = -1.0im * [0.5 + delta_n 0 0 0; 0 0.5 0 0; 0 0 0.5 - delta_n 0; 0 0 0 0.5]\n",
    "    GL0 = -1.0im .* 2e-1 .* [2 0 0 0; 0 1 0 0; 0 0 2 0; 0 0 0 0.5]\n",
    "\n",
    "    ProblemData(GL0, L, H, J)\n",
    "end;"
   ]
  },
  {
   "cell_type": "code",
   "execution_count": null,
   "metadata": {
    "scrolled": true
   },
   "outputs": [],
   "source": [
    "function integrate(x::AbstractVector, y::AbstractVector)\n",
    "    if isone(length(x))\n",
    "        return zero(first(y))\n",
    "    end\n",
    "\n",
    "    @inbounds retval = (x[2] - x[1]) * (y[1] + y[2])\n",
    "    @inbounds @fastmath @simd for i in 2:(length(y) - 1)\n",
    "        retval += (x[i+1] - x[i]) * (y[i] + y[i+1])\n",
    "    end\n",
    "    return 1//2 * retval\n",
    "end;\n",
    "\n",
    "# Vertical rhs\n",
    "function fv!(out, data, ts, t1, t2)\n",
    "  @unpack GL, GG, ΣL, ΣG, L, H = data\n",
    "  \n",
    "  # real-time collision integral\n",
    "  ∫dt(i, j, A, B) = sign(j-i) * integrate(ts[min(i, j):max(i, j)], [A[t1, t] * B[t, t2] for t=min(i, j):max(i, j)])\n",
    "\n",
    "  out[1] = -1.0im * (H * GL[t1, t2] + ∫dt(1, t1, ΣG, GL) - ∫dt(1, t1, ΣL, GL) + ∫dt(1, t2, ΣL, GL) - ∫dt(1, t2, ΣL, GG))\n",
    "  out[2] = -1.0im * (H * GG[t1, t2] + ∫dt(1, t1, ΣG, GG) - ∫dt(1, t1, ΣL, GG) + ∫dt(1, t2, ΣG, GL) - ∫dt(1, t2, ΣG, GG))\n",
    "end\n",
    "\n",
    "# Diagonal rhs\n",
    "function fd!(out, data, ts, t1, t2)\n",
    "  fv!(out, data, ts, t1, t2)\n",
    "  out .-= adjoint.(out)\n",
    "end\n",
    "\n",
    "# Integration\n",
    "sol = kbsolve!(\n",
    "  (out, x...) -> fv!(out, data, x...), \n",
    "  (out, x...) -> (println(\" t: $(x[1][x[2]])\"); fd!(out, data, x...)), \n",
    "  [data.GL, data.GG], \n",
    "  tspan; \n",
    "  callback = (_, x...) -> self_energies!(data, x...), \n",
    "  atol=1e-10, \n",
    "  rtol=1e-8);"
   ]
  },
  {
   "cell_type": "code",
   "execution_count": null,
   "metadata": {
    "scrolled": true
   },
   "outputs": [],
   "source": [
    "sol.t |> size"
   ]
  },
  {
   "cell_type": "markdown",
   "metadata": {
    "heading_collapsed": true
   },
   "source": [
    "### Integration with higher-order methods?!"
   ]
  },
  {
   "cell_type": "code",
   "execution_count": null,
   "metadata": {
    "hidden": true
   },
   "outputs": [],
   "source": [
    "# Vertical rhs\n",
    "function fv!(out, data, v1, v2, ts, t1, t2)\n",
    "  @unpack GL, GG, ΣL, ΣG, L, H = data\n",
    "\n",
    "  out[1] = -1.0im * (H * GL[t1, t2] + v1[1] + v2[1])\n",
    "  out[2] = -1.0im * (H * GG[t1, t2] + v1[2] + v2[2])\n",
    "end\n",
    "\n",
    "function kv1!(out, data, ts, t1, t2, τ)\n",
    "    @unpack GL, GG, ΣL, ΣG, L, H = data\n",
    "    \n",
    "    out[1] = ΣG[t1, τ] .* GL[τ, t2] - ΣL[t1, τ] .* GL[τ, t2]\n",
    "    out[2] = ΣG[t1, τ] .* GG[τ, t2] - ΣL[t1, τ] .* GG[τ, t2]                      \n",
    "end\n",
    "\n",
    "function kv2!(out, data, ts, t1, t2, τ)\n",
    "    @unpack GL, GG, ΣL, ΣG, L, H = data\n",
    "    \n",
    "    out[1] = ΣL[t1, τ] .* GL[τ, t2] - ΣL[t1, τ] .* GG[τ, t2]\n",
    "    out[2] = ΣG[t1, τ] .* GL[τ, t2] - ΣG[t1, τ] .* GG[τ, t2]   \n",
    "end\n",
    "\n",
    "\n",
    "# Diagonal rhs\n",
    "function fd!(out, data, v1, v2, ts, t1, t2)\n",
    "  @unpack GL, GG, ΣL, ΣG, L, H = data\n",
    "    \n",
    "  fv!(out, data, v1, v2, ts, t1, t2)\n",
    "  out .-= adjoint.(out)\n",
    "end\n",
    "\n",
    "function kd1!(out, data, ts, t1, t2, τ)\n",
    "    kv1!(out, data, ts, t1, t2, τ)\n",
    "end\n",
    "\n",
    "function kd2!(out, data, ts, t1, t2, τ)\n",
    "    kv2!(out, data, ts, t1, t2, τ)\n",
    "end\n",
    "\n",
    "# Integration\n",
    "sol = kbsolve!(\n",
    "  (out, x...) -> fv!(out, data, x...), \n",
    "  (out, x...) -> (println(\" t: $(x[3][x[4]])\"); fd!(out, data, x...)), \n",
    "  [data.GL, data.GG], \n",
    "  tspan;\n",
    "  kv1! = (out, x...) -> kv1!(out, data, x...),\n",
    "  kv2! = (out, x...) -> kv2!(out, data, x...),\n",
    "  kd1! = (out, x...) -> kv1!(out, data, x...),\n",
    "  kd2! = (out, x...) -> kv2!(out, data, x...),\n",
    "  callback = (_, x...) -> self_energies!(data, x...), \n",
    "  atol=1e-10, \n",
    "  rtol=1e-5);"
   ]
  },
  {
   "cell_type": "code",
   "execution_count": null,
   "metadata": {
    "hidden": true
   },
   "outputs": [],
   "source": [
    "sol.t |> size"
   ]
  },
  {
   "cell_type": "markdown",
   "metadata": {
    "heading_collapsed": true
   },
   "source": [
    "## QuTiP benchmark"
   ]
  },
  {
   "cell_type": "code",
   "execution_count": null,
   "metadata": {
    "hidden": true
   },
   "outputs": [],
   "source": [
    "using PyCall\n",
    "qt = pyimport(\"qutip\")"
   ]
  },
  {
   "cell_type": "code",
   "execution_count": null,
   "metadata": {
    "hidden": true,
    "scrolled": true
   },
   "outputs": [],
   "source": [
    "# time parameters\n",
    "times = range(first(sol.t), stop=last(sol.t), length=128+1) # range(tspan[1]; stop=tspan[2], length=length(state.t));\n",
    "n = length(times) - 1"
   ]
  },
  {
   "cell_type": "markdown",
   "metadata": {
    "hidden": true
   },
   "source": [
    "### Hamiltonian"
   ]
  },
  {
   "cell_type": "code",
   "execution_count": null,
   "metadata": {
    "hidden": true
   },
   "outputs": [],
   "source": [
    "n_max = 2; # Fock-space truncation\n",
    "\n",
    "# initial state\n",
    "psi0 = qt.tensor([(sqrt(1 - 1.0im * data.GL[1, 1][k, k]) * qt.basis(n_max + 1, 0) \n",
    "            + sqrt(1.0im * data.GL[1, 1][k, k]) * qt.basis(n_max + 1, 1)).unit() for k in 1:2*L]);\n",
    "\n",
    "# operators\n",
    "ids = [qt.qeye(n_max + 1), qt.qeye(n_max + 1), qt.qeye(n_max + 1), qt.qeye(n_max + 1)]\n",
    "ops = [deepcopy(ids) for _ in 1:4]\n",
    "\n",
    "for (i, op) in enumerate(ops)\n",
    "    op[i] = qt.destroy(n_max + 1)\n",
    "end\n",
    "\n",
    "ops = qt.tensor.(ops)\n",
    "b1, b2, a1, a2 = ops;"
   ]
  },
  {
   "cell_type": "code",
   "execution_count": null,
   "metadata": {
    "hidden": true
   },
   "outputs": [],
   "source": [
    "# make diagonal density matrix (i.e. dropping coherences)\n",
    "rho0 = psi0 * psi0.dag();\n",
    "for j in 1:rho0.shape[2] , i in 1:rho0.shape[1]\n",
    "    i != j ? rho0.data[i, j] = 0.0 : continue\n",
    "end"
   ]
  },
  {
   "cell_type": "code",
   "execution_count": null,
   "metadata": {
    "hidden": true
   },
   "outputs": [],
   "source": [
    "H  = -h * b1.dag() * b1\n",
    "H += -h * b2.dag() * b2\n",
    "H += +h * a1.dag() * a1\n",
    "H += +h * a2.dag() * a2\n",
    "H += J * (a1.dag() * b1 * b2.dag() * a2 + b1.dag() * a1 * a2.dag() * b2)\n",
    "\n",
    "# observables\n",
    "obs = [b1.dag() * b1, b2.dag() * b2, a1.dag() * a1, a2.dag() * a2,\n",
    "       b1.dag() * a1, b2.dag() * a2, b2.dag() * a1, a2.dag() * b1,\n",
    "       b1 * b1.dag()];"
   ]
  },
  {
   "cell_type": "markdown",
   "metadata": {
    "hidden": true
   },
   "source": [
    "### Simulation"
   ]
  },
  {
   "cell_type": "code",
   "execution_count": null,
   "metadata": {
    "hidden": true
   },
   "outputs": [],
   "source": [
    "# quickly solve once for observables\n",
    "# me = qt.mesolve(H, psi0, times, [], obs)\n",
    "me = qt.mesolve(H, rho0, times, [], obs)\n",
    "\n",
    "# solve for the time-dependent density matrix\n",
    "# t_sols = qt.mesolve(H, psi0, times); # t_sols.states returns state vectors\n",
    "t_sols = qt.mesolve(H, rho0, times); # t_sols.states returns density matrices"
   ]
  },
  {
   "cell_type": "markdown",
   "metadata": {
    "hidden": true
   },
   "source": [
    "#### Two times"
   ]
  },
  {
   "cell_type": "code",
   "execution_count": null,
   "metadata": {
    "hidden": true
   },
   "outputs": [],
   "source": [
    "# -i<X(t2)Y(t1)>\n",
    "function two_time_average(X, Y, rho_t1)\n",
    "    X_t2_Y_t1 = zeros(ComplexF64, n + 1, n + 1)\n",
    "    for k in 1:(n + 1)\n",
    "        Y_rho_t1 = qt.mesolve(H, Y * rho_t1.states[k], times).states\n",
    "        for l in 1:(n + 1)\n",
    "            X_t2_Y_t1[k, l] = -1.0im * (X * Y_rho_t1[l]).tr()    \n",
    "        end\n",
    "    end\n",
    "    \n",
    "    unskewed_X_t2_Y_t1 = zeros(ComplexF64, n + 1, 2*(n + 1) - 1)\n",
    "    for (k, x) in enumerate([X_t2_Y_t1[k, :] for k in 1:(n + 1)])\n",
    "        for (l, y) in enumerate(x)\n",
    "            ind = k + l - 1\n",
    "            unskewed_X_t2_Y_t1[k, ind] = y \n",
    "        end\n",
    "    end    \n",
    "    return unskewed_X_t2_Y_t1[:, 1:n+1]\n",
    "end;"
   ]
  },
  {
   "cell_type": "code",
   "execution_count": null,
   "metadata": {
    "hidden": true
   },
   "outputs": [],
   "source": [
    "create_destroy = [zeros(ComplexF64, n + 1, n + 1) for _ in 1:1]#2L]\n",
    "destroy_create = [zeros(ComplexF64, n + 1, n + 1) for _ in 1:1]#2L];"
   ]
  },
  {
   "cell_type": "code",
   "execution_count": null,
   "metadata": {
    "hidden": true
   },
   "outputs": [],
   "source": [
    "destroyers = [b1, b2, a1, a2]\n",
    "for k in 1:1#2L\n",
    "    create_destroy[k] = two_time_average(destroyers[k].dag(), destroyers[k], t_sols)\n",
    "    destroy_create[k] = two_time_average(destroyers[k], destroyers[k].dag(), t_sols)\n",
    "    # flip real part when creation operator is to the right \n",
    "    # (equivalent to flipping the sign of tau)\n",
    "    destroy_create[k] = -conj(destroy_create[k]) #-1.0 * real(destroy_create[k]) + 1.0im * imag(destroy_create[k])\n",
    "end"
   ]
  },
  {
   "cell_type": "code",
   "execution_count": null,
   "metadata": {
    "hidden": true
   },
   "outputs": [],
   "source": [
    "unskewed_b1_dag_b1 = create_destroy[1]\n",
    "unskewed_b1_b1_dag = destroy_create[1]\n",
    "# unskewed_b1_dag_b1_minus_b1_b1_dag = (unskewed_b1_dag_b1 .- unskewed_b1_b1_dag) #unskewed_b1_dag_b1_minus_b1_b1_dag[:, 1:n+1];"
   ]
  },
  {
   "cell_type": "code",
   "execution_count": null,
   "metadata": {
    "hidden": true
   },
   "outputs": [],
   "source": [
    "full_square = A -> (A - adjoint(A) - (A |> diag |> diagm)) \n",
    "\n",
    "# unskewed_b1_dag_b1 = full_square(unskewed_b1_dag_b1)\n",
    "# unskewed_b1_b1_dag = full_square(unskewed_b1_b1_dag)\n",
    "# unskewed_b1_dag_b1_minus_b1_b1_dag = full_square(unskewed_b1_dag_b1_minus_b1_b1_dag);"
   ]
  },
  {
   "cell_type": "code",
   "execution_count": null,
   "metadata": {
    "hidden": true
   },
   "outputs": [],
   "source": [
    "figure(figsize=(6, 2))\n",
    "subplot(121)\n",
    "# imshow(real(b1_dag_b1_minus_b1_b1_dag), cmap=\"plasma\")\n",
    "imshow(real(full_square(unskewed_b1_dag_b1) |> transpose), cmap=\"plasma\")\n",
    "\n",
    "subplot(122)\n",
    "imshow(real(full_square(unskewed_b1_dag_b1)), cmap=\"plasma\")\n",
    "\n",
    "tight_layout()"
   ]
  },
  {
   "cell_type": "markdown",
   "metadata": {},
   "source": [
    "## Plotting"
   ]
  },
  {
   "cell_type": "code",
   "execution_count": null,
   "metadata": {},
   "outputs": [],
   "source": [
    "T = sol.t[end]\n",
    "t_scale = (J == 0. ? 1. : J)\n",
    "ω_scale = (J == 0. ? 1. : 1/J);"
   ]
  },
  {
   "cell_type": "markdown",
   "metadata": {},
   "source": [
    "### Equal-time"
   ]
  },
  {
   "cell_type": "code",
   "execution_count": null,
   "metadata": {},
   "outputs": [],
   "source": [
    "xpad = 8\n",
    "ypad = 5\n",
    "\n",
    "figure(figsize=(7, 3))\n",
    "\n",
    "ax = subplot(121)\n",
    "idx = 1\n",
    "ax.plot(sol.t, data.GL.data[idx, idx ,:,:] |> ((-) ∘ imag ∘ diag), ls=\"-\", label=\"\\$i=\"*string((idx - 1) % 2 + 1)*\"\\$\", c=\"C0\")\n",
    "ax.plot(times, me.expect[idx], \"--\", c=\"C0\", lw=3, alpha=0.5)\n",
    "idx = 2\n",
    "ax.plot(sol.t, data.GL.data[idx, idx ,:,:] |> ((-) ∘ imag ∘ diag), ls=\":\", label=\"\\$i=\"*string((idx - 1) % 2 + 1)*\"\\$\", c=\"C1\")\n",
    "ax.plot(times, me.expect[idx], \"-.\", c=\"C1\", lw=3, alpha=0.5)\n",
    "ax.set_xlabel(\"\\$Jt\\$\") \n",
    "ylabel(\"\\$-\\\\mathrm{Im}\\\\; \\\\mathcal{A}^<_{i,\\\\, i}(t, t)\\$\", labelpad=10)\n",
    "ax.set_xticks([0, 2.5, 5])\n",
    "ax.set_xlim(0, sol.t[end]) \n",
    "ax.set_ylim(0, 0.5)\n",
    "ax.legend(loc=\"best\", handlelength=1.4, frameon=false, borderpad=0, labelspacing=0.25)\n",
    "\n",
    "ax = subplot(122)\n",
    "idx = 3\n",
    "ax.plot(sol.t, data.GL.data[idx, idx ,:,:] |> ((-) ∘ imag ∘ diag), ls=\"-\", label=\"\\$i=\"*string((idx - 1) % 2 + 1)*\"\\$\", c=\"C2\")\n",
    "ax.plot(times, me.expect[idx], \"--\", c=\"C2\", lw=3, alpha=0.5)\n",
    "idx = 4\n",
    "ax.plot(sol.t, data.GL.data[idx, idx ,:,:] |> ((-) ∘ imag ∘ diag), ls=\":\", label=\"\\$i=\"*string((idx - 1) % 2 + 1)*\"\\$\", c=\"C3\")\n",
    "ax.plot(times, me.expect[idx], \"-.\", c=\"C3\", lw=3, alpha=0.5)\n",
    "ax.set_xlabel(\"\\$Jt\\$\") \n",
    "ylabel(\"\\$-\\\\mathrm{Im}\\\\; \\\\mathcal{B}^<_{i,\\\\, i}(t, t)\\$\", labelpad=16)\n",
    "ax.yaxis.set_label_position(\"right\")\n",
    "ax.set_xticks([0, 2.5, 5])\n",
    "ax.set_yticklabels([])\n",
    "ax.set_xlim(0, sol.t[end]) \n",
    "ax.set_ylim(0, 0.5)\n",
    "# ax.ticklabel_format(style=\"sci\", axis=\"y\", scilimits=(0, 0))\n",
    "ax.legend(loc=\"best\", handlelength=1.4, frameon=false, borderpad=0, labelspacing=0.25)\n",
    "tight_layout(pad=0.25, w_pad=1, h_pad=0)\n",
    "savefig(\"interacting_bosons_example_1.pdf\")"
   ]
  },
  {
   "cell_type": "markdown",
   "metadata": {},
   "source": [
    "### Relative-time"
   ]
  },
  {
   "cell_type": "code",
   "execution_count": null,
   "metadata": {},
   "outputs": [],
   "source": [
    "idx = 1;"
   ]
  },
  {
   "cell_type": "code",
   "execution_count": null,
   "metadata": {
    "scrolled": true
   },
   "outputs": [],
   "source": [
    "ρ_11_kb = interpolate((sol.t, sol.t), view(data.GL.data .- data.GG.data, idx, idx, :, : ), Gridded(Linear()));\n",
    "ρ_11_qt = interpolate((times, times), view(full_square(create_destroy[idx] .- destroy_create[idx]), :, : ), Gridded(Linear()));\n",
    "# ρ_11_qt = full_square(create_destroy[idx] .- destroy_create[idx]); "
   ]
  },
  {
   "cell_type": "code",
   "execution_count": null,
   "metadata": {},
   "outputs": [],
   "source": [
    "# ρ_11_kb = interpolate((sol.t, sol.t), view(data.GG.data, idx, idx, :, : ), Gridded(Linear()));\n",
    "# ρ_11_qt = full_square(destroy_create[idx]);"
   ]
  },
  {
   "cell_type": "code",
   "execution_count": null,
   "metadata": {},
   "outputs": [],
   "source": [
    "new_times = range(first(sol.t), stop=last(sol.t), length=2048);"
   ]
  },
  {
   "cell_type": "code",
   "execution_count": null,
   "metadata": {},
   "outputs": [],
   "source": [
    "ρ_11_kb_wigner, (taus, ts) = wigner_transform([ρ_11_kb(t1, t2) for t1 in new_times, t2 in new_times]; ts=new_times, fourier=false);\n",
    "ρ_11_kb_wigner = ρ_11_kb_wigner\n",
    "\n",
    "# ρ_11_qt_wigner, (taus_qt, ts_qt) = wigner_transform([ρ_11_qt[t1, t2] for t1 in 1:n+1, t2 in 1:n+1]; ts=times, fourier=false);\n",
    "ρ_11_qt_wigner, (taus_qt, ts_qt) = wigner_transform([ρ_11_qt(t1, t2) for t1 in new_times, t2 in new_times]; ts=new_times, fourier=false);\n",
    "ρ_11_qt_wigner = ρ_11_qt_wigner;\n",
    "\n",
    "ρ_11_kb_FFT, (ωs, ts) = wigner_transform([ρ_11_kb(t1, t2) for t1 in new_times, t2 in new_times]; ts=new_times, fourier=true);\n",
    "# ρ_11_kb_FFT = -ρ_11_kb_FFT\n",
    "\n",
    "# ρ_11_qt_FFT, (ωs_qt, ts_qt) = wigner_transform([ρ_11_qt[t1, t2] for t1 in 1:n+1, t2 in 1:n+1]; ts=times, fourier=true);\n",
    "ρ_11_qt_FFT, (ωs_qt, ts_qt) = wigner_transform([ρ_11_qt(t1, t2) for t1 in new_times, t2 in new_times]; ts=new_times, fourier=true);\n",
    "# ρ_11_qt_FFT = -ρ_11_qt_FFT;"
   ]
  },
  {
   "cell_type": "markdown",
   "metadata": {},
   "source": [
    "## Testing"
   ]
  },
  {
   "cell_type": "code",
   "execution_count": null,
   "metadata": {},
   "outputs": [],
   "source": [
    "# plot_kb = ρ_11_kb_FFT[:, center] |> imag\n",
    "# plot_kb = plot_kb ./ maximum(plot_kb)\n",
    "\n",
    "# plot_qt = ρ_11_qt_FFT[:, center] |> imag\n",
    "# plot_qt = plot_qt ./ maximum(plot_qt)"
   ]
  },
  {
   "cell_type": "code",
   "execution_count": null,
   "metadata": {},
   "outputs": [],
   "source": [
    "xpad = 8\n",
    "ypad = 5\n",
    "\n",
    "center = floor(length(new_times) / 2) |> Int\n",
    "\n",
    "figure(figsize=(7, 3))\n",
    "\n",
    "\n",
    "ax = subplot(121)\n",
    "# plot(ω_scale * ωs, plot_kb, \"-\", c=\"C0\", lw=1.5)\n",
    "# plot(ω_scale * ωs_qt, plot_qt, ls=\"--\", c=\"C0\", lw=2.5, alpha=0.5)\n",
    "plot(t_scale * taus, ρ_11_kb_wigner[:, center] |> imag, ls=\"-\", c=\"C0\", lw=1.5)\n",
    "plot(t_scale * taus_qt, ρ_11_qt_wigner[:, center] |> imag, ls=\"--\", c=\"C0\", lw=2.5, alpha=0.5)\n",
    "\n",
    "# ax.set_xlim(10 .* (-1, 0))\n",
    "# ax.set_ylim(0, 0.11)\n",
    "# ax.set_xticks([x for x in -10:5:10])\n",
    "ax.xaxis.set_tick_params(pad=xpad)\n",
    "ax.yaxis.set_tick_params(pad=ypad)\n",
    "# ax.set_xlabel(\"\\$\\\\omega/J\\$\")\n",
    "ax.set_xlabel(L\"J \\tau\")\n",
    "ax.set_ylabel(L\"\\mathrm{Re}\\,A_{\\mathcal{A}_{1,\\, 1}}(T, \\tau)_W\")\n",
    "ax.set_xlim(-t_scale * T, t_scale * T)\n",
    "ax.set_ylim(-1.0, 1.0)\n",
    "# ax.legend(loc=\"best\", handlelength=1.4, frameon=false, borderpad=0, labelspacing=0.25)\n",
    "\n",
    "ax = subplot(122)\n",
    "plot(t_scale * taus, -ρ_11_kb_wigner[:, center] |> real, ls=\"-\", c=\"C0\", lw=1.5)\n",
    "plot(t_scale * taus_qt, -ρ_11_qt_wigner[:, center] |> real, ls=\"--\", c=\"C0\", lw=2.5, alpha=0.5)\n",
    "ax.set_xlabel(L\"J \\tau\")\n",
    "ax.set_xlim(-t_scale * T, t_scale * T)\n",
    "ax.set_ylim(-1.0, 1.0)\n",
    "# ax.set_xticks(t_scale .* [-T/2, -T/4, 0, T/4, T/2])\n",
    "ax.set_yticklabels([])\n",
    "ax.xaxis.set_tick_params(pad=xpad)\n",
    "ax.yaxis.set_tick_params(pad=ypad)\n",
    "ax.set_ylabel(L\"\\mathrm{Im}\\,A_{\\mathcal{A}_{1,\\, 1}}(T, \\tau)_W\", labelpad=16)\n",
    "ax.yaxis.set_label_position(\"right\")\n",
    "\n",
    "tight_layout(pad=0.1, w_pad=1, h_pad=0)\n",
    "\n",
    "savefig(\"interacting_bosons_example_2.pdf\")"
   ]
  },
  {
   "cell_type": "code",
   "execution_count": null,
   "metadata": {},
   "outputs": [],
   "source": [
    "xpad = 8\n",
    "ypad = 5\n",
    "\n",
    "figure(figsize=(7, 3))\n",
    "\n",
    "ax = subplot(121)\n",
    "plot(t_scale * taus, ρ_11_kb_wigner[:, Int(floor(n/2))] |> real, ls=\"-\", c=\"C0\", lw=1.5)\n",
    "plot(t_scale * taus, ρ_11_qt_wigner[:, Int(floor(n/2))] |> real, ls=\"--\", c=\"C0\", lw=2.5)\n",
    "plot(t_scale * taus, ρ_11_kb_wigner[:, Int(floor(n/2))] |> imag, ls=\"-\", c=\"C3\", lw=1.5)\n",
    "plot(t_scale * taus, ρ_11_qt_wigner[:, Int(floor(n/2))] |> imag, ls=\"--\", c=\"C3\", lw=2.5)\n",
    "ax.set_xlabel(\"\\$J \\\\tau\\$\")\n",
    "# ax.set_xlim(-t_scale * T, t_scale * T)\n",
    "# ax.set_ylim(-1.0, 1.0)\n",
    "# ax.set_xticks(t_scale .* [-T/2, -T/4, 0, T/4, T/2])\n",
    "ax.xaxis.set_tick_params(pad=xpad)\n",
    "ax.yaxis.set_tick_params(pad=ypad)\n",
    "ax.set_ylabel(L\"A_{0,\\, 0}(\\tau, T)\")\n",
    "\n",
    "ax = subplot(122)\n",
    "plot(ω_scale * ωs, ρ_11_kb_FFT[:, Int(floor(n/2))] |> real, ls=\"-\", c=\"C0\", lw=1.5)\n",
    "plot(ω_scale * ωs, ρ_11_qt_FFT[:, Int(floor(n/2))] |> real, ls=\"--\", c=\"C0\", lw=2.5)\n",
    "plot(ω_scale * ωs, ρ_11_kb_FFT[:, Int(floor(n/2))] |> imag, ls=\"-\", c=\"C3\", lw=1.5)\n",
    "plot(ω_scale * ωs, ρ_11_qt_FFT[:, Int(floor(n/2))] |> imag, ls=\"--\", c=\"C3\", lw=2.5)\n",
    "ax.set_xlabel(\"\\$\\\\omega/J\\$\")\n",
    "ax.set_xlim(10 .* (-1, 1))\n",
    "# ax.set_ylim(0, 6.0)\n",
    "ax.set_xticks([x for x in -10:5:10])\n",
    "ax.xaxis.set_tick_params(pad=xpad)\n",
    "ax.yaxis.set_tick_params(pad=ypad)\n",
    "ax.set_ylabel(\"\\$A_{0,\\\\, 0}(\\\\omega, T)\\$\", labelpad=16)\n",
    "ax.yaxis.set_label_position(\"right\")\n",
    "# ax.legend(loc=\"best\", handlelength=1.4, frameon=false, borderpad=0, labelspacing=0.25)\n",
    "\n",
    "tight_layout(pad=0.1, w_pad=0.5, h_pad=0)\n",
    "\n",
    "# savefig(\"interacting_bosons_example_tau_omega.pdf\")"
   ]
  },
  {
   "cell_type": "code",
   "execution_count": null,
   "metadata": {},
   "outputs": [],
   "source": [
    "function meshgrid(xin,yin)\n",
    "  nx=length(xin)\n",
    "  ny=length(yin)\n",
    "  xout=zeros(ny,nx)\n",
    "  yout=zeros(ny,nx)\n",
    "  for jx=1:nx\n",
    "      for ix=1:ny\n",
    "          xout[ix,jx]=xin[jx]\n",
    "          yout[ix,jx]=yin[ix]\n",
    "      end\n",
    "  end\n",
    "  return (x=xout, y=yout)\n",
    "end"
   ]
  },
  {
   "cell_type": "code",
   "execution_count": null,
   "metadata": {},
   "outputs": [],
   "source": [
    "cmap = \"gist_heat\"\n",
    "Y, X = meshgrid(sol.t[1:end], sol.t[1:end]);"
   ]
  },
  {
   "cell_type": "code",
   "execution_count": null,
   "metadata": {},
   "outputs": [],
   "source": [
    "figure(figsize=(7, 3))\n",
    "\n",
    "ax = subplot(121)\n",
    "plot(t_scale .* times, full_square(unskewed_b1_dag_b1) |> diag |> (-) |> imag, \"-C0\", lw=1.5)\n",
    "plot(t_scale .* times, (unskewed_b1_b1_dag - unskewed_b1_dag_b1) |> diag |> (-) |> imag, \":C0\", lw=1.5)\n",
    "plot(t_scale .* times, me.expect[1], \"--C3\", lw=1.5)\n",
    "# plot(t_scale .* times, me.expect[end] - me.expect[1], \":C7\", lw=1.5)\n",
    "\n",
    "ax = subplot(122)\n",
    "plot(t_scale .* times, full_square(unskewed_b1_b1_dag) |> diag |> (-) |> imag, \"-C0\", lw=1.5)\n",
    "\n",
    "plot(t_scale .* times, me.expect[1], \"--C3\", lw=1.5)\n",
    "plot(t_scale .* times, me.expect[end], \"--C3\", lw=1.5)\n",
    "\n",
    "tight_layout()"
   ]
  },
  {
   "cell_type": "code",
   "execution_count": null,
   "metadata": {},
   "outputs": [],
   "source": [
    "plot(sol.t, sum([data.GL.data[k, k ,:,:] - data.GG.data[k, k ,:,:] |> ((-) ∘ imag ∘ diag) for k in 1:4]))"
   ]
  },
  {
   "cell_type": "code",
   "execution_count": null,
   "metadata": {},
   "outputs": [],
   "source": [
    "xpad = 8\n",
    "ypad = 5\n",
    "\n",
    "figure(figsize=(7, 3))\n",
    "\n",
    "ax = subplot(121)\n",
    "vmin = -0.5 # minimum(ρ_11)\n",
    "vmax = 1.0 # maximum(ρ_11)\n",
    "# ax = plt.gca()\n",
    "heatmap = ax.pcolormesh(t_scale * X, t_scale * Y, data.GG.data[1, 1, :, :] |> imag, cmap=cmap, rasterized=true)#, vmin=vmin, vmax=vmax)\n",
    "heatmap.set_edgecolor(\"face\")\n",
    "ax.set_aspect(\"equal\")\n",
    "colorbar(mappable=heatmap)\n",
    "ax.set_xlabel(\"\\$\\\\lambda t\\$\")\n",
    "ax.set_ylabel(\"\\$\\\\lambda t'\\$\")\n",
    "ax.set_xlim(0, t_scale * T)\n",
    "ax.set_ylim(0, t_scale * T)\n",
    "ax.set_xticks(t_scale .* [0, T/2, T])\n",
    "ax.set_yticks(t_scale .* [0, T/2, T])\n",
    "\n",
    "\n",
    "ax = subplot(122)\n",
    "vmin = -0.5 # minimum(ρ_11)\n",
    "vmax = 1.0 # maximum(ρ_11)\n",
    "# ax = plt.gca()\n",
    "heatmap = ax.pcolormesh(t_scale * X, t_scale * Y, (data.GL.data[1, 1, :, :] - data.GG.data[1, 1, :, :]) |> imag, cmap=cmap, rasterized=true)#, vmin=vmin, vmax=vmax)\n",
    "heatmap.set_edgecolor(\"face\")\n",
    "ax.set_aspect(\"equal\")\n",
    "colorbar(mappable=heatmap)\n",
    "ax.set_xlabel(\"\\$\\\\lambda t\\$\")\n",
    "ax.set_ylabel(\"\\$\\\\lambda t'\\$\")\n",
    "ax.set_xlim(0, t_scale * T)\n",
    "ax.set_ylim(0, t_scale * T)\n",
    "ax.set_xticks(t_scale .* [0, T/2, T])\n",
    "ax.set_yticks(t_scale .* [0, T/2, T])\n",
    "\n",
    "tight_layout()"
   ]
  },
  {
   "cell_type": "code",
   "execution_count": null,
   "metadata": {},
   "outputs": [],
   "source": [
    "test_kb = interpolate((sol.t, sol.t), view(-data.GL.data[3, 3, :, :] .* data.GG.data[1, 1, :, :], :, :), Gridded(Linear()));\n",
    "# test_kb = interpolate((sol.t, sol.t), view(-data.GL.data, 2, 2, :, :), Gridded(Linear()));\n",
    "test_kb_wigner, (test_taus, test_ts) = wigner_transform([test_kb(t1, t2) for t1 in times, t2 in times]; ts=times, fourier=false);\n",
    "test_kb_wigner = test_kb_wigner |> imag;"
   ]
  },
  {
   "cell_type": "code",
   "execution_count": null,
   "metadata": {},
   "outputs": [],
   "source": [
    "figure(figsize=(7, 3))\n",
    "\n",
    "ax = subplot(121)\n",
    "vmin = -0.5 # minimum(ρ_11)\n",
    "vmax = 1.0 # maximum(ρ_11)\n",
    "# ax = plt.gca()\n",
    "heatmap = ax.pcolormesh(t_scale * X, t_scale * Y, test_kb(times, times) |> real, cmap=cmap, rasterized=true)#, vmin=vmin, vmax=vmax)\n",
    "heatmap.set_edgecolor(\"face\")\n",
    "ax.set_aspect(\"equal\")\n",
    "colorbar(mappable=heatmap)"
   ]
  },
  {
   "cell_type": "code",
   "execution_count": null,
   "metadata": {},
   "outputs": [],
   "source": []
  }
 ],
 "metadata": {
  "kernelspec": {
   "display_name": "Julia 1.6.0",
   "language": "julia",
   "name": "julia-1.6"
  },
  "language_info": {
   "file_extension": ".jl",
   "mimetype": "application/julia",
   "name": "julia",
   "version": "1.6.0"
  }
 },
 "nbformat": 4,
 "nbformat_minor": 4
}
