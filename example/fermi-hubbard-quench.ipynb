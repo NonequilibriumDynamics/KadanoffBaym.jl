{
 "cells": [
  {
   "cell_type": "markdown",
   "metadata": {},
   "source": [
    "# Quenched Fermi-Hubbard Model"
   ]
  },
  {
   "cell_type": "code",
   "execution_count": 770,
   "metadata": {},
   "outputs": [
    {
     "name": "stderr",
     "output_type": "stream",
     "text": [
      "\u001b[32m\u001b[1m  Activating\u001b[22m\u001b[39m environment at `~/.julia/environments/v1.6/Project.toml`\n"
     ]
    }
   ],
   "source": [
    "using Pkg; Pkg.activate()\n",
    "using KadanoffBaym\n",
    "using LinearAlgebra, BlockArrays\n",
    "using UnPack\n",
    "using JLD"
   ]
  },
  {
   "cell_type": "code",
   "execution_count": 771,
   "metadata": {},
   "outputs": [],
   "source": [
    "using PyPlot\n",
    "PyPlot.plt.style.use(\"./paper.mplstyle\")"
   ]
  },
  {
   "cell_type": "markdown",
   "metadata": {},
   "source": [
    "## Model"
   ]
  },
  {
   "cell_type": "markdown",
   "metadata": {},
   "source": [
    "### Hamiltonian\n",
    "\n",
    "$$\n",
    "\\begin{align}\\begin{split}\n",
    "    \\hat{H} &= - J \\sum_{\\langle{i,\\,j}\\rangle}\\sum_\\sigma \\hat{c}^{\\dagger}_{i,\\sigma} \\hat{c}^{\\phantom{\\dagger}}_{i+1,\\sigma} + U\\sum_{i=1}^L  \\hat{c}^{\\dagger}_{i,\\uparrow} \\hat{c}^{\\phantom{\\dagger}}_{i,\\uparrow}   \\hat{c}^{\\dagger}_{i,\\downarrow} \\hat{c}^{\\phantom{\\dagger}}_{i,\\downarrow}, \n",
    "\\end{split}\\end{align}\n",
    "$$\n",
    "\n",
    "### Green functions\n",
    "\n",
    "$$\n",
    "    G^>_{ij}(t, t') = -i \\left\\langle \\hat{c}^{\\phantom{\\dagger}}_{i,\\uparrow}(t) \\hat{c}^{{\\dagger}}_{i,\\uparrow}(t') \\right\\rangle\\\\\n",
    "    F^>_{ij}(t, t') = -i \\left\\langle \\hat{c}^{\\phantom{\\dagger}}_{i,\\downarrow}(t) \\hat{c}^{{\\dagger}}_{i,\\downarrow}(t') \\right\\rangle\\\\\n",
    "$$\n",
    "\n",
    "### Self-energies\n",
    "\n",
    "$$\n",
    "    \\Sigma^{\\mathrm{HF}}_{\\uparrow,\\,ij}(t, t') = {\\mathrm{i}}\\delta_{ij}\\delta(t - t') F^<_{ii}(t, t)\\\\\n",
    "    \\Sigma^{\\mathrm{HF}}_{\\downarrow,\\,ij}(t, t') = {\\mathrm{i}}\\delta_{ij}\\delta(t - t') G^<_{ii}(t, t)\n",
    "$$\n",
    "\n",
    "$$\n",
    "    \\Sigma^{\\mathrm{NCA}}_{\\uparrow,\\,ij}(t, t') = U^2 G_{ij}(t, t') F_{ij}(t, t') F_{ji}(t', t)\\\\\n",
    "    \\Sigma^{\\mathrm{NCA}}_{\\downarrow,\\,ij}(t, t') = U^2 F_{ij}(t, t') G_{ij}(t, t') G_{ji}(t', t)\n",
    "$$"
   ]
  },
  {
   "cell_type": "markdown",
   "metadata": {},
   "source": [
    "## Solving"
   ]
  },
  {
   "cell_type": "code",
   "execution_count": 772,
   "metadata": {},
   "outputs": [],
   "source": [
    "num_sites = 8;"
   ]
  },
  {
   "cell_type": "code",
   "execution_count": 773,
   "metadata": {},
   "outputs": [],
   "source": [
    "# 8-site 3D cubic lattice\n",
    "h = BlockArray{ComplexF64}(undef_blocks, [4, 4], [4, 4])\n",
    "diag_block = [0 -1 0 -1; -1 0 -1 0; 0 -1 0 -1; -1 0 -1 0]\n",
    "setblock!(h, diag_block, 1, 1)\n",
    "setblock!(h, diag_block, 2, 2)\n",
    "setblock!(h, Diagonal(-1 .* ones(4)), 1, 2)\n",
    "setblock!(h, Diagonal(-1 .* ones(4)), 2, 1)\n",
    "\n",
    "full_h = BlockArray{ComplexF64}(undef_blocks, [8, 8], [8, 8])\n",
    "setblock!(full_h, h |> Array, 1, 1)\n",
    "setblock!(full_h, h |> Array, 2, 2)\n",
    "setblock!(full_h, zeros(ComplexF64, 8, 8), 1, 2)\n",
    "setblock!(full_h, zeros(ComplexF64, 8, 8), 2, 1)\n",
    "\n",
    "full_h = full_h |> Array;"
   ]
  },
  {
   "cell_type": "code",
   "execution_count": 774,
   "metadata": {},
   "outputs": [
    {
     "data": {
      "text/plain": [
       "FermiHubbardModel"
      ]
     },
     "execution_count": 774,
     "metadata": {},
     "output_type": "execute_result"
    }
   ],
   "source": [
    "Base.@kwdef struct FermiHubbardModel\n",
    "    U::Function\n",
    "    \n",
    "#     # two-site 1D chain\n",
    "#     H = ComplexF64[0 -1 0 0; -1 0 0 0; 0 0 0 -1; 0 0 -1 0] \n",
    "    \n",
    "    # 8-site 3D cubic lattice\n",
    "    H = full_h\n",
    "end"
   ]
  },
  {
   "cell_type": "code",
   "execution_count": 775,
   "metadata": {},
   "outputs": [],
   "source": [
    "struct FermiHubbardData{T}\n",
    "    GL::T\n",
    "    GG::T\n",
    "    FL::T\n",
    "    FG::T\n",
    "\n",
    "    ΣNCA_up_L::T\n",
    "    ΣNCA_up_G::T\n",
    "    ΣNCA_down_L::T\n",
    "    ΣNCA_down_G::T\n",
    "\n",
    "    # Initialize problem\n",
    "    function FermiHubbardData(GL::T, GG::T, FL::T, FG::T) where {T}\n",
    "        new{T}(GL, GG, FL, FG, zero(GL), zero(GG), zero(FL), zero(FG))\n",
    "    end\n",
    "end"
   ]
  },
  {
   "cell_type": "code",
   "execution_count": 776,
   "metadata": {},
   "outputs": [
    {
     "data": {
      "text/plain": [
       "self_energies! (generic function with 1 method)"
      ]
     },
     "execution_count": 776,
     "metadata": {},
     "output_type": "execute_result"
    }
   ],
   "source": [
    "function fv!(model, data, out, times, t, t′)\n",
    "    @unpack GL, GG, FL, FG, ΣNCA_up_L, ΣNCA_up_G, ΣNCA_down_L, ΣNCA_down_G = data\n",
    "    @unpack H, U = model\n",
    "\n",
    "    # real-time collision integral\n",
    "    ∫dt(i, j, A, B) =\n",
    "        sign(j - i) * integrate(times[min(i, j):max(i, j)],[A[t, s] * B[s, t′] for s = min(i, j):max(i, j)])\n",
    "\n",
    "#     # normal operator ordering\n",
    "#     ΣHF_up(t, t′) = 1.0im * U * [FL[1, 1, t, t] 0; 0 FL[2, 2, t, t]]\n",
    "#     ΣHF_down(t, t′) = 1.0im * U * [GL[1, 1, t, t] 0; 0 GL[2, 2, t, t]]\n",
    "    \n",
    "    ΣHF_up(t, t′) = 1.0im * U((times[t] + times[t′])/2) * Diagonal([FL[k, k, t, t] for k in 1:num_sites])\n",
    "    ΣHF_down(t, t′) = 1.0im * U((times[t] + times[t′])/2) * Diagonal([GL[k, k, t, t] for k in 1:num_sites])\n",
    "    \n",
    "    out[1] = -1.0im * ((H[1:num_sites, 1:num_sites] + ΣHF_up(t, t′)) * GL[t, t′] + \n",
    "            ∫dt(1, t, ΣNCA_up_G, GL) - ∫dt(1, t, ΣNCA_up_L, GL) + ∫dt(1, t′, ΣNCA_up_L, GL) - ∫dt(1, t′, ΣNCA_up_L, GG)\n",
    "        )\n",
    "\n",
    "    out[2] = -1.0im * ((H[1:num_sites, 1:num_sites] + ΣHF_up(t, t′)) * GG[t, t′] + \n",
    "            ∫dt(1, t, ΣNCA_up_G, GG) - ∫dt(1, t, ΣNCA_up_L, GG) + ∫dt(1, t′, ΣNCA_up_G, GL) - ∫dt(1, t′, ΣNCA_up_G, GG)\n",
    "        )\n",
    "\n",
    "    out[3] = -1.0im * ((H[1 + num_sites:2 * num_sites, 1 + num_sites:2 * num_sites] + ΣHF_down(t, t′)) * FL[t, t′] + \n",
    "            ∫dt(1, t, ΣNCA_down_G, FL) - ∫dt(1, t, ΣNCA_down_L, FL) + ∫dt(1, t′, ΣNCA_down_L, FL) - ∫dt(1, t′, ΣNCA_down_L, FG)\n",
    "        )\n",
    "\n",
    "    out[4] = -1.0im * ((H[1 + num_sites:2 * num_sites, 1 + num_sites:2 * num_sites] + ΣHF_down(t, t′)) * FG[t, t′] +\n",
    "            ∫dt(1, t, ΣNCA_down_G, FG) - ∫dt(1, t, ΣNCA_down_L, FG) + ∫dt(1, t′, ΣNCA_down_G, FL) - ∫dt(1, t′, ΣNCA_down_G, FG)\n",
    "        )\n",
    "\n",
    "    return out\n",
    "end\n",
    "\n",
    "function fd!(model, data, out, times, t, t′)\n",
    "    fv!(model, data, out, times, t, t)\n",
    "    out .-= adjoint.(out)\n",
    "end\n",
    "\n",
    "function self_energies!(model, data, times, t, t′)\n",
    "    @unpack GL, GG, FL, FG, ΣNCA_up_L, ΣNCA_up_G, ΣNCA_down_L, ΣNCA_down_G = data\n",
    "    @unpack U = model\n",
    "\n",
    "    if (n = size(GL, 3)) > size(ΣNCA_up_L, 3)\n",
    "        resize!(ΣNCA_up_L, n)\n",
    "        resize!(ΣNCA_up_G, n)\n",
    "        resize!(ΣNCA_down_L, n)\n",
    "        resize!(ΣNCA_down_G, n)\n",
    "    end\n",
    "\n",
    "    ΣNCA_up_L[t, t′] = U((times[t] + times[t′])/2)^2 .* GL[t, t′] .* FL[t, t′] .* transpose(FG[t′, t])\n",
    "    ΣNCA_up_G[t, t′] = U((times[t] + times[t′])/2)^2 .* GG[t, t′] .* FG[t, t′] .* transpose(FL[t′, t])\n",
    "\n",
    "    ΣNCA_down_L[t, t′] = U((times[t] + times[t′])/2)^2 .* FL[t, t′] .* GL[t, t′] .* transpose(GG[t′, t])\n",
    "    ΣNCA_down_G[t, t′] = U((times[t] + times[t′])/2)^2 .* FG[t, t′] .* GG[t, t′] .* transpose(GL[t′, t])\n",
    "end"
   ]
  },
  {
   "cell_type": "code",
   "execution_count": 777,
   "metadata": {},
   "outputs": [],
   "source": [
    "# quantum numbers\n",
    "dim = 8\n",
    "\n",
    "# Allocate the initial Green functions (time arguments at the end)\n",
    "GL = GreenFunction(zeros(ComplexF64, dim, dim, 1, 1), SkewHermitian)\n",
    "GG = GreenFunction(zeros(ComplexF64, dim, dim, 1, 1), SkewHermitian)\n",
    "FL = GreenFunction(zeros(ComplexF64, dim, dim, 1, 1), SkewHermitian)\n",
    "FG = GreenFunction(zeros(ComplexF64, dim, dim, 1, 1), SkewHermitian)\n",
    "\n",
    "# Initial condition\n",
    "N_up = zeros(8)\n",
    "N_down = zeros(8)\n",
    "N_up[1:4] = [0.7, 0.0, 0.7, 0.0]\n",
    "N_down[1:4] = [0.0, 0.25, 0.0, 0.25]\n",
    "\n",
    "N_up[5:8] = [0.0, 0.4, 0.0, 0.4]\n",
    "N_down[5:8] = [0.65, 0.0, 0.65, 0.0]\n",
    "\n",
    "GL[1, 1] = 1.0im * diagm(N_up)\n",
    "GG[1, 1] = -1.0im * (I - diagm(N_up))\n",
    "FL[1, 1] = 1.0im * diagm(N_down)\n",
    "FG[1, 1] = -1.0im * (I - diagm(N_down))\n",
    "\n",
    "data = FermiHubbardData(GL, GG, FL, FG)\n",
    "U₀ = 10.\n",
    "tmax = 5;\n",
    "model = FermiHubbardModel(U = t -> U₀ * (1 + exp(-10(t - 1.)))^(-1))\n",
    "# model = FermiHubbardModel(U = t -> 0.5U₀ * (1 + sign(t-1)));\n",
    "model = FermiHubbardModel(U = t -> -U₀ * [(-1)^k * (1 + exp(-20(t - k)))^(-1) for k in 1:tmax-1] |> sum);\n",
    "# model = FermiHubbardModel(U = t -> -0.5U₀ * [(-1)^k * (1 + sign(t-k)) for k in 1:tmax-1] |> sum);\n",
    "# model = FermiHubbardModel(U = t -> 0.);"
   ]
  },
  {
   "cell_type": "code",
   "execution_count": 778,
   "metadata": {},
   "outputs": [
    {
     "data": {
      "image/png": "[encoded data removed]",
      "text/plain": [
       "Figure(PyObject <Figure size 300x200 with 1 Axes>)"
      ]
     },
     "metadata": {},
     "output_type": "display_data"
    }
   ],
   "source": [
    "t_vals = 0:0.01:tmax\n",
    "figure(figsize=(3, 2))\n",
    "plot(t_vals, model.U.(t_vals))\n",
    "xlabel(\"\\$t\\$\")\n",
    "ylabel(\"\\$U(t)\\$\")\n",
    "tight_layout()"
   ]
  },
  {
   "cell_type": "code",
   "execution_count": 779,
   "metadata": {},
   "outputs": [
    {
     "name": "stdout",
     "output_type": "stream",
     "text": [
      "4.0\n",
      "0.4"
     ]
    }
   ],
   "source": [
    "round(sum(N_up .+ N_down), digits=3) |> println\n",
    "round(sum(N_up .- N_down), digits=3) |> print"
   ]
  },
  {
   "cell_type": "code",
   "execution_count": 780,
   "metadata": {},
   "outputs": [],
   "source": [
    "function integrate(x::AbstractVector, y::AbstractVector)\n",
    "    if isone(length(x))\n",
    "        return zero(first(y))\n",
    "    end\n",
    "\n",
    "    @inbounds retval = (x[2] - x[1]) * (y[1] + y[2])\n",
    "    @inbounds @fastmath @simd for i = 2:(length(y)-1)\n",
    "        retval += (x[i+1] - x[i]) * (y[i] + y[i+1])\n",
    "    end\n",
    "    return 1 // 2 * retval\n",
    "end;"
   ]
  },
  {
   "cell_type": "code",
   "execution_count": 781,
   "metadata": {},
   "outputs": [],
   "source": [
    "atol = 1e-8\n",
    "rtol = 1e-6;\n",
    "\n",
    "atol = 1e-5\n",
    "rtol = 1e-7;\n",
    "\n",
    "# atol = 1e-6\n",
    "# rtol = 1e-4;"
   ]
  },
  {
   "cell_type": "code",
   "execution_count": 782,
   "metadata": {
    "scrolled": true
   },
   "outputs": [
    {
     "name": "stdout",
     "output_type": "stream",
     "text": [
      " t: 0.0\n",
      " t: 0.006784927581835264\n",
      " t: 0.003427989421452567\n",
      " t: 0.003427989421452567\n",
      " t: 0.006737676168098025\n",
      " t: 0.006737676168098025\n",
      " t: 0.011866823796643779\n",
      " t: 0.011866823796643779\n",
      " t: 0.018772438544162356\n",
      " t: 0.018772438544162356\n",
      " t: 0.05330051228175524\n",
      " t: 0.05330051228175524\n",
      " t: 0.08437577864558883\n",
      " t: 0.08437577864558883\n",
      " t: 0.11234351837303906\n",
      " t: 0.11234351837303906\n",
      " t: 0.16833697570508466\n",
      " t: 0.16833697570508466\n",
      " t: 0.2567253262747944\n",
      " t: 0.2567253262747944\n",
      " t: 0.3702978051543084\n",
      " t: 0.3702978051543084\n",
      " t: 0.472513036145871\n",
      " t: 0.472513036145871\n",
      " t: 0.5645067440382773\n",
      " t: 0.5645067440382773\n",
      " t: 0.6537556806891858\n",
      " t: 0.6537556806891858\n",
      " t: 0.7390623776578741\n",
      " t: 0.7390623776578741\n",
      " t: 0.8218459805608542\n",
      " t: 0.8218459805608542\n",
      " t: 0.9065311133460322\n",
      " t: 0.9065311133460322\n",
      " t: 0.9901483909642214\n",
      " t: 0.9669337731722171\n",
      " t: 0.9594208382812776\n",
      " t: 0.9594208382812776\n",
      " t: 1.0070215907229985\n",
      " t: 1.0070215907229985\n",
      " t: 1.0498622679205474\n",
      " t: 1.0498622679205474\n",
      " t: 1.0885797822912613\n",
      " t: 1.0885797822912613\n",
      " t: 1.1262915159408624\n",
      " t: 1.1210684189974605\n",
      " t: 1.1210684189974605\n",
      " t: 1.1508751353484081\n",
      " t: 1.1508751353484081\n",
      " t: 1.182679831605462\n",
      " t: 1.182679831605462\n",
      " t: 1.2135463622173976\n",
      " t: 1.2135463622173976\n",
      " t: 1.2466045684321505\n",
      " t: 1.2466045684321505\n",
      " t: 1.276356954025428\n",
      " t: 1.276356954025428\n",
      " t: 1.308285720335406\n",
      " t: 1.308285720335406\n",
      " t: 1.340762556893516\n",
      " t: 1.340762556893516\n",
      " t: 1.3761034592368064\n",
      " t: 1.3761034592368064\n",
      " t: 1.4124038658238245\n",
      " t: 1.4124038658238245\n",
      " t: 1.4529814768251976\n",
      " t: 1.4529814768251976\n",
      " t: 1.496338798835743\n",
      " t: 1.496338798835743\n",
      " t: 1.5421320809287504\n",
      " t: 1.5421320809287504\n",
      " t: 1.5893190286389764\n",
      " t: 1.5893190286389764\n",
      " t: 1.6377403861937043\n",
      " t: 1.6377403861937043\n",
      " t: 1.6881834672385656\n",
      " t: 1.6881834672385656\n",
      " t: 1.7335822401789407\n",
      " t: 1.7335822401789407\n",
      " t: 1.7816822054653991\n",
      " t: 1.7816822054653991\n",
      " t: 1.8249721742232117\n",
      " t: 1.8249721742232117\n",
      " t: 1.8700607053950007\n",
      " t: 1.8700607053950007\n",
      " t: 1.9154483384652625\n",
      " t: 1.9154483384652625\n",
      " t: 1.9616893434363403\n",
      " t: 1.9616893434363403\n",
      " t: 2.008724845961632\n",
      " t: 2.008724845961632\n",
      " t: 2.051056798234394\n",
      " t: 2.051056798234394\n",
      " t: 2.0898370688507173\n",
      " t: 2.0898370688507173\n",
      " t: 2.124739312405408\n",
      " t: 2.124739312405408\n",
      " t: 2.158408642888819\n",
      " t: 2.158408642888819\n",
      " t: 2.194341339320005\n",
      " t: 2.194341339320005\n",
      " t: 2.2368162483930285\n",
      " t: 2.2368162483930285\n",
      " t: 2.2888184041597373\n",
      " t: 2.2888184041597373\n",
      " t: 2.348426567884895\n",
      " t: 2.348426567884895\n",
      " t: 2.419375420131121\n",
      " t: 2.419375420131121\n",
      " t: 2.4832293871527247\n",
      " t: 2.4832293871527247\n",
      " t: 2.540697957472168\n",
      " t: 2.540697957472168\n",
      " t: 2.6084608299217407\n",
      " t: 2.6084608299217407\n",
      " t: 2.686447598707684\n",
      " t: 2.686447598707684\n",
      " t: 2.771697050763597\n",
      " t: 2.771697050763597\n",
      " t: 2.8597758176557284\n",
      " t: 2.8597758176557284\n",
      " t: 2.948749509778415\n",
      " t: 2.948749509778415\n",
      " t: 3.028825832688833\n",
      " t: 3.017107626163853\n",
      " t: 3.017107626163853\n",
      " t: 3.0786299309107474\n",
      " t: 3.066115392691272\n",
      " t: 3.0598533206579908\n",
      " t: 3.0598533206579908\n",
      " t: 3.0991644756354813\n",
      " t: 3.0991644756354813\n",
      " t: 3.1345445151152225\n",
      " t: 3.1345445151152225\n",
      " t: 3.1674718336800027\n",
      " t: 3.1674718336800027\n",
      " t: 3.200361324703615\n",
      " t: 3.200361324703615\n",
      " t: 3.233501607017242\n",
      " t: 3.233501607017242\n",
      " t: 3.267770126143764\n",
      " t: 3.267770126143764\n",
      " t: 3.304915010166674\n",
      " t: 3.304915010166674\n",
      " t: 3.338345405787293\n",
      " t: 3.338345405787293\n",
      " t: 3.376309695649173\n",
      " t: 3.376309695649173\n",
      " t: 3.410477556524865\n",
      " t: 3.410477556524865\n",
      " t: 3.4500382770749582\n",
      " t: 3.4500382770749582\n",
      " t: 3.4937879700082797\n",
      " t: 3.4937879700082797\n",
      " t: 3.5417949129015875\n",
      " t: 3.5417949129015875\n",
      " t: 3.5921497285098867\n",
      " t: 3.5921497285098867\n",
      " t: 3.6455724606451145\n",
      " t: 3.6455724606451145\n",
      " t: 3.6936529195668197\n",
      " t: 3.6936529195668197\n",
      " t: 3.745600715154767\n",
      " t: 3.745600715154767\n",
      " t: 3.799694250595535\n",
      " t: 3.799694250595535\n",
      " t: 3.8539511111181626\n",
      " t: 3.8539511111181626\n",
      " t: 3.906412836913552\n",
      " t: 3.906412836913552\n",
      " t: 3.9588512238284355\n",
      " t: 3.9588512238284355\n",
      " t: 4.0119386310855605\n",
      " t: 4.0119386310855605\n",
      " t: 4.059717297616973\n",
      " t: 4.054419941784845\n",
      " t: 4.054419941784845\n",
      " t: 4.094335810235848\n",
      " t: 4.094335810235848\n",
      " t: 4.130260091841751\n",
      " t: 4.130260091841751\n",
      " t: 4.165979917276641\n",
      " t: 4.165979917276641\n",
      " t: 4.204376919116857\n",
      " t: 4.204376919116857\n",
      " t: 4.2505224449335355\n",
      " t: 4.2505224449335355\n",
      " t: 4.306478460997002\n",
      " t: 4.306478460997002\n",
      " t: 4.3705255079264544\n",
      " t: 4.3705255079264544\n",
      " t: 4.447425879443125\n",
      " t: 4.447425879443125\n",
      " t: 4.5166362138081295\n",
      " t: 4.5166362138081295\n",
      " t: 4.578925514736634\n",
      " t: 4.578925514736634\n",
      " t: 4.651202370398584\n",
      " t: 4.651202370398584\n",
      " t: 4.733566050411927\n",
      " t: 4.733566050411927\n",
      " t: 4.8235951233498495\n",
      " t: 4.8235951233498495\n",
      " t: 4.91708143923868\n",
      " t: 4.91708143923868\n",
      " t: 5.0\n",
      " t: 5.0\n",
      " 67.082110 seconds (79.52 M allocations: 61.788 GiB, 19.62% gc time, 5.18% compilation time)\n"
     ]
    }
   ],
   "source": [
    "@time sol = kbsolve!(\n",
    "    (x...) -> fv!(model, data, x...),\n",
    "    (x...) -> begin\n",
    "        println(\" t: $(x[2][x[3]])\")\n",
    "        fd!(model, data, x...)\n",
    "    end,\n",
    "    [data.GL, data.GG, data.FL, data.FG],\n",
    "    (0.0, tmax);\n",
    "    callback = (x...) -> self_energies!(model, data, x...),\n",
    "    atol = atol,\n",
    "    rtol = rtol,\n",
    ");"
   ]
  },
  {
   "cell_type": "code",
   "execution_count": 783,
   "metadata": {},
   "outputs": [],
   "source": [
    "save(\"quenched_FH_3D_sol_U_\"*string(model.U)*\"_tmax_\"*string(tmax)*\"_atol_\"*string(atol)*\"_rtol_\"*string(rtol)*\".jld\", \"solution\", sol)"
   ]
  },
  {
   "cell_type": "markdown",
   "metadata": {},
   "source": [
    "## Example plots"
   ]
  },
  {
   "cell_type": "markdown",
   "metadata": {},
   "source": [
    "### Load data"
   ]
  },
  {
   "cell_type": "code",
   "execution_count": 784,
   "metadata": {},
   "outputs": [
    {
     "data": {
      "text/plain": [
       "Dict{String, Any} with 1 entry:\n",
       "  \"solution\" => KBState{Vector{GreenFunction{ComplexF64, 4, Array{ComplexF64, 4…"
      ]
     },
     "execution_count": 784,
     "metadata": {},
     "output_type": "execute_result"
    }
   ],
   "source": [
    "# loaded_sol = load(\"FH_1D_sol_U_0.5_atol_1e-8_rtol_1e-6.jld\")\n",
    "loaded_sol = load(\"quenched_FH_3D_sol_U_\"*string(model.U)*\"_tmax_\"*string(tmax)*\"_atol_\"*string(atol)*\"_rtol_\"*string(rtol)*\".jld\")"
   ]
  },
  {
   "cell_type": "code",
   "execution_count": 785,
   "metadata": {},
   "outputs": [
    {
     "data": {
      "text/plain": [
       "100"
      ]
     },
     "execution_count": 785,
     "metadata": {},
     "output_type": "execute_result"
    }
   ],
   "source": [
    "num_points = (loaded_sol[\"solution\"].t |> size)[1]"
   ]
  },
  {
   "cell_type": "code",
   "execution_count": 786,
   "metadata": {},
   "outputs": [
    {
     "data": {
      "image/png": "[encoded data removed]",
      "text/plain": [
       "Figure(PyObject <Figure size 400x400 with 2 Axes>)"
      ]
     },
     "metadata": {},
     "output_type": "display_data"
    }
   ],
   "source": [
    "tt = loaded_sol[\"solution\"].t\n",
    "figure(figsize=(4, 4))\n",
    "ax = subplot(211)\n",
    "ax.plot(tt[2:end], map(t -> t[2] - t[1], zip(tt[1:end-1], tt[2:end])), \"-\")\n",
    "ax.set_xticklabels([])\n",
    "ax = subplot(212)\n",
    "ax.plot(t_vals, model.U.(t_vals))\n",
    "tight_layout()"
   ]
  },
  {
   "cell_type": "code",
   "execution_count": 787,
   "metadata": {
    "scrolled": true
   },
   "outputs": [
    {
     "data": {
      "image/png": "[encoded data removed]",
      "text/plain": [
       "Figure(PyObject <Figure size 800x300 with 2 Axes>)"
      ]
     },
     "metadata": {},
     "output_type": "display_data"
    }
   ],
   "source": [
    "xpad = 8\n",
    "ypad = 5\n",
    "\n",
    "figure(figsize = (8, 3))\n",
    "\n",
    "ax = subplot(121)\n",
    "idx_1 = 1\n",
    "idx_2 = 8\n",
    "\n",
    "plot(loaded_sol[\"solution\"].t, [imag(loaded_sol[\"solution\"].u[1][idx_1, idx_1, k, k] .+ loaded_sol[\"solution\"].u[3][idx_1, idx_1, k, k]) for k = 1:num_points], \n",
    "    label = \"\\$ i=1\\$\", lw=1.5, ls = \"--\", c = \"#438E6A\")\n",
    "\n",
    "plot(loaded_sol[\"solution\"].t, [imag(loaded_sol[\"solution\"].u[1][idx_2, idx_2, k, k] .+ loaded_sol[\"solution\"].u[3][idx_2, idx_2, k, k]) for k = 1:num_points], \n",
    "    label = \"\\$ i=8\\$\", lw=1.5, ls = \"-\", c = \"#2D5FAA\")\n",
    "\n",
    "xlim(0, tmax)\n",
    "# ax.set_xticks([0, 8, 16, 24, 32])\n",
    "ylim(-0, 1)\n",
    "xlabel(\"\\$J t\\$\")\n",
    "ylabel(\"Charge\", labelpad = 8)\n",
    "ax.xaxis.set_tick_params(pad = xpad)\n",
    "ax.yaxis.set_tick_params(pad = ypad)\n",
    "ax.legend(loc = \"best\", handlelength = 1.9, frameon = false, borderpad = 0, labelspacing = 0.25)\n",
    "\n",
    "ax = subplot(122)\n",
    "\n",
    "plot(loaded_sol[\"solution\"].t, [imag(loaded_sol[\"solution\"].u[1][idx_1, idx_1, k, k] .- loaded_sol[\"solution\"].u[3][idx_1, idx_1, k, k]) for k = 1:num_points], \n",
    "    label = \"\\$ i=2\\$\", lw=1.5, ls = \"--\", c = \"#438E6A\")\n",
    "\n",
    "plot(loaded_sol[\"solution\"].t, [imag(loaded_sol[\"solution\"].u[1][idx_2, idx_2, k, k] .- loaded_sol[\"solution\"].u[3][idx_2, idx_2, k, k]) for k = 1:num_points], \n",
    "    label = \"\\$ i=2\\$\",  lw=1.5, ls = \"-\", c = \"#2D5FAA\")\n",
    "\n",
    "xlim(0, tmax)\n",
    "ylim(-1, 1)\n",
    "# ax.set_xticks([0, 8, 16, 24, 32])\n",
    "xlabel(\"\\$J t\\$\")\n",
    "ylabel(\"Spin\", labelpad = 16)\n",
    "ax.xaxis.set_tick_params(pad = xpad)\n",
    "ax.yaxis.set_tick_params(pad = ypad)\n",
    "ax.set_axisbelow(false)\n",
    "ax.yaxis.set_label_position(\"right\")\n",
    "\n",
    "tight_layout(pad = 0.1, w_pad = 0.5, h_pad = 0)\n",
    "# savefig(\"fermi_hubbard_T.pdf\")"
   ]
  },
  {
   "cell_type": "code",
   "execution_count": 788,
   "metadata": {
    "scrolled": true
   },
   "outputs": [
    {
     "data": {
      "image/png": "[encoded data removed]",
      "text/plain": [
       "Figure(PyObject <Figure size 800x200 with 2 Axes>)"
      ]
     },
     "metadata": {},
     "output_type": "display_data"
    }
   ],
   "source": [
    "Gs = loaded_sol[\"solution\"]\n",
    "\n",
    "xpad = 8\n",
    "ypad = 5\n",
    "\n",
    "figure(figsize = (8, 2))\n",
    "\n",
    "ax = subplot(121)\n",
    "plot(loaded_sol[\"solution\"].t, [(sum(Gs.u[1][i, i, k, k] for i = 1:num_sites) |> imag) .+ (sum(Gs.u[3][i, i, k, k] for i = 1:num_sites) |> imag) for k = 1:num_points] \n",
    "    .- sum(N_up .+ N_down)  .|> abs, \n",
    "    label = \"\\$ c \\$\", ls = \"-\", c = \"k\")\n",
    "xlim(0, tmax)\n",
    "ax.set_xticks([0, 8, 16, 24, 32])\n",
    "ax.set_xticklabels([])\n",
    "yticks([k for k in 0:0.5:1] .* 5e-15)\n",
    "ylim([0.0, 1] .* 5e-15)\n",
    "ylabel(\"Charge conservation\", labelpad = 16)\n",
    "ax.yaxis.set_label_position(\"right\")\n",
    "\n",
    "ax = subplot(122)\n",
    "plot(loaded_sol[\"solution\"].t, [(sum(Gs.u[1][i, i, k, k] for i = 1:num_sites) |> imag) .- (sum(Gs.u[3][i, i, k, k] for i = 1:num_sites) |> imag) for k = 1:num_points] \n",
    "    .- sum(N_up .- N_down) .|> abs, \n",
    "    label = \"\\$ c \\$\", ls = \"-\", c = \"k\")\n",
    "xlim(0, tmax)\n",
    "ax.set_xticks([0, 8, 16, 24, 32])\n",
    "yticks([k for k in 0:0.5:1] .* 3e-15)\n",
    "ax.set_xticklabels([])\n",
    "ylim([0.0, 1] .* 3e-15)\n",
    "ylabel(\"Spin conservation\", labelpad = 16)\n",
    "ax.yaxis.set_label_position(\"right\")\n",
    "\n",
    "tight_layout(pad = 0.0, w_pad = 0.5, h_pad = 0)\n",
    "# savefig(\"fermi_hubbard_example_T_inset.pdf\")"
   ]
  },
  {
   "cell_type": "code",
   "execution_count": 789,
   "metadata": {},
   "outputs": [],
   "source": [
    "using FFTW, Interpolations"
   ]
  },
  {
   "cell_type": "code",
   "execution_count": 790,
   "metadata": {},
   "outputs": [],
   "source": [
    "# quantum number to look at\n",
    "idx = 1\n",
    "\n",
    "ρτ, (τs, ts) = wigner_transform_itp((loaded_sol[\"solution\"].u[2][idx, idx, :, :] - loaded_sol[\"solution\"].u[1][idx, idx, :, :]), \n",
    "    loaded_sol[\"solution\"].t[1:end], fourier=false);\n",
    "ρω, (ωs, ts) = wigner_transform_itp((loaded_sol[\"solution\"].u[2][idx, idx, :, :] - loaded_sol[\"solution\"].u[1][idx, idx, :, :]), \n",
    "    loaded_sol[\"solution\"].t[1:end], fourier=true);"
   ]
  },
  {
   "cell_type": "code",
   "execution_count": 791,
   "metadata": {},
   "outputs": [],
   "source": [
    "t_scale = 1\n",
    "ω_scale = 1;"
   ]
  },
  {
   "cell_type": "code",
   "execution_count": 792,
   "metadata": {},
   "outputs": [],
   "source": [
    "function meshgrid(xin,yin)\n",
    "  nx=length(xin)\n",
    "  ny=length(yin)\n",
    "  xout=zeros(ny,nx)\n",
    "  yout=zeros(ny,nx)\n",
    "  for jx=1:nx\n",
    "      for ix=1:ny\n",
    "          xout[ix,jx]=xin[jx]\n",
    "          yout[ix,jx]=yin[ix]\n",
    "      end\n",
    "  end\n",
    "  return (x=xout, y=yout)\n",
    "end\n",
    "\n",
    "Y, X = meshgrid(loaded_sol[\"solution\"].t, loaded_sol[\"solution\"].t);"
   ]
  },
  {
   "cell_type": "code",
   "execution_count": 793,
   "metadata": {},
   "outputs": [],
   "source": [
    "cmap = \"gist_heat\";"
   ]
  },
  {
   "cell_type": "code",
   "execution_count": 794,
   "metadata": {},
   "outputs": [
    {
     "data": {
      "image/png": "[encoded data removed]",
      "text/plain": [
       "Figure(PyObject <Figure size 700x300 with 2 Axes>)"
      ]
     },
     "metadata": {},
     "output_type": "display_data"
    }
   ],
   "source": [
    "figure(figsize=(7, 3))\n",
    "t_scale = 1\n",
    "vmin = -1.0\n",
    "vmax = 1.0\n",
    "\n",
    "# center = floor(length(ts) / 2) |> Int \n",
    "\n",
    "# ax = subplot(121)\n",
    "# plot(t_scale * τs, -ρτ[:, center] |> imag, ls=\"-\", c=\"C0\", lw=1.5)\n",
    "# ax.set_xlabel(\"\\$J \\\\tau\\$\")\n",
    "# ax.set_xlim(-t_scale * tmax / 2, t_scale * tmax / 2)\n",
    "# ax.set_ylim(-1, 1)\n",
    "# ax.set_xticks(t_scale .* [-tmax/2, -tmax/4, 0, tmax/4, tmax/2])\n",
    "# ax.xaxis.set_tick_params(pad=xpad)\n",
    "# ax.yaxis.set_tick_params(pad=ypad)\n",
    "# ax.set_ylabel(\"\\$  A_{11, \\\\uparrow}(T_{\\\\mathrm{max}}/2, \\\\tau)_W \\$\")\n",
    "\n",
    "ax = subplot(111)\n",
    "heatmap = ax.pcolormesh(X, Y, imag(loaded_sol[\"solution\"].u[1][1, 1, :, :]) .- imag(loaded_sol[\"solution\"].u[2][1, 1, :, :]), cmap=cmap, rasterized=true, vmin=vmin, vmax=vmax)\n",
    "heatmap.set_edgecolor(\"face\")\n",
    "ax.set_aspect(\"equal\")\n",
    "cbar = colorbar(mappable=heatmap)\n",
    "cbar.formatter.set_powerlimits((0, 0))\n",
    "ax.set_xlabel(\"\\$J t\\$\")\n",
    "ax.set_ylabel(\"\\$J t'\\$\")\n",
    "ax.set_xlim(0, t_scale * tmax)\n",
    "ax.set_ylim(0, t_scale * tmax)\n",
    "ax.set_xticks(t_scale .* [0, tmax/2, tmax])\n",
    "ax.set_yticks(t_scale .* [0, tmax/2, tmax])\n",
    "\n",
    "tight_layout(pad=0.75, w_pad=0.5, h_pad=0)\n",
    "\n",
    "# savefig(\"fermi_hubbard_example_two_times.pdf\")"
   ]
  },
  {
   "cell_type": "code",
   "execution_count": null,
   "metadata": {},
   "outputs": [],
   "source": []
  }
 ],
 "metadata": {
  "kernelspec": {
   "display_name": "Julia 1.6.0",
   "language": "julia",
   "name": "julia-1.6"
  },
  "language_info": {
   "file_extension": ".jl",
   "mimetype": "application/julia",
   "name": "julia",
   "version": "1.6.0"
  }
 },
 "nbformat": 4,
 "nbformat_minor": 2
}
