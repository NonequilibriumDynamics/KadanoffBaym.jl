{
 "cells": [
  {
   "cell_type": "markdown",
   "metadata": {},
   "source": [
    "# Quenched Fermi-Hubbard Model"
   ]
  },
  {
   "cell_type": "code",
   "execution_count": null,
   "metadata": {},
   "outputs": [],
   "source": [
    "using Pkg; Pkg.activate()\n",
    "using KadanoffBaym\n",
    "using LinearAlgebra, BlockArrays\n",
    "using UnPack\n",
    "using JLD"
   ]
  },
  {
   "cell_type": "code",
   "execution_count": null,
   "metadata": {},
   "outputs": [],
   "source": [
    "using PyPlot\n",
    "PyPlot.plt.style.use(\"./paper.mplstyle\")"
   ]
  },
  {
   "cell_type": "markdown",
   "metadata": {},
   "source": [
    "## Model"
   ]
  },
  {
   "cell_type": "markdown",
   "metadata": {},
   "source": [
    "### Hamiltonian\n",
    "\n",
    "$$\n",
    "\\begin{align}\\begin{split}\n",
    "    \\hat{H} &= - J \\sum_{\\langle{i,\\,j}\\rangle}\\sum_\\sigma \\hat{c}^{\\dagger}_{i,\\sigma} \\hat{c}^{\\phantom{\\dagger}}_{i+1,\\sigma} + U\\sum_{i=1}^L  \\hat{c}^{\\dagger}_{i,\\uparrow} \\hat{c}^{\\phantom{\\dagger}}_{i,\\uparrow}   \\hat{c}^{\\dagger}_{i,\\downarrow} \\hat{c}^{\\phantom{\\dagger}}_{i,\\downarrow}, \n",
    "\\end{split}\\end{align}\n",
    "$$\n",
    "\n",
    "### Green functions\n",
    "\n",
    "$$\n",
    "    G^>_{ij}(t, t') = -i \\left\\langle \\hat{c}^{\\phantom{\\dagger}}_{i,\\uparrow}(t) \\hat{c}^{{\\dagger}}_{i,\\uparrow}(t') \\right\\rangle\\\\\n",
    "    F^>_{ij}(t, t') = -i \\left\\langle \\hat{c}^{\\phantom{\\dagger}}_{i,\\downarrow}(t) \\hat{c}^{{\\dagger}}_{i,\\downarrow}(t') \\right\\rangle\\\\\n",
    "$$\n",
    "\n",
    "### Self-energies\n",
    "\n",
    "$$\n",
    "    \\Sigma^{\\mathrm{HF}}_{\\uparrow,\\,ij}(t, t') = {\\mathrm{i}}\\delta_{ij}\\delta(t - t') F^<_{ii}(t, t)\\\\\n",
    "    \\Sigma^{\\mathrm{HF}}_{\\downarrow,\\,ij}(t, t') = {\\mathrm{i}}\\delta_{ij}\\delta(t - t') G^<_{ii}(t, t)\n",
    "$$\n",
    "\n",
    "$$\n",
    "    \\Sigma^{\\mathrm{NCA}}_{\\uparrow,\\,ij}(t, t') = U^2 G_{ij}(t, t') F_{ij}(t, t') F_{ji}(t', t)\\\\\n",
    "    \\Sigma^{\\mathrm{NCA}}_{\\downarrow,\\,ij}(t, t') = U^2 F_{ij}(t, t') G_{ij}(t, t') G_{ji}(t', t)\n",
    "$$"
   ]
  },
  {
   "cell_type": "markdown",
   "metadata": {},
   "source": [
    "## Solving"
   ]
  },
  {
   "cell_type": "code",
   "execution_count": null,
   "metadata": {},
   "outputs": [],
   "source": [
    "num_sites = 8;"
   ]
  },
  {
   "cell_type": "code",
   "execution_count": null,
   "metadata": {},
   "outputs": [],
   "source": [
    "# 8-site 3D cubic lattice\n",
    "h = BlockArray{ComplexF64}(undef_blocks, [4, 4], [4, 4])\n",
    "diag_block = [0 -1 0 -1; -1 0 -1 0; 0 -1 0 -1; -1 0 -1 0]\n",
    "setblock!(h, diag_block, 1, 1)\n",
    "setblock!(h, diag_block, 2, 2)\n",
    "setblock!(h, Diagonal(-1 .* ones(4)), 1, 2)\n",
    "setblock!(h, Diagonal(-1 .* ones(4)), 2, 1)\n",
    "\n",
    "full_h = BlockArray{ComplexF64}(undef_blocks, [8, 8], [8, 8])\n",
    "setblock!(full_h, h |> Array, 1, 1)\n",
    "setblock!(full_h, h |> Array, 2, 2)\n",
    "setblock!(full_h, zeros(ComplexF64, 8, 8), 1, 2)\n",
    "setblock!(full_h, zeros(ComplexF64, 8, 8), 2, 1)\n",
    "\n",
    "full_h = full_h |> Array;"
   ]
  },
  {
   "cell_type": "code",
   "execution_count": null,
   "metadata": {},
   "outputs": [],
   "source": [
    "Base.@kwdef struct FermiHubbardModel\n",
    "    U::Function\n",
    "    \n",
    "#     # two-site 1D chain\n",
    "#     H = ComplexF64[0 -1 0 0; -1 0 0 0; 0 0 0 -1; 0 0 -1 0] \n",
    "    \n",
    "    # 8-site 3D cubic lattice\n",
    "    H = full_h\n",
    "end"
   ]
  },
  {
   "cell_type": "code",
   "execution_count": null,
   "metadata": {},
   "outputs": [],
   "source": [
    "struct FermiHubbardData{T}\n",
    "    GL::T\n",
    "    GG::T\n",
    "    FL::T\n",
    "    FG::T\n",
    "\n",
    "    ΣNCA_up_L::T\n",
    "    ΣNCA_up_G::T\n",
    "    ΣNCA_down_L::T\n",
    "    ΣNCA_down_G::T\n",
    "\n",
    "    # Initialize problem\n",
    "    function FermiHubbardData(GL::T, GG::T, FL::T, FG::T) where {T}\n",
    "        new{T}(GL, GG, FL, FG, zero(GL), zero(GG), zero(FL), zero(FG))\n",
    "    end\n",
    "end"
   ]
  },
  {
   "cell_type": "code",
   "execution_count": null,
   "metadata": {},
   "outputs": [],
   "source": [
    "function fv!(model, data, out, times, t, t′)\n",
    "    @unpack GL, GG, FL, FG, ΣNCA_up_L, ΣNCA_up_G, ΣNCA_down_L, ΣNCA_down_G = data\n",
    "    @unpack H, U = model\n",
    "\n",
    "    # real-time collision integral\n",
    "    ∫dt(i, j, A, B) =\n",
    "        sign(j - i) * integrate(times[min(i, j):max(i, j)],[A[t, s] * B[s, t′] for s = min(i, j):max(i, j)])\n",
    "\n",
    "#     # normal operator ordering\n",
    "#     ΣHF_up(t, t′) = 1.0im * U * [FL[1, 1, t, t] 0; 0 FL[2, 2, t, t]]\n",
    "#     ΣHF_down(t, t′) = 1.0im * U * [GL[1, 1, t, t] 0; 0 GL[2, 2, t, t]]\n",
    "    \n",
    "    ΣHF_up(t, t′) = 1.0im * U((times[t] + times[t′])/2) * Diagonal([FL[k, k, t, t] for k in 1:num_sites])\n",
    "    ΣHF_down(t, t′) = 1.0im * U((times[t] + times[t′])/2) * Diagonal([GL[k, k, t, t] for k in 1:num_sites])\n",
    "    \n",
    "    out[1] = -1.0im * ((H[1:num_sites, 1:num_sites] + ΣHF_up(t, t′)) * GL[t, t′] + \n",
    "            ∫dt(1, t, ΣNCA_up_G, GL) - ∫dt(1, t, ΣNCA_up_L, GL) + ∫dt(1, t′, ΣNCA_up_L, GL) - ∫dt(1, t′, ΣNCA_up_L, GG)\n",
    "        )\n",
    "\n",
    "    out[2] = -1.0im * ((H[1:num_sites, 1:num_sites] + ΣHF_up(t, t′)) * GG[t, t′] + \n",
    "            ∫dt(1, t, ΣNCA_up_G, GG) - ∫dt(1, t, ΣNCA_up_L, GG) + ∫dt(1, t′, ΣNCA_up_G, GL) - ∫dt(1, t′, ΣNCA_up_G, GG)\n",
    "        )\n",
    "\n",
    "    out[3] = -1.0im * ((H[1 + num_sites:2 * num_sites, 1 + num_sites:2 * num_sites] + ΣHF_down(t, t′)) * FL[t, t′] + \n",
    "            ∫dt(1, t, ΣNCA_down_G, FL) - ∫dt(1, t, ΣNCA_down_L, FL) + ∫dt(1, t′, ΣNCA_down_L, FL) - ∫dt(1, t′, ΣNCA_down_L, FG)\n",
    "        )\n",
    "\n",
    "    out[4] = -1.0im * ((H[1 + num_sites:2 * num_sites, 1 + num_sites:2 * num_sites] + ΣHF_down(t, t′)) * FG[t, t′] +\n",
    "            ∫dt(1, t, ΣNCA_down_G, FG) - ∫dt(1, t, ΣNCA_down_L, FG) + ∫dt(1, t′, ΣNCA_down_G, FL) - ∫dt(1, t′, ΣNCA_down_G, FG)\n",
    "        )\n",
    "\n",
    "    return out\n",
    "end\n",
    "\n",
    "function fd!(model, data, out, times, t, t′)\n",
    "    fv!(model, data, out, times, t, t)\n",
    "    out .-= adjoint.(out)\n",
    "end\n",
    "\n",
    "function self_energies!(model, data, times, t, t′)\n",
    "    @unpack GL, GG, FL, FG, ΣNCA_up_L, ΣNCA_up_G, ΣNCA_down_L, ΣNCA_down_G = data\n",
    "    @unpack U = model\n",
    "\n",
    "    if (n = size(GL, 3)) > size(ΣNCA_up_L, 3)\n",
    "        resize!(ΣNCA_up_L, n)\n",
    "        resize!(ΣNCA_up_G, n)\n",
    "        resize!(ΣNCA_down_L, n)\n",
    "        resize!(ΣNCA_down_G, n)\n",
    "    end\n",
    "\n",
    "    ΣNCA_up_L[t, t′] = U((times[t] + times[t′])/2)^2 .* GL[t, t′] .* FL[t, t′] .* transpose(FG[t′, t])\n",
    "    ΣNCA_up_G[t, t′] = U((times[t] + times[t′])/2)^2 .* GG[t, t′] .* FG[t, t′] .* transpose(FL[t′, t])\n",
    "\n",
    "    ΣNCA_down_L[t, t′] = U((times[t] + times[t′])/2)^2 .* FL[t, t′] .* GL[t, t′] .* transpose(GG[t′, t])\n",
    "    ΣNCA_down_G[t, t′] = U((times[t] + times[t′])/2)^2 .* FG[t, t′] .* GG[t, t′] .* transpose(GL[t′, t])\n",
    "end"
   ]
  },
  {
   "cell_type": "code",
   "execution_count": null,
   "metadata": {},
   "outputs": [],
   "source": [
    "# quantum numbers\n",
    "dim = 8\n",
    "\n",
    "# Allocate the initial Green functions (time arguments at the end)\n",
    "GL = GreenFunction(zeros(ComplexF64, dim, dim, 1, 1), SkewHermitian)\n",
    "GG = GreenFunction(zeros(ComplexF64, dim, dim, 1, 1), SkewHermitian)\n",
    "FL = GreenFunction(zeros(ComplexF64, dim, dim, 1, 1), SkewHermitian)\n",
    "FG = GreenFunction(zeros(ComplexF64, dim, dim, 1, 1), SkewHermitian)\n",
    "\n",
    "# Initial condition\n",
    "N_up = zeros(8)\n",
    "N_down = zeros(8)\n",
    "N_up[1:4] = [0.7, 0.0, 0.7, 0.0]\n",
    "N_down[1:4] = [0.0, 0.25, 0.0, 0.25]\n",
    "\n",
    "N_up[5:8] = [0.0, 0.4, 0.0, 0.4]\n",
    "N_down[5:8] = [0.65, 0.0, 0.65, 0.0]\n",
    "\n",
    "GL[1, 1] = 1.0im * diagm(N_up)\n",
    "GG[1, 1] = -1.0im * (I - diagm(N_up))\n",
    "FL[1, 1] = 1.0im * diagm(N_down)\n",
    "FG[1, 1] = -1.0im * (I - diagm(N_down))\n",
    "\n",
    "data = FermiHubbardData(GL, GG, FL, FG)\n",
    "U₀ = 10.\n",
    "tmax = 16;\n",
    "model = FermiHubbardModel(U = t -> U₀ * (1 + exp(-10(t - 1.)))^(-1))\n",
    "# model = FermiHubbardModel(U = t -> 0.5U₀ * (1 + sign(t-1)));\n",
    "model = FermiHubbardModel(U = t -> -U₀ * [(-1)^k * (1 + exp(-20(t - 2k)))^(-1) for k in 1:tmax-1] |> sum);\n",
    "# model = FermiHubbardModel(U = t -> -0.5U₀ * [(-1)^k * (1 + sign(t-k)) for k in 1:tmax-1] |> sum);\n",
    "# model = FermiHubbardModel(U = t -> 0.);"
   ]
  },
  {
   "cell_type": "code",
   "execution_count": null,
   "metadata": {},
   "outputs": [],
   "source": [
    "t_vals = 0:0.01:tmax\n",
    "figure(figsize=(3, 2))\n",
    "plot(t_vals, model.U.(t_vals))\n",
    "xlabel(\"\\$t\\$\")\n",
    "ylabel(\"\\$U(t)\\$\")\n",
    "tight_layout()"
   ]
  },
  {
   "cell_type": "code",
   "execution_count": null,
   "metadata": {},
   "outputs": [],
   "source": [
    "round(sum(N_up .+ N_down), digits=3) |> println\n",
    "round(sum(N_up .- N_down), digits=3) |> print"
   ]
  },
  {
   "cell_type": "code",
   "execution_count": null,
   "metadata": {},
   "outputs": [],
   "source": [
    "function integrate(x::AbstractVector, y::AbstractVector)\n",
    "    if isone(length(x))\n",
    "        return zero(first(y))\n",
    "    end\n",
    "\n",
    "    @inbounds retval = (x[2] - x[1]) * (y[1] + y[2])\n",
    "    @inbounds @fastmath @simd for i = 2:(length(y)-1)\n",
    "        retval += (x[i+1] - x[i]) * (y[i] + y[i+1])\n",
    "    end\n",
    "    return 1 // 2 * retval\n",
    "end;"
   ]
  },
  {
   "cell_type": "code",
   "execution_count": null,
   "metadata": {},
   "outputs": [],
   "source": [
    "# atol = 1e-8\n",
    "# rtol = 1e-6;\n",
    "\n",
    "atol = 1e-5\n",
    "rtol = 1e-3;\n",
    "\n",
    "# atol = 1e-6\n",
    "# rtol = 1e-4;"
   ]
  },
  {
   "cell_type": "code",
   "execution_count": null,
   "metadata": {
    "scrolled": true
   },
   "outputs": [],
   "source": [
    "@time sol = kbsolve!(\n",
    "    (x...) -> fv!(model, data, x...),\n",
    "    (x...) -> begin\n",
    "        println(\" t: $(x[2][x[3]])\")\n",
    "        fd!(model, data, x...)\n",
    "    end,\n",
    "    [data.GL, data.GG, data.FL, data.FG],\n",
    "    (0.0, tmax);\n",
    "    callback = (x...) -> self_energies!(model, data, x...),\n",
    "    atol = atol,\n",
    "    rtol = rtol,\n",
    ");"
   ]
  },
  {
   "cell_type": "code",
   "execution_count": null,
   "metadata": {},
   "outputs": [],
   "source": [
    "save(\"quenched_FH_3D_sol_U_\"*string(model.U)*\"_tmax_\"*string(tmax)*\"_atol_\"*string(atol)*\"_rtol_\"*string(rtol)*\".jld\", \"solution\", sol)"
   ]
  },
  {
   "cell_type": "markdown",
   "metadata": {},
   "source": [
    "## Example plots"
   ]
  },
  {
   "cell_type": "markdown",
   "metadata": {},
   "source": [
    "### Load data"
   ]
  },
  {
   "cell_type": "code",
   "execution_count": null,
   "metadata": {},
   "outputs": [],
   "source": [
    "# loaded_sol = load(\"quenched_FH_3D_sol_U_\"*string(model.U)*\"_tmax_\"*string(tmax)*\"_atol_\"*string(atol)*\"_rtol_\"*string(rtol)*\".jld\")\n",
    "loaded_sol = load(\"quenched_FH_3D_sol_U_0_10_tmax_\"*string(tmax)*\"_atol_\"*string(atol)*\"_rtol_\"*string(rtol)*\".jld\")"
   ]
  },
  {
   "cell_type": "code",
   "execution_count": null,
   "metadata": {},
   "outputs": [],
   "source": [
    "num_points = (loaded_sol[\"solution\"].t |> size)[1]"
   ]
  },
  {
   "cell_type": "code",
   "execution_count": null,
   "metadata": {},
   "outputs": [],
   "source": [
    "tt = loaded_sol[\"solution\"].t\n",
    "figure(figsize=(4, 4))\n",
    "ax = subplot(211)\n",
    "ax.plot(tt[2:end], map(t -> t[2] - t[1], zip(tt[1:end-1], tt[2:end])), \"-s\", ms=3, markeredgecolor=\"#22577c\")\n",
    "ax.set_xticks([0, 4, 8, 12, 16])\n",
    "xlim(0, tmax)\n",
    "ylim(0, 0.2)\n",
    "ax.set_xticklabels([])\n",
    "ylabel(\"\\$h\\$\")\n",
    "\n",
    "ax = subplot(212)\n",
    "ax.plot(t_vals, model.U.(t_vals), \"-k\")\n",
    "ax.set_xticks([0, 4, 8, 12, 16])\n",
    "xlim(0, tmax)\n",
    "xlabel(\"\\$Jt\\$\")\n",
    "ylabel(\"\\$U(t)\\$\")\n",
    "tight_layout()\n",
    "# savefig(\"quenched_fermi_hubbard_example_steps_U.pdf\")"
   ]
  },
  {
   "cell_type": "code",
   "execution_count": null,
   "metadata": {},
   "outputs": [],
   "source": [
    "using FFTW, Interpolations"
   ]
  },
  {
   "cell_type": "code",
   "execution_count": null,
   "metadata": {},
   "outputs": [],
   "source": [
    "# quantum number to look at\n",
    "idx = 1\n",
    "\n",
    "ρτ, (τs, ts) = wigner_transform_itp((loaded_sol[\"solution\"].u[2][idx, idx, :, :] - loaded_sol[\"solution\"].u[1][idx, idx, :, :]), \n",
    "    loaded_sol[\"solution\"].t[1:end], fourier=false);\n",
    "ρω, (ωs, ts) = wigner_transform_itp((loaded_sol[\"solution\"].u[2][idx, idx, :, :] - loaded_sol[\"solution\"].u[1][idx, idx, :, :]), \n",
    "    loaded_sol[\"solution\"].t[1:end], fourier=true);"
   ]
  },
  {
   "cell_type": "code",
   "execution_count": null,
   "metadata": {},
   "outputs": [],
   "source": [
    "t_scale = 1\n",
    "ω_scale = 1;"
   ]
  },
  {
   "cell_type": "code",
   "execution_count": null,
   "metadata": {},
   "outputs": [],
   "source": [
    "function meshgrid(xin,yin)\n",
    "  nx=length(xin)\n",
    "  ny=length(yin)\n",
    "  xout=zeros(ny,nx)\n",
    "  yout=zeros(ny,nx)\n",
    "  for jx=1:nx\n",
    "      for ix=1:ny\n",
    "          xout[ix,jx]=xin[jx]\n",
    "          yout[ix,jx]=yin[ix]\n",
    "      end\n",
    "  end\n",
    "  return (x=xout, y=yout)\n",
    "end\n",
    "\n",
    "Y, X = meshgrid(loaded_sol[\"solution\"].t, loaded_sol[\"solution\"].t);"
   ]
  },
  {
   "cell_type": "code",
   "execution_count": null,
   "metadata": {},
   "outputs": [],
   "source": [
    "cmap = \"gist_heat\";"
   ]
  },
  {
   "cell_type": "code",
   "execution_count": null,
   "metadata": {},
   "outputs": [],
   "source": [
    "figure(figsize=(7, 3))\n",
    "t_scale = 1\n",
    "vmin = -1.0\n",
    "vmax = 1.0\n",
    "\n",
    "ax = subplot(111)\n",
    "heatmap = ax.pcolormesh(X, Y, imag(loaded_sol[\"solution\"].u[1][1, 1, :, :]) .- imag(loaded_sol[\"solution\"].u[2][1, 1, :, :]), cmap=cmap, rasterized=true, vmin=vmin, vmax=vmax)\n",
    "heatmap.set_edgecolor(\"face\")\n",
    "ax.set_aspect(\"equal\")\n",
    "cbar = colorbar(mappable=heatmap)\n",
    "cbar.formatter.set_powerlimits((0, 0))\n",
    "ax.set_xlabel(\"\\$J t\\$\")\n",
    "ax.set_ylabel(\"\\$J t'\\$\")\n",
    "ax.set_xlim(0, t_scale * tmax)\n",
    "ax.set_ylim(0, t_scale * tmax)\n",
    "ax.set_xlim(0, t_scale * 8)\n",
    "ax.set_ylim(0, t_scale * 8)\n",
    "# ax.set_xticks(t_scale .* [0, tmax/2, tmax])\n",
    "# ax.set_yticks(t_scale .* [0, tmax/2, tmax])\n",
    "\n",
    "ax.set_xticks(t_scale .* [0, 2, 4, 6, 8])\n",
    "ax.set_yticks(t_scale .* [0, 2, 4, 6, 8])\n",
    "\n",
    "tight_layout(pad=0.75, w_pad=0.5, h_pad=0)\n",
    "\n",
    "# savefig(\"quenched_fermi_hubbard_example_two_times.pdf\")"
   ]
  },
  {
   "cell_type": "code",
   "execution_count": null,
   "metadata": {},
   "outputs": [],
   "source": []
  },
  {
   "cell_type": "code",
   "execution_count": null,
   "metadata": {
    "scrolled": true
   },
   "outputs": [],
   "source": [
    "xpad = 8\n",
    "ypad = 5\n",
    "\n",
    "figure(figsize = (8, 3))\n",
    "\n",
    "ax = subplot(121)\n",
    "idx_1 = 1\n",
    "idx_2 = 8\n",
    "\n",
    "plot(loaded_sol[\"solution\"].t, [imag(loaded_sol[\"solution\"].u[1][idx_1, idx_1, k, k] .+ loaded_sol[\"solution\"].u[3][idx_1, idx_1, k, k]) for k = 1:num_points], \n",
    "    label = \"\\$ i=1\\$\", lw=1.5, ls = \"--\", c = \"#438E6A\")\n",
    "\n",
    "plot(loaded_sol[\"solution\"].t, [imag(loaded_sol[\"solution\"].u[1][idx_2, idx_2, k, k] .+ loaded_sol[\"solution\"].u[3][idx_2, idx_2, k, k]) for k = 1:num_points], \n",
    "    label = \"\\$ i=8\\$\", lw=1.5, ls = \"-\", c = \"#2D5FAA\")\n",
    "\n",
    "xlim(0, tmax)\n",
    "ax.set_xticks([0, 8, 16])\n",
    "ylim(-0, 1)\n",
    "xlabel(\"\\$J t\\$\")\n",
    "ylabel(\"Charge\", labelpad = 8)\n",
    "ax.xaxis.set_tick_params(pad = xpad)\n",
    "ax.yaxis.set_tick_params(pad = ypad)\n",
    "ax.legend(loc = \"best\", handlelength = 1.9, frameon = false, borderpad = 0, labelspacing = 0.25)\n",
    "\n",
    "ax = subplot(122)\n",
    "\n",
    "plot(loaded_sol[\"solution\"].t, [imag(loaded_sol[\"solution\"].u[1][idx_1, idx_1, k, k] .- loaded_sol[\"solution\"].u[3][idx_1, idx_1, k, k]) for k = 1:num_points], \n",
    "    label = \"\\$ i=2\\$\", lw=1.5, ls = \"--\", c = \"#438E6A\")\n",
    "\n",
    "plot(loaded_sol[\"solution\"].t, [imag(loaded_sol[\"solution\"].u[1][idx_2, idx_2, k, k] .- loaded_sol[\"solution\"].u[3][idx_2, idx_2, k, k]) for k = 1:num_points], \n",
    "    label = \"\\$ i=2\\$\",  lw=1.5, ls = \"-\", c = \"#2D5FAA\")\n",
    "\n",
    "xlim(0, tmax)\n",
    "ylim(-1, 1)\n",
    "ax.set_xticks([0, 8, 16])\n",
    "xlabel(\"\\$J t\\$\")\n",
    "ylabel(\"Spin\", labelpad = 16)\n",
    "ax.xaxis.set_tick_params(pad = xpad)\n",
    "ax.yaxis.set_tick_params(pad = ypad)\n",
    "ax.set_axisbelow(false)\n",
    "ax.yaxis.set_label_position(\"right\")\n",
    "\n",
    "tight_layout(pad = 0.1, w_pad = 0.5, h_pad = 0)\n",
    "# savefig(\"quenched_fermi_hubbard_T.pdf\")"
   ]
  },
  {
   "cell_type": "code",
   "execution_count": null,
   "metadata": {
    "scrolled": true
   },
   "outputs": [],
   "source": [
    "Gs = loaded_sol[\"solution\"]\n",
    "\n",
    "xpad = 8\n",
    "ypad = 5\n",
    "\n",
    "figure(figsize = (8, 2))\n",
    "\n",
    "ax = subplot(121)\n",
    "plot(loaded_sol[\"solution\"].t, [(sum(Gs.u[1][i, i, k, k] for i = 1:num_sites) |> imag) .+ (sum(Gs.u[3][i, i, k, k] for i = 1:num_sites) |> imag) for k = 1:num_points] \n",
    "    .- sum(N_up .+ N_down)  .|> abs, \n",
    "    label = \"\\$ c \\$\", ls = \"-\", c = \"k\")\n",
    "xlim(0, tmax)\n",
    "ax.set_xticks([0, 8, 16])\n",
    "ax.set_xticklabels([])\n",
    "yticks([k for k in 0:0.5:1] .* 5e-15)\n",
    "ylim([0.0, 1] .* 5e-15)\n",
    "ylabel(\"Charge conservation\", labelpad = 16)\n",
    "ax.yaxis.set_label_position(\"right\")\n",
    "\n",
    "ax = subplot(122)\n",
    "plot(loaded_sol[\"solution\"].t, [(sum(Gs.u[1][i, i, k, k] for i = 1:num_sites) |> imag) .- (sum(Gs.u[3][i, i, k, k] for i = 1:num_sites) |> imag) for k = 1:num_points] \n",
    "    .- sum(N_up .- N_down) .|> abs, \n",
    "    label = \"\\$ c \\$\", ls = \"-\", c = \"k\")\n",
    "xlim(0, tmax)\n",
    "ax.set_xticks([0, 8, 16])\n",
    "yticks([k for k in 0:0.5:1] .* 3e-15)\n",
    "ax.set_xticklabels([])\n",
    "ylim([0.0, 1] .* 3e-15)\n",
    "ylabel(\"Spin conservation\", labelpad = 16)\n",
    "ax.yaxis.set_label_position(\"right\")\n",
    "\n",
    "tight_layout(pad = 0.0, w_pad = 0.5, h_pad = 0)\n",
    "# savefig(\"quenched_fermi_hubbard_example_T_inset.pdf\")"
   ]
  },
  {
   "cell_type": "code",
   "execution_count": null,
   "metadata": {},
   "outputs": [],
   "source": []
  },
  {
   "cell_type": "code",
   "execution_count": null,
   "metadata": {},
   "outputs": [],
   "source": []
  }
 ],
 "metadata": {
  "kernelspec": {
   "display_name": "Julia 1.6.0",
   "language": "julia",
   "name": "julia-1.6"
  },
  "language_info": {
   "file_extension": ".jl",
   "mimetype": "application/julia",
   "name": "julia",
   "version": "1.6.0"
  }
 },
 "nbformat": 4,
 "nbformat_minor": 2
}
