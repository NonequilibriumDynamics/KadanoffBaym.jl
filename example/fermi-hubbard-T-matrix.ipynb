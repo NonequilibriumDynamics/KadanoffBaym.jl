{
 "cells": [
  {
   "cell_type": "markdown",
   "metadata": {},
   "source": [
    "# Fermi-Hubbard Model"
   ]
  },
  {
   "cell_type": "code",
   "execution_count": 382,
   "metadata": {
    "scrolled": true
   },
   "outputs": [
    {
     "name": "stderr",
     "output_type": "stream",
     "text": [
      "\u001b[32m\u001b[1m  Activating\u001b[22m\u001b[39m environment at `~/.julia/environments/v1.6/Project.toml`\n"
     ]
    }
   ],
   "source": [
    "using Pkg; Pkg.activate()\n",
    "using KadanoffBaym\n",
    "using LinearAlgebra, BlockArrays\n",
    "using UnPack\n",
    "using JLD"
   ]
  },
  {
   "cell_type": "code",
   "execution_count": 383,
   "metadata": {},
   "outputs": [],
   "source": [
    "using PyPlot\n",
    "PyPlot.plt.style.use(\"./paper.mplstyle\")"
   ]
  },
  {
   "cell_type": "markdown",
   "metadata": {},
   "source": [
    "## Model"
   ]
  },
  {
   "cell_type": "markdown",
   "metadata": {},
   "source": [
    "Second-order Born approximation:\n",
    "$$\n",
    "    \\Sigma_{ij, \\uparrow}  (t, t') = U^2 G_{ij, \\uparrow}(t, t') G_{ij, \\downarrow}(t, t') G_{ji, \\downarrow}(t', t),\\\\\n",
    "    \\Sigma_{ij, \\downarrow}(t, t') = U^2 G_{ij, \\downarrow}(t, t') G_{ij, \\uparrow}(t, t') G_{ji, \\uparrow}(t', t)\n",
    "$$\n",
    "\n",
    "\n",
    "$T$-matrix approximation:\n",
    "$$\n",
    "    \\Sigma_{ij, \\uparrow}  (t, t') = U^2 T_{ij}(t, t') G_{ji, \\downarrow}(t', t),\\\\\n",
    "    \\Sigma_{ij, \\downarrow}(t, t') = U^2 T_{ij}(t, t') G_{ji, \\uparrow}(t', t)\n",
    "$$\n",
    "\n",
    "$$\n",
    "   T_{ij}(t, t') =  G_{ij, \\uparrow}(t, t') G_{ij, \\downarrow}(t, t') + U \\int_{\\mathcal{C}}\\mathrm{d}s\\; G_{ij, \\uparrow}(t, s) G_{ij, \\downarrow}(t, s) T_{ij}(s, t')\n",
    "$$\n",
    "\n",
    "$t<t'$:\n",
    "$$\n",
    "    \\int_{\\mathcal{C}}\\mathrm{d}s\\; A(t, s) B(s, t') = \\int_{t_0}^{t}{\\mathrm{d}\\bar{t}}  A^>(t, \\bar{t}) B^<(\\bar{t}, t') + \\int_{t}^{t'}{\\mathrm{d}\\bar{t}}  A^<(t, \\bar{t}) B^<(\\bar{t}, t') + \\int_{t'}^{t_0}{\\mathrm{d}\\bar{t}}  A^<(t, \\bar{t}) B^>(\\bar{t}, t')  \n",
    "$$\n",
    "$t>t'$:\n",
    "$$\n",
    "    \\int_{\\mathcal{C}}\\mathrm{d}s\\; A(t, s) B(s, t') = \\int_{t_0}^{t'}{\\mathrm{d}\\bar{t}}  A^>(t, \\bar{t}) B^<(\\bar{t}, t') + \\int_{t'}^{t}{\\mathrm{d}\\bar{t}}  A^>(t, \\bar{t}) B^>(\\bar{t}, t') + \\int_{t}^{t_0}{\\mathrm{d}\\bar{t}}  A^<(t, \\bar{t}) B^>(\\bar{t}, t')  \n",
    "$$\n",
    "\n",
    "$$\n",
    "    T^<_{ij}(t, t') =  G^<_{ij, \\uparrow}(t, t') G^<_{ij, \\downarrow}(t, t') + U \\int_{t_0}^{t}{\\mathrm{d}\\bar{t}}\\; G^>_{ij, \\uparrow}(t, s) G^>_{ij, \\downarrow}(t, s) T^<_{ij}(s, t') + U \\int_{t}^{t'}{\\mathrm{d}\\bar{t}}\\; G^<_{ij, \\uparrow}(t, s) G^<_{ij, \\downarrow}(t, s) T^<_{ij}(s, t') + U \\int_{t'}^{t_0}{\\mathrm{d}\\bar{t}}\\; G^<_{ij, \\uparrow}(t, s) G^<_{ij, \\downarrow}(t, s) T^>_{ij}(s, t')\n",
    "$$\n",
    "\n",
    "$$\n",
    "    T^>_{ij}(t, t') =  G^>_{ij, \\uparrow}(t, t') G^>_{ij, \\downarrow}(t, t') + U \\int_{t_0}^{t'}{\\mathrm{d}\\bar{t}}\\; G^>_{ij, \\uparrow}(t, s) G^>_{ij, \\downarrow}(t, s) T^<_{ij}(s, t') + U \\int_{t'}^{t}{\\mathrm{d}\\bar{t}}\\; G^>_{ij, \\uparrow}(t, s) G^>_{ij, \\downarrow}(t, s) T^>_{ij}(s, t') + U \\int_{t}^{t_0}{\\mathrm{d}\\bar{t}}\\; G^<_{ij, \\uparrow}(t, s) G^<_{ij, \\downarrow}(t, s) T^>_{ij}(s, t')\n",
    "$$"
   ]
  },
  {
   "cell_type": "markdown",
   "metadata": {},
   "source": [
    "$$\n",
    "    \\dot{T}^<_{ij}(t, t') = \\partial_t\\left(G^<_{ij, \\uparrow}(t, t') G^<_{ij, \\downarrow}(t, t')\\right) + U G^>_{ij, \\uparrow}(t, t) G^>_{ij, \\downarrow}(t, t) T^<_{ij}(t, t') - U G^<_{ij, \\uparrow}(t, t) G^<_{ij, \\downarrow}(t, t) T^<_{ij}(t, t') \\\\\n",
    "    + U \\int_{t_0}^{t}{\\mathrm{d}\\bar{t}}\\; \\partial_t\\left(G^>_{ij, \\uparrow}(t, t') G^>_{ij, \\downarrow}(t, t')\\right) T^<_{ij}(s, t') + U \\int_{t}^{t'}{\\mathrm{d}\\bar{t}}\\; \\partial_t\\left(G^<_{ij, \\uparrow}(t, t') G^<_{ij, \\downarrow}(t, t')\\right) T^<_{ij}(s, t') + U \\int_{t'}^{t_0}{\\mathrm{d}\\bar{t}}\\; \\partial_t\\left(G^<_{ij, \\uparrow}(t, t') G^<_{ij, \\downarrow}(t, t')\\right) T^>_{ij}(s, t')\n",
    "$$\n",
    "\n",
    "$$\n",
    "    \\dot{T}^>_{ij}(t, t') = \\partial_t\\left(G^>_{ij, \\uparrow}(t, t') G^>_{ij, \\downarrow}(t, t')\\right) + U G^>_{ij, \\uparrow}(t, t) G^>_{ij, \\downarrow}(t, t) T^>_{ij}(t, t') - U G^<_{ij, \\uparrow}(t, t) G^<_{ij, \\downarrow}(t, t) T^>_{ij}(t, t') \\\\\n",
    "    + U \\int_{t_0}^{t'}{\\mathrm{d}\\bar{t}}\\; \\partial_t\\left(G^>_{ij, \\uparrow}(t, s) G^>_{ij, \\downarrow}(t, s)\\right) T^<_{ij}(s, t') + U \\int_{t'}^{t}{\\mathrm{d}\\bar{t}}\\; \\partial_t\\left(G^>_{ij, \\uparrow}(t, s) G^>_{ij, \\downarrow}(t, s)\\right) T^<_{ij}(s, t') + U \\int_{t}^{t_0}{\\mathrm{d}\\bar{t}}\\; \\partial_t\\left(G^<_{ij, \\uparrow}(t, s) G^<_{ij, \\downarrow}(t, s)\\right) T^>_{ij}(s, t')\n",
    "$$"
   ]
  },
  {
   "cell_type": "markdown",
   "metadata": {},
   "source": [
    "## Solving"
   ]
  },
  {
   "cell_type": "code",
   "execution_count": 384,
   "metadata": {},
   "outputs": [
    {
     "data": {
      "text/plain": [
       "true"
      ]
     },
     "execution_count": 384,
     "metadata": {},
     "output_type": "execute_result"
    }
   ],
   "source": [
    "Matrix{Float64} <: AbstractArray"
   ]
  },
  {
   "cell_type": "code",
   "execution_count": 385,
   "metadata": {},
   "outputs": [
    {
     "data": {
      "text/plain": [
       "fixed_point (generic function with 1 method)"
      ]
     },
     "execution_count": 385,
     "metadata": {},
     "output_type": "execute_result"
    }
   ],
   "source": [
    "function integrate(x::AbstractVector, y::AbstractVector)\n",
    "    if isone(length(x))\n",
    "        return zero(first(y))\n",
    "    end\n",
    "\n",
    "    @inbounds retval = (x[2] - x[1]) * (y[1] + y[2])\n",
    "    @inbounds @fastmath @simd for i = 2:(length(y)-1)\n",
    "        retval += (x[i+1] - x[i]) * (y[i] + y[i+1])\n",
    "    end\n",
    "    return 1 // 2 * retval\n",
    "end;\n",
    "\n",
    "function fixed_point(x0::AbstractArray, F::Function; \n",
    "        mixing::Float64=0.04, abstol::Float64=1e-9, maxiter::Int=1000, verbose::Bool=true, norm=x -> LinearAlgebra.norm(x, Inf))\n",
    "  x_old = copy(x0)\n",
    "\n",
    "  step = 0\n",
    "  while step < maxiter\n",
    "    x = F(x_old)\n",
    "    res = norm(x - x_old)\n",
    "    if verbose\n",
    "      println(\"step: $step // res: $res\")\n",
    "    end\n",
    "    if res < abstol\n",
    "      break\n",
    "    end\n",
    "    @. x_old = mixing * x + (1.0 - mixing) * x_old\n",
    "    step += 1\n",
    "  end\n",
    "\n",
    "  if step == maxiter\n",
    "    println(\"No convergence reached.\") \n",
    "#   else\n",
    "#     println(\"Converged after $step steps.\")\n",
    "  end\n",
    "\n",
    "  return x_old\n",
    "end"
   ]
  },
  {
   "cell_type": "code",
   "execution_count": 386,
   "metadata": {},
   "outputs": [],
   "source": [
    "num_sites = 2;"
   ]
  },
  {
   "cell_type": "code",
   "execution_count": 387,
   "metadata": {},
   "outputs": [],
   "source": [
    "# 8-site 3D cubic lattice\n",
    "h = BlockArray{ComplexF64}(undef_blocks, [4, 4], [4, 4])\n",
    "diag_block = [0 -1 0 -1; -1 0 -1 0; 0 -1 0 -1; -1 0 -1 0]\n",
    "setblock!(h, diag_block, 1, 1)\n",
    "setblock!(h, diag_block, 2, 2)\n",
    "setblock!(h, Diagonal(-1 .* ones(4)), 1, 2)\n",
    "setblock!(h, Diagonal(-1 .* ones(4)), 2, 1)\n",
    "\n",
    "full_h = BlockArray{ComplexF64}(undef_blocks, [8, 8], [8, 8])\n",
    "setblock!(full_h, h |> Array, 1, 1)\n",
    "setblock!(full_h, h |> Array, 2, 2)\n",
    "setblock!(full_h, zeros(ComplexF64, 8, 8), 1, 2)\n",
    "setblock!(full_h, zeros(ComplexF64, 8, 8), 2, 1)\n",
    "\n",
    "full_h = full_h |> Array;"
   ]
  },
  {
   "cell_type": "code",
   "execution_count": 388,
   "metadata": {},
   "outputs": [
    {
     "data": {
      "text/plain": [
       "FermiHubbardModel"
      ]
     },
     "execution_count": 388,
     "metadata": {},
     "output_type": "execute_result"
    }
   ],
   "source": [
    "Base.@kwdef struct FermiHubbardModel\n",
    "    U::Float64\n",
    "    H = ComplexF64[0 -1 0 0; -1 0 0 0; 0 0 0 -1; 0 0 -1 0] # two-site 1D chain\n",
    "    \n",
    "    # 8-site 3D cubic lattice\n",
    "#     H = full_h\n",
    "end"
   ]
  },
  {
   "cell_type": "code",
   "execution_count": 389,
   "metadata": {},
   "outputs": [],
   "source": [
    "struct FermiHubbardData{T}\n",
    "    GL::T\n",
    "    GG::T\n",
    "    FL::T\n",
    "    FG::T\n",
    "    \n",
    "    TL::T\n",
    "    TG::T    \n",
    "    \n",
    "    ΣNCA_c_L::T\n",
    "    ΣNCA_c_G::T\n",
    "    ΣNCA_f_L::T\n",
    "    ΣNCA_f_G::T\n",
    "    \n",
    "    # Initialize problem\n",
    "    function FermiHubbardData(GL::T, GG::T, FL::T, FG::T, TL::T, TG::T) where T\n",
    "        new{T}(GL, GG, FL, FG, zero(TL), zero(TG), zero(GL), zero(GG), zero(FL), zero(FG))\n",
    "    end\n",
    "end"
   ]
  },
  {
   "cell_type": "code",
   "execution_count": 390,
   "metadata": {
    "scrolled": false
   },
   "outputs": [
    {
     "data": {
      "text/plain": [
       "fd! (generic function with 1 method)"
      ]
     },
     "execution_count": 390,
     "metadata": {},
     "output_type": "execute_result"
    }
   ],
   "source": [
    "function fv!(model, data, out, times, t, t′)\n",
    "    @unpack GL, GG, FL, FG, TL, TG, ΣNCA_c_L, ΣNCA_c_G, ΣNCA_f_L, ΣNCA_f_G = data\n",
    "    @unpack H, U = model \n",
    "    \n",
    "    # real-time collision integral\n",
    "    ∫dt(i, j, A, B) = sign(j - i) * integrate(times[min(i, j):max(i, j)],[A[t, s] * B[s, t′] for s = min(i, j):max(i, j)])\n",
    "    \n",
    "    ΣHF_c(t, t′) = 1.0im * U * Diagonal([FL[k, k, t, t] for k in 1:num_sites])\n",
    "    ΣHF_f(t, t′) = 1.0im * U * Diagonal([GL[k, k, t, t] for k in 1:num_sites])\n",
    "    \n",
    "    out[1] = -1.0im * ((H[1:num_sites, 1:num_sites] + ΣHF_c(t, t′)) * GL[t, t′] + \n",
    "            ∫dt(1, t, ΣNCA_c_G, GL) + ∫dt(t, t′, ΣNCA_c_L, GL) - ∫dt(1, t′, ΣNCA_c_L, GG)\n",
    "        )\n",
    "\n",
    "    out[2] = -1.0im * ((H[1:num_sites, 1:num_sites] + ΣHF_c(t, t′)) * GG[t, t′] + \n",
    "            ∫dt(t′, t, ΣNCA_c_G, GG) - ∫dt(1, t, ΣNCA_c_L, GG) + ∫dt(1, t′, ΣNCA_c_G, GL)\n",
    "        )\n",
    "\n",
    "    out[3] = -1.0im * ((H[1 + num_sites:2 * num_sites, 1 + num_sites:2 * num_sites] + ΣHF_f(t, t′)) * FL[t, t′] + \n",
    "            ∫dt(1, t, ΣNCA_f_G, FL) + ∫dt(t, t′, ΣNCA_f_L, FL) - ∫dt(1, t′, ΣNCA_f_L, FG)\n",
    "        )\n",
    "\n",
    "    out[4] = -1.0im * ((H[1 + num_sites:2 * num_sites, 1 + num_sites:2 * num_sites] + ΣHF_f(t, t′)) * FG[t, t′] +\n",
    "            ∫dt(t′, t, ΣNCA_f_G, FG) - ∫dt(1, t, ΣNCA_f_L, FG) + ∫dt(1, t′, ΣNCA_f_G, FL)\n",
    "        )    \n",
    "    \n",
    "end\n",
    "\n",
    "function fd!(model, data, out, times, t, t′)\n",
    "    fv!(model, data, out, times, t, t)\n",
    "    out[1:4] .-= adjoint.(out[1:4])\n",
    "end"
   ]
  },
  {
   "cell_type": "code",
   "execution_count": 391,
   "metadata": {},
   "outputs": [
    {
     "data": {
      "text/plain": [
       "integrate (generic function with 2 methods)"
      ]
     },
     "execution_count": 391,
     "metadata": {},
     "output_type": "execute_result"
    }
   ],
   "source": [
    "# function kernel_row(K::Function, grid::Vector{T}) where T\n",
    "    \n",
    "#     # auxiliary function to avoid crossing grid boundaries\n",
    "#     check(grid, idx, inc) = !isassigned(grid, idx + inc) ? grid[idx] : grid[idx + inc]\n",
    "    \n",
    "#     return 0.5 .* [(check(grid, l, +1) - check(grid, l, -1)) .* K(grid[end], grid[l]) for l in 1:size(grid)[1]]\n",
    "# end\n",
    "\n",
    "function integrate(K::Function, u::S, grid::Vector{T}) where {T, S}\n",
    "    # auxiliary function to avoid crossing grid boundaries\n",
    "    check(grid, idx, inc) = !isassigned(grid, idx + inc) ? grid[idx] : grid[idx + inc]\n",
    "    \n",
    "    return 0.5 .* [(check(grid, l, +1) - check(grid, l, -1)) * K(size(grid)[1], l) * u[l] for l in 1:size(grid)[1]] |> sum   \n",
    "end"
   ]
  },
  {
   "cell_type": "code",
   "execution_count": 392,
   "metadata": {},
   "outputs": [
    {
     "data": {
      "text/plain": [
       "self_energies! (generic function with 1 method)"
      ]
     },
     "execution_count": 392,
     "metadata": {},
     "output_type": "execute_result"
    }
   ],
   "source": [
    "function self_energies!(model, data, times, t, t′)\n",
    "    @unpack GL, GG, FL, FG, TL, TG, ΣNCA_c_L, ΣNCA_c_G, ΣNCA_f_L, ΣNCA_f_G = data\n",
    "    @unpack U = model\n",
    "        \n",
    "    # real-time collision integral\n",
    "    ∫dt(i, j, A, B) = sign(j - i) * integrate(times[min(i, j):max(i, j)], [A[t, s] * B[s, t′] for s = min(i, j):max(i, j)])    \n",
    "#     ∫dt_(i, j, A, B) = sign(j - i) * integrate(A, [B[s, t′] for s = min(i, j):max(i, j)], times[min(i, j):max(i, j)])\n",
    "    ∫dt_(i, j, A, B) = sign(j - i) * integrate(times[min(i, j):max(i, j)], [A(t, s) * B[s, t′] for s = min(i, j):max(i, j)])    \n",
    "    ∫dt__(i, j, A, B) = sign(j - i) * integrate(times[min(i, j):max(i, j)], [A[t, s] * B(s, t′) for s = min(i, j):max(i, j)]) \n",
    "\n",
    "    if (n = size(GL, 3)) > size(ΣNCA_c_L, 3)\n",
    "        resize!(ΣNCA_c_L, n)\n",
    "        resize!(ΣNCA_c_G, n)\n",
    "        resize!(ΣNCA_f_L, n)\n",
    "        resize!(ΣNCA_f_G, n)\n",
    "    end\n",
    "    \n",
    "    ΦL(t, t′) = -1.0im .* GL[t, t′] .* FL[t, t′]\n",
    "    ΦG(t, t′) = -1.0im .* GG[t, t′] .* FG[t, t′]\n",
    "    \n",
    "    if t == t′\n",
    "        x₀ = [ΦL(t, t), ΦG(t, t)]\n",
    "        \n",
    "        function Fd!(x, i)\n",
    "            TL[t, t′] = x[1]\n",
    "            TG[t, t′] = x[2]\n",
    "            \n",
    "            integrals = ∫dt__(1, i, TG, ΦL) - ∫dt_(1, i, ΦL, TG) + ∫dt_(1, i, ΦG, TL) - ∫dt__(1, i, TL, ΦG)\n",
    "            \n",
    "            return [\n",
    "                    ΦL(t, t′) + 0.5U .* integrals, \n",
    "                    ΦG(t, t′) + 0.5U .* integrals\n",
    "                   ]\n",
    "        end\n",
    "        TL[t, t′], TG[t, t′] = fixed_point(x₀, x -> Fd!(x, t); mixing=0.5, verbose=false)\n",
    "        \n",
    "    elseif t > t′\n",
    "        x₀ = [ΦL(t, t′), ΦG(t, t′)]\n",
    "        \n",
    "        function Fv!(x, i)\n",
    "            TL[t, t′] = x[1]\n",
    "            TG[t, t′] = x[2]\n",
    "            \n",
    "            return [\n",
    "                    ΦL(t, t′) + U .* ∫dt_(1, t′, ΦL, TG - TL) - U .* (∫dt_(1, i, ΦG, TL) - ∫dt_(1, i, ΦL, TL)), \n",
    "                    ΦG(t, t′) + U .* ∫dt_(1, t′, ΦG, TG - TL) - U .* (∫dt_(1, i, ΦG, TG) - ∫dt_(1, i, ΦL, TG))\n",
    "                   ]\n",
    "        end\n",
    "        TL[t, t′], TG[t, t′] = fixed_point(x₀, x -> Fv!(x, t); mixing=0.5, verbose=false)\n",
    "    end\n",
    "    \n",
    "#     TL[t, t′] = -1.0im .* GL[t, t′] .* FL[t, t′]\n",
    "#     TG[t, t′] = -1.0im .* GG[t, t′] .* FG[t, t′]        \n",
    "    \n",
    "    ΣNCA_c_L[t, t′] = 1.0im .* U^2 .* TL[t, t′] .* transpose(FG[t′, t])\n",
    "    ΣNCA_f_L[t, t′] = 1.0im .* U^2 .* TL[t, t′] .* transpose(GG[t′, t])\n",
    "    \n",
    "    ΣNCA_c_G[t, t′] = 1.0im .* U^2 .* TG[t, t′] .* transpose(FL[t′, t])\n",
    "    ΣNCA_f_G[t, t′] = 1.0im .* U^2 .* TG[t, t′] .* transpose(GL[t′, t])\n",
    "end"
   ]
  },
  {
   "cell_type": "code",
   "execution_count": 393,
   "metadata": {},
   "outputs": [],
   "source": [
    "# quantum numbers\n",
    "dim = num_sites\n",
    "\n",
    "# Define your Green functions at (t0, t0) – time arguments at the end\n",
    "GL = GreenFunction(zeros(ComplexF64, dim, dim, 1, 1), SkewHermitian)\n",
    "GG = GreenFunction(zeros(ComplexF64, dim, dim, 1, 1), SkewHermitian)\n",
    "FL = GreenFunction(zeros(ComplexF64, dim, dim, 1, 1), SkewHermitian)\n",
    "FG = GreenFunction(zeros(ComplexF64, dim, dim, 1, 1), SkewHermitian)\n",
    "\n",
    "TL = GreenFunction(zeros(ComplexF64, dim, dim, 1, 1), SkewHermitian)\n",
    "TG = GreenFunction(zeros(ComplexF64, dim, dim, 1, 1), SkewHermitian)\n",
    "\n",
    "# Initial condition\n",
    "N_c = zeros(num_sites)\n",
    "N_f = zeros(num_sites)\n",
    "N_c[1] = 0.8\n",
    "N_f[2] = 0.2\n",
    "# N_c[1:4] = [0.7, 0.0, 0.7, 0.0]\n",
    "# N_f[1:4] = [0.0, 0.25, 0.0, 0.25]\n",
    "\n",
    "# N_c[5:8] = [0.0, 0.4, 0.0, 0.4]\n",
    "# N_f[5:8] = [0.65, 0.0, 0.65, 0.0]\n",
    "\n",
    "GL[1, 1] = 1.0im * diagm(N_c)\n",
    "GG[1, 1] = -1.0im * (I - diagm(N_c))\n",
    "FL[1, 1] = 1.0im * diagm(N_f)\n",
    "FG[1, 1] = -1.0im * (I - diagm(N_f))\n",
    "\n",
    "data = FermiHubbardData(GL, GG, FL, FG, TL, TG)\n",
    "model = FermiHubbardModel(U = 0.25)\n",
    "model = FermiHubbardModel(U = 1.)\n",
    "\n",
    "data.TL[1, 1] = -1.0im .* GL[1, 1] .* FL[1, 1]\n",
    "data.TG[1, 1] = -1.0im .* GG[1, 1] .* FG[1, 1]\n",
    "\n",
    "tmax = 2;"
   ]
  },
  {
   "cell_type": "code",
   "execution_count": 394,
   "metadata": {},
   "outputs": [],
   "source": [
    "atol = 1e-6\n",
    "rtol = 1e-4;\n",
    "\n",
    "atol = 1e-8\n",
    "rtol = 1e-6;\n",
    "\n",
    "atol = 1e-10\n",
    "rtol = 1e-8;"
   ]
  },
  {
   "cell_type": "code",
   "execution_count": null,
   "metadata": {
    "scrolled": true
   },
   "outputs": [
    {
     "name": "stdout",
     "output_type": "stream",
     "text": [
      " t: 0.0\n",
      " t: 1.0e-10\n",
      " t: 1.0e-10\n",
      " t: 6.0e-10\n",
      " t: 6.0e-10\n",
      " t: 3.1e-9\n",
      " t: 3.1e-9\n",
      " t: 1.56e-8\n",
      " t: 1.56e-8\n",
      " t: 7.809999999999999e-8\n",
      " t: 7.809999999999999e-8\n",
      " t: 3.905999999999999e-7\n",
      " t: 3.905999999999999e-7\n",
      " t: 1.953099999999999e-6\n",
      " t: 1.953099999999999e-6\n",
      " t: 9.765599999999993e-6\n",
      " t: 9.765599999999993e-6\n",
      " t: 4.882809999999996e-5\n",
      " t: 4.882809999999996e-5\n",
      " t: 0.00024414059999999977\n",
      " t: 0.00024414059999999977\n",
      " t: 0.0004199218499999996\n",
      " t: 0.0004199218499999996\n",
      " t: 0.0012988280999999989\n",
      " t: 0.0012988280999999989\n",
      " t: 0.0056933593499999945\n",
      " t: 0.0056933593499999945\n",
      " t: 0.02766601559999997\n",
      " t: 0.02766601559999997\n",
      " t: 0.04744140622499994\n",
      " t: 0.04744140622499994\n",
      " t: 0.06523925778749992\n",
      " t: 0.06523925778749992\n",
      " t: 0.08355697654006004\n",
      " t: 0.08355697654006004\n",
      " t: 0.11134492940175768\n",
      " t: 0.11134492940175768\n",
      " t: 0.14819362276273532\n",
      " t: 0.14819362276273532\n",
      " t: 0.18135744678761517\n",
      " t: 0.18135744678761517\n",
      " t: 0.21581094632322848\n",
      " t: 0.21581094632322848\n",
      " t: 0.24681909590528045\n",
      " t: 0.24348659808659162\n",
      " t: 0.24348659808659162\n",
      " t: 0.2694270349491282\n",
      " t: 0.2694270349491282\n",
      " t: 0.29435502237002886\n",
      " t: 0.29435502237002886\n",
      " t: 0.3174579801934678\n",
      " t: 0.3174579801934678\n",
      " t: 0.33850886482009657\n",
      " t: 0.33850886482009657\n",
      " t: 0.35753972294930303\n",
      " t: 0.35753972294930303\n",
      " t: 0.3748469318678504\n",
      " t: 0.3748469318678504\n",
      " t: 0.3904883782255578\n",
      " t: 0.3904883782255578\n",
      " t: 0.40508318577187746\n",
      " t: 0.40508318577187746\n",
      " t: 0.4188357836969527\n",
      " t: 0.4188357836969527\n",
      " t: 0.4317906006778138\n",
      " t: 0.4317906006778138\n",
      " t: 0.4440654533075446\n",
      " t: 0.4440654533075446\n",
      " t: 0.4557794874974288\n",
      " t: 0.4557794874974288\n",
      " t: 0.4670045122709281\n",
      " t: 0.4670045122709281\n",
      " t: 0.4777953604356021\n",
      " t: 0.4777953604356021\n",
      " t: 0.48820687823049475\n",
      " t: 0.48820687823049475\n",
      " t: 0.4982865549905225\n",
      " t: 0.4982865549905225\n",
      " t: 0.5080720252577139\n",
      " t: 0.5080720252577139\n",
      " t: 0.5175956690022572\n",
      " t: 0.5175956690022572\n",
      " t: 0.52688647261209\n",
      " t: 0.52688647261209\n",
      " t: 0.5359694449928282\n",
      " t: 0.5359694449928282\n",
      " t: 0.5450178671103776\n",
      " t: 0.5450178671103776\n",
      " t: 0.5542439031125993\n",
      " t: 0.5542439031125993\n",
      " t: 0.5634450498853554\n",
      " t: 0.5634450498853554\n",
      " t: 0.5725927161872448\n",
      " t: 0.5725927161872448\n",
      " t: 0.5817170077590544\n",
      " t: 0.5817170077590544\n",
      " t: 0.5908094049739583\n",
      " t: 0.5908094049739583\n",
      " t: 0.599845327407177\n",
      " t: 0.599845327407177\n",
      " t: 0.6088251842786151\n",
      " t: 0.6088251842786151\n",
      " t: 0.6177512050030673\n",
      " t: 0.6177512050030673\n",
      " t: 0.6266210509973866\n",
      " t: 0.6266210509973866\n",
      " t: 0.6354344807927664\n",
      " t: 0.6354344807927664\n",
      " t: 0.6441940306278005\n",
      " t: 0.6441940306278005\n",
      " t: 0.6529020617503236\n",
      " t: 0.6529020617503236\n",
      " t: 0.6615608984763436\n",
      " t: 0.6615608984763436\n",
      " t: 0.6701734494203812\n",
      " t: 0.6701734494203812\n",
      " t: 0.6787428602518077\n",
      " t: 0.6787428602518077\n",
      " t: 0.6872722306342459\n",
      " t: 0.6872722306342459\n",
      " t: 0.6957646824804778\n",
      " t: 0.6957646824804778\n",
      " t: 0.7042233596691926\n",
      " t: 0.7042233596691926\n",
      " t: 0.7126513516441231\n",
      " t: 0.7126513516441231\n",
      " t: 0.721051671069349\n",
      " t: 0.721051671069349\n",
      " t: 0.7294272585622283\n",
      " t: 0.7294272585622283\n",
      " t: 0.7377809730691788\n",
      " t: 0.7377809730691788\n",
      " t: 0.7461155834760534\n",
      " t: 0.7461155834760534\n",
      " t: 0.7544337697049793\n",
      " t: 0.7544337697049793\n",
      " t: 0.7627381249862991\n",
      " t: 0.7627381249862991\n",
      " t: 0.771031157447549\n",
      " t: 0.771031157447549\n",
      " t: 0.7793152927655026\n",
      " t: 0.7793152927655026\n",
      " t: 0.7875928787717422\n",
      " t: 0.7875928787717422\n",
      " t: 0.795866189082212\n",
      " t: 0.795866189082212\n",
      " t: 0.8041374272336727\n",
      " t: 0.8041374272336727\n",
      " t: 0.8124087309326551\n",
      " t: 0.8124087309326551\n",
      " t: 0.8206821761587113\n",
      " t: 0.8206821761587113\n",
      " t: 0.8289597810997181\n",
      " t: 0.8289597810997181\n",
      " t: 0.8372435099651014\n",
      " t: 0.8372435099651014\n",
      " t: 0.8455352765835265\n",
      " t: 0.8455352765835265\n",
      " t: 0.8538369478563014\n",
      " t: 0.8538369478563014\n",
      " t: 0.8621503469459604\n",
      " t: 0.8621503469459604\n",
      " t: 0.8704772563537022\n",
      " t: 0.8704772563537022\n",
      " t: 0.8788194207457972\n",
      " t: 0.8788194207457972\n",
      " t: 0.8871785496865732\n",
      " t: 0.8871785496865732\n",
      " t: 0.8955563201274208\n",
      " t: 0.8955563201274208\n",
      " t: 0.9039543788637122\n",
      " t: 0.9039543788637122\n",
      " t: 0.9123743447704762\n",
      " t: 0.9123743447704762\n",
      " t: 0.9208178109701604\n",
      " t: 0.9208178109701604\n",
      " t: 0.9292863469499565\n",
      " t: 0.9292863469499565\n",
      " t: 0.937781500505455\n",
      " t: 0.937781500505455\n",
      " t: 0.9463047996614925\n",
      " t: 0.9463047996614925\n",
      " t: 0.9548577547679942\n",
      " t: 0.9548577547679942\n",
      " t: 0.9634418599027348\n",
      " t: 0.9634418599027348\n",
      " t: 0.9720585950942235\n",
      " t: 0.9720585950942235\n",
      " t: 0.9807094278484388\n",
      " t: 0.9807094278484388\n",
      " t: 0.9893958148605257\n",
      " t: 0.9893958148605257\n",
      " t: 0.9981192037329216\n",
      " t: 0.9981192037329216\n",
      " t: 1.0068810346851862\n",
      " t: 1.0068810346851862\n",
      " t: 1.0156827420752397\n",
      " t: 1.0156827420752397\n",
      " t: 1.0245257559756469\n",
      " t: 1.0245257559756469\n",
      " t: 1.033411503850045\n",
      " t: 1.033411503850045\n",
      " t: 1.0423414117643115\n",
      " t: 1.0423414117643115\n",
      " t: 1.0513169054846085\n",
      " t: 1.0513169054846085\n",
      " t: 1.0603394115027587\n",
      " t: 1.0603394115027587\n",
      " t: 1.0694103579435892\n",
      " t: 1.0694103579435892\n",
      " t: 1.0785311750261322\n",
      " t: 1.0785311750261322\n",
      " t: 1.0877032954446155\n",
      " t: 1.0877032954446155\n",
      " t: 1.0969281542048985\n",
      " t: 1.0969281542048985\n",
      " t: 1.1062071871724246\n",
      " t: 1.1062071871724246\n",
      " t: 1.1155418298030684\n",
      " t: 1.1155418298030684\n"
     ]
    }
   ],
   "source": [
    "@time sol = kbsolve!(\n",
    "    (x...) -> fv!(model, data, x...),\n",
    "    (x...) -> begin\n",
    "        println(\" t: $(x[2][x[3]])\")\n",
    "        fd!(model, data, x...)\n",
    "    end,\n",
    "    [data.GL, data.GG, data.FL, data.FG, data.TL, data.TG],\n",
    "    (0.0, tmax);\n",
    "    callback = (x...) -> self_energies!(model, data, x...),\n",
    "    atol = atol,\n",
    "    rtol = rtol,\n",
    "    dtini=1e-10\n",
    ");"
   ]
  },
  {
   "cell_type": "code",
   "execution_count": null,
   "metadata": {},
   "outputs": [],
   "source": [
    "plot(sol.t[1:end-1], sol.t |> diff)"
   ]
  },
  {
   "cell_type": "code",
   "execution_count": null,
   "metadata": {},
   "outputs": [],
   "source": [
    "# save(\"FH_1D_sol_U_\"*string(model.U)*\"_atol_1e-8_rtol_1e-6.jld\", \"solution\", sol)\n",
    "save(\"FH_3D_T_matrix_sol_U_\"*string(model.U)*\"_tmax_\"*string(tmax)*\"_atol_\"*string(atol)*\"_rtol_\"*string(rtol)*\".jld\", \"solution\", sol)"
   ]
  },
  {
   "cell_type": "markdown",
   "metadata": {},
   "source": [
    "## Example plots"
   ]
  },
  {
   "cell_type": "markdown",
   "metadata": {},
   "source": [
    "### Load data"
   ]
  },
  {
   "cell_type": "code",
   "execution_count": null,
   "metadata": {},
   "outputs": [],
   "source": [
    "# loaded_sol = load(\"FH_1D_sol_U_0.5_atol_1e-8_rtol_1e-6.jld\")\n",
    "loaded_sol = load(\"FH_3D_T_matrix_sol_U_\"*string(model.U)*\"_tmax_\"*string(tmax)*\"_atol_\"*string(atol)*\"_rtol_\"*string(rtol)*\".jld\")\n",
    "\n",
    "# U_0_sol = load(\"FH_sol_U_0.0_atol_1e-8_rtol_1e-6.jld\");"
   ]
  },
  {
   "cell_type": "code",
   "execution_count": null,
   "metadata": {},
   "outputs": [],
   "source": [
    "num_points = (loaded_sol[\"solution\"].t |> size)[1]"
   ]
  },
  {
   "cell_type": "code",
   "execution_count": null,
   "metadata": {
    "scrolled": true
   },
   "outputs": [],
   "source": [
    "xpad = 8\n",
    "ypad = 5\n",
    "\n",
    "figure(figsize = (8, 3))\n",
    "\n",
    "ax = subplot(121)\n",
    "idx_1 = 1\n",
    "idx_2 = 2\n",
    "\n",
    "plot(loaded_sol[\"solution\"].t, [imag(loaded_sol[\"solution\"].u[1][idx_1, idx_1, k, k] .+ loaded_sol[\"solution\"].u[3][idx_1, idx_1, k, k]) for k = 1:num_points], \n",
    "    label = \"\\$ i=1\\$\", lw=1.5, ls = \"--\", c = \"#438E6A\")\n",
    "\n",
    "plot(loaded_sol[\"solution\"].t, [imag(loaded_sol[\"solution\"].u[1][idx_2, idx_2, k, k] .+ loaded_sol[\"solution\"].u[3][idx_2, idx_2, k, k]) for k = 1:num_points], \n",
    "    label = \"\\$ i=8\\$\", lw=1.5, ls = \"-\", c = \"#2D5FAA\")\n",
    "\n",
    "idx_1 = 1\n",
    "idx_2 = 2\n",
    "\n",
    "plot(loaded_sol[\"solution\"].t, [imag(loaded_sol[\"solution\"].u[1][idx_1, idx_1, k, k] .+ loaded_sol[\"solution\"].u[3][idx_1, idx_1, k, k]) for k = 1:num_points]) \n",
    "\n",
    "plot(loaded_sol[\"solution\"].t, [imag(loaded_sol[\"solution\"].u[1][idx_2, idx_2, k, k] .+ loaded_sol[\"solution\"].u[3][idx_2, idx_2, k, k]) for k = 1:num_points]) \n",
    "\n",
    "\n",
    "idx_1 = 1\n",
    "idx_2 = 2\n",
    "\n",
    "\n",
    "xlim(0, tmax)\n",
    "# ax.set_xticks([0, 8, 16, 24, 32])\n",
    "ylim(-0, 1)\n",
    "xlabel(\"\\$J t\\$\")\n",
    "# ylabel(\"\\$\\\\mathrm{Im}\\\\; G^<_{11, \\\\sigma}(t, t)\\$\")\n",
    "ylabel(\"Charge\", labelpad = 8)\n",
    "ax.xaxis.set_tick_params(pad = xpad)\n",
    "ax.yaxis.set_tick_params(pad = ypad)\n",
    "# ax.set_axisbelow(false)\n",
    "# ticklabel_format(axis = \"y\", style = \"sci\", scilimits = (-0, 0))\n",
    "ax.legend(loc = \"best\", handlelength = 1.9, frameon = false, borderpad = 0, labelspacing = 0.25)\n",
    "\n",
    "ax = subplot(122)\n",
    "\n",
    "plot(loaded_sol[\"solution\"].t, [imag(loaded_sol[\"solution\"].u[1][idx_1, idx_1, k, k] .- loaded_sol[\"solution\"].u[3][idx_1, idx_1, k, k]) for k = 1:num_points], \n",
    "    label = \"\\$ i=2\\$\", lw=1.5, ls = \"--\", c = \"#438E6A\")\n",
    "\n",
    "plot(loaded_sol[\"solution\"].t, [imag(loaded_sol[\"solution\"].u[1][idx_2, idx_2, k, k] .- loaded_sol[\"solution\"].u[3][idx_2, idx_2, k, k]) for k = 1:num_points], \n",
    "    label = \"\\$ i=2\\$\",  lw=1.5, ls = \"-\", c = \"#2D5FAA\")\n",
    "\n",
    "xlim(0, tmax)\n",
    "ylim(-1, 1)\n",
    "# ax.set_xticks([0, 8, 16, 24, 32])\n",
    "# ax.set_yticklabels([])\n",
    "xlabel(\"\\$J t\\$\")\n",
    "ylabel(\"Spin\", labelpad = 16)\n",
    "ax.xaxis.set_tick_params(pad = xpad)\n",
    "ax.yaxis.set_tick_params(pad = ypad)\n",
    "ax.set_axisbelow(false)\n",
    "# ticklabel_format(axis = \"y\", style = \"sci\", scilimits = (-0, 0))\n",
    "# ax.legend( loc = \"best\", handlelength = 1.9, frameon = false, borderpad = 0, labelspacing = 0.25)\n",
    "ax.yaxis.set_label_position(\"right\")\n",
    "\n",
    "tight_layout(pad = 0.1, w_pad = 0.5, h_pad = 0)\n",
    "# savefig(\"fermi_hubbard_T.pdf\")"
   ]
  },
  {
   "cell_type": "code",
   "execution_count": null,
   "metadata": {
    "scrolled": true
   },
   "outputs": [],
   "source": [
    "Gs = loaded_sol[\"solution\"]\n",
    "\n",
    "xpad = 8\n",
    "ypad = 5\n",
    "\n",
    "figure(figsize = (8, 2))\n",
    "\n",
    "ax = subplot(121)\n",
    "plot(loaded_sol[\"solution\"].t, [(sum(Gs.u[1][i, i, k, k] for i = 1:num_sites) |> imag) .+ (sum(Gs.u[3][i, i, k, k] for i = 1:num_sites) |> imag) for k = 1:num_points] \n",
    "    .- sum(N_c .+ N_f)  .|> abs, \n",
    "    label = \"\\$ c \\$\", ls = \"-\", c = \"k\")\n",
    "xlim(0, tmax)\n",
    "# ax.set_xticks([0, 8, 16, 24, 32])\n",
    "ax.set_xticklabels([])\n",
    "# yticks([k for k in 0:0.5:1] .* 5e-15)\n",
    "ylim(0., 0.001)\n",
    "ylabel(\"Charge conservation\", labelpad = 16)\n",
    "ax.yaxis.set_label_position(\"right\")\n",
    "\n",
    "ax = subplot(122)\n",
    "plot(loaded_sol[\"solution\"].t, [(sum(Gs.u[1][i, i, k, k] for i = 1:num_sites) |> imag) .- (sum(Gs.u[3][i, i, k, k] for i = 1:num_sites) |> imag) for k = 1:num_points] \n",
    "    .- sum(N_c .- N_f) .|> abs, \n",
    "    label = \"\\$ c \\$\", ls = \"-\", c = \"k\")\n",
    "xlim(0, tmax)\n",
    "# ax.set_xticks([0, 8, 16, 24, 32])\n",
    "yticks([k for k in 0:0.5:1] .* 3e-15)\n",
    "ax.set_xticklabels([])\n",
    "# ax.set_yticklabels([])\n",
    "ylim([0.0, 1] .* 3e-15)\n",
    "ylabel(\"Spin conservation\", labelpad = 16)\n",
    "ax.yaxis.set_label_position(\"right\")\n",
    "\n",
    "tight_layout(pad = 0.0, w_pad = 0.5, h_pad = 0)\n",
    "# savefig(\"fermi_hubbard_example_T_inset.pdf\")"
   ]
  },
  {
   "cell_type": "code",
   "execution_count": null,
   "metadata": {},
   "outputs": [],
   "source": [
    "using FFTW, Interpolations"
   ]
  },
  {
   "cell_type": "code",
   "execution_count": null,
   "metadata": {},
   "outputs": [],
   "source": [
    "idx = 1\n",
    "ρτ, (τs, ts) = wigner_transform_itp(FG[idx, idx, :, :] - FL[idx, idx, :, :], sol.t, fourier=false);\n",
    "ρω, (ωs, ts) = wigner_transform_itp(FG[idx, idx, :, :] - FL[idx, idx, :, :], sol.t, fourier=true);"
   ]
  },
  {
   "cell_type": "code",
   "execution_count": null,
   "metadata": {},
   "outputs": [],
   "source": [
    "idx = 5\n",
    "shift = 0\n",
    "ρτ, (τs, ts) = wigner_transform_itp((loaded_sol[\"solution\"].u[2][idx, idx, :, :] - loaded_sol[\"solution\"].u[1][idx, idx, :, :])[1+shift:end-shift, 1+shift:end-shift], \n",
    "    loaded_sol[\"solution\"].t[1+shift:end-shift], fourier=false);\n",
    "ρω, (ωs, ts) = wigner_transform_itp((loaded_sol[\"solution\"].u[2][idx, idx, :, :] - loaded_sol[\"solution\"].u[1][idx, idx, :, :])[1+shift:end-shift, 1+shift:end-shift], \n",
    "    loaded_sol[\"solution\"].t[1+shift:end-shift], fourier=true);"
   ]
  },
  {
   "cell_type": "code",
   "execution_count": null,
   "metadata": {},
   "outputs": [],
   "source": [
    "τs |> size"
   ]
  },
  {
   "cell_type": "code",
   "execution_count": null,
   "metadata": {},
   "outputs": [],
   "source": [
    "ts |> size"
   ]
  },
  {
   "cell_type": "code",
   "execution_count": null,
   "metadata": {},
   "outputs": [],
   "source": [
    "t_scale = 1\n",
    "ω_scale = 1;"
   ]
  },
  {
   "cell_type": "code",
   "execution_count": null,
   "metadata": {},
   "outputs": [],
   "source": [
    "xpad = 8\n",
    "ypad = 5\n",
    "\n",
    "center = floor(length(ts) / 2) |> Int\n",
    "center |> print\n",
    "\n",
    "figure(figsize=(8, 3))\n",
    "\n",
    "ax = subplot(121)\n",
    "plot(t_scale * τs, -ρτ[:, center] |> imag, ls=\"-\", c=\"C0\", lw=1.5)\n",
    "ax.set_xlabel(\"\\$J \\\\tau\\$\")\n",
    "ax.set_xlim(-t_scale * tmax / 2, t_scale * tmax / 2)\n",
    "# ax.set_ylim(-0.6, 1.0)\n",
    "ax.set_xticks(t_scale .* [-tmax/2, -tmax/4, 0, tmax/4, tmax/2])\n",
    "ax.xaxis.set_tick_params(pad=xpad)\n",
    "ax.yaxis.set_tick_params(pad=ypad)\n",
    "ax.set_ylabel(\"\\$  A_{11, \\\\uparrow}(\\\\tau, T) \\$\")\n",
    "\n",
    "\n",
    "ax = subplot(122)\n",
    "plot(ω_scale * ωs, ρω[:, center] |> real, \"-\", c=\"C0\", lw=1.5)\n",
    "\n",
    "ax.xaxis.set_tick_params(pad=xpad)\n",
    "ax.yaxis.set_tick_params(pad=ypad)\n",
    "ax.set_xlabel(\"\\$\\\\omega/J\\$\")\n",
    "ax.set_ylabel(\"\\$ A_{11,\\\\uparrow}(\\\\omega, T)\\$\", labelpad=16)\n",
    "ax.set_xlim(5 .* (-1, 1))\n",
    "# ax.set_ylim(0, 10)\n",
    "ax.yaxis.set_label_position(\"right\")\n",
    "# ax.legend(loc=\"best\", handlelength=1.4, frameon=false, borderpad=0, labelspacing=0.25)\n",
    "\n",
    "tight_layout(pad=0.1, w_pad=0.5, h_pad=0)\n",
    "\n",
    "\n",
    "# savefig(\"fermi_hubbard_example_tau_omega.pdf\")"
   ]
  },
  {
   "cell_type": "code",
   "execution_count": null,
   "metadata": {},
   "outputs": [],
   "source": [
    "function meshgrid(xin,yin)\n",
    "  nx=length(xin)\n",
    "  ny=length(yin)\n",
    "  xout=zeros(ny,nx)\n",
    "  yout=zeros(ny,nx)\n",
    "  for jx=1:nx\n",
    "      for ix=1:ny\n",
    "          xout[ix,jx]=xin[jx]\n",
    "          yout[ix,jx]=yin[ix]\n",
    "      end\n",
    "  end\n",
    "  return (x=xout, y=yout)\n",
    "end\n",
    "\n",
    "Y, X = meshgrid(loaded_sol[\"solution\"].t, loaded_sol[\"solution\"].t);"
   ]
  },
  {
   "cell_type": "code",
   "execution_count": null,
   "metadata": {},
   "outputs": [],
   "source": [
    "cmap = \"gist_heat\";"
   ]
  },
  {
   "cell_type": "code",
   "execution_count": null,
   "metadata": {},
   "outputs": [],
   "source": [
    "figure(figsize=(7, 3))\n",
    "t_scale = 1\n",
    "vmin = -1.0\n",
    "vmax = 1.0\n",
    "\n",
    "center = floor(length(ts) / 2) |> Int\n",
    "center |> print\n",
    "\n",
    "\n",
    "ax = subplot(121)\n",
    "plot(t_scale * τs, -ρτ[:, center] |> imag, ls=\"-\", c=\"C0\", lw=1.5)\n",
    "ax.set_xlabel(\"\\$J \\\\tau\\$\")\n",
    "ax.set_xlim(-t_scale * tmax / 2, t_scale * tmax / 2)\n",
    "ax.set_ylim(-1, 1)\n",
    "ax.set_xticks(t_scale .* [-tmax/2, -tmax/4, 0, tmax/4, tmax/2])\n",
    "ax.xaxis.set_tick_params(pad=xpad)\n",
    "ax.yaxis.set_tick_params(pad=ypad)\n",
    "ax.set_ylabel(\"\\$  A_{11, \\\\uparrow}(T_{\\\\mathrm{max}}/2, \\\\tau)_W \\$\")\n",
    "\n",
    "ax = subplot(122)\n",
    "heatmap = ax.pcolormesh(X, Y, imag(loaded_sol[\"solution\"].u[1][1, 1, :, :]) .- imag(loaded_sol[\"solution\"].u[2][1, 1, :, :]), cmap=cmap, rasterized=true, vmin=vmin, vmax=vmax)\n",
    "heatmap.set_edgecolor(\"face\")\n",
    "ax.set_aspect(\"equal\")\n",
    "cbar = colorbar(mappable=heatmap)\n",
    "cbar.formatter.set_powerlimits((0, 0))\n",
    "ax.set_xlabel(\"\\$J t\\$\")\n",
    "ax.set_ylabel(\"\\$J t'\\$\")\n",
    "ax.set_xlim(0, t_scale * tmax)\n",
    "ax.set_ylim(0, t_scale * tmax)\n",
    "ax.set_xticks(t_scale .* [0, tmax/2, tmax])\n",
    "ax.set_yticks(t_scale .* [0, tmax/2, tmax])\n",
    "# ax.set_yticklabels([])\n",
    "\n",
    "tight_layout(pad=0.75, w_pad=0.5, h_pad=0)\n",
    "\n",
    "# savefig(\"fermi_hubbard_example_two_times.pdf\")"
   ]
  },
  {
   "cell_type": "markdown",
   "metadata": {},
   "source": [
    "## Testing"
   ]
  },
  {
   "cell_type": "code",
   "execution_count": null,
   "metadata": {},
   "outputs": [],
   "source": [
    "figure(figsize=(7, 3))\n",
    "t_scale = 1\n",
    "# vmin = -1.0\n",
    "# vmax = 1.0\n",
    "\n",
    "ax = subplot(121)\n",
    "heatmap = ax.pcolormesh(X, Y, imag(loaded_sol[\"solution\"].u[1][1, 1, :, :]), cmap=cmap, rasterized=true)#, vmin=vmin, vmax=vmax)\n",
    "heatmap.set_edgecolor(\"face\")\n",
    "ax.set_aspect(\"equal\")\n",
    "cbar = colorbar(mappable=heatmap)\n",
    "cbar.formatter.set_powerlimits((0, 0))\n",
    "ax.set_xlabel(\"\\$J t\\$\")\n",
    "ax.set_ylabel(\"\\$J t'\\$\")\n",
    "ax.set_xlim(0, t_scale * tmax)\n",
    "ax.set_ylim(0, t_scale * tmax)\n",
    "ax.set_xticks(t_scale .* [0, tmax/2, tmax])\n",
    "ax.set_yticks(t_scale .* [0, tmax/2, tmax])\n",
    "\n",
    "ax = subplot(122)\n",
    "heatmap = ax.pcolormesh(X, Y, imag(loaded_sol[\"solution\"].u[2][1, 1, :, :]), cmap=cmap, rasterized=true)#, vmin=vmin, vmax=vmax)\n",
    "heatmap.set_edgecolor(\"face\")\n",
    "ax.set_aspect(\"equal\")\n",
    "cbar = colorbar(mappable=heatmap)\n",
    "cbar.formatter.set_powerlimits((0, 0))\n",
    "ax.set_xlabel(\"\\$J t\\$\")\n",
    "ax.set_ylabel(\"\\$J t'\\$\")\n",
    "ax.set_xlim(0, t_scale * tmax)\n",
    "ax.set_ylim(0, t_scale * tmax)\n",
    "ax.set_xticks(t_scale .* [0, tmax/2, tmax])\n",
    "ax.set_yticks(t_scale .* [0, tmax/2, tmax])\n",
    "# ax.set_yticklabels([])\n",
    "\n",
    "tight_layout(pad=0.75, w_pad=0.5, h_pad=0)"
   ]
  },
  {
   "cell_type": "code",
   "execution_count": null,
   "metadata": {},
   "outputs": [],
   "source": []
  }
 ],
 "metadata": {
  "kernelspec": {
   "display_name": "Julia 1.6.0",
   "language": "julia",
   "name": "julia-1.6"
  },
  "language_info": {
   "file_extension": ".jl",
   "mimetype": "application/julia",
   "name": "julia",
   "version": "1.6.0"
  }
 },
 "nbformat": 4,
 "nbformat_minor": 2
}
