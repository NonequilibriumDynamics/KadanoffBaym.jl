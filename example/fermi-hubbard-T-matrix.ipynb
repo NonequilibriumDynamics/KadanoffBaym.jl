{
 "cells": [
  {
   "cell_type": "markdown",
   "metadata": {},
   "source": [
    "# Fermi-Hubbard Model"
   ]
  },
  {
   "cell_type": "code",
   "execution_count": null,
   "metadata": {
    "scrolled": true
   },
   "outputs": [],
   "source": [
    "using Pkg; Pkg.activate()\n",
    "using KadanoffBaym\n",
    "using LinearAlgebra, BlockArrays\n",
    "using UnPack\n",
    "using JLD"
   ]
  },
  {
   "cell_type": "code",
   "execution_count": null,
   "metadata": {},
   "outputs": [],
   "source": [
    "using PyPlot\n",
    "PyPlot.plt.style.use(\"./paper.mplstyle\")"
   ]
  },
  {
   "cell_type": "markdown",
   "metadata": {},
   "source": [
    "## Model"
   ]
  },
  {
   "cell_type": "markdown",
   "metadata": {},
   "source": [
    "Second-order Born approximation:\n",
    "$$\n",
    "    \\Sigma_{ij, \\uparrow}  (t, t') = U^2 G_{ij, \\uparrow}(t, t') G_{ij, \\downarrow}(t, t') G_{ji, \\downarrow}(t', t),\\\\\n",
    "    \\Sigma_{ij, \\downarrow}(t, t') = U^2 G_{ij, \\downarrow}(t, t') G_{ij, \\uparrow}(t, t') G_{ji, \\uparrow}(t', t)\n",
    "$$\n",
    "\n",
    "\n",
    "$T$-matrix approximation:\n",
    "$$\n",
    "    \\Sigma_{ij, \\uparrow}  (t, t') = U^2 T_{ij}(t, t') G_{ji, \\downarrow}(t', t),\\\\\n",
    "    \\Sigma_{ij, \\downarrow}(t, t') = U^2 T_{ij}(t, t') G_{ji, \\uparrow}(t', t)\n",
    "$$\n",
    "\n",
    "$$\n",
    "   T_{ij}(t, t') =  G_{ij, \\uparrow}(t, t') G_{ij, \\downarrow}(t, t') + U \\int_{\\mathcal{C}}\\mathrm{d}s\\; G_{ij, \\uparrow}(t, s) G_{ij, \\downarrow}(t, s) T_{ij}(s, t')\n",
    "$$\n",
    "\n",
    "$t<t'$:\n",
    "$$\n",
    "    \\int_{\\mathcal{C}}\\mathrm{d}s\\; A(t, s) B(s, t') = \\int_{t_0}^{t}{\\mathrm{d}\\bar{t}}  A^>(t, \\bar{t}) B^<(\\bar{t}, t') + \\int_{t}^{t'}{\\mathrm{d}\\bar{t}}  A^<(t, \\bar{t}) B^<(\\bar{t}, t') + \\int_{t'}^{t_0}{\\mathrm{d}\\bar{t}}  A^<(t, \\bar{t}) B^>(\\bar{t}, t')  \n",
    "$$\n",
    "$t>t'$:\n",
    "$$\n",
    "    \\int_{\\mathcal{C}}\\mathrm{d}s\\; A(t, s) B(s, t') = \\int_{t_0}^{t'}{\\mathrm{d}\\bar{t}}  A^>(t, \\bar{t}) B^<(\\bar{t}, t') + \\int_{t'}^{t}{\\mathrm{d}\\bar{t}}  A^>(t, \\bar{t}) B^>(\\bar{t}, t') + \\int_{t}^{t_0}{\\mathrm{d}\\bar{t}}  A^<(t, \\bar{t}) B^>(\\bar{t}, t')  \n",
    "$$\n",
    "\n",
    "$$\n",
    "    T^<_{ij}(t, t') =  G^<_{ij, \\uparrow}(t, t') G^<_{ij, \\downarrow}(t, t') + U \\int_{t_0}^{t}{\\mathrm{d}\\bar{t}}\\; G^>_{ij, \\uparrow}(t, s) G^>_{ij, \\downarrow}(t, s) T^<_{ij}(s, t') + U \\int_{t}^{t'}{\\mathrm{d}\\bar{t}}\\; G^<_{ij, \\uparrow}(t, s) G^<_{ij, \\downarrow}(t, s) T^<_{ij}(s, t') + U \\int_{t'}^{t_0}{\\mathrm{d}\\bar{t}}\\; G^<_{ij, \\uparrow}(t, s) G^<_{ij, \\downarrow}(t, s) T^>_{ij}(s, t')\n",
    "$$\n",
    "\n",
    "$$\n",
    "    T^>_{ij}(t, t') =  G^>_{ij, \\uparrow}(t, t') G^>_{ij, \\downarrow}(t, t') + U \\int_{t_0}^{t'}{\\mathrm{d}\\bar{t}}\\; G^>_{ij, \\uparrow}(t, s) G^>_{ij, \\downarrow}(t, s) T^<_{ij}(s, t') + U \\int_{t'}^{t}{\\mathrm{d}\\bar{t}}\\; G^>_{ij, \\uparrow}(t, s) G^>_{ij, \\downarrow}(t, s) T^>_{ij}(s, t') + U \\int_{t}^{t_0}{\\mathrm{d}\\bar{t}}\\; G^<_{ij, \\uparrow}(t, s) G^<_{ij, \\downarrow}(t, s) T^>_{ij}(s, t')\n",
    "$$"
   ]
  },
  {
   "cell_type": "markdown",
   "metadata": {},
   "source": [
    "$$\n",
    "    \\dot{T}^<_{ij}(t, t') = \\partial_t\\left(G^<_{ij, \\uparrow}(t, t') G^<_{ij, \\downarrow}(t, t')\\right) + U G^>_{ij, \\uparrow}(t, t) G^>_{ij, \\downarrow}(t, t) T^<_{ij}(t, t') - U G^<_{ij, \\uparrow}(t, t) G^<_{ij, \\downarrow}(t, t) T^<_{ij}(t, t') \\\\\n",
    "    + U \\int_{t_0}^{t}{\\mathrm{d}\\bar{t}}\\; \\partial_t\\left(G^>_{ij, \\uparrow}(t, t') G^>_{ij, \\downarrow}(t, t')\\right) T^<_{ij}(s, t') + U \\int_{t}^{t'}{\\mathrm{d}\\bar{t}}\\; \\partial_t\\left(G^<_{ij, \\uparrow}(t, t') G^<_{ij, \\downarrow}(t, t')\\right) T^<_{ij}(s, t') + U \\int_{t'}^{t_0}{\\mathrm{d}\\bar{t}}\\; \\partial_t\\left(G^<_{ij, \\uparrow}(t, t') G^<_{ij, \\downarrow}(t, t')\\right) T^>_{ij}(s, t')\n",
    "$$\n",
    "\n",
    "$$\n",
    "    \\dot{T}^>_{ij}(t, t') = \\partial_t\\left(G^>_{ij, \\uparrow}(t, t') G^>_{ij, \\downarrow}(t, t')\\right) + U G^>_{ij, \\uparrow}(t, t) G^>_{ij, \\downarrow}(t, t) T^>_{ij}(t, t') - U G^<_{ij, \\uparrow}(t, t) G^<_{ij, \\downarrow}(t, t) T^>_{ij}(t, t') \\\\\n",
    "    + U \\int_{t_0}^{t'}{\\mathrm{d}\\bar{t}}\\; \\partial_t\\left(G^>_{ij, \\uparrow}(t, s) G^>_{ij, \\downarrow}(t, s)\\right) T^<_{ij}(s, t') + U \\int_{t'}^{t}{\\mathrm{d}\\bar{t}}\\; \\partial_t\\left(G^>_{ij, \\uparrow}(t, s) G^>_{ij, \\downarrow}(t, s)\\right) T^<_{ij}(s, t') + U \\int_{t}^{t_0}{\\mathrm{d}\\bar{t}}\\; \\partial_t\\left(G^<_{ij, \\uparrow}(t, s) G^<_{ij, \\downarrow}(t, s)\\right) T^>_{ij}(s, t')\n",
    "$$"
   ]
  },
  {
   "cell_type": "markdown",
   "metadata": {},
   "source": [
    "## Solving"
   ]
  },
  {
   "cell_type": "code",
   "execution_count": null,
   "metadata": {},
   "outputs": [],
   "source": [
    "function integrate(x::AbstractVector, y::AbstractVector)\n",
    "    if isone(length(x))\n",
    "        return zero(first(y))\n",
    "    end\n",
    "\n",
    "    @inbounds retval = (x[2] - x[1]) * (y[1] + y[2])\n",
    "    @inbounds @fastmath @simd for i = 2:(length(y)-1)\n",
    "        retval += (x[i+1] - x[i]) * (y[i] + y[i+1])\n",
    "    end\n",
    "    return 1 // 2 * retval\n",
    "end;"
   ]
  },
  {
   "cell_type": "code",
   "execution_count": null,
   "metadata": {},
   "outputs": [],
   "source": [
    "function fixed_point(x0::AbstractArray, F::Function; \n",
    "        mixing::Float64=0.04, abstol::Float64=1e-9, maxiter::Int=1000, verbose::Bool=true, norm=x -> LinearAlgebra.norm(x, Inf))\n",
    "  x_old = copy(x0)\n",
    "\n",
    "  step = 0\n",
    "  while step < maxiter\n",
    "    x = F(x_old)\n",
    "    res = norm(x - x_old)\n",
    "    if verbose\n",
    "      println(\"step: $step // res: $res\")\n",
    "    end\n",
    "    if res < abstol\n",
    "      break\n",
    "    end\n",
    "    @. x_old = mixing * x + (1.0 - mixing) * x_old\n",
    "    step += 1\n",
    "  end\n",
    "\n",
    "  if step == maxiter\n",
    "    println(\"No convergence reached.\") \n",
    "#   else\n",
    "#     println(\"Converged after $step steps.\")\n",
    "  end\n",
    "\n",
    "  return x_old\n",
    "end"
   ]
  },
  {
   "cell_type": "code",
   "execution_count": null,
   "metadata": {},
   "outputs": [],
   "source": [
    "J = 1.\n",
    "num_sites = 8;"
   ]
  },
  {
   "cell_type": "code",
   "execution_count": null,
   "metadata": {},
   "outputs": [],
   "source": [
    "# 8-site 3D cubic lattice\n",
    "h = BlockArray{ComplexF64}(undef_blocks, [4, 4], [4, 4])\n",
    "diag_block = [0 -1 0 -1; -1 0 -1 0; 0 -1 0 -1; -1 0 -1 0]\n",
    "setblock!(h, diag_block, 1, 1)\n",
    "setblock!(h, diag_block, 2, 2)\n",
    "setblock!(h, Diagonal(-1 .* ones(4)), 1, 2)\n",
    "setblock!(h, Diagonal(-1 .* ones(4)), 2, 1)\n",
    "\n",
    "full_h = BlockArray{ComplexF64}(undef_blocks, [8, 8], [8, 8])\n",
    "setblock!(full_h, h |> Array, 1, 1)\n",
    "setblock!(full_h, h |> Array, 2, 2)\n",
    "setblock!(full_h, zeros(ComplexF64, 8, 8), 1, 2)\n",
    "setblock!(full_h, zeros(ComplexF64, 8, 8), 2, 1)\n",
    "\n",
    "full_h = full_h |> Array;"
   ]
  },
  {
   "cell_type": "code",
   "execution_count": null,
   "metadata": {
    "scrolled": false
   },
   "outputs": [],
   "source": [
    "Base.@kwdef struct FermiHubbardModel\n",
    "    U::Float64\n",
    "    \n",
    "    # 8-site 3D cubic lattice\n",
    "    H = t -> J .* full_h\n",
    "end"
   ]
  },
  {
   "cell_type": "code",
   "execution_count": null,
   "metadata": {},
   "outputs": [],
   "source": [
    "struct FermiHubbardData{T}\n",
    "    GL::T\n",
    "    GG::T\n",
    "    FL::T\n",
    "    FG::T\n",
    "    \n",
    "    TL::T\n",
    "    TG::T    \n",
    "    \n",
    "    ΣNCA_c_L::T\n",
    "    ΣNCA_c_G::T\n",
    "    ΣNCA_f_L::T\n",
    "    ΣNCA_f_G::T\n",
    "    \n",
    "    # Initialize problem\n",
    "    function FermiHubbardData(GL::T, GG::T, FL::T, FG::T, TL::T, TG::T) where T\n",
    "        new{T}(GL, GG, FL, FG, zero(TL), zero(TG), zero(GL), zero(GG), zero(FL), zero(FG))\n",
    "    end\n",
    "end"
   ]
  },
  {
   "cell_type": "code",
   "execution_count": null,
   "metadata": {
    "scrolled": false
   },
   "outputs": [],
   "source": [
    "function fv!(model, data, out, times, t, t′)\n",
    "    @unpack GL, GG, FL, FG, TL, TG, ΣNCA_c_L, ΣNCA_c_G, ΣNCA_f_L, ΣNCA_f_G = data\n",
    "    @unpack H, U = model \n",
    "    \n",
    "    # real-time collision integral\n",
    "    ∫dt(i, j, A, B) = sign(j - i) * integrate(times[min(i, j):max(i, j)],[A[t, s] * B[s, t′] for s = min(i, j):max(i, j)])\n",
    "    \n",
    "    ΣHF_c(t, t′) = 1.0im * U * Diagonal([FL[k, k, t, t] for k in 1:num_sites])\n",
    "    ΣHF_f(t, t′) = 1.0im * U * Diagonal([GL[k, k, t, t] for k in 1:num_sites])\n",
    "    \n",
    "    out[1] = -1.0im * ((H((times[t] + times[t′])/2)[1:num_sites, 1:num_sites] + ΣHF_c(t, t′)) * GL[t, t′] + \n",
    "            ∫dt(1, t, ΣNCA_c_G, GL) + ∫dt(t, t′, ΣNCA_c_L, GL) - ∫dt(1, t′, ΣNCA_c_L, GG)\n",
    "        )\n",
    "\n",
    "    out[2] = -1.0im * ((H((times[t] + times[t′])/2)[1:num_sites, 1:num_sites] + ΣHF_c(t, t′)) * GG[t, t′] + \n",
    "            ∫dt(t′, t, ΣNCA_c_G, GG) - ∫dt(1, t, ΣNCA_c_L, GG) + ∫dt(1, t′, ΣNCA_c_G, GL)\n",
    "        )\n",
    "\n",
    "    out[3] = -1.0im * ((H((times[t] + times[t′])/2)[1 + num_sites:2 * num_sites, 1 + num_sites:2 * num_sites] + ΣHF_f(t, t′)) * FL[t, t′] + \n",
    "            ∫dt(1, t, ΣNCA_f_G, FL) + ∫dt(t, t′, ΣNCA_f_L, FL) - ∫dt(1, t′, ΣNCA_f_L, FG)\n",
    "        )\n",
    "\n",
    "    out[4] = -1.0im * ((H((times[t] + times[t′])/2)[1 + num_sites:2 * num_sites, 1 + num_sites:2 * num_sites] + ΣHF_f(t, t′)) * FG[t, t′] +\n",
    "            ∫dt(t′, t, ΣNCA_f_G, FG) - ∫dt(1, t, ΣNCA_f_L, FG) + ∫dt(1, t′, ΣNCA_f_G, FL)\n",
    "        )    \n",
    "end\n",
    "\n",
    "function fd!(model, data, out, times, t, t′)\n",
    "    fv!(model, data, out, times, t, t)\n",
    "    out[1:4] .-= adjoint.(out[1:4])\n",
    "end"
   ]
  },
  {
   "cell_type": "code",
   "execution_count": null,
   "metadata": {},
   "outputs": [],
   "source": [
    "function second_Born!(model, data, times, t, t′)\n",
    "    @unpack GL, GG, FL, FG, TL, TG, ΣNCA_c_L, ΣNCA_c_G, ΣNCA_f_L, ΣNCA_f_G = data\n",
    "    @unpack U = model\n",
    "        \n",
    "    if (n = size(GL, 3)) > size(ΣNCA_c_L, 3)\n",
    "        resize!(ΣNCA_c_L, n)\n",
    "        resize!(ΣNCA_c_G, n)\n",
    "        resize!(ΣNCA_f_L, n)\n",
    "        resize!(ΣNCA_f_G, n)\n",
    "    end\n",
    "    \n",
    "    TL[t, t′] = -1.0im .* GL[t, t′] .* FL[t, t′]\n",
    "    TG[t, t′] = -1.0im .* GG[t, t′] .* FG[t, t′]        \n",
    "    \n",
    "    ΣNCA_c_L[t, t′] = 1.0im .* U^2 .* TL[t, t′] .* transpose(FG[t′, t])\n",
    "    ΣNCA_f_L[t, t′] = 1.0im .* U^2 .* TL[t, t′] .* transpose(GG[t′, t])\n",
    "    \n",
    "    ΣNCA_c_G[t, t′] = 1.0im .* U^2 .* TG[t, t′] .* transpose(FL[t′, t])\n",
    "    ΣNCA_f_G[t, t′] = 1.0im .* U^2 .* TG[t, t′] .* transpose(GL[t′, t])\n",
    "end"
   ]
  },
  {
   "cell_type": "code",
   "execution_count": null,
   "metadata": {},
   "outputs": [],
   "source": [
    "function T_matrix!(model, data, times, t, t′)\n",
    "    @unpack GL, GG, FL, FG, TL, TG, ΣNCA_c_L, ΣNCA_c_G, ΣNCA_f_L, ΣNCA_f_G = data\n",
    "    @unpack U = model\n",
    "        \n",
    "    # real-time collision integral\n",
    "    ∫dt(i, j, A::Function, B::GreenFunction) = sign(j - i) * integrate(times[min(i, j):max(i, j)], [A(t, s) * B[s, t′] for s = min(i, j):max(i, j)])    \n",
    "    ∫dt(i, j, A::GreenFunction, B::Function) = sign(j - i) * integrate(times[min(i, j):max(i, j)], [A[t, s] * B(s, t′) for s = min(i, j):max(i, j)]) \n",
    "\n",
    "    if (n = size(GL, 3)) > size(ΣNCA_c_L, 3)\n",
    "        resize!(ΣNCA_c_L, n)\n",
    "        resize!(ΣNCA_c_G, n)\n",
    "        resize!(ΣNCA_f_L, n)\n",
    "        resize!(ΣNCA_f_G, n)\n",
    "    end\n",
    "    \n",
    "    ΦL(t, t′) = -1.0im .* GL[t, t′] .* FL[t, t′]\n",
    "    ΦG(t, t′) = -1.0im .* GG[t, t′] .* FG[t, t′]\n",
    "    \n",
    "    x₀ = [ΦL(t, t′), ΦG(t, t′)]\n",
    "    \n",
    "    if t == t′\n",
    "        \n",
    "        function Fd!(x, i)\n",
    "            TL[t, t′] = x[1]\n",
    "            TG[t, t′] = x[2]\n",
    "            \n",
    "            integrals = ∫dt(1, i, TG, ΦL) - ∫dt(1, i, ΦL, TG) + ∫dt(1, i, ΦG, TL) - ∫dt(1, i, TL, ΦG)\n",
    "\n",
    "            return [ΦL(t, t′) - 0.5U .* integrals, ΦG(t, t′) - 0.5U .* integrals]\n",
    "        end\n",
    "        TL[t, t′], TG[t, t′] = fixed_point(x₀, x -> Fd!(x, t); mixing=0.5, verbose=false)\n",
    "        \n",
    "    elseif t > t′\n",
    "        \n",
    "        function Fv!(x, i)\n",
    "            TL[t, t′] = x[1]\n",
    "            TG[t, t′] = x[2]\n",
    "            \n",
    "            return [\n",
    "                    ΦL(t, t′) + U .* (∫dt(1, t′, ΦL, TG) - ∫dt(1, t′, ΦL, TL) - ∫dt(1, i, ΦG, TL) + ∫dt(1, i, ΦL, TL)), \n",
    "                    ΦG(t, t′) + U .* (∫dt(1, t′, ΦG, TG) - ∫dt(1, t′, ΦG, TL) - ∫dt(1, i, ΦG, TG) + ∫dt(1, i, ΦL, TG))\n",
    "                   ]\n",
    "        end\n",
    "        TL[t, t′], TG[t, t′] = fixed_point(x₀, x -> Fv!(x, t); mixing=0.5, verbose=false)\n",
    "    end\n",
    "        \n",
    "    ΣNCA_c_L[t, t′] = 1.0im .* U^2 .* TL[t, t′] .* transpose(FG[t′, t])\n",
    "    ΣNCA_f_L[t, t′] = 1.0im .* U^2 .* TL[t, t′] .* transpose(GG[t′, t])\n",
    "    \n",
    "    ΣNCA_c_G[t, t′] = 1.0im .* U^2 .* TG[t, t′] .* transpose(FL[t′, t])\n",
    "    ΣNCA_f_G[t, t′] = 1.0im .* U^2 .* TG[t, t′] .* transpose(GL[t′, t])\n",
    "end"
   ]
  },
  {
   "cell_type": "code",
   "execution_count": null,
   "metadata": {},
   "outputs": [],
   "source": [
    "# quantum numbers\n",
    "dim = num_sites\n",
    "\n",
    "# Define your Green functions at (t0, t0) – time arguments at the end\n",
    "GL = GreenFunction(zeros(ComplexF64, dim, dim, 1, 1), SkewHermitian)\n",
    "GG = GreenFunction(zeros(ComplexF64, dim, dim, 1, 1), SkewHermitian)\n",
    "FL = GreenFunction(zeros(ComplexF64, dim, dim, 1, 1), SkewHermitian)\n",
    "FG = GreenFunction(zeros(ComplexF64, dim, dim, 1, 1), SkewHermitian)\n",
    "\n",
    "TL = GreenFunction(zeros(ComplexF64, dim, dim, 1, 1), SkewHermitian)\n",
    "TG = GreenFunction(zeros(ComplexF64, dim, dim, 1, 1), SkewHermitian)\n",
    "\n",
    "# Initial condition\n",
    "N_c = zeros(num_sites)\n",
    "N_f = zeros(num_sites)\n",
    "\n",
    "N_c[1:4] = 0.1 .* [1, 1, 1, 1]\n",
    "N_f[1:4] = 0.1 .* [1, 1, 1, 1]\n",
    "\n",
    "N_c[5:8] = 0.0 .* [1, 1, 1, 1]\n",
    "N_f[5:8] = 0.0 .* [1, 1, 1, 1]\n",
    "\n",
    "GL[1, 1] = 1.0im * diagm(N_c)\n",
    "GG[1, 1] = -1.0im * (I - diagm(N_c))\n",
    "FL[1, 1] = 1.0im * diagm(N_f)\n",
    "FG[1, 1] = -1.0im * (I - diagm(N_f))\n",
    "\n",
    "TL[1, 1] = -1.0im .* GL[1, 1] .* FL[1, 1]\n",
    "TG[1, 1] = -1.0im .* GG[1, 1] .* FG[1, 1]\n",
    "\n",
    "data = FermiHubbardData(GL, GG, FL, FG, TL, TG)\n",
    "data_2B = deepcopy(data)\n",
    "\n",
    "model = FermiHubbardModel(U = 2.)\n",
    "tmax = 5;"
   ]
  },
  {
   "cell_type": "code",
   "execution_count": null,
   "metadata": {},
   "outputs": [],
   "source": [
    "# atol = 1e-7\n",
    "# rtol = 1e-5;\n",
    "\n",
    "atol = 1e-5\n",
    "rtol = 1e-3;"
   ]
  },
  {
   "cell_type": "code",
   "execution_count": null,
   "metadata": {},
   "outputs": [],
   "source": [
    "# callback = (x...) -> second_Born!(model, data, x...)\n",
    "callback = (x...) -> T_matrix!(model, data, x...)"
   ]
  },
  {
   "cell_type": "code",
   "execution_count": null,
   "metadata": {
    "scrolled": true
   },
   "outputs": [],
   "source": [
    "@time sol = kbsolve!(\n",
    "    (x...) -> fv!(model, data, x...),\n",
    "    (x...) -> begin\n",
    "        println(\" t: $(x[2][x[3]])\")\n",
    "        fd!(model, data, x...)\n",
    "    end,\n",
    "    [data.GL, data.GG, data.FL, data.FG, data.TL, data.TG],\n",
    "    (0.0, tmax);\n",
    "    callback = callback,\n",
    "    atol = atol,\n",
    "    rtol = rtol,\n",
    "    dtini=1e-10\n",
    ");"
   ]
  },
  {
   "cell_type": "code",
   "execution_count": null,
   "metadata": {},
   "outputs": [],
   "source": [
    "figure(figsize=(3, 2))\n",
    "plot(sol.t[1:end-1], sol.t |> diff)\n",
    "xlabel(\"\\$t\\$\")\n",
    "tight_layout()"
   ]
  },
  {
   "cell_type": "code",
   "execution_count": null,
   "metadata": {},
   "outputs": [],
   "source": [
    "save(\"FH_3D_T_matrix_sol_U_\"*string(model.U)*\"_tmax_\"*string(tmax)*\"_atol_\"*string(atol)*\"_rtol_\"*string(rtol)*\".jld\", \"solution\", sol)"
   ]
  },
  {
   "cell_type": "markdown",
   "metadata": {},
   "source": [
    "### Second Born approximation"
   ]
  },
  {
   "cell_type": "code",
   "execution_count": null,
   "metadata": {
    "scrolled": true
   },
   "outputs": [],
   "source": [
    "@time sol_2B = kbsolve!(\n",
    "    (x...) -> fv!(model, data_2B, x...),\n",
    "    (x...) -> begin\n",
    "        println(\" t: $(x[2][x[3]])\")\n",
    "        fd!(model, data_2B, x...)\n",
    "    end,\n",
    "    [data_2B.GL, data_2B.GG, data_2B.FL, data_2B.FG, data_2B.TL, data_2B.TG],\n",
    "    (0.0, tmax);\n",
    "    callback = (x...) -> second_Born!(model, data_2B, x...),\n",
    "    atol = atol,\n",
    "    rtol = rtol,\n",
    "    dtini=1e-10\n",
    ");"
   ]
  },
  {
   "cell_type": "markdown",
   "metadata": {},
   "source": [
    "## Example plots"
   ]
  },
  {
   "cell_type": "markdown",
   "metadata": {},
   "source": [
    "### Load data"
   ]
  },
  {
   "cell_type": "code",
   "execution_count": null,
   "metadata": {},
   "outputs": [],
   "source": [
    "loaded_sol = load(\"FH_3D_T_matrix_sol_U_\"*string(model.U)*\"_tmax_\"*string(tmax)*\"_atol_\"*string(atol)*\"_rtol_\"*string(rtol)*\".jld\")\n",
    "GFs = loaded_sol[\"solution\"].u\n",
    "num_points = (loaded_sol[\"solution\"].t |> size)[1]"
   ]
  },
  {
   "cell_type": "code",
   "execution_count": null,
   "metadata": {},
   "outputs": [],
   "source": [
    "t_scale = J\n",
    "\n",
    "xpad = 8\n",
    "ypad = 5;"
   ]
  },
  {
   "cell_type": "code",
   "execution_count": null,
   "metadata": {
    "scrolled": false
   },
   "outputs": [],
   "source": [
    "figure(figsize = (8, 3))\n",
    "\n",
    "ax = subplot(121)\n",
    "idx_1 = 1\n",
    "\n",
    "plot(t_scale .* loaded_sol[\"solution\"].t, [imag(GFs[1][idx_1, idx_1, k, k] .+ GFs[3][idx_1, idx_1, k, k]) for k = 1:num_points], \n",
    "    label = \"\\$ T\\$-matrix\", lw=1.5, ls = \"-\", c = \"#438E6A\")\n",
    "\n",
    "plot(t_scale .* sol_2B.t, [imag(sol_2B.u[1][idx_1, idx_1, k, k] .+ sol_2B.u[3][idx_1, idx_1, k, k]) for k = 1:size(sol_2B.t)[1]], \n",
    "    label = \"Second Born\", lw=3, ls = \"--\", c = \"#438E6A\", alpha=0.5)\n",
    "\n",
    "xlim(0, t_scale .* tmax)\n",
    "ax.set_xticks(0:t_scale .* tmax / 5:t_scale .* tmax)\n",
    "ylim(0, 0.3)\n",
    "xlabel(\"\\$J t\\$\")\n",
    "ylabel(\"Charge\", labelpad = 8)\n",
    "ax.xaxis.set_tick_params(pad = xpad)\n",
    "ax.yaxis.set_tick_params(pad = ypad)\n",
    "ticklabel_format(axis = \"y\", style = \"sci\", scilimits = (-0, 0))\n",
    "ax.legend(loc = \"best\", handlelength = 1.9, frameon = false, borderpad = 0, labelspacing = 0.25)\n",
    "\n",
    "ax = subplot(122)\n",
    "plot(t_scale .* loaded_sol[\"solution\"].t, \n",
    "    [(sum(GFs[1][i, i, k, k] for i = 1:num_sites) |> imag) .+ (sum(GFs[3][i, i, k, k] for i = 1:num_sites) |> imag) for k = 1:num_points] \n",
    "    .- sum(N_c .+ N_f)  .|> abs, ls = \"-\", c = \"k\")\n",
    "xlim(0, t_scale .* tmax)\n",
    "# ylim(0, 2e-3)\n",
    "ax.set_xticks(0:t_scale .* tmax / 5:t_scale .* tmax)\n",
    "ylabel(\"Charge conservation\", labelpad = 16)\n",
    "xlabel(\"\\$J t\\$\")\n",
    "ax.xaxis.set_tick_params(pad = xpad)\n",
    "ax.yaxis.set_tick_params(pad = ypad)\n",
    "ticklabel_format(axis = \"y\", style = \"sci\", scilimits = (-0, 0))\n",
    "ax.yaxis.set_label_position(\"right\")\n",
    "\n",
    "tight_layout(pad = 0.1, w_pad = 0.5, h_pad = 0)\n",
    "# savefig(\"fermi_hubbard_T_matrix_T.pdf\")"
   ]
  },
  {
   "cell_type": "markdown",
   "metadata": {},
   "source": [
    "## Testing"
   ]
  },
  {
   "cell_type": "code",
   "execution_count": null,
   "metadata": {},
   "outputs": [],
   "source": [
    "using FFTW, Interpolations"
   ]
  },
  {
   "cell_type": "code",
   "execution_count": null,
   "metadata": {},
   "outputs": [],
   "source": [
    "idx = 1\n",
    "ρτ, (τs, ts) = wigner_transform_itp(GL[idx, idx, :, :] - GG[idx, idx, :, :], sol.t, fourier=false);\n",
    "# ρω, (ωs, ts) = wigner_transform_itp(GL[idx, idx, :, :] - GG[idx, idx, :, :], sol.t, fourier=true);"
   ]
  },
  {
   "cell_type": "code",
   "execution_count": null,
   "metadata": {},
   "outputs": [],
   "source": [
    "function meshgrid(xin,yin)\n",
    "  nx=length(xin)\n",
    "  ny=length(yin)\n",
    "  xout=zeros(ny,nx)\n",
    "  yout=zeros(ny,nx)\n",
    "  for jx=1:nx\n",
    "      for ix=1:ny\n",
    "          xout[ix,jx]=xin[jx]\n",
    "          yout[ix,jx]=yin[ix]\n",
    "      end\n",
    "  end\n",
    "  return (x=xout, y=yout)\n",
    "end\n",
    "\n",
    "Y, X = meshgrid(loaded_sol[\"solution\"].t, loaded_sol[\"solution\"].t);"
   ]
  },
  {
   "cell_type": "code",
   "execution_count": null,
   "metadata": {},
   "outputs": [],
   "source": [
    "cmap = \"gist_heat\";"
   ]
  },
  {
   "cell_type": "code",
   "execution_count": null,
   "metadata": {},
   "outputs": [],
   "source": [
    "figure(figsize=(7, 3))\n",
    "t_scale = 1\n",
    "vmin = -1.0\n",
    "vmax = 1.0\n",
    "\n",
    "center = floor(length(ts) / 2) |> Int\n",
    "\n",
    "ax = subplot(121)\n",
    "plot(t_scale * τs, ρτ[:, center] |> imag, ls=\"-\", c=\"C0\", lw=1.5)\n",
    "ax.set_xlabel(\"\\$J \\\\tau\\$\")\n",
    "ax.set_xlim(-t_scale * tmax / 2, t_scale * tmax / 2)\n",
    "# ax.set_ylim(-1, 1)\n",
    "ax.set_xticks(t_scale .* [-tmax/2, -tmax/4, 0, tmax/4, tmax/2])\n",
    "ax.xaxis.set_tick_params(pad=xpad)\n",
    "ax.yaxis.set_tick_params(pad=ypad)\n",
    "ax.set_ylabel(\"\\$  A_{11, \\\\uparrow}(T_{\\\\mathrm{max}}/2, \\\\tau)_W \\$\")\n",
    "\n",
    "ax = subplot(122)\n",
    "heatmap = ax.pcolormesh(X, Y, imag(GFs[1][1, 1, :, :]) .- imag(GFs[2][1, 1, :, :]), cmap=cmap, rasterized=true, vmin=vmin, vmax=vmax)\n",
    "heatmap.set_edgecolor(\"face\")\n",
    "ax.set_aspect(\"equal\")\n",
    "cbar = colorbar(mappable=heatmap)\n",
    "cbar.formatter.set_powerlimits((0, 0))\n",
    "ax.set_xlabel(\"\\$J t\\$\")\n",
    "ax.set_ylabel(\"\\$J t'\\$\")\n",
    "ax.set_xlim(0, t_scale * tmax)\n",
    "ax.set_ylim(0, t_scale * tmax)\n",
    "ax.set_xticks(t_scale .* [0, tmax/2, tmax])\n",
    "ax.set_yticks(t_scale .* [0, tmax/2, tmax])\n",
    "# ax.set_yticklabels([])\n",
    "tight_layout(pad=0.75, w_pad=0.5, h_pad=0)\n",
    "\n",
    "# savefig(\"fermi_hubbard_example_two_times.pdf\")"
   ]
  },
  {
   "cell_type": "code",
   "execution_count": null,
   "metadata": {
    "scrolled": true
   },
   "outputs": [],
   "source": [
    "figure(figsize = (8, 2.5))\n",
    "\n",
    "ax = subplot(121)\n",
    "plot(t_scale .* loaded_sol[\"solution\"].t, [(sum(GFs[1][i, i, k, k] for i = 1:num_sites) |> imag) .+ (sum(GFs[3][i, i, k, k] for i = 1:num_sites) |> imag) for k = 1:num_points] \n",
    "    .- sum(N_c .+ N_f)  .|> abs, \n",
    "    label = \"\\$ c \\$\", ls = \"-\", c = \"k\")\n",
    "xlim(0, t_scale .* tmax)\n",
    "ax.set_xticks(0:t_scale .* tmax / 5:t_scale .* tmax)\n",
    "ax.set_xticklabels([])\n",
    "ylabel(\"Charge conservation\", labelpad = 16)\n",
    "ax.yaxis.set_label_position(\"right\")\n",
    "\n",
    "ax = subplot(122)\n",
    "plot(t_scale .* loaded_sol[\"solution\"].t, [imag(GFs[5][idx_1, idx_1, k, k]) for k = 1:num_points], \n",
    "    label = \"\\$ T^<_{11}(t, t)\\$\", lw=1.5, ls = \"-\", c = \"#438E6A\")\n",
    "\n",
    "plot(t_scale .* sol_2B.t, [imag(-1.0im .* sol_2B.u[1][idx_1, idx_1, k, k] .* sol_2B.u[3][idx_1, idx_1, k, k]) for k = 1:size(sol_2B.t)[1]], \n",
    "    label = \"\\$ \\\\Phi^<_{11}(t, t)\\$\", lw=3.5, ls = \"--\", c = \"#438E6A\", alpha=0.5)\n",
    "\n",
    "xlim(0, t_scale .* tmax)\n",
    "ax.set_xticks(0:t_scale .* tmax / 5:t_scale .* tmax)\n",
    "ax.set_yticks(1e-2 .* [0, 0.5, 1])\n",
    "ylim(0, 0.01)\n",
    "xlabel(\"\\$J t\\$\")\n",
    "ylabel(\"Imaginary Part\", labelpad = 16)\n",
    "ax.xaxis.set_tick_params(pad = xpad)\n",
    "ax.yaxis.set_tick_params(pad = ypad)\n",
    "ticklabel_format(axis = \"y\", style = \"sci\", scilimits = (-0, 0))\n",
    "ax.legend(loc = \"best\", handlelength = 1.9, frameon = false, borderpad = 0, labelspacing = 0.25)\n",
    "ax.yaxis.set_label_position(\"right\")\n",
    "\n",
    "\n",
    "tight_layout(pad = 0.0, w_pad = 0.5, h_pad = 0)\n",
    "# savefig(\"fermi_hubbard_example_T_inset.pdf\")"
   ]
  }
 ],
 "metadata": {
  "kernelspec": {
   "display_name": "Julia 1.6.0",
   "language": "julia",
   "name": "julia-1.6"
  },
  "language_info": {
   "file_extension": ".jl",
   "mimetype": "application/julia",
   "name": "julia",
   "version": "1.6.0"
  }
 },
 "nbformat": 4,
 "nbformat_minor": 2
}
