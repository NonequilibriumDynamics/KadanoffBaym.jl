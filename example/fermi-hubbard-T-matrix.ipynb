{
 "cells": [
  {
   "cell_type": "markdown",
   "metadata": {},
   "source": [
    "# Fermi-Hubbard Model"
   ]
  },
  {
   "cell_type": "code",
   "execution_count": 1,
   "metadata": {
    "scrolled": true
   },
   "outputs": [
    {
     "name": "stderr",
     "output_type": "stream",
     "text": [
      "\u001b[32m\u001b[1m  Activating\u001b[22m\u001b[39m environment at `~/.julia/environments/v1.6/Project.toml`\n"
     ]
    }
   ],
   "source": [
    "using Pkg; Pkg.activate()\n",
    "using KadanoffBaym\n",
    "using LinearAlgebra, BlockArrays\n",
    "using UnPack\n",
    "using JLD"
   ]
  },
  {
   "cell_type": "code",
   "execution_count": 2,
   "metadata": {},
   "outputs": [],
   "source": [
    "using PyPlot\n",
    "PyPlot.plt.style.use(\"./paper.mplstyle\")"
   ]
  },
  {
   "cell_type": "markdown",
   "metadata": {},
   "source": [
    "## Model"
   ]
  },
  {
   "cell_type": "markdown",
   "metadata": {},
   "source": [
    "Second-order Born approximation:\n",
    "$$\n",
    "    \\Sigma_{ij, \\uparrow}  (t, t') = U^2 G_{ij, \\uparrow}(t, t') G_{ij, \\downarrow}(t, t') G_{ji, \\downarrow}(t', t),\\\\\n",
    "    \\Sigma_{ij, \\downarrow}(t, t') = U^2 G_{ij, \\downarrow}(t, t') G_{ij, \\uparrow}(t, t') G_{ji, \\uparrow}(t', t)\n",
    "$$\n",
    "\n",
    "\n",
    "$T$-matrix approximation:\n",
    "$$\n",
    "    \\Sigma_{ij, \\uparrow}  (t, t') = U^2 T_{ij}(t, t') G_{ji, \\downarrow}(t', t),\\\\\n",
    "    \\Sigma_{ij, \\downarrow}(t, t') = U^2 T_{ij}(t, t') G_{ji, \\uparrow}(t', t)\n",
    "$$\n",
    "\n",
    "$$\n",
    "   T_{ij}(t, t') =  G_{ij, \\uparrow}(t, t') G_{ij, \\downarrow}(t, t') + U \\int_{\\mathcal{C}}\\mathrm{d}s\\; G_{ij, \\uparrow}(t, s) G_{ij, \\downarrow}(t, s) T_{ij}(s, t')\n",
    "$$\n",
    "\n",
    "$t<t'$:\n",
    "$$\n",
    "    \\int_{\\mathcal{C}}\\mathrm{d}s\\; A(t, s) B(s, t') = \\int_{t_0}^{t}{\\mathrm{d}\\bar{t}}  A^>(t, \\bar{t}) B^<(\\bar{t}, t') + \\int_{t}^{t'}{\\mathrm{d}\\bar{t}}  A^<(t, \\bar{t}) B^<(\\bar{t}, t') + \\int_{t'}^{t_0}{\\mathrm{d}\\bar{t}}  A^<(t, \\bar{t}) B^>(\\bar{t}, t')  \n",
    "$$\n",
    "$t>t'$:\n",
    "$$\n",
    "    \\int_{\\mathcal{C}}\\mathrm{d}s\\; A(t, s) B(s, t') = \\int_{t_0}^{t'}{\\mathrm{d}\\bar{t}}  A^>(t, \\bar{t}) B^<(\\bar{t}, t') + \\int_{t'}^{t}{\\mathrm{d}\\bar{t}}  A^>(t, \\bar{t}) B^>(\\bar{t}, t') + \\int_{t}^{t_0}{\\mathrm{d}\\bar{t}}  A^<(t, \\bar{t}) B^>(\\bar{t}, t')  \n",
    "$$\n",
    "\n",
    "$$\n",
    "    T^<_{ij}(t, t') =  G^<_{ij, \\uparrow}(t, t') G^<_{ij, \\downarrow}(t, t') + U \\int_{t_0}^{t}{\\mathrm{d}\\bar{t}}\\; G^>_{ij, \\uparrow}(t, s) G^>_{ij, \\downarrow}(t, s) T^<_{ij}(s, t') + U \\int_{t}^{t'}{\\mathrm{d}\\bar{t}}\\; G^<_{ij, \\uparrow}(t, s) G^<_{ij, \\downarrow}(t, s) T^<_{ij}(s, t') + U \\int_{t'}^{t_0}{\\mathrm{d}\\bar{t}}\\; G^<_{ij, \\uparrow}(t, s) G^<_{ij, \\downarrow}(t, s) T^>_{ij}(s, t')\n",
    "$$\n",
    "\n",
    "$$\n",
    "    T^>_{ij}(t, t') =  G^>_{ij, \\uparrow}(t, t') G^>_{ij, \\downarrow}(t, t') + U \\int_{t_0}^{t'}{\\mathrm{d}\\bar{t}}\\; G^>_{ij, \\uparrow}(t, s) G^>_{ij, \\downarrow}(t, s) T^<_{ij}(s, t') + U \\int_{t'}^{t}{\\mathrm{d}\\bar{t}}\\; G^>_{ij, \\uparrow}(t, s) G^>_{ij, \\downarrow}(t, s) T^>_{ij}(s, t') + U \\int_{t}^{t_0}{\\mathrm{d}\\bar{t}}\\; G^<_{ij, \\uparrow}(t, s) G^<_{ij, \\downarrow}(t, s) T^>_{ij}(s, t')\n",
    "$$"
   ]
  },
  {
   "cell_type": "markdown",
   "metadata": {},
   "source": [
    "$$\n",
    "    \\dot{T}^<_{ij}(t, t') = \\partial_t\\left(G^<_{ij, \\uparrow}(t, t') G^<_{ij, \\downarrow}(t, t')\\right) + U G^>_{ij, \\uparrow}(t, t) G^>_{ij, \\downarrow}(t, t) T^<_{ij}(t, t') - U G^<_{ij, \\uparrow}(t, t) G^<_{ij, \\downarrow}(t, t) T^<_{ij}(t, t') \\\\\n",
    "    + U \\int_{t_0}^{t}{\\mathrm{d}\\bar{t}}\\; \\partial_t\\left(G^>_{ij, \\uparrow}(t, t') G^>_{ij, \\downarrow}(t, t')\\right) T^<_{ij}(s, t') + U \\int_{t}^{t'}{\\mathrm{d}\\bar{t}}\\; \\partial_t\\left(G^<_{ij, \\uparrow}(t, t') G^<_{ij, \\downarrow}(t, t')\\right) T^<_{ij}(s, t') + U \\int_{t'}^{t_0}{\\mathrm{d}\\bar{t}}\\; \\partial_t\\left(G^<_{ij, \\uparrow}(t, t') G^<_{ij, \\downarrow}(t, t')\\right) T^>_{ij}(s, t')\n",
    "$$\n",
    "\n",
    "$$\n",
    "    \\dot{T}^>_{ij}(t, t') = \\partial_t\\left(G^>_{ij, \\uparrow}(t, t') G^>_{ij, \\downarrow}(t, t')\\right) + U G^>_{ij, \\uparrow}(t, t) G^>_{ij, \\downarrow}(t, t) T^>_{ij}(t, t') - U G^<_{ij, \\uparrow}(t, t) G^<_{ij, \\downarrow}(t, t) T^>_{ij}(t, t') \\\\\n",
    "    + U \\int_{t_0}^{t'}{\\mathrm{d}\\bar{t}}\\; \\partial_t\\left(G^>_{ij, \\uparrow}(t, s) G^>_{ij, \\downarrow}(t, s)\\right) T^<_{ij}(s, t') + U \\int_{t'}^{t}{\\mathrm{d}\\bar{t}}\\; \\partial_t\\left(G^>_{ij, \\uparrow}(t, s) G^>_{ij, \\downarrow}(t, s)\\right) T^<_{ij}(s, t') + U \\int_{t}^{t_0}{\\mathrm{d}\\bar{t}}\\; \\partial_t\\left(G^<_{ij, \\uparrow}(t, s) G^<_{ij, \\downarrow}(t, s)\\right) T^>_{ij}(s, t')\n",
    "$$"
   ]
  },
  {
   "cell_type": "markdown",
   "metadata": {},
   "source": [
    "## Solving"
   ]
  },
  {
   "cell_type": "code",
   "execution_count": 3,
   "metadata": {},
   "outputs": [
    {
     "data": {
      "text/plain": [
       "true"
      ]
     },
     "execution_count": 3,
     "metadata": {},
     "output_type": "execute_result"
    }
   ],
   "source": [
    "Matrix{Float64} <: AbstractArray"
   ]
  },
  {
   "cell_type": "code",
   "execution_count": 4,
   "metadata": {},
   "outputs": [
    {
     "data": {
      "text/plain": [
       "fixed_point (generic function with 1 method)"
      ]
     },
     "execution_count": 4,
     "metadata": {},
     "output_type": "execute_result"
    }
   ],
   "source": [
    "function integrate(x::AbstractVector, y::AbstractVector)\n",
    "    if isone(length(x))\n",
    "        return zero(first(y))\n",
    "    end\n",
    "\n",
    "    @inbounds retval = (x[2] - x[1]) * (y[1] + y[2])\n",
    "    @inbounds @fastmath @simd for i = 2:(length(y)-1)\n",
    "        retval += (x[i+1] - x[i]) * (y[i] + y[i+1])\n",
    "    end\n",
    "    return 1 // 2 * retval\n",
    "end;\n",
    "\n",
    "function fixed_point(x0::AbstractArray, F::Function; \n",
    "        mixing::Float64=0.04, abstol::Float64=1e-9, maxiter::Int=1000, verbose::Bool=true, norm=x -> LinearAlgebra.norm(x, Inf))\n",
    "  x_old = copy(x0)\n",
    "\n",
    "  step = 0\n",
    "  while step < maxiter\n",
    "    x = F(x_old)\n",
    "    res = norm(x - x_old)\n",
    "    if verbose\n",
    "      println(\"step: $step // res: $res\")\n",
    "    end\n",
    "    if res < abstol\n",
    "      break\n",
    "    end\n",
    "    @. x_old = mixing * x + (1.0 - mixing) * x_old\n",
    "    step += 1\n",
    "  end\n",
    "\n",
    "  if step == maxiter\n",
    "    println(\"No convergence reached.\") \n",
    "  else\n",
    "    println(\"Converged after $step steps.\")\n",
    "  end\n",
    "\n",
    "  return x_old\n",
    "end"
   ]
  },
  {
   "cell_type": "code",
   "execution_count": 5,
   "metadata": {},
   "outputs": [],
   "source": [
    "num_sites = 2;"
   ]
  },
  {
   "cell_type": "code",
   "execution_count": 6,
   "metadata": {},
   "outputs": [],
   "source": [
    "# 8-site 3D cubic lattice\n",
    "h = BlockArray{ComplexF64}(undef_blocks, [4, 4], [4, 4])\n",
    "diag_block = [0 -1 0 -1; -1 0 -1 0; 0 -1 0 -1; -1 0 -1 0]\n",
    "setblock!(h, diag_block, 1, 1)\n",
    "setblock!(h, diag_block, 2, 2)\n",
    "setblock!(h, Diagonal(-1 .* ones(4)), 1, 2)\n",
    "setblock!(h, Diagonal(-1 .* ones(4)), 2, 1)\n",
    "\n",
    "full_h = BlockArray{ComplexF64}(undef_blocks, [8, 8], [8, 8])\n",
    "setblock!(full_h, h |> Array, 1, 1)\n",
    "setblock!(full_h, h |> Array, 2, 2)\n",
    "setblock!(full_h, zeros(ComplexF64, 8, 8), 1, 2)\n",
    "setblock!(full_h, zeros(ComplexF64, 8, 8), 2, 1)\n",
    "\n",
    "full_h = full_h |> Array;"
   ]
  },
  {
   "cell_type": "code",
   "execution_count": 7,
   "metadata": {},
   "outputs": [
    {
     "data": {
      "text/plain": [
       "FermiHubbardModel"
      ]
     },
     "execution_count": 7,
     "metadata": {},
     "output_type": "execute_result"
    }
   ],
   "source": [
    "Base.@kwdef struct FermiHubbardModel\n",
    "    U::Float64\n",
    "    H = ComplexF64[0 -1 0 0; -1 0 0 0; 0 0 0 -1; 0 0 -1 0] # two-site 1D chain\n",
    "    \n",
    "    # 8-site 3D cubic lattice\n",
    "#     H = full_h\n",
    "end"
   ]
  },
  {
   "cell_type": "code",
   "execution_count": 8,
   "metadata": {},
   "outputs": [],
   "source": [
    "struct FermiHubbardData{T}\n",
    "    GL::T\n",
    "    GG::T\n",
    "    FL::T\n",
    "    FG::T\n",
    "    \n",
    "    TL::T\n",
    "    TG::T    \n",
    "    \n",
    "    ΣNCA_c_L::T\n",
    "    ΣNCA_c_G::T\n",
    "    ΣNCA_f_L::T\n",
    "    ΣNCA_f_G::T\n",
    "    \n",
    "    # Initialize problem\n",
    "    function FermiHubbardData(GL::T, GG::T, FL::T, FG::T, TL::T, TG::T) where T\n",
    "        new{T}(GL, GG, FL, FG, zero(TL), zero(TG), zero(GL), zero(GG), zero(FL), zero(FG))\n",
    "    end\n",
    "end"
   ]
  },
  {
   "cell_type": "code",
   "execution_count": 9,
   "metadata": {
    "scrolled": false
   },
   "outputs": [
    {
     "data": {
      "text/plain": [
       "fd! (generic function with 1 method)"
      ]
     },
     "execution_count": 9,
     "metadata": {},
     "output_type": "execute_result"
    }
   ],
   "source": [
    "function fv!(model, data, out, times, t, t′)\n",
    "    @unpack GL, GG, FL, FG, TL, TG, ΣNCA_c_L, ΣNCA_c_G, ΣNCA_f_L, ΣNCA_f_G = data\n",
    "    @unpack H, U = model \n",
    "    \n",
    "    # real-time collision integral\n",
    "    ∫dt(i, j, A, B) = sign(j - i) * integrate(times[min(i, j):max(i, j)],[A[t, s] * B[s, t′] for s = min(i, j):max(i, j)])\n",
    "    \n",
    "    ΣHF_c(t, t′) = 1.0im * U * Diagonal([FL[k, k, t, t] for k in 1:num_sites])\n",
    "    ΣHF_f(t, t′) = 1.0im * U * Diagonal([GL[k, k, t, t] for k in 1:num_sites])\n",
    "    \n",
    "    out[1] = -1.0im * ((H[1:num_sites, 1:num_sites] + ΣHF_c(t, t′)) * GL[t, t′] + \n",
    "            ∫dt(1, t, ΣNCA_c_G, GL) + ∫dt(t, t′, ΣNCA_c_L, GL) - ∫dt(1, t′, ΣNCA_c_L, GG)\n",
    "        )\n",
    "\n",
    "    out[2] = -1.0im * ((H[1:num_sites, 1:num_sites] + ΣHF_c(t, t′)) * GG[t, t′] + \n",
    "            ∫dt(t′, t, ΣNCA_c_G, GG) - ∫dt(1, t, ΣNCA_c_L, GG) + ∫dt(1, t′, ΣNCA_c_G, GL)\n",
    "        )\n",
    "\n",
    "    out[3] = -1.0im * ((H[1 + num_sites:2 * num_sites, 1 + num_sites:2 * num_sites] + ΣHF_f(t, t′)) * FL[t, t′] + \n",
    "            ∫dt(1, t, ΣNCA_f_G, FL) + ∫dt(t, t′, ΣNCA_f_L, FL) - ∫dt(1, t′, ΣNCA_f_L, FG)\n",
    "        )\n",
    "\n",
    "    out[4] = -1.0im * ((H[1 + num_sites:2 * num_sites, 1 + num_sites:2 * num_sites] + ΣHF_f(t, t′)) * FG[t, t′] +\n",
    "            ∫dt(t′, t, ΣNCA_f_G, FG) - ∫dt(1, t, ΣNCA_f_L, FG) + ∫dt(1, t′, ΣNCA_f_G, FL)\n",
    "        )    \n",
    "    \n",
    "end\n",
    "\n",
    "function fd!(model, data, out, times, t, t′)\n",
    "    fv!(model, data, out, times, t, t)\n",
    "    out[1:4] .-= adjoint.(out[1:4])\n",
    "end"
   ]
  },
  {
   "cell_type": "code",
   "execution_count": 10,
   "metadata": {},
   "outputs": [
    {
     "data": {
      "text/plain": [
       "integrate (generic function with 2 methods)"
      ]
     },
     "execution_count": 10,
     "metadata": {},
     "output_type": "execute_result"
    }
   ],
   "source": [
    "# function kernel_row(K::Function, grid::Vector{T}) where T\n",
    "    \n",
    "#     # auxiliary function to avoid crossing grid boundaries\n",
    "#     check(grid, idx, inc) = !isassigned(grid, idx + inc) ? grid[idx] : grid[idx + inc]\n",
    "    \n",
    "#     return 0.5 .* [(check(grid, l, +1) - check(grid, l, -1)) .* K(grid[end], grid[l]) for l in 1:size(grid)[1]]\n",
    "# end\n",
    "\n",
    "function integrate(K::Function, u::S, grid::Vector{T}) where {T, S}\n",
    "    # auxiliary function to avoid crossing grid boundaries\n",
    "    check(grid, idx, inc) = !isassigned(grid, idx + inc) ? grid[idx] : grid[idx + inc]\n",
    "    \n",
    "    return 0.5 .* [(check(grid, l, +1) - check(grid, l, -1)) * K(size(grid)[1], l) * u[l] for l in 1:size(grid)[1]] |> sum   \n",
    "end"
   ]
  },
  {
   "cell_type": "code",
   "execution_count": 98,
   "metadata": {},
   "outputs": [
    {
     "data": {
      "text/plain": [
       "self_energies! (generic function with 1 method)"
      ]
     },
     "execution_count": 98,
     "metadata": {},
     "output_type": "execute_result"
    }
   ],
   "source": [
    "function self_energies!(model, data, times, t, t′)\n",
    "    @unpack GL, GG, FL, FG, TL, TG, ΣNCA_c_L, ΣNCA_c_G, ΣNCA_f_L, ΣNCA_f_G = data\n",
    "    @unpack U = model\n",
    "        \n",
    "    # real-time collision integral\n",
    "    ∫dt(i, j, A, B) = sign(j - i) * integrate(times[min(i, j):max(i, j)], [A[t, s] * B[s, t′] for s = min(i, j):max(i, j)])    \n",
    "#     ∫dt_(i, j, A, B) = sign(j - i) * integrate(A, [B[s, t′] for s = min(i, j):max(i, j)], times[min(i, j):max(i, j)])\n",
    "    ∫dt_(i, j, A, B) = sign(j - i) * integrate(times[min(i, j):max(i, j)], [A(t, s) * B[s, t′] for s = min(i, j):max(i, j)])    \n",
    "    ∫dt__(i, j, A, B) = sign(j - i) * integrate(times[min(i, j):max(i, j)], [A[t, s] * B(s, t′) for s = min(i, j):max(i, j)]) \n",
    "\n",
    "    if (n = size(GL, 3)) > size(ΣNCA_c_L, 3)\n",
    "        resize!(ΣNCA_c_L, n)\n",
    "        resize!(ΣNCA_c_G, n)\n",
    "        resize!(ΣNCA_f_L, n)\n",
    "        resize!(ΣNCA_f_G, n)\n",
    "    end\n",
    "    \n",
    "    ΦL(t, t′) = -1.0im .* GL[t, t′] .* FL[t, t′]\n",
    "    ΦG(t, t′) = -1.0im .* GG[t, t′] .* FG[t, t′]\n",
    "    \n",
    "    if t == t′\n",
    "#         m = 0.5U .* [kernel_row(ΦL, 1:size(times)[1] |> collect), kernel_row(ΦG, 1:size(times)[1] |> collect)]\n",
    "        x₀ = [ΦL(t, t), ΦG(t, t)]\n",
    "        \n",
    "        function F(x, i)\n",
    "            TL[t, t′] = x[1]\n",
    "            TG[t, t′] = x[2]\n",
    "            \n",
    "            return [\n",
    "                    ΦL(t, t′) + 0.5U .* (∫dt__(1, i, TG, ΦL) - ∫dt_(1, i, ΦL, TG)), \n",
    "                    TG[t, t′]\n",
    "                   ]\n",
    "        end\n",
    "#         F = x -> [\n",
    "#                   x₀[1] + sum([m[1][1:t-1][i] * TG[1:t-1, t][i] - TG[t, 1:t-1][i] * m[1][1:t-1][i] for i in 1:t-1]) + (m[1][t] * x[2] - x[2] * m[1][t]),\n",
    "#                   x₀[2] + sum([m[2][1:t-1][i] * TL[1:t-1, t][i] - TL[t, 1:t-1][i] * m[2][1:t-1][i] for i in 1:t-1]) + (m[2][t] * x[1] - x[1] * m[2][t])\n",
    "#                  ]\n",
    "#         F = x -> [\n",
    "#                   x₀[1] + 0.5U .* ∫dt_(1, t-1, ΦL, TG) - 0.5U .* ∫dt_(1, t-1, TG, ΦL) + (m[1][t] * x[2] - x[2] * m[1][t]),\n",
    "#                   x₀[2] + sum([m[2][1:t-1][i] * TL[1:t-1, t][i] - TL[t, 1:t-1][i] * m[2][1:t-1][i] for i in 1:t-1]) + (m[2][t] * x[1] - x[1] * m[2][t])\n",
    "#                  ]        \n",
    "#         println(round.(sum([m[1][1:t-1][i] * TG[1:t-1, t][i] for i in 1:t-1]), digits=10))\n",
    "#         println(round.(0.5U .* ∫dt_(1, t-1, ΦL, TG), digits=10))\n",
    "#         println(round.(0.5U .* ∫dt(1, t-1, TL, TG), digits=10), \"\\n\")\n",
    "        res = fixed_point(x₀, x -> F(x, t); mixing=0.5, verbose=false)\n",
    "        println(res)\n",
    "    end\n",
    "    \n",
    "    TL[t, t′] = -1.0im .* GL[t, t′] .* FL[t, t′]\n",
    "    TG[t, t′] = -1.0im .* GG[t, t′] .* FG[t, t′]        \n",
    "    \n",
    "    ΣNCA_c_L[t, t′] = 1.0im .* U^2 .* TL[t, t′] .* transpose(FG[t′, t])\n",
    "    ΣNCA_f_L[t, t′] = 1.0im .* U^2 .* TL[t, t′] .* transpose(GG[t′, t])\n",
    "    \n",
    "    ΣNCA_c_G[t, t′] = 1.0im .* U^2 .* TG[t, t′] .* transpose(FL[t′, t])\n",
    "    ΣNCA_f_G[t, t′] = 1.0im .* U^2 .* TG[t, t′] .* transpose(GL[t′, t])\n",
    "end"
   ]
  },
  {
   "cell_type": "code",
   "execution_count": 99,
   "metadata": {},
   "outputs": [],
   "source": [
    "# known = zeros(n + 1)\n",
    "# for i in 0:n\n",
    "#     m = kernel_row(K, non_equi_grid[1:i+1])\n",
    "#     x₀ = f(non_equi_grid[i+1])\n",
    "#     F = x -> x₀ .+ sum(known[1:i] .* m[1:i]) .+ m[i+1] * x\n",
    "#     known[i+1] = fixed_point([x₀], F; mixing=0.5, verbose=false)[1]\n",
    "# end"
   ]
  },
  {
   "cell_type": "code",
   "execution_count": 100,
   "metadata": {},
   "outputs": [],
   "source": [
    "# quantum numbers\n",
    "dim = num_sites\n",
    "\n",
    "# Define your Green functions at (t0, t0) – time arguments at the end\n",
    "GL = GreenFunction(zeros(ComplexF64, dim, dim, 1, 1), SkewHermitian)\n",
    "GG = GreenFunction(zeros(ComplexF64, dim, dim, 1, 1), SkewHermitian)\n",
    "FL = GreenFunction(zeros(ComplexF64, dim, dim, 1, 1), SkewHermitian)\n",
    "FG = GreenFunction(zeros(ComplexF64, dim, dim, 1, 1), SkewHermitian)\n",
    "\n",
    "TL = GreenFunction(zeros(ComplexF64, dim, dim, 1, 1), SkewHermitian)\n",
    "TG = GreenFunction(zeros(ComplexF64, dim, dim, 1, 1), SkewHermitian)\n",
    "\n",
    "# Initial condition\n",
    "N_c = zeros(num_sites)\n",
    "N_f = zeros(num_sites)\n",
    "N_c[1] = 0.8\n",
    "N_f[2] = 0.2\n",
    "# N_c[1:4] = [0.7, 0.0, 0.7, 0.0]\n",
    "# N_f[1:4] = [0.0, 0.25, 0.0, 0.25]\n",
    "\n",
    "# N_c[5:8] = [0.0, 0.4, 0.0, 0.4]\n",
    "# N_f[5:8] = [0.65, 0.0, 0.65, 0.0]\n",
    "\n",
    "GL[1, 1] = 1.0im * diagm(N_c)\n",
    "GG[1, 1] = -1.0im * (I - diagm(N_c))\n",
    "FL[1, 1] = 1.0im * diagm(N_f)\n",
    "FG[1, 1] = -1.0im * (I - diagm(N_f))\n",
    "\n",
    "data = FermiHubbardData(GL, GG, FL, FG, TL, TG)\n",
    "model = FermiHubbardModel(U = 0.25)\n",
    "# model = FermiHubbardModel(U = 1.)\n",
    "\n",
    "data.TL[1, 1] = -1.0im .* GL[1, 1] .* FL[1, 1]\n",
    "data.TG[1, 1] = -1.0im .* GG[1, 1] .* FG[1, 1]\n",
    "\n",
    "tmax = 2;"
   ]
  },
  {
   "cell_type": "code",
   "execution_count": 101,
   "metadata": {},
   "outputs": [],
   "source": [
    "atol = 1e-6\n",
    "rtol = 1e-4;\n",
    "\n",
    "# atol = 1e-5\n",
    "# rtol = 1e-3;"
   ]
  },
  {
   "cell_type": "code",
   "execution_count": 102,
   "metadata": {
    "scrolled": true
   },
   "outputs": [
    {
     "name": "stdout",
     "output_type": "stream",
     "text": [
      "Converged after 0 steps.\n",
      "Matrix{ComplexF64}[[0.0 + 0.0im 0.0 + 1.6000000000000003e-9im; 0.0 + 1.6000000000000003e-9im 0.0 + 0.0im], [0.0 + 0.19999999999999996im 0.0 + 1.5999999999999996e-9im; 0.0 + 1.5999999999999996e-9im 0.0 + 0.8im]]\n",
      "Converged after 0 steps.\n",
      "Matrix{ComplexF64}[[0.0 + 3.1999999360000005e-9im -4.7999999998800014e-14 + 6.399999999840001e-9im; 4.7999999998800014e-14 + 6.399999999840001e-9im 0.0 + 3.1999999360000005e-9im], [0.0 + 0.20000001519999988im -4.7999999998799995e-14 + 6.3999999998399995e-9im; 4.7999999998799995e-14 + 6.3999999998399995e-9im 0.0 + 0.7999999912im]]\n",
      "Converged after 0 steps.\n",
      "Matrix{ComplexF64}[[0.0 + 3.519999225520001e-8im -1.8479998799028022e-12 + 7.839999550324007e-8im; 1.8479998799028022e-12 + 7.839999550324007e-8im 0.0 + 3.519999225520001e-8im], [0.0 + 0.2000001671999922im -1.847999879902802e-12 + 7.839999550324004e-8im; 1.847999879902802e-12 + 7.839999550324004e-8im 0.0 + 0.7999999031999923im]]\n",
      "Converged after 0 steps.\n",
      "Matrix{ComplexF64}[[0.0 + 7.519996303520152e-8im -3.947997906293073e-12 + 7.839997292724202e-8im; 3.947997906293073e-12 + 7.839997292724202e-8im 0.0 + 7.519996305020152e-8im], [0.0 + 0.200000357199957im -3.947997906293073e-12 + 7.839997292724202e-8im; 3.947997906293073e-12 + 7.839997292724202e-8im 0.0 + 0.799999793199969im]]\n",
      "Converged after 0 steps.\n",
      "Matrix{ComplexF64}[[0.0 + 8.137610716946328e-7im -1.379116737615112e-10 + 8.169626266536561e-7im; 1.379116737615112e-10 + 8.169626266536561e-7im 0.0 + 8.137610731468177e-7im], [0.0 + 0.2000038653806184im -1.3791167376151118e-10 + 8.169626266536559e-7im; 1.3791167376151118e-10 + 8.169626266536559e-7im 0.0 + 0.7999977621415264im]]\n",
      "Converged after 0 steps.\n",
      "Matrix{ComplexF64}[[0.0 + 8.137604521364357e-7im -1.3791069705677137e-10 + 8.169598971598317e-7im; 1.3791069705677137e-10 + 8.169598971598317e-7im 0.0 + 8.137604593270128e-7im], [0.0 + 0.20000386537770418im -1.3791069705677132e-10 + 8.169598971598314e-7im; 1.3791069705677132e-10 + 8.169598971598314e-7im 0.0 + 0.7999977621432072im]]\n",
      "Converged after 0 steps.\n",
      "Matrix{ComplexF64}[[0.0 + 3.540240836043841e-6im -1.249547247251226e-9 + 3.5434546412534426e-6im; 1.249547247251226e-9 + 3.5434546412534426e-6im 0.0 + 3.540240941031691e-6im], [0.0 + 0.20001681643825847im -1.2495472472512255e-9 + 3.54345464125344e-6im; 1.2495472472512255e-9 + 3.54345464125344e-6im 0.0 + 0.7999902640435185im]]\n",
      "Converged after 0 steps.\n",
      "Matrix{ComplexF64}[[0.0 + 3.5402310547475525e-6im -1.2495221545882475e-9 + 3.5434256603901274e-6im; 1.2495221545882475e-9 + 3.5434256603901274e-6im 0.0 + 3.54023125030671e-6im], [0.0 + 0.20001681639224855im -1.2495221545882467e-9 + 3.5434256603901266e-6im; 1.2495221545882467e-9 + 3.5434256603901266e-6im 0.0 + 0.7999902640700564im]]\n",
      "Converged after 6 steps.\n",
      "Matrix{ComplexF64}[[0.0 + 4.58867823345486e-5im -2.9618278521837838e-8 + 4.589509808640435e-5im; 2.9618278521837838e-8 + 4.589509808640435e-5im 0.0 + 4.588679072989621e-5im], [0.0 + 0.2002180116681208im -5.830032956040062e-8 + 4.589506834300187e-5im; 5.830032956040062e-8 + 4.589506834300187e-5im 0.0 + 0.7998737619183246im]]\n",
      "Converged after 6 steps.\n",
      "Matrix{ComplexF64}[[0.0 + 4.588495855200059e-5im -2.959916952248834e-8 + 4.5886434966142844e-5im; 2.959916952248834e-8 + 4.5886434966142844e-5im 0.0 + 4.588498384360596e-5im], [0.0 + 0.20021800308572288im -5.8277113223168895e-8 + 4.58864052341487e-5im; 5.8277113223168895e-8 + 4.58864052341487e-5im 0.0 + 0.799873766870052im]]\n",
      "Converged after 8 steps.\n",
      "Matrix{ComplexF64}[[0.0 + 0.000124839202937918im -1.3133750635429007e-7 + 0.000124834871639473im; 1.3133750635429007e-7 + 0.000124834871639473im 0.0 + 0.00012483943904773617im], [0.0 + 0.20059335356533117im -2.615615387213789e-7 + 0.000124834668120343im; 2.615615387213789e-7 + 0.000124834668120343im 0.0 + 0.7996563252152821im]]\n",
      "Converged after 8 steps.\n",
      "Matrix{ComplexF64}[[0.0 + 0.0001248334842714267im -1.3128990971006967e-7 + 0.000124834879040961im; 1.3128990971006967e-7 + 0.000124834879040961im 0.0 + 0.00012483377338926195im], [0.0 + 0.20059332663337268im -2.615139505581814e-7 + 0.00012483467556284993im; 2.615139505581814e-7 + 0.00012483467556284993im 0.0 + 0.7996563407629386im]]\n",
      "Converged after 13 steps.\n",
      "Matrix{ComplexF64}[[0.0 + 0.0010928636860258966im -3.419296284841692e-6 + 0.0010918729471742663im; 3.419296284841692e-6 + 0.0010918729471742663im 0.0 + 0.0010928782107136946im], [0.0 + 0.2052195785877141im -6.7891647735533354e-6 + 0.0010918564682879045im; 6.7891647735533354e-6 + 0.0010918564682879045im 0.0 + 0.7969661722273415im]]\n",
      "Converged after 13 steps.\n",
      "Matrix{ComplexF64}[[0.0 + 0.0010918872032160002im -3.3951037138476684e-6 + 0.0010918781750214076im; 3.3951037138476684e-6 + 0.0010918781750214076im 0.0 + 0.0010919108842401405im], [0.0 + 0.2052149353063389im -6.76501325498059e-6 + 0.0010918617632902628im; 6.76501325498059e-6 + 0.0010918617632902628im 0.0 + 0.7969688717164599im]]\n",
      "Converged after 19 steps.\n",
      "Matrix{ComplexF64}[[0.0 + 0.01762075555193962im -0.0002789672169048262 + 0.017163968302333847im; 0.0002789672169048262 + 0.017163968302333847im 0.0 + 0.0176241520189474im], [0.0 + 0.2932510694205071im -0.0004688824536426794 + 0.01715997585309398im; 0.0004688824536426794 + 0.01715997585309398im 0.0 + 0.7419960249774695im]]\n",
      "Converged after 19 steps.\n",
      "Matrix{ComplexF64}[[0.0 + 0.017230264691186947im -0.00023262039168198373 + 0.01719237724297281im; 0.00023262039168198373 + 0.01719237724297281im 0.0 + 0.017238452164374786im], [0.0 + 0.2909384240484336im -0.0004239662153351667 + 0.01718881252408806im; 0.0004239662153351667 + 0.01718881252408806im 0.0 + 0.7435325984254169im]]\n",
      "Converged after 20 steps.\n",
      "Matrix{ComplexF64}[[0.0 + 0.034901721390508636im -0.0005867737026931821 + 0.03456927291240254im; 0.0005867737026931821 + 0.03456927291240254im 0.0 + 0.03496910941346841im], [0.0 + 0.4285901518811769im -0.001145129768222467 + 0.03456984052007122im; 0.001145129768222467 + 0.03456984052007122im 0.0 + 0.6413199034831619im]]\n",
      "Converged after 20 steps.\n",
      "Matrix{ComplexF64}[[0.0 + 0.03495846911986088im -0.0006694671562756802 + 0.03492302156673423im; 0.0006694671562756802 + 0.03492302156673423im 0.0 + 0.03502225238655937im], [0.0 + 0.42921721878856267im -0.0012285898361171655 + 0.03492299361291616im; 0.0012285898361171655 + 0.03492299361291616im 0.0 + 0.6408027417027953im]]\n",
      "Converged after 20 steps.\n",
      "Matrix{ComplexF64}[[0.0 + 0.038811788522400345im -0.000540247341973975 + 0.038001573917131534im; 0.000540247341973975 + 0.038001573917131534im 0.0 + 0.039041507981641466im], [0.0 + 0.5871207449906661im -0.0011970029762989913 + 0.03804748624196184im; 0.0011970029762989913 + 0.03804748624196184im 0.0 + 0.4908721649484518im]]\n",
      "Converged after 20 steps.\n",
      "Matrix{ComplexF64}[[0.0 + 0.0387503562027037im -0.0007770224475501222 + 0.03863453795105585im; 0.0007770224475501222 + 0.03863453795105585im 0.0 + 0.038967235343755166im], [0.0 + 0.5886195404165881im -0.0014319184389667379 + 0.03867906947064396im; 0.0014319184389667379 + 0.03867906947064396im 0.0 + 0.4892356771525142im]]\n",
      "Converged after 20 steps.\n",
      "Matrix{ComplexF64}[[0.0 + 0.02566394288187626im -0.0004684103096084186 + 0.02549367680536618im; 0.0004684103096084186 + 0.02549367680536618im 0.0 + 0.026111491123649144im], [0.0 + 0.7047739312373239im -0.0008223609047194325 + 0.025573587999985815im; 0.0008223609047194325 + 0.025573587999985815im 0.0 + 0.34718301028922244im]]\n",
      "Converged after 20 steps.\n",
      "Matrix{ComplexF64}[[0.0 + 0.025527173399989417im -0.00040628428109227313 + 0.025313419685384815im; 0.00040628428109227313 + 0.025313419685384815im 0.0 + 0.025973142624721335im], [0.0 + 0.7055148416111305im -0.000759901642822161 + 0.02539090712416065im; 0.000759901642822161 + 0.02539090712416065im 0.0 + 0.34616193934077083im]]\n",
      "Converged after 17 steps.\n",
      "Matrix{ComplexF64}[[0.0 + 0.007235933611037073im -0.0001304939032024321 + 0.007066463220818374im; 0.0001304939032024321 + 0.007066463220818374im 0.0 + 0.007952257198122377im], [0.0 + 0.7793846169536583im -0.00019348645160023703 + 0.007102946762515006im; 0.00019348645160023703 + 0.007102946762515006im 0.0 + 0.2358778439593024im]]\n",
      "Converged after 17 steps.\n",
      "Matrix{ComplexF64}[[0.0 + 0.007143043865841056im -4.811756581885768e-5 + 0.006943044902598474im; 4.811756581885768e-5 + 0.006943044902598474im 0.0 + 0.007866053013970378im], [0.0 + 0.7796904269163588im -0.0001113976218146987 + 0.006977639122722626im; 0.0001113976218146987 + 0.006977639122722626im 0.0 + 0.23539012121016437im]]\n",
      "Converged after 15 steps.\n",
      "Matrix{ComplexF64}[[0.0 + 0.00029878941871309777im 3.572449164125536e-5 + 0.0002778156587089894im; -3.572449164125536e-5 + 0.0002778156587089894im 0.0 + 0.0012111888216984295im], [0.0 + 0.8002932100014899im 1.531490139713671e-5 + 0.00028405666303186366im; -1.531490139713671e-5 + 0.00028405666303186366im 0.0 + 0.20122935813794196im]]\n",
      "Converged after 15 steps.\n",
      "Matrix{ComplexF64}[[0.0 + 0.00037319278921983125im 2.2753607040619456e-5 + 0.0003204009298311888im; -2.2753607040619456e-5 + 0.0003204009298311888im 0.0 + 0.0012966488922773072im], [0.0 + 0.8000988953512727im 2.390796377275833e-6 + 0.00032699760439126163im; -2.390796377275833e-6 + 0.00032699760439126163im 0.0 + 0.20158365915409127im]]\n",
      "Converged after 19 steps.\n",
      "Matrix{ComplexF64}[[0.0 + 0.012025440588217202im 0.00013409201834000786 + 0.012030373316833428im; -0.00013409201834000786 + 0.012030373316833428im 0.0 + 0.012864176393164372im], [0.0 + 0.7630198193352978im 0.00022981274330707288 + 0.0122068089421939im; -0.00022981274330707288 + 0.0122068089421939im 0.0 + 0.26222633532296913im]]\n",
      "Converged after 19 steps.\n",
      "Matrix{ComplexF64}[[0.0 + 0.012282481377425646im 0.00017042100680517017 + 0.012189125881996807im; -0.00017042100680517017 + 0.012189125881996807im 0.0 + 0.013134507618690203im], [0.0 + 0.7621254630994896im 0.0002673783163119419 + 0.012363903509712918im; -0.0002673783163119419 + 0.012363903509712918im 0.0 + 0.26364490569775895im]]\n",
      "Converged after 20 steps.\n",
      "Matrix{ComplexF64}[[0.0 + 0.022413276301391682im 0.0003395084786786531 + 0.02211508274902578im; -0.0003395084786786531 + 0.02211508274902578im 0.0 + 0.0230755644666504im], [0.0 + 0.7198614942568446im 0.000623773223181149 + 0.022458283672740782im; -0.000623773223181149 + 0.022458283672740782im 0.0 + 0.32633043811707213im]]\n",
      "Converged after 20 steps.\n",
      "Matrix{ComplexF64}[[0.0 + 0.0224160763470371im 0.00035578184643049037 + 0.022100247885924795im; -0.00035578184643049037 + 0.022100247885924795im 0.0 + 0.023077218013608403im], [0.0 + 0.7198499193095573im 0.000639985543382175 + 0.02244286927987672im; -0.000639985543382175 + 0.02244286927987672im 0.0 + 0.3263456041606296im]]\n",
      "  2.344275 seconds (2.91 M allocations: 177.320 MiB, 1.58% gc time, 93.79% compilation time)\n"
     ]
    }
   ],
   "source": [
    "@time sol = kbsolve!(\n",
    "    (x...) -> fv!(model, data, x...),\n",
    "    (x...) -> begin\n",
    "#         println(\" t: $(x[2][x[3]])\")\n",
    "        fd!(model, data, x...)\n",
    "    end,\n",
    "    [data.GL, data.GG, data.FL, data.FG, data.TL, data.TG],\n",
    "    (0.0, tmax);\n",
    "    callback = (x...) -> self_energies!(model, data, x...),\n",
    "    atol = atol,\n",
    "    rtol = rtol,\n",
    "    dtini=1e-4\n",
    ");"
   ]
  },
  {
   "cell_type": "code",
   "execution_count": 97,
   "metadata": {},
   "outputs": [
    {
     "data": {
      "image/png": "[encoded data removed]",
      "text/plain": [
       "Figure(PyObject <Figure size 640x480 with 1 Axes>)"
      ]
     },
     "metadata": {},
     "output_type": "display_data"
    },
    {
     "data": {
      "text/plain": [
       "1-element Vector{PyCall.PyObject}:\n",
       " PyObject <matplotlib.lines.Line2D object at 0x7f1d33c18190>"
      ]
     },
     "execution_count": 97,
     "metadata": {},
     "output_type": "execute_result"
    }
   ],
   "source": [
    "plot(sol.t[1:end-1], sol.t |> diff)"
   ]
  },
  {
   "cell_type": "code",
   "execution_count": 84,
   "metadata": {},
   "outputs": [],
   "source": [
    "# save(\"FH_1D_sol_U_\"*string(model.U)*\"_atol_1e-8_rtol_1e-6.jld\", \"solution\", sol)\n",
    "save(\"FH_3D_T_matrix_sol_U_\"*string(model.U)*\"_tmax_\"*string(tmax)*\"_atol_\"*string(atol)*\"_rtol_\"*string(rtol)*\".jld\", \"solution\", sol)"
   ]
  },
  {
   "cell_type": "code",
   "execution_count": 311,
   "metadata": {},
   "outputs": [
    {
     "data": {
      "text/plain": [
       "2×2×3 Array{ComplexF64, 3}:\n",
       "[:, :, 1] =\n",
       " 0.0+0.2im  0.0+0.0im\n",
       " 0.0+0.0im  0.0+0.8im\n",
       "\n",
       "[:, :, 2] =\n",
       " -8.0e-6+0.2im     4.0e-13-3.2e-8im\n",
       " 1.0e-13-8.0e-9im  -8.0e-6+0.8im\n",
       "\n",
       "[:, :, 3] =\n",
       "   -2.8e-5+0.2im     3.29e-11-3.92e-7im\n",
       " 8.225e-12-9.8e-8im   -2.8e-5+0.8im"
      ]
     },
     "execution_count": 311,
     "metadata": {},
     "output_type": "execute_result"
    }
   ],
   "source": [
    "data.TG[1:3, 1]"
   ]
  },
  {
   "cell_type": "code",
   "execution_count": 303,
   "metadata": {},
   "outputs": [
    {
     "data": {
      "text/plain": [
       "3-element Vector{ComplexF64}:\n",
       " 0.0 + 0.19999999999999996im\n",
       " 0.0 + 0.0im\n",
       " 0.0 + 0.0im"
      ]
     },
     "execution_count": 303,
     "metadata": {},
     "output_type": "execute_result"
    }
   ],
   "source": [
    "[data.TG[1:3, 1][i] for i in 1:3]"
   ]
  },
  {
   "cell_type": "markdown",
   "metadata": {},
   "source": [
    "## Example plots"
   ]
  },
  {
   "cell_type": "markdown",
   "metadata": {},
   "source": [
    "### Load data"
   ]
  },
  {
   "cell_type": "code",
   "execution_count": 51,
   "metadata": {},
   "outputs": [],
   "source": [
    "# loaded_sol = load(\"FH_1D_sol_U_0.5_atol_1e-8_rtol_1e-6.jld\")\n",
    "loaded_sol = load(\"FH_3D_T_matrix_sol_U_\"*string(model.U)*\"_tmax_\"*string(tmax)*\"_atol_\"*string(atol)*\"_rtol_\"*string(rtol)*\".jld\")\n",
    "\n",
    "# U_0_sol = load(\"FH_sol_U_0.0_atol_1e-8_rtol_1e-6.jld\");"
   ]
  },
  {
   "cell_type": "code",
   "execution_count": 52,
   "metadata": {},
   "outputs": [
    {
     "data": {
      "text/plain": [
       "16"
      ]
     },
     "execution_count": 52,
     "metadata": {},
     "output_type": "execute_result"
    }
   ],
   "source": [
    "num_points = (loaded_sol[\"solution\"].t |> size)[1]"
   ]
  },
  {
   "cell_type": "code",
   "execution_count": 53,
   "metadata": {
    "scrolled": true
   },
   "outputs": [
    {
     "data": {
      "image/png": "[encoded data removed]",
      "text/plain": [
       "Figure(PyObject <Figure size 800x300 with 2 Axes>)"
      ]
     },
     "metadata": {},
     "output_type": "display_data"
    }
   ],
   "source": [
    "xpad = 8\n",
    "ypad = 5\n",
    "\n",
    "figure(figsize = (8, 3))\n",
    "\n",
    "ax = subplot(121)\n",
    "idx_1 = 1\n",
    "idx_2 = 2\n",
    "\n",
    "plot(loaded_sol[\"solution\"].t, [imag(loaded_sol[\"solution\"].u[1][idx_1, idx_1, k, k] .+ loaded_sol[\"solution\"].u[3][idx_1, idx_1, k, k]) for k = 1:num_points], \n",
    "    label = \"\\$ i=1\\$\", lw=1.5, ls = \"--\", c = \"#438E6A\")\n",
    "\n",
    "plot(loaded_sol[\"solution\"].t, [imag(loaded_sol[\"solution\"].u[1][idx_2, idx_2, k, k] .+ loaded_sol[\"solution\"].u[3][idx_2, idx_2, k, k]) for k = 1:num_points], \n",
    "    label = \"\\$ i=8\\$\", lw=1.5, ls = \"-\", c = \"#2D5FAA\")\n",
    "\n",
    "idx_1 = 1\n",
    "idx_2 = 2\n",
    "\n",
    "plot(loaded_sol[\"solution\"].t, [imag(loaded_sol[\"solution\"].u[1][idx_1, idx_1, k, k] .+ loaded_sol[\"solution\"].u[3][idx_1, idx_1, k, k]) for k = 1:num_points]) \n",
    "\n",
    "plot(loaded_sol[\"solution\"].t, [imag(loaded_sol[\"solution\"].u[1][idx_2, idx_2, k, k] .+ loaded_sol[\"solution\"].u[3][idx_2, idx_2, k, k]) for k = 1:num_points]) \n",
    "\n",
    "\n",
    "idx_1 = 1\n",
    "idx_2 = 2\n",
    "\n",
    "\n",
    "xlim(0, tmax)\n",
    "# ax.set_xticks([0, 8, 16, 24, 32])\n",
    "ylim(-0, 1)\n",
    "xlabel(\"\\$J t\\$\")\n",
    "# ylabel(\"\\$\\\\mathrm{Im}\\\\; G^<_{11, \\\\sigma}(t, t)\\$\")\n",
    "ylabel(\"Charge\", labelpad = 8)\n",
    "ax.xaxis.set_tick_params(pad = xpad)\n",
    "ax.yaxis.set_tick_params(pad = ypad)\n",
    "# ax.set_axisbelow(false)\n",
    "# ticklabel_format(axis = \"y\", style = \"sci\", scilimits = (-0, 0))\n",
    "ax.legend(loc = \"best\", handlelength = 1.9, frameon = false, borderpad = 0, labelspacing = 0.25)\n",
    "\n",
    "ax = subplot(122)\n",
    "\n",
    "plot(loaded_sol[\"solution\"].t, [imag(loaded_sol[\"solution\"].u[1][idx_1, idx_1, k, k] .- loaded_sol[\"solution\"].u[3][idx_1, idx_1, k, k]) for k = 1:num_points], \n",
    "    label = \"\\$ i=2\\$\", lw=1.5, ls = \"--\", c = \"#438E6A\")\n",
    "\n",
    "plot(loaded_sol[\"solution\"].t, [imag(loaded_sol[\"solution\"].u[1][idx_2, idx_2, k, k] .- loaded_sol[\"solution\"].u[3][idx_2, idx_2, k, k]) for k = 1:num_points], \n",
    "    label = \"\\$ i=2\\$\",  lw=1.5, ls = \"-\", c = \"#2D5FAA\")\n",
    "\n",
    "xlim(0, tmax)\n",
    "ylim(-1, 1)\n",
    "# ax.set_xticks([0, 8, 16, 24, 32])\n",
    "# ax.set_yticklabels([])\n",
    "xlabel(\"\\$J t\\$\")\n",
    "ylabel(\"Spin\", labelpad = 16)\n",
    "ax.xaxis.set_tick_params(pad = xpad)\n",
    "ax.yaxis.set_tick_params(pad = ypad)\n",
    "ax.set_axisbelow(false)\n",
    "# ticklabel_format(axis = \"y\", style = \"sci\", scilimits = (-0, 0))\n",
    "# ax.legend( loc = \"best\", handlelength = 1.9, frameon = false, borderpad = 0, labelspacing = 0.25)\n",
    "ax.yaxis.set_label_position(\"right\")\n",
    "\n",
    "tight_layout(pad = 0.1, w_pad = 0.5, h_pad = 0)\n",
    "# savefig(\"fermi_hubbard_T.pdf\")"
   ]
  },
  {
   "cell_type": "code",
   "execution_count": 54,
   "metadata": {
    "scrolled": true
   },
   "outputs": [
    {
     "data": {
      "image/png": "[encoded data removed]",
      "text/plain": [
       "Figure(PyObject <Figure size 800x200 with 2 Axes>)"
      ]
     },
     "metadata": {},
     "output_type": "display_data"
    }
   ],
   "source": [
    "Gs = loaded_sol[\"solution\"]\n",
    "\n",
    "xpad = 8\n",
    "ypad = 5\n",
    "\n",
    "figure(figsize = (8, 2))\n",
    "\n",
    "ax = subplot(121)\n",
    "plot(loaded_sol[\"solution\"].t, [(sum(Gs.u[1][i, i, k, k] for i = 1:num_sites) |> imag) .+ (sum(Gs.u[3][i, i, k, k] for i = 1:num_sites) |> imag) for k = 1:num_points] \n",
    "    .- sum(N_c .+ N_f)  .|> abs, \n",
    "    label = \"\\$ c \\$\", ls = \"-\", c = \"k\")\n",
    "xlim(0, tmax)\n",
    "# ax.set_xticks([0, 8, 16, 24, 32])\n",
    "ax.set_xticklabels([])\n",
    "# yticks([k for k in 0:0.5:1] .* 5e-15)\n",
    "# ylim(0., 0.1)\n",
    "ylabel(\"Charge conservation\", labelpad = 16)\n",
    "ax.yaxis.set_label_position(\"right\")\n",
    "\n",
    "ax = subplot(122)\n",
    "plot(loaded_sol[\"solution\"].t, [(sum(Gs.u[1][i, i, k, k] for i = 1:num_sites) |> imag) .- (sum(Gs.u[3][i, i, k, k] for i = 1:num_sites) |> imag) for k = 1:num_points] \n",
    "    .- sum(N_c .- N_f) .|> abs, \n",
    "    label = \"\\$ c \\$\", ls = \"-\", c = \"k\")\n",
    "xlim(0, tmax)\n",
    "# ax.set_xticks([0, 8, 16, 24, 32])\n",
    "yticks([k for k in 0:0.5:1] .* 3e-15)\n",
    "ax.set_xticklabels([])\n",
    "# ax.set_yticklabels([])\n",
    "ylim([0.0, 1] .* 3e-15)\n",
    "ylabel(\"Spin conservation\", labelpad = 16)\n",
    "ax.yaxis.set_label_position(\"right\")\n",
    "\n",
    "tight_layout(pad = 0.0, w_pad = 0.5, h_pad = 0)\n",
    "# savefig(\"fermi_hubbard_example_T_inset.pdf\")"
   ]
  },
  {
   "cell_type": "code",
   "execution_count": 55,
   "metadata": {},
   "outputs": [],
   "source": [
    "using FFTW, Interpolations"
   ]
  },
  {
   "cell_type": "code",
   "execution_count": 56,
   "metadata": {},
   "outputs": [
    {
     "ename": "LoadError",
     "evalue": "UndefVarError: sol not defined",
     "output_type": "error",
     "traceback": [
      "UndefVarError: sol not defined",
      "",
      "Stacktrace:",
      " [1] top-level scope",
      "   @ In[56]:2",
      " [2] eval",
      "   @ ./boot.jl:360 [inlined]",
      " [3] include_string(mapexpr::typeof(REPL.softscope), mod::Module, code::String, filename::String)",
      "   @ Base ./loading.jl:1094"
     ]
    }
   ],
   "source": [
    "idx = 1\n",
    "ρτ, (τs, ts) = wigner_transform_itp(FG[idx, idx, :, :] - FL[idx, idx, :, :], sol.t, fourier=false);\n",
    "ρω, (ωs, ts) = wigner_transform_itp(FG[idx, idx, :, :] - FL[idx, idx, :, :], sol.t, fourier=true);"
   ]
  },
  {
   "cell_type": "code",
   "execution_count": 57,
   "metadata": {},
   "outputs": [
    {
     "ename": "LoadError",
     "evalue": "BoundsError: attempt to access 2×2×16×16 Array{ComplexF64, 4} at index [5, 5, 1:16, 1:16]",
     "output_type": "error",
     "traceback": [
      "BoundsError: attempt to access 2×2×16×16 Array{ComplexF64, 4} at index [5, 5, 1:16, 1:16]",
      "",
      "Stacktrace:",
      " [1] throw_boundserror(A::Array{ComplexF64, 4}, I::Tuple{Int64, Int64, Base.Slice{Base.OneTo{Int64}}, Base.Slice{Base.OneTo{Int64}}})",
      "   @ Base ./abstractarray.jl:651",
      " [2] checkbounds",
      "   @ ./abstractarray.jl:616 [inlined]",
      " [3] _getindex",
      "   @ ./multidimensional.jl:831 [inlined]",
      " [4] getindex",
      "   @ ./abstractarray.jl:1170 [inlined]",
      " [5] getindex(::GreenFunction{ComplexF64, 4, Array{ComplexF64, 4}, SkewHermitian}, ::Int64, ::Int64, ::Function, ::Function)",
      "   @ KadanoffBaym ~/.julia/dev/KadanoffBaym/src/gf.jl:64",
      " [6] top-level scope",
      "   @ In[57]:3",
      " [7] eval",
      "   @ ./boot.jl:360 [inlined]",
      " [8] include_string(mapexpr::typeof(REPL.softscope), mod::Module, code::String, filename::String)",
      "   @ Base ./loading.jl:1094"
     ]
    }
   ],
   "source": [
    "idx = 5\n",
    "shift = 0\n",
    "ρτ, (τs, ts) = wigner_transform_itp((loaded_sol[\"solution\"].u[2][idx, idx, :, :] - loaded_sol[\"solution\"].u[1][idx, idx, :, :])[1+shift:end-shift, 1+shift:end-shift], \n",
    "    loaded_sol[\"solution\"].t[1+shift:end-shift], fourier=false);\n",
    "ρω, (ωs, ts) = wigner_transform_itp((loaded_sol[\"solution\"].u[2][idx, idx, :, :] - loaded_sol[\"solution\"].u[1][idx, idx, :, :])[1+shift:end-shift, 1+shift:end-shift], \n",
    "    loaded_sol[\"solution\"].t[1+shift:end-shift], fourier=true);"
   ]
  },
  {
   "cell_type": "code",
   "execution_count": 58,
   "metadata": {},
   "outputs": [
    {
     "ename": "LoadError",
     "evalue": "UndefVarError: τs not defined",
     "output_type": "error",
     "traceback": [
      "UndefVarError: τs not defined",
      "",
      "Stacktrace:",
      " [1] top-level scope",
      "   @ In[58]:1",
      " [2] eval",
      "   @ ./boot.jl:360 [inlined]",
      " [3] include_string(mapexpr::typeof(REPL.softscope), mod::Module, code::String, filename::String)",
      "   @ Base ./loading.jl:1094"
     ]
    }
   ],
   "source": [
    "τs |> size"
   ]
  },
  {
   "cell_type": "code",
   "execution_count": 59,
   "metadata": {},
   "outputs": [
    {
     "ename": "LoadError",
     "evalue": "UndefVarError: ts not defined",
     "output_type": "error",
     "traceback": [
      "UndefVarError: ts not defined",
      "",
      "Stacktrace:",
      " [1] top-level scope",
      "   @ In[59]:1",
      " [2] eval",
      "   @ ./boot.jl:360 [inlined]",
      " [3] include_string(mapexpr::typeof(REPL.softscope), mod::Module, code::String, filename::String)",
      "   @ Base ./loading.jl:1094"
     ]
    }
   ],
   "source": [
    "ts |> size"
   ]
  },
  {
   "cell_type": "code",
   "execution_count": 60,
   "metadata": {},
   "outputs": [],
   "source": [
    "t_scale = 1\n",
    "ω_scale = 1;"
   ]
  },
  {
   "cell_type": "code",
   "execution_count": 61,
   "metadata": {},
   "outputs": [
    {
     "ename": "LoadError",
     "evalue": "UndefVarError: ts not defined",
     "output_type": "error",
     "traceback": [
      "UndefVarError: ts not defined",
      "",
      "Stacktrace:",
      " [1] top-level scope",
      "   @ In[61]:4",
      " [2] eval",
      "   @ ./boot.jl:360 [inlined]",
      " [3] include_string(mapexpr::typeof(REPL.softscope), mod::Module, code::String, filename::String)",
      "   @ Base ./loading.jl:1094"
     ]
    }
   ],
   "source": [
    "xpad = 8\n",
    "ypad = 5\n",
    "\n",
    "center = floor(length(ts) / 2) |> Int\n",
    "center |> print\n",
    "\n",
    "figure(figsize=(8, 3))\n",
    "\n",
    "ax = subplot(121)\n",
    "plot(t_scale * τs, -ρτ[:, center] |> imag, ls=\"-\", c=\"C0\", lw=1.5)\n",
    "ax.set_xlabel(\"\\$J \\\\tau\\$\")\n",
    "ax.set_xlim(-t_scale * tmax / 2, t_scale * tmax / 2)\n",
    "# ax.set_ylim(-0.6, 1.0)\n",
    "ax.set_xticks(t_scale .* [-tmax/2, -tmax/4, 0, tmax/4, tmax/2])\n",
    "ax.xaxis.set_tick_params(pad=xpad)\n",
    "ax.yaxis.set_tick_params(pad=ypad)\n",
    "ax.set_ylabel(\"\\$  A_{11, \\\\uparrow}(\\\\tau, T) \\$\")\n",
    "\n",
    "\n",
    "ax = subplot(122)\n",
    "plot(ω_scale * ωs, ρω[:, center] |> real, \"-\", c=\"C0\", lw=1.5)\n",
    "\n",
    "ax.xaxis.set_tick_params(pad=xpad)\n",
    "ax.yaxis.set_tick_params(pad=ypad)\n",
    "ax.set_xlabel(\"\\$\\\\omega/J\\$\")\n",
    "ax.set_ylabel(\"\\$ A_{11,\\\\uparrow}(\\\\omega, T)\\$\", labelpad=16)\n",
    "ax.set_xlim(5 .* (-1, 1))\n",
    "# ax.set_ylim(0, 10)\n",
    "ax.yaxis.set_label_position(\"right\")\n",
    "# ax.legend(loc=\"best\", handlelength=1.4, frameon=false, borderpad=0, labelspacing=0.25)\n",
    "\n",
    "tight_layout(pad=0.1, w_pad=0.5, h_pad=0)\n",
    "\n",
    "\n",
    "# savefig(\"fermi_hubbard_example_tau_omega.pdf\")"
   ]
  },
  {
   "cell_type": "code",
   "execution_count": 62,
   "metadata": {},
   "outputs": [],
   "source": [
    "function meshgrid(xin,yin)\n",
    "  nx=length(xin)\n",
    "  ny=length(yin)\n",
    "  xout=zeros(ny,nx)\n",
    "  yout=zeros(ny,nx)\n",
    "  for jx=1:nx\n",
    "      for ix=1:ny\n",
    "          xout[ix,jx]=xin[jx]\n",
    "          yout[ix,jx]=yin[ix]\n",
    "      end\n",
    "  end\n",
    "  return (x=xout, y=yout)\n",
    "end\n",
    "\n",
    "Y, X = meshgrid(loaded_sol[\"solution\"].t, loaded_sol[\"solution\"].t);"
   ]
  },
  {
   "cell_type": "code",
   "execution_count": 63,
   "metadata": {},
   "outputs": [
    {
     "ename": "LoadError",
     "evalue": "UndefVarError: U_0_sol not defined",
     "output_type": "error",
     "traceback": [
      "UndefVarError: U_0_sol not defined",
      "",
      "Stacktrace:",
      " [1] top-level scope",
      "   @ In[63]:1",
      " [2] eval",
      "   @ ./boot.jl:360 [inlined]",
      " [3] include_string(mapexpr::typeof(REPL.softscope), mod::Module, code::String, filename::String)",
      "   @ Base ./loading.jl:1094"
     ]
    }
   ],
   "source": [
    "Y_gauss, X_gauss = meshgrid(U_0_sol[\"solution\"].t, U_0_sol[\"solution\"].t)\n",
    "GL_gauss = U_0_sol[\"solution\"].u[1]\n",
    "GG_gauss = U_0_sol[\"solution\"].u[2];"
   ]
  },
  {
   "cell_type": "code",
   "execution_count": 64,
   "metadata": {},
   "outputs": [],
   "source": [
    "cmap = \"gist_heat\";"
   ]
  },
  {
   "cell_type": "code",
   "execution_count": 65,
   "metadata": {},
   "outputs": [
    {
     "ename": "LoadError",
     "evalue": "UndefVarError: ts not defined",
     "output_type": "error",
     "traceback": [
      "UndefVarError: ts not defined",
      "",
      "Stacktrace:",
      " [1] top-level scope",
      "   @ In[65]:19",
      " [2] eval",
      "   @ ./boot.jl:360 [inlined]",
      " [3] include_string(mapexpr::typeof(REPL.softscope), mod::Module, code::String, filename::String)",
      "   @ Base ./loading.jl:1094"
     ]
    }
   ],
   "source": [
    "figure(figsize=(7, 3))\n",
    "t_scale = 1\n",
    "vmin = -1.0\n",
    "vmax = 1.0\n",
    "\n",
    "# ax = subplot(121) # plt.gca()\n",
    "# heatmap = ax.pcolormesh(X_gauss, Y_gauss, imag(GL_gauss.data[1, 1, :, :]) .- imag(GG_gauss.data[1, 1, :, :]), cmap=cmap, rasterized=true, vmin=vmin, vmax=vmax)\n",
    "# heatmap.set_edgecolor(\"face\")\n",
    "# ax.set_aspect(\"equal\")\n",
    "# # cbar = colorbar(mappable=heatmap)\n",
    "# # cbar.formatter.set_powerlimits((0, 0))\n",
    "# ax.set_xlabel(\"\\$J t\\$\")\n",
    "# ax.set_ylabel(\"\\$J t'\\$\")\n",
    "# ax.set_xlim(0, t_scale * tmax)\n",
    "# ax.set_ylim(0, t_scale * tmax)\n",
    "# ax.set_xticks(t_scale .* [0, tmax/2, tmax])\n",
    "# ax.set_yticks(t_scale .* [0, tmax/2, tmax])\n",
    "\n",
    "center = floor(length(ts) / 2) |> Int\n",
    "center |> print\n",
    "\n",
    "\n",
    "ax = subplot(121)\n",
    "plot(t_scale * τs, -ρτ[:, center] |> imag, ls=\"-\", c=\"C0\", lw=1.5)\n",
    "ax.set_xlabel(\"\\$J \\\\tau\\$\")\n",
    "ax.set_xlim(-t_scale * tmax / 2, t_scale * tmax / 2)\n",
    "ax.set_ylim(-1, 1)\n",
    "ax.set_xticks(t_scale .* [-tmax/2, -tmax/4, 0, tmax/4, tmax/2])\n",
    "ax.xaxis.set_tick_params(pad=xpad)\n",
    "ax.yaxis.set_tick_params(pad=ypad)\n",
    "ax.set_ylabel(\"\\$  A_{11, \\\\uparrow}(T_{\\\\mathrm{max}}/2, \\\\tau)_W \\$\")\n",
    "\n",
    "ax = subplot(122)\n",
    "heatmap = ax.pcolormesh(X, Y, imag(loaded_sol[\"solution\"].u[1][1, 1, :, :]) .- imag(loaded_sol[\"solution\"].u[2][1, 1, :, :]), cmap=cmap, rasterized=true, vmin=vmin, vmax=vmax)\n",
    "heatmap.set_edgecolor(\"face\")\n",
    "ax.set_aspect(\"equal\")\n",
    "cbar = colorbar(mappable=heatmap)\n",
    "cbar.formatter.set_powerlimits((0, 0))\n",
    "ax.set_xlabel(\"\\$J t\\$\")\n",
    "ax.set_ylabel(\"\\$J t'\\$\")\n",
    "ax.set_xlim(0, t_scale * tmax)\n",
    "ax.set_ylim(0, t_scale * tmax)\n",
    "ax.set_xticks(t_scale .* [0, tmax/2, tmax])\n",
    "ax.set_yticks(t_scale .* [0, tmax/2, tmax])\n",
    "# ax.set_yticklabels([])\n",
    "\n",
    "tight_layout(pad=0.75, w_pad=0.5, h_pad=0)\n",
    "\n",
    "# savefig(\"fermi_hubbard_example_two_times.pdf\")"
   ]
  },
  {
   "cell_type": "markdown",
   "metadata": {},
   "source": [
    "## Testing"
   ]
  },
  {
   "cell_type": "code",
   "execution_count": 66,
   "metadata": {},
   "outputs": [
    {
     "data": {
      "image/png": "[encoded data removed]",
      "text/plain": [
       "Figure(PyObject <Figure size 700x300 with 4 Axes>)"
      ]
     },
     "metadata": {},
     "output_type": "display_data"
    }
   ],
   "source": [
    "figure(figsize=(7, 3))\n",
    "t_scale = 1\n",
    "# vmin = -1.0\n",
    "# vmax = 1.0\n",
    "\n",
    "ax = subplot(121)\n",
    "heatmap = ax.pcolormesh(X, Y, imag(loaded_sol[\"solution\"].u[1][1, 1, :, :]), cmap=cmap, rasterized=true)#, vmin=vmin, vmax=vmax)\n",
    "heatmap.set_edgecolor(\"face\")\n",
    "ax.set_aspect(\"equal\")\n",
    "cbar = colorbar(mappable=heatmap)\n",
    "cbar.formatter.set_powerlimits((0, 0))\n",
    "ax.set_xlabel(\"\\$J t\\$\")\n",
    "ax.set_ylabel(\"\\$J t'\\$\")\n",
    "ax.set_xlim(0, t_scale * tmax)\n",
    "ax.set_ylim(0, t_scale * tmax)\n",
    "ax.set_xticks(t_scale .* [0, tmax/2, tmax])\n",
    "ax.set_yticks(t_scale .* [0, tmax/2, tmax])\n",
    "\n",
    "ax = subplot(122)\n",
    "heatmap = ax.pcolormesh(X, Y, imag(loaded_sol[\"solution\"].u[2][1, 1, :, :]), cmap=cmap, rasterized=true)#, vmin=vmin, vmax=vmax)\n",
    "heatmap.set_edgecolor(\"face\")\n",
    "ax.set_aspect(\"equal\")\n",
    "cbar = colorbar(mappable=heatmap)\n",
    "cbar.formatter.set_powerlimits((0, 0))\n",
    "ax.set_xlabel(\"\\$J t\\$\")\n",
    "ax.set_ylabel(\"\\$J t'\\$\")\n",
    "ax.set_xlim(0, t_scale * tmax)\n",
    "ax.set_ylim(0, t_scale * tmax)\n",
    "ax.set_xticks(t_scale .* [0, tmax/2, tmax])\n",
    "ax.set_yticks(t_scale .* [0, tmax/2, tmax])\n",
    "# ax.set_yticklabels([])\n",
    "\n",
    "tight_layout(pad=0.75, w_pad=0.5, h_pad=0)"
   ]
  },
  {
   "cell_type": "code",
   "execution_count": null,
   "metadata": {},
   "outputs": [],
   "source": []
  }
 ],
 "metadata": {
  "kernelspec": {
   "display_name": "Julia 1.6.0",
   "language": "julia",
   "name": "julia-1.6"
  },
  "language_info": {
   "file_extension": ".jl",
   "mimetype": "application/julia",
   "name": "julia",
   "version": "1.6.0"
  }
 },
 "nbformat": 4,
 "nbformat_minor": 2
}
