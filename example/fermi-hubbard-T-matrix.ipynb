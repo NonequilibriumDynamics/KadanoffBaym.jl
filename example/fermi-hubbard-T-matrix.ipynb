{
 "cells": [
  {
   "cell_type": "markdown",
   "metadata": {},
   "source": [
    "# Fermi-Hubbard Model"
   ]
  },
  {
   "cell_type": "code",
   "execution_count": null,
   "metadata": {
    "scrolled": true
   },
   "outputs": [],
   "source": [
    "using Pkg; Pkg.activate()\n",
    "using KadanoffBaym\n",
    "using LinearAlgebra, BlockArrays\n",
    "using UnPack\n",
    "using JLD"
   ]
  },
  {
   "cell_type": "code",
   "execution_count": null,
   "metadata": {},
   "outputs": [],
   "source": [
    "using PyPlot\n",
    "PyPlot.plt.style.use(\"./paper.mplstyle\")"
   ]
  },
  {
   "cell_type": "markdown",
   "metadata": {},
   "source": [
    "## Model"
   ]
  },
  {
   "cell_type": "markdown",
   "metadata": {},
   "source": [
    "Second-order Born approximation:\n",
    "$$\n",
    "    \\Sigma_{ij, \\uparrow}  (t, t') = U^2 G_{ij, \\uparrow}(t, t') G_{ij, \\downarrow}(t, t') G_{ji, \\downarrow}(t', t),\\\\\n",
    "    \\Sigma_{ij, \\downarrow}(t, t') = U^2 G_{ij, \\downarrow}(t, t') G_{ij, \\uparrow}(t, t') G_{ji, \\uparrow}(t', t)\n",
    "$$\n",
    "\n",
    "\n",
    "$T$-matrix approximation:\n",
    "$$\n",
    "    \\Sigma_{ij, \\uparrow}  (t, t') = U^2 T_{ij}(t, t') G_{ji, \\downarrow}(t', t),\\\\\n",
    "    \\Sigma_{ij, \\downarrow}(t, t') = U^2 T_{ij}(t, t') G_{ji, \\uparrow}(t', t)\n",
    "$$\n",
    "\n",
    "$$\n",
    "   T_{ij}(t, t') =  G_{ij, \\uparrow}(t, t') G_{ij, \\downarrow}(t, t') + U \\int_{\\mathcal{C}}\\mathrm{d}s\\; G_{ij, \\uparrow}(t, s) G_{ij, \\downarrow}(t, s) T_{ij}(s, t')\n",
    "$$\n",
    "\n",
    "$t<t'$:\n",
    "$$\n",
    "    \\int_{\\mathcal{C}}\\mathrm{d}s\\; A(t, s) B(s, t') = \\int_{t_0}^{t}{\\mathrm{d}\\bar{t}}  A^>(t, \\bar{t}) B^<(\\bar{t}, t') + \\int_{t}^{t'}{\\mathrm{d}\\bar{t}}  A^<(t, \\bar{t}) B^<(\\bar{t}, t') + \\int_{t'}^{t_0}{\\mathrm{d}\\bar{t}}  A^<(t, \\bar{t}) B^>(\\bar{t}, t')  \n",
    "$$\n",
    "$t>t'$:\n",
    "$$\n",
    "    \\int_{\\mathcal{C}}\\mathrm{d}s\\; A(t, s) B(s, t') = \\int_{t_0}^{t'}{\\mathrm{d}\\bar{t}}  A^>(t, \\bar{t}) B^<(\\bar{t}, t') + \\int_{t'}^{t}{\\mathrm{d}\\bar{t}}  A^>(t, \\bar{t}) B^>(\\bar{t}, t') + \\int_{t}^{t_0}{\\mathrm{d}\\bar{t}}  A^<(t, \\bar{t}) B^>(\\bar{t}, t')  \n",
    "$$\n",
    "\n",
    "$$\n",
    "    T^<_{ij}(t, t') =  G^<_{ij, \\uparrow}(t, t') G^<_{ij, \\downarrow}(t, t') + U \\int_{t_0}^{t}{\\mathrm{d}\\bar{t}}\\; G^>_{ij, \\uparrow}(t, s) G^>_{ij, \\downarrow}(t, s) T^<_{ij}(s, t') + U \\int_{t}^{t'}{\\mathrm{d}\\bar{t}}\\; G^<_{ij, \\uparrow}(t, s) G^<_{ij, \\downarrow}(t, s) T^<_{ij}(s, t') + U \\int_{t'}^{t_0}{\\mathrm{d}\\bar{t}}\\; G^<_{ij, \\uparrow}(t, s) G^<_{ij, \\downarrow}(t, s) T^>_{ij}(s, t')\n",
    "$$\n",
    "\n",
    "$$\n",
    "    T^>_{ij}(t, t') =  G^>_{ij, \\uparrow}(t, t') G^>_{ij, \\downarrow}(t, t') + U \\int_{t_0}^{t}{\\mathrm{d}\\bar{t}}\\; G^>_{ij, \\uparrow}(t, s) G^>_{ij, \\downarrow}(t, s) T^<_{ij}(s, t') + U \\int_{t}^{t'}{\\mathrm{d}\\bar{t}}\\; G^>_{ij, \\uparrow}(t, s) G^>_{ij, \\downarrow}(t, s) T^>_{ij}(s, t') + U \\int_{t'}^{t_0}{\\mathrm{d}\\bar{t}}\\; G^<_{ij, \\uparrow}(t, s) G^<_{ij, \\downarrow}(t, s) T^>_{ij}(s, t')\n",
    "$$"
   ]
  },
  {
   "cell_type": "markdown",
   "metadata": {},
   "source": [
    "$$\n",
    "    \\dot{T}^<_{ij}(t, t') = \\partial_t\\left(G^<_{ij, \\uparrow}(t, t') G^<_{ij, \\downarrow}(t, t')\\right) + U G^>_{ij, \\uparrow}(t, t) G^>_{ij, \\downarrow}(t, t) T^<_{ij}(t, t') - U G^<_{ij, \\uparrow}(t, t) G^<_{ij, \\downarrow}(t, t) T^<_{ij}(t, t') \\\\\n",
    "    + U \\int_{t_0}^{t}{\\mathrm{d}\\bar{t}}\\; \\partial_t\\left(G^<_{ij, \\uparrow}(t, t') G^<_{ij, \\downarrow}(t, t')\\right) T^<_{ij}(s, t') + U \\int_{t}^{t'}{\\mathrm{d}\\bar{t}}\\; \\partial_t\\left(G^<_{ij, \\uparrow}(t, t') G^<_{ij, \\downarrow}(t, t')\\right) T^<_{ij}(s, t') + U \\int_{t'}^{t_0}{\\mathrm{d}\\bar{t}}\\; \\partial_t\\left(G^<_{ij, \\uparrow}(t, t') G^<_{ij, \\downarrow}(t, t')\\right) T^>_{ij}(s, t')\n",
    "$$"
   ]
  },
  {
   "cell_type": "markdown",
   "metadata": {},
   "source": [
    "## Solving"
   ]
  },
  {
   "cell_type": "code",
   "execution_count": null,
   "metadata": {},
   "outputs": [],
   "source": [
    "num_sites = 8;"
   ]
  },
  {
   "cell_type": "code",
   "execution_count": null,
   "metadata": {},
   "outputs": [],
   "source": [
    "# 8-site 3D cubic lattice\n",
    "h = BlockArray{ComplexF64}(undef_blocks, [4, 4], [4, 4])\n",
    "diag_block = [0 -1 0 -1; -1 0 -1 0; 0 -1 0 -1; -1 0 -1 0]\n",
    "setblock!(h, diag_block, 1, 1)\n",
    "setblock!(h, diag_block, 2, 2)\n",
    "setblock!(h, Diagonal(-1 .* ones(4)), 1, 2)\n",
    "setblock!(h, Diagonal(-1 .* ones(4)), 2, 1)\n",
    "\n",
    "full_h = BlockArray{ComplexF64}(undef_blocks, [8, 8], [8, 8])\n",
    "setblock!(full_h, h |> Array, 1, 1)\n",
    "setblock!(full_h, h |> Array, 2, 2)\n",
    "setblock!(full_h, zeros(ComplexF64, 8, 8), 1, 2)\n",
    "setblock!(full_h, zeros(ComplexF64, 8, 8), 2, 1)\n",
    "\n",
    "full_h = full_h |> Array;"
   ]
  },
  {
   "cell_type": "code",
   "execution_count": null,
   "metadata": {},
   "outputs": [],
   "source": [
    "Base.@kwdef struct FermiHubbardModel\n",
    "    U::Float64\n",
    "#     H = ComplexF64[0 -1 0 0; -1 0 0 0; 0 0 0 -1; 0 0 -1 0] # two-site 1D chain\n",
    "    \n",
    "    # 8-site 3D cubic lattice\n",
    "    H = full_h\n",
    "end"
   ]
  },
  {
   "cell_type": "code",
   "execution_count": null,
   "metadata": {},
   "outputs": [],
   "source": [
    "struct FermiHubbardData{T, S}\n",
    "    GL::T\n",
    "    GG::T\n",
    "    FL::T\n",
    "    FG::T\n",
    "    \n",
    "    TL::S\n",
    "    TG::S    \n",
    "    \n",
    "    ΣNCA_c_L::T\n",
    "    ΣNCA_c_G::T\n",
    "    ΣNCA_f_L::T\n",
    "    ΣNCA_f_G::T\n",
    "    \n",
    "    rhs_c_L::T\n",
    "    rhs_c_G::T\n",
    "    rhs_f_L::T\n",
    "    rhs_f_G::T    \n",
    "    \n",
    "    # Initialize problem\n",
    "    function FermiHubbardData(GL::T, GG::T, FL::T, FG::T, TL::S, TG::S) where {T, S}\n",
    "        new{T, S}(GL, GG, FL, FG, zero(TL), zero(TG), zero(GL), zero(GG), zero(FL), zero(FG), zero(GL), zero(GG), zero(FL), zero(FG))\n",
    "    end\n",
    "end"
   ]
  },
  {
   "cell_type": "code",
   "execution_count": null,
   "metadata": {},
   "outputs": [],
   "source": [
    "# struct FermiHubbardData{T}\n",
    "#     GL::T\n",
    "#     GG::T\n",
    "#     FL::T\n",
    "#     FG::T\n",
    "\n",
    "#     ΣNCA_c_L::T\n",
    "#     ΣNCA_c_G::T\n",
    "#     ΣNCA_f_L::T\n",
    "#     ΣNCA_f_G::T\n",
    "\n",
    "#     # Initialize problem\n",
    "#     function FermiHubbardData(GL::T, GG::T, FL::T, FG::T) where {T}\n",
    "#         new{T}(GL, GG, FL, FG, zero(GL), zero(GG), zero(FL), zero(FG))\n",
    "#     end\n",
    "# end"
   ]
  },
  {
   "cell_type": "code",
   "execution_count": null,
   "metadata": {},
   "outputs": [],
   "source": [
    "function fv!(model, data, out, times, t, t′)\n",
    "    @unpack GL, GG, FL, FG, TL, TG, ΣNCA_c_L, ΣNCA_c_G, ΣNCA_f_L, ΣNCA_f_G, rhs_c_L, rhs_c_G, rhs_f_L, rhs_f_G = data\n",
    "    @unpack H, U = model\n",
    "    \n",
    "    if (n = size(GL, 3)) > size(rhs_c_L, 3)\n",
    "        resize!(rhs_c_L, n)\n",
    "        resize!(rhs_c_G, n)\n",
    "        resize!(rhs_f_L, n)\n",
    "        resize!(rhs_f_G, n)\n",
    "    end    \n",
    "\n",
    "    # real-time collision integral\n",
    "    ∫dt(i, j, A, B) =\n",
    "        sign(j - i) * integrate(times[min(i, j):max(i, j)],[A[t, s] * B[s, t′] for s = min(i, j):max(i, j)])\n",
    "\n",
    "#     # normal operator ordering\n",
    "#     ΣHF_c(t, t′) = 1.0im * U * [FL[1, 1, t, t] 0; 0 FL[2, 2, t, t]]\n",
    "#     ΣHF_f(t, t′) = 1.0im * U * [GL[1, 1, t, t] 0; 0 GL[2, 2, t, t]]\n",
    "    \n",
    "    ΣHF_c(t, t′) = 1.0im * U * Diagonal([FL[k, k, t, t] for k in 1:num_sites])\n",
    "    ΣHF_f(t, t′) = 1.0im * U * Diagonal([GL[k, k, t, t] for k in 1:num_sites])\n",
    "    \n",
    "    rhs_c_L[t, t′] = -1.0im * ((H[1:num_sites, 1:num_sites] + ΣHF_c(t, t′)) * GL[t, t′] + \n",
    "            ∫dt(1, t, ΣNCA_c_G, GL) - ∫dt(1, t, ΣNCA_c_L, GL) + ∫dt(1, t′, ΣNCA_c_L, GL) -\n",
    "            ∫dt(1, t′, ΣNCA_c_L, GG)\n",
    "        )\n",
    "\n",
    "    rhs_c_G[t, t′] = -1.0im * ((H[1:num_sites, 1:num_sites] + ΣHF_c(t, t′)) * GG[t, t′] + \n",
    "            ∫dt(1, t, ΣNCA_c_G, GG) - ∫dt(1, t, ΣNCA_c_L, GG) + ∫dt(1, t′, ΣNCA_c_G, GL) -\n",
    "            ∫dt(1, t′, ΣNCA_c_G, GG)\n",
    "        )\n",
    "\n",
    "    rhs_f_L[t, t′] = -1.0im * ((H[1 + num_sites:2 * num_sites, 1 + num_sites:2 * num_sites] + ΣHF_f(t, t′)) * FL[t, t′] + \n",
    "            ∫dt(1, t, ΣNCA_f_G, FL) - ∫dt(1, t, ΣNCA_f_L, FL) + ∫dt(1, t′, ΣNCA_f_L, FL) -\n",
    "            ∫dt(1, t′, ΣNCA_f_L, FG)\n",
    "        )\n",
    "\n",
    "    rhs_f_G[t, t′] = -1.0im * ((H[1 + num_sites:2 * num_sites, 1 + num_sites:2 * num_sites] + ΣHF_f(t, t′)) * FG[t, t′] +\n",
    "            ∫dt(1, t, ΣNCA_f_G, FG) - ∫dt(1, t, ΣNCA_f_L, FG) + ∫dt(1, t′, ΣNCA_f_G, FL) -\n",
    "            ∫dt(1, t′, ΣNCA_f_G, FG)\n",
    "        )    \n",
    "    \n",
    "    out[1] = rhs_c_L[t, t′]\n",
    "    out[2] = rhs_c_G[t, t′]\n",
    "    out[3] = rhs_f_L[t, t′]\n",
    "    out[4] = rhs_f_G[t, t′]\n",
    "    \n",
    "    out[5] = out[1] .* FL[t, t′] + GL[t, t′] .* out[3]\n",
    "    \n",
    "    out[6] = out[2] .* FG[t, t′] + GG[t, t′] .* out[4]\n",
    "\n",
    "    return out\n",
    "end\n",
    "\n",
    "function fd!(model, data, out, times, t, t′)\n",
    "    fv!(model, data, out, times, t, t)\n",
    "    out .-= adjoint.(out)\n",
    "end"
   ]
  },
  {
   "cell_type": "code",
   "execution_count": null,
   "metadata": {},
   "outputs": [],
   "source": [
    "function self_energies!(model, data, times, t, t′)\n",
    "    @unpack GL, GG, FL, FG, TL, TG, ΣNCA_c_L, ΣNCA_c_G, ΣNCA_f_L, ΣNCA_f_G, rhs_c_L, rhs_c_G, rhs_f_L, rhs_f_G = data\n",
    "    @unpack U = model\n",
    "\n",
    "    if (n = size(GL, 3)) > size(ΣNCA_c_L, 3)\n",
    "        resize!(ΣNCA_c_L, n)\n",
    "        resize!(ΣNCA_c_G, n)\n",
    "        resize!(ΣNCA_f_L, n)\n",
    "        resize!(ΣNCA_f_G, n)\n",
    "    end\n",
    "\n",
    "    ΣNCA_c_L[t, t′] = U^2 .* TL[t, t′] .* transpose(FG[t′, t])\n",
    "    ΣNCA_f_L[t, t′] = U^2 .* TL[t, t′] .* transpose(GG[t′, t])\n",
    "    \n",
    "    ΣNCA_c_G[t, t′] = U^2 .* TG[t, t′] .* transpose(FL[t′, t])\n",
    "    ΣNCA_f_G[t, t′] = U^2 .* TG[t, t′] .* transpose(GL[t′, t])\n",
    "end"
   ]
  },
  {
   "cell_type": "code",
   "execution_count": null,
   "metadata": {},
   "outputs": [],
   "source": [
    "# quantum numbers\n",
    "dim = 8\n",
    "\n",
    "# Define your Green functions at (t0, t0) – time arguments at the end\n",
    "GL = GreenFunction(zeros(ComplexF64, dim, dim, 1, 1), SkewHermitian)\n",
    "GG = GreenFunction(zeros(ComplexF64, dim, dim, 1, 1), SkewHermitian)\n",
    "FL = GreenFunction(zeros(ComplexF64, dim, dim, 1, 1), SkewHermitian)\n",
    "FG = GreenFunction(zeros(ComplexF64, dim, dim, 1, 1), SkewHermitian)\n",
    "\n",
    "TL = GreenFunction(zeros(ComplexF64, dim, dim, 1, 1), Symmetrical)\n",
    "TG = GreenFunction(zeros(ComplexF64, dim, dim, 1, 1), Symmetrical)\n",
    "\n",
    "# Initial condition\n",
    "N_c = zeros(8)\n",
    "N_f = zeros(8)\n",
    "N_c[1:4] = [0.7, 0.0, 0.7, 0.0]\n",
    "N_f[1:4] = [0.0, 0.25, 0.0, 0.25]\n",
    "\n",
    "N_c[5:8] = [0.0, 0.4, 0.0, 0.4]\n",
    "N_f[5:8] = [0.65, 0.0, 0.65, 0.0]\n",
    "\n",
    "GL[1, 1] = 1.0im * diagm(N_c)\n",
    "GG[1, 1] = -1.0im * (I - diagm(N_c))\n",
    "FL[1, 1] = 1.0im * diagm(N_f)\n",
    "FG[1, 1] = -1.0im * (I - diagm(N_f))\n",
    "\n",
    "# TL[1, 1] = GL[1, 1] .* FL[1, 1] # VERIFY!\n",
    "# TG[1, 1] = GG[1, 1] .* FG[1, 1] # VERIFY! should be zero like self-energy?\n",
    "\n",
    "data = FermiHubbardData(GL, GG, FL, FG, TL, TG)\n",
    "model = FermiHubbardModel(U = 0.25)\n",
    "\n",
    "tmax = 1;"
   ]
  },
  {
   "cell_type": "code",
   "execution_count": null,
   "metadata": {},
   "outputs": [],
   "source": [
    "function integrate(x::AbstractVector, y::AbstractVector)\n",
    "    if isone(length(x))\n",
    "        return zero(first(y))\n",
    "    end\n",
    "\n",
    "    @inbounds retval = (x[2] - x[1]) * (y[1] + y[2])\n",
    "    @inbounds @fastmath @simd for i = 2:(length(y)-1)\n",
    "        retval += (x[i+1] - x[i]) * (y[i] + y[i+1])\n",
    "    end\n",
    "    return 1 // 2 * retval\n",
    "end;"
   ]
  },
  {
   "cell_type": "code",
   "execution_count": null,
   "metadata": {},
   "outputs": [],
   "source": [
    "atol = 1e-8\n",
    "rtol = 1e-6;"
   ]
  },
  {
   "cell_type": "code",
   "execution_count": null,
   "metadata": {
    "scrolled": true
   },
   "outputs": [],
   "source": [
    "@time sol = kbsolve!(\n",
    "    (x...) -> fv!(model, data, x...),\n",
    "    (x...) -> begin\n",
    "        println(\" t: $(x[2][x[3]])\")\n",
    "        fd!(model, data, x...)\n",
    "    end,\n",
    "    [data.GL, data.GG, data.FL, data.FG, data.TL, data.TG],\n",
    "    (0.0, tmax);\n",
    "    callback = (x...) -> self_energies!(model, data, x...),\n",
    "    atol = atol,\n",
    "    rtol = rtol,\n",
    ");"
   ]
  },
  {
   "cell_type": "code",
   "execution_count": null,
   "metadata": {},
   "outputs": [],
   "source": [
    "# save(\"FH_1D_sol_U_\"*string(model.U)*\"_atol_1e-8_rtol_1e-6.jld\", \"solution\", sol)\n",
    "save(\"FH_3D_T_matrix_sol_U_\"*string(model.U)*\"_tmax_\"*string(tmax)*\"_atol_\"*string(atol)*\"_rtol_\"*string(rtol)*\".jld\", \"solution\", sol)"
   ]
  },
  {
   "cell_type": "markdown",
   "metadata": {},
   "source": [
    "## Example plots"
   ]
  },
  {
   "cell_type": "markdown",
   "metadata": {},
   "source": [
    "### Load data"
   ]
  },
  {
   "cell_type": "code",
   "execution_count": null,
   "metadata": {},
   "outputs": [],
   "source": [
    "# loaded_sol = load(\"FH_1D_sol_U_0.5_atol_1e-8_rtol_1e-6.jld\")\n",
    "loaded_sol = load(\"FH_3D_T_matrix_sol_U_\"*string(model.U)*\"_tmax_\"*string(tmax)*\"_atol_\"*string(atol)*\"_rtol_\"*string(rtol)*\".jld\")\n",
    "\n",
    "# U_0_sol = load(\"FH_sol_U_0.0_atol_1e-8_rtol_1e-6.jld\");"
   ]
  },
  {
   "cell_type": "code",
   "execution_count": null,
   "metadata": {},
   "outputs": [],
   "source": [
    "num_points = (loaded_sol[\"solution\"].t |> size)[1]"
   ]
  },
  {
   "cell_type": "code",
   "execution_count": null,
   "metadata": {
    "scrolled": true
   },
   "outputs": [],
   "source": [
    "xpad = 8\n",
    "ypad = 5\n",
    "\n",
    "figure(figsize = (8, 3))\n",
    "\n",
    "ax = subplot(121)\n",
    "idx_1 = 1\n",
    "idx_2 = 8\n",
    "\n",
    "plot(loaded_sol[\"solution\"].t, [imag(loaded_sol[\"solution\"].u[1][idx_1, idx_1, k, k] .+ loaded_sol[\"solution\"].u[3][idx_1, idx_1, k, k]) for k = 1:num_points], \n",
    "    label = \"\\$ i=1\\$\", lw=1.5, ls = \"--\", c = \"#438E6A\")\n",
    "\n",
    "plot(loaded_sol[\"solution\"].t, [imag(loaded_sol[\"solution\"].u[1][idx_2, idx_2, k, k] .+ loaded_sol[\"solution\"].u[3][idx_2, idx_2, k, k]) for k = 1:num_points], \n",
    "    label = \"\\$ i=8\\$\", lw=1.5, ls = \"-\", c = \"#2D5FAA\")\n",
    "\n",
    "xlim(0, tmax)\n",
    "# ax.set_xticks([0, 8, 16, 24, 32])\n",
    "ylim(-0, 1)\n",
    "xlabel(\"\\$J t\\$\")\n",
    "# ylabel(\"\\$\\\\mathrm{Im}\\\\; G^<_{11, \\\\sigma}(t, t)\\$\")\n",
    "ylabel(\"Charge\", labelpad = 8)\n",
    "ax.xaxis.set_tick_params(pad = xpad)\n",
    "ax.yaxis.set_tick_params(pad = ypad)\n",
    "# ax.set_axisbelow(false)\n",
    "# ticklabel_format(axis = \"y\", style = \"sci\", scilimits = (-0, 0))\n",
    "ax.legend(loc = \"best\", handlelength = 1.9, frameon = false, borderpad = 0, labelspacing = 0.25)\n",
    "\n",
    "ax = subplot(122)\n",
    "\n",
    "plot(loaded_sol[\"solution\"].t, [imag(loaded_sol[\"solution\"].u[1][idx_1, idx_1, k, k] .- loaded_sol[\"solution\"].u[3][idx_1, idx_1, k, k]) for k = 1:num_points], \n",
    "    label = \"\\$ i=2\\$\", lw=1.5, ls = \"--\", c = \"#438E6A\")\n",
    "\n",
    "plot(loaded_sol[\"solution\"].t, [imag(loaded_sol[\"solution\"].u[1][idx_2, idx_2, k, k] .- loaded_sol[\"solution\"].u[3][idx_2, idx_2, k, k]) for k = 1:num_points], \n",
    "    label = \"\\$ i=2\\$\",  lw=1.5, ls = \"-\", c = \"#2D5FAA\")\n",
    "\n",
    "xlim(0, tmax)\n",
    "ylim(-1, 1)\n",
    "# ax.set_xticks([0, 8, 16, 24, 32])\n",
    "# ax.set_yticklabels([])\n",
    "xlabel(\"\\$J t\\$\")\n",
    "ylabel(\"Spin\", labelpad = 16)\n",
    "ax.xaxis.set_tick_params(pad = xpad)\n",
    "ax.yaxis.set_tick_params(pad = ypad)\n",
    "ax.set_axisbelow(false)\n",
    "# ticklabel_format(axis = \"y\", style = \"sci\", scilimits = (-0, 0))\n",
    "# ax.legend( loc = \"best\", handlelength = 1.9, frameon = false, borderpad = 0, labelspacing = 0.25)\n",
    "ax.yaxis.set_label_position(\"right\")\n",
    "\n",
    "tight_layout(pad = 0.1, w_pad = 0.5, h_pad = 0)\n",
    "# savefig(\"fermi_hubbard_T.pdf\")"
   ]
  },
  {
   "cell_type": "code",
   "execution_count": null,
   "metadata": {},
   "outputs": [],
   "source": [
    "xpad = 8\n",
    "ypad = 5\n",
    "\n",
    "figure(figsize = (8, 3))\n",
    "\n",
    "ax = subplot(121)\n",
    "plot(loaded_sol[\"solution\"].t, sum([imag(loaded_sol[\"solution\"].u[1][i, i, k, k] .+ loaded_sol[\"solution\"].u[3][i, i, k, k]) for k = 1:num_points] for i in 1:4),\n",
    "    ls = \"-\", c = \"C0\", label = \"\\$ i=1\\$\")\n",
    "\n",
    "plot(loaded_sol[\"solution\"].t, sum([imag(loaded_sol[\"solution\"].u[1][i, i, k, k] .+ loaded_sol[\"solution\"].u[3][i, i, k, k]) for k = 1:num_points] for i in 5:8),\n",
    "    ls = \"--\", c = \"C1\", label = \"\\$ i=1\\$\")\n",
    "\n",
    "xlim(0, tmax)\n",
    "# ax.set_xticks([0, 8, 16, 24, 32])\n",
    "# ylim(-0.5, 1)\n",
    "ylim(1.8, 2.2)\n",
    "xlabel(\"\\$J t\\$\")\n",
    "# ylabel(\"\\$\\\\mathrm{Im}\\\\; G^<_{11, \\\\sigma}(t, t)\\$\")\n",
    "ylabel(\"\\$\\\\mathrm{Im}\\\\; G^<_{ii, \\\\uparrow}(t, t)\\$\")\n",
    "ax.xaxis.set_tick_params(pad = xpad)\n",
    "ax.yaxis.set_tick_params(pad = ypad)\n",
    "# ax.set_axisbelow(false)\n",
    "# ticklabel_format(axis = \"y\", style = \"sci\", scilimits = (-0, 0))\n",
    "# ax.legend(loc = \"best\", handlelength = 1.9, frameon = false, borderpad = 0, labelspacing = 0.25)\n",
    "\n",
    "ax = subplot(122)\n",
    "\n",
    "plot(loaded_sol[\"solution\"].t, sum([imag(loaded_sol[\"solution\"].u[1][i, i, k, k] .- loaded_sol[\"solution\"].u[3][i, i, k, k]) for k = 1:num_points] for i in 1:4),\n",
    "    ls = \"-\", c = \"C0\", label = \"\\$ i=1\\$\")\n",
    "\n",
    "plot(loaded_sol[\"solution\"].t, sum([imag(loaded_sol[\"solution\"].u[1][i, i, k, k] .- loaded_sol[\"solution\"].u[3][i, i, k, k]) for k = 1:num_points] for i in 5:8),\n",
    "    ls = \"--\", c = \"C1\", label = \"\\$ i=1\\$\")\n",
    "\n",
    "xlim(0, tmax)\n",
    "ylim(-1, 1)\n",
    "ax.set_xticks([0, 8, 16, 24, 32])\n",
    "# ax.set_yticklabels([])\n",
    "xlabel(\"\\$J t\\$\")\n",
    "ylabel(\"\\$\\\\mathrm{Im}\\\\; G^<_{77, \\\\uparrow}(t, t)\\$\", labelpad = 16)\n",
    "ax.xaxis.set_tick_params(pad = xpad)\n",
    "ax.yaxis.set_tick_params(pad = ypad)\n",
    "ax.set_axisbelow(false)\n",
    "# ticklabel_format(axis = \"y\", style = \"sci\", scilimits = (-0, 0))\n",
    "# ax.legend( loc = \"best\", handlelength = 1.9, frameon = false, borderpad = 0, labelspacing = 0.25)\n",
    "ax.yaxis.set_label_position(\"right\")\n",
    "\n",
    "tight_layout(pad = 0.1, w_pad = 0.5, h_pad = 0)\n",
    "# savefig(\"fermi_hubbard_T.pdf\")"
   ]
  },
  {
   "cell_type": "code",
   "execution_count": null,
   "metadata": {
    "scrolled": true
   },
   "outputs": [],
   "source": [
    "Gs = loaded_sol[\"solution\"]\n",
    "\n",
    "xpad = 8\n",
    "ypad = 5\n",
    "\n",
    "figure(figsize = (8, 2))\n",
    "\n",
    "ax = subplot(121)\n",
    "plot(loaded_sol[\"solution\"].t, [(sum(Gs.u[1][i, i, k, k] for i = 1:num_sites) |> imag) .+ (sum(Gs.u[3][i, i, k, k] for i = 1:num_sites) |> imag) for k = 1:num_points] \n",
    "    .- sum(N_c .+ N_f)  .|> abs, \n",
    "    label = \"\\$ c \\$\", ls = \"-\", c = \"k\")\n",
    "xlim(0, tmax)\n",
    "ax.set_xticks([0, 8, 16, 24, 32])\n",
    "ax.set_xticklabels([])\n",
    "yticks([k for k in 0:0.5:1] .* 5e-15)\n",
    "ylim([0.0, 1] .* 5e-15)\n",
    "ylabel(\"Charge conservation\", labelpad = 16)\n",
    "ax.yaxis.set_label_position(\"right\")\n",
    "\n",
    "ax = subplot(122)\n",
    "plot(loaded_sol[\"solution\"].t, [(sum(Gs.u[1][i, i, k, k] for i = 1:num_sites) |> imag) .- (sum(Gs.u[3][i, i, k, k] for i = 1:num_sites) |> imag) for k = 1:num_points] \n",
    "    .- sum(N_c .- N_f) .|> abs, \n",
    "    label = \"\\$ c \\$\", ls = \"-\", c = \"k\")\n",
    "xlim(0, tmax)\n",
    "ax.set_xticks([0, 8, 16, 24, 32])\n",
    "yticks([k for k in 0:0.5:1] .* 3e-15)\n",
    "ax.set_xticklabels([])\n",
    "# ax.set_yticklabels([])\n",
    "ylim([0.0, 1] .* 3e-15)\n",
    "ylabel(\"Spin conservation\", labelpad = 16)\n",
    "ax.yaxis.set_label_position(\"right\")\n",
    "\n",
    "tight_layout(pad = 0.0, w_pad = 0.5, h_pad = 0)\n",
    "# savefig(\"fermi_hubbard_example_T_inset.pdf\")"
   ]
  },
  {
   "cell_type": "code",
   "execution_count": null,
   "metadata": {},
   "outputs": [],
   "source": [
    "using FFTW, Interpolations"
   ]
  },
  {
   "cell_type": "code",
   "execution_count": null,
   "metadata": {},
   "outputs": [],
   "source": [
    "idx = 1\n",
    "ρτ, (τs, ts) = wigner_transform_itp(FG[idx, idx, :, :] - FL[idx, idx, :, :], sol.t, fourier=false);\n",
    "ρω, (ωs, ts) = wigner_transform_itp(FG[idx, idx, :, :] - FL[idx, idx, :, :], sol.t, fourier=true);"
   ]
  },
  {
   "cell_type": "code",
   "execution_count": null,
   "metadata": {},
   "outputs": [],
   "source": [
    "idx = 5\n",
    "shift = 0\n",
    "ρτ, (τs, ts) = wigner_transform_itp((loaded_sol[\"solution\"].u[2][idx, idx, :, :] - loaded_sol[\"solution\"].u[1][idx, idx, :, :])[1+shift:end-shift, 1+shift:end-shift], \n",
    "    loaded_sol[\"solution\"].t[1+shift:end-shift], fourier=false);\n",
    "ρω, (ωs, ts) = wigner_transform_itp((loaded_sol[\"solution\"].u[2][idx, idx, :, :] - loaded_sol[\"solution\"].u[1][idx, idx, :, :])[1+shift:end-shift, 1+shift:end-shift], \n",
    "    loaded_sol[\"solution\"].t[1+shift:end-shift], fourier=true);"
   ]
  },
  {
   "cell_type": "code",
   "execution_count": null,
   "metadata": {},
   "outputs": [],
   "source": [
    "τs |> size"
   ]
  },
  {
   "cell_type": "code",
   "execution_count": null,
   "metadata": {},
   "outputs": [],
   "source": [
    "ts |> size"
   ]
  },
  {
   "cell_type": "code",
   "execution_count": null,
   "metadata": {},
   "outputs": [],
   "source": [
    "t_scale = 1\n",
    "ω_scale = 1;"
   ]
  },
  {
   "cell_type": "code",
   "execution_count": null,
   "metadata": {},
   "outputs": [],
   "source": [
    "xpad = 8\n",
    "ypad = 5\n",
    "\n",
    "center = floor(length(ts) / 2) |> Int\n",
    "center |> print\n",
    "\n",
    "figure(figsize=(8, 3))\n",
    "\n",
    "ax = subplot(121)\n",
    "plot(t_scale * τs, -ρτ[:, center] |> imag, ls=\"-\", c=\"C0\", lw=1.5)\n",
    "ax.set_xlabel(\"\\$J \\\\tau\\$\")\n",
    "ax.set_xlim(-t_scale * tmax / 2, t_scale * tmax / 2)\n",
    "# ax.set_ylim(-0.6, 1.0)\n",
    "ax.set_xticks(t_scale .* [-tmax/2, -tmax/4, 0, tmax/4, tmax/2])\n",
    "ax.xaxis.set_tick_params(pad=xpad)\n",
    "ax.yaxis.set_tick_params(pad=ypad)\n",
    "ax.set_ylabel(\"\\$  A_{11, \\\\uparrow}(\\\\tau, T) \\$\")\n",
    "\n",
    "\n",
    "ax = subplot(122)\n",
    "plot(ω_scale * ωs, ρω[:, center] |> real, \"-\", c=\"C0\", lw=1.5)\n",
    "\n",
    "ax.xaxis.set_tick_params(pad=xpad)\n",
    "ax.yaxis.set_tick_params(pad=ypad)\n",
    "ax.set_xlabel(\"\\$\\\\omega/J\\$\")\n",
    "ax.set_ylabel(\"\\$ A_{11,\\\\uparrow}(\\\\omega, T)\\$\", labelpad=16)\n",
    "ax.set_xlim(5 .* (-1, 1))\n",
    "# ax.set_ylim(0, 10)\n",
    "ax.yaxis.set_label_position(\"right\")\n",
    "# ax.legend(loc=\"best\", handlelength=1.4, frameon=false, borderpad=0, labelspacing=0.25)\n",
    "\n",
    "tight_layout(pad=0.1, w_pad=0.5, h_pad=0)\n",
    "\n",
    "\n",
    "# savefig(\"fermi_hubbard_example_tau_omega.pdf\")"
   ]
  },
  {
   "cell_type": "code",
   "execution_count": null,
   "metadata": {},
   "outputs": [],
   "source": [
    "τs"
   ]
  },
  {
   "cell_type": "code",
   "execution_count": null,
   "metadata": {},
   "outputs": [],
   "source": [
    "N = 2^8\n",
    "L = 2^3\n",
    "λ = 0.5\n",
    "k_0 = 2*pi/λ\n",
    "f(x) = 0.01 + sin(k_0 * x)\n",
    "x = collect(range(-L/2, stop=L/2, length=N+1))\n",
    "k_vals = [(k - 1  - N/2)/L for k in 1:N+1];"
   ]
  },
  {
   "cell_type": "code",
   "execution_count": null,
   "metadata": {},
   "outputs": [],
   "source": [
    "fft_f = fftshift(fft(map(f, x)));"
   ]
  },
  {
   "cell_type": "code",
   "execution_count": null,
   "metadata": {},
   "outputs": [],
   "source": [
    "figure(figsize=(4, 2))\n",
    "plot(k_vals, fft_f);\n",
    "axvline(1/λ, color=\"r\")\n",
    "axvline(-1/λ, color=\"r\")\n",
    "xlim(-5/λ, 5/λ);"
   ]
  },
  {
   "cell_type": "code",
   "execution_count": null,
   "metadata": {},
   "outputs": [],
   "source": [
    "figure(figsize=(4, 2))\n",
    "plot(x, map(f, x));\n",
    "plot(x, (ifft(ifftshift(fft_f))), ls=\"-.\");"
   ]
  },
  {
   "cell_type": "code",
   "execution_count": null,
   "metadata": {},
   "outputs": [],
   "source": [
    "function meshgrid(xin,yin)\n",
    "  nx=length(xin)\n",
    "  ny=length(yin)\n",
    "  xout=zeros(ny,nx)\n",
    "  yout=zeros(ny,nx)\n",
    "  for jx=1:nx\n",
    "      for ix=1:ny\n",
    "          xout[ix,jx]=xin[jx]\n",
    "          yout[ix,jx]=yin[ix]\n",
    "      end\n",
    "  end\n",
    "  return (x=xout, y=yout)\n",
    "end\n",
    "\n",
    "Y, X = meshgrid(loaded_sol[\"solution\"].t, loaded_sol[\"solution\"].t);"
   ]
  },
  {
   "cell_type": "code",
   "execution_count": null,
   "metadata": {},
   "outputs": [],
   "source": [
    "Y_gauss, X_gauss = meshgrid(U_0_sol[\"solution\"].t, U_0_sol[\"solution\"].t)\n",
    "GL_gauss = U_0_sol[\"solution\"].u[1]\n",
    "GG_gauss = U_0_sol[\"solution\"].u[2];"
   ]
  },
  {
   "cell_type": "code",
   "execution_count": null,
   "metadata": {},
   "outputs": [],
   "source": [
    "cmap = \"gist_heat\";"
   ]
  },
  {
   "cell_type": "code",
   "execution_count": null,
   "metadata": {},
   "outputs": [],
   "source": [
    "figure(figsize=(7, 3))\n",
    "t_scale = 1\n",
    "vmin = -1.0\n",
    "vmax = 1.0\n",
    "\n",
    "# ax = subplot(121) # plt.gca()\n",
    "# heatmap = ax.pcolormesh(X_gauss, Y_gauss, imag(GL_gauss.data[1, 1, :, :]) .- imag(GG_gauss.data[1, 1, :, :]), cmap=cmap, rasterized=true, vmin=vmin, vmax=vmax)\n",
    "# heatmap.set_edgecolor(\"face\")\n",
    "# ax.set_aspect(\"equal\")\n",
    "# # cbar = colorbar(mappable=heatmap)\n",
    "# # cbar.formatter.set_powerlimits((0, 0))\n",
    "# ax.set_xlabel(\"\\$J t\\$\")\n",
    "# ax.set_ylabel(\"\\$J t'\\$\")\n",
    "# ax.set_xlim(0, t_scale * tmax)\n",
    "# ax.set_ylim(0, t_scale * tmax)\n",
    "# ax.set_xticks(t_scale .* [0, tmax/2, tmax])\n",
    "# ax.set_yticks(t_scale .* [0, tmax/2, tmax])\n",
    "\n",
    "center = floor(length(ts) / 2) |> Int\n",
    "center |> print\n",
    "\n",
    "\n",
    "ax = subplot(121)\n",
    "plot(t_scale * τs, -ρτ[:, center] |> imag, ls=\"-\", c=\"C0\", lw=1.5)\n",
    "ax.set_xlabel(\"\\$J \\\\tau\\$\")\n",
    "ax.set_xlim(-t_scale * tmax / 2, t_scale * tmax / 2)\n",
    "ax.set_ylim(-1, 1)\n",
    "ax.set_xticks(t_scale .* [-tmax/2, -tmax/4, 0, tmax/4, tmax/2])\n",
    "ax.xaxis.set_tick_params(pad=xpad)\n",
    "ax.yaxis.set_tick_params(pad=ypad)\n",
    "ax.set_ylabel(\"\\$  A_{11, \\\\uparrow}(T_{\\\\mathrm{max}}/2, \\\\tau)_W \\$\")\n",
    "\n",
    "ax = subplot(122)\n",
    "heatmap = ax.pcolormesh(X, Y, imag(loaded_sol[\"solution\"].u[1][1, 1, :, :]) .- imag(loaded_sol[\"solution\"].u[2][1, 1, :, :]), cmap=cmap, rasterized=true, vmin=vmin, vmax=vmax)\n",
    "heatmap.set_edgecolor(\"face\")\n",
    "ax.set_aspect(\"equal\")\n",
    "cbar = colorbar(mappable=heatmap)\n",
    "cbar.formatter.set_powerlimits((0, 0))\n",
    "ax.set_xlabel(\"\\$J t\\$\")\n",
    "ax.set_ylabel(\"\\$J t'\\$\")\n",
    "ax.set_xlim(0, t_scale * tmax)\n",
    "ax.set_ylim(0, t_scale * tmax)\n",
    "ax.set_xticks(t_scale .* [0, tmax/2, tmax])\n",
    "ax.set_yticks(t_scale .* [0, tmax/2, tmax])\n",
    "# ax.set_yticklabels([])\n",
    "\n",
    "tight_layout(pad=0.75, w_pad=0.5, h_pad=0)\n",
    "\n",
    "# savefig(\"fermi_hubbard_example_two_times.pdf\")"
   ]
  },
  {
   "cell_type": "markdown",
   "metadata": {},
   "source": [
    "## Testing"
   ]
  },
  {
   "cell_type": "code",
   "execution_count": null,
   "metadata": {},
   "outputs": [],
   "source": []
  },
  {
   "cell_type": "markdown",
   "metadata": {},
   "source": [
    "### Exact solution"
   ]
  },
  {
   "cell_type": "code",
   "execution_count": null,
   "metadata": {},
   "outputs": [],
   "source": []
  },
  {
   "cell_type": "code",
   "execution_count": null,
   "metadata": {},
   "outputs": [],
   "source": [
    "# [6, 6] entry when the initial occupation on the second site is |↑↓>\n",
    "@assert N_f == N_c == [0.0, 1.0]\n",
    "figure(figsize = (4, 3))\n",
    "plot(sol.t, [G1u1u(t, t)[6, 6] for t in sol.t] |> real, \n",
    "    ls = \"-\", c = \"C0\", label = \"\\$ \\\\sigma=\\\\;\\\\uparrow \\$ (approx)\")\n",
    "    \n",
    "plot(sol.t, [imag(loaded_sol[\"solution\"].u[1][1, 1, k, k]) for k = 1:length(sol.t)], \n",
    "    ls = \"--\", c = \"C1\", label = \"\\$ \\\\sigma=\\\\;\\\\uparrow\\$ (exact)\")\n",
    "\n",
    "xlim(0, 10)\n",
    "# ax.set_xticks([0, 5, 10])\n",
    "ylim(0, 1)\n",
    "xlabel(\"\\$J t\\$\")\n",
    "# ylabel(\"\\$\\\\mathrm{Im}\\\\; G^<_{11, \\\\sigma}(t, t)\\$\")\n",
    "ylabel(\"\\$\\\\mathrm{Im}\\\\; G^<_{ii, \\\\uparrow}(t, t)\\$\")\n",
    "ax.xaxis.set_tick_params(pad = xpad)\n",
    "ax.yaxis.set_tick_params(pad = ypad)\n",
    "\n",
    "legend(loc = \"best\", handlelength = 1.9, frameon = false, borderpad = 0, labelspacing = 0.25)\n",
    "tight_layout(pad = 0.0, w_pad = 0.0, h_pad = 0)"
   ]
  },
  {
   "cell_type": "code",
   "execution_count": null,
   "metadata": {},
   "outputs": [],
   "source": []
  }
 ],
 "metadata": {
  "kernelspec": {
   "display_name": "Julia 1.6.0",
   "language": "julia",
   "name": "julia-1.6"
  },
  "language_info": {
   "file_extension": ".jl",
   "mimetype": "application/julia",
   "name": "julia",
   "version": "1.6.0"
  }
 },
 "nbformat": 4,
 "nbformat_minor": 2
}
