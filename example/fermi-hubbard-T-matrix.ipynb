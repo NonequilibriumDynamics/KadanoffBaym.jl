{
 "cells": [
  {
   "cell_type": "markdown",
   "metadata": {},
   "source": [
    "# Fermi-Hubbard Model"
   ]
  },
  {
   "cell_type": "code",
   "execution_count": 447,
   "metadata": {
    "scrolled": true
   },
   "outputs": [
    {
     "name": "stderr",
     "output_type": "stream",
     "text": [
      "\u001b[32m\u001b[1m  Activating\u001b[22m\u001b[39m environment at `~/.julia/environments/v1.6/Project.toml`\n"
     ]
    }
   ],
   "source": [
    "using Pkg; Pkg.activate()\n",
    "using KadanoffBaym\n",
    "using LinearAlgebra, BlockArrays\n",
    "using UnPack\n",
    "using JLD"
   ]
  },
  {
   "cell_type": "code",
   "execution_count": 448,
   "metadata": {},
   "outputs": [],
   "source": [
    "using PyPlot\n",
    "PyPlot.plt.style.use(\"./paper.mplstyle\")"
   ]
  },
  {
   "cell_type": "markdown",
   "metadata": {},
   "source": [
    "## Model"
   ]
  },
  {
   "cell_type": "markdown",
   "metadata": {},
   "source": [
    "Second-order Born approximation:\n",
    "$$\n",
    "    \\Sigma_{ij, \\uparrow}  (t, t') = U^2 G_{ij, \\uparrow}(t, t') G_{ij, \\downarrow}(t, t') G_{ji, \\downarrow}(t', t),\\\\\n",
    "    \\Sigma_{ij, \\downarrow}(t, t') = U^2 G_{ij, \\downarrow}(t, t') G_{ij, \\uparrow}(t, t') G_{ji, \\uparrow}(t', t)\n",
    "$$\n",
    "\n",
    "\n",
    "$T$-matrix approximation:\n",
    "$$\n",
    "    \\Sigma_{ij, \\uparrow}  (t, t') = U^2 T_{ij}(t, t') G_{ji, \\downarrow}(t', t),\\\\\n",
    "    \\Sigma_{ij, \\downarrow}(t, t') = U^2 T_{ij}(t, t') G_{ji, \\uparrow}(t', t)\n",
    "$$\n",
    "\n",
    "$$\n",
    "   T_{ij}(t, t') =  G_{ij, \\uparrow}(t, t') G_{ij, \\downarrow}(t, t') + U \\int_{\\mathcal{C}}\\mathrm{d}s\\; G_{ij, \\uparrow}(t, s) G_{ij, \\downarrow}(t, s) T_{ij}(s, t')\n",
    "$$\n",
    "\n",
    "$t<t'$:\n",
    "$$\n",
    "    \\int_{\\mathcal{C}}\\mathrm{d}s\\; A(t, s) B(s, t') = \\int_{t_0}^{t}{\\mathrm{d}\\bar{t}}  A^>(t, \\bar{t}) B^<(\\bar{t}, t') + \\int_{t}^{t'}{\\mathrm{d}\\bar{t}}  A^<(t, \\bar{t}) B^<(\\bar{t}, t') + \\int_{t'}^{t_0}{\\mathrm{d}\\bar{t}}  A^<(t, \\bar{t}) B^>(\\bar{t}, t')  \n",
    "$$\n",
    "$t>t'$:\n",
    "$$\n",
    "    \\int_{\\mathcal{C}}\\mathrm{d}s\\; A(t, s) B(s, t') = \\int_{t_0}^{t'}{\\mathrm{d}\\bar{t}}  A^>(t, \\bar{t}) B^<(\\bar{t}, t') + \\int_{t'}^{t}{\\mathrm{d}\\bar{t}}  A^>(t, \\bar{t}) B^>(\\bar{t}, t') + \\int_{t}^{t_0}{\\mathrm{d}\\bar{t}}  A^<(t, \\bar{t}) B^>(\\bar{t}, t')  \n",
    "$$\n",
    "\n",
    "$$\n",
    "    T^<_{ij}(t, t') =  G^<_{ij, \\uparrow}(t, t') G^<_{ij, \\downarrow}(t, t') + U \\int_{t_0}^{t}{\\mathrm{d}\\bar{t}}\\; G^>_{ij, \\uparrow}(t, s) G^>_{ij, \\downarrow}(t, s) T^<_{ij}(s, t') + U \\int_{t}^{t'}{\\mathrm{d}\\bar{t}}\\; G^<_{ij, \\uparrow}(t, s) G^<_{ij, \\downarrow}(t, s) T^<_{ij}(s, t') + U \\int_{t'}^{t_0}{\\mathrm{d}\\bar{t}}\\; G^<_{ij, \\uparrow}(t, s) G^<_{ij, \\downarrow}(t, s) T^>_{ij}(s, t')\n",
    "$$\n",
    "\n",
    "$$\n",
    "    T^>_{ij}(t, t') =  G^>_{ij, \\uparrow}(t, t') G^>_{ij, \\downarrow}(t, t') + U \\int_{t_0}^{t'}{\\mathrm{d}\\bar{t}}\\; G^>_{ij, \\uparrow}(t, s) G^>_{ij, \\downarrow}(t, s) T^<_{ij}(s, t') + U \\int_{t'}^{t}{\\mathrm{d}\\bar{t}}\\; G^>_{ij, \\uparrow}(t, s) G^>_{ij, \\downarrow}(t, s) T^>_{ij}(s, t') + U \\int_{t}^{t_0}{\\mathrm{d}\\bar{t}}\\; G^<_{ij, \\uparrow}(t, s) G^<_{ij, \\downarrow}(t, s) T^>_{ij}(s, t')\n",
    "$$"
   ]
  },
  {
   "cell_type": "markdown",
   "metadata": {},
   "source": [
    "$$\n",
    "    \\dot{T}^<_{ij}(t, t') = \\partial_t\\left(G^<_{ij, \\uparrow}(t, t') G^<_{ij, \\downarrow}(t, t')\\right) + U G^>_{ij, \\uparrow}(t, t) G^>_{ij, \\downarrow}(t, t) T^<_{ij}(t, t') - U G^<_{ij, \\uparrow}(t, t) G^<_{ij, \\downarrow}(t, t) T^<_{ij}(t, t') \\\\\n",
    "    + U \\int_{t_0}^{t}{\\mathrm{d}\\bar{t}}\\; \\partial_t\\left(G^>_{ij, \\uparrow}(t, t') G^>_{ij, \\downarrow}(t, t')\\right) T^<_{ij}(s, t') + U \\int_{t}^{t'}{\\mathrm{d}\\bar{t}}\\; \\partial_t\\left(G^<_{ij, \\uparrow}(t, t') G^<_{ij, \\downarrow}(t, t')\\right) T^<_{ij}(s, t') + U \\int_{t'}^{t_0}{\\mathrm{d}\\bar{t}}\\; \\partial_t\\left(G^<_{ij, \\uparrow}(t, t') G^<_{ij, \\downarrow}(t, t')\\right) T^>_{ij}(s, t')\n",
    "$$\n",
    "\n",
    "$$\n",
    "    \\dot{T}^>_{ij}(t, t') = \\partial_t\\left(G^>_{ij, \\uparrow}(t, t') G^>_{ij, \\downarrow}(t, t')\\right) + U G^>_{ij, \\uparrow}(t, t) G^>_{ij, \\downarrow}(t, t) T^>_{ij}(t, t') - U G^<_{ij, \\uparrow}(t, t) G^<_{ij, \\downarrow}(t, t) T^>_{ij}(t, t') \\\\\n",
    "    + U \\int_{t_0}^{t'}{\\mathrm{d}\\bar{t}}\\; \\partial_t\\left(G^>_{ij, \\uparrow}(t, s) G^>_{ij, \\downarrow}(t, s)\\right) T^<_{ij}(s, t') + U \\int_{t'}^{t}{\\mathrm{d}\\bar{t}}\\; \\partial_t\\left(G^>_{ij, \\uparrow}(t, s) G^>_{ij, \\downarrow}(t, s)\\right) T^<_{ij}(s, t') + U \\int_{t}^{t_0}{\\mathrm{d}\\bar{t}}\\; \\partial_t\\left(G^<_{ij, \\uparrow}(t, s) G^<_{ij, \\downarrow}(t, s)\\right) T^>_{ij}(s, t')\n",
    "$$"
   ]
  },
  {
   "cell_type": "markdown",
   "metadata": {},
   "source": [
    "## Solving"
   ]
  },
  {
   "cell_type": "code",
   "execution_count": 449,
   "metadata": {},
   "outputs": [],
   "source": [
    "num_sites = 2;"
   ]
  },
  {
   "cell_type": "code",
   "execution_count": 450,
   "metadata": {},
   "outputs": [],
   "source": [
    "# 8-site 3D cubic lattice\n",
    "h = BlockArray{ComplexF64}(undef_blocks, [4, 4], [4, 4])\n",
    "diag_block = [0 -1 0 -1; -1 0 -1 0; 0 -1 0 -1; -1 0 -1 0]\n",
    "setblock!(h, diag_block, 1, 1)\n",
    "setblock!(h, diag_block, 2, 2)\n",
    "setblock!(h, Diagonal(-1 .* ones(4)), 1, 2)\n",
    "setblock!(h, Diagonal(-1 .* ones(4)), 2, 1)\n",
    "\n",
    "full_h = BlockArray{ComplexF64}(undef_blocks, [8, 8], [8, 8])\n",
    "setblock!(full_h, h |> Array, 1, 1)\n",
    "setblock!(full_h, h |> Array, 2, 2)\n",
    "setblock!(full_h, zeros(ComplexF64, 8, 8), 1, 2)\n",
    "setblock!(full_h, zeros(ComplexF64, 8, 8), 2, 1)\n",
    "\n",
    "full_h = full_h |> Array;"
   ]
  },
  {
   "cell_type": "code",
   "execution_count": 451,
   "metadata": {},
   "outputs": [
    {
     "data": {
      "text/plain": [
       "FermiHubbardModel"
      ]
     },
     "execution_count": 451,
     "metadata": {},
     "output_type": "execute_result"
    }
   ],
   "source": [
    "Base.@kwdef struct FermiHubbardModel\n",
    "    U::Float64\n",
    "    H = ComplexF64[0 -1 0 0; -1 0 0 0; 0 0 0 -1; 0 0 -1 0] # two-site 1D chain\n",
    "    \n",
    "    # 8-site 3D cubic lattice\n",
    "#     H = full_h\n",
    "end"
   ]
  },
  {
   "cell_type": "code",
   "execution_count": 452,
   "metadata": {},
   "outputs": [],
   "source": [
    "struct FermiHubbardData{T, S}\n",
    "    GL::T\n",
    "    GG::T\n",
    "    FL::T\n",
    "    FG::T\n",
    "    \n",
    "    TL::S\n",
    "    TG::S    \n",
    "    \n",
    "    ΣNCA_c_L::T\n",
    "    ΣNCA_c_G::T\n",
    "    ΣNCA_f_L::T\n",
    "    ΣNCA_f_G::T\n",
    "    \n",
    "    dot_GL_GL::S\n",
    "    dot_GG_GG::S\n",
    "    \n",
    "    # Initialize problem\n",
    "    function FermiHubbardData(GL::T, GG::T, FL::T, FG::T, TL::S, TG::S) where {T, S}\n",
    "        new{T, S}(GL, GG, FL, FG, zero(TL), zero(TG), zero(GL), zero(GG), zero(FL), zero(FG), zero(TL), zero(TG))\n",
    "    end\n",
    "end"
   ]
  },
  {
   "cell_type": "code",
   "execution_count": 453,
   "metadata": {},
   "outputs": [],
   "source": [
    "# struct FermiHubbardData{T}\n",
    "#     GL::T\n",
    "#     GG::T\n",
    "#     FL::T\n",
    "#     FG::T\n",
    "\n",
    "#     ΣNCA_c_L::T\n",
    "#     ΣNCA_c_G::T\n",
    "#     ΣNCA_f_L::T\n",
    "#     ΣNCA_f_G::T\n",
    "\n",
    "#     # Initialize problem\n",
    "#     function FermiHubbardData(GL::T, GG::T, FL::T, FG::T) where {T}\n",
    "#         new{T}(GL, GG, FL, FG, zero(GL), zero(GG), zero(FL), zero(FG))\n",
    "#     end\n",
    "# end"
   ]
  },
  {
   "cell_type": "code",
   "execution_count": 514,
   "metadata": {
    "scrolled": false
   },
   "outputs": [
    {
     "data": {
      "text/plain": [
       "fd! (generic function with 1 method)"
      ]
     },
     "execution_count": 514,
     "metadata": {},
     "output_type": "execute_result"
    }
   ],
   "source": [
    "function fv!(model, data, out, times, t, t′)\n",
    "    @unpack GL, GG, FL, FG, TL, TG, ΣNCA_c_L, ΣNCA_c_G, ΣNCA_f_L, ΣNCA_f_G, dot_GL_GL, dot_GG_GG = data\n",
    "    @unpack H, U = model \n",
    "\n",
    "    if (n = size(GL, 3)) > size(dot_GL_GL, 3)\n",
    "        resize!(dot_GL_GL, n)\n",
    "        resize!(dot_GG_GG, n)\n",
    "    end    \n",
    "    \n",
    "    # real-time collision integral\n",
    "    ∫dt(i, j, A, B) =\n",
    "        sign(j - i) * integrate(times[min(i, j):max(i, j)],[A[t, s] * B[s, t′] for s = min(i, j):max(i, j)])\n",
    "    \n",
    "    ∫dt_(i, j, A, B) =\n",
    "        sign(j - i) * integrate(times[min(i, j):max(i, j)],[A[t, s] .* B[s, t′] for s = min(i, j):max(i, j)])    \n",
    "    \n",
    "    ΣHF_c(t, t′) = 1.0im * U * Diagonal([FL[k, k, t, t] for k in 1:num_sites])\n",
    "    ΣHF_f(t, t′) = 1.0im * U * Diagonal([GL[k, k, t, t] for k in 1:num_sites])\n",
    "    \n",
    "    rhs_c_L = -1.0im * ((H[1:num_sites, 1:num_sites] + ΣHF_c(t, t′)) * GL[t, t′] + \n",
    "            ∫dt(1, t, ΣNCA_c_G, GL) + ∫dt(t, t′, ΣNCA_c_L, GL) - ∫dt(1, t′, ΣNCA_c_L, GG)\n",
    "        )\n",
    "\n",
    "    rhs_c_G = -1.0im * ((H[1:num_sites, 1:num_sites] + ΣHF_c(t, t′)) * GG[t, t′] + \n",
    "            ∫dt(t′, t, ΣNCA_c_G, GG) - ∫dt(1, t, ΣNCA_c_L, GG) + ∫dt(1, t′, ΣNCA_c_G, GL)\n",
    "        )\n",
    "\n",
    "    rhs_f_L = -1.0im * ((H[1 + num_sites:2 * num_sites, 1 + num_sites:2 * num_sites] + ΣHF_f(t, t′)) * FL[t, t′] + \n",
    "            ∫dt(1, t, ΣNCA_f_G, FL) + ∫dt(t, t′, ΣNCA_f_L, FL) - ∫dt(1, t′, ΣNCA_f_L, FG)\n",
    "        )\n",
    "\n",
    "    rhs_f_G = -1.0im * ((H[1 + num_sites:2 * num_sites, 1 + num_sites:2 * num_sites] + ΣHF_f(t, t′)) * FG[t, t′] +\n",
    "            ∫dt(t′, t, ΣNCA_f_G, FG) - ∫dt(1, t, ΣNCA_f_L, FG) + ∫dt(1, t′, ΣNCA_f_G, FL)\n",
    "        )    \n",
    "    \n",
    "    out[1] = rhs_c_L\n",
    "    out[2] = rhs_c_G\n",
    "    out[3] = rhs_f_L\n",
    "    out[4] = rhs_f_G\n",
    "    \n",
    "    out[5] = (dot_GL_GL[t, t′]\n",
    "              + U .* (FG[t, t] .* GG[t, t] - FL[t, t] .* GL[t, t]) .* TL[t, t′]\n",
    "#               + U .* (∫dt_(1, t, dot_GG_GG, TL) + ∫dt_(t, t′, dot_GL_GL, TL) - ∫dt_(1, t′, dot_GL_GL, TG))\n",
    "             )\n",
    "    \n",
    "    out[6] = (dot_GG_GG[t, t′]\n",
    "              + U .* (FG[t, t] .* GG[t, t] - FL[t, t] .* GL[t, t]) .* TG[t, t′]\n",
    "#               + U .* (∫dt_(t′, t, dot_GG_GG, TG) - ∫dt_(1, t, dot_GL_GL, TG) + ∫dt_(1, t′, dot_GG_GG, TL))\n",
    "             )\n",
    "    \n",
    "#     @show out[5]\n",
    "#     @show out[6]\n",
    "end\n",
    "\n",
    "function fd!(model, data, out, times, t, t′)\n",
    "    fv!(model, data, out, times, t, t)\n",
    "    out[1:4] .-= adjoint.(out[1:4])\n",
    "    out[5:6] .+= adjoint.(out[5:6])\n",
    "end"
   ]
  },
  {
   "cell_type": "code",
   "execution_count": 530,
   "metadata": {},
   "outputs": [
    {
     "data": {
      "text/plain": [
       "self_energies! (generic function with 1 method)"
      ]
     },
     "execution_count": 530,
     "metadata": {},
     "output_type": "execute_result"
    }
   ],
   "source": [
    "myout = [data.GL[1,1], data.GG[1,1], data.FL[1,1], data.FG[1,1], data.TL[1,1], data.TG[1,1]]\n",
    "\n",
    "function self_energies!(model, data, times, t, t′)\n",
    "    @unpack GL, GG, FL, FG, TL, TG, ΣNCA_c_L, ΣNCA_c_G, ΣNCA_f_L, ΣNCA_f_G, dot_GL_GL, dot_GG_GG = data\n",
    "    @unpack U = model\n",
    "\n",
    "    if (n = size(GL, 3)) > size(ΣNCA_c_L, 3)\n",
    "        resize!(ΣNCA_c_L, n)\n",
    "        resize!(ΣNCA_c_G, n)\n",
    "        resize!(ΣNCA_f_L, n)\n",
    "        resize!(ΣNCA_f_G, n)\n",
    "    end\n",
    "    \n",
    "    fv!(model, data, myout, times, t, t′)\n",
    "    if t == t′\n",
    "        myout .-= adjoint.(myout)\n",
    "    end\n",
    "    \n",
    "    dot_GL_GL[t, t′] = (myout[1] .* FL[t, t′] .+ GL[t, t′] .* myout[3])\n",
    "    dot_GG_GG[t, t′] = (myout[2] .* FG[t, t′] .+ GG[t, t′] .* myout[4])\n",
    "    \n",
    "#     TL[t, t′] = GL[t, t′] .* FL[t, t′]\n",
    "#     TG[t, t′] = GG[t, t′] .* FG[t, t′]\n",
    "    \n",
    "    ΣNCA_c_L[t, t′] = U^2 .* TL[t, t′] .* transpose(FG[t′, t])\n",
    "    ΣNCA_f_L[t, t′] = U^2 .* TL[t, t′] .* transpose(GG[t′, t])\n",
    "    \n",
    "    ΣNCA_c_G[t, t′] = U^2 .* TG[t, t′] .* transpose(FL[t′, t])\n",
    "    ΣNCA_f_G[t, t′] = U^2 .* TG[t, t′] .* transpose(GL[t′, t])\n",
    "end"
   ]
  },
  {
   "cell_type": "code",
   "execution_count": 531,
   "metadata": {},
   "outputs": [],
   "source": [
    "# quantum numbers\n",
    "dim = num_sites\n",
    "\n",
    "# Define your Green functions at (t0, t0) – time arguments at the end\n",
    "GL = GreenFunction(zeros(ComplexF64, dim, dim, 1, 1), SkewHermitian)\n",
    "GG = GreenFunction(zeros(ComplexF64, dim, dim, 1, 1), SkewHermitian)\n",
    "FL = GreenFunction(zeros(ComplexF64, dim, dim, 1, 1), SkewHermitian)\n",
    "FG = GreenFunction(zeros(ComplexF64, dim, dim, 1, 1), SkewHermitian)\n",
    "\n",
    "TL = GreenFunction(zeros(ComplexF64, dim, dim, 1, 1), Symmetrical)\n",
    "TG = GreenFunction(zeros(ComplexF64, dim, dim, 1, 1), Symmetrical)\n",
    "\n",
    "# Initial condition\n",
    "N_c = zeros(num_sites)\n",
    "N_f = zeros(num_sites)\n",
    "N_c[1] = 0.5\n",
    "# N_c[1:4] = [0.7, 0.0, 0.7, 0.0]\n",
    "# N_f[1:4] = [0.0, 0.25, 0.0, 0.25]\n",
    "\n",
    "# N_c[5:8] = [0.0, 0.4, 0.0, 0.4]\n",
    "# N_f[5:8] = [0.65, 0.0, 0.65, 0.0]\n",
    "\n",
    "GL[1, 1] = 1.0im * diagm(N_c)\n",
    "GG[1, 1] = -1.0im * (I - diagm(N_c))\n",
    "FL[1, 1] = 1.0im * diagm(N_f)\n",
    "FG[1, 1] = -1.0im * (I - diagm(N_f))\n",
    "\n",
    "data = FermiHubbardData(GL, GG, FL, FG, TL, TG)\n",
    "model = FermiHubbardModel(U = 0.25)\n",
    "# model = FermiHubbardModel(U = 1.)\n",
    "\n",
    "data.TL[1, 1] = GL[1, 1] .* FL[1, 1]\n",
    "data.TG[1, 1] = GG[1, 1] .* FG[1, 1]\n",
    "\n",
    "tmax = 2;"
   ]
  },
  {
   "cell_type": "code",
   "execution_count": 532,
   "metadata": {},
   "outputs": [],
   "source": [
    "function integrate(x::AbstractVector, y::AbstractVector)\n",
    "    if isone(length(x))\n",
    "        return zero(first(y))\n",
    "    end\n",
    "\n",
    "    @inbounds retval = (x[2] - x[1]) * (y[1] + y[2])\n",
    "    @inbounds @fastmath @simd for i = 2:(length(y)-1)\n",
    "        retval += (x[i+1] - x[i]) * (y[i] + y[i+1])\n",
    "    end\n",
    "    return 1 // 2 * retval\n",
    "end;"
   ]
  },
  {
   "cell_type": "code",
   "execution_count": 533,
   "metadata": {},
   "outputs": [],
   "source": [
    "atol = 1e-6\n",
    "rtol = 1e-4;\n",
    "\n",
    "# atol = 1e-5\n",
    "# rtol = 1e-3;"
   ]
  },
  {
   "cell_type": "code",
   "execution_count": 534,
   "metadata": {
    "scrolled": true
   },
   "outputs": [
    {
     "name": "stdout",
     "output_type": "stream",
     "text": [
      " t: 0.0\n",
      " t: 0.0001\n",
      " t: 0.0001\n",
      " t: NaN\n",
      " t: NaN\n",
      " t: NaN\n",
      " t: NaN\n",
      " t: NaN\n",
      " t: NaN\n",
      " t: NaN\n",
      " t: NaN\n",
      " t: NaN\n",
      " t: NaN\n",
      " t: NaN\n",
      " t: NaN\n",
      " t: NaN\n",
      " t: NaN\n",
      " t: NaN\n",
      " t: NaN\n",
      " t: NaN\n",
      " t: NaN\n",
      " t: NaN\n",
      " t: NaN\n",
      " t: NaN\n",
      " t: NaN\n",
      " t: NaN\n",
      " t: NaN\n",
      " t: NaN\n",
      " t: NaN\n",
      " t: NaN\n",
      " t: NaN\n",
      " t: NaN\n",
      " t: NaN\n",
      " t: NaN\n",
      " t: NaN\n",
      " t: NaN\n",
      " t: NaN\n",
      " t: NaN\n",
      " t: NaN\n",
      " t: NaN\n",
      " t: NaN\n",
      " t: NaN\n",
      " t: NaN\n",
      " t: NaN\n",
      " t: NaN\n",
      " t: NaN\n",
      " t: NaN\n",
      " t: NaN\n",
      " t: NaN\n",
      " t: NaN\n",
      " t: NaN\n",
      " t: NaN\n",
      " t: NaN\n",
      " t: NaN\n",
      " t: NaN\n",
      " t: NaN\n",
      " t: NaN\n",
      " t: NaN\n",
      " t: NaN\n",
      " t: NaN\n",
      " t: NaN\n",
      " t: NaN\n",
      " t: NaN\n",
      " t: NaN\n",
      " t: NaN\n",
      " t: NaN\n",
      " t: NaN\n",
      " t: NaN\n",
      " t: NaN\n",
      " t: NaN\n",
      " t: NaN\n",
      " t: NaN\n",
      " t: NaN\n",
      " t: NaN\n",
      " t: NaN\n",
      " t: NaN\n",
      " t: NaN\n",
      " t: NaN\n",
      " t: NaN\n",
      " t: NaN\n",
      " t: NaN\n",
      " t: NaN\n",
      " t: NaN\n",
      " t: NaN\n",
      " t: NaN\n",
      " t: NaN\n",
      " t: NaN\n",
      " t: NaN\n",
      " t: NaN\n",
      " t: NaN\n",
      " t: NaN\n",
      " t: NaN\n",
      " t: NaN\n",
      " t: NaN\n",
      " t: NaN\n",
      " t: NaN\n",
      " t: NaN\n",
      " t: NaN\n",
      " t: NaN\n",
      " t: NaN\n",
      " t: NaN\n"
     ]
    },
    {
     "ename": "LoadError",
     "evalue": "InexactError: trunc(Int64, NaN)",
     "output_type": "error",
     "traceback": [
      "InexactError: trunc(Int64, NaN)",
      "",
      "Stacktrace:",
      " [1] trunc",
      "   @ ./float.jl:716 [inlined]",
      " [2] ceil(#unused#::Type{Int64}, x::Float64)",
      "   @ Base ./float.jl:295",
      " [3] (::KadanoffBaym.var\"#73#75\"{KadanoffBaym.KBState{Vector{GreenFunction{ComplexF64, 4, Array{ComplexF64, 4}, U} where U<:KadanoffBaym.AbstractSymmetry}, Float64}, Int64})(u::GreenFunction{ComplexF64, 4, Array{ComplexF64, 4}, SkewHermitian})",
      "   @ KadanoffBaym ~/.julia/dev/KadanoffBaym/src/kb.jl:135",
      " [4] foreach(f::KadanoffBaym.var\"#73#75\"{KadanoffBaym.KBState{Vector{GreenFunction{ComplexF64, 4, Array{ComplexF64, 4}, U} where U<:KadanoffBaym.AbstractSymmetry}, Float64}, Int64}, itr::Vector{GreenFunction{ComplexF64, 4, Array{ComplexF64, 4}, U} where U<:KadanoffBaym.AbstractSymmetry})",
      "   @ Base ./abstractarray.jl:2141",
      " [5] timeloop!(state::KadanoffBaym.KBState{Vector{GreenFunction{ComplexF64, 4, Array{ComplexF64, 4}, U} where U<:KadanoffBaym.AbstractSymmetry}, Float64}, cache::KadanoffBaym.VCABMCache{Float64, RecursiveArrayTools.VectorOfArray{Matrix{ComplexF64}, 2, Vector{Vector{Matrix{ComplexF64}}}}}, tmax::Int64, dtmax::Float64, dtini::Float64, atol::Float64, rtol::Float64, qmax::Int64, qmin::Rational{Int64}, γ::Rational{Int64}, stop::KadanoffBaym.var\"#51#71\")",
      "   @ KadanoffBaym ~/.julia/dev/KadanoffBaym/src/kb.jl:135",
      " [6] kbsolve!(fv!::var\"#850#853\", fd!::var\"#851#854\", u0::Vector{GreenFunction{ComplexF64, 4, Array{ComplexF64, 4}, U} where U<:KadanoffBaym.AbstractSymmetry}, ::Tuple{Float64, Int64}; kv1!::Nothing, kv2!::Nothing, kd1!::Nothing, kd2!::Nothing, callback::var\"#852#855\", stop::Function, atol::Float64, rtol::Float64, dtini::Float64, dtmax::Float64, qmax::Int64, qmin::Rational{Int64}, γ::Rational{Int64}, kmax::Int64)",
      "   @ KadanoffBaym ~/.julia/dev/KadanoffBaym/src/kb.jl:86",
      " [7] top-level scope",
      "   @ timing.jl:210",
      " [8] eval",
      "   @ ./boot.jl:360 [inlined]",
      " [9] include_string(mapexpr::typeof(REPL.softscope), mod::Module, code::String, filename::String)",
      "   @ Base ./loading.jl:1094"
     ]
    }
   ],
   "source": [
    "@time sol = kbsolve!(\n",
    "    (x...) -> fv!(model, data, x...),\n",
    "    (x...) -> begin\n",
    "        println(\" t: $(x[2][x[3]])\")\n",
    "        fd!(model, data, x...)\n",
    "    end,\n",
    "    [data.GL, data.GG, data.FL, data.FG, data.TL, data.TG],\n",
    "    (0.0, tmax);\n",
    "    callback = (x...) -> self_energies!(model, data, x...),\n",
    "    atol = atol,\n",
    "    rtol = rtol,\n",
    "    dtini=1e-4\n",
    ");"
   ]
  },
  {
   "cell_type": "code",
   "execution_count": 507,
   "metadata": {},
   "outputs": [
    {
     "data": {
      "image/png": "[encoded data removed]",
      "text/plain": [
       "Figure(PyObject <Figure size 640x480 with 1 Axes>)"
      ]
     },
     "metadata": {},
     "output_type": "display_data"
    },
    {
     "data": {
      "text/plain": [
       "1-element Vector{PyCall.PyObject}:\n",
       " PyObject <matplotlib.lines.Line2D object at 0x7ff769a3e070>"
      ]
     },
     "execution_count": 507,
     "metadata": {},
     "output_type": "execute_result"
    }
   ],
   "source": [
    "plot(sol.t[1:end-1], sol.t |> diff)"
   ]
  },
  {
   "cell_type": "code",
   "execution_count": 508,
   "metadata": {},
   "outputs": [],
   "source": [
    "# save(\"FH_1D_sol_U_\"*string(model.U)*\"_atol_1e-8_rtol_1e-6.jld\", \"solution\", sol)\n",
    "save(\"FH_3D_T_matrix_sol_U_\"*string(model.U)*\"_tmax_\"*string(tmax)*\"_atol_\"*string(atol)*\"_rtol_\"*string(rtol)*\".jld\", \"solution\", sol)"
   ]
  },
  {
   "cell_type": "markdown",
   "metadata": {},
   "source": [
    "## Example plots"
   ]
  },
  {
   "cell_type": "markdown",
   "metadata": {},
   "source": [
    "### Load data"
   ]
  },
  {
   "cell_type": "code",
   "execution_count": 509,
   "metadata": {},
   "outputs": [],
   "source": [
    "# loaded_sol = load(\"FH_1D_sol_U_0.5_atol_1e-8_rtol_1e-6.jld\")\n",
    "loaded_sol = load(\"FH_3D_T_matrix_sol_U_\"*string(model.U)*\"_tmax_\"*string(tmax)*\"_atol_\"*string(atol)*\"_rtol_\"*string(rtol)*\".jld\")\n",
    "\n",
    "# U_0_sol = load(\"FH_sol_U_0.0_atol_1e-8_rtol_1e-6.jld\");"
   ]
  },
  {
   "cell_type": "code",
   "execution_count": 510,
   "metadata": {},
   "outputs": [
    {
     "data": {
      "text/plain": [
       "19"
      ]
     },
     "execution_count": 510,
     "metadata": {},
     "output_type": "execute_result"
    }
   ],
   "source": [
    "num_points = (loaded_sol[\"solution\"].t |> size)[1]"
   ]
  },
  {
   "cell_type": "code",
   "execution_count": 511,
   "metadata": {
    "scrolled": true
   },
   "outputs": [
    {
     "data": {
      "image/png": "[encoded data removed]",
      "text/plain": [
       "Figure(PyObject <Figure size 800x300 with 2 Axes>)"
      ]
     },
     "metadata": {},
     "output_type": "display_data"
    }
   ],
   "source": [
    "xpad = 8\n",
    "ypad = 5\n",
    "\n",
    "figure(figsize = (8, 3))\n",
    "\n",
    "ax = subplot(121)\n",
    "idx_1 = 1\n",
    "idx_2 = 2\n",
    "\n",
    "plot(loaded_sol[\"solution\"].t, [imag(loaded_sol[\"solution\"].u[1][idx_1, idx_1, k, k] .+ loaded_sol[\"solution\"].u[3][idx_1, idx_1, k, k]) for k = 1:num_points], \n",
    "    label = \"\\$ i=1\\$\", lw=1.5, ls = \"--\", c = \"#438E6A\")\n",
    "\n",
    "plot(loaded_sol[\"solution\"].t, [imag(loaded_sol[\"solution\"].u[1][idx_2, idx_2, k, k] .+ loaded_sol[\"solution\"].u[3][idx_2, idx_2, k, k]) for k = 1:num_points], \n",
    "    label = \"\\$ i=8\\$\", lw=1.5, ls = \"-\", c = \"#2D5FAA\")\n",
    "\n",
    "idx_1 = 1\n",
    "idx_2 = 2\n",
    "\n",
    "plot(loaded_sol[\"solution\"].t, [imag(loaded_sol[\"solution\"].u[1][idx_1, idx_1, k, k] .+ loaded_sol[\"solution\"].u[3][idx_1, idx_1, k, k]) for k = 1:num_points]) \n",
    "\n",
    "plot(loaded_sol[\"solution\"].t, [imag(loaded_sol[\"solution\"].u[1][idx_2, idx_2, k, k] .+ loaded_sol[\"solution\"].u[3][idx_2, idx_2, k, k]) for k = 1:num_points]) \n",
    "\n",
    "\n",
    "idx_1 = 1\n",
    "idx_2 = 2\n",
    "\n",
    "\n",
    "xlim(0, tmax)\n",
    "# ax.set_xticks([0, 8, 16, 24, 32])\n",
    "ylim(-0, 1)\n",
    "xlabel(\"\\$J t\\$\")\n",
    "# ylabel(\"\\$\\\\mathrm{Im}\\\\; G^<_{11, \\\\sigma}(t, t)\\$\")\n",
    "ylabel(\"Charge\", labelpad = 8)\n",
    "ax.xaxis.set_tick_params(pad = xpad)\n",
    "ax.yaxis.set_tick_params(pad = ypad)\n",
    "# ax.set_axisbelow(false)\n",
    "# ticklabel_format(axis = \"y\", style = \"sci\", scilimits = (-0, 0))\n",
    "ax.legend(loc = \"best\", handlelength = 1.9, frameon = false, borderpad = 0, labelspacing = 0.25)\n",
    "\n",
    "ax = subplot(122)\n",
    "\n",
    "plot(loaded_sol[\"solution\"].t, [imag(loaded_sol[\"solution\"].u[1][idx_1, idx_1, k, k] .- loaded_sol[\"solution\"].u[3][idx_1, idx_1, k, k]) for k = 1:num_points], \n",
    "    label = \"\\$ i=2\\$\", lw=1.5, ls = \"--\", c = \"#438E6A\")\n",
    "\n",
    "plot(loaded_sol[\"solution\"].t, [imag(loaded_sol[\"solution\"].u[1][idx_2, idx_2, k, k] .- loaded_sol[\"solution\"].u[3][idx_2, idx_2, k, k]) for k = 1:num_points], \n",
    "    label = \"\\$ i=2\\$\",  lw=1.5, ls = \"-\", c = \"#2D5FAA\")\n",
    "\n",
    "xlim(0, tmax)\n",
    "ylim(-1, 1)\n",
    "# ax.set_xticks([0, 8, 16, 24, 32])\n",
    "# ax.set_yticklabels([])\n",
    "xlabel(\"\\$J t\\$\")\n",
    "ylabel(\"Spin\", labelpad = 16)\n",
    "ax.xaxis.set_tick_params(pad = xpad)\n",
    "ax.yaxis.set_tick_params(pad = ypad)\n",
    "ax.set_axisbelow(false)\n",
    "# ticklabel_format(axis = \"y\", style = \"sci\", scilimits = (-0, 0))\n",
    "# ax.legend( loc = \"best\", handlelength = 1.9, frameon = false, borderpad = 0, labelspacing = 0.25)\n",
    "ax.yaxis.set_label_position(\"right\")\n",
    "\n",
    "tight_layout(pad = 0.1, w_pad = 0.5, h_pad = 0)\n",
    "# savefig(\"fermi_hubbard_T.pdf\")"
   ]
  },
  {
   "cell_type": "code",
   "execution_count": 512,
   "metadata": {
    "scrolled": true
   },
   "outputs": [
    {
     "data": {
      "image/png": "[encoded data removed]",
      "text/plain": [
       "Figure(PyObject <Figure size 800x200 with 2 Axes>)"
      ]
     },
     "metadata": {},
     "output_type": "display_data"
    }
   ],
   "source": [
    "Gs = loaded_sol[\"solution\"]\n",
    "\n",
    "xpad = 8\n",
    "ypad = 5\n",
    "\n",
    "figure(figsize = (8, 2))\n",
    "\n",
    "ax = subplot(121)\n",
    "plot(loaded_sol[\"solution\"].t, [(sum(Gs.u[1][i, i, k, k] for i = 1:num_sites) |> imag) .+ (sum(Gs.u[3][i, i, k, k] for i = 1:num_sites) |> imag) for k = 1:num_points] \n",
    "    .- sum(N_c .+ N_f)  .|> abs, \n",
    "    label = \"\\$ c \\$\", ls = \"-\", c = \"k\")\n",
    "xlim(0, tmax)\n",
    "# ax.set_xticks([0, 8, 16, 24, 32])\n",
    "ax.set_xticklabels([])\n",
    "# yticks([k for k in 0:0.5:1] .* 5e-15)\n",
    "# ylim(0., 0.1)\n",
    "ylabel(\"Charge conservation\", labelpad = 16)\n",
    "ax.yaxis.set_label_position(\"right\")\n",
    "\n",
    "ax = subplot(122)\n",
    "plot(loaded_sol[\"solution\"].t, [(sum(Gs.u[1][i, i, k, k] for i = 1:num_sites) |> imag) .- (sum(Gs.u[3][i, i, k, k] for i = 1:num_sites) |> imag) for k = 1:num_points] \n",
    "    .- sum(N_c .- N_f) .|> abs, \n",
    "    label = \"\\$ c \\$\", ls = \"-\", c = \"k\")\n",
    "xlim(0, tmax)\n",
    "# ax.set_xticks([0, 8, 16, 24, 32])\n",
    "yticks([k for k in 0:0.5:1] .* 3e-15)\n",
    "ax.set_xticklabels([])\n",
    "# ax.set_yticklabels([])\n",
    "ylim([0.0, 1] .* 3e-15)\n",
    "ylabel(\"Spin conservation\", labelpad = 16)\n",
    "ax.yaxis.set_label_position(\"right\")\n",
    "\n",
    "tight_layout(pad = 0.0, w_pad = 0.5, h_pad = 0)\n",
    "# savefig(\"fermi_hubbard_example_T_inset.pdf\")"
   ]
  },
  {
   "cell_type": "code",
   "execution_count": 513,
   "metadata": {},
   "outputs": [],
   "source": [
    "using FFTW, Interpolations"
   ]
  },
  {
   "cell_type": "code",
   "execution_count": 467,
   "metadata": {},
   "outputs": [
    {
     "ename": "LoadError",
     "evalue": "DimensionMismatch(\"knot vectors must have the same axes as the corresponding dimension of the array\")",
     "output_type": "error",
     "traceback": [
      "DimensionMismatch(\"knot vectors must have the same axes as the corresponding dimension of the array\")",
      "",
      "Stacktrace:",
      " [1] check_gridded",
      "   @ ~/.julia/packages/Interpolations/Glp9h/src/gridded/gridded.jl:71 [inlined]",
      " [2] Interpolations.GriddedInterpolation(#unused#::Type{Float64}, knots::Tuple{Vector{Float64}, Vector{Float64}}, A::Matrix{ComplexF64}, it::Gridded{Linear{Throw{OnGrid}}})",
      "   @ Interpolations ~/.julia/packages/Interpolations/Glp9h/src/gridded/gridded.jl:40",
      " [3] interpolate(#unused#::Type{Float64}, #unused#::Type{ComplexF64}, knots::Tuple{Vector{Float64}, Vector{Float64}}, A::Matrix{ComplexF64}, it::Gridded{Linear{Throw{OnGrid}}})",
      "   @ Interpolations ~/.julia/packages/Interpolations/Glp9h/src/gridded/gridded.jl:149",
      " [4] interpolate",
      "   @ ~/.julia/packages/Interpolations/Glp9h/src/gridded/gridded.jl:166 [inlined]",
      " [5] #wigner_transform_itp#93",
      "   @ ~/.julia/dev/KadanoffBaym/src/wigner.jl:81 [inlined]",
      " [6] top-level scope",
      "   @ In[467]:2",
      " [7] eval",
      "   @ ./boot.jl:360 [inlined]",
      " [8] include_string(mapexpr::typeof(REPL.softscope), mod::Module, code::String, filename::String)",
      "   @ Base ./loading.jl:1094"
     ]
    }
   ],
   "source": [
    "idx = 1\n",
    "ρτ, (τs, ts) = wigner_transform_itp(FG[idx, idx, :, :] - FL[idx, idx, :, :], sol.t, fourier=false);\n",
    "ρω, (ωs, ts) = wigner_transform_itp(FG[idx, idx, :, :] - FL[idx, idx, :, :], sol.t, fourier=true);"
   ]
  },
  {
   "cell_type": "code",
   "execution_count": 468,
   "metadata": {},
   "outputs": [
    {
     "ename": "LoadError",
     "evalue": "BoundsError: attempt to access 2×2×32×32 Array{ComplexF64, 4} at index [5, 5, 1:32, 1:32]",
     "output_type": "error",
     "traceback": [
      "BoundsError: attempt to access 2×2×32×32 Array{ComplexF64, 4} at index [5, 5, 1:32, 1:32]",
      "",
      "Stacktrace:",
      " [1] throw_boundserror(A::Array{ComplexF64, 4}, I::Tuple{Int64, Int64, Base.Slice{Base.OneTo{Int64}}, Base.Slice{Base.OneTo{Int64}}})",
      "   @ Base ./abstractarray.jl:651",
      " [2] checkbounds",
      "   @ ./abstractarray.jl:616 [inlined]",
      " [3] _getindex",
      "   @ ./multidimensional.jl:831 [inlined]",
      " [4] getindex",
      "   @ ./abstractarray.jl:1170 [inlined]",
      " [5] getindex(::GreenFunction{ComplexF64, 4, Array{ComplexF64, 4}, SkewHermitian}, ::Int64, ::Int64, ::Function, ::Function)",
      "   @ KadanoffBaym ~/.julia/dev/KadanoffBaym/src/gf.jl:64",
      " [6] top-level scope",
      "   @ In[468]:3",
      " [7] eval",
      "   @ ./boot.jl:360 [inlined]",
      " [8] include_string(mapexpr::typeof(REPL.softscope), mod::Module, code::String, filename::String)",
      "   @ Base ./loading.jl:1094"
     ]
    }
   ],
   "source": [
    "idx = 5\n",
    "shift = 0\n",
    "ρτ, (τs, ts) = wigner_transform_itp((loaded_sol[\"solution\"].u[2][idx, idx, :, :] - loaded_sol[\"solution\"].u[1][idx, idx, :, :])[1+shift:end-shift, 1+shift:end-shift], \n",
    "    loaded_sol[\"solution\"].t[1+shift:end-shift], fourier=false);\n",
    "ρω, (ωs, ts) = wigner_transform_itp((loaded_sol[\"solution\"].u[2][idx, idx, :, :] - loaded_sol[\"solution\"].u[1][idx, idx, :, :])[1+shift:end-shift, 1+shift:end-shift], \n",
    "    loaded_sol[\"solution\"].t[1+shift:end-shift], fourier=true);"
   ]
  },
  {
   "cell_type": "code",
   "execution_count": 469,
   "metadata": {},
   "outputs": [
    {
     "data": {
      "text/plain": [
       "(32,)"
      ]
     },
     "execution_count": 469,
     "metadata": {},
     "output_type": "execute_result"
    }
   ],
   "source": [
    "τs |> size"
   ]
  },
  {
   "cell_type": "code",
   "execution_count": 470,
   "metadata": {},
   "outputs": [
    {
     "data": {
      "text/plain": [
       "(32,)"
      ]
     },
     "execution_count": 470,
     "metadata": {},
     "output_type": "execute_result"
    }
   ],
   "source": [
    "ts |> size"
   ]
  },
  {
   "cell_type": "code",
   "execution_count": 471,
   "metadata": {},
   "outputs": [],
   "source": [
    "t_scale = 1\n",
    "ω_scale = 1;"
   ]
  },
  {
   "cell_type": "code",
   "execution_count": 472,
   "metadata": {},
   "outputs": [
    {
     "data": {
      "image/png": "[encoded data removed]",
      "text/plain": [
       "Figure(PyObject <Figure size 800x300 with 2 Axes>)"
      ]
     },
     "metadata": {},
     "output_type": "display_data"
    },
    {
     "name": "stdout",
     "output_type": "stream",
     "text": [
      "16"
     ]
    }
   ],
   "source": [
    "xpad = 8\n",
    "ypad = 5\n",
    "\n",
    "center = floor(length(ts) / 2) |> Int\n",
    "center |> print\n",
    "\n",
    "figure(figsize=(8, 3))\n",
    "\n",
    "ax = subplot(121)\n",
    "plot(t_scale * τs, -ρτ[:, center] |> imag, ls=\"-\", c=\"C0\", lw=1.5)\n",
    "ax.set_xlabel(\"\\$J \\\\tau\\$\")\n",
    "ax.set_xlim(-t_scale * tmax / 2, t_scale * tmax / 2)\n",
    "# ax.set_ylim(-0.6, 1.0)\n",
    "ax.set_xticks(t_scale .* [-tmax/2, -tmax/4, 0, tmax/4, tmax/2])\n",
    "ax.xaxis.set_tick_params(pad=xpad)\n",
    "ax.yaxis.set_tick_params(pad=ypad)\n",
    "ax.set_ylabel(\"\\$  A_{11, \\\\uparrow}(\\\\tau, T) \\$\")\n",
    "\n",
    "\n",
    "ax = subplot(122)\n",
    "plot(ω_scale * ωs, ρω[:, center] |> real, \"-\", c=\"C0\", lw=1.5)\n",
    "\n",
    "ax.xaxis.set_tick_params(pad=xpad)\n",
    "ax.yaxis.set_tick_params(pad=ypad)\n",
    "ax.set_xlabel(\"\\$\\\\omega/J\\$\")\n",
    "ax.set_ylabel(\"\\$ A_{11,\\\\uparrow}(\\\\omega, T)\\$\", labelpad=16)\n",
    "ax.set_xlim(5 .* (-1, 1))\n",
    "# ax.set_ylim(0, 10)\n",
    "ax.yaxis.set_label_position(\"right\")\n",
    "# ax.legend(loc=\"best\", handlelength=1.4, frameon=false, borderpad=0, labelspacing=0.25)\n",
    "\n",
    "tight_layout(pad=0.1, w_pad=0.5, h_pad=0)\n",
    "\n",
    "\n",
    "# savefig(\"fermi_hubbard_example_tau_omega.pdf\")"
   ]
  },
  {
   "cell_type": "code",
   "execution_count": 473,
   "metadata": {},
   "outputs": [],
   "source": [
    "function meshgrid(xin,yin)\n",
    "  nx=length(xin)\n",
    "  ny=length(yin)\n",
    "  xout=zeros(ny,nx)\n",
    "  yout=zeros(ny,nx)\n",
    "  for jx=1:nx\n",
    "      for ix=1:ny\n",
    "          xout[ix,jx]=xin[jx]\n",
    "          yout[ix,jx]=yin[ix]\n",
    "      end\n",
    "  end\n",
    "  return (x=xout, y=yout)\n",
    "end\n",
    "\n",
    "Y, X = meshgrid(loaded_sol[\"solution\"].t, loaded_sol[\"solution\"].t);"
   ]
  },
  {
   "cell_type": "code",
   "execution_count": 474,
   "metadata": {},
   "outputs": [
    {
     "ename": "LoadError",
     "evalue": "UndefVarError: U_0_sol not defined",
     "output_type": "error",
     "traceback": [
      "UndefVarError: U_0_sol not defined",
      "",
      "Stacktrace:",
      " [1] top-level scope",
      "   @ In[474]:1",
      " [2] eval",
      "   @ ./boot.jl:360 [inlined]",
      " [3] include_string(mapexpr::typeof(REPL.softscope), mod::Module, code::String, filename::String)",
      "   @ Base ./loading.jl:1094"
     ]
    }
   ],
   "source": [
    "Y_gauss, X_gauss = meshgrid(U_0_sol[\"solution\"].t, U_0_sol[\"solution\"].t)\n",
    "GL_gauss = U_0_sol[\"solution\"].u[1]\n",
    "GG_gauss = U_0_sol[\"solution\"].u[2];"
   ]
  },
  {
   "cell_type": "code",
   "execution_count": 475,
   "metadata": {},
   "outputs": [],
   "source": [
    "cmap = \"gist_heat\";"
   ]
  },
  {
   "cell_type": "code",
   "execution_count": 476,
   "metadata": {},
   "outputs": [
    {
     "data": {
      "image/png": "[encoded data removed]",
      "text/plain": [
       "Figure(PyObject <Figure size 700x300 with 3 Axes>)"
      ]
     },
     "metadata": {},
     "output_type": "display_data"
    },
    {
     "name": "stdout",
     "output_type": "stream",
     "text": [
      "16"
     ]
    }
   ],
   "source": [
    "figure(figsize=(7, 3))\n",
    "t_scale = 1\n",
    "vmin = -1.0\n",
    "vmax = 1.0\n",
    "\n",
    "# ax = subplot(121) # plt.gca()\n",
    "# heatmap = ax.pcolormesh(X_gauss, Y_gauss, imag(GL_gauss.data[1, 1, :, :]) .- imag(GG_gauss.data[1, 1, :, :]), cmap=cmap, rasterized=true, vmin=vmin, vmax=vmax)\n",
    "# heatmap.set_edgecolor(\"face\")\n",
    "# ax.set_aspect(\"equal\")\n",
    "# # cbar = colorbar(mappable=heatmap)\n",
    "# # cbar.formatter.set_powerlimits((0, 0))\n",
    "# ax.set_xlabel(\"\\$J t\\$\")\n",
    "# ax.set_ylabel(\"\\$J t'\\$\")\n",
    "# ax.set_xlim(0, t_scale * tmax)\n",
    "# ax.set_ylim(0, t_scale * tmax)\n",
    "# ax.set_xticks(t_scale .* [0, tmax/2, tmax])\n",
    "# ax.set_yticks(t_scale .* [0, tmax/2, tmax])\n",
    "\n",
    "center = floor(length(ts) / 2) |> Int\n",
    "center |> print\n",
    "\n",
    "\n",
    "ax = subplot(121)\n",
    "plot(t_scale * τs, -ρτ[:, center] |> imag, ls=\"-\", c=\"C0\", lw=1.5)\n",
    "ax.set_xlabel(\"\\$J \\\\tau\\$\")\n",
    "ax.set_xlim(-t_scale * tmax / 2, t_scale * tmax / 2)\n",
    "ax.set_ylim(-1, 1)\n",
    "ax.set_xticks(t_scale .* [-tmax/2, -tmax/4, 0, tmax/4, tmax/2])\n",
    "ax.xaxis.set_tick_params(pad=xpad)\n",
    "ax.yaxis.set_tick_params(pad=ypad)\n",
    "ax.set_ylabel(\"\\$  A_{11, \\\\uparrow}(T_{\\\\mathrm{max}}/2, \\\\tau)_W \\$\")\n",
    "\n",
    "ax = subplot(122)\n",
    "heatmap = ax.pcolormesh(X, Y, imag(loaded_sol[\"solution\"].u[1][1, 1, :, :]) .- imag(loaded_sol[\"solution\"].u[2][1, 1, :, :]), cmap=cmap, rasterized=true, vmin=vmin, vmax=vmax)\n",
    "heatmap.set_edgecolor(\"face\")\n",
    "ax.set_aspect(\"equal\")\n",
    "cbar = colorbar(mappable=heatmap)\n",
    "cbar.formatter.set_powerlimits((0, 0))\n",
    "ax.set_xlabel(\"\\$J t\\$\")\n",
    "ax.set_ylabel(\"\\$J t'\\$\")\n",
    "ax.set_xlim(0, t_scale * tmax)\n",
    "ax.set_ylim(0, t_scale * tmax)\n",
    "ax.set_xticks(t_scale .* [0, tmax/2, tmax])\n",
    "ax.set_yticks(t_scale .* [0, tmax/2, tmax])\n",
    "# ax.set_yticklabels([])\n",
    "\n",
    "tight_layout(pad=0.75, w_pad=0.5, h_pad=0)\n",
    "\n",
    "# savefig(\"fermi_hubbard_example_two_times.pdf\")"
   ]
  },
  {
   "cell_type": "markdown",
   "metadata": {},
   "source": [
    "## Testing"
   ]
  },
  {
   "cell_type": "code",
   "execution_count": 477,
   "metadata": {},
   "outputs": [
    {
     "data": {
      "image/png": "[encoded data removed]",
      "text/plain": [
       "Figure(PyObject <Figure size 700x300 with 4 Axes>)"
      ]
     },
     "metadata": {},
     "output_type": "display_data"
    }
   ],
   "source": [
    "figure(figsize=(7, 3))\n",
    "t_scale = 1\n",
    "# vmin = -1.0\n",
    "# vmax = 1.0\n",
    "\n",
    "ax = subplot(121)\n",
    "heatmap = ax.pcolormesh(X, Y, imag(loaded_sol[\"solution\"].u[1][1, 1, :, :]), cmap=cmap, rasterized=true)#, vmin=vmin, vmax=vmax)\n",
    "heatmap.set_edgecolor(\"face\")\n",
    "ax.set_aspect(\"equal\")\n",
    "cbar = colorbar(mappable=heatmap)\n",
    "cbar.formatter.set_powerlimits((0, 0))\n",
    "ax.set_xlabel(\"\\$J t\\$\")\n",
    "ax.set_ylabel(\"\\$J t'\\$\")\n",
    "ax.set_xlim(0, t_scale * tmax)\n",
    "ax.set_ylim(0, t_scale * tmax)\n",
    "ax.set_xticks(t_scale .* [0, tmax/2, tmax])\n",
    "ax.set_yticks(t_scale .* [0, tmax/2, tmax])\n",
    "\n",
    "ax = subplot(122)\n",
    "heatmap = ax.pcolormesh(X, Y, imag(loaded_sol[\"solution\"].u[2][1, 1, :, :]), cmap=cmap, rasterized=true)#, vmin=vmin, vmax=vmax)\n",
    "heatmap.set_edgecolor(\"face\")\n",
    "ax.set_aspect(\"equal\")\n",
    "cbar = colorbar(mappable=heatmap)\n",
    "cbar.formatter.set_powerlimits((0, 0))\n",
    "ax.set_xlabel(\"\\$J t\\$\")\n",
    "ax.set_ylabel(\"\\$J t'\\$\")\n",
    "ax.set_xlim(0, t_scale * tmax)\n",
    "ax.set_ylim(0, t_scale * tmax)\n",
    "ax.set_xticks(t_scale .* [0, tmax/2, tmax])\n",
    "ax.set_yticks(t_scale .* [0, tmax/2, tmax])\n",
    "# ax.set_yticklabels([])\n",
    "\n",
    "tight_layout(pad=0.75, w_pad=0.5, h_pad=0)"
   ]
  },
  {
   "cell_type": "code",
   "execution_count": null,
   "metadata": {},
   "outputs": [],
   "source": []
  }
 ],
 "metadata": {
  "kernelspec": {
   "display_name": "Julia 1.6.0",
   "language": "julia",
   "name": "julia-1.6"
  },
  "language_info": {
   "file_extension": ".jl",
   "mimetype": "application/julia",
   "name": "julia",
   "version": "1.6.0"
  }
 },
 "nbformat": 4,
 "nbformat_minor": 2
}
