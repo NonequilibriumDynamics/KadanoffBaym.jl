{
 "cells": [
  {
   "cell_type": "markdown",
   "metadata": {},
   "source": [
    "# Fermi-Hubbard Model"
   ]
  },
  {
   "cell_type": "code",
   "execution_count": null,
   "metadata": {},
   "outputs": [],
   "source": [
    "using Pkg; Pkg.activate()\n",
    "using KadanoffBaym\n",
    "using LinearAlgebra, BlockArrays\n",
    "using UnPack\n",
    "using JLD"
   ]
  },
  {
   "cell_type": "code",
   "execution_count": null,
   "metadata": {},
   "outputs": [],
   "source": [
    "using PyPlot\n",
    "PyPlot.plt.style.use(\"./paper.mplstyle\")"
   ]
  },
  {
   "cell_type": "markdown",
   "metadata": {},
   "source": [
    "## Model"
   ]
  },
  {
   "cell_type": "markdown",
   "metadata": {},
   "source": [
    "### Hamiltonian\n",
    "\n",
    "$$\n",
    "\\begin{align}\\begin{split}\n",
    "    \\hat{H} &= - J \\sum_{\\langle{i,\\,j}\\rangle}\\sum_\\sigma \\hat{c}^{\\dagger}_{i,\\sigma} \\hat{c}^{\\phantom{\\dagger}}_{i+1,\\sigma} + U\\sum_{i=1}^L  \\hat{c}^{\\dagger}_{i,\\uparrow} \\hat{c}^{\\phantom{\\dagger}}_{i,\\uparrow}   \\hat{c}^{\\dagger}_{i,\\downarrow} \\hat{c}^{\\phantom{\\dagger}}_{i,\\downarrow}, \n",
    "\\end{split}\\end{align}\n",
    "$$\n",
    "\n",
    "### Green functions\n",
    "\n",
    "$$\n",
    "    G^>_{ij}(t, t') = -i \\left\\langle \\hat{c}^{\\phantom{\\dagger}}_{i,\\uparrow}(t) \\hat{c}^{{\\dagger}}_{i,\\uparrow}(t') \\right\\rangle\\\\\n",
    "    F^>_{ij}(t, t') = -i \\left\\langle \\hat{c}^{\\phantom{\\dagger}}_{i,\\downarrow}(t) \\hat{c}^{{\\dagger}}_{i,\\downarrow}(t') \\right\\rangle\\\\\n",
    "$$\n",
    "\n",
    "### Self-energies\n",
    "\n",
    "$$\n",
    "    \\Sigma^{\\mathrm{HF}}_{\\uparrow,\\,ij}(t, t') = {\\mathrm{i}}\\delta_{ij}\\delta(t - t') F^<_{ii}(t, t)\\\\\n",
    "    \\Sigma^{\\mathrm{HF}}_{\\downarrow,\\,ij}(t, t') = {\\mathrm{i}}\\delta_{ij}\\delta(t - t') G^<_{ii}(t, t)\n",
    "$$\n",
    "\n",
    "$$\n",
    "    \\Sigma^{\\mathrm{NCA}}_{\\uparrow,\\,ij}(t, t') = U^2 G_{ij}(t, t') F_{ij}(t, t') F_{ji}(t', t)\\\\\n",
    "    \\Sigma^{\\mathrm{NCA}}_{\\downarrow,\\,ij}(t, t') = U^2 F_{ij}(t, t') G_{ij}(t, t') G_{ji}(t', t)\n",
    "$$"
   ]
  },
  {
   "cell_type": "markdown",
   "metadata": {},
   "source": [
    "## Solving"
   ]
  },
  {
   "cell_type": "code",
   "execution_count": null,
   "metadata": {},
   "outputs": [],
   "source": [
    "num_sites = 8;"
   ]
  },
  {
   "cell_type": "code",
   "execution_count": null,
   "metadata": {},
   "outputs": [],
   "source": [
    "# 8-site 3D cubic lattice\n",
    "h = BlockArray{ComplexF64}(undef_blocks, [4, 4], [4, 4])\n",
    "diag_block = [0 -1 0 -1; -1 0 -1 0; 0 -1 0 -1; -1 0 -1 0]\n",
    "setblock!(h, diag_block, 1, 1)\n",
    "setblock!(h, diag_block, 2, 2)\n",
    "setblock!(h, Diagonal(-1 .* ones(4)), 1, 2)\n",
    "setblock!(h, Diagonal(-1 .* ones(4)), 2, 1)\n",
    "\n",
    "full_h = BlockArray{ComplexF64}(undef_blocks, [8, 8], [8, 8])\n",
    "setblock!(full_h, h |> Array, 1, 1)\n",
    "setblock!(full_h, h |> Array, 2, 2)\n",
    "setblock!(full_h, zeros(ComplexF64, 8, 8), 1, 2)\n",
    "setblock!(full_h, zeros(ComplexF64, 8, 8), 2, 1)\n",
    "\n",
    "full_h = full_h |> Array;"
   ]
  },
  {
   "cell_type": "code",
   "execution_count": null,
   "metadata": {},
   "outputs": [],
   "source": [
    "Base.@kwdef struct FermiHubbardModel\n",
    "    U::Float64\n",
    "    \n",
    "    # 8-site 3D cubic lattice\n",
    "    H = begin\n",
    "        h = BlockArray{ComplexF64}(undef_blocks, [4, 4], [4, 4])\n",
    "        diag_block = [0 -1 0 -1; -1 0 -1 0; 0 -1 0 -1; -1 0 -1 0]\n",
    "        setblock!(h, diag_block, 1, 1)\n",
    "        setblock!(h, diag_block, 2, 2)\n",
    "        setblock!(h, Diagonal(-1 .* ones(4)), 1, 2)\n",
    "        setblock!(h, Diagonal(-1 .* ones(4)), 2, 1)\n",
    "\n",
    "        full_h = BlockArray{ComplexF64}(undef_blocks, [8, 8], [8, 8])\n",
    "        setblock!(full_h, h |> Array, 1, 1)\n",
    "        setblock!(full_h, h |> Array, 2, 2)\n",
    "        setblock!(full_h, zeros(ComplexF64, 8, 8), 1, 2)\n",
    "        setblock!(full_h, zeros(ComplexF64, 8, 8), 2, 1)\n",
    "        \n",
    "        full_h |> Array\n",
    "    end\n",
    "    \n",
    "    H1 = H[1:8, 1:8]\n",
    "    H2 = H[1 + 8:2 * 8, 1 + 8:2 * 8]\n",
    "end"
   ]
  },
  {
   "cell_type": "code",
   "execution_count": null,
   "metadata": {},
   "outputs": [],
   "source": [
    "struct FermiHubbardData{T}\n",
    "    GL::T\n",
    "    GG::T\n",
    "    FL::T\n",
    "    FG::T\n",
    "\n",
    "    ΣNCA_up_L::T\n",
    "    ΣNCA_up_G::T\n",
    "    ΣNCA_down_L::T\n",
    "    ΣNCA_down_G::T\n",
    "\n",
    "    # Initialize problem\n",
    "    function FermiHubbardData(GL::T, GG::T, FL::T, FG::T) where {T}\n",
    "        new{T}(GL, GG, FL, FG, zero(GL), zero(GG), zero(FL), zero(FG))\n",
    "    end\n",
    "end"
   ]
  },
  {
   "cell_type": "code",
   "execution_count": null,
   "metadata": {},
   "outputs": [],
   "source": [
    "begin\n",
    "    function integrate1(hs::Vector, t1, t2, A::GreenFunction, B::GreenFunction, C::GreenFunction; tmax=t1)\n",
    "        retval = zero(A[t1,t1])\n",
    "\n",
    "        @inbounds for k in 1:tmax\n",
    "            @views LinearAlgebra.mul!(retval, A[t1, k] - B[t1, k], C[k, t2], hs[k], 1.0)\n",
    "        end\n",
    "        return retval\n",
    "    end\n",
    "\n",
    "    function integrate2(hs::Vector, t1, t2, A::GreenFunction, B::GreenFunction, C::GreenFunction; tmax=t2)\n",
    "        retval = zero(A[t1,t1])\n",
    "\n",
    "        @inbounds for k in 1:tmax\n",
    "            @views LinearAlgebra.mul!(retval, A[t1, k], B[k, t2] - C[k, t2], hs[k], 1.0)\n",
    "        end\n",
    "        return retval\n",
    "    end\n",
    "end;"
   ]
  },
  {
   "cell_type": "code",
   "execution_count": null,
   "metadata": {},
   "outputs": [],
   "source": [
    "function fv!(model, data, out, times, h1, h2, t, t′)\n",
    "    @unpack GL, GG, FL, FG, ΣNCA_up_L, ΣNCA_up_G, ΣNCA_down_L, ΣNCA_down_G = data\n",
    "    @unpack H1, H2, U = model\n",
    "\n",
    "    # real-time collision integral\n",
    "    ∫dt1(A,B,C) = integrate1(h1, t, t′, A, B, C)#sum(h1[s] * ((A[t, s] - B[t, s]) * C[s, t′]) for s in 1:t)\n",
    "    ∫dt2(A,B,C) = integrate2(h2, t, t′, A, B, C)#sum(h2[s] * (A[t, s] * (B[s, t′] - C[s, t′])) for s in 1:t′)\n",
    "    \n",
    "    ΣHF_c(t, t′) = 1.0im * U * Diagonal(FL[t, t])\n",
    "    ΣHF_f(t, t′) = 1.0im * U * Diagonal(GL[t, t])\n",
    "    \n",
    "    out[1] = -1.0im * ((H1 + ΣHF_c(t, t′)) * GL[t, t′] + \n",
    "            ∫dt1(ΣNCA_up_G, ΣNCA_up_L, GL) + ∫dt2(ΣNCA_up_L, GL, GG)\n",
    "        )\n",
    "\n",
    "    out[2] = -1.0im * ((H1 + ΣHF_c(t, t′)) * GG[t, t′] + \n",
    "            ∫dt1(ΣNCA_up_G, ΣNCA_up_L, GG) + ∫dt2(ΣNCA_up_G, GL, GG)\n",
    "        )\n",
    "\n",
    "    out[3] = -1.0im * ((H2 + ΣHF_f(t, t′)) * FL[t, t′] + \n",
    "            ∫dt1(ΣNCA_down_G, ΣNCA_down_L, FL) + ∫dt2(ΣNCA_down_L, FL, FG)\n",
    "        )\n",
    "\n",
    "    out[4] = -1.0im * ((H2 + ΣHF_f(t, t′)) * FG[t, t′] +\n",
    "            ∫dt1(ΣNCA_down_G, ΣNCA_down_L, FG) + ∫dt2(ΣNCA_down_G, FL, FG)\n",
    "        )    \n",
    "    return out\n",
    "end\n",
    "\n",
    "function fd!(model, data, out, times, h1, h2, t, t′)\n",
    "    fv!(model, data, out, times, h1, h2, t, t)\n",
    "    out .-= adjoint.(out)\n",
    "end\n",
    "\n",
    "function self_energies!(model, data, times, h1, h2, t, t′)\n",
    "    @unpack GL, GG, FL, FG, ΣNCA_up_L, ΣNCA_up_G, ΣNCA_down_L, ΣNCA_down_G = data\n",
    "    @unpack U = model\n",
    "\n",
    "    if (n = size(GL, 3)) > size(ΣNCA_up_L, 3)\n",
    "        resize!(ΣNCA_up_L, n)\n",
    "        resize!(ΣNCA_up_G, n)\n",
    "        resize!(ΣNCA_down_L, n)\n",
    "        resize!(ΣNCA_down_G, n)\n",
    "    end\n",
    "\n",
    "    ΣNCA_up_L[t, t′] = U^2 .* GL[t, t′] .* FL[t, t′] .* transpose(FG[t′, t])\n",
    "    ΣNCA_up_G[t, t′] = U^2 .* GG[t, t′] .* FG[t, t′] .* transpose(FL[t′, t])\n",
    "\n",
    "    ΣNCA_down_L[t, t′] = U^2 .* FL[t, t′] .* GL[t, t′] .* transpose(GG[t′, t])\n",
    "    ΣNCA_down_G[t, t′] = U^2 .* FG[t, t′] .* GG[t, t′] .* transpose(GL[t′, t])\n",
    "end"
   ]
  },
  {
   "cell_type": "code",
   "execution_count": null,
   "metadata": {},
   "outputs": [],
   "source": [
    "# quantum numbers\n",
    "dim = 8\n",
    "\n",
    "# Allocate the initial Green functions (time arguments at the end)\n",
    "GL = GreenFunction(zeros(ComplexF64, dim, dim, 1, 1), SkewHermitian)\n",
    "GG = GreenFunction(zeros(ComplexF64, dim, dim, 1, 1), SkewHermitian)\n",
    "FL = GreenFunction(zeros(ComplexF64, dim, dim, 1, 1), SkewHermitian)\n",
    "FG = GreenFunction(zeros(ComplexF64, dim, dim, 1, 1), SkewHermitian)\n",
    "\n",
    "# Initial condition\n",
    "N_up = zeros(8)\n",
    "N_down = zeros(8)\n",
    "N_up[1:4] = [0.7, 0.0, 0.7, 0.0]\n",
    "N_down[1:4] = [0.0, 0.25, 0.0, 0.25]\n",
    "\n",
    "N_up[5:8] = [0.0, 0.4, 0.0, 0.4]\n",
    "N_down[5:8] = [0.65, 0.0, 0.65, 0.0]\n",
    "\n",
    "GL[1, 1] = 1.0im * diagm(N_up)\n",
    "GG[1, 1] = -1.0im * (I - diagm(N_up))\n",
    "FL[1, 1] = 1.0im * diagm(N_down)\n",
    "FG[1, 1] = -1.0im * (I - diagm(N_down))\n",
    "\n",
    "data = FermiHubbardData(GL, GG, FL, FG)\n",
    "model = FermiHubbardModel(U = 0.25)\n",
    "\n",
    "tmax = 32;"
   ]
  },
  {
   "cell_type": "code",
   "execution_count": null,
   "metadata": {},
   "outputs": [],
   "source": [
    "atol = 1e-8\n",
    "rtol = 1e-6;"
   ]
  },
  {
   "cell_type": "code",
   "execution_count": null,
   "metadata": {
    "scrolled": true
   },
   "outputs": [],
   "source": [
    "@time sol = kbsolve!(\n",
    "    (x...) -> fv!(model, data, x...),\n",
    "    (x...) -> fd!(model, data, x...),\n",
    "    [data.GL, data.GG, data.FL, data.FG],\n",
    "    (0.0, tmax);\n",
    "    callback = (x...) -> self_energies!(model, data, x...),\n",
    "    atol = atol,\n",
    "    rtol = rtol,\n",
    "    stop = x -> (println(\"t: $(x[end])\"); flush(stdout); false)\n",
    ");"
   ]
  },
  {
   "cell_type": "code",
   "execution_count": null,
   "metadata": {},
   "outputs": [],
   "source": [
    "save(\"FH_3D_sol_U_\"*string(model.U)*\"_tmax_\"*string(tmax)*\"_atol_\"*string(atol)*\"_rtol_\"*string(rtol)*\".jld\", \"solution\", sol)"
   ]
  },
  {
   "cell_type": "markdown",
   "metadata": {},
   "source": [
    "## Example plots"
   ]
  },
  {
   "cell_type": "markdown",
   "metadata": {},
   "source": [
    "### Load data"
   ]
  },
  {
   "cell_type": "code",
   "execution_count": null,
   "metadata": {},
   "outputs": [],
   "source": [
    "loaded_sol = load(\"FH_3D_sol_U_\"*string(model.U)*\"_tmax_\"*string(tmax)*\"_atol_\"*string(atol)*\"_rtol_\"*string(rtol)*\".jld\")\n",
    "num_points = (loaded_sol[\"solution\"].t |> size)[1];"
   ]
  },
  {
   "cell_type": "code",
   "execution_count": null,
   "metadata": {},
   "outputs": [],
   "source": [
    "import PyCall\n",
    "const is = PyCall.pyimport(\"mpl_toolkits.axes_grid1.inset_locator\")\n",
    "const inset_axes = is.inset_axes"
   ]
  },
  {
   "cell_type": "code",
   "execution_count": null,
   "metadata": {},
   "outputs": [],
   "source": [
    "xpad = 8\n",
    "ypad = 5\n",
    "\n",
    "fig, (ax1, ax2) = subplots(1, 2, figsize = (8, 3))\n",
    "idx_1 = 1\n",
    "idx_2 = 8\n",
    "\n",
    "ax1.plot(loaded_sol[\"solution\"].t, [imag(loaded_sol[\"solution\"].u[1][idx_1, idx_1, k, k] .+ loaded_sol[\"solution\"].u[3][idx_1, idx_1, k, k]) for k = 1:num_points], \n",
    "    label = \"\\$ i=1\\$\", lw=1.5, ls = \"--\", c = \"#438E6A\")\n",
    "\n",
    "ax1.plot(loaded_sol[\"solution\"].t, [imag(loaded_sol[\"solution\"].u[1][idx_2, idx_2, k, k] .+ loaded_sol[\"solution\"].u[3][idx_2, idx_2, k, k]) for k = 1:num_points], \n",
    "    label = \"\\$ i=8\\$\", lw=1.5, ls = \"-\", c = \"#2D5FAA\")\n",
    "\n",
    "ax1.set_xlim(0, tmax)\n",
    "ax1.set_xticks([0, 8, 16, 24, 32])\n",
    "ax1.set_ylim(-0, 1)\n",
    "ax1.set_xlabel(\"\\$J t\\$\")\n",
    "ax1.set_ylabel(\"Charge\", labelpad = 8)\n",
    "ax1.xaxis.set_tick_params(pad = xpad)\n",
    "ax1.yaxis.set_tick_params(pad = ypad)\n",
    "ax1.legend(loc = \"best\", handlelength = 1.9, frameon = false, borderpad = 0, labelspacing = 0.25)\n",
    "\n",
    "# ax2 = subplot(122)\n",
    "\n",
    "ax2.plot(loaded_sol[\"solution\"].t, [imag(loaded_sol[\"solution\"].u[1][idx_1, idx_1, k, k] .- loaded_sol[\"solution\"].u[3][idx_1, idx_1, k, k]) for k = 1:num_points], \n",
    "    label = \"\\$ i=2\\$\", lw=1.5, ls = \"--\", c = \"#438E6A\")\n",
    "\n",
    "ax2.plot(loaded_sol[\"solution\"].t, [imag(loaded_sol[\"solution\"].u[1][idx_2, idx_2, k, k] .- loaded_sol[\"solution\"].u[3][idx_2, idx_2, k, k]) for k = 1:num_points], \n",
    "    label = \"\\$ i=2\\$\",  lw=1.5, ls = \"-\", c = \"#2D5FAA\")\n",
    "\n",
    "ax2.set_xlim(0, tmax)\n",
    "ax2.set_ylim(-1, 1)\n",
    "ax2.set_xticks([0, 8, 16, 24, 32])\n",
    "ax2.set_xlabel(\"\\$J t\\$\")\n",
    "ax2.set_ylabel(\"Spin\", labelpad = 16)\n",
    "ax2.xaxis.set_tick_params(pad = xpad)\n",
    "ax2.yaxis.set_tick_params(pad = ypad)\n",
    "ax2.set_axisbelow(false)\n",
    "ax2.yaxis.set_label_position(\"right\")\n",
    "\n",
    "axins1 = inset_axes(ax1, width=1.1 * 1.0, height=0.8*3/4, loc=4, \n",
    "    bbox_to_anchor=(0.96, .0, .0, .0),\n",
    "    bbox_transform=ax1.transAxes)\n",
    "\n",
    "axins1.plot(loaded_sol[\"solution\"].t, [(sum(Gs.u[1][i, i, k, k] for i = 1:num_sites) |> imag) .+ (sum(Gs.u[3][i, i, k, k] for i = 1:num_sites) |> imag) for k = 1:num_points] \n",
    "    .- sum(N_up .+ N_down)  .|> abs, \n",
    "    label = \"\\$ c \\$\", ls = \"-\", c = \"k\")\n",
    "axins1.set_xlim(0, tmax)\n",
    "axins1.set_xticks([0, 8, 16, 24, 32])\n",
    "axins1.set_xticklabels([])\n",
    "axins1.set_yticks([k for k in 0:0.5:1] .* 5e-15)\n",
    "axins1.set_ylim([0.0, 1] .* 5e-15)\n",
    "axins1.set_ylabel(L\"Q(t) - Q_0\", fontdict = Dict(:fontsize=>10))\n",
    "axins1.tick_params(axis=\"y\", labelsize=10)\n",
    "axins1.yaxis.get_offset_text().set_fontsize(10)\n",
    "axins1.yaxis.set_label_position(\"right\")\n",
    "\n",
    "axins2 = inset_axes(ax2, width=1.1 * 1.0, height=0.8*3/4, loc=4, \n",
    "    bbox_to_anchor=(0.96, .0, .0, .0),\n",
    "    bbox_transform=ax2.transAxes)\n",
    "\n",
    "axins2.plot(loaded_sol[\"solution\"].t, [(sum(Gs.u[1][i, i, k, k] for i = 1:num_sites) |> imag) .- (sum(Gs.u[3][i, i, k, k] for i = 1:num_sites) |> imag) for k = 1:num_points] \n",
    "    .- sum(N_up .- N_down) .|> abs, \n",
    "    label = \"\\$ c \\$\", ls = \"-\", c = \"k\")\n",
    "axins2.set_xlim(0, tmax)\n",
    "axins2.set_xticks([0, 8, 16, 24, 32])\n",
    "axins2.set_yticks([k for k in 0:0.5:1] .* 3e-15)\n",
    "axins2.set_xticklabels([])\n",
    "axins2.set_ylim([0.0, 1] .* 3e-15)\n",
    "axins2.set_ylabel(L\"S(t) - S_0\", fontdict = Dict(:fontsize=>10))\n",
    "axins2.tick_params(axis=\"y\", labelsize=10)\n",
    "axins2.yaxis.get_offset_text().set_fontsize(10)\n",
    "axins2.yaxis.set_label_position(\"right\")\n",
    "\n",
    "tight_layout(pad = 0.1, w_pad = 0.5, h_pad = 0)\n",
    "savefig(\"fermi_hubbard_T.pdf\")"
   ]
  },
  {
   "cell_type": "code",
   "execution_count": null,
   "metadata": {},
   "outputs": [],
   "source": [
    "using FFTW, Interpolations"
   ]
  },
  {
   "cell_type": "code",
   "execution_count": null,
   "metadata": {},
   "outputs": [],
   "source": [
    "# quantum number to look at\n",
    "idx = 5\n",
    "shift = 0\n",
    "\n",
    "ρτ, (τs, ts) = wigner_transform_itp((loaded_sol[\"solution\"].u[2][idx, idx, :, :] - loaded_sol[\"solution\"].u[1][idx, idx, :, :]), \n",
    "    loaded_sol[\"solution\"].t[1+shift:end-shift], fourier=false);\n",
    "ρω, (ωs, ts) = wigner_transform_itp((loaded_sol[\"solution\"].u[2][idx, idx, :, :] - loaded_sol[\"solution\"].u[1][idx, idx, :, :]), \n",
    "    loaded_sol[\"solution\"].t[1+shift:end-shift], fourier=true);"
   ]
  },
  {
   "cell_type": "code",
   "execution_count": null,
   "metadata": {},
   "outputs": [],
   "source": [
    "t_scale = 1\n",
    "ω_scale = 1;"
   ]
  },
  {
   "cell_type": "code",
   "execution_count": null,
   "metadata": {},
   "outputs": [],
   "source": [
    "function meshgrid(xin,yin)\n",
    "  nx=length(xin)\n",
    "  ny=length(yin)\n",
    "  xout=zeros(ny,nx)\n",
    "  yout=zeros(ny,nx)\n",
    "  for jx=1:nx\n",
    "      for ix=1:ny\n",
    "          xout[ix,jx]=xin[jx]\n",
    "          yout[ix,jx]=yin[ix]\n",
    "      end\n",
    "  end\n",
    "  return (x=xout, y=yout)\n",
    "end\n",
    "\n",
    "Y, X = meshgrid(loaded_sol[\"solution\"].t, loaded_sol[\"solution\"].t);"
   ]
  },
  {
   "cell_type": "code",
   "execution_count": null,
   "metadata": {},
   "outputs": [],
   "source": [
    "cmap = \"gist_heat\";"
   ]
  },
  {
   "cell_type": "code",
   "execution_count": null,
   "metadata": {},
   "outputs": [],
   "source": [
    "figure(figsize=(7, 3))\n",
    "t_scale = 1\n",
    "vmin = -1.0\n",
    "vmax = 1.0\n",
    "\n",
    "center = floor(length(ts) / 2) |> Int\n",
    "\n",
    "ax = subplot(121)\n",
    "plot(t_scale * τs, -ρτ[:, center] |> imag, ls=\"-\", c=\"C0\", lw=1.5)\n",
    "ax.set_xlabel(\"\\$J \\\\tau\\$\")\n",
    "ax.set_xlim(-t_scale * tmax / 2, t_scale * tmax / 2)\n",
    "ax.set_ylim(-1, 1)\n",
    "ax.set_xticks(t_scale .* [-tmax/2, -tmax/4, 0, tmax/4, tmax/2])\n",
    "ax.xaxis.set_tick_params(pad=xpad)\n",
    "ax.yaxis.set_tick_params(pad=ypad)\n",
    "ax.set_ylabel(\"\\$  A_{11, \\\\uparrow}(T_{\\\\mathrm{max}}/2, \\\\tau)_W \\$\")\n",
    "\n",
    "ax = subplot(122)\n",
    "heatmap = ax.pcolormesh(X, Y, imag(loaded_sol[\"solution\"].u[1][1, 1, :, :]) .- imag(loaded_sol[\"solution\"].u[2][1, 1, :, :]), cmap=cmap, rasterized=true, vmin=vmin, vmax=vmax)\n",
    "heatmap.set_edgecolor(\"face\")\n",
    "ax.set_aspect(\"equal\")\n",
    "cbar = colorbar(mappable=heatmap)\n",
    "cbar.formatter.set_powerlimits((0, 0))\n",
    "ax.set_xlabel(\"\\$J t\\$\")\n",
    "ax.set_ylabel(\"\\$J t'\\$\")\n",
    "ax.set_xlim(0, t_scale * tmax)\n",
    "ax.set_ylim(0, t_scale * tmax)\n",
    "ax.set_xticks(t_scale .* [0, tmax/2, tmax])\n",
    "ax.set_yticks(t_scale .* [0, tmax/2, tmax])\n",
    "\n",
    "tight_layout(pad=0.75, w_pad=0.5, h_pad=0)\n",
    "\n",
    "# savefig(\"fermi_hubbard_example_two_times.pdf\")"
   ]
  },
  {
   "cell_type": "code",
   "execution_count": null,
   "metadata": {},
   "outputs": [],
   "source": []
  }
 ],
 "metadata": {
  "kernelspec": {
   "display_name": "Julia 8 threads 1.7.0",
   "language": "julia",
   "name": "julia-8-threads-1.7"
  },
  "language_info": {
   "file_extension": ".jl",
   "mimetype": "application/julia",
   "name": "julia",
   "version": "1.7.0"
  }
 },
 "nbformat": 4,
 "nbformat_minor": 2
}
