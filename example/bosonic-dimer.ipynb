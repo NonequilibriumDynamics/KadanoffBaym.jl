{
 "cells": [
  {
   "cell_type": "markdown",
   "metadata": {},
   "source": [
    "# Bosonic Dimer"
   ]
  },
  {
   "cell_type": "code",
   "execution_count": null,
   "metadata": {},
   "outputs": [],
   "source": [
    "using Pkg; Pkg.activate()\n",
    "using KadanoffBaym\n",
    "using LinearAlgebra\n",
    "\n",
    "using FFTW, Interpolations"
   ]
  },
  {
   "cell_type": "code",
   "execution_count": null,
   "metadata": {},
   "outputs": [],
   "source": [
    "using PyPlot\n",
    "PyPlot.plt.style.use(\"./paper.mplstyle\")\n",
    "using LaTeXStrings"
   ]
  },
  {
   "cell_type": "markdown",
   "metadata": {},
   "source": [
    "## Model"
   ]
  },
  {
   "cell_type": "markdown",
   "metadata": {},
   "source": [
    "### Non-Hermitian Hamiltonian\n",
    "\n",
    "$$\n",
    "    \\hat{H} = \\left(\\omega_1 -i\\frac{\\lambda}{2}\\right) a^{\\dagger}_1 a^\\phantom{\\dagger}_1 -i\\frac{\\gamma}{2} a^\\phantom{\\dagger}_1 a^{\\dagger}_1  + \\omega_2 a^{\\dagger}_2 a^\\phantom{\\dagger}_2 + J \\left(a^{\\dagger}_1 a^\\phantom{\\dagger}_2 + a^{\\dagger}_2 a^\\phantom{\\dagger}_1\\right)\n",
    "$$\n",
    "\n",
    "### Master equation\n",
    "\n",
    "$$\n",
    "    \\partial_{t} \\hat{\\rho}=-i\\left[\\hat{H} \\hat{\\rho}-\\hat{\\rho} \\hat{H}^{\n",
    "    \\dagger}\\right]+\\lambda a^\\phantom{\\dagger}_1 \\hat{\\rho}  a^{\\dagger}_1 +\\gamma  a^{\\dagger}_1 \\hat{\\rho} a^\\phantom{\\dagger}_1\n",
    "$$\n",
    "\n",
    "### Equations of motion\n",
    "\n",
    "#### Vertical Time.\n",
    "\n",
    "\\begin{align}\\begin{split}\n",
    "    0 &= \\begin{pmatrix}\n",
    "    i \\partial_t - \\omega_1 + i(\\lambda + \\gamma)/2 & -J \\\\\n",
    "    -J & i \\partial_t - \\omega_2\n",
    "    \\end{pmatrix} \n",
    "    \\begin{pmatrix}\n",
    "    G^<_{11} & G^<_{12} \\\\\n",
    "    G^<_{21} & G^<_{22}\n",
    "    \\end{pmatrix}(t, t') \n",
    "    - i\\gamma\n",
    "    \\begin{pmatrix}\n",
    "    G^{\\tilde{T}}_{11} & G^{\\tilde{T}}_{12} \\\\\n",
    "    0 & 0\n",
    "    \\end{pmatrix}(t, t')  \\\\\n",
    "    0 &= \\begin{pmatrix}\n",
    "    i \\partial_t - \\omega_1 - i(\\lambda + \\gamma)/2 & -J \\\\\n",
    "    -J & i \\partial_t - \\omega_2\n",
    "    \\end{pmatrix} \n",
    "    \\begin{pmatrix}\n",
    "    G^>_{11} & G^>_{12} \\\\\n",
    "    G^>_{21} & G^>_{22}\n",
    "    \\end{pmatrix}(t, t')  \n",
    "    + i\\lambda\n",
    "    \\begin{pmatrix}\n",
    "    G^T_{11} & G^T_{12} \\\\\n",
    "    0 & 0\n",
    "    \\end{pmatrix}(t, t')   \n",
    "\\end{split}\\end{align}\n",
    "\n",
    "#### Horizontal Time.\n",
    "\n",
    "\\begin{align}\\begin{split}\n",
    "    0 &= \\begin{pmatrix}\n",
    "    G^<_{11} & G^<_{12} \\\\\n",
    "    G^<_{21} & G^<_{22}\n",
    "    \\end{pmatrix}(t, t') \n",
    "    \\begin{pmatrix}\n",
    "    i \\partial_{t'} + \\omega_1 + i(\\lambda + \\gamma)/2 & J \\\\\n",
    "    J & i \\partial_{t'} + \\omega_2\n",
    "    \\end{pmatrix} \n",
    "    - i\\gamma\n",
    "    \\begin{pmatrix}\n",
    "    G^{{T}}_{11} & 0 \\\\\n",
    "    G^{{T}}_{21} & 0\n",
    "    \\end{pmatrix}(t, t')     \\\\\n",
    "    0 &= \\begin{pmatrix}\n",
    "    G^>_{11} & G^>_{12} \\\\\n",
    "    G^>_{21} & G^>_{22}\n",
    "    \\end{pmatrix}(t, t') \n",
    "    \\begin{pmatrix}\n",
    "    i \\partial_{t'} + \\omega_1 - i(\\lambda + \\gamma)/2 & J \\\\\n",
    "    J & i \\partial_{t'} + \\omega_2\n",
    "    \\end{pmatrix}  \n",
    "    + i\\lambda\n",
    "    \\begin{pmatrix}\n",
    "    G^{\\tilde{T}}_{11} & 0 \\\\\n",
    "    G^{\\tilde{T}}_{21} & 0\n",
    "    \\end{pmatrix}(t, t')   \n",
    "\\end{split}\\end{align}\n",
    "\n",
    "#### Equal-Time.\n",
    "\n",
    "\\begin{align}\\begin{split}\n",
    "    0 &= \\begin{pmatrix}\n",
    "    i \\partial_T + i(\\lambda + \\gamma) & 0 \\\\\n",
    "    0 & i \\partial_T\n",
    "    \\end{pmatrix} \n",
    "    \\begin{pmatrix}\n",
    "    G^<_{11} & G^<_{12} \\\\\n",
    "    G^<_{21} & G^<_{22}\n",
    "    \\end{pmatrix}(T, 0)\n",
    "    - \\left[\\begin{pmatrix}\n",
    "    \\omega_1 & J \\\\\n",
    "    J & \\omega_2\n",
    "    \\end{pmatrix}, \n",
    "    \\begin{pmatrix}\n",
    "    G^<_{11} & G^<_{12} \\\\\n",
    "    G^<_{21} & G^<_{22}\n",
    "    \\end{pmatrix}(T, 0)\\right] \n",
    "    - i\\gamma\n",
    "    \\begin{pmatrix}\n",
    "    G^T_{11} + G^{\\tilde{T}}_{11} & G^\\tilde{T}_{12} \\\\\n",
    "    G^{{T}}_{21} & 0\n",
    "    \\end{pmatrix}(T, 0)       \\\\\n",
    "    0 &= \\begin{pmatrix}\n",
    "    i \\partial_T - i(\\lambda + \\gamma) & 0 \\\\\n",
    "    0 & i \\partial_T\n",
    "    \\end{pmatrix} \n",
    "    \\begin{pmatrix}\n",
    "    G^>_{11} & G^>_{12} \\\\\n",
    "    G^>_{21} & G^>_{22}\n",
    "    \\end{pmatrix}(T, 0)  \n",
    "    - \\left[\\begin{pmatrix}\n",
    "    \\omega_1 & J \\\\\n",
    "    J & \\omega_2\n",
    "    \\end{pmatrix}, \n",
    "    \\begin{pmatrix}\n",
    "    G^>_{11} & G^>_{12} \\\\\n",
    "    G^>_{21} & G^>_{22}\n",
    "    \\end{pmatrix}(T, 0)\\right]\n",
    "    + i\\lambda\n",
    "    \\begin{pmatrix}\n",
    "    G^T_{11} + G^{\\tilde{T}}_{11} & G^T_{12} \\\\\n",
    "    G^{\\tilde{T}}_{21} & 0\n",
    "    \\end{pmatrix}(T, 0)   \n",
    "\\end{split}\\end{align}"
   ]
  },
  {
   "cell_type": "markdown",
   "metadata": {},
   "source": [
    "## Solving"
   ]
  },
  {
   "cell_type": "code",
   "execution_count": null,
   "metadata": {
    "ExecuteTime": {
     "end_time": "2019-12-09T14:43:21.414000+01:00",
     "start_time": "2019-12-09T13:43:14.461Z"
    }
   },
   "outputs": [],
   "source": [
    "# time parameters\n",
    "T = 16.0\n",
    "\n",
    "# Non-Hermitian Hamiltonian and jump operator\n",
    "λ = 2.0\n",
    "ω₁ = 2.5 * λ\n",
    "ω₂ = 0.0\n",
    "J = pi / 4 * λ\n",
    "\n",
    "γ = λ\n",
    "\n",
    "N₁ = 1.\n",
    "N₂ = 0.1\n",
    "\n",
    "H = ComplexF64[ω₁ - 0.5im * ((N₁ + 1) * λ + N₁ * γ) J; J ω₂ - 0.5im * ((N₂ + 1) * λ + N₂ * γ)]\n",
    "# h = H;"
   ]
  },
  {
   "cell_type": "code",
   "execution_count": null,
   "metadata": {
    "ExecuteTime": {
     "end_time": "2019-12-09T14:43:21.414000+01:00",
     "start_time": "2019-12-09T13:43:14.461Z"
    }
   },
   "outputs": [],
   "source": [
    "# quantum numbers\n",
    "L = 2\n",
    "\n",
    "# Allocate the initial Green functions (time arguments at the end)\n",
    "GL = GreenFunction(zeros(ComplexF64, L, L, 1, 1), SkewHermitian)\n",
    "GG = GreenFunction(zeros(ComplexF64, L, L, 1, 1), SkewHermitian)\n",
    "\n",
    "# initial condition\n",
    "n₀ = 2\n",
    "GL[2, 2, 1, 1] = -1.0im * n₀\n",
    "GG[2, 2, 1, 1] = -1.0im * (n₀ + 1)\n",
    "GG[1, 1, 1, 1] = -1.0im;"
   ]
  },
  {
   "cell_type": "code",
   "execution_count": null,
   "metadata": {
    "ExecuteTime": {
     "end_time": "2019-12-09T14:43:21.414000+01:00",
     "start_time": "2019-12-09T13:43:14.461Z"
    }
   },
   "outputs": [],
   "source": [
    "function fv!(out, times, t, t′)\n",
    "    out[1] = -1.0im * (H * GL[t, t′] + [[1.0im * N₁ * γ, 0] [0, 1.0im * N₂ * γ]] * GL[t, t′])\n",
    "    out[2] = -1.0im * (adjoint(H) * GG[t, t′] - 1.0im * λ * [[(N₁ + 1), 0] [0, (N₂ + 1)]] * GG[t, t′])\n",
    "end\n",
    "\n",
    "function fd!(out, times, t, t′)\n",
    "    println(\"t: $(times[t])\")\n",
    "    out[1] = (-1.0im * (H * GL[t, t] - GL[t, t] * adjoint(H)\n",
    "             + 1.0im * γ  * [[N₁ * (GL[1, 1, t, t] + GG[1, 1, t, t]), (N₁ + N₂) * (GL[2, 1, t, t] + GG[2, 1, t, t]) / 2] [(N₁ + N₂) * (GL[1, 2, t, t] + GG[1, 2, t, t]) / 2, N₂ * (GL[2, 2, t, t] + GG[2, 2, t, t])]])\n",
    "             )\n",
    "    out[2] = (-1.0im * (adjoint(H) * GG[t, t] - GG[t, t] * H\n",
    "             - 1.0im * λ * [[(N₁ + 1) * (GL[1, 1, t, t] + GG[1, 1, t, t]), (N₁ + N₂ + 2) * (GG[2, 1, t, t] + GL[2, 1, t, t]) / 2] [(N₁ + N₂ + 2) * (GG[1, 2, t, t] + GL[1, 2, t, t]) / 2, (N₂ + 1) * (GL[2, 2, t, t] + GG[2, 2, t, t])]])\n",
    "             )\n",
    "end"
   ]
  },
  {
   "cell_type": "code",
   "execution_count": null,
   "metadata": {
    "ExecuteTime": {
     "end_time": "2019-12-09T14:43:21.414000+01:00",
     "start_time": "2019-12-09T13:43:14.461Z"
    },
    "scrolled": true
   },
   "outputs": [],
   "source": [
    "# call the solver\n",
    "sol = kbsolve!(fv!, fd!, [GL, GG], (0.0, T); atol=1e-6, rtol=1e-4);"
   ]
  },
  {
   "cell_type": "code",
   "execution_count": null,
   "metadata": {},
   "outputs": [],
   "source": [
    "sol.t |> size"
   ]
  },
  {
   "cell_type": "markdown",
   "metadata": {},
   "source": [
    "### Fourier transform"
   ]
  },
  {
   "cell_type": "code",
   "execution_count": null,
   "metadata": {},
   "outputs": [],
   "source": [
    "t_lin = range(first(sol.t), stop=last(sol.t), length=length(sol.t))\n",
    "ρ_11_itp = interpolate((sol.t, sol.t), view(GL.data .- GG.data, 1, 1, :, : ), Gridded(Linear()));\n",
    "ρ_22_itp = interpolate((sol.t, sol.t), view(GL.data .- GG.data, 2, 2, :, : ), Gridded(Linear()));"
   ]
  },
  {
   "cell_type": "code",
   "execution_count": null,
   "metadata": {},
   "outputs": [],
   "source": [
    "ρ_11_wigner, (taus, ts) = wigner_transform([ρ_11_itp(t1, t2) for t1 in t_lin, t2 in t_lin]; ts=t_lin, fourier=false);\n",
    "ρ_11_wigner = ρ_11_wigner |> imag;\n",
    "\n",
    "ρ_22_wigner, (taus, ts) = wigner_transform([ρ_22_itp(t1, t2) for t1 in t_lin, t2 in t_lin]; ts=t_lin, fourier=false);\n",
    "ρ_22_wigner = ρ_22_wigner |> imag;"
   ]
  },
  {
   "cell_type": "code",
   "execution_count": null,
   "metadata": {},
   "outputs": [],
   "source": [
    "ρ_11_FFT, (ωs, ts) = wigner_transform([ρ_11_itp(t1, t2) for t1 in t_lin, t2 in t_lin]; ts=t_lin, fourier=true);\n",
    "ρ_11_FFT = ρ_11_FFT |> imag;\n",
    "\n",
    "ρ_22_FFT, (ωs, ts) = wigner_transform([ρ_22_itp(t1, t2) for t1 in t_lin, t2 in t_lin]; ts=t_lin, fourier=true);\n",
    "ρ_22_FFT = ρ_22_FFT |> imag;"
   ]
  },
  {
   "cell_type": "markdown",
   "metadata": {},
   "source": [
    "## Plotting"
   ]
  },
  {
   "cell_type": "code",
   "execution_count": null,
   "metadata": {},
   "outputs": [],
   "source": [
    "function meshgrid(xin, yin)\n",
    "  nx=length(xin)\n",
    "  ny=length(yin)\n",
    "  xout=zeros(ny, nx)\n",
    "  yout=zeros(ny, nx)\n",
    "  for jx=1:nx\n",
    "      for ix=1:ny\n",
    "          xout[ix, jx]=xin[jx]\n",
    "          yout[ix, jx]=yin[ix]\n",
    "      end\n",
    "  end\n",
    "  return (x=xout, y=yout)\n",
    "end"
   ]
  },
  {
   "cell_type": "code",
   "execution_count": null,
   "metadata": {},
   "outputs": [],
   "source": [
    "t_scale = λ\n",
    "ω_scale = 1/λ\n",
    "steps = 1\n",
    "cmap = \"gist_heat\";"
   ]
  },
  {
   "cell_type": "code",
   "execution_count": null,
   "metadata": {},
   "outputs": [],
   "source": [
    "Y, X = meshgrid(sol.t[1:steps:end], sol.t[1:steps:end]);"
   ]
  },
  {
   "cell_type": "code",
   "execution_count": null,
   "metadata": {},
   "outputs": [],
   "source": [
    "xpad = 8\n",
    "ypad = 5\n",
    "\n",
    "figure(figsize=(7, 3))\n",
    "\n",
    "ax = subplot(121)\n",
    "\n",
    "plot(t_scale * sol.t, [-imag(GL.data[1, 1, k, k]) for k in 1:length(sol.t)], ls=\"--\", c=\"C3\", label=L\"i=1\", lw=1.5)\n",
    "plot(t_scale * sol.t, [-imag(GL.data[2, 2, k, k]) for k in 1:length(sol.t)], ls=\"-\", c=\"C0\", label=L\"i=2\", lw=1.5)\n",
    "\n",
    "ax.set_xlim(0, t_scale * T/2)\n",
    "ax.set_xticks(t_scale .* [0, T/4, T/2])\n",
    "ax.set_ylim(0, n₀)\n",
    "ax.set_xlabel(L\"\\lambda T\")\n",
    "ax.set_ylabel(L\"-\\mathrm{Im}\\; G^<_{ii}(t, t)\")\n",
    "ax.xaxis.set_tick_params(pad=xpad)\n",
    "ax.yaxis.set_tick_params(pad=ypad)\n",
    "ax.legend(loc=\"best\", handlelength=1.9, frameon=false, borderpad=0, labelspacing=0.25)\n",
    "\n",
    "ax = subplot(122)\n",
    "X, Y = meshgrid(ts[1:steps:end], taus[1:steps:end]);\n",
    "vmin = 1.0\n",
    "vmax = -0.5\n",
    "\n",
    "heatmap = ax.pcolormesh(t_scale * X, t_scale * Y, ρ_11_wigner[1:steps:end, 1:steps:end], cmap=cmap, vmin=vmin, vmax=vmax, rasterized=true)\n",
    "heatmap.set_edgecolor(\"face\")\n",
    "\n",
    "ax.set_xlabel(L\"\\lambda T\")\n",
    "ax.set_ylabel(L\"\\lambda \\tau\")\n",
    "ax.set_xlim(0, t_scale * T)\n",
    "ax.set_xticks([0, t_scale * T/2, t_scale * T])\n",
    "ax.set_ylim(-t_scale * T/2, t_scale * T/2)\n",
    "ax.set_yticks([-t_scale * T/2, 0, t_scale * T/2])\n",
    "colorbar(mappable=heatmap)\n",
    "ax.set_aspect(\"equal\")\n",
    "tight_layout()\n",
    "# savefig(\"boson_example_1.pdf\")"
   ]
  },
  {
   "cell_type": "code",
   "execution_count": null,
   "metadata": {
    "scrolled": true
   },
   "outputs": [],
   "source": [
    "xpad = 8\n",
    "ypad = 5\n",
    "\n",
    "figure(figsize=(7, 3))\n",
    "\n",
    "ax = subplot(121)\n",
    "plot(t_scale * taus, ρ_11_wigner[:, Int(floor(length(taus)/2))], ls=\"--\", c=\"C3\", label=L\"i=1\", lw=1.5) # fixed T\n",
    "plot(t_scale * taus, ρ_22_wigner[:, Int(floor(length(taus)/2))], ls=\"-\", c=\"C0\", label=L\"i=2\", lw=1.5)\n",
    "ax.set_xlabel(L\"\\lambda \\tau\")\n",
    "ax.set_xlim(-t_scale * T/2, t_scale * T/2)\n",
    "ax.set_ylim(-0.5, 1.0)\n",
    "ax.set_xticks(t_scale .* [-T/2, -T/4, 0, T/4, T/2])\n",
    "ax.xaxis.set_tick_params(pad=xpad)\n",
    "ax.yaxis.set_tick_params(pad=ypad)\n",
    "ax.set_ylabel(L\"\\textrm{Re}\\, A_{ii}(T, \\tau)_W\")\n",
    "ax.legend(loc=\"best\", handlelength=1.4, frameon=false, borderpad=0, labelspacing=0.25)\n",
    "\n",
    "ax = subplot(122)\n",
    "plot(ω_scale * ωs, ρ_11_FFT[:, Int(floor(length(taus)/2))], ls=\"--\", c=\"C3\", lw=1.5)\n",
    "plot(ω_scale * ωs, ρ_22_FFT[:, Int(floor(length(taus)/2))], ls=\"-\", c=\"C0\", lw=1.5)\n",
    "ax.set_xlabel(L\"\\omega/\\lambda\")\n",
    "ax.set_xlim(10 .* (-1, 1))\n",
    "ax.set_xticks([-10, -5, 0, 5, 10])\n",
    "ax.xaxis.set_tick_params(pad=xpad)\n",
    "ax.yaxis.set_tick_params(pad=ypad)\n",
    "ax.set_ylabel(L\"\\textrm{Re}\\, A_{ii}(T, \\omega)_{\\tilde{W}}\", labelpad=16)\n",
    "ax.yaxis.set_label_position(\"right\")\n",
    "ax.yaxis.set_ticks_position(\"both\")\n",
    "tight_layout(pad=0.1, w_pad=0.5, h_pad=0)\n",
    "\n",
    "# savefig(\"boson_example_2.pdf\")"
   ]
  },
  {
   "cell_type": "code",
   "execution_count": null,
   "metadata": {},
   "outputs": [],
   "source": []
  }
 ],
 "metadata": {
  "kernelspec": {
   "display_name": "Julia 1.6.0",
   "language": "julia",
   "name": "julia-1.6"
  },
  "language_info": {
   "file_extension": ".jl",
   "mimetype": "application/julia",
   "name": "julia",
   "version": "1.6.0"
  }
 },
 "nbformat": 4,
 "nbformat_minor": 2
}
