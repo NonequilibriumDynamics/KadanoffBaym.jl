{
 "cells": [
  {
   "cell_type": "markdown",
   "metadata": {},
   "source": [
    "# Fermionic Dimer"
   ]
  },
  {
   "cell_type": "code",
   "execution_count": null,
   "metadata": {},
   "outputs": [],
   "source": [
    "using Pkg; Pkg.activate()\n",
    "using KadanoffBaym\n",
    "using LinearAlgebra"
   ]
  },
  {
   "cell_type": "code",
   "execution_count": null,
   "metadata": {},
   "outputs": [],
   "source": [
    "using PyPlot\n",
    "PyPlot.plt.style.use(\"./paper.mplstyle\")\n",
    "using LaTeXStrings"
   ]
  },
  {
   "cell_type": "markdown",
   "metadata": {},
   "source": [
    "## Model"
   ]
  },
  {
   "cell_type": "markdown",
   "metadata": {},
   "source": [
    "### Tight-binding Hamiltonian:\n",
    "\n",
    "\\begin{align}\\begin{split}\n",
    "\t\\hat{H} &= \\sum_{i=1}^L \\varepsilon_i \\hat{c}_i^{\\dagger} \\hat{c}_i^{\\phantom{\\dagger}} + J \\sum_{\\langle i, j\\rangle}\\left(\\hat{c}_i^{\\dagger} \\hat{c}_j^{\\phantom{\\dagger}} + \\hat{c}_j^{\\dagger} \\hat{c}_i^{\\phantom{\\dagger}}\\right)\n",
    "\\end{split}\\end{align}\n",
    "\n",
    "### Green functions\n",
    "\n",
    "\\begin{align}\\begin{split}\n",
    "\t\\left[\\boldsymbol{G}^>(t, t')\\right]_{ij} &= G^>_{ij}(t, t') = -i\\left\\langle{\\hat{c}_i^{\\phantom{\\dagger}}(t)\\hat{c}_j^{{\\dagger}}(t')}\\right\\rangle \\\\\n",
    "\t\\left[\\boldsymbol{G}^<(t, t')\\right]_{ij} &= G^<_{ij}(t, t') = \\phantom{-} i\\left\\langle{\\hat{c}_j^{{\\dagger}}(t')\\hat{c}_i^{\\phantom{\\dagger}}(t)}\\right\\rangle\n",
    "\\end{split}\\end{align}\n",
    "\n",
    "### Equations of motion\n",
    "\n",
    "\\begin{align}\\begin{split}\n",
    "\ti\\partial_t \\boldsymbol{G}^{\\lessgtr}(t, t') &= \\boldsymbol{H} \\boldsymbol{G}^{\\lessgtr}(t, t') \\\\\n",
    "\ti\\partial_T \\boldsymbol{G}^{\\lessgtr}(T, 0)_W &= [\\boldsymbol{H},\\boldsymbol{G}^{\\lessgtr}(T, 0)_W]\n",
    "\\end{split}\\end{align}\n",
    "\n",
    "\\begin{align}\\begin{split}\n",
    "\t\\boldsymbol{H} &= \n",
    "\t\\begin{pmatrix}\n",
    "\t\t\\varepsilon_1 & J      &        &   \\\\\n",
    "\t\tJ             & \\ddots & \\ddots &   \\\\\n",
    "\t\t              & \\ddots & \\ddots & J \\\\\n",
    "\t\t              &        & J & \\varepsilon_L \n",
    "\t\\end{pmatrix}\n",
    "\\end{split}\\end{align}"
   ]
  },
  {
   "cell_type": "markdown",
   "metadata": {},
   "source": [
    "## Solving the dimer model"
   ]
  },
  {
   "cell_type": "code",
   "execution_count": null,
   "metadata": {
    "ExecuteTime": {
     "end_time": "2019-12-09T15:16:31.897000+01:00",
     "start_time": "2019-12-09T14:16:31.871Z"
    }
   },
   "outputs": [],
   "source": [
    "# final time\n",
    "T = 5.0\n",
    "\n",
    "# Hamiltonian matrix\n",
    "ε₁ = 1.0\n",
    "ε₂ = -1.0\n",
    "J = 20.0\n",
    "H = ComplexF64[ε₁ J; J ε₂];"
   ]
  },
  {
   "cell_type": "code",
   "execution_count": null,
   "metadata": {},
   "outputs": [],
   "source": [
    "# quantum numbers\n",
    "dim = 2\n",
    "\n",
    "# Allocate the initial Green functions (time arguments at the end)\n",
    "GL = GreenFunction(zeros(ComplexF64, dim, dim, 1, 1), SkewHermitian)\n",
    "GG = GreenFunction(zeros(ComplexF64, dim, dim, 1, 1), SkewHermitian)\n",
    "\n",
    "# initial condition\n",
    "N_0 = 1.0\n",
    "\n",
    "GL[1, 1, 1, 1] = 1.0im * N_0\n",
    "GG[:, :, 1, 1] = -1.0im .* diagm([1.0, 1.0]) .+ GL[:, :, 1, 1]\n",
    "\n",
    "# right-hand side for the \"vertical\" evolution\n",
    "function fv!(out, times, t1, t2)\n",
    "    out[1] = -1.0im * H * GL[t1, t2]\n",
    "    out[2] = -1.0im * H * GG[t1, t2]\n",
    "end\n",
    "\n",
    "# right-hand side for the \"diagonal\" evolution\n",
    "function fd!(out, times, t1, t2)\n",
    "  fv!(out, times, t1, t2)\n",
    "  out[1] .-= adjoint(out[1])\n",
    "  out[2] .-= adjoint(out[2])\n",
    "end\n",
    "\n",
    "# Analytic result\n",
    "ana(t1, t2) = exp(-1.0im * H * t1) * GL[:, :, 1, 1] * exp(1.0im * H * t2);"
   ]
  },
  {
   "cell_type": "code",
   "execution_count": null,
   "metadata": {},
   "outputs": [],
   "source": [
    "# call the solver\n",
    "sol = kbsolve!(fv!, fd!, [GL, GG], (0.0, T); atol=1e-9, rtol=1e-7);"
   ]
  },
  {
   "cell_type": "markdown",
   "metadata": {},
   "source": [
    "## Example plots"
   ]
  },
  {
   "cell_type": "code",
   "execution_count": null,
   "metadata": {},
   "outputs": [],
   "source": [
    "# two quantum numbers to plot\n",
    "idx1 = 1\n",
    "idx2 = 1;"
   ]
  },
  {
   "cell_type": "code",
   "execution_count": null,
   "metadata": {
    "scrolled": true
   },
   "outputs": [],
   "source": [
    "xpad = 8\n",
    "ypad = 5\n",
    "\n",
    "figure(figsize=(7, 3))\n",
    "\n",
    "ax = subplot(121)\n",
    "plot(J .* sol.t, [imag(GL.data[idx1, idx2, k, k]) for k in 1:length(sol.t)], marker=\"\", ms=3.0, ls=\"-\", c=\"C0\")\n",
    "ax.set_xlim(0, J * 1)\n",
    "ax.set_ylim(0, N_0)\n",
    "ax.set_xticks(J .* [0, 0.5, 1])\n",
    "ax.set_yticks([0, 0.5, 1])\n",
    "ax.set_xlabel(L\"J t\")\n",
    "ax.set_ylabel(L\"\\mathrm{Im}G^<_{11}(t, t)\")\n",
    "ax.xaxis.set_tick_params(pad=xpad)\n",
    "ax.yaxis.set_tick_params(pad=ypad)\n",
    "ax.set_axisbelow(false)\n",
    "ticklabel_format(axis=\"y\", style=\"sci\", scilimits=(-0, 0))\n",
    "\n",
    "ax = subplot(122)\n",
    "plot(J .* sol.t, [imag(GL.data[idx1, idx2, k, k] - ana(sol.t[k], sol.t[k])[idx1, idx2]) for k in eachindex(sol.t)], marker=\"\", ms=3.0, ls=\"-\", c=\"r\")\n",
    "ax.set_xlim(0, J * 5)\n",
    "ax.set_ylim((-5, 5) .* 1e-4)\n",
    "ax.set_xticks(J .* [0, 1, 2, 3, 4, 5])\n",
    "ax.set_xlabel(L\"J t\")\n",
    "ax.set_ylabel(L\"\\mathrm{Im}\\left[G^<_{11}(t, t) - \\mathcal{G}^<_{11}(t, t)\\right]\", labelpad=16)\n",
    "ax.xaxis.set_tick_params(pad=xpad)\n",
    "ax.yaxis.set_tick_params(pad=ypad)\n",
    "ax.yaxis.set_label_position(\"right\")\n",
    "ax.set_axisbelow(false)\n",
    "ticklabel_format(axis=\"y\", style=\"sci\", scilimits=(-0, 0))\n",
    "\n",
    "tight_layout(pad=0.1, w_pad=0.75, h_pad=0)\n",
    "# savefig(\"fermion_example_1.pdf\")"
   ]
  },
  {
   "cell_type": "markdown",
   "metadata": {},
   "source": [
    "## Adaptive vs fixed step size"
   ]
  },
  {
   "cell_type": "code",
   "execution_count": null,
   "metadata": {
    "scrolled": true
   },
   "outputs": [],
   "source": [
    "# short final time\n",
    "T = 0.02;\n",
    "\n",
    "sol_adaptive = kbsolve!(fv!, fd!, [GL, GG], (0.0, T); dtini=1e-8, atol=1e-14, rtol=1e-5, γ=99/100);\n",
    "dts_adaptive = sol_adaptive.t[2:end] .- sol_adaptive.t[1:end-1];\n",
    "@show size(dts_adaptive)\n",
    "@show error = let\n",
    "  s = [ana(t1, t2)[1, 1] for t1 in sol_adaptive.t, t2 in sol_adaptive.t]\n",
    "  e = abs.((GL[1,1,:,:] - s) ./ s)\n",
    "  sum(e) / *(size(e)...)\n",
    "end\n",
    "\n",
    "\n",
    "sol_fixed = kbsolve!(fv!, fd!, [GL, GG], (0.0, T); dtini=1e-8, rtol=1e-5, dtmax=5e-4, atol=1e-14, γ=1)\n",
    "dts_fixed = sol_fixed.t[2:end] .- sol_fixed.t[1:end-1];\n",
    "@show size(dts_fixed)\n",
    "@show error = let\n",
    "  s = [ana(t1, t2)[1, 1] for t1 in sol_fixed.t, t2 in sol_fixed.t]\n",
    "  e = abs.((GL[1,1,:,:] - s) ./ s)\n",
    "  sum(e) / *(size(e)...)\n",
    "end;\n",
    "\n",
    "sol_fixed2 = kbsolve!(fv!, fd!, [GL, GG], (0.0, T); dtini=5e-4, rtol=1e0, dtmax=5e-4, atol=1e-14, γ=1)\n",
    "dts_fixed2 = sol_fixed2.t[2:end] .- sol_fixed2.t[1:end-1];\n",
    "@show size(dts_fixed2)\n",
    "@show error = let\n",
    "  s = [ana(t1, t2)[1, 1] for t1 in sol_fixed2.t, t2 in sol_fixed2.t]\n",
    "  e = abs.((GL[1,1,:,:] - s) ./ s)\n",
    "  sum(e) / *(size(e)...)\n",
    "end;"
   ]
  },
  {
   "cell_type": "code",
   "execution_count": null,
   "metadata": {},
   "outputs": [],
   "source": [
    "fig = figure(figsize=(3.5, 3))\n",
    "ax = fig.add_subplot(111)\n",
    "\n",
    "# we discard the points that are outside of ylim (since we are drawing on top of the canvas)\n",
    "ax.semilogy(J .* sol_adaptive.t[10:end], dts_adaptive[9:end], \"s-C0\", lw=1.5, ms=5, label=\"adaptive\", markeredgecolor=\"#22577c\", clip_on=false, zorder=100)\n",
    "ax.semilogy(J .* sol_fixed.t[10:end], dts_fixed[9:end], \"o-C3\", lw=1, ms=4, label=\"semi-fixed\", alpha=0.9, clip_on=false, zorder=100)\n",
    "ax.semilogy(J .* sol_fixed2.t[2:end], dts_fixed2, \"o-k\", lw=1, ms=2, label=\"fixed\", zorder=100)\n",
    "\n",
    "ax.tick_params(axis=\"y\", which=\"minor\")\n",
    "xlim(0-3e-4, T+3e-4)\n",
    "xlim(0, J * T)\n",
    "ylim(1e-5, 1e-2)\n",
    "\n",
    "xlabel(L\"J t\")\n",
    "ylabel(L\"h\")\n",
    "legend(loc=\"lower right\", frameon=false, labelspacing=0.2, borderpad=0.0, handlelength=1.5, fontsize=15)\n",
    "tight_layout(pad=0.3)\n",
    "# savefig(\"fermion_example_adaptive_dt.pdf\")"
   ]
  },
  {
   "cell_type": "markdown",
   "metadata": {},
   "source": [
    "## Error scaling"
   ]
  },
  {
   "cell_type": "code",
   "execution_count": null,
   "metadata": {},
   "outputs": [],
   "source": [
    "using LsqFit"
   ]
  },
  {
   "cell_type": "code",
   "execution_count": null,
   "metadata": {
    "scrolled": true
   },
   "outputs": [],
   "source": [
    "epsilons = [10^(-k) for k in range(3, 10; length=34)]\n",
    "\n",
    "err_data = []\n",
    "p_norm = 1\n",
    "\n",
    "for (k, eps) in enumerate(epsilons)\n",
    "    print(\"$k, \")\n",
    "    \n",
    "    sol = kbsolve!(fv!, fd!, [GL, GG], (0.0, 5.0); dtini=1e-10, atol=1e-2eps, rtol=eps, kmax=9);\n",
    "    \n",
    "    err = norm(\n",
    "    [GL.data[idx1, idx2, t1, t2] - ana(sol.t[t1], sol.t[t2])[idx1, idx2] for t1 in eachindex(sol.t), t2 in eachindex(sol.t)], p_norm)\n",
    "    \n",
    "    push!(err_data, (length(sol.t), err / length(sol.t)^2, eps))\n",
    "end"
   ]
  },
  {
   "cell_type": "code",
   "execution_count": null,
   "metadata": {},
   "outputs": [],
   "source": [
    "xdata = log10.([x[1] for x in err_data])\n",
    "ydata = log10.([x[2] for x in err_data]);"
   ]
  },
  {
   "cell_type": "code",
   "execution_count": null,
   "metadata": {},
   "outputs": [],
   "source": [
    "fit_func = (n, p) -> -p[1] .* n .+ p[2];\n",
    "fit_result = curve_fit(fit_func, xdata, ydata, [2.0, 1]);\n",
    "coef(fit_result)"
   ]
  },
  {
   "cell_type": "code",
   "execution_count": null,
   "metadata": {
    "scrolled": false
   },
   "outputs": [],
   "source": [
    "figure(figsize=(7, 3))\n",
    "\n",
    "ax = subplot(121)\n",
    "plot(xdata, map(x -> fit_func(x, coef(fit_result)), xdata), \"--k\", lw=2,\n",
    "     label=L\"\\mathcal{O}(h^{%$(floor(coef(fit_result)[1], sigdigits=4))})\")\n",
    "plot(xdata, ydata, \"o\", lw=0, ms=6,\n",
    "     markerfacecolor=\"C0\", markeredgewidth=0.25, markeredgecolor=\"#2D5FAA\")\n",
    "ax.set_xlabel(L\"\\log(n)\")\n",
    "ax.set_ylabel(L\"\\log(\\epsilon_{11})\")\n",
    "legend(loc=\"best\", handlelength=1.8, frameon=false, borderpad=0, labelspacing=0)\n",
    "\n",
    "ax = subplot(122)\n",
    "plot(log10.([x[3] for x in err_data]), log10.([x[1] for x in err_data]), \"o\", ms=5,\n",
    "     markerfacecolor=\"C0\", markeredgewidth=0.25, markeredgecolor=\"#2D5FAA\")\n",
    "ax.set_xlim(-2, -10.3)\n",
    "ax.set_xticks([-2, -4, -6, -8, -10])\n",
    "ax.yaxis.set_label_position(\"right\")\n",
    "ax.set_xlabel(L\"\\log(\\texttt{rtol})\")\n",
    "ax.set_ylabel(L\"\\log(n)\", labelpad=16)\n",
    "\n",
    "tight_layout(pad=0.1, w_pad=0.75, h_pad=0)\n",
    "# savefig(\"fermion_example_error_scaling.pdf\")"
   ]
  },
  {
   "cell_type": "code",
   "execution_count": null,
   "metadata": {},
   "outputs": [],
   "source": []
  }
 ],
 "metadata": {
  "kernelspec": {
   "display_name": "Julia 1.6.0",
   "language": "julia",
   "name": "julia-1.6"
  },
  "language_info": {
   "file_extension": ".jl",
   "mimetype": "application/julia",
   "name": "julia",
   "version": "1.6.0"
  }
 },
 "nbformat": 4,
 "nbformat_minor": 2
}
